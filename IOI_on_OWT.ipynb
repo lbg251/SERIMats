{
 "cells": [
  {
   "cell_type": "code",
   "execution_count": 30,
   "metadata": {},
   "outputs": [],
   "source": [
    "# Import stuff\n",
    "import torch as t\n",
    "import numpy as np\n",
    "# Plotly needs a different renderer for VSCode/Notebooks vs Colab\n",
    "import plotly.io as pio\n",
    "pio.renderers.default = \"notebook_connected\"\n",
    "import plotly.express as px\n",
    "import einops\n",
    "import plotly.graph_objects as go \n",
    "from functools import partial\n",
    "import tqdm.auto as tqdm\n",
    "import circuitsvis as cv\n",
    "from transformer_lens.hook_points import HookPoint\n",
    "from transformer_lens import utils, HookedTransformer, ActivationCache\n",
    "from transformer_lens.components import Embed, Unembed, LayerNorm, MLP\n",
    "from fancy_einsum import einsum\n",
    "from jaxtyping import Float, Int, Bool\n",
    "import re\n",
    "import random\n",
    "from IPython.display import display\n",
    "from bs4 import BeautifulSoup\n"
   ]
  },
  {
   "cell_type": "code",
   "execution_count": 28,
   "metadata": {},
   "outputs": [
    {
     "name": "stdout",
     "output_type": "stream",
     "text": [
      "32 42211\n"
     ]
    }
   ],
   "source": [
    "# Read HTML file\n",
    "with open('owt__1000_samples.html', 'r') as file:\n",
    "    html_data = file.read()\n",
    "\n",
    "# Parse HTML using BeautifulSoup\n",
    "soup = BeautifulSoup(html_data, 'html.parser')\n",
    "\n",
    "\n",
    "sentences = re.split(r'[.!?]+', soup.get_text().strip())\n",
    "\n",
    "pattern = r'\\b\\w+\\b\\s+(?:\\w+\\s+)*(?:gave\\sto|said\\sto|heard\\s+from)\\s+\\b\\w+\\b.*$'\n",
    "\n",
    "# Iterate through examples and filter based on the regex pattern\n",
    "filtered_examples = []\n",
    "for example in sentences:\n",
    "    if re.search(pattern, example):\n",
    "        filtered_examples.append(example)\n",
    "\n",
    "print(len(filtered_examples), len(sentences))\n",
    "\n"
   ]
  },
  {
   "cell_type": "code",
   "execution_count": 39,
   "metadata": {},
   "outputs": [
    {
     "name": "stdout",
     "output_type": "stream",
     "text": [
      "['Max and Anna went to the store, and Max gave to Anna'] 1\n",
      "<re.Match object; span=(40, 52), match='gave to Anna'>\n"
     ]
    }
   ],
   "source": [
    "\n",
    "\n",
    "sentences = ['Max and Anna went to the store, and Max gave to Anna']\n",
    "\n",
    "pattern = r'(?:gave\\sto|said\\sto|heard\\s+from)\\s+[A-Z][a-z]*$'\n",
    "\n",
    "filtered_examples = []\n",
    "for example in sentences:\n",
    "    if re.search(pattern, example):\n",
    "        filtered_examples.append(example)\n",
    "\n",
    "print(filtered_examples, len(sentences))\n",
    "\n",
    "print(re.search(pattern, example))\n"
   ]
  },
  {
   "cell_type": "code",
   "execution_count": null,
   "metadata": {},
   "outputs": [],
   "source": [
    "\n",
    "\n",
    "\n"
   ]
  },
  {
   "cell_type": "code",
   "execution_count": null,
   "metadata": {},
   "outputs": [],
   "source": []
  }
 ],
 "metadata": {
  "kernelspec": {
   "display_name": "torch-gpu-clone",
   "language": "python",
   "name": "python3"
  },
  "language_info": {
   "codemirror_mode": {
    "name": "ipython",
    "version": 3
   },
   "file_extension": ".py",
   "mimetype": "text/x-python",
   "name": "python",
   "nbconvert_exporter": "python",
   "pygments_lexer": "ipython3",
   "version": "3.10.9"
  },
  "orig_nbformat": 4
 },
 "nbformat": 4,
 "nbformat_minor": 2
}
