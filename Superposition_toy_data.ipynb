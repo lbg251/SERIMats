{
 "cells": [
  {
   "cell_type": "code",
   "execution_count": 5,
   "metadata": {},
   "outputs": [],
   "source": [
    "# Import stuff\n",
    "import torch as t\n",
    "import numpy as np\n",
    "# Plotly needs a different renderer for VSCode/Notebooks vs Colab argh\n",
    "import plotly.io as pio\n",
    "pio.renderers.default = \"notebook_connected\"\n",
    "import plotly.express as px\n",
    "import einops\n",
    "import plotly.graph_objects as go \n",
    "from functools import partial\n",
    "import tqdm.auto as tqdm\n",
    "import circuitsvis as cv\n",
    "from transformer_lens.hook_points import HookPoint\n",
    "from transformer_lens import utils, HookedTransformer, ActivationCache\n",
    "from transformer_lens.components import Embed, Unembed, LayerNorm, MLP\n",
    "from fancy_einsum import einsum\n",
    "from jaxtyping import Float, Int, Bool\n",
    "import re\n",
    "import random\n"
   ]
  },
  {
   "cell_type": "code",
   "execution_count": 2,
   "metadata": {},
   "outputs": [],
   "source": [
    "\n",
    "def imshow(tensor, renderer=None, **kwargs):\n",
    "    px.imshow(utils.to_numpy(tensor), color_continuous_midpoint=0.0, color_continuous_scale=\"RdBu\", **kwargs).show(renderer)\n",
    "\n",
    "def line(tensor, renderer=None, **kwargs):\n",
    "    px.line(y=utils.to_numpy(tensor), **kwargs).show(renderer)\n",
    "\n",
    "def scatter(x, y, xaxis=\"\", yaxis=\"\", caxis=\"\", renderer=None, **kwargs):\n",
    "    x = utils.to_numpy(x)\n",
    "    y = utils.to_numpy(y)\n",
    "    px.scatter(y=y, x=x, labels={\"x\":xaxis, \"y\":yaxis, \"color\":caxis}, **kwargs).show(renderer)"
   ]
  },
  {
   "cell_type": "code",
   "execution_count": 3,
   "metadata": {},
   "outputs": [
    {
     "name": "stderr",
     "output_type": "stream",
     "text": [
      "Using pad_token, but it is not set yet.\n"
     ]
    },
    {
     "name": "stdout",
     "output_type": "stream",
     "text": [
      "Loaded pretrained model gpt2-small into HookedTransformer\n"
     ]
    }
   ],
   "source": [
    "## turn off AD to save memory, since we're focusing on model inference here \n",
    "t.set_grad_enabled(False)\n",
    "\n",
    "device = 'cuda' if t.cuda.is_available() else 'cpu'\n",
    "model = HookedTransformer.from_pretrained('gpt2-small', device=device)"
   ]
  },
  {
   "attachments": {},
   "cell_type": "markdown",
   "metadata": {},
   "source": [
    "Studying the head outputs on different distributions\n",
    "\n",
    "Create the datasets "
   ]
  },
  {
   "cell_type": "code",
   "execution_count": 87,
   "metadata": {},
   "outputs": [
    {
     "data": {
      "text/plain": [
       "[46317, 4564, 3012, 9369, 20127, 43330, 28607, 20025]"
      ]
     },
     "execution_count": 87,
     "metadata": {},
     "output_type": "execute_result"
    }
   ],
   "source": [
    "proper_nouns = [\n",
    "    \" Goose\", \" Church\",\n",
    "    \" Google\", \" Chair\",\n",
    "    \" Bag\", \" Statue\",\n",
    "    \" Lamp\", \" Flower\"\n",
    "]\n",
    "\n",
    "nouns = [\n",
    "    \" goose\", \" church\",\n",
    "    \" google\", \" chair\",\n",
    "    \" bag\", \" statue\",\n",
    "    \" lamp\", \" flower\"\n",
    "]\n",
    "\n",
    "multi_names_religious = [\n",
    "    \" Mary\", \" Joseph\",\n",
    "    \" Abraham\", \" Paul\",\n",
    "    \" Isaac\", \" Noah\",\n",
    "    \" Jacob\", \" Jesus\"\n",
    "]\n",
    "\n",
    "multi_names_places = [\n",
    "    \" Paris\", \" London\",\n",
    "    \" Madison\", \" Phoenix\",\n",
    "    \" Devon\", \" Florence\",\n",
    "    \" Austin\", \" Brooklyn\"\n",
    "]\n",
    "\n",
    "test = proper_nouns\n",
    "[model.to_single_token(test[i]) for i in range(len(test))]\n"
   ]
  },
  {
   "cell_type": "code",
   "execution_count": 171,
   "metadata": {},
   "outputs": [],
   "source": [
    "\n",
    "\n",
    "\n",
    "def get_dataset(N, names):\n",
    "    prompts = []\n",
    "    # List of answers, in the format (correct, incorrect)\n",
    "    answers = []\n",
    "    # List of the token (ie an integer) corresponding to each answer, in the format (correct_token, incorrect_token)\n",
    "    answer_tokens = []\n",
    "    for _ in range(N):\n",
    "        S1, S2 = random.sample(names,2)\n",
    "        answers.append((S1,S2))\n",
    "        answers.append((S2,S1))\n",
    "        prompt1 = f'When {S1} and {S2} went to the shops,{S2} gave the bag to'\n",
    "        prompt2 = f'When {S1} and {S2} went to the shops,{S1} gave the bag to'\n",
    "        prompts.append(prompt1)\n",
    "        prompts.append(prompt2)\n",
    "\n",
    "        answer_tokens.append((model.to_single_token(answers[-1][0]),model.to_single_token(answers[-1][1])))\n",
    "        answer_tokens.append((model.to_single_token(answers[-1][1]),model.to_single_token(answers[-1][0])))\n",
    "    assert len(set([len(model.to_str_tokens(prompt)) for prompt in prompts])) == 1\n",
    "    answer_tokens = t.tensor(answer_tokens).to(device)\n",
    "    return prompts, answers, answer_tokens\n",
    "\n"
   ]
  },
  {
   "cell_type": "code",
   "execution_count": 172,
   "metadata": {},
   "outputs": [],
   "source": [
    "prompts_rel, ans_rel, ans_toks_rel = get_dataset(10,multi_names_religious)\n",
    "prompts_pl, ans_pl, ans_toks_pl = get_dataset(10,multi_names_places)\n",
    "prompts_n, ans_n, ans_toks_n = get_dataset(10,nouns)\n",
    "prompts_pn, ans_pn, ans_toks_pn = get_dataset(10,proper_nouns)\n",
    "\n"
   ]
  },
  {
   "cell_type": "code",
   "execution_count": 173,
   "metadata": {},
   "outputs": [],
   "source": [
    "from rich.table import Table, Column\n",
    "from rich import print as rprint\n"
   ]
  },
  {
   "cell_type": "code",
   "execution_count": 174,
   "metadata": {},
   "outputs": [],
   "source": [
    "control_prompts = ['When John and Mary went to the shops, John gave the bag to',\n",
    " 'When John and Mary went to the shops, Mary gave the bag to',\n",
    " 'When Tom and James went to the park, James gave the ball to',\n",
    " 'When Tom and James went to the park, Tom gave the ball to',\n",
    " 'When Dan and Sid went to the shops, Sid gave an apple to',\n",
    " 'When Dan and Sid went to the shops, Dan gave an apple to',\n",
    " 'After Martin and Amy went to the park, Amy gave a drink to',\n",
    " 'After Martin and Amy went to the park, Martin gave a drink to']\n",
    "\n",
    "control_answers = [(' Mary', ' John'),\n",
    " (' John', ' Mary'),\n",
    " (' Tom', ' James'),\n",
    " (' James', ' Tom'),\n",
    " (' Dan', ' Sid'),\n",
    " (' Sid', ' Dan'),\n",
    " (' Martin', ' Amy'),\n",
    " (' Amy', ' Martin')]\n",
    "\n",
    "control_ans_prompts = t.tensor([[ 5335,  1757],\n",
    "        [ 1757,  5335],\n",
    "        [ 4186,  3700],\n",
    "        [ 3700,  4186],\n",
    "        [ 6035, 15686],\n",
    "        [15686,  6035],\n",
    "        [ 5780, 14235],\n",
    "        [14235,  5780]])\n",
    "\n"
   ]
  },
  {
   "cell_type": "code",
   "execution_count": 175,
   "metadata": {},
   "outputs": [
    {
     "name": "stdout",
     "output_type": "stream",
     "text": [
      "torch.Size([20, 17, 50257])\n"
     ]
    }
   ],
   "source": [
    "print(model(prompts_n).shape)\n",
    "\n",
    "def ave_logit_diff(prompts, answer_tokens, per_prompt = False):\n",
    "    final_logits = model(prompts)[:,-1,:]\n",
    "    answer_logits = final_logits.gather(dim = -1, index = answer_tokens)\n",
    "    answer_logit_diff = answer_logits[:,0] - answer_logits[:,1]\n",
    "    if per_prompt:\n",
    "        return answer_logit_diff \n",
    "    else:\n",
    "        return answer_logit_diff.mean()\n",
    "\n"
   ]
  },
  {
   "cell_type": "code",
   "execution_count": 176,
   "metadata": {},
   "outputs": [],
   "source": [
    "def make_table(prompts, answers, answer_tokens, title):\n",
    "    cols = [\n",
    "        \"Prompt\", \n",
    "        Column(\"Correct\", style=\"rgb(0,200,0) bold\"), \n",
    "        Column(\"Incorrect\", style=\"rgb(255,0,0) bold\"), \n",
    "        Column(\"Logit Difference\", style=\"bold\")\n",
    "    ]\n",
    "    logit_diffs = ave_logit_diff(prompts,answer_tokens, per_prompt = True)\n",
    "    \n",
    "    ave_logits = ave_logit_diff(prompts,answer_tokens, per_prompt = False)\n",
    "    logit_diff_table = Table(*cols, title=title + f\": Ave logit diff = {ave_logits.item():.3f}\")\n",
    "    logit_diffs = ave_logit_diff(prompts,answer_tokens, per_prompt = True)\n",
    "    \n",
    "    ave_logits = ave_logit_diff(prompts,answer_tokens, per_prompt = False)\n",
    "                                 \n",
    "    ave_logit_diff(prompts, answer_tokens)\n",
    "    for prompt, ans, logit_diff in zip(prompts, answers,logit_diffs):\n",
    "        logit_diff_table.add_row(prompt, ans[0], ans[1], f\"{logit_diff.item():.3f}\")\n",
    "    rprint(logit_diff_table)"
   ]
  },
  {
   "cell_type": "code",
   "execution_count": 177,
   "metadata": {},
   "outputs": [
    {
     "data": {
      "text/html": [
       "<pre style=\"white-space:pre;overflow-x:auto;line-height:normal;font-family:Menlo,'DejaVu Sans Mono',consolas,'Courier New',monospace\"><span style=\"font-style: italic\">                                  Control Names: Ave logit diff = 3.552                                   </span>\n",
       "┏━━━━━━━━━━━━━━━━━━━━━━━━━━━━━━━━━━━━━━━━━━━━━━━━━━━━━━━━━━━━━━━┳━━━━━━━━━┳━━━━━━━━━━━┳━━━━━━━━━━━━━━━━━━┓\n",
       "┃<span style=\"font-weight: bold\"> Prompt                                                        </span>┃<span style=\"font-weight: bold\"> Correct </span>┃<span style=\"font-weight: bold\"> Incorrect </span>┃<span style=\"font-weight: bold\"> Logit Difference </span>┃\n",
       "┡━━━━━━━━━━━━━━━━━━━━━━━━━━━━━━━━━━━━━━━━━━━━━━━━━━━━━━━━━━━━━━━╇━━━━━━━━━╇━━━━━━━━━━━╇━━━━━━━━━━━━━━━━━━┩\n",
       "│ When John and Mary went to the shops, John gave the bag to    │<span style=\"color: #00c800; text-decoration-color: #00c800; font-weight: bold\">  Mary   </span>│<span style=\"color: #ff0000; text-decoration-color: #ff0000; font-weight: bold\">  John     </span>│<span style=\"font-weight: bold\"> 3.337            </span>│\n",
       "│ When John and Mary went to the shops, Mary gave the bag to    │<span style=\"color: #00c800; text-decoration-color: #00c800; font-weight: bold\">  John   </span>│<span style=\"color: #ff0000; text-decoration-color: #ff0000; font-weight: bold\">  Mary     </span>│<span style=\"font-weight: bold\"> 3.202            </span>│\n",
       "│ When Tom and James went to the park, James gave the ball to   │<span style=\"color: #00c800; text-decoration-color: #00c800; font-weight: bold\">  Tom    </span>│<span style=\"color: #ff0000; text-decoration-color: #ff0000; font-weight: bold\">  James    </span>│<span style=\"font-weight: bold\"> 2.709            </span>│\n",
       "│ When Tom and James went to the park, Tom gave the ball to     │<span style=\"color: #00c800; text-decoration-color: #00c800; font-weight: bold\">  James  </span>│<span style=\"color: #ff0000; text-decoration-color: #ff0000; font-weight: bold\">  Tom      </span>│<span style=\"font-weight: bold\"> 3.797            </span>│\n",
       "│ When Dan and Sid went to the shops, Sid gave an apple to      │<span style=\"color: #00c800; text-decoration-color: #00c800; font-weight: bold\">  Dan    </span>│<span style=\"color: #ff0000; text-decoration-color: #ff0000; font-weight: bold\">  Sid      </span>│<span style=\"font-weight: bold\"> 1.720            </span>│\n",
       "│ When Dan and Sid went to the shops, Dan gave an apple to      │<span style=\"color: #00c800; text-decoration-color: #00c800; font-weight: bold\">  Sid    </span>│<span style=\"color: #ff0000; text-decoration-color: #ff0000; font-weight: bold\">  Dan      </span>│<span style=\"font-weight: bold\"> 5.281            </span>│\n",
       "│ After Martin and Amy went to the park, Amy gave a drink to    │<span style=\"color: #00c800; text-decoration-color: #00c800; font-weight: bold\">  Martin </span>│<span style=\"color: #ff0000; text-decoration-color: #ff0000; font-weight: bold\">  Amy      </span>│<span style=\"font-weight: bold\"> 2.601            </span>│\n",
       "│ After Martin and Amy went to the park, Martin gave a drink to │<span style=\"color: #00c800; text-decoration-color: #00c800; font-weight: bold\">  Amy    </span>│<span style=\"color: #ff0000; text-decoration-color: #ff0000; font-weight: bold\">  Martin   </span>│<span style=\"font-weight: bold\"> 5.767            </span>│\n",
       "└───────────────────────────────────────────────────────────────┴─────────┴───────────┴──────────────────┘\n",
       "</pre>\n"
      ],
      "text/plain": [
       "\u001b[3m                                  Control Names: Ave logit diff = 3.552                                   \u001b[0m\n",
       "┏━━━━━━━━━━━━━━━━━━━━━━━━━━━━━━━━━━━━━━━━━━━━━━━━━━━━━━━━━━━━━━━┳━━━━━━━━━┳━━━━━━━━━━━┳━━━━━━━━━━━━━━━━━━┓\n",
       "┃\u001b[1m \u001b[0m\u001b[1mPrompt                                                       \u001b[0m\u001b[1m \u001b[0m┃\u001b[1m \u001b[0m\u001b[1mCorrect\u001b[0m\u001b[1m \u001b[0m┃\u001b[1m \u001b[0m\u001b[1mIncorrect\u001b[0m\u001b[1m \u001b[0m┃\u001b[1m \u001b[0m\u001b[1mLogit Difference\u001b[0m\u001b[1m \u001b[0m┃\n",
       "┡━━━━━━━━━━━━━━━━━━━━━━━━━━━━━━━━━━━━━━━━━━━━━━━━━━━━━━━━━━━━━━━╇━━━━━━━━━╇━━━━━━━━━━━╇━━━━━━━━━━━━━━━━━━┩\n",
       "│ When John and Mary went to the shops, John gave the bag to    │\u001b[1;38;2;0;200;0m \u001b[0m\u001b[1;38;2;0;200;0m Mary  \u001b[0m\u001b[1;38;2;0;200;0m \u001b[0m│\u001b[1;38;2;255;0;0m \u001b[0m\u001b[1;38;2;255;0;0m John    \u001b[0m\u001b[1;38;2;255;0;0m \u001b[0m│\u001b[1m \u001b[0m\u001b[1m3.337           \u001b[0m\u001b[1m \u001b[0m│\n",
       "│ When John and Mary went to the shops, Mary gave the bag to    │\u001b[1;38;2;0;200;0m \u001b[0m\u001b[1;38;2;0;200;0m John  \u001b[0m\u001b[1;38;2;0;200;0m \u001b[0m│\u001b[1;38;2;255;0;0m \u001b[0m\u001b[1;38;2;255;0;0m Mary    \u001b[0m\u001b[1;38;2;255;0;0m \u001b[0m│\u001b[1m \u001b[0m\u001b[1m3.202           \u001b[0m\u001b[1m \u001b[0m│\n",
       "│ When Tom and James went to the park, James gave the ball to   │\u001b[1;38;2;0;200;0m \u001b[0m\u001b[1;38;2;0;200;0m Tom   \u001b[0m\u001b[1;38;2;0;200;0m \u001b[0m│\u001b[1;38;2;255;0;0m \u001b[0m\u001b[1;38;2;255;0;0m James   \u001b[0m\u001b[1;38;2;255;0;0m \u001b[0m│\u001b[1m \u001b[0m\u001b[1m2.709           \u001b[0m\u001b[1m \u001b[0m│\n",
       "│ When Tom and James went to the park, Tom gave the ball to     │\u001b[1;38;2;0;200;0m \u001b[0m\u001b[1;38;2;0;200;0m James \u001b[0m\u001b[1;38;2;0;200;0m \u001b[0m│\u001b[1;38;2;255;0;0m \u001b[0m\u001b[1;38;2;255;0;0m Tom     \u001b[0m\u001b[1;38;2;255;0;0m \u001b[0m│\u001b[1m \u001b[0m\u001b[1m3.797           \u001b[0m\u001b[1m \u001b[0m│\n",
       "│ When Dan and Sid went to the shops, Sid gave an apple to      │\u001b[1;38;2;0;200;0m \u001b[0m\u001b[1;38;2;0;200;0m Dan   \u001b[0m\u001b[1;38;2;0;200;0m \u001b[0m│\u001b[1;38;2;255;0;0m \u001b[0m\u001b[1;38;2;255;0;0m Sid     \u001b[0m\u001b[1;38;2;255;0;0m \u001b[0m│\u001b[1m \u001b[0m\u001b[1m1.720           \u001b[0m\u001b[1m \u001b[0m│\n",
       "│ When Dan and Sid went to the shops, Dan gave an apple to      │\u001b[1;38;2;0;200;0m \u001b[0m\u001b[1;38;2;0;200;0m Sid   \u001b[0m\u001b[1;38;2;0;200;0m \u001b[0m│\u001b[1;38;2;255;0;0m \u001b[0m\u001b[1;38;2;255;0;0m Dan     \u001b[0m\u001b[1;38;2;255;0;0m \u001b[0m│\u001b[1m \u001b[0m\u001b[1m5.281           \u001b[0m\u001b[1m \u001b[0m│\n",
       "│ After Martin and Amy went to the park, Amy gave a drink to    │\u001b[1;38;2;0;200;0m \u001b[0m\u001b[1;38;2;0;200;0m Martin\u001b[0m\u001b[1;38;2;0;200;0m \u001b[0m│\u001b[1;38;2;255;0;0m \u001b[0m\u001b[1;38;2;255;0;0m Amy     \u001b[0m\u001b[1;38;2;255;0;0m \u001b[0m│\u001b[1m \u001b[0m\u001b[1m2.601           \u001b[0m\u001b[1m \u001b[0m│\n",
       "│ After Martin and Amy went to the park, Martin gave a drink to │\u001b[1;38;2;0;200;0m \u001b[0m\u001b[1;38;2;0;200;0m Amy   \u001b[0m\u001b[1;38;2;0;200;0m \u001b[0m│\u001b[1;38;2;255;0;0m \u001b[0m\u001b[1;38;2;255;0;0m Martin  \u001b[0m\u001b[1;38;2;255;0;0m \u001b[0m│\u001b[1m \u001b[0m\u001b[1m5.767           \u001b[0m\u001b[1m \u001b[0m│\n",
       "└───────────────────────────────────────────────────────────────┴─────────┴───────────┴──────────────────┘\n"
      ]
     },
     "metadata": {},
     "output_type": "display_data"
    }
   ],
   "source": [
    "make_table(control_prompts, control_answers, control_ans_prompts, \"Control Names\")"
   ]
  },
  {
   "cell_type": "code",
   "execution_count": 183,
   "metadata": {},
   "outputs": [
    {
     "data": {
      "text/plain": [
       "[([' flower', ' church'], (' church', ' flower')),\n",
       " ([' church', ' flower'], (' flower', ' church')),\n",
       " ([' goose', ' chair'], (' chair', ' goose')),\n",
       " ([' chair', ' goose'], (' goose', ' chair')),\n",
       " ([' goose', ' flower'], (' flower', ' goose')),\n",
       " ([' flower', ' goose'], (' goose', ' flower')),\n",
       " ([' bag', ' statue'], (' statue', ' bag')),\n",
       " ([' statue', ' bag'], (' bag', ' statue')),\n",
       " ([' google', ' flower'], (' flower', ' google')),\n",
       " ([' flower', ' google'], (' google', ' flower')),\n",
       " ([' flower', ' goose'], (' goose', ' flower')),\n",
       " ([' goose', ' flower'], (' flower', ' goose')),\n",
       " ([' chair', ' statue'], (' statue', ' chair')),\n",
       " ([' statue', ' chair'], (' chair', ' statue')),\n",
       " ([' google', ' flower'], (' flower', ' google')),\n",
       " ([' flower', ' google'], (' google', ' flower')),\n",
       " ([' statue', ' lamp'], (' lamp', ' statue')),\n",
       " ([' lamp', ' statue'], (' statue', ' lamp')),\n",
       " ([' lamp', ' church'], (' church', ' lamp')),\n",
       " ([' church', ' lamp'], (' lamp', ' church'))]"
      ]
     },
     "execution_count": 183,
     "metadata": {},
     "output_type": "execute_result"
    }
   ],
   "source": [
    "[(model.to_str_tokens(ans_toks_n[k],ans_n[k]), ans_n[k]) for k in range(len(ans_toks_n))]"
   ]
  },
  {
   "cell_type": "code",
   "execution_count": 184,
   "metadata": {},
   "outputs": [
    {
     "data": {
      "text/html": [
       "<pre style=\"white-space:pre;overflow-x:auto;line-height:normal;font-family:Menlo,'DejaVu Sans Mono',consolas,'Courier New',monospace\"><span style=\"font-style: italic\">                                        nouns: Ave logit diff = -0.532                                         </span>\n",
       "┏━━━━━━━━━━━━━━━━━━━━━━━━━━━━━━━━━━━━━━━━━━━━━━━━━━━━━━━━━━━━━━━━━━━━┳━━━━━━━━━┳━━━━━━━━━━━┳━━━━━━━━━━━━━━━━━━┓\n",
       "┃<span style=\"font-weight: bold\"> Prompt                                                             </span>┃<span style=\"font-weight: bold\"> Correct </span>┃<span style=\"font-weight: bold\"> Incorrect </span>┃<span style=\"font-weight: bold\"> Logit Difference </span>┃\n",
       "┡━━━━━━━━━━━━━━━━━━━━━━━━━━━━━━━━━━━━━━━━━━━━━━━━━━━━━━━━━━━━━━━━━━━━╇━━━━━━━━━╇━━━━━━━━━━━╇━━━━━━━━━━━━━━━━━━┩\n",
       "│ When  church and  flower went to the shops, flower gave the bag to │<span style=\"color: #00c800; text-decoration-color: #00c800; font-weight: bold\">  church </span>│<span style=\"color: #ff0000; text-decoration-color: #ff0000; font-weight: bold\">  flower   </span>│<span style=\"font-weight: bold\"> -1.274           </span>│\n",
       "│ When  church and  flower went to the shops, church gave the bag to │<span style=\"color: #00c800; text-decoration-color: #00c800; font-weight: bold\">  flower </span>│<span style=\"color: #ff0000; text-decoration-color: #ff0000; font-weight: bold\">  church   </span>│<span style=\"font-weight: bold\"> 0.807            </span>│\n",
       "│ When  chair and  goose went to the shops, goose gave the bag to    │<span style=\"color: #00c800; text-decoration-color: #00c800; font-weight: bold\">  chair  </span>│<span style=\"color: #ff0000; text-decoration-color: #ff0000; font-weight: bold\">  goose    </span>│<span style=\"font-weight: bold\"> 1.643            </span>│\n",
       "│ When  chair and  goose went to the shops, chair gave the bag to    │<span style=\"color: #00c800; text-decoration-color: #00c800; font-weight: bold\">  goose  </span>│<span style=\"color: #ff0000; text-decoration-color: #ff0000; font-weight: bold\">  chair    </span>│<span style=\"font-weight: bold\"> -4.941           </span>│\n",
       "│ When  flower and  goose went to the shops, goose gave the bag to   │<span style=\"color: #00c800; text-decoration-color: #00c800; font-weight: bold\">  flower </span>│<span style=\"color: #ff0000; text-decoration-color: #ff0000; font-weight: bold\">  goose    </span>│<span style=\"font-weight: bold\"> 3.705            </span>│\n",
       "│ When  flower and  goose went to the shops, flower gave the bag to  │<span style=\"color: #00c800; text-decoration-color: #00c800; font-weight: bold\">  goose  </span>│<span style=\"color: #ff0000; text-decoration-color: #ff0000; font-weight: bold\">  flower   </span>│<span style=\"font-weight: bold\"> -5.738           </span>│\n",
       "│ When  statue and  bag went to the shops, bag gave the bag to       │<span style=\"color: #00c800; text-decoration-color: #00c800; font-weight: bold\">  statue </span>│<span style=\"color: #ff0000; text-decoration-color: #ff0000; font-weight: bold\">  bag      </span>│<span style=\"font-weight: bold\"> 2.226            </span>│\n",
       "│ When  statue and  bag went to the shops, statue gave the bag to    │<span style=\"color: #00c800; text-decoration-color: #00c800; font-weight: bold\">  bag    </span>│<span style=\"color: #ff0000; text-decoration-color: #ff0000; font-weight: bold\">  statue   </span>│<span style=\"font-weight: bold\"> -4.173           </span>│\n",
       "│ When  flower and  google went to the shops, google gave the bag to │<span style=\"color: #00c800; text-decoration-color: #00c800; font-weight: bold\">  flower </span>│<span style=\"color: #ff0000; text-decoration-color: #ff0000; font-weight: bold\">  google   </span>│<span style=\"font-weight: bold\"> 3.630            </span>│\n",
       "│ When  flower and  google went to the shops, flower gave the bag to │<span style=\"color: #00c800; text-decoration-color: #00c800; font-weight: bold\">  google </span>│<span style=\"color: #ff0000; text-decoration-color: #ff0000; font-weight: bold\">  flower   </span>│<span style=\"font-weight: bold\"> -2.673           </span>│\n",
       "│ When  goose and  flower went to the shops, flower gave the bag to  │<span style=\"color: #00c800; text-decoration-color: #00c800; font-weight: bold\">  goose  </span>│<span style=\"color: #ff0000; text-decoration-color: #ff0000; font-weight: bold\">  flower   </span>│<span style=\"font-weight: bold\"> -0.998           </span>│\n",
       "│ When  goose and  flower went to the shops, goose gave the bag to   │<span style=\"color: #00c800; text-decoration-color: #00c800; font-weight: bold\">  flower </span>│<span style=\"color: #ff0000; text-decoration-color: #ff0000; font-weight: bold\">  goose    </span>│<span style=\"font-weight: bold\"> -1.724           </span>│\n",
       "│ When  statue and  chair went to the shops, chair gave the bag to   │<span style=\"color: #00c800; text-decoration-color: #00c800; font-weight: bold\">  statue </span>│<span style=\"color: #ff0000; text-decoration-color: #ff0000; font-weight: bold\">  chair    </span>│<span style=\"font-weight: bold\"> -0.999           </span>│\n",
       "│ When  statue and  chair went to the shops, statue gave the bag to  │<span style=\"color: #00c800; text-decoration-color: #00c800; font-weight: bold\">  chair  </span>│<span style=\"color: #ff0000; text-decoration-color: #ff0000; font-weight: bold\">  statue   </span>│<span style=\"font-weight: bold\"> -0.657           </span>│\n",
       "│ When  flower and  google went to the shops, google gave the bag to │<span style=\"color: #00c800; text-decoration-color: #00c800; font-weight: bold\">  flower </span>│<span style=\"color: #ff0000; text-decoration-color: #ff0000; font-weight: bold\">  google   </span>│<span style=\"font-weight: bold\"> 3.630            </span>│\n",
       "│ When  flower and  google went to the shops, flower gave the bag to │<span style=\"color: #00c800; text-decoration-color: #00c800; font-weight: bold\">  google </span>│<span style=\"color: #ff0000; text-decoration-color: #ff0000; font-weight: bold\">  flower   </span>│<span style=\"font-weight: bold\"> -2.673           </span>│\n",
       "│ When  lamp and  statue went to the shops, statue gave the bag to   │<span style=\"color: #00c800; text-decoration-color: #00c800; font-weight: bold\">  lamp   </span>│<span style=\"color: #ff0000; text-decoration-color: #ff0000; font-weight: bold\">  statue   </span>│<span style=\"font-weight: bold\"> -1.419           </span>│\n",
       "│ When  lamp and  statue went to the shops, lamp gave the bag to     │<span style=\"color: #00c800; text-decoration-color: #00c800; font-weight: bold\">  statue </span>│<span style=\"color: #ff0000; text-decoration-color: #ff0000; font-weight: bold\">  lamp     </span>│<span style=\"font-weight: bold\"> 1.201            </span>│\n",
       "│ When  church and  lamp went to the shops, lamp gave the bag to     │<span style=\"color: #00c800; text-decoration-color: #00c800; font-weight: bold\">  church </span>│<span style=\"color: #ff0000; text-decoration-color: #ff0000; font-weight: bold\">  lamp     </span>│<span style=\"font-weight: bold\"> 0.011            </span>│\n",
       "│ When  church and  lamp went to the shops, church gave the bag to   │<span style=\"color: #00c800; text-decoration-color: #00c800; font-weight: bold\">  lamp   </span>│<span style=\"color: #ff0000; text-decoration-color: #ff0000; font-weight: bold\">  church   </span>│<span style=\"font-weight: bold\"> -0.217           </span>│\n",
       "└────────────────────────────────────────────────────────────────────┴─────────┴───────────┴──────────────────┘\n",
       "</pre>\n"
      ],
      "text/plain": [
       "\u001b[3m                                        nouns: Ave logit diff = -0.532                                         \u001b[0m\n",
       "┏━━━━━━━━━━━━━━━━━━━━━━━━━━━━━━━━━━━━━━━━━━━━━━━━━━━━━━━━━━━━━━━━━━━━┳━━━━━━━━━┳━━━━━━━━━━━┳━━━━━━━━━━━━━━━━━━┓\n",
       "┃\u001b[1m \u001b[0m\u001b[1mPrompt                                                            \u001b[0m\u001b[1m \u001b[0m┃\u001b[1m \u001b[0m\u001b[1mCorrect\u001b[0m\u001b[1m \u001b[0m┃\u001b[1m \u001b[0m\u001b[1mIncorrect\u001b[0m\u001b[1m \u001b[0m┃\u001b[1m \u001b[0m\u001b[1mLogit Difference\u001b[0m\u001b[1m \u001b[0m┃\n",
       "┡━━━━━━━━━━━━━━━━━━━━━━━━━━━━━━━━━━━━━━━━━━━━━━━━━━━━━━━━━━━━━━━━━━━━╇━━━━━━━━━╇━━━━━━━━━━━╇━━━━━━━━━━━━━━━━━━┩\n",
       "│ When  church and  flower went to the shops, flower gave the bag to │\u001b[1;38;2;0;200;0m \u001b[0m\u001b[1;38;2;0;200;0m church\u001b[0m\u001b[1;38;2;0;200;0m \u001b[0m│\u001b[1;38;2;255;0;0m \u001b[0m\u001b[1;38;2;255;0;0m flower  \u001b[0m\u001b[1;38;2;255;0;0m \u001b[0m│\u001b[1m \u001b[0m\u001b[1m-1.274          \u001b[0m\u001b[1m \u001b[0m│\n",
       "│ When  church and  flower went to the shops, church gave the bag to │\u001b[1;38;2;0;200;0m \u001b[0m\u001b[1;38;2;0;200;0m flower\u001b[0m\u001b[1;38;2;0;200;0m \u001b[0m│\u001b[1;38;2;255;0;0m \u001b[0m\u001b[1;38;2;255;0;0m church  \u001b[0m\u001b[1;38;2;255;0;0m \u001b[0m│\u001b[1m \u001b[0m\u001b[1m0.807           \u001b[0m\u001b[1m \u001b[0m│\n",
       "│ When  chair and  goose went to the shops, goose gave the bag to    │\u001b[1;38;2;0;200;0m \u001b[0m\u001b[1;38;2;0;200;0m chair \u001b[0m\u001b[1;38;2;0;200;0m \u001b[0m│\u001b[1;38;2;255;0;0m \u001b[0m\u001b[1;38;2;255;0;0m goose   \u001b[0m\u001b[1;38;2;255;0;0m \u001b[0m│\u001b[1m \u001b[0m\u001b[1m1.643           \u001b[0m\u001b[1m \u001b[0m│\n",
       "│ When  chair and  goose went to the shops, chair gave the bag to    │\u001b[1;38;2;0;200;0m \u001b[0m\u001b[1;38;2;0;200;0m goose \u001b[0m\u001b[1;38;2;0;200;0m \u001b[0m│\u001b[1;38;2;255;0;0m \u001b[0m\u001b[1;38;2;255;0;0m chair   \u001b[0m\u001b[1;38;2;255;0;0m \u001b[0m│\u001b[1m \u001b[0m\u001b[1m-4.941          \u001b[0m\u001b[1m \u001b[0m│\n",
       "│ When  flower and  goose went to the shops, goose gave the bag to   │\u001b[1;38;2;0;200;0m \u001b[0m\u001b[1;38;2;0;200;0m flower\u001b[0m\u001b[1;38;2;0;200;0m \u001b[0m│\u001b[1;38;2;255;0;0m \u001b[0m\u001b[1;38;2;255;0;0m goose   \u001b[0m\u001b[1;38;2;255;0;0m \u001b[0m│\u001b[1m \u001b[0m\u001b[1m3.705           \u001b[0m\u001b[1m \u001b[0m│\n",
       "│ When  flower and  goose went to the shops, flower gave the bag to  │\u001b[1;38;2;0;200;0m \u001b[0m\u001b[1;38;2;0;200;0m goose \u001b[0m\u001b[1;38;2;0;200;0m \u001b[0m│\u001b[1;38;2;255;0;0m \u001b[0m\u001b[1;38;2;255;0;0m flower  \u001b[0m\u001b[1;38;2;255;0;0m \u001b[0m│\u001b[1m \u001b[0m\u001b[1m-5.738          \u001b[0m\u001b[1m \u001b[0m│\n",
       "│ When  statue and  bag went to the shops, bag gave the bag to       │\u001b[1;38;2;0;200;0m \u001b[0m\u001b[1;38;2;0;200;0m statue\u001b[0m\u001b[1;38;2;0;200;0m \u001b[0m│\u001b[1;38;2;255;0;0m \u001b[0m\u001b[1;38;2;255;0;0m bag     \u001b[0m\u001b[1;38;2;255;0;0m \u001b[0m│\u001b[1m \u001b[0m\u001b[1m2.226           \u001b[0m\u001b[1m \u001b[0m│\n",
       "│ When  statue and  bag went to the shops, statue gave the bag to    │\u001b[1;38;2;0;200;0m \u001b[0m\u001b[1;38;2;0;200;0m bag   \u001b[0m\u001b[1;38;2;0;200;0m \u001b[0m│\u001b[1;38;2;255;0;0m \u001b[0m\u001b[1;38;2;255;0;0m statue  \u001b[0m\u001b[1;38;2;255;0;0m \u001b[0m│\u001b[1m \u001b[0m\u001b[1m-4.173          \u001b[0m\u001b[1m \u001b[0m│\n",
       "│ When  flower and  google went to the shops, google gave the bag to │\u001b[1;38;2;0;200;0m \u001b[0m\u001b[1;38;2;0;200;0m flower\u001b[0m\u001b[1;38;2;0;200;0m \u001b[0m│\u001b[1;38;2;255;0;0m \u001b[0m\u001b[1;38;2;255;0;0m google  \u001b[0m\u001b[1;38;2;255;0;0m \u001b[0m│\u001b[1m \u001b[0m\u001b[1m3.630           \u001b[0m\u001b[1m \u001b[0m│\n",
       "│ When  flower and  google went to the shops, flower gave the bag to │\u001b[1;38;2;0;200;0m \u001b[0m\u001b[1;38;2;0;200;0m google\u001b[0m\u001b[1;38;2;0;200;0m \u001b[0m│\u001b[1;38;2;255;0;0m \u001b[0m\u001b[1;38;2;255;0;0m flower  \u001b[0m\u001b[1;38;2;255;0;0m \u001b[0m│\u001b[1m \u001b[0m\u001b[1m-2.673          \u001b[0m\u001b[1m \u001b[0m│\n",
       "│ When  goose and  flower went to the shops, flower gave the bag to  │\u001b[1;38;2;0;200;0m \u001b[0m\u001b[1;38;2;0;200;0m goose \u001b[0m\u001b[1;38;2;0;200;0m \u001b[0m│\u001b[1;38;2;255;0;0m \u001b[0m\u001b[1;38;2;255;0;0m flower  \u001b[0m\u001b[1;38;2;255;0;0m \u001b[0m│\u001b[1m \u001b[0m\u001b[1m-0.998          \u001b[0m\u001b[1m \u001b[0m│\n",
       "│ When  goose and  flower went to the shops, goose gave the bag to   │\u001b[1;38;2;0;200;0m \u001b[0m\u001b[1;38;2;0;200;0m flower\u001b[0m\u001b[1;38;2;0;200;0m \u001b[0m│\u001b[1;38;2;255;0;0m \u001b[0m\u001b[1;38;2;255;0;0m goose   \u001b[0m\u001b[1;38;2;255;0;0m \u001b[0m│\u001b[1m \u001b[0m\u001b[1m-1.724          \u001b[0m\u001b[1m \u001b[0m│\n",
       "│ When  statue and  chair went to the shops, chair gave the bag to   │\u001b[1;38;2;0;200;0m \u001b[0m\u001b[1;38;2;0;200;0m statue\u001b[0m\u001b[1;38;2;0;200;0m \u001b[0m│\u001b[1;38;2;255;0;0m \u001b[0m\u001b[1;38;2;255;0;0m chair   \u001b[0m\u001b[1;38;2;255;0;0m \u001b[0m│\u001b[1m \u001b[0m\u001b[1m-0.999          \u001b[0m\u001b[1m \u001b[0m│\n",
       "│ When  statue and  chair went to the shops, statue gave the bag to  │\u001b[1;38;2;0;200;0m \u001b[0m\u001b[1;38;2;0;200;0m chair \u001b[0m\u001b[1;38;2;0;200;0m \u001b[0m│\u001b[1;38;2;255;0;0m \u001b[0m\u001b[1;38;2;255;0;0m statue  \u001b[0m\u001b[1;38;2;255;0;0m \u001b[0m│\u001b[1m \u001b[0m\u001b[1m-0.657          \u001b[0m\u001b[1m \u001b[0m│\n",
       "│ When  flower and  google went to the shops, google gave the bag to │\u001b[1;38;2;0;200;0m \u001b[0m\u001b[1;38;2;0;200;0m flower\u001b[0m\u001b[1;38;2;0;200;0m \u001b[0m│\u001b[1;38;2;255;0;0m \u001b[0m\u001b[1;38;2;255;0;0m google  \u001b[0m\u001b[1;38;2;255;0;0m \u001b[0m│\u001b[1m \u001b[0m\u001b[1m3.630           \u001b[0m\u001b[1m \u001b[0m│\n",
       "│ When  flower and  google went to the shops, flower gave the bag to │\u001b[1;38;2;0;200;0m \u001b[0m\u001b[1;38;2;0;200;0m google\u001b[0m\u001b[1;38;2;0;200;0m \u001b[0m│\u001b[1;38;2;255;0;0m \u001b[0m\u001b[1;38;2;255;0;0m flower  \u001b[0m\u001b[1;38;2;255;0;0m \u001b[0m│\u001b[1m \u001b[0m\u001b[1m-2.673          \u001b[0m\u001b[1m \u001b[0m│\n",
       "│ When  lamp and  statue went to the shops, statue gave the bag to   │\u001b[1;38;2;0;200;0m \u001b[0m\u001b[1;38;2;0;200;0m lamp  \u001b[0m\u001b[1;38;2;0;200;0m \u001b[0m│\u001b[1;38;2;255;0;0m \u001b[0m\u001b[1;38;2;255;0;0m statue  \u001b[0m\u001b[1;38;2;255;0;0m \u001b[0m│\u001b[1m \u001b[0m\u001b[1m-1.419          \u001b[0m\u001b[1m \u001b[0m│\n",
       "│ When  lamp and  statue went to the shops, lamp gave the bag to     │\u001b[1;38;2;0;200;0m \u001b[0m\u001b[1;38;2;0;200;0m statue\u001b[0m\u001b[1;38;2;0;200;0m \u001b[0m│\u001b[1;38;2;255;0;0m \u001b[0m\u001b[1;38;2;255;0;0m lamp    \u001b[0m\u001b[1;38;2;255;0;0m \u001b[0m│\u001b[1m \u001b[0m\u001b[1m1.201           \u001b[0m\u001b[1m \u001b[0m│\n",
       "│ When  church and  lamp went to the shops, lamp gave the bag to     │\u001b[1;38;2;0;200;0m \u001b[0m\u001b[1;38;2;0;200;0m church\u001b[0m\u001b[1;38;2;0;200;0m \u001b[0m│\u001b[1;38;2;255;0;0m \u001b[0m\u001b[1;38;2;255;0;0m lamp    \u001b[0m\u001b[1;38;2;255;0;0m \u001b[0m│\u001b[1m \u001b[0m\u001b[1m0.011           \u001b[0m\u001b[1m \u001b[0m│\n",
       "│ When  church and  lamp went to the shops, church gave the bag to   │\u001b[1;38;2;0;200;0m \u001b[0m\u001b[1;38;2;0;200;0m lamp  \u001b[0m\u001b[1;38;2;0;200;0m \u001b[0m│\u001b[1;38;2;255;0;0m \u001b[0m\u001b[1;38;2;255;0;0m church  \u001b[0m\u001b[1;38;2;255;0;0m \u001b[0m│\u001b[1m \u001b[0m\u001b[1m-0.217          \u001b[0m\u001b[1m \u001b[0m│\n",
       "└────────────────────────────────────────────────────────────────────┴─────────┴───────────┴──────────────────┘\n"
      ]
     },
     "metadata": {},
     "output_type": "display_data"
    },
    {
     "data": {
      "text/html": [
       "<pre style=\"white-space:pre;overflow-x:auto;line-height:normal;font-family:Menlo,'DejaVu Sans Mono',consolas,'Courier New',monospace\"><span style=\"font-style: italic\">                                     proper nouns: Ave logit diff = -2.944                                     </span>\n",
       "┏━━━━━━━━━━━━━━━━━━━━━━━━━━━━━━━━━━━━━━━━━━━━━━━━━━━━━━━━━━━━━━━━━━━━┳━━━━━━━━━┳━━━━━━━━━━━┳━━━━━━━━━━━━━━━━━━┓\n",
       "┃<span style=\"font-weight: bold\"> Prompt                                                             </span>┃<span style=\"font-weight: bold\"> Correct </span>┃<span style=\"font-weight: bold\"> Incorrect </span>┃<span style=\"font-weight: bold\"> Logit Difference </span>┃\n",
       "┡━━━━━━━━━━━━━━━━━━━━━━━━━━━━━━━━━━━━━━━━━━━━━━━━━━━━━━━━━━━━━━━━━━━━╇━━━━━━━━━╇━━━━━━━━━━━╇━━━━━━━━━━━━━━━━━━┩\n",
       "│ When  Statue and  Chair went to the shops, Chair gave the bag to   │<span style=\"color: #00c800; text-decoration-color: #00c800; font-weight: bold\">  Statue </span>│<span style=\"color: #ff0000; text-decoration-color: #ff0000; font-weight: bold\">  Chair    </span>│<span style=\"font-weight: bold\"> -1.331           </span>│\n",
       "│ When  Statue and  Chair went to the shops, Statue gave the bag to  │<span style=\"color: #00c800; text-decoration-color: #00c800; font-weight: bold\">  Chair  </span>│<span style=\"color: #ff0000; text-decoration-color: #ff0000; font-weight: bold\">  Statue   </span>│<span style=\"font-weight: bold\"> -1.564           </span>│\n",
       "│ When  Google and  Bag went to the shops, Bag gave the bag to       │<span style=\"color: #00c800; text-decoration-color: #00c800; font-weight: bold\">  Google </span>│<span style=\"color: #ff0000; text-decoration-color: #ff0000; font-weight: bold\">  Bag      </span>│<span style=\"font-weight: bold\"> -0.151           </span>│\n",
       "│ When  Google and  Bag went to the shops, Google gave the bag to    │<span style=\"color: #00c800; text-decoration-color: #00c800; font-weight: bold\">  Bag    </span>│<span style=\"color: #ff0000; text-decoration-color: #ff0000; font-weight: bold\">  Google   </span>│<span style=\"font-weight: bold\"> -0.756           </span>│\n",
       "│ When  Goose and  Statue went to the shops, Statue gave the bag to  │<span style=\"color: #00c800; text-decoration-color: #00c800; font-weight: bold\">  Goose  </span>│<span style=\"color: #ff0000; text-decoration-color: #ff0000; font-weight: bold\">  Statue   </span>│<span style=\"font-weight: bold\"> -4.583           </span>│\n",
       "│ When  Goose and  Statue went to the shops, Goose gave the bag to   │<span style=\"color: #00c800; text-decoration-color: #00c800; font-weight: bold\">  Statue </span>│<span style=\"color: #ff0000; text-decoration-color: #ff0000; font-weight: bold\">  Goose    </span>│<span style=\"font-weight: bold\"> -3.596           </span>│\n",
       "│ When  Flower and  Statue went to the shops, Statue gave the bag to │<span style=\"color: #00c800; text-decoration-color: #00c800; font-weight: bold\">  Flower </span>│<span style=\"color: #ff0000; text-decoration-color: #ff0000; font-weight: bold\">  Statue   </span>│<span style=\"font-weight: bold\"> -3.393           </span>│\n",
       "│ When  Flower and  Statue went to the shops, Flower gave the bag to │<span style=\"color: #00c800; text-decoration-color: #00c800; font-weight: bold\">  Statue </span>│<span style=\"color: #ff0000; text-decoration-color: #ff0000; font-weight: bold\">  Flower   </span>│<span style=\"font-weight: bold\"> -2.502           </span>│\n",
       "│ When  Lamp and  Statue went to the shops, Statue gave the bag to   │<span style=\"color: #00c800; text-decoration-color: #00c800; font-weight: bold\">  Lamp   </span>│<span style=\"color: #ff0000; text-decoration-color: #ff0000; font-weight: bold\">  Statue   </span>│<span style=\"font-weight: bold\"> -4.809           </span>│\n",
       "│ When  Lamp and  Statue went to the shops, Lamp gave the bag to     │<span style=\"color: #00c800; text-decoration-color: #00c800; font-weight: bold\">  Statue </span>│<span style=\"color: #ff0000; text-decoration-color: #ff0000; font-weight: bold\">  Lamp     </span>│<span style=\"font-weight: bold\"> -1.914           </span>│\n",
       "│ When  Bag and  Lamp went to the shops, Lamp gave the bag to        │<span style=\"color: #00c800; text-decoration-color: #00c800; font-weight: bold\">  Bag    </span>│<span style=\"color: #ff0000; text-decoration-color: #ff0000; font-weight: bold\">  Lamp     </span>│<span style=\"font-weight: bold\"> -4.082           </span>│\n",
       "│ When  Bag and  Lamp went to the shops, Bag gave the bag to         │<span style=\"color: #00c800; text-decoration-color: #00c800; font-weight: bold\">  Lamp   </span>│<span style=\"color: #ff0000; text-decoration-color: #ff0000; font-weight: bold\">  Bag      </span>│<span style=\"font-weight: bold\"> -4.382           </span>│\n",
       "│ When  Church and  Lamp went to the shops, Lamp gave the bag to     │<span style=\"color: #00c800; text-decoration-color: #00c800; font-weight: bold\">  Church </span>│<span style=\"color: #ff0000; text-decoration-color: #ff0000; font-weight: bold\">  Lamp     </span>│<span style=\"font-weight: bold\"> -1.742           </span>│\n",
       "│ When  Church and  Lamp went to the shops, Church gave the bag to   │<span style=\"color: #00c800; text-decoration-color: #00c800; font-weight: bold\">  Lamp   </span>│<span style=\"color: #ff0000; text-decoration-color: #ff0000; font-weight: bold\">  Church   </span>│<span style=\"font-weight: bold\"> -3.124           </span>│\n",
       "│ When  Goose and  Bag went to the shops, Bag gave the bag to        │<span style=\"color: #00c800; text-decoration-color: #00c800; font-weight: bold\">  Goose  </span>│<span style=\"color: #ff0000; text-decoration-color: #ff0000; font-weight: bold\">  Bag      </span>│<span style=\"font-weight: bold\"> -1.604           </span>│\n",
       "│ When  Goose and  Bag went to the shops, Goose gave the bag to      │<span style=\"color: #00c800; text-decoration-color: #00c800; font-weight: bold\">  Bag    </span>│<span style=\"color: #ff0000; text-decoration-color: #ff0000; font-weight: bold\">  Goose    </span>│<span style=\"font-weight: bold\"> -5.989           </span>│\n",
       "│ When  Church and  Goose went to the shops, Goose gave the bag to   │<span style=\"color: #00c800; text-decoration-color: #00c800; font-weight: bold\">  Church </span>│<span style=\"color: #ff0000; text-decoration-color: #ff0000; font-weight: bold\">  Goose    </span>│<span style=\"font-weight: bold\"> -3.978           </span>│\n",
       "│ When  Church and  Goose went to the shops, Church gave the bag to  │<span style=\"color: #00c800; text-decoration-color: #00c800; font-weight: bold\">  Goose  </span>│<span style=\"color: #ff0000; text-decoration-color: #ff0000; font-weight: bold\">  Church   </span>│<span style=\"font-weight: bold\"> -4.896           </span>│\n",
       "│ When  Bag and  Chair went to the shops, Chair gave the bag to      │<span style=\"color: #00c800; text-decoration-color: #00c800; font-weight: bold\">  Bag    </span>│<span style=\"color: #ff0000; text-decoration-color: #ff0000; font-weight: bold\">  Chair    </span>│<span style=\"font-weight: bold\"> -5.628           </span>│\n",
       "│ When  Bag and  Chair went to the shops, Bag gave the bag to        │<span style=\"color: #00c800; text-decoration-color: #00c800; font-weight: bold\">  Chair  </span>│<span style=\"color: #ff0000; text-decoration-color: #ff0000; font-weight: bold\">  Bag      </span>│<span style=\"font-weight: bold\"> 1.143            </span>│\n",
       "└────────────────────────────────────────────────────────────────────┴─────────┴───────────┴──────────────────┘\n",
       "</pre>\n"
      ],
      "text/plain": [
       "\u001b[3m                                     proper nouns: Ave logit diff = -2.944                                     \u001b[0m\n",
       "┏━━━━━━━━━━━━━━━━━━━━━━━━━━━━━━━━━━━━━━━━━━━━━━━━━━━━━━━━━━━━━━━━━━━━┳━━━━━━━━━┳━━━━━━━━━━━┳━━━━━━━━━━━━━━━━━━┓\n",
       "┃\u001b[1m \u001b[0m\u001b[1mPrompt                                                            \u001b[0m\u001b[1m \u001b[0m┃\u001b[1m \u001b[0m\u001b[1mCorrect\u001b[0m\u001b[1m \u001b[0m┃\u001b[1m \u001b[0m\u001b[1mIncorrect\u001b[0m\u001b[1m \u001b[0m┃\u001b[1m \u001b[0m\u001b[1mLogit Difference\u001b[0m\u001b[1m \u001b[0m┃\n",
       "┡━━━━━━━━━━━━━━━━━━━━━━━━━━━━━━━━━━━━━━━━━━━━━━━━━━━━━━━━━━━━━━━━━━━━╇━━━━━━━━━╇━━━━━━━━━━━╇━━━━━━━━━━━━━━━━━━┩\n",
       "│ When  Statue and  Chair went to the shops, Chair gave the bag to   │\u001b[1;38;2;0;200;0m \u001b[0m\u001b[1;38;2;0;200;0m Statue\u001b[0m\u001b[1;38;2;0;200;0m \u001b[0m│\u001b[1;38;2;255;0;0m \u001b[0m\u001b[1;38;2;255;0;0m Chair   \u001b[0m\u001b[1;38;2;255;0;0m \u001b[0m│\u001b[1m \u001b[0m\u001b[1m-1.331          \u001b[0m\u001b[1m \u001b[0m│\n",
       "│ When  Statue and  Chair went to the shops, Statue gave the bag to  │\u001b[1;38;2;0;200;0m \u001b[0m\u001b[1;38;2;0;200;0m Chair \u001b[0m\u001b[1;38;2;0;200;0m \u001b[0m│\u001b[1;38;2;255;0;0m \u001b[0m\u001b[1;38;2;255;0;0m Statue  \u001b[0m\u001b[1;38;2;255;0;0m \u001b[0m│\u001b[1m \u001b[0m\u001b[1m-1.564          \u001b[0m\u001b[1m \u001b[0m│\n",
       "│ When  Google and  Bag went to the shops, Bag gave the bag to       │\u001b[1;38;2;0;200;0m \u001b[0m\u001b[1;38;2;0;200;0m Google\u001b[0m\u001b[1;38;2;0;200;0m \u001b[0m│\u001b[1;38;2;255;0;0m \u001b[0m\u001b[1;38;2;255;0;0m Bag     \u001b[0m\u001b[1;38;2;255;0;0m \u001b[0m│\u001b[1m \u001b[0m\u001b[1m-0.151          \u001b[0m\u001b[1m \u001b[0m│\n",
       "│ When  Google and  Bag went to the shops, Google gave the bag to    │\u001b[1;38;2;0;200;0m \u001b[0m\u001b[1;38;2;0;200;0m Bag   \u001b[0m\u001b[1;38;2;0;200;0m \u001b[0m│\u001b[1;38;2;255;0;0m \u001b[0m\u001b[1;38;2;255;0;0m Google  \u001b[0m\u001b[1;38;2;255;0;0m \u001b[0m│\u001b[1m \u001b[0m\u001b[1m-0.756          \u001b[0m\u001b[1m \u001b[0m│\n",
       "│ When  Goose and  Statue went to the shops, Statue gave the bag to  │\u001b[1;38;2;0;200;0m \u001b[0m\u001b[1;38;2;0;200;0m Goose \u001b[0m\u001b[1;38;2;0;200;0m \u001b[0m│\u001b[1;38;2;255;0;0m \u001b[0m\u001b[1;38;2;255;0;0m Statue  \u001b[0m\u001b[1;38;2;255;0;0m \u001b[0m│\u001b[1m \u001b[0m\u001b[1m-4.583          \u001b[0m\u001b[1m \u001b[0m│\n",
       "│ When  Goose and  Statue went to the shops, Goose gave the bag to   │\u001b[1;38;2;0;200;0m \u001b[0m\u001b[1;38;2;0;200;0m Statue\u001b[0m\u001b[1;38;2;0;200;0m \u001b[0m│\u001b[1;38;2;255;0;0m \u001b[0m\u001b[1;38;2;255;0;0m Goose   \u001b[0m\u001b[1;38;2;255;0;0m \u001b[0m│\u001b[1m \u001b[0m\u001b[1m-3.596          \u001b[0m\u001b[1m \u001b[0m│\n",
       "│ When  Flower and  Statue went to the shops, Statue gave the bag to │\u001b[1;38;2;0;200;0m \u001b[0m\u001b[1;38;2;0;200;0m Flower\u001b[0m\u001b[1;38;2;0;200;0m \u001b[0m│\u001b[1;38;2;255;0;0m \u001b[0m\u001b[1;38;2;255;0;0m Statue  \u001b[0m\u001b[1;38;2;255;0;0m \u001b[0m│\u001b[1m \u001b[0m\u001b[1m-3.393          \u001b[0m\u001b[1m \u001b[0m│\n",
       "│ When  Flower and  Statue went to the shops, Flower gave the bag to │\u001b[1;38;2;0;200;0m \u001b[0m\u001b[1;38;2;0;200;0m Statue\u001b[0m\u001b[1;38;2;0;200;0m \u001b[0m│\u001b[1;38;2;255;0;0m \u001b[0m\u001b[1;38;2;255;0;0m Flower  \u001b[0m\u001b[1;38;2;255;0;0m \u001b[0m│\u001b[1m \u001b[0m\u001b[1m-2.502          \u001b[0m\u001b[1m \u001b[0m│\n",
       "│ When  Lamp and  Statue went to the shops, Statue gave the bag to   │\u001b[1;38;2;0;200;0m \u001b[0m\u001b[1;38;2;0;200;0m Lamp  \u001b[0m\u001b[1;38;2;0;200;0m \u001b[0m│\u001b[1;38;2;255;0;0m \u001b[0m\u001b[1;38;2;255;0;0m Statue  \u001b[0m\u001b[1;38;2;255;0;0m \u001b[0m│\u001b[1m \u001b[0m\u001b[1m-4.809          \u001b[0m\u001b[1m \u001b[0m│\n",
       "│ When  Lamp and  Statue went to the shops, Lamp gave the bag to     │\u001b[1;38;2;0;200;0m \u001b[0m\u001b[1;38;2;0;200;0m Statue\u001b[0m\u001b[1;38;2;0;200;0m \u001b[0m│\u001b[1;38;2;255;0;0m \u001b[0m\u001b[1;38;2;255;0;0m Lamp    \u001b[0m\u001b[1;38;2;255;0;0m \u001b[0m│\u001b[1m \u001b[0m\u001b[1m-1.914          \u001b[0m\u001b[1m \u001b[0m│\n",
       "│ When  Bag and  Lamp went to the shops, Lamp gave the bag to        │\u001b[1;38;2;0;200;0m \u001b[0m\u001b[1;38;2;0;200;0m Bag   \u001b[0m\u001b[1;38;2;0;200;0m \u001b[0m│\u001b[1;38;2;255;0;0m \u001b[0m\u001b[1;38;2;255;0;0m Lamp    \u001b[0m\u001b[1;38;2;255;0;0m \u001b[0m│\u001b[1m \u001b[0m\u001b[1m-4.082          \u001b[0m\u001b[1m \u001b[0m│\n",
       "│ When  Bag and  Lamp went to the shops, Bag gave the bag to         │\u001b[1;38;2;0;200;0m \u001b[0m\u001b[1;38;2;0;200;0m Lamp  \u001b[0m\u001b[1;38;2;0;200;0m \u001b[0m│\u001b[1;38;2;255;0;0m \u001b[0m\u001b[1;38;2;255;0;0m Bag     \u001b[0m\u001b[1;38;2;255;0;0m \u001b[0m│\u001b[1m \u001b[0m\u001b[1m-4.382          \u001b[0m\u001b[1m \u001b[0m│\n",
       "│ When  Church and  Lamp went to the shops, Lamp gave the bag to     │\u001b[1;38;2;0;200;0m \u001b[0m\u001b[1;38;2;0;200;0m Church\u001b[0m\u001b[1;38;2;0;200;0m \u001b[0m│\u001b[1;38;2;255;0;0m \u001b[0m\u001b[1;38;2;255;0;0m Lamp    \u001b[0m\u001b[1;38;2;255;0;0m \u001b[0m│\u001b[1m \u001b[0m\u001b[1m-1.742          \u001b[0m\u001b[1m \u001b[0m│\n",
       "│ When  Church and  Lamp went to the shops, Church gave the bag to   │\u001b[1;38;2;0;200;0m \u001b[0m\u001b[1;38;2;0;200;0m Lamp  \u001b[0m\u001b[1;38;2;0;200;0m \u001b[0m│\u001b[1;38;2;255;0;0m \u001b[0m\u001b[1;38;2;255;0;0m Church  \u001b[0m\u001b[1;38;2;255;0;0m \u001b[0m│\u001b[1m \u001b[0m\u001b[1m-3.124          \u001b[0m\u001b[1m \u001b[0m│\n",
       "│ When  Goose and  Bag went to the shops, Bag gave the bag to        │\u001b[1;38;2;0;200;0m \u001b[0m\u001b[1;38;2;0;200;0m Goose \u001b[0m\u001b[1;38;2;0;200;0m \u001b[0m│\u001b[1;38;2;255;0;0m \u001b[0m\u001b[1;38;2;255;0;0m Bag     \u001b[0m\u001b[1;38;2;255;0;0m \u001b[0m│\u001b[1m \u001b[0m\u001b[1m-1.604          \u001b[0m\u001b[1m \u001b[0m│\n",
       "│ When  Goose and  Bag went to the shops, Goose gave the bag to      │\u001b[1;38;2;0;200;0m \u001b[0m\u001b[1;38;2;0;200;0m Bag   \u001b[0m\u001b[1;38;2;0;200;0m \u001b[0m│\u001b[1;38;2;255;0;0m \u001b[0m\u001b[1;38;2;255;0;0m Goose   \u001b[0m\u001b[1;38;2;255;0;0m \u001b[0m│\u001b[1m \u001b[0m\u001b[1m-5.989          \u001b[0m\u001b[1m \u001b[0m│\n",
       "│ When  Church and  Goose went to the shops, Goose gave the bag to   │\u001b[1;38;2;0;200;0m \u001b[0m\u001b[1;38;2;0;200;0m Church\u001b[0m\u001b[1;38;2;0;200;0m \u001b[0m│\u001b[1;38;2;255;0;0m \u001b[0m\u001b[1;38;2;255;0;0m Goose   \u001b[0m\u001b[1;38;2;255;0;0m \u001b[0m│\u001b[1m \u001b[0m\u001b[1m-3.978          \u001b[0m\u001b[1m \u001b[0m│\n",
       "│ When  Church and  Goose went to the shops, Church gave the bag to  │\u001b[1;38;2;0;200;0m \u001b[0m\u001b[1;38;2;0;200;0m Goose \u001b[0m\u001b[1;38;2;0;200;0m \u001b[0m│\u001b[1;38;2;255;0;0m \u001b[0m\u001b[1;38;2;255;0;0m Church  \u001b[0m\u001b[1;38;2;255;0;0m \u001b[0m│\u001b[1m \u001b[0m\u001b[1m-4.896          \u001b[0m\u001b[1m \u001b[0m│\n",
       "│ When  Bag and  Chair went to the shops, Chair gave the bag to      │\u001b[1;38;2;0;200;0m \u001b[0m\u001b[1;38;2;0;200;0m Bag   \u001b[0m\u001b[1;38;2;0;200;0m \u001b[0m│\u001b[1;38;2;255;0;0m \u001b[0m\u001b[1;38;2;255;0;0m Chair   \u001b[0m\u001b[1;38;2;255;0;0m \u001b[0m│\u001b[1m \u001b[0m\u001b[1m-5.628          \u001b[0m\u001b[1m \u001b[0m│\n",
       "│ When  Bag and  Chair went to the shops, Bag gave the bag to        │\u001b[1;38;2;0;200;0m \u001b[0m\u001b[1;38;2;0;200;0m Chair \u001b[0m\u001b[1;38;2;0;200;0m \u001b[0m│\u001b[1;38;2;255;0;0m \u001b[0m\u001b[1;38;2;255;0;0m Bag     \u001b[0m\u001b[1;38;2;255;0;0m \u001b[0m│\u001b[1m \u001b[0m\u001b[1m1.143           \u001b[0m\u001b[1m \u001b[0m│\n",
       "└────────────────────────────────────────────────────────────────────┴─────────┴───────────┴──────────────────┘\n"
      ]
     },
     "metadata": {},
     "output_type": "display_data"
    },
    {
     "data": {
      "text/html": [
       "<pre style=\"white-space:pre;overflow-x:auto;line-height:normal;font-family:Menlo,'DejaVu Sans Mono',consolas,'Courier New',monospace\"><span style=\"font-style: italic\">                                    Religious Names: Ave logit diff = -3.378                                     </span>\n",
       "┏━━━━━━━━━━━━━━━━━━━━━━━━━━━━━━━━━━━━━━━━━━━━━━━━━━━━━━━━━━━━━━━━━━━━━┳━━━━━━━━━━┳━━━━━━━━━━━┳━━━━━━━━━━━━━━━━━━┓\n",
       "┃<span style=\"font-weight: bold\"> Prompt                                                              </span>┃<span style=\"font-weight: bold\"> Correct  </span>┃<span style=\"font-weight: bold\"> Incorrect </span>┃<span style=\"font-weight: bold\"> Logit Difference </span>┃\n",
       "┡━━━━━━━━━━━━━━━━━━━━━━━━━━━━━━━━━━━━━━━━━━━━━━━━━━━━━━━━━━━━━━━━━━━━━╇━━━━━━━━━━╇━━━━━━━━━━━╇━━━━━━━━━━━━━━━━━━┩\n",
       "│ When  Jacob and  Abraham went to the shops, Abraham gave the bag to │<span style=\"color: #00c800; text-decoration-color: #00c800; font-weight: bold\">  Jacob   </span>│<span style=\"color: #ff0000; text-decoration-color: #ff0000; font-weight: bold\">  Abraham  </span>│<span style=\"font-weight: bold\"> -4.699           </span>│\n",
       "│ When  Jacob and  Abraham went to the shops, Jacob gave the bag to   │<span style=\"color: #00c800; text-decoration-color: #00c800; font-weight: bold\">  Abraham </span>│<span style=\"color: #ff0000; text-decoration-color: #ff0000; font-weight: bold\">  Jacob    </span>│<span style=\"font-weight: bold\"> -1.637           </span>│\n",
       "│ When  Jesus and  Jacob went to the shops, Jacob gave the bag to     │<span style=\"color: #00c800; text-decoration-color: #00c800; font-weight: bold\">  Jesus   </span>│<span style=\"color: #ff0000; text-decoration-color: #ff0000; font-weight: bold\">  Jacob    </span>│<span style=\"font-weight: bold\"> -0.617           </span>│\n",
       "│ When  Jesus and  Jacob went to the shops, Jesus gave the bag to     │<span style=\"color: #00c800; text-decoration-color: #00c800; font-weight: bold\">  Jacob   </span>│<span style=\"color: #ff0000; text-decoration-color: #ff0000; font-weight: bold\">  Jesus    </span>│<span style=\"font-weight: bold\"> -3.702           </span>│\n",
       "│ When  Isaac and  Jesus went to the shops, Jesus gave the bag to     │<span style=\"color: #00c800; text-decoration-color: #00c800; font-weight: bold\">  Isaac   </span>│<span style=\"color: #ff0000; text-decoration-color: #ff0000; font-weight: bold\">  Jesus    </span>│<span style=\"font-weight: bold\"> -4.036           </span>│\n",
       "│ When  Isaac and  Jesus went to the shops, Isaac gave the bag to     │<span style=\"color: #00c800; text-decoration-color: #00c800; font-weight: bold\">  Jesus   </span>│<span style=\"color: #ff0000; text-decoration-color: #ff0000; font-weight: bold\">  Isaac    </span>│<span style=\"font-weight: bold\"> -3.647           </span>│\n",
       "│ When  Paul and  Jacob went to the shops, Jacob gave the bag to      │<span style=\"color: #00c800; text-decoration-color: #00c800; font-weight: bold\">  Paul    </span>│<span style=\"color: #ff0000; text-decoration-color: #ff0000; font-weight: bold\">  Jacob    </span>│<span style=\"font-weight: bold\"> -4.551           </span>│\n",
       "│ When  Paul and  Jacob went to the shops, Paul gave the bag to       │<span style=\"color: #00c800; text-decoration-color: #00c800; font-weight: bold\">  Jacob   </span>│<span style=\"color: #ff0000; text-decoration-color: #ff0000; font-weight: bold\">  Paul     </span>│<span style=\"font-weight: bold\"> -3.103           </span>│\n",
       "│ When  Jesus and  Paul went to the shops, Paul gave the bag to       │<span style=\"color: #00c800; text-decoration-color: #00c800; font-weight: bold\">  Jesus   </span>│<span style=\"color: #ff0000; text-decoration-color: #ff0000; font-weight: bold\">  Paul     </span>│<span style=\"font-weight: bold\"> 0.315            </span>│\n",
       "│ When  Jesus and  Paul went to the shops, Jesus gave the bag to      │<span style=\"color: #00c800; text-decoration-color: #00c800; font-weight: bold\">  Paul    </span>│<span style=\"color: #ff0000; text-decoration-color: #ff0000; font-weight: bold\">  Jesus    </span>│<span style=\"font-weight: bold\"> -3.265           </span>│\n",
       "│ When  Noah and  Joseph went to the shops, Joseph gave the bag to    │<span style=\"color: #00c800; text-decoration-color: #00c800; font-weight: bold\">  Noah    </span>│<span style=\"color: #ff0000; text-decoration-color: #ff0000; font-weight: bold\">  Joseph   </span>│<span style=\"font-weight: bold\"> -2.724           </span>│\n",
       "│ When  Noah and  Joseph went to the shops, Noah gave the bag to      │<span style=\"color: #00c800; text-decoration-color: #00c800; font-weight: bold\">  Joseph  </span>│<span style=\"color: #ff0000; text-decoration-color: #ff0000; font-weight: bold\">  Noah     </span>│<span style=\"font-weight: bold\"> -5.108           </span>│\n",
       "│ When  Paul and  Joseph went to the shops, Joseph gave the bag to    │<span style=\"color: #00c800; text-decoration-color: #00c800; font-weight: bold\">  Paul    </span>│<span style=\"color: #ff0000; text-decoration-color: #ff0000; font-weight: bold\">  Joseph   </span>│<span style=\"font-weight: bold\"> -2.202           </span>│\n",
       "│ When  Paul and  Joseph went to the shops, Paul gave the bag to      │<span style=\"color: #00c800; text-decoration-color: #00c800; font-weight: bold\">  Joseph  </span>│<span style=\"color: #ff0000; text-decoration-color: #ff0000; font-weight: bold\">  Paul     </span>│<span style=\"font-weight: bold\"> -4.792           </span>│\n",
       "│ When  Paul and  Joseph went to the shops, Joseph gave the bag to    │<span style=\"color: #00c800; text-decoration-color: #00c800; font-weight: bold\">  Paul    </span>│<span style=\"color: #ff0000; text-decoration-color: #ff0000; font-weight: bold\">  Joseph   </span>│<span style=\"font-weight: bold\"> -2.202           </span>│\n",
       "│ When  Paul and  Joseph went to the shops, Paul gave the bag to      │<span style=\"color: #00c800; text-decoration-color: #00c800; font-weight: bold\">  Joseph  </span>│<span style=\"color: #ff0000; text-decoration-color: #ff0000; font-weight: bold\">  Paul     </span>│<span style=\"font-weight: bold\"> -4.792           </span>│\n",
       "│ When  Abraham and  Jesus went to the shops, Jesus gave the bag to   │<span style=\"color: #00c800; text-decoration-color: #00c800; font-weight: bold\">  Abraham </span>│<span style=\"color: #ff0000; text-decoration-color: #ff0000; font-weight: bold\">  Jesus    </span>│<span style=\"font-weight: bold\"> -4.930           </span>│\n",
       "│ When  Abraham and  Jesus went to the shops, Abraham gave the bag to │<span style=\"color: #00c800; text-decoration-color: #00c800; font-weight: bold\">  Jesus   </span>│<span style=\"color: #ff0000; text-decoration-color: #ff0000; font-weight: bold\">  Abraham  </span>│<span style=\"font-weight: bold\"> -3.362           </span>│\n",
       "│ When  Paul and  Isaac went to the shops, Isaac gave the bag to      │<span style=\"color: #00c800; text-decoration-color: #00c800; font-weight: bold\">  Paul    </span>│<span style=\"color: #ff0000; text-decoration-color: #ff0000; font-weight: bold\">  Isaac    </span>│<span style=\"font-weight: bold\"> -5.507           </span>│\n",
       "│ When  Paul and  Isaac went to the shops, Paul gave the bag to       │<span style=\"color: #00c800; text-decoration-color: #00c800; font-weight: bold\">  Isaac   </span>│<span style=\"color: #ff0000; text-decoration-color: #ff0000; font-weight: bold\">  Paul     </span>│<span style=\"font-weight: bold\"> -3.004           </span>│\n",
       "└─────────────────────────────────────────────────────────────────────┴──────────┴───────────┴──────────────────┘\n",
       "</pre>\n"
      ],
      "text/plain": [
       "\u001b[3m                                    Religious Names: Ave logit diff = -3.378                                     \u001b[0m\n",
       "┏━━━━━━━━━━━━━━━━━━━━━━━━━━━━━━━━━━━━━━━━━━━━━━━━━━━━━━━━━━━━━━━━━━━━━┳━━━━━━━━━━┳━━━━━━━━━━━┳━━━━━━━━━━━━━━━━━━┓\n",
       "┃\u001b[1m \u001b[0m\u001b[1mPrompt                                                             \u001b[0m\u001b[1m \u001b[0m┃\u001b[1m \u001b[0m\u001b[1mCorrect \u001b[0m\u001b[1m \u001b[0m┃\u001b[1m \u001b[0m\u001b[1mIncorrect\u001b[0m\u001b[1m \u001b[0m┃\u001b[1m \u001b[0m\u001b[1mLogit Difference\u001b[0m\u001b[1m \u001b[0m┃\n",
       "┡━━━━━━━━━━━━━━━━━━━━━━━━━━━━━━━━━━━━━━━━━━━━━━━━━━━━━━━━━━━━━━━━━━━━━╇━━━━━━━━━━╇━━━━━━━━━━━╇━━━━━━━━━━━━━━━━━━┩\n",
       "│ When  Jacob and  Abraham went to the shops, Abraham gave the bag to │\u001b[1;38;2;0;200;0m \u001b[0m\u001b[1;38;2;0;200;0m Jacob  \u001b[0m\u001b[1;38;2;0;200;0m \u001b[0m│\u001b[1;38;2;255;0;0m \u001b[0m\u001b[1;38;2;255;0;0m Abraham \u001b[0m\u001b[1;38;2;255;0;0m \u001b[0m│\u001b[1m \u001b[0m\u001b[1m-4.699          \u001b[0m\u001b[1m \u001b[0m│\n",
       "│ When  Jacob and  Abraham went to the shops, Jacob gave the bag to   │\u001b[1;38;2;0;200;0m \u001b[0m\u001b[1;38;2;0;200;0m Abraham\u001b[0m\u001b[1;38;2;0;200;0m \u001b[0m│\u001b[1;38;2;255;0;0m \u001b[0m\u001b[1;38;2;255;0;0m Jacob   \u001b[0m\u001b[1;38;2;255;0;0m \u001b[0m│\u001b[1m \u001b[0m\u001b[1m-1.637          \u001b[0m\u001b[1m \u001b[0m│\n",
       "│ When  Jesus and  Jacob went to the shops, Jacob gave the bag to     │\u001b[1;38;2;0;200;0m \u001b[0m\u001b[1;38;2;0;200;0m Jesus  \u001b[0m\u001b[1;38;2;0;200;0m \u001b[0m│\u001b[1;38;2;255;0;0m \u001b[0m\u001b[1;38;2;255;0;0m Jacob   \u001b[0m\u001b[1;38;2;255;0;0m \u001b[0m│\u001b[1m \u001b[0m\u001b[1m-0.617          \u001b[0m\u001b[1m \u001b[0m│\n",
       "│ When  Jesus and  Jacob went to the shops, Jesus gave the bag to     │\u001b[1;38;2;0;200;0m \u001b[0m\u001b[1;38;2;0;200;0m Jacob  \u001b[0m\u001b[1;38;2;0;200;0m \u001b[0m│\u001b[1;38;2;255;0;0m \u001b[0m\u001b[1;38;2;255;0;0m Jesus   \u001b[0m\u001b[1;38;2;255;0;0m \u001b[0m│\u001b[1m \u001b[0m\u001b[1m-3.702          \u001b[0m\u001b[1m \u001b[0m│\n",
       "│ When  Isaac and  Jesus went to the shops, Jesus gave the bag to     │\u001b[1;38;2;0;200;0m \u001b[0m\u001b[1;38;2;0;200;0m Isaac  \u001b[0m\u001b[1;38;2;0;200;0m \u001b[0m│\u001b[1;38;2;255;0;0m \u001b[0m\u001b[1;38;2;255;0;0m Jesus   \u001b[0m\u001b[1;38;2;255;0;0m \u001b[0m│\u001b[1m \u001b[0m\u001b[1m-4.036          \u001b[0m\u001b[1m \u001b[0m│\n",
       "│ When  Isaac and  Jesus went to the shops, Isaac gave the bag to     │\u001b[1;38;2;0;200;0m \u001b[0m\u001b[1;38;2;0;200;0m Jesus  \u001b[0m\u001b[1;38;2;0;200;0m \u001b[0m│\u001b[1;38;2;255;0;0m \u001b[0m\u001b[1;38;2;255;0;0m Isaac   \u001b[0m\u001b[1;38;2;255;0;0m \u001b[0m│\u001b[1m \u001b[0m\u001b[1m-3.647          \u001b[0m\u001b[1m \u001b[0m│\n",
       "│ When  Paul and  Jacob went to the shops, Jacob gave the bag to      │\u001b[1;38;2;0;200;0m \u001b[0m\u001b[1;38;2;0;200;0m Paul   \u001b[0m\u001b[1;38;2;0;200;0m \u001b[0m│\u001b[1;38;2;255;0;0m \u001b[0m\u001b[1;38;2;255;0;0m Jacob   \u001b[0m\u001b[1;38;2;255;0;0m \u001b[0m│\u001b[1m \u001b[0m\u001b[1m-4.551          \u001b[0m\u001b[1m \u001b[0m│\n",
       "│ When  Paul and  Jacob went to the shops, Paul gave the bag to       │\u001b[1;38;2;0;200;0m \u001b[0m\u001b[1;38;2;0;200;0m Jacob  \u001b[0m\u001b[1;38;2;0;200;0m \u001b[0m│\u001b[1;38;2;255;0;0m \u001b[0m\u001b[1;38;2;255;0;0m Paul    \u001b[0m\u001b[1;38;2;255;0;0m \u001b[0m│\u001b[1m \u001b[0m\u001b[1m-3.103          \u001b[0m\u001b[1m \u001b[0m│\n",
       "│ When  Jesus and  Paul went to the shops, Paul gave the bag to       │\u001b[1;38;2;0;200;0m \u001b[0m\u001b[1;38;2;0;200;0m Jesus  \u001b[0m\u001b[1;38;2;0;200;0m \u001b[0m│\u001b[1;38;2;255;0;0m \u001b[0m\u001b[1;38;2;255;0;0m Paul    \u001b[0m\u001b[1;38;2;255;0;0m \u001b[0m│\u001b[1m \u001b[0m\u001b[1m0.315           \u001b[0m\u001b[1m \u001b[0m│\n",
       "│ When  Jesus and  Paul went to the shops, Jesus gave the bag to      │\u001b[1;38;2;0;200;0m \u001b[0m\u001b[1;38;2;0;200;0m Paul   \u001b[0m\u001b[1;38;2;0;200;0m \u001b[0m│\u001b[1;38;2;255;0;0m \u001b[0m\u001b[1;38;2;255;0;0m Jesus   \u001b[0m\u001b[1;38;2;255;0;0m \u001b[0m│\u001b[1m \u001b[0m\u001b[1m-3.265          \u001b[0m\u001b[1m \u001b[0m│\n",
       "│ When  Noah and  Joseph went to the shops, Joseph gave the bag to    │\u001b[1;38;2;0;200;0m \u001b[0m\u001b[1;38;2;0;200;0m Noah   \u001b[0m\u001b[1;38;2;0;200;0m \u001b[0m│\u001b[1;38;2;255;0;0m \u001b[0m\u001b[1;38;2;255;0;0m Joseph  \u001b[0m\u001b[1;38;2;255;0;0m \u001b[0m│\u001b[1m \u001b[0m\u001b[1m-2.724          \u001b[0m\u001b[1m \u001b[0m│\n",
       "│ When  Noah and  Joseph went to the shops, Noah gave the bag to      │\u001b[1;38;2;0;200;0m \u001b[0m\u001b[1;38;2;0;200;0m Joseph \u001b[0m\u001b[1;38;2;0;200;0m \u001b[0m│\u001b[1;38;2;255;0;0m \u001b[0m\u001b[1;38;2;255;0;0m Noah    \u001b[0m\u001b[1;38;2;255;0;0m \u001b[0m│\u001b[1m \u001b[0m\u001b[1m-5.108          \u001b[0m\u001b[1m \u001b[0m│\n",
       "│ When  Paul and  Joseph went to the shops, Joseph gave the bag to    │\u001b[1;38;2;0;200;0m \u001b[0m\u001b[1;38;2;0;200;0m Paul   \u001b[0m\u001b[1;38;2;0;200;0m \u001b[0m│\u001b[1;38;2;255;0;0m \u001b[0m\u001b[1;38;2;255;0;0m Joseph  \u001b[0m\u001b[1;38;2;255;0;0m \u001b[0m│\u001b[1m \u001b[0m\u001b[1m-2.202          \u001b[0m\u001b[1m \u001b[0m│\n",
       "│ When  Paul and  Joseph went to the shops, Paul gave the bag to      │\u001b[1;38;2;0;200;0m \u001b[0m\u001b[1;38;2;0;200;0m Joseph \u001b[0m\u001b[1;38;2;0;200;0m \u001b[0m│\u001b[1;38;2;255;0;0m \u001b[0m\u001b[1;38;2;255;0;0m Paul    \u001b[0m\u001b[1;38;2;255;0;0m \u001b[0m│\u001b[1m \u001b[0m\u001b[1m-4.792          \u001b[0m\u001b[1m \u001b[0m│\n",
       "│ When  Paul and  Joseph went to the shops, Joseph gave the bag to    │\u001b[1;38;2;0;200;0m \u001b[0m\u001b[1;38;2;0;200;0m Paul   \u001b[0m\u001b[1;38;2;0;200;0m \u001b[0m│\u001b[1;38;2;255;0;0m \u001b[0m\u001b[1;38;2;255;0;0m Joseph  \u001b[0m\u001b[1;38;2;255;0;0m \u001b[0m│\u001b[1m \u001b[0m\u001b[1m-2.202          \u001b[0m\u001b[1m \u001b[0m│\n",
       "│ When  Paul and  Joseph went to the shops, Paul gave the bag to      │\u001b[1;38;2;0;200;0m \u001b[0m\u001b[1;38;2;0;200;0m Joseph \u001b[0m\u001b[1;38;2;0;200;0m \u001b[0m│\u001b[1;38;2;255;0;0m \u001b[0m\u001b[1;38;2;255;0;0m Paul    \u001b[0m\u001b[1;38;2;255;0;0m \u001b[0m│\u001b[1m \u001b[0m\u001b[1m-4.792          \u001b[0m\u001b[1m \u001b[0m│\n",
       "│ When  Abraham and  Jesus went to the shops, Jesus gave the bag to   │\u001b[1;38;2;0;200;0m \u001b[0m\u001b[1;38;2;0;200;0m Abraham\u001b[0m\u001b[1;38;2;0;200;0m \u001b[0m│\u001b[1;38;2;255;0;0m \u001b[0m\u001b[1;38;2;255;0;0m Jesus   \u001b[0m\u001b[1;38;2;255;0;0m \u001b[0m│\u001b[1m \u001b[0m\u001b[1m-4.930          \u001b[0m\u001b[1m \u001b[0m│\n",
       "│ When  Abraham and  Jesus went to the shops, Abraham gave the bag to │\u001b[1;38;2;0;200;0m \u001b[0m\u001b[1;38;2;0;200;0m Jesus  \u001b[0m\u001b[1;38;2;0;200;0m \u001b[0m│\u001b[1;38;2;255;0;0m \u001b[0m\u001b[1;38;2;255;0;0m Abraham \u001b[0m\u001b[1;38;2;255;0;0m \u001b[0m│\u001b[1m \u001b[0m\u001b[1m-3.362          \u001b[0m\u001b[1m \u001b[0m│\n",
       "│ When  Paul and  Isaac went to the shops, Isaac gave the bag to      │\u001b[1;38;2;0;200;0m \u001b[0m\u001b[1;38;2;0;200;0m Paul   \u001b[0m\u001b[1;38;2;0;200;0m \u001b[0m│\u001b[1;38;2;255;0;0m \u001b[0m\u001b[1;38;2;255;0;0m Isaac   \u001b[0m\u001b[1;38;2;255;0;0m \u001b[0m│\u001b[1m \u001b[0m\u001b[1m-5.507          \u001b[0m\u001b[1m \u001b[0m│\n",
       "│ When  Paul and  Isaac went to the shops, Paul gave the bag to       │\u001b[1;38;2;0;200;0m \u001b[0m\u001b[1;38;2;0;200;0m Isaac  \u001b[0m\u001b[1;38;2;0;200;0m \u001b[0m│\u001b[1;38;2;255;0;0m \u001b[0m\u001b[1;38;2;255;0;0m Paul    \u001b[0m\u001b[1;38;2;255;0;0m \u001b[0m│\u001b[1m \u001b[0m\u001b[1m-3.004          \u001b[0m\u001b[1m \u001b[0m│\n",
       "└─────────────────────────────────────────────────────────────────────┴──────────┴───────────┴──────────────────┘\n"
      ]
     },
     "metadata": {},
     "output_type": "display_data"
    },
    {
     "data": {
      "text/html": [
       "<pre style=\"white-space:pre;overflow-x:auto;line-height:normal;font-family:Menlo,'DejaVu Sans Mono',consolas,'Courier New',monospace\"><span style=\"font-style: italic\">                                       Place Names: Ave logit diff = -3.593                                        </span>\n",
       "┏━━━━━━━━━━━━━━━━━━━━━━━━━━━━━━━━━━━━━━━━━━━━━━━━━━━━━━━━━━━━━━━━━━━━━━┳━━━━━━━━━━━┳━━━━━━━━━━━┳━━━━━━━━━━━━━━━━━━┓\n",
       "┃<span style=\"font-weight: bold\"> Prompt                                                               </span>┃<span style=\"font-weight: bold\"> Correct   </span>┃<span style=\"font-weight: bold\"> Incorrect </span>┃<span style=\"font-weight: bold\"> Logit Difference </span>┃\n",
       "┡━━━━━━━━━━━━━━━━━━━━━━━━━━━━━━━━━━━━━━━━━━━━━━━━━━━━━━━━━━━━━━━━━━━━━━╇━━━━━━━━━━━╇━━━━━━━━━━━╇━━━━━━━━━━━━━━━━━━┩\n",
       "│ When  Madison and  Florence went to the shops, Florence gave the bag │<span style=\"color: #00c800; text-decoration-color: #00c800; font-weight: bold\">  Madison  </span>│<span style=\"color: #ff0000; text-decoration-color: #ff0000; font-weight: bold\">  Florence </span>│<span style=\"font-weight: bold\"> -2.979           </span>│\n",
       "│ to                                                                   │<span style=\"color: #00c800; text-decoration-color: #00c800; font-weight: bold\">           </span>│<span style=\"color: #ff0000; text-decoration-color: #ff0000; font-weight: bold\">           </span>│<span style=\"font-weight: bold\">                  </span>│\n",
       "│ When  Madison and  Florence went to the shops, Madison gave the bag  │<span style=\"color: #00c800; text-decoration-color: #00c800; font-weight: bold\">  Florence </span>│<span style=\"color: #ff0000; text-decoration-color: #ff0000; font-weight: bold\">  Madison  </span>│<span style=\"font-weight: bold\"> -6.354           </span>│\n",
       "│ to                                                                   │<span style=\"color: #00c800; text-decoration-color: #00c800; font-weight: bold\">           </span>│<span style=\"color: #ff0000; text-decoration-color: #ff0000; font-weight: bold\">           </span>│<span style=\"font-weight: bold\">                  </span>│\n",
       "│ When  Madison and  Brooklyn went to the shops, Brooklyn gave the bag │<span style=\"color: #00c800; text-decoration-color: #00c800; font-weight: bold\">  Madison  </span>│<span style=\"color: #ff0000; text-decoration-color: #ff0000; font-weight: bold\">  Brooklyn </span>│<span style=\"font-weight: bold\"> -2.525           </span>│\n",
       "│ to                                                                   │<span style=\"color: #00c800; text-decoration-color: #00c800; font-weight: bold\">           </span>│<span style=\"color: #ff0000; text-decoration-color: #ff0000; font-weight: bold\">           </span>│<span style=\"font-weight: bold\">                  </span>│\n",
       "│ When  Madison and  Brooklyn went to the shops, Madison gave the bag  │<span style=\"color: #00c800; text-decoration-color: #00c800; font-weight: bold\">  Brooklyn </span>│<span style=\"color: #ff0000; text-decoration-color: #ff0000; font-weight: bold\">  Madison  </span>│<span style=\"font-weight: bold\"> -1.968           </span>│\n",
       "│ to                                                                   │<span style=\"color: #00c800; text-decoration-color: #00c800; font-weight: bold\">           </span>│<span style=\"color: #ff0000; text-decoration-color: #ff0000; font-weight: bold\">           </span>│<span style=\"font-weight: bold\">                  </span>│\n",
       "│ When  Devon and  Austin went to the shops, Austin gave the bag to    │<span style=\"color: #00c800; text-decoration-color: #00c800; font-weight: bold\">  Devon    </span>│<span style=\"color: #ff0000; text-decoration-color: #ff0000; font-weight: bold\">  Austin   </span>│<span style=\"font-weight: bold\"> -2.920           </span>│\n",
       "│ When  Devon and  Austin went to the shops, Devon gave the bag to     │<span style=\"color: #00c800; text-decoration-color: #00c800; font-weight: bold\">  Austin   </span>│<span style=\"color: #ff0000; text-decoration-color: #ff0000; font-weight: bold\">  Devon    </span>│<span style=\"font-weight: bold\"> -7.918           </span>│\n",
       "│ When  Austin and  Brooklyn went to the shops, Brooklyn gave the bag  │<span style=\"color: #00c800; text-decoration-color: #00c800; font-weight: bold\">  Austin   </span>│<span style=\"color: #ff0000; text-decoration-color: #ff0000; font-weight: bold\">  Brooklyn </span>│<span style=\"font-weight: bold\"> -2.230           </span>│\n",
       "│ to                                                                   │<span style=\"color: #00c800; text-decoration-color: #00c800; font-weight: bold\">           </span>│<span style=\"color: #ff0000; text-decoration-color: #ff0000; font-weight: bold\">           </span>│<span style=\"font-weight: bold\">                  </span>│\n",
       "│ When  Austin and  Brooklyn went to the shops, Austin gave the bag to │<span style=\"color: #00c800; text-decoration-color: #00c800; font-weight: bold\">  Brooklyn </span>│<span style=\"color: #ff0000; text-decoration-color: #ff0000; font-weight: bold\">  Austin   </span>│<span style=\"font-weight: bold\"> -1.926           </span>│\n",
       "│ When  Austin and  Devon went to the shops, Devon gave the bag to     │<span style=\"color: #00c800; text-decoration-color: #00c800; font-weight: bold\">  Austin   </span>│<span style=\"color: #ff0000; text-decoration-color: #ff0000; font-weight: bold\">  Devon    </span>│<span style=\"font-weight: bold\"> -2.331           </span>│\n",
       "│ When  Austin and  Devon went to the shops, Austin gave the bag to    │<span style=\"color: #00c800; text-decoration-color: #00c800; font-weight: bold\">  Devon    </span>│<span style=\"color: #ff0000; text-decoration-color: #ff0000; font-weight: bold\">  Austin   </span>│<span style=\"font-weight: bold\"> -6.963           </span>│\n",
       "│ When  Austin and  Madison went to the shops, Madison gave the bag to │<span style=\"color: #00c800; text-decoration-color: #00c800; font-weight: bold\">  Austin   </span>│<span style=\"color: #ff0000; text-decoration-color: #ff0000; font-weight: bold\">  Madison  </span>│<span style=\"font-weight: bold\"> -2.843           </span>│\n",
       "│ When  Austin and  Madison went to the shops, Austin gave the bag to  │<span style=\"color: #00c800; text-decoration-color: #00c800; font-weight: bold\">  Madison  </span>│<span style=\"color: #ff0000; text-decoration-color: #ff0000; font-weight: bold\">  Austin   </span>│<span style=\"font-weight: bold\"> -5.580           </span>│\n",
       "│ When  Florence and  Phoenix went to the shops, Phoenix gave the bag  │<span style=\"color: #00c800; text-decoration-color: #00c800; font-weight: bold\">  Florence </span>│<span style=\"color: #ff0000; text-decoration-color: #ff0000; font-weight: bold\">  Phoenix  </span>│<span style=\"font-weight: bold\"> -2.767           </span>│\n",
       "│ to                                                                   │<span style=\"color: #00c800; text-decoration-color: #00c800; font-weight: bold\">           </span>│<span style=\"color: #ff0000; text-decoration-color: #ff0000; font-weight: bold\">           </span>│<span style=\"font-weight: bold\">                  </span>│\n",
       "│ When  Florence and  Phoenix went to the shops, Florence gave the bag │<span style=\"color: #00c800; text-decoration-color: #00c800; font-weight: bold\">  Phoenix  </span>│<span style=\"color: #ff0000; text-decoration-color: #ff0000; font-weight: bold\">  Florence </span>│<span style=\"font-weight: bold\"> -5.405           </span>│\n",
       "│ to                                                                   │<span style=\"color: #00c800; text-decoration-color: #00c800; font-weight: bold\">           </span>│<span style=\"color: #ff0000; text-decoration-color: #ff0000; font-weight: bold\">           </span>│<span style=\"font-weight: bold\">                  </span>│\n",
       "│ When  Madison and  Devon went to the shops, Devon gave the bag to    │<span style=\"color: #00c800; text-decoration-color: #00c800; font-weight: bold\">  Madison  </span>│<span style=\"color: #ff0000; text-decoration-color: #ff0000; font-weight: bold\">  Devon    </span>│<span style=\"font-weight: bold\"> -3.195           </span>│\n",
       "│ When  Madison and  Devon went to the shops, Madison gave the bag to  │<span style=\"color: #00c800; text-decoration-color: #00c800; font-weight: bold\">  Devon    </span>│<span style=\"color: #ff0000; text-decoration-color: #ff0000; font-weight: bold\">  Madison  </span>│<span style=\"font-weight: bold\"> -6.638           </span>│\n",
       "│ When  London and  Florence went to the shops, Florence gave the bag  │<span style=\"color: #00c800; text-decoration-color: #00c800; font-weight: bold\">  London   </span>│<span style=\"color: #ff0000; text-decoration-color: #ff0000; font-weight: bold\">  Florence </span>│<span style=\"font-weight: bold\"> 1.493            </span>│\n",
       "│ to                                                                   │<span style=\"color: #00c800; text-decoration-color: #00c800; font-weight: bold\">           </span>│<span style=\"color: #ff0000; text-decoration-color: #ff0000; font-weight: bold\">           </span>│<span style=\"font-weight: bold\">                  </span>│\n",
       "│ When  London and  Florence went to the shops, London gave the bag to │<span style=\"color: #00c800; text-decoration-color: #00c800; font-weight: bold\">  Florence </span>│<span style=\"color: #ff0000; text-decoration-color: #ff0000; font-weight: bold\">  London   </span>│<span style=\"font-weight: bold\"> -4.285           </span>│\n",
       "│ When  Phoenix and  London went to the shops, London gave the bag to  │<span style=\"color: #00c800; text-decoration-color: #00c800; font-weight: bold\">  Phoenix  </span>│<span style=\"color: #ff0000; text-decoration-color: #ff0000; font-weight: bold\">  London   </span>│<span style=\"font-weight: bold\"> -0.971           </span>│\n",
       "│ When  Phoenix and  London went to the shops, Phoenix gave the bag to │<span style=\"color: #00c800; text-decoration-color: #00c800; font-weight: bold\">  London   </span>│<span style=\"color: #ff0000; text-decoration-color: #ff0000; font-weight: bold\">  Phoenix  </span>│<span style=\"font-weight: bold\"> -3.557           </span>│\n",
       "└──────────────────────────────────────────────────────────────────────┴───────────┴───────────┴──────────────────┘\n",
       "</pre>\n"
      ],
      "text/plain": [
       "\u001b[3m                                       Place Names: Ave logit diff = -3.593                                        \u001b[0m\n",
       "┏━━━━━━━━━━━━━━━━━━━━━━━━━━━━━━━━━━━━━━━━━━━━━━━━━━━━━━━━━━━━━━━━━━━━━━┳━━━━━━━━━━━┳━━━━━━━━━━━┳━━━━━━━━━━━━━━━━━━┓\n",
       "┃\u001b[1m \u001b[0m\u001b[1mPrompt                                                              \u001b[0m\u001b[1m \u001b[0m┃\u001b[1m \u001b[0m\u001b[1mCorrect  \u001b[0m\u001b[1m \u001b[0m┃\u001b[1m \u001b[0m\u001b[1mIncorrect\u001b[0m\u001b[1m \u001b[0m┃\u001b[1m \u001b[0m\u001b[1mLogit Difference\u001b[0m\u001b[1m \u001b[0m┃\n",
       "┡━━━━━━━━━━━━━━━━━━━━━━━━━━━━━━━━━━━━━━━━━━━━━━━━━━━━━━━━━━━━━━━━━━━━━━╇━━━━━━━━━━━╇━━━━━━━━━━━╇━━━━━━━━━━━━━━━━━━┩\n",
       "│ When  Madison and  Florence went to the shops, Florence gave the bag │\u001b[1;38;2;0;200;0m \u001b[0m\u001b[1;38;2;0;200;0m Madison \u001b[0m\u001b[1;38;2;0;200;0m \u001b[0m│\u001b[1;38;2;255;0;0m \u001b[0m\u001b[1;38;2;255;0;0m Florence\u001b[0m\u001b[1;38;2;255;0;0m \u001b[0m│\u001b[1m \u001b[0m\u001b[1m-2.979          \u001b[0m\u001b[1m \u001b[0m│\n",
       "│ to                                                                   │\u001b[1;38;2;0;200;0m           \u001b[0m│\u001b[1;38;2;255;0;0m           \u001b[0m│\u001b[1m                  \u001b[0m│\n",
       "│ When  Madison and  Florence went to the shops, Madison gave the bag  │\u001b[1;38;2;0;200;0m \u001b[0m\u001b[1;38;2;0;200;0m Florence\u001b[0m\u001b[1;38;2;0;200;0m \u001b[0m│\u001b[1;38;2;255;0;0m \u001b[0m\u001b[1;38;2;255;0;0m Madison \u001b[0m\u001b[1;38;2;255;0;0m \u001b[0m│\u001b[1m \u001b[0m\u001b[1m-6.354          \u001b[0m\u001b[1m \u001b[0m│\n",
       "│ to                                                                   │\u001b[1;38;2;0;200;0m           \u001b[0m│\u001b[1;38;2;255;0;0m           \u001b[0m│\u001b[1m                  \u001b[0m│\n",
       "│ When  Madison and  Brooklyn went to the shops, Brooklyn gave the bag │\u001b[1;38;2;0;200;0m \u001b[0m\u001b[1;38;2;0;200;0m Madison \u001b[0m\u001b[1;38;2;0;200;0m \u001b[0m│\u001b[1;38;2;255;0;0m \u001b[0m\u001b[1;38;2;255;0;0m Brooklyn\u001b[0m\u001b[1;38;2;255;0;0m \u001b[0m│\u001b[1m \u001b[0m\u001b[1m-2.525          \u001b[0m\u001b[1m \u001b[0m│\n",
       "│ to                                                                   │\u001b[1;38;2;0;200;0m           \u001b[0m│\u001b[1;38;2;255;0;0m           \u001b[0m│\u001b[1m                  \u001b[0m│\n",
       "│ When  Madison and  Brooklyn went to the shops, Madison gave the bag  │\u001b[1;38;2;0;200;0m \u001b[0m\u001b[1;38;2;0;200;0m Brooklyn\u001b[0m\u001b[1;38;2;0;200;0m \u001b[0m│\u001b[1;38;2;255;0;0m \u001b[0m\u001b[1;38;2;255;0;0m Madison \u001b[0m\u001b[1;38;2;255;0;0m \u001b[0m│\u001b[1m \u001b[0m\u001b[1m-1.968          \u001b[0m\u001b[1m \u001b[0m│\n",
       "│ to                                                                   │\u001b[1;38;2;0;200;0m           \u001b[0m│\u001b[1;38;2;255;0;0m           \u001b[0m│\u001b[1m                  \u001b[0m│\n",
       "│ When  Devon and  Austin went to the shops, Austin gave the bag to    │\u001b[1;38;2;0;200;0m \u001b[0m\u001b[1;38;2;0;200;0m Devon   \u001b[0m\u001b[1;38;2;0;200;0m \u001b[0m│\u001b[1;38;2;255;0;0m \u001b[0m\u001b[1;38;2;255;0;0m Austin  \u001b[0m\u001b[1;38;2;255;0;0m \u001b[0m│\u001b[1m \u001b[0m\u001b[1m-2.920          \u001b[0m\u001b[1m \u001b[0m│\n",
       "│ When  Devon and  Austin went to the shops, Devon gave the bag to     │\u001b[1;38;2;0;200;0m \u001b[0m\u001b[1;38;2;0;200;0m Austin  \u001b[0m\u001b[1;38;2;0;200;0m \u001b[0m│\u001b[1;38;2;255;0;0m \u001b[0m\u001b[1;38;2;255;0;0m Devon   \u001b[0m\u001b[1;38;2;255;0;0m \u001b[0m│\u001b[1m \u001b[0m\u001b[1m-7.918          \u001b[0m\u001b[1m \u001b[0m│\n",
       "│ When  Austin and  Brooklyn went to the shops, Brooklyn gave the bag  │\u001b[1;38;2;0;200;0m \u001b[0m\u001b[1;38;2;0;200;0m Austin  \u001b[0m\u001b[1;38;2;0;200;0m \u001b[0m│\u001b[1;38;2;255;0;0m \u001b[0m\u001b[1;38;2;255;0;0m Brooklyn\u001b[0m\u001b[1;38;2;255;0;0m \u001b[0m│\u001b[1m \u001b[0m\u001b[1m-2.230          \u001b[0m\u001b[1m \u001b[0m│\n",
       "│ to                                                                   │\u001b[1;38;2;0;200;0m           \u001b[0m│\u001b[1;38;2;255;0;0m           \u001b[0m│\u001b[1m                  \u001b[0m│\n",
       "│ When  Austin and  Brooklyn went to the shops, Austin gave the bag to │\u001b[1;38;2;0;200;0m \u001b[0m\u001b[1;38;2;0;200;0m Brooklyn\u001b[0m\u001b[1;38;2;0;200;0m \u001b[0m│\u001b[1;38;2;255;0;0m \u001b[0m\u001b[1;38;2;255;0;0m Austin  \u001b[0m\u001b[1;38;2;255;0;0m \u001b[0m│\u001b[1m \u001b[0m\u001b[1m-1.926          \u001b[0m\u001b[1m \u001b[0m│\n",
       "│ When  Austin and  Devon went to the shops, Devon gave the bag to     │\u001b[1;38;2;0;200;0m \u001b[0m\u001b[1;38;2;0;200;0m Austin  \u001b[0m\u001b[1;38;2;0;200;0m \u001b[0m│\u001b[1;38;2;255;0;0m \u001b[0m\u001b[1;38;2;255;0;0m Devon   \u001b[0m\u001b[1;38;2;255;0;0m \u001b[0m│\u001b[1m \u001b[0m\u001b[1m-2.331          \u001b[0m\u001b[1m \u001b[0m│\n",
       "│ When  Austin and  Devon went to the shops, Austin gave the bag to    │\u001b[1;38;2;0;200;0m \u001b[0m\u001b[1;38;2;0;200;0m Devon   \u001b[0m\u001b[1;38;2;0;200;0m \u001b[0m│\u001b[1;38;2;255;0;0m \u001b[0m\u001b[1;38;2;255;0;0m Austin  \u001b[0m\u001b[1;38;2;255;0;0m \u001b[0m│\u001b[1m \u001b[0m\u001b[1m-6.963          \u001b[0m\u001b[1m \u001b[0m│\n",
       "│ When  Austin and  Madison went to the shops, Madison gave the bag to │\u001b[1;38;2;0;200;0m \u001b[0m\u001b[1;38;2;0;200;0m Austin  \u001b[0m\u001b[1;38;2;0;200;0m \u001b[0m│\u001b[1;38;2;255;0;0m \u001b[0m\u001b[1;38;2;255;0;0m Madison \u001b[0m\u001b[1;38;2;255;0;0m \u001b[0m│\u001b[1m \u001b[0m\u001b[1m-2.843          \u001b[0m\u001b[1m \u001b[0m│\n",
       "│ When  Austin and  Madison went to the shops, Austin gave the bag to  │\u001b[1;38;2;0;200;0m \u001b[0m\u001b[1;38;2;0;200;0m Madison \u001b[0m\u001b[1;38;2;0;200;0m \u001b[0m│\u001b[1;38;2;255;0;0m \u001b[0m\u001b[1;38;2;255;0;0m Austin  \u001b[0m\u001b[1;38;2;255;0;0m \u001b[0m│\u001b[1m \u001b[0m\u001b[1m-5.580          \u001b[0m\u001b[1m \u001b[0m│\n",
       "│ When  Florence and  Phoenix went to the shops, Phoenix gave the bag  │\u001b[1;38;2;0;200;0m \u001b[0m\u001b[1;38;2;0;200;0m Florence\u001b[0m\u001b[1;38;2;0;200;0m \u001b[0m│\u001b[1;38;2;255;0;0m \u001b[0m\u001b[1;38;2;255;0;0m Phoenix \u001b[0m\u001b[1;38;2;255;0;0m \u001b[0m│\u001b[1m \u001b[0m\u001b[1m-2.767          \u001b[0m\u001b[1m \u001b[0m│\n",
       "│ to                                                                   │\u001b[1;38;2;0;200;0m           \u001b[0m│\u001b[1;38;2;255;0;0m           \u001b[0m│\u001b[1m                  \u001b[0m│\n",
       "│ When  Florence and  Phoenix went to the shops, Florence gave the bag │\u001b[1;38;2;0;200;0m \u001b[0m\u001b[1;38;2;0;200;0m Phoenix \u001b[0m\u001b[1;38;2;0;200;0m \u001b[0m│\u001b[1;38;2;255;0;0m \u001b[0m\u001b[1;38;2;255;0;0m Florence\u001b[0m\u001b[1;38;2;255;0;0m \u001b[0m│\u001b[1m \u001b[0m\u001b[1m-5.405          \u001b[0m\u001b[1m \u001b[0m│\n",
       "│ to                                                                   │\u001b[1;38;2;0;200;0m           \u001b[0m│\u001b[1;38;2;255;0;0m           \u001b[0m│\u001b[1m                  \u001b[0m│\n",
       "│ When  Madison and  Devon went to the shops, Devon gave the bag to    │\u001b[1;38;2;0;200;0m \u001b[0m\u001b[1;38;2;0;200;0m Madison \u001b[0m\u001b[1;38;2;0;200;0m \u001b[0m│\u001b[1;38;2;255;0;0m \u001b[0m\u001b[1;38;2;255;0;0m Devon   \u001b[0m\u001b[1;38;2;255;0;0m \u001b[0m│\u001b[1m \u001b[0m\u001b[1m-3.195          \u001b[0m\u001b[1m \u001b[0m│\n",
       "│ When  Madison and  Devon went to the shops, Madison gave the bag to  │\u001b[1;38;2;0;200;0m \u001b[0m\u001b[1;38;2;0;200;0m Devon   \u001b[0m\u001b[1;38;2;0;200;0m \u001b[0m│\u001b[1;38;2;255;0;0m \u001b[0m\u001b[1;38;2;255;0;0m Madison \u001b[0m\u001b[1;38;2;255;0;0m \u001b[0m│\u001b[1m \u001b[0m\u001b[1m-6.638          \u001b[0m\u001b[1m \u001b[0m│\n",
       "│ When  London and  Florence went to the shops, Florence gave the bag  │\u001b[1;38;2;0;200;0m \u001b[0m\u001b[1;38;2;0;200;0m London  \u001b[0m\u001b[1;38;2;0;200;0m \u001b[0m│\u001b[1;38;2;255;0;0m \u001b[0m\u001b[1;38;2;255;0;0m Florence\u001b[0m\u001b[1;38;2;255;0;0m \u001b[0m│\u001b[1m \u001b[0m\u001b[1m1.493           \u001b[0m\u001b[1m \u001b[0m│\n",
       "│ to                                                                   │\u001b[1;38;2;0;200;0m           \u001b[0m│\u001b[1;38;2;255;0;0m           \u001b[0m│\u001b[1m                  \u001b[0m│\n",
       "│ When  London and  Florence went to the shops, London gave the bag to │\u001b[1;38;2;0;200;0m \u001b[0m\u001b[1;38;2;0;200;0m Florence\u001b[0m\u001b[1;38;2;0;200;0m \u001b[0m│\u001b[1;38;2;255;0;0m \u001b[0m\u001b[1;38;2;255;0;0m London  \u001b[0m\u001b[1;38;2;255;0;0m \u001b[0m│\u001b[1m \u001b[0m\u001b[1m-4.285          \u001b[0m\u001b[1m \u001b[0m│\n",
       "│ When  Phoenix and  London went to the shops, London gave the bag to  │\u001b[1;38;2;0;200;0m \u001b[0m\u001b[1;38;2;0;200;0m Phoenix \u001b[0m\u001b[1;38;2;0;200;0m \u001b[0m│\u001b[1;38;2;255;0;0m \u001b[0m\u001b[1;38;2;255;0;0m London  \u001b[0m\u001b[1;38;2;255;0;0m \u001b[0m│\u001b[1m \u001b[0m\u001b[1m-0.971          \u001b[0m\u001b[1m \u001b[0m│\n",
       "│ When  Phoenix and  London went to the shops, Phoenix gave the bag to │\u001b[1;38;2;0;200;0m \u001b[0m\u001b[1;38;2;0;200;0m London  \u001b[0m\u001b[1;38;2;0;200;0m \u001b[0m│\u001b[1;38;2;255;0;0m \u001b[0m\u001b[1;38;2;255;0;0m Phoenix \u001b[0m\u001b[1;38;2;255;0;0m \u001b[0m│\u001b[1m \u001b[0m\u001b[1m-3.557          \u001b[0m\u001b[1m \u001b[0m│\n",
       "└──────────────────────────────────────────────────────────────────────┴───────────┴───────────┴──────────────────┘\n"
      ]
     },
     "metadata": {},
     "output_type": "display_data"
    }
   ],
   "source": [
    "make_table(prompts_n, ans_n, ans_toks_n, \"nouns\")\n",
    "make_table(prompts_pn, ans_pn, ans_toks_pn, \"proper nouns\")\n",
    "make_table(prompts_rel, ans_rel, ans_toks_rel, \"Religious Names\")\n",
    "make_table(prompts_pl, ans_pl, ans_toks_pl, \"Place Names\")"
   ]
  },
  {
   "attachments": {},
   "cell_type": "markdown",
   "metadata": {},
   "source": [
    "Results look pretty bad across the board ... let's look at the top_k tokens to see "
   ]
  },
  {
   "cell_type": "code",
   "execution_count": 153,
   "metadata": {},
   "outputs": [
    {
     "name": "stdout",
     "output_type": "stream",
     "text": [
      "tensor([-1.2884, -1.5528, -2.2378, -2.4683, -3.5000]) tensor([-12.5240, -12.0724, -14.4456,  ..., -16.4893, -17.4218, -12.1294])\n",
      "[' Abraham', ' ', ' them', ' the', ' Paul']\n",
      "tensor(-1.2884)\n"
     ]
    }
   ],
   "source": [
    "sample_prompt = prompts_rel[5]\n",
    "sample_logits = model(sample_prompt)\n",
    "sample_probs = t.log_softmax(sample_logits[0, -1], dim = -1)\n",
    "vals, ids = t.topk(sample_probs,5)\n",
    "print(vals, sample_probs)\n",
    "print([model.tokenizer.decode(ids[j]) for j in range(len(ids))])\n",
    "print(sample_probs[ids[0]])\n",
    "\n"
   ]
  },
  {
   "cell_type": "code",
   "execution_count": null,
   "metadata": {},
   "outputs": [],
   "source": []
  }
 ],
 "metadata": {
  "kernelspec": {
   "display_name": "torch-gpu",
   "language": "python",
   "name": "python3"
  },
  "language_info": {
   "codemirror_mode": {
    "name": "ipython",
    "version": 3
   },
   "file_extension": ".py",
   "mimetype": "text/x-python",
   "name": "python",
   "nbconvert_exporter": "python",
   "pygments_lexer": "ipython3",
   "version": "3.10.9"
  },
  "orig_nbformat": 4,
  "vscode": {
   "interpreter": {
    "hash": "6e851e82dedee55c73100bfbe6682b3cabddc188516229e1e8f6342cda6eae37"
   }
  }
 },
 "nbformat": 4,
 "nbformat_minor": 2
}
