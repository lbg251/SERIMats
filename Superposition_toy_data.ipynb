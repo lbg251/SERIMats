{
 "cells": [
  {
   "cell_type": "code",
   "execution_count": 5,
   "metadata": {},
   "outputs": [],
   "source": [
    "# Import stuff\n",
    "import torch as t\n",
    "import numpy as np\n",
    "# Plotly needs a different renderer for VSCode/Notebooks vs Colab argh\n",
    "import plotly.io as pio\n",
    "pio.renderers.default = \"notebook_connected\"\n",
    "import plotly.express as px\n",
    "import einops\n",
    "import plotly.graph_objects as go \n",
    "from functools import partial\n",
    "import tqdm.auto as tqdm\n",
    "import circuitsvis as cv\n",
    "from transformer_lens.hook_points import HookPoint\n",
    "from transformer_lens import utils, HookedTransformer, ActivationCache\n",
    "from transformer_lens.components import Embed, Unembed, LayerNorm, MLP\n",
    "from fancy_einsum import einsum\n",
    "from jaxtyping import Float, Int, Bool\n",
    "import re\n",
    "import random\n"
   ]
  },
  {
   "cell_type": "code",
   "execution_count": 2,
   "metadata": {},
   "outputs": [],
   "source": [
    "\n",
    "def imshow(tensor, renderer=None, **kwargs):\n",
    "    px.imshow(utils.to_numpy(tensor), color_continuous_midpoint=0.0, color_continuous_scale=\"RdBu\", **kwargs).show(renderer)\n",
    "\n",
    "def line(tensor, renderer=None, **kwargs):\n",
    "    px.line(y=utils.to_numpy(tensor), **kwargs).show(renderer)\n",
    "\n",
    "def scatter(x, y, xaxis=\"\", yaxis=\"\", caxis=\"\", renderer=None, **kwargs):\n",
    "    x = utils.to_numpy(x)\n",
    "    y = utils.to_numpy(y)\n",
    "    px.scatter(y=y, x=x, labels={\"x\":xaxis, \"y\":yaxis, \"color\":caxis}, **kwargs).show(renderer)"
   ]
  },
  {
   "cell_type": "code",
   "execution_count": 3,
   "metadata": {},
   "outputs": [
    {
     "name": "stderr",
     "output_type": "stream",
     "text": [
      "Using pad_token, but it is not set yet.\n"
     ]
    },
    {
     "name": "stdout",
     "output_type": "stream",
     "text": [
      "Loaded pretrained model gpt2-small into HookedTransformer\n"
     ]
    }
   ],
   "source": [
    "## turn off AD to save memory, since we're focusing on model inference here \n",
    "t.set_grad_enabled(False)\n",
    "\n",
    "device = 'cuda' if t.cuda.is_available() else 'cpu'\n",
    "model = HookedTransformer.from_pretrained('gpt2-small', device=device)"
   ]
  },
  {
   "attachments": {},
   "cell_type": "markdown",
   "metadata": {},
   "source": [
    "Studying the head outputs on different distributions\n",
    "\n",
    "Create the datasets "
   ]
  },
  {
   "cell_type": "code",
   "execution_count": 87,
   "metadata": {},
   "outputs": [
    {
     "data": {
      "text/plain": [
       "[46317, 4564, 3012, 9369, 20127, 43330, 28607, 20025]"
      ]
     },
     "execution_count": 87,
     "metadata": {},
     "output_type": "execute_result"
    }
   ],
   "source": [
    "proper_nouns = [\n",
    "    \" Goose\", \" Church\",\n",
    "    \" Google\", \" Chair\",\n",
    "    \" Bag\", \" Statue\",\n",
    "    \" Lamp\", \" Flower\"\n",
    "]\n",
    "\n",
    "nouns = [\n",
    "    \" goose\", \" church\",\n",
    "    \" google\", \" chair\",\n",
    "    \" bag\", \" statue\",\n",
    "    \" lamp\", \" flower\"\n",
    "]\n",
    "\n",
    "multi_names_religious = [\n",
    "    \" Mary\", \" Joseph\",\n",
    "    \" Abraham\", \" Paul\",\n",
    "    \" Isaac\", \" Noah\",\n",
    "    \" Jacob\", \" Jesus\"\n",
    "]\n",
    "\n",
    "multi_names_places = [\n",
    "    \" Paris\", \" London\",\n",
    "    \" Madison\", \" Phoenix\",\n",
    "    \" Devon\", \" Florence\",\n",
    "    \" Austin\", \" Brooklyn\"\n",
    "]\n",
    "\n",
    "test = proper_nouns\n",
    "[model.to_single_token(test[i]) for i in range(len(test))]\n"
   ]
  },
  {
   "cell_type": "code",
   "execution_count": 233,
   "metadata": {},
   "outputs": [],
   "source": [
    "\n",
    "\n",
    "\n",
    "def get_dataset(N, names):\n",
    "    prompts = []\n",
    "    # List of answers, in the format (correct, incorrect)\n",
    "    answers = []\n",
    "    # List of the token (ie an integer) corresponding to each answer, in the format (correct_token, incorrect_token)\n",
    "    answer_tokens = []\n",
    "    for _ in range(N):\n",
    "        S1, S2 = random.sample(names,2)\n",
    "        answers.append((S1,S2))\n",
    "        answers.append((S2,S1))\n",
    "        prompt1 = f'When {S1} and {S2} went to the shops,{S2} gave the bag to'\n",
    "        prompt2 = f'When {S1} and {S2} went to the shops,{S1} gave the bag to'\n",
    "        prompts.append(prompt1)\n",
    "        prompts.append(prompt2)\n",
    "\n",
    "        answer_tok_1 = model.to_single_token(S1)\n",
    "        answer_tok_2 = model.to_single_token(S2)\n",
    "\n",
    "        answer_tokens.append((answer_tok_1, answer_tok_2))\n",
    "        answer_tokens.append((answer_tok_2, answer_tok_1))\n",
    "    assert len(set([len(model.to_str_tokens(prompt)) for prompt in prompts])) == 1\n",
    "    answer_tokens = t.tensor(answer_tokens).to(device)\n",
    "    return prompts, answers, answer_tokens\n",
    "\n"
   ]
  },
  {
   "cell_type": "code",
   "execution_count": 234,
   "metadata": {},
   "outputs": [],
   "source": [
    "prompts_rel, ans_rel, ans_toks_rel = get_dataset(10,multi_names_religious)\n",
    "prompts_pl, ans_pl, ans_toks_pl = get_dataset(10,multi_names_places)\n",
    "prompts_n, ans_n, ans_toks_n = get_dataset(10,nouns)\n",
    "prompts_pn, ans_pn, ans_toks_pn = get_dataset(10,proper_nouns)\n",
    "\n"
   ]
  },
  {
   "cell_type": "code",
   "execution_count": 235,
   "metadata": {},
   "outputs": [],
   "source": [
    "from rich.table import Table, Column\n",
    "from rich import print as rprint\n"
   ]
  },
  {
   "cell_type": "code",
   "execution_count": 236,
   "metadata": {},
   "outputs": [],
   "source": [
    "control_prompts = ['When John and Mary went to the shops, John gave the bag to',\n",
    " 'When John and Mary went to the shops, Mary gave the bag to',\n",
    " 'When Tom and James went to the park, James gave the ball to',\n",
    " 'When Tom and James went to the park, Tom gave the ball to',\n",
    " 'When Dan and Sid went to the shops, Sid gave an apple to',\n",
    " 'When Dan and Sid went to the shops, Dan gave an apple to',\n",
    " 'After Martin and Amy went to the park, Amy gave a drink to',\n",
    " 'After Martin and Amy went to the park, Martin gave a drink to']\n",
    "\n",
    "control_answers = [(' Mary', ' John'),\n",
    " (' John', ' Mary'),\n",
    " (' Tom', ' James'),\n",
    " (' James', ' Tom'),\n",
    " (' Dan', ' Sid'),\n",
    " (' Sid', ' Dan'),\n",
    " (' Martin', ' Amy'),\n",
    " (' Amy', ' Martin')]\n",
    "\n",
    "control_ans_prompts = t.tensor([[ 5335,  1757],\n",
    "        [ 1757,  5335],\n",
    "        [ 4186,  3700],\n",
    "        [ 3700,  4186],\n",
    "        [ 6035, 15686],\n",
    "        [15686,  6035],\n",
    "        [ 5780, 14235],\n",
    "        [14235,  5780]])\n",
    "\n"
   ]
  },
  {
   "cell_type": "code",
   "execution_count": 237,
   "metadata": {},
   "outputs": [
    {
     "name": "stdout",
     "output_type": "stream",
     "text": [
      "torch.Size([20, 17, 50257])\n",
      "torch.Size([20, 50257])\n"
     ]
    },
    {
     "data": {
      "text/plain": [
       "tensor(0.4340)"
      ]
     },
     "execution_count": 237,
     "metadata": {},
     "output_type": "execute_result"
    }
   ],
   "source": [
    "print(model(prompts_n).shape)\n",
    "\n",
    "def ave_logit_diff(prompts, answer_tokens, per_prompt = False):\n",
    "    final_logits = model(prompts)[:,-1,:]\n",
    "    answer_logits = final_logits.gather(dim = -1, index = answer_tokens)\n",
    "    print(final_logits.shape)\n",
    "    answer_logit_diff = answer_logits[:,0] - answer_logits[:,1]\n",
    "    if per_prompt:\n",
    "        return answer_logit_diff \n",
    "    else:\n",
    "        return answer_logit_diff.mean()\n",
    "\n",
    "ave_logit_diff(prompts_n, ans_toks_n)"
   ]
  },
  {
   "cell_type": "code",
   "execution_count": 238,
   "metadata": {},
   "outputs": [],
   "source": [
    "def make_table(prompts, answers, answer_tokens, title):\n",
    "    cols = [\n",
    "        \"Prompt\", \n",
    "        Column(\"Correct\", style=\"rgb(0,200,0) bold\"), \n",
    "        Column(\"Incorrect\", style=\"rgb(255,0,0) bold\"), \n",
    "        Column(\"Logit Difference\", style=\"bold\")\n",
    "    ]\n",
    "    logit_diffs = ave_logit_diff(prompts,answer_tokens, per_prompt = True)\n",
    "    \n",
    "    ave_logits = ave_logit_diff(prompts,answer_tokens, per_prompt = False)\n",
    "    logit_diff_table = Table(*cols, title=title + f\": Ave logit diff = {ave_logits.item():.3f}\")\n",
    "    logit_diffs = ave_logit_diff(prompts,answer_tokens, per_prompt = True)\n",
    "    \n",
    "    ave_logits = ave_logit_diff(prompts,answer_tokens, per_prompt = False)\n",
    "                                 \n",
    "    ave_logit_diff(prompts, answer_tokens)\n",
    "    for prompt, ans, logit_diff in zip(prompts, answers,logit_diffs):\n",
    "        logit_diff_table.add_row(prompt, ans[0], ans[1], f\"{logit_diff.item():.3f}\")\n",
    "    rprint(logit_diff_table)"
   ]
  },
  {
   "cell_type": "code",
   "execution_count": 239,
   "metadata": {},
   "outputs": [
    {
     "name": "stdout",
     "output_type": "stream",
     "text": [
      "torch.Size([8, 50257])\n",
      "torch.Size([8, 50257])\n",
      "torch.Size([8, 50257])\n",
      "torch.Size([8, 50257])\n",
      "torch.Size([8, 50257])\n"
     ]
    },
    {
     "data": {
      "text/html": [
       "<pre style=\"white-space:pre;overflow-x:auto;line-height:normal;font-family:Menlo,'DejaVu Sans Mono',consolas,'Courier New',monospace\"><span style=\"font-style: italic\">                                  Control Names: Ave logit diff = 3.552                                   </span>\n",
       "┏━━━━━━━━━━━━━━━━━━━━━━━━━━━━━━━━━━━━━━━━━━━━━━━━━━━━━━━━━━━━━━━┳━━━━━━━━━┳━━━━━━━━━━━┳━━━━━━━━━━━━━━━━━━┓\n",
       "┃<span style=\"font-weight: bold\"> Prompt                                                        </span>┃<span style=\"font-weight: bold\"> Correct </span>┃<span style=\"font-weight: bold\"> Incorrect </span>┃<span style=\"font-weight: bold\"> Logit Difference </span>┃\n",
       "┡━━━━━━━━━━━━━━━━━━━━━━━━━━━━━━━━━━━━━━━━━━━━━━━━━━━━━━━━━━━━━━━╇━━━━━━━━━╇━━━━━━━━━━━╇━━━━━━━━━━━━━━━━━━┩\n",
       "│ When John and Mary went to the shops, John gave the bag to    │<span style=\"color: #00c800; text-decoration-color: #00c800; font-weight: bold\">  Mary   </span>│<span style=\"color: #ff0000; text-decoration-color: #ff0000; font-weight: bold\">  John     </span>│<span style=\"font-weight: bold\"> 3.337            </span>│\n",
       "│ When John and Mary went to the shops, Mary gave the bag to    │<span style=\"color: #00c800; text-decoration-color: #00c800; font-weight: bold\">  John   </span>│<span style=\"color: #ff0000; text-decoration-color: #ff0000; font-weight: bold\">  Mary     </span>│<span style=\"font-weight: bold\"> 3.202            </span>│\n",
       "│ When Tom and James went to the park, James gave the ball to   │<span style=\"color: #00c800; text-decoration-color: #00c800; font-weight: bold\">  Tom    </span>│<span style=\"color: #ff0000; text-decoration-color: #ff0000; font-weight: bold\">  James    </span>│<span style=\"font-weight: bold\"> 2.709            </span>│\n",
       "│ When Tom and James went to the park, Tom gave the ball to     │<span style=\"color: #00c800; text-decoration-color: #00c800; font-weight: bold\">  James  </span>│<span style=\"color: #ff0000; text-decoration-color: #ff0000; font-weight: bold\">  Tom      </span>│<span style=\"font-weight: bold\"> 3.797            </span>│\n",
       "│ When Dan and Sid went to the shops, Sid gave an apple to      │<span style=\"color: #00c800; text-decoration-color: #00c800; font-weight: bold\">  Dan    </span>│<span style=\"color: #ff0000; text-decoration-color: #ff0000; font-weight: bold\">  Sid      </span>│<span style=\"font-weight: bold\"> 1.720            </span>│\n",
       "│ When Dan and Sid went to the shops, Dan gave an apple to      │<span style=\"color: #00c800; text-decoration-color: #00c800; font-weight: bold\">  Sid    </span>│<span style=\"color: #ff0000; text-decoration-color: #ff0000; font-weight: bold\">  Dan      </span>│<span style=\"font-weight: bold\"> 5.281            </span>│\n",
       "│ After Martin and Amy went to the park, Amy gave a drink to    │<span style=\"color: #00c800; text-decoration-color: #00c800; font-weight: bold\">  Martin </span>│<span style=\"color: #ff0000; text-decoration-color: #ff0000; font-weight: bold\">  Amy      </span>│<span style=\"font-weight: bold\"> 2.601            </span>│\n",
       "│ After Martin and Amy went to the park, Martin gave a drink to │<span style=\"color: #00c800; text-decoration-color: #00c800; font-weight: bold\">  Amy    </span>│<span style=\"color: #ff0000; text-decoration-color: #ff0000; font-weight: bold\">  Martin   </span>│<span style=\"font-weight: bold\"> 5.767            </span>│\n",
       "└───────────────────────────────────────────────────────────────┴─────────┴───────────┴──────────────────┘\n",
       "</pre>\n"
      ],
      "text/plain": [
       "\u001b[3m                                  Control Names: Ave logit diff = 3.552                                   \u001b[0m\n",
       "┏━━━━━━━━━━━━━━━━━━━━━━━━━━━━━━━━━━━━━━━━━━━━━━━━━━━━━━━━━━━━━━━┳━━━━━━━━━┳━━━━━━━━━━━┳━━━━━━━━━━━━━━━━━━┓\n",
       "┃\u001b[1m \u001b[0m\u001b[1mPrompt                                                       \u001b[0m\u001b[1m \u001b[0m┃\u001b[1m \u001b[0m\u001b[1mCorrect\u001b[0m\u001b[1m \u001b[0m┃\u001b[1m \u001b[0m\u001b[1mIncorrect\u001b[0m\u001b[1m \u001b[0m┃\u001b[1m \u001b[0m\u001b[1mLogit Difference\u001b[0m\u001b[1m \u001b[0m┃\n",
       "┡━━━━━━━━━━━━━━━━━━━━━━━━━━━━━━━━━━━━━━━━━━━━━━━━━━━━━━━━━━━━━━━╇━━━━━━━━━╇━━━━━━━━━━━╇━━━━━━━━━━━━━━━━━━┩\n",
       "│ When John and Mary went to the shops, John gave the bag to    │\u001b[1;38;2;0;200;0m \u001b[0m\u001b[1;38;2;0;200;0m Mary  \u001b[0m\u001b[1;38;2;0;200;0m \u001b[0m│\u001b[1;38;2;255;0;0m \u001b[0m\u001b[1;38;2;255;0;0m John    \u001b[0m\u001b[1;38;2;255;0;0m \u001b[0m│\u001b[1m \u001b[0m\u001b[1m3.337           \u001b[0m\u001b[1m \u001b[0m│\n",
       "│ When John and Mary went to the shops, Mary gave the bag to    │\u001b[1;38;2;0;200;0m \u001b[0m\u001b[1;38;2;0;200;0m John  \u001b[0m\u001b[1;38;2;0;200;0m \u001b[0m│\u001b[1;38;2;255;0;0m \u001b[0m\u001b[1;38;2;255;0;0m Mary    \u001b[0m\u001b[1;38;2;255;0;0m \u001b[0m│\u001b[1m \u001b[0m\u001b[1m3.202           \u001b[0m\u001b[1m \u001b[0m│\n",
       "│ When Tom and James went to the park, James gave the ball to   │\u001b[1;38;2;0;200;0m \u001b[0m\u001b[1;38;2;0;200;0m Tom   \u001b[0m\u001b[1;38;2;0;200;0m \u001b[0m│\u001b[1;38;2;255;0;0m \u001b[0m\u001b[1;38;2;255;0;0m James   \u001b[0m\u001b[1;38;2;255;0;0m \u001b[0m│\u001b[1m \u001b[0m\u001b[1m2.709           \u001b[0m\u001b[1m \u001b[0m│\n",
       "│ When Tom and James went to the park, Tom gave the ball to     │\u001b[1;38;2;0;200;0m \u001b[0m\u001b[1;38;2;0;200;0m James \u001b[0m\u001b[1;38;2;0;200;0m \u001b[0m│\u001b[1;38;2;255;0;0m \u001b[0m\u001b[1;38;2;255;0;0m Tom     \u001b[0m\u001b[1;38;2;255;0;0m \u001b[0m│\u001b[1m \u001b[0m\u001b[1m3.797           \u001b[0m\u001b[1m \u001b[0m│\n",
       "│ When Dan and Sid went to the shops, Sid gave an apple to      │\u001b[1;38;2;0;200;0m \u001b[0m\u001b[1;38;2;0;200;0m Dan   \u001b[0m\u001b[1;38;2;0;200;0m \u001b[0m│\u001b[1;38;2;255;0;0m \u001b[0m\u001b[1;38;2;255;0;0m Sid     \u001b[0m\u001b[1;38;2;255;0;0m \u001b[0m│\u001b[1m \u001b[0m\u001b[1m1.720           \u001b[0m\u001b[1m \u001b[0m│\n",
       "│ When Dan and Sid went to the shops, Dan gave an apple to      │\u001b[1;38;2;0;200;0m \u001b[0m\u001b[1;38;2;0;200;0m Sid   \u001b[0m\u001b[1;38;2;0;200;0m \u001b[0m│\u001b[1;38;2;255;0;0m \u001b[0m\u001b[1;38;2;255;0;0m Dan     \u001b[0m\u001b[1;38;2;255;0;0m \u001b[0m│\u001b[1m \u001b[0m\u001b[1m5.281           \u001b[0m\u001b[1m \u001b[0m│\n",
       "│ After Martin and Amy went to the park, Amy gave a drink to    │\u001b[1;38;2;0;200;0m \u001b[0m\u001b[1;38;2;0;200;0m Martin\u001b[0m\u001b[1;38;2;0;200;0m \u001b[0m│\u001b[1;38;2;255;0;0m \u001b[0m\u001b[1;38;2;255;0;0m Amy     \u001b[0m\u001b[1;38;2;255;0;0m \u001b[0m│\u001b[1m \u001b[0m\u001b[1m2.601           \u001b[0m\u001b[1m \u001b[0m│\n",
       "│ After Martin and Amy went to the park, Martin gave a drink to │\u001b[1;38;2;0;200;0m \u001b[0m\u001b[1;38;2;0;200;0m Amy   \u001b[0m\u001b[1;38;2;0;200;0m \u001b[0m│\u001b[1;38;2;255;0;0m \u001b[0m\u001b[1;38;2;255;0;0m Martin  \u001b[0m\u001b[1;38;2;255;0;0m \u001b[0m│\u001b[1m \u001b[0m\u001b[1m5.767           \u001b[0m\u001b[1m \u001b[0m│\n",
       "└───────────────────────────────────────────────────────────────┴─────────┴───────────┴──────────────────┘\n"
      ]
     },
     "metadata": {},
     "output_type": "display_data"
    }
   ],
   "source": [
    "make_table(control_prompts, control_answers, control_ans_prompts, \"Control Names\")"
   ]
  },
  {
   "cell_type": "code",
   "execution_count": 245,
   "metadata": {},
   "outputs": [
    {
     "data": {
      "text/plain": [
       "([' statue', ' lamp'], [' statue', ' lamp'], (' statue', ' lamp'))"
      ]
     },
     "execution_count": 245,
     "metadata": {},
     "output_type": "execute_result"
    }
   ],
   "source": [
    "#[(model.to_str_tokens(ans_toks_n[k],ans_n[k]), model.to_str_tokens(ans_toks_n[k]),model.to_str_tokens(ans_n[k]), ans_n[k]) for k in range(len(ans_toks_n))]\n",
    "\n",
    "test = ans_toks_n[10]\n",
    "test_ans = ans_n[10]\n",
    "[model.tokenizer.decode(test[i]) for i in range(len(test))], model.to_str_tokens(test), ans_n[10]\n"
   ]
  },
  {
   "cell_type": "code",
   "execution_count": 241,
   "metadata": {},
   "outputs": [
    {
     "name": "stdout",
     "output_type": "stream",
     "text": [
      "torch.Size([20, 50257])\n",
      "torch.Size([20, 50257])\n",
      "torch.Size([20, 50257])\n",
      "torch.Size([20, 50257])\n",
      "torch.Size([20, 50257])\n"
     ]
    },
    {
     "data": {
      "text/html": [
       "<pre style=\"white-space:pre;overflow-x:auto;line-height:normal;font-family:Menlo,'DejaVu Sans Mono',consolas,'Courier New',monospace\"><span style=\"font-style: italic\">                                         nouns: Ave logit diff = 0.434                                         </span>\n",
       "┏━━━━━━━━━━━━━━━━━━━━━━━━━━━━━━━━━━━━━━━━━━━━━━━━━━━━━━━━━━━━━━━━━━━━┳━━━━━━━━━┳━━━━━━━━━━━┳━━━━━━━━━━━━━━━━━━┓\n",
       "┃<span style=\"font-weight: bold\"> Prompt                                                             </span>┃<span style=\"font-weight: bold\"> Correct </span>┃<span style=\"font-weight: bold\"> Incorrect </span>┃<span style=\"font-weight: bold\"> Logit Difference </span>┃\n",
       "┡━━━━━━━━━━━━━━━━━━━━━━━━━━━━━━━━━━━━━━━━━━━━━━━━━━━━━━━━━━━━━━━━━━━━╇━━━━━━━━━╇━━━━━━━━━━━╇━━━━━━━━━━━━━━━━━━┩\n",
       "│ When  goose and  lamp went to the shops, lamp gave the bag to      │<span style=\"color: #00c800; text-decoration-color: #00c800; font-weight: bold\">  goose  </span>│<span style=\"color: #ff0000; text-decoration-color: #ff0000; font-weight: bold\">  lamp     </span>│<span style=\"font-weight: bold\"> -1.035           </span>│\n",
       "│ When  goose and  lamp went to the shops, goose gave the bag to     │<span style=\"color: #00c800; text-decoration-color: #00c800; font-weight: bold\">  lamp   </span>│<span style=\"color: #ff0000; text-decoration-color: #ff0000; font-weight: bold\">  goose    </span>│<span style=\"font-weight: bold\"> 4.286            </span>│\n",
       "│ When  google and  statue went to the shops, statue gave the bag to │<span style=\"color: #00c800; text-decoration-color: #00c800; font-weight: bold\">  google </span>│<span style=\"color: #ff0000; text-decoration-color: #ff0000; font-weight: bold\">  statue   </span>│<span style=\"font-weight: bold\"> -2.737           </span>│\n",
       "│ When  google and  statue went to the shops, google gave the bag to │<span style=\"color: #00c800; text-decoration-color: #00c800; font-weight: bold\">  statue </span>│<span style=\"color: #ff0000; text-decoration-color: #ff0000; font-weight: bold\">  google   </span>│<span style=\"font-weight: bold\"> 0.106            </span>│\n",
       "│ When  chair and  flower went to the shops, flower gave the bag to  │<span style=\"color: #00c800; text-decoration-color: #00c800; font-weight: bold\">  chair  </span>│<span style=\"color: #ff0000; text-decoration-color: #ff0000; font-weight: bold\">  flower   </span>│<span style=\"font-weight: bold\"> -0.595           </span>│\n",
       "│ When  chair and  flower went to the shops, chair gave the bag to   │<span style=\"color: #00c800; text-decoration-color: #00c800; font-weight: bold\">  flower </span>│<span style=\"color: #ff0000; text-decoration-color: #ff0000; font-weight: bold\">  chair    </span>│<span style=\"font-weight: bold\"> 3.918            </span>│\n",
       "│ When  chair and  lamp went to the shops, lamp gave the bag to      │<span style=\"color: #00c800; text-decoration-color: #00c800; font-weight: bold\">  chair  </span>│<span style=\"color: #ff0000; text-decoration-color: #ff0000; font-weight: bold\">  lamp     </span>│<span style=\"font-weight: bold\"> -0.861           </span>│\n",
       "│ When  chair and  lamp went to the shops, chair gave the bag to     │<span style=\"color: #00c800; text-decoration-color: #00c800; font-weight: bold\">  lamp   </span>│<span style=\"color: #ff0000; text-decoration-color: #ff0000; font-weight: bold\">  chair    </span>│<span style=\"font-weight: bold\"> 3.106            </span>│\n",
       "│ When  church and  chair went to the shops, chair gave the bag to   │<span style=\"color: #00c800; text-decoration-color: #00c800; font-weight: bold\">  church </span>│<span style=\"color: #ff0000; text-decoration-color: #ff0000; font-weight: bold\">  chair    </span>│<span style=\"font-weight: bold\"> 2.318            </span>│\n",
       "│ When  church and  chair went to the shops, church gave the bag to  │<span style=\"color: #00c800; text-decoration-color: #00c800; font-weight: bold\">  chair  </span>│<span style=\"color: #ff0000; text-decoration-color: #ff0000; font-weight: bold\">  church   </span>│<span style=\"font-weight: bold\"> -2.298           </span>│\n",
       "│ When  statue and  lamp went to the shops, lamp gave the bag to     │<span style=\"color: #00c800; text-decoration-color: #00c800; font-weight: bold\">  statue </span>│<span style=\"color: #ff0000; text-decoration-color: #ff0000; font-weight: bold\">  lamp     </span>│<span style=\"font-weight: bold\"> -1.542           </span>│\n",
       "│ When  statue and  lamp went to the shops, statue gave the bag to   │<span style=\"color: #00c800; text-decoration-color: #00c800; font-weight: bold\">  lamp   </span>│<span style=\"color: #ff0000; text-decoration-color: #ff0000; font-weight: bold\">  statue   </span>│<span style=\"font-weight: bold\"> 3.675            </span>│\n",
       "│ When  church and  flower went to the shops, flower gave the bag to │<span style=\"color: #00c800; text-decoration-color: #00c800; font-weight: bold\">  church </span>│<span style=\"color: #ff0000; text-decoration-color: #ff0000; font-weight: bold\">  flower   </span>│<span style=\"font-weight: bold\"> 1.274            </span>│\n",
       "│ When  church and  flower went to the shops, church gave the bag to │<span style=\"color: #00c800; text-decoration-color: #00c800; font-weight: bold\">  flower </span>│<span style=\"color: #ff0000; text-decoration-color: #ff0000; font-weight: bold\">  church   </span>│<span style=\"font-weight: bold\"> -0.807           </span>│\n",
       "│ When  statue and  chair went to the shops, chair gave the bag to   │<span style=\"color: #00c800; text-decoration-color: #00c800; font-weight: bold\">  statue </span>│<span style=\"color: #ff0000; text-decoration-color: #ff0000; font-weight: bold\">  chair    </span>│<span style=\"font-weight: bold\"> 0.999            </span>│\n",
       "│ When  statue and  chair went to the shops, statue gave the bag to  │<span style=\"color: #00c800; text-decoration-color: #00c800; font-weight: bold\">  chair  </span>│<span style=\"color: #ff0000; text-decoration-color: #ff0000; font-weight: bold\">  statue   </span>│<span style=\"font-weight: bold\"> 0.657            </span>│\n",
       "│ When  lamp and  google went to the shops, google gave the bag to   │<span style=\"color: #00c800; text-decoration-color: #00c800; font-weight: bold\">  lamp   </span>│<span style=\"color: #ff0000; text-decoration-color: #ff0000; font-weight: bold\">  google   </span>│<span style=\"font-weight: bold\"> -2.178           </span>│\n",
       "│ When  lamp and  google went to the shops, lamp gave the bag to     │<span style=\"color: #00c800; text-decoration-color: #00c800; font-weight: bold\">  google </span>│<span style=\"color: #ff0000; text-decoration-color: #ff0000; font-weight: bold\">  lamp     </span>│<span style=\"font-weight: bold\"> 0.849            </span>│\n",
       "│ When  church and  bag went to the shops, bag gave the bag to       │<span style=\"color: #00c800; text-decoration-color: #00c800; font-weight: bold\">  church </span>│<span style=\"color: #ff0000; text-decoration-color: #ff0000; font-weight: bold\">  bag      </span>│<span style=\"font-weight: bold\"> 0.261            </span>│\n",
       "│ When  church and  bag went to the shops, church gave the bag to    │<span style=\"color: #00c800; text-decoration-color: #00c800; font-weight: bold\">  bag    </span>│<span style=\"color: #ff0000; text-decoration-color: #ff0000; font-weight: bold\">  church   </span>│<span style=\"font-weight: bold\"> -0.718           </span>│\n",
       "└────────────────────────────────────────────────────────────────────┴─────────┴───────────┴──────────────────┘\n",
       "</pre>\n"
      ],
      "text/plain": [
       "\u001b[3m                                         nouns: Ave logit diff = 0.434                                         \u001b[0m\n",
       "┏━━━━━━━━━━━━━━━━━━━━━━━━━━━━━━━━━━━━━━━━━━━━━━━━━━━━━━━━━━━━━━━━━━━━┳━━━━━━━━━┳━━━━━━━━━━━┳━━━━━━━━━━━━━━━━━━┓\n",
       "┃\u001b[1m \u001b[0m\u001b[1mPrompt                                                            \u001b[0m\u001b[1m \u001b[0m┃\u001b[1m \u001b[0m\u001b[1mCorrect\u001b[0m\u001b[1m \u001b[0m┃\u001b[1m \u001b[0m\u001b[1mIncorrect\u001b[0m\u001b[1m \u001b[0m┃\u001b[1m \u001b[0m\u001b[1mLogit Difference\u001b[0m\u001b[1m \u001b[0m┃\n",
       "┡━━━━━━━━━━━━━━━━━━━━━━━━━━━━━━━━━━━━━━━━━━━━━━━━━━━━━━━━━━━━━━━━━━━━╇━━━━━━━━━╇━━━━━━━━━━━╇━━━━━━━━━━━━━━━━━━┩\n",
       "│ When  goose and  lamp went to the shops, lamp gave the bag to      │\u001b[1;38;2;0;200;0m \u001b[0m\u001b[1;38;2;0;200;0m goose \u001b[0m\u001b[1;38;2;0;200;0m \u001b[0m│\u001b[1;38;2;255;0;0m \u001b[0m\u001b[1;38;2;255;0;0m lamp    \u001b[0m\u001b[1;38;2;255;0;0m \u001b[0m│\u001b[1m \u001b[0m\u001b[1m-1.035          \u001b[0m\u001b[1m \u001b[0m│\n",
       "│ When  goose and  lamp went to the shops, goose gave the bag to     │\u001b[1;38;2;0;200;0m \u001b[0m\u001b[1;38;2;0;200;0m lamp  \u001b[0m\u001b[1;38;2;0;200;0m \u001b[0m│\u001b[1;38;2;255;0;0m \u001b[0m\u001b[1;38;2;255;0;0m goose   \u001b[0m\u001b[1;38;2;255;0;0m \u001b[0m│\u001b[1m \u001b[0m\u001b[1m4.286           \u001b[0m\u001b[1m \u001b[0m│\n",
       "│ When  google and  statue went to the shops, statue gave the bag to │\u001b[1;38;2;0;200;0m \u001b[0m\u001b[1;38;2;0;200;0m google\u001b[0m\u001b[1;38;2;0;200;0m \u001b[0m│\u001b[1;38;2;255;0;0m \u001b[0m\u001b[1;38;2;255;0;0m statue  \u001b[0m\u001b[1;38;2;255;0;0m \u001b[0m│\u001b[1m \u001b[0m\u001b[1m-2.737          \u001b[0m\u001b[1m \u001b[0m│\n",
       "│ When  google and  statue went to the shops, google gave the bag to │\u001b[1;38;2;0;200;0m \u001b[0m\u001b[1;38;2;0;200;0m statue\u001b[0m\u001b[1;38;2;0;200;0m \u001b[0m│\u001b[1;38;2;255;0;0m \u001b[0m\u001b[1;38;2;255;0;0m google  \u001b[0m\u001b[1;38;2;255;0;0m \u001b[0m│\u001b[1m \u001b[0m\u001b[1m0.106           \u001b[0m\u001b[1m \u001b[0m│\n",
       "│ When  chair and  flower went to the shops, flower gave the bag to  │\u001b[1;38;2;0;200;0m \u001b[0m\u001b[1;38;2;0;200;0m chair \u001b[0m\u001b[1;38;2;0;200;0m \u001b[0m│\u001b[1;38;2;255;0;0m \u001b[0m\u001b[1;38;2;255;0;0m flower  \u001b[0m\u001b[1;38;2;255;0;0m \u001b[0m│\u001b[1m \u001b[0m\u001b[1m-0.595          \u001b[0m\u001b[1m \u001b[0m│\n",
       "│ When  chair and  flower went to the shops, chair gave the bag to   │\u001b[1;38;2;0;200;0m \u001b[0m\u001b[1;38;2;0;200;0m flower\u001b[0m\u001b[1;38;2;0;200;0m \u001b[0m│\u001b[1;38;2;255;0;0m \u001b[0m\u001b[1;38;2;255;0;0m chair   \u001b[0m\u001b[1;38;2;255;0;0m \u001b[0m│\u001b[1m \u001b[0m\u001b[1m3.918           \u001b[0m\u001b[1m \u001b[0m│\n",
       "│ When  chair and  lamp went to the shops, lamp gave the bag to      │\u001b[1;38;2;0;200;0m \u001b[0m\u001b[1;38;2;0;200;0m chair \u001b[0m\u001b[1;38;2;0;200;0m \u001b[0m│\u001b[1;38;2;255;0;0m \u001b[0m\u001b[1;38;2;255;0;0m lamp    \u001b[0m\u001b[1;38;2;255;0;0m \u001b[0m│\u001b[1m \u001b[0m\u001b[1m-0.861          \u001b[0m\u001b[1m \u001b[0m│\n",
       "│ When  chair and  lamp went to the shops, chair gave the bag to     │\u001b[1;38;2;0;200;0m \u001b[0m\u001b[1;38;2;0;200;0m lamp  \u001b[0m\u001b[1;38;2;0;200;0m \u001b[0m│\u001b[1;38;2;255;0;0m \u001b[0m\u001b[1;38;2;255;0;0m chair   \u001b[0m\u001b[1;38;2;255;0;0m \u001b[0m│\u001b[1m \u001b[0m\u001b[1m3.106           \u001b[0m\u001b[1m \u001b[0m│\n",
       "│ When  church and  chair went to the shops, chair gave the bag to   │\u001b[1;38;2;0;200;0m \u001b[0m\u001b[1;38;2;0;200;0m church\u001b[0m\u001b[1;38;2;0;200;0m \u001b[0m│\u001b[1;38;2;255;0;0m \u001b[0m\u001b[1;38;2;255;0;0m chair   \u001b[0m\u001b[1;38;2;255;0;0m \u001b[0m│\u001b[1m \u001b[0m\u001b[1m2.318           \u001b[0m\u001b[1m \u001b[0m│\n",
       "│ When  church and  chair went to the shops, church gave the bag to  │\u001b[1;38;2;0;200;0m \u001b[0m\u001b[1;38;2;0;200;0m chair \u001b[0m\u001b[1;38;2;0;200;0m \u001b[0m│\u001b[1;38;2;255;0;0m \u001b[0m\u001b[1;38;2;255;0;0m church  \u001b[0m\u001b[1;38;2;255;0;0m \u001b[0m│\u001b[1m \u001b[0m\u001b[1m-2.298          \u001b[0m\u001b[1m \u001b[0m│\n",
       "│ When  statue and  lamp went to the shops, lamp gave the bag to     │\u001b[1;38;2;0;200;0m \u001b[0m\u001b[1;38;2;0;200;0m statue\u001b[0m\u001b[1;38;2;0;200;0m \u001b[0m│\u001b[1;38;2;255;0;0m \u001b[0m\u001b[1;38;2;255;0;0m lamp    \u001b[0m\u001b[1;38;2;255;0;0m \u001b[0m│\u001b[1m \u001b[0m\u001b[1m-1.542          \u001b[0m\u001b[1m \u001b[0m│\n",
       "│ When  statue and  lamp went to the shops, statue gave the bag to   │\u001b[1;38;2;0;200;0m \u001b[0m\u001b[1;38;2;0;200;0m lamp  \u001b[0m\u001b[1;38;2;0;200;0m \u001b[0m│\u001b[1;38;2;255;0;0m \u001b[0m\u001b[1;38;2;255;0;0m statue  \u001b[0m\u001b[1;38;2;255;0;0m \u001b[0m│\u001b[1m \u001b[0m\u001b[1m3.675           \u001b[0m\u001b[1m \u001b[0m│\n",
       "│ When  church and  flower went to the shops, flower gave the bag to │\u001b[1;38;2;0;200;0m \u001b[0m\u001b[1;38;2;0;200;0m church\u001b[0m\u001b[1;38;2;0;200;0m \u001b[0m│\u001b[1;38;2;255;0;0m \u001b[0m\u001b[1;38;2;255;0;0m flower  \u001b[0m\u001b[1;38;2;255;0;0m \u001b[0m│\u001b[1m \u001b[0m\u001b[1m1.274           \u001b[0m\u001b[1m \u001b[0m│\n",
       "│ When  church and  flower went to the shops, church gave the bag to │\u001b[1;38;2;0;200;0m \u001b[0m\u001b[1;38;2;0;200;0m flower\u001b[0m\u001b[1;38;2;0;200;0m \u001b[0m│\u001b[1;38;2;255;0;0m \u001b[0m\u001b[1;38;2;255;0;0m church  \u001b[0m\u001b[1;38;2;255;0;0m \u001b[0m│\u001b[1m \u001b[0m\u001b[1m-0.807          \u001b[0m\u001b[1m \u001b[0m│\n",
       "│ When  statue and  chair went to the shops, chair gave the bag to   │\u001b[1;38;2;0;200;0m \u001b[0m\u001b[1;38;2;0;200;0m statue\u001b[0m\u001b[1;38;2;0;200;0m \u001b[0m│\u001b[1;38;2;255;0;0m \u001b[0m\u001b[1;38;2;255;0;0m chair   \u001b[0m\u001b[1;38;2;255;0;0m \u001b[0m│\u001b[1m \u001b[0m\u001b[1m0.999           \u001b[0m\u001b[1m \u001b[0m│\n",
       "│ When  statue and  chair went to the shops, statue gave the bag to  │\u001b[1;38;2;0;200;0m \u001b[0m\u001b[1;38;2;0;200;0m chair \u001b[0m\u001b[1;38;2;0;200;0m \u001b[0m│\u001b[1;38;2;255;0;0m \u001b[0m\u001b[1;38;2;255;0;0m statue  \u001b[0m\u001b[1;38;2;255;0;0m \u001b[0m│\u001b[1m \u001b[0m\u001b[1m0.657           \u001b[0m\u001b[1m \u001b[0m│\n",
       "│ When  lamp and  google went to the shops, google gave the bag to   │\u001b[1;38;2;0;200;0m \u001b[0m\u001b[1;38;2;0;200;0m lamp  \u001b[0m\u001b[1;38;2;0;200;0m \u001b[0m│\u001b[1;38;2;255;0;0m \u001b[0m\u001b[1;38;2;255;0;0m google  \u001b[0m\u001b[1;38;2;255;0;0m \u001b[0m│\u001b[1m \u001b[0m\u001b[1m-2.178          \u001b[0m\u001b[1m \u001b[0m│\n",
       "│ When  lamp and  google went to the shops, lamp gave the bag to     │\u001b[1;38;2;0;200;0m \u001b[0m\u001b[1;38;2;0;200;0m google\u001b[0m\u001b[1;38;2;0;200;0m \u001b[0m│\u001b[1;38;2;255;0;0m \u001b[0m\u001b[1;38;2;255;0;0m lamp    \u001b[0m\u001b[1;38;2;255;0;0m \u001b[0m│\u001b[1m \u001b[0m\u001b[1m0.849           \u001b[0m\u001b[1m \u001b[0m│\n",
       "│ When  church and  bag went to the shops, bag gave the bag to       │\u001b[1;38;2;0;200;0m \u001b[0m\u001b[1;38;2;0;200;0m church\u001b[0m\u001b[1;38;2;0;200;0m \u001b[0m│\u001b[1;38;2;255;0;0m \u001b[0m\u001b[1;38;2;255;0;0m bag     \u001b[0m\u001b[1;38;2;255;0;0m \u001b[0m│\u001b[1m \u001b[0m\u001b[1m0.261           \u001b[0m\u001b[1m \u001b[0m│\n",
       "│ When  church and  bag went to the shops, church gave the bag to    │\u001b[1;38;2;0;200;0m \u001b[0m\u001b[1;38;2;0;200;0m bag   \u001b[0m\u001b[1;38;2;0;200;0m \u001b[0m│\u001b[1;38;2;255;0;0m \u001b[0m\u001b[1;38;2;255;0;0m church  \u001b[0m\u001b[1;38;2;255;0;0m \u001b[0m│\u001b[1m \u001b[0m\u001b[1m-0.718          \u001b[0m\u001b[1m \u001b[0m│\n",
       "└────────────────────────────────────────────────────────────────────┴─────────┴───────────┴──────────────────┘\n"
      ]
     },
     "metadata": {},
     "output_type": "display_data"
    },
    {
     "name": "stdout",
     "output_type": "stream",
     "text": [
      "torch.Size([20, 50257])\n",
      "torch.Size([20, 50257])\n",
      "torch.Size([20, 50257])\n",
      "torch.Size([20, 50257])\n",
      "torch.Size([20, 50257])\n"
     ]
    },
    {
     "data": {
      "text/html": [
       "<pre style=\"white-space:pre;overflow-x:auto;line-height:normal;font-family:Menlo,'DejaVu Sans Mono',consolas,'Courier New',monospace\"><span style=\"font-style: italic\">                                     proper nouns: Ave logit diff = 2.838                                      </span>\n",
       "┏━━━━━━━━━━━━━━━━━━━━━━━━━━━━━━━━━━━━━━━━━━━━━━━━━━━━━━━━━━━━━━━━━━━━┳━━━━━━━━━┳━━━━━━━━━━━┳━━━━━━━━━━━━━━━━━━┓\n",
       "┃<span style=\"font-weight: bold\"> Prompt                                                             </span>┃<span style=\"font-weight: bold\"> Correct </span>┃<span style=\"font-weight: bold\"> Incorrect </span>┃<span style=\"font-weight: bold\"> Logit Difference </span>┃\n",
       "┡━━━━━━━━━━━━━━━━━━━━━━━━━━━━━━━━━━━━━━━━━━━━━━━━━━━━━━━━━━━━━━━━━━━━╇━━━━━━━━━╇━━━━━━━━━━━╇━━━━━━━━━━━━━━━━━━┩\n",
       "│ When  Lamp and  Statue went to the shops, Statue gave the bag to   │<span style=\"color: #00c800; text-decoration-color: #00c800; font-weight: bold\">  Lamp   </span>│<span style=\"color: #ff0000; text-decoration-color: #ff0000; font-weight: bold\">  Statue   </span>│<span style=\"font-weight: bold\"> 4.809            </span>│\n",
       "│ When  Lamp and  Statue went to the shops, Lamp gave the bag to     │<span style=\"color: #00c800; text-decoration-color: #00c800; font-weight: bold\">  Statue </span>│<span style=\"color: #ff0000; text-decoration-color: #ff0000; font-weight: bold\">  Lamp     </span>│<span style=\"font-weight: bold\"> 1.914            </span>│\n",
       "│ When  Bag and  Chair went to the shops, Chair gave the bag to      │<span style=\"color: #00c800; text-decoration-color: #00c800; font-weight: bold\">  Bag    </span>│<span style=\"color: #ff0000; text-decoration-color: #ff0000; font-weight: bold\">  Chair    </span>│<span style=\"font-weight: bold\"> 5.628            </span>│\n",
       "│ When  Bag and  Chair went to the shops, Bag gave the bag to        │<span style=\"color: #00c800; text-decoration-color: #00c800; font-weight: bold\">  Chair  </span>│<span style=\"color: #ff0000; text-decoration-color: #ff0000; font-weight: bold\">  Bag      </span>│<span style=\"font-weight: bold\"> -1.143           </span>│\n",
       "│ When  Goose and  Flower went to the shops, Flower gave the bag to  │<span style=\"color: #00c800; text-decoration-color: #00c800; font-weight: bold\">  Goose  </span>│<span style=\"color: #ff0000; text-decoration-color: #ff0000; font-weight: bold\">  Flower   </span>│<span style=\"font-weight: bold\"> 5.803            </span>│\n",
       "│ When  Goose and  Flower went to the shops, Goose gave the bag to   │<span style=\"color: #00c800; text-decoration-color: #00c800; font-weight: bold\">  Flower </span>│<span style=\"color: #ff0000; text-decoration-color: #ff0000; font-weight: bold\">  Goose    </span>│<span style=\"font-weight: bold\"> 5.488            </span>│\n",
       "│ When  Goose and  Flower went to the shops, Flower gave the bag to  │<span style=\"color: #00c800; text-decoration-color: #00c800; font-weight: bold\">  Goose  </span>│<span style=\"color: #ff0000; text-decoration-color: #ff0000; font-weight: bold\">  Flower   </span>│<span style=\"font-weight: bold\"> 5.803            </span>│\n",
       "│ When  Goose and  Flower went to the shops, Goose gave the bag to   │<span style=\"color: #00c800; text-decoration-color: #00c800; font-weight: bold\">  Flower </span>│<span style=\"color: #ff0000; text-decoration-color: #ff0000; font-weight: bold\">  Goose    </span>│<span style=\"font-weight: bold\"> 5.488            </span>│\n",
       "│ When  Statue and  Google went to the shops, Google gave the bag to │<span style=\"color: #00c800; text-decoration-color: #00c800; font-weight: bold\">  Statue </span>│<span style=\"color: #ff0000; text-decoration-color: #ff0000; font-weight: bold\">  Google   </span>│<span style=\"font-weight: bold\"> -3.054           </span>│\n",
       "│ When  Statue and  Google went to the shops, Statue gave the bag to │<span style=\"color: #00c800; text-decoration-color: #00c800; font-weight: bold\">  Google </span>│<span style=\"color: #ff0000; text-decoration-color: #ff0000; font-weight: bold\">  Statue   </span>│<span style=\"font-weight: bold\"> 3.408            </span>│\n",
       "│ When  Google and  Lamp went to the shops, Lamp gave the bag to     │<span style=\"color: #00c800; text-decoration-color: #00c800; font-weight: bold\">  Google </span>│<span style=\"color: #ff0000; text-decoration-color: #ff0000; font-weight: bold\">  Lamp     </span>│<span style=\"font-weight: bold\"> 0.578            </span>│\n",
       "│ When  Google and  Lamp went to the shops, Google gave the bag to   │<span style=\"color: #00c800; text-decoration-color: #00c800; font-weight: bold\">  Lamp   </span>│<span style=\"color: #ff0000; text-decoration-color: #ff0000; font-weight: bold\">  Google   </span>│<span style=\"font-weight: bold\"> 0.967            </span>│\n",
       "│ When  Chair and  Flower went to the shops, Flower gave the bag to  │<span style=\"color: #00c800; text-decoration-color: #00c800; font-weight: bold\">  Chair  </span>│<span style=\"color: #ff0000; text-decoration-color: #ff0000; font-weight: bold\">  Flower   </span>│<span style=\"font-weight: bold\"> 2.027            </span>│\n",
       "│ When  Chair and  Flower went to the shops, Chair gave the bag to   │<span style=\"color: #00c800; text-decoration-color: #00c800; font-weight: bold\">  Flower </span>│<span style=\"color: #ff0000; text-decoration-color: #ff0000; font-weight: bold\">  Chair    </span>│<span style=\"font-weight: bold\"> 5.775            </span>│\n",
       "│ When  Bag and  Chair went to the shops, Chair gave the bag to      │<span style=\"color: #00c800; text-decoration-color: #00c800; font-weight: bold\">  Bag    </span>│<span style=\"color: #ff0000; text-decoration-color: #ff0000; font-weight: bold\">  Chair    </span>│<span style=\"font-weight: bold\"> 5.628            </span>│\n",
       "│ When  Bag and  Chair went to the shops, Bag gave the bag to        │<span style=\"color: #00c800; text-decoration-color: #00c800; font-weight: bold\">  Chair  </span>│<span style=\"color: #ff0000; text-decoration-color: #ff0000; font-weight: bold\">  Bag      </span>│<span style=\"font-weight: bold\"> -1.143           </span>│\n",
       "│ When  Flower and  Statue went to the shops, Statue gave the bag to │<span style=\"color: #00c800; text-decoration-color: #00c800; font-weight: bold\">  Flower </span>│<span style=\"color: #ff0000; text-decoration-color: #ff0000; font-weight: bold\">  Statue   </span>│<span style=\"font-weight: bold\"> 3.393            </span>│\n",
       "│ When  Flower and  Statue went to the shops, Flower gave the bag to │<span style=\"color: #00c800; text-decoration-color: #00c800; font-weight: bold\">  Statue </span>│<span style=\"color: #ff0000; text-decoration-color: #ff0000; font-weight: bold\">  Flower   </span>│<span style=\"font-weight: bold\"> 2.502            </span>│\n",
       "│ When  Statue and  Chair went to the shops, Chair gave the bag to   │<span style=\"color: #00c800; text-decoration-color: #00c800; font-weight: bold\">  Statue </span>│<span style=\"color: #ff0000; text-decoration-color: #ff0000; font-weight: bold\">  Chair    </span>│<span style=\"font-weight: bold\"> 1.331            </span>│\n",
       "│ When  Statue and  Chair went to the shops, Statue gave the bag to  │<span style=\"color: #00c800; text-decoration-color: #00c800; font-weight: bold\">  Chair  </span>│<span style=\"color: #ff0000; text-decoration-color: #ff0000; font-weight: bold\">  Statue   </span>│<span style=\"font-weight: bold\"> 1.564            </span>│\n",
       "└────────────────────────────────────────────────────────────────────┴─────────┴───────────┴──────────────────┘\n",
       "</pre>\n"
      ],
      "text/plain": [
       "\u001b[3m                                     proper nouns: Ave logit diff = 2.838                                      \u001b[0m\n",
       "┏━━━━━━━━━━━━━━━━━━━━━━━━━━━━━━━━━━━━━━━━━━━━━━━━━━━━━━━━━━━━━━━━━━━━┳━━━━━━━━━┳━━━━━━━━━━━┳━━━━━━━━━━━━━━━━━━┓\n",
       "┃\u001b[1m \u001b[0m\u001b[1mPrompt                                                            \u001b[0m\u001b[1m \u001b[0m┃\u001b[1m \u001b[0m\u001b[1mCorrect\u001b[0m\u001b[1m \u001b[0m┃\u001b[1m \u001b[0m\u001b[1mIncorrect\u001b[0m\u001b[1m \u001b[0m┃\u001b[1m \u001b[0m\u001b[1mLogit Difference\u001b[0m\u001b[1m \u001b[0m┃\n",
       "┡━━━━━━━━━━━━━━━━━━━━━━━━━━━━━━━━━━━━━━━━━━━━━━━━━━━━━━━━━━━━━━━━━━━━╇━━━━━━━━━╇━━━━━━━━━━━╇━━━━━━━━━━━━━━━━━━┩\n",
       "│ When  Lamp and  Statue went to the shops, Statue gave the bag to   │\u001b[1;38;2;0;200;0m \u001b[0m\u001b[1;38;2;0;200;0m Lamp  \u001b[0m\u001b[1;38;2;0;200;0m \u001b[0m│\u001b[1;38;2;255;0;0m \u001b[0m\u001b[1;38;2;255;0;0m Statue  \u001b[0m\u001b[1;38;2;255;0;0m \u001b[0m│\u001b[1m \u001b[0m\u001b[1m4.809           \u001b[0m\u001b[1m \u001b[0m│\n",
       "│ When  Lamp and  Statue went to the shops, Lamp gave the bag to     │\u001b[1;38;2;0;200;0m \u001b[0m\u001b[1;38;2;0;200;0m Statue\u001b[0m\u001b[1;38;2;0;200;0m \u001b[0m│\u001b[1;38;2;255;0;0m \u001b[0m\u001b[1;38;2;255;0;0m Lamp    \u001b[0m\u001b[1;38;2;255;0;0m \u001b[0m│\u001b[1m \u001b[0m\u001b[1m1.914           \u001b[0m\u001b[1m \u001b[0m│\n",
       "│ When  Bag and  Chair went to the shops, Chair gave the bag to      │\u001b[1;38;2;0;200;0m \u001b[0m\u001b[1;38;2;0;200;0m Bag   \u001b[0m\u001b[1;38;2;0;200;0m \u001b[0m│\u001b[1;38;2;255;0;0m \u001b[0m\u001b[1;38;2;255;0;0m Chair   \u001b[0m\u001b[1;38;2;255;0;0m \u001b[0m│\u001b[1m \u001b[0m\u001b[1m5.628           \u001b[0m\u001b[1m \u001b[0m│\n",
       "│ When  Bag and  Chair went to the shops, Bag gave the bag to        │\u001b[1;38;2;0;200;0m \u001b[0m\u001b[1;38;2;0;200;0m Chair \u001b[0m\u001b[1;38;2;0;200;0m \u001b[0m│\u001b[1;38;2;255;0;0m \u001b[0m\u001b[1;38;2;255;0;0m Bag     \u001b[0m\u001b[1;38;2;255;0;0m \u001b[0m│\u001b[1m \u001b[0m\u001b[1m-1.143          \u001b[0m\u001b[1m \u001b[0m│\n",
       "│ When  Goose and  Flower went to the shops, Flower gave the bag to  │\u001b[1;38;2;0;200;0m \u001b[0m\u001b[1;38;2;0;200;0m Goose \u001b[0m\u001b[1;38;2;0;200;0m \u001b[0m│\u001b[1;38;2;255;0;0m \u001b[0m\u001b[1;38;2;255;0;0m Flower  \u001b[0m\u001b[1;38;2;255;0;0m \u001b[0m│\u001b[1m \u001b[0m\u001b[1m5.803           \u001b[0m\u001b[1m \u001b[0m│\n",
       "│ When  Goose and  Flower went to the shops, Goose gave the bag to   │\u001b[1;38;2;0;200;0m \u001b[0m\u001b[1;38;2;0;200;0m Flower\u001b[0m\u001b[1;38;2;0;200;0m \u001b[0m│\u001b[1;38;2;255;0;0m \u001b[0m\u001b[1;38;2;255;0;0m Goose   \u001b[0m\u001b[1;38;2;255;0;0m \u001b[0m│\u001b[1m \u001b[0m\u001b[1m5.488           \u001b[0m\u001b[1m \u001b[0m│\n",
       "│ When  Goose and  Flower went to the shops, Flower gave the bag to  │\u001b[1;38;2;0;200;0m \u001b[0m\u001b[1;38;2;0;200;0m Goose \u001b[0m\u001b[1;38;2;0;200;0m \u001b[0m│\u001b[1;38;2;255;0;0m \u001b[0m\u001b[1;38;2;255;0;0m Flower  \u001b[0m\u001b[1;38;2;255;0;0m \u001b[0m│\u001b[1m \u001b[0m\u001b[1m5.803           \u001b[0m\u001b[1m \u001b[0m│\n",
       "│ When  Goose and  Flower went to the shops, Goose gave the bag to   │\u001b[1;38;2;0;200;0m \u001b[0m\u001b[1;38;2;0;200;0m Flower\u001b[0m\u001b[1;38;2;0;200;0m \u001b[0m│\u001b[1;38;2;255;0;0m \u001b[0m\u001b[1;38;2;255;0;0m Goose   \u001b[0m\u001b[1;38;2;255;0;0m \u001b[0m│\u001b[1m \u001b[0m\u001b[1m5.488           \u001b[0m\u001b[1m \u001b[0m│\n",
       "│ When  Statue and  Google went to the shops, Google gave the bag to │\u001b[1;38;2;0;200;0m \u001b[0m\u001b[1;38;2;0;200;0m Statue\u001b[0m\u001b[1;38;2;0;200;0m \u001b[0m│\u001b[1;38;2;255;0;0m \u001b[0m\u001b[1;38;2;255;0;0m Google  \u001b[0m\u001b[1;38;2;255;0;0m \u001b[0m│\u001b[1m \u001b[0m\u001b[1m-3.054          \u001b[0m\u001b[1m \u001b[0m│\n",
       "│ When  Statue and  Google went to the shops, Statue gave the bag to │\u001b[1;38;2;0;200;0m \u001b[0m\u001b[1;38;2;0;200;0m Google\u001b[0m\u001b[1;38;2;0;200;0m \u001b[0m│\u001b[1;38;2;255;0;0m \u001b[0m\u001b[1;38;2;255;0;0m Statue  \u001b[0m\u001b[1;38;2;255;0;0m \u001b[0m│\u001b[1m \u001b[0m\u001b[1m3.408           \u001b[0m\u001b[1m \u001b[0m│\n",
       "│ When  Google and  Lamp went to the shops, Lamp gave the bag to     │\u001b[1;38;2;0;200;0m \u001b[0m\u001b[1;38;2;0;200;0m Google\u001b[0m\u001b[1;38;2;0;200;0m \u001b[0m│\u001b[1;38;2;255;0;0m \u001b[0m\u001b[1;38;2;255;0;0m Lamp    \u001b[0m\u001b[1;38;2;255;0;0m \u001b[0m│\u001b[1m \u001b[0m\u001b[1m0.578           \u001b[0m\u001b[1m \u001b[0m│\n",
       "│ When  Google and  Lamp went to the shops, Google gave the bag to   │\u001b[1;38;2;0;200;0m \u001b[0m\u001b[1;38;2;0;200;0m Lamp  \u001b[0m\u001b[1;38;2;0;200;0m \u001b[0m│\u001b[1;38;2;255;0;0m \u001b[0m\u001b[1;38;2;255;0;0m Google  \u001b[0m\u001b[1;38;2;255;0;0m \u001b[0m│\u001b[1m \u001b[0m\u001b[1m0.967           \u001b[0m\u001b[1m \u001b[0m│\n",
       "│ When  Chair and  Flower went to the shops, Flower gave the bag to  │\u001b[1;38;2;0;200;0m \u001b[0m\u001b[1;38;2;0;200;0m Chair \u001b[0m\u001b[1;38;2;0;200;0m \u001b[0m│\u001b[1;38;2;255;0;0m \u001b[0m\u001b[1;38;2;255;0;0m Flower  \u001b[0m\u001b[1;38;2;255;0;0m \u001b[0m│\u001b[1m \u001b[0m\u001b[1m2.027           \u001b[0m\u001b[1m \u001b[0m│\n",
       "│ When  Chair and  Flower went to the shops, Chair gave the bag to   │\u001b[1;38;2;0;200;0m \u001b[0m\u001b[1;38;2;0;200;0m Flower\u001b[0m\u001b[1;38;2;0;200;0m \u001b[0m│\u001b[1;38;2;255;0;0m \u001b[0m\u001b[1;38;2;255;0;0m Chair   \u001b[0m\u001b[1;38;2;255;0;0m \u001b[0m│\u001b[1m \u001b[0m\u001b[1m5.775           \u001b[0m\u001b[1m \u001b[0m│\n",
       "│ When  Bag and  Chair went to the shops, Chair gave the bag to      │\u001b[1;38;2;0;200;0m \u001b[0m\u001b[1;38;2;0;200;0m Bag   \u001b[0m\u001b[1;38;2;0;200;0m \u001b[0m│\u001b[1;38;2;255;0;0m \u001b[0m\u001b[1;38;2;255;0;0m Chair   \u001b[0m\u001b[1;38;2;255;0;0m \u001b[0m│\u001b[1m \u001b[0m\u001b[1m5.628           \u001b[0m\u001b[1m \u001b[0m│\n",
       "│ When  Bag and  Chair went to the shops, Bag gave the bag to        │\u001b[1;38;2;0;200;0m \u001b[0m\u001b[1;38;2;0;200;0m Chair \u001b[0m\u001b[1;38;2;0;200;0m \u001b[0m│\u001b[1;38;2;255;0;0m \u001b[0m\u001b[1;38;2;255;0;0m Bag     \u001b[0m\u001b[1;38;2;255;0;0m \u001b[0m│\u001b[1m \u001b[0m\u001b[1m-1.143          \u001b[0m\u001b[1m \u001b[0m│\n",
       "│ When  Flower and  Statue went to the shops, Statue gave the bag to │\u001b[1;38;2;0;200;0m \u001b[0m\u001b[1;38;2;0;200;0m Flower\u001b[0m\u001b[1;38;2;0;200;0m \u001b[0m│\u001b[1;38;2;255;0;0m \u001b[0m\u001b[1;38;2;255;0;0m Statue  \u001b[0m\u001b[1;38;2;255;0;0m \u001b[0m│\u001b[1m \u001b[0m\u001b[1m3.393           \u001b[0m\u001b[1m \u001b[0m│\n",
       "│ When  Flower and  Statue went to the shops, Flower gave the bag to │\u001b[1;38;2;0;200;0m \u001b[0m\u001b[1;38;2;0;200;0m Statue\u001b[0m\u001b[1;38;2;0;200;0m \u001b[0m│\u001b[1;38;2;255;0;0m \u001b[0m\u001b[1;38;2;255;0;0m Flower  \u001b[0m\u001b[1;38;2;255;0;0m \u001b[0m│\u001b[1m \u001b[0m\u001b[1m2.502           \u001b[0m\u001b[1m \u001b[0m│\n",
       "│ When  Statue and  Chair went to the shops, Chair gave the bag to   │\u001b[1;38;2;0;200;0m \u001b[0m\u001b[1;38;2;0;200;0m Statue\u001b[0m\u001b[1;38;2;0;200;0m \u001b[0m│\u001b[1;38;2;255;0;0m \u001b[0m\u001b[1;38;2;255;0;0m Chair   \u001b[0m\u001b[1;38;2;255;0;0m \u001b[0m│\u001b[1m \u001b[0m\u001b[1m1.331           \u001b[0m\u001b[1m \u001b[0m│\n",
       "│ When  Statue and  Chair went to the shops, Statue gave the bag to  │\u001b[1;38;2;0;200;0m \u001b[0m\u001b[1;38;2;0;200;0m Chair \u001b[0m\u001b[1;38;2;0;200;0m \u001b[0m│\u001b[1;38;2;255;0;0m \u001b[0m\u001b[1;38;2;255;0;0m Statue  \u001b[0m\u001b[1;38;2;255;0;0m \u001b[0m│\u001b[1m \u001b[0m\u001b[1m1.564           \u001b[0m\u001b[1m \u001b[0m│\n",
       "└────────────────────────────────────────────────────────────────────┴─────────┴───────────┴──────────────────┘\n"
      ]
     },
     "metadata": {},
     "output_type": "display_data"
    },
    {
     "name": "stdout",
     "output_type": "stream",
     "text": [
      "torch.Size([20, 50257])\n",
      "torch.Size([20, 50257])\n",
      "torch.Size([20, 50257])\n",
      "torch.Size([20, 50257])\n",
      "torch.Size([20, 50257])\n"
     ]
    },
    {
     "data": {
      "text/html": [
       "<pre style=\"white-space:pre;overflow-x:auto;line-height:normal;font-family:Menlo,'DejaVu Sans Mono',consolas,'Courier New',monospace\"><span style=\"font-style: italic\">                                     Religious Names: Ave logit diff = 3.421                                     </span>\n",
       "┏━━━━━━━━━━━━━━━━━━━━━━━━━━━━━━━━━━━━━━━━━━━━━━━━━━━━━━━━━━━━━━━━━━━━━┳━━━━━━━━━━┳━━━━━━━━━━━┳━━━━━━━━━━━━━━━━━━┓\n",
       "┃<span style=\"font-weight: bold\"> Prompt                                                              </span>┃<span style=\"font-weight: bold\"> Correct  </span>┃<span style=\"font-weight: bold\"> Incorrect </span>┃<span style=\"font-weight: bold\"> Logit Difference </span>┃\n",
       "┡━━━━━━━━━━━━━━━━━━━━━━━━━━━━━━━━━━━━━━━━━━━━━━━━━━━━━━━━━━━━━━━━━━━━━╇━━━━━━━━━━╇━━━━━━━━━━━╇━━━━━━━━━━━━━━━━━━┩\n",
       "│ When  Jacob and  Paul went to the shops, Paul gave the bag to       │<span style=\"color: #00c800; text-decoration-color: #00c800; font-weight: bold\">  Jacob   </span>│<span style=\"color: #ff0000; text-decoration-color: #ff0000; font-weight: bold\">  Paul     </span>│<span style=\"font-weight: bold\"> 4.659            </span>│\n",
       "│ When  Jacob and  Paul went to the shops, Jacob gave the bag to      │<span style=\"color: #00c800; text-decoration-color: #00c800; font-weight: bold\">  Paul    </span>│<span style=\"color: #ff0000; text-decoration-color: #ff0000; font-weight: bold\">  Jacob    </span>│<span style=\"font-weight: bold\"> 4.560            </span>│\n",
       "│ When  Noah and  Jesus went to the shops, Jesus gave the bag to      │<span style=\"color: #00c800; text-decoration-color: #00c800; font-weight: bold\">  Noah    </span>│<span style=\"color: #ff0000; text-decoration-color: #ff0000; font-weight: bold\">  Jesus    </span>│<span style=\"font-weight: bold\"> 4.621            </span>│\n",
       "│ When  Noah and  Jesus went to the shops, Noah gave the bag to       │<span style=\"color: #00c800; text-decoration-color: #00c800; font-weight: bold\">  Jesus   </span>│<span style=\"color: #ff0000; text-decoration-color: #ff0000; font-weight: bold\">  Noah     </span>│<span style=\"font-weight: bold\"> 2.645            </span>│\n",
       "│ When  Paul and  Jesus went to the shops, Jesus gave the bag to      │<span style=\"color: #00c800; text-decoration-color: #00c800; font-weight: bold\">  Paul    </span>│<span style=\"color: #ff0000; text-decoration-color: #ff0000; font-weight: bold\">  Jesus    </span>│<span style=\"font-weight: bold\"> 3.775            </span>│\n",
       "│ When  Paul and  Jesus went to the shops, Paul gave the bag to       │<span style=\"color: #00c800; text-decoration-color: #00c800; font-weight: bold\">  Jesus   </span>│<span style=\"color: #ff0000; text-decoration-color: #ff0000; font-weight: bold\">  Paul     </span>│<span style=\"font-weight: bold\"> 0.811            </span>│\n",
       "│ When  Isaac and  Abraham went to the shops, Abraham gave the bag to │<span style=\"color: #00c800; text-decoration-color: #00c800; font-weight: bold\">  Isaac   </span>│<span style=\"color: #ff0000; text-decoration-color: #ff0000; font-weight: bold\">  Abraham  </span>│<span style=\"font-weight: bold\"> 3.095            </span>│\n",
       "│ When  Isaac and  Abraham went to the shops, Isaac gave the bag to   │<span style=\"color: #00c800; text-decoration-color: #00c800; font-weight: bold\">  Abraham </span>│<span style=\"color: #ff0000; text-decoration-color: #ff0000; font-weight: bold\">  Isaac    </span>│<span style=\"font-weight: bold\"> 1.792            </span>│\n",
       "│ When  Paul and  Joseph went to the shops, Joseph gave the bag to    │<span style=\"color: #00c800; text-decoration-color: #00c800; font-weight: bold\">  Paul    </span>│<span style=\"color: #ff0000; text-decoration-color: #ff0000; font-weight: bold\">  Joseph   </span>│<span style=\"font-weight: bold\"> 2.202            </span>│\n",
       "│ When  Paul and  Joseph went to the shops, Paul gave the bag to      │<span style=\"color: #00c800; text-decoration-color: #00c800; font-weight: bold\">  Joseph  </span>│<span style=\"color: #ff0000; text-decoration-color: #ff0000; font-weight: bold\">  Paul     </span>│<span style=\"font-weight: bold\"> 4.792            </span>│\n",
       "│ When  Paul and  Noah went to the shops, Noah gave the bag to        │<span style=\"color: #00c800; text-decoration-color: #00c800; font-weight: bold\">  Paul    </span>│<span style=\"color: #ff0000; text-decoration-color: #ff0000; font-weight: bold\">  Noah     </span>│<span style=\"font-weight: bold\"> 3.363            </span>│\n",
       "│ When  Paul and  Noah went to the shops, Paul gave the bag to        │<span style=\"color: #00c800; text-decoration-color: #00c800; font-weight: bold\">  Noah    </span>│<span style=\"color: #ff0000; text-decoration-color: #ff0000; font-weight: bold\">  Paul     </span>│<span style=\"font-weight: bold\"> 3.928            </span>│\n",
       "│ When  Isaac and  Jesus went to the shops, Jesus gave the bag to     │<span style=\"color: #00c800; text-decoration-color: #00c800; font-weight: bold\">  Isaac   </span>│<span style=\"color: #ff0000; text-decoration-color: #ff0000; font-weight: bold\">  Jesus    </span>│<span style=\"font-weight: bold\"> 4.036            </span>│\n",
       "│ When  Isaac and  Jesus went to the shops, Isaac gave the bag to     │<span style=\"color: #00c800; text-decoration-color: #00c800; font-weight: bold\">  Jesus   </span>│<span style=\"color: #ff0000; text-decoration-color: #ff0000; font-weight: bold\">  Isaac    </span>│<span style=\"font-weight: bold\"> 3.647            </span>│\n",
       "│ When  Paul and  Jesus went to the shops, Jesus gave the bag to      │<span style=\"color: #00c800; text-decoration-color: #00c800; font-weight: bold\">  Paul    </span>│<span style=\"color: #ff0000; text-decoration-color: #ff0000; font-weight: bold\">  Jesus    </span>│<span style=\"font-weight: bold\"> 3.775            </span>│\n",
       "│ When  Paul and  Jesus went to the shops, Paul gave the bag to       │<span style=\"color: #00c800; text-decoration-color: #00c800; font-weight: bold\">  Jesus   </span>│<span style=\"color: #ff0000; text-decoration-color: #ff0000; font-weight: bold\">  Paul     </span>│<span style=\"font-weight: bold\"> 0.811            </span>│\n",
       "│ When  Isaac and  Paul went to the shops, Paul gave the bag to       │<span style=\"color: #00c800; text-decoration-color: #00c800; font-weight: bold\">  Isaac   </span>│<span style=\"color: #ff0000; text-decoration-color: #ff0000; font-weight: bold\">  Paul     </span>│<span style=\"font-weight: bold\"> 3.371            </span>│\n",
       "│ When  Isaac and  Paul went to the shops, Isaac gave the bag to      │<span style=\"color: #00c800; text-decoration-color: #00c800; font-weight: bold\">  Paul    </span>│<span style=\"color: #ff0000; text-decoration-color: #ff0000; font-weight: bold\">  Isaac    </span>│<span style=\"font-weight: bold\"> 5.887            </span>│\n",
       "│ When  Joseph and  Mary went to the shops, Mary gave the bag to      │<span style=\"color: #00c800; text-decoration-color: #00c800; font-weight: bold\">  Joseph  </span>│<span style=\"color: #ff0000; text-decoration-color: #ff0000; font-weight: bold\">  Mary     </span>│<span style=\"font-weight: bold\"> 5.585            </span>│\n",
       "│ When  Joseph and  Mary went to the shops, Joseph gave the bag to    │<span style=\"color: #00c800; text-decoration-color: #00c800; font-weight: bold\">  Mary    </span>│<span style=\"color: #ff0000; text-decoration-color: #ff0000; font-weight: bold\">  Joseph   </span>│<span style=\"font-weight: bold\"> 1.064            </span>│\n",
       "└─────────────────────────────────────────────────────────────────────┴──────────┴───────────┴──────────────────┘\n",
       "</pre>\n"
      ],
      "text/plain": [
       "\u001b[3m                                     Religious Names: Ave logit diff = 3.421                                     \u001b[0m\n",
       "┏━━━━━━━━━━━━━━━━━━━━━━━━━━━━━━━━━━━━━━━━━━━━━━━━━━━━━━━━━━━━━━━━━━━━━┳━━━━━━━━━━┳━━━━━━━━━━━┳━━━━━━━━━━━━━━━━━━┓\n",
       "┃\u001b[1m \u001b[0m\u001b[1mPrompt                                                             \u001b[0m\u001b[1m \u001b[0m┃\u001b[1m \u001b[0m\u001b[1mCorrect \u001b[0m\u001b[1m \u001b[0m┃\u001b[1m \u001b[0m\u001b[1mIncorrect\u001b[0m\u001b[1m \u001b[0m┃\u001b[1m \u001b[0m\u001b[1mLogit Difference\u001b[0m\u001b[1m \u001b[0m┃\n",
       "┡━━━━━━━━━━━━━━━━━━━━━━━━━━━━━━━━━━━━━━━━━━━━━━━━━━━━━━━━━━━━━━━━━━━━━╇━━━━━━━━━━╇━━━━━━━━━━━╇━━━━━━━━━━━━━━━━━━┩\n",
       "│ When  Jacob and  Paul went to the shops, Paul gave the bag to       │\u001b[1;38;2;0;200;0m \u001b[0m\u001b[1;38;2;0;200;0m Jacob  \u001b[0m\u001b[1;38;2;0;200;0m \u001b[0m│\u001b[1;38;2;255;0;0m \u001b[0m\u001b[1;38;2;255;0;0m Paul    \u001b[0m\u001b[1;38;2;255;0;0m \u001b[0m│\u001b[1m \u001b[0m\u001b[1m4.659           \u001b[0m\u001b[1m \u001b[0m│\n",
       "│ When  Jacob and  Paul went to the shops, Jacob gave the bag to      │\u001b[1;38;2;0;200;0m \u001b[0m\u001b[1;38;2;0;200;0m Paul   \u001b[0m\u001b[1;38;2;0;200;0m \u001b[0m│\u001b[1;38;2;255;0;0m \u001b[0m\u001b[1;38;2;255;0;0m Jacob   \u001b[0m\u001b[1;38;2;255;0;0m \u001b[0m│\u001b[1m \u001b[0m\u001b[1m4.560           \u001b[0m\u001b[1m \u001b[0m│\n",
       "│ When  Noah and  Jesus went to the shops, Jesus gave the bag to      │\u001b[1;38;2;0;200;0m \u001b[0m\u001b[1;38;2;0;200;0m Noah   \u001b[0m\u001b[1;38;2;0;200;0m \u001b[0m│\u001b[1;38;2;255;0;0m \u001b[0m\u001b[1;38;2;255;0;0m Jesus   \u001b[0m\u001b[1;38;2;255;0;0m \u001b[0m│\u001b[1m \u001b[0m\u001b[1m4.621           \u001b[0m\u001b[1m \u001b[0m│\n",
       "│ When  Noah and  Jesus went to the shops, Noah gave the bag to       │\u001b[1;38;2;0;200;0m \u001b[0m\u001b[1;38;2;0;200;0m Jesus  \u001b[0m\u001b[1;38;2;0;200;0m \u001b[0m│\u001b[1;38;2;255;0;0m \u001b[0m\u001b[1;38;2;255;0;0m Noah    \u001b[0m\u001b[1;38;2;255;0;0m \u001b[0m│\u001b[1m \u001b[0m\u001b[1m2.645           \u001b[0m\u001b[1m \u001b[0m│\n",
       "│ When  Paul and  Jesus went to the shops, Jesus gave the bag to      │\u001b[1;38;2;0;200;0m \u001b[0m\u001b[1;38;2;0;200;0m Paul   \u001b[0m\u001b[1;38;2;0;200;0m \u001b[0m│\u001b[1;38;2;255;0;0m \u001b[0m\u001b[1;38;2;255;0;0m Jesus   \u001b[0m\u001b[1;38;2;255;0;0m \u001b[0m│\u001b[1m \u001b[0m\u001b[1m3.775           \u001b[0m\u001b[1m \u001b[0m│\n",
       "│ When  Paul and  Jesus went to the shops, Paul gave the bag to       │\u001b[1;38;2;0;200;0m \u001b[0m\u001b[1;38;2;0;200;0m Jesus  \u001b[0m\u001b[1;38;2;0;200;0m \u001b[0m│\u001b[1;38;2;255;0;0m \u001b[0m\u001b[1;38;2;255;0;0m Paul    \u001b[0m\u001b[1;38;2;255;0;0m \u001b[0m│\u001b[1m \u001b[0m\u001b[1m0.811           \u001b[0m\u001b[1m \u001b[0m│\n",
       "│ When  Isaac and  Abraham went to the shops, Abraham gave the bag to │\u001b[1;38;2;0;200;0m \u001b[0m\u001b[1;38;2;0;200;0m Isaac  \u001b[0m\u001b[1;38;2;0;200;0m \u001b[0m│\u001b[1;38;2;255;0;0m \u001b[0m\u001b[1;38;2;255;0;0m Abraham \u001b[0m\u001b[1;38;2;255;0;0m \u001b[0m│\u001b[1m \u001b[0m\u001b[1m3.095           \u001b[0m\u001b[1m \u001b[0m│\n",
       "│ When  Isaac and  Abraham went to the shops, Isaac gave the bag to   │\u001b[1;38;2;0;200;0m \u001b[0m\u001b[1;38;2;0;200;0m Abraham\u001b[0m\u001b[1;38;2;0;200;0m \u001b[0m│\u001b[1;38;2;255;0;0m \u001b[0m\u001b[1;38;2;255;0;0m Isaac   \u001b[0m\u001b[1;38;2;255;0;0m \u001b[0m│\u001b[1m \u001b[0m\u001b[1m1.792           \u001b[0m\u001b[1m \u001b[0m│\n",
       "│ When  Paul and  Joseph went to the shops, Joseph gave the bag to    │\u001b[1;38;2;0;200;0m \u001b[0m\u001b[1;38;2;0;200;0m Paul   \u001b[0m\u001b[1;38;2;0;200;0m \u001b[0m│\u001b[1;38;2;255;0;0m \u001b[0m\u001b[1;38;2;255;0;0m Joseph  \u001b[0m\u001b[1;38;2;255;0;0m \u001b[0m│\u001b[1m \u001b[0m\u001b[1m2.202           \u001b[0m\u001b[1m \u001b[0m│\n",
       "│ When  Paul and  Joseph went to the shops, Paul gave the bag to      │\u001b[1;38;2;0;200;0m \u001b[0m\u001b[1;38;2;0;200;0m Joseph \u001b[0m\u001b[1;38;2;0;200;0m \u001b[0m│\u001b[1;38;2;255;0;0m \u001b[0m\u001b[1;38;2;255;0;0m Paul    \u001b[0m\u001b[1;38;2;255;0;0m \u001b[0m│\u001b[1m \u001b[0m\u001b[1m4.792           \u001b[0m\u001b[1m \u001b[0m│\n",
       "│ When  Paul and  Noah went to the shops, Noah gave the bag to        │\u001b[1;38;2;0;200;0m \u001b[0m\u001b[1;38;2;0;200;0m Paul   \u001b[0m\u001b[1;38;2;0;200;0m \u001b[0m│\u001b[1;38;2;255;0;0m \u001b[0m\u001b[1;38;2;255;0;0m Noah    \u001b[0m\u001b[1;38;2;255;0;0m \u001b[0m│\u001b[1m \u001b[0m\u001b[1m3.363           \u001b[0m\u001b[1m \u001b[0m│\n",
       "│ When  Paul and  Noah went to the shops, Paul gave the bag to        │\u001b[1;38;2;0;200;0m \u001b[0m\u001b[1;38;2;0;200;0m Noah   \u001b[0m\u001b[1;38;2;0;200;0m \u001b[0m│\u001b[1;38;2;255;0;0m \u001b[0m\u001b[1;38;2;255;0;0m Paul    \u001b[0m\u001b[1;38;2;255;0;0m \u001b[0m│\u001b[1m \u001b[0m\u001b[1m3.928           \u001b[0m\u001b[1m \u001b[0m│\n",
       "│ When  Isaac and  Jesus went to the shops, Jesus gave the bag to     │\u001b[1;38;2;0;200;0m \u001b[0m\u001b[1;38;2;0;200;0m Isaac  \u001b[0m\u001b[1;38;2;0;200;0m \u001b[0m│\u001b[1;38;2;255;0;0m \u001b[0m\u001b[1;38;2;255;0;0m Jesus   \u001b[0m\u001b[1;38;2;255;0;0m \u001b[0m│\u001b[1m \u001b[0m\u001b[1m4.036           \u001b[0m\u001b[1m \u001b[0m│\n",
       "│ When  Isaac and  Jesus went to the shops, Isaac gave the bag to     │\u001b[1;38;2;0;200;0m \u001b[0m\u001b[1;38;2;0;200;0m Jesus  \u001b[0m\u001b[1;38;2;0;200;0m \u001b[0m│\u001b[1;38;2;255;0;0m \u001b[0m\u001b[1;38;2;255;0;0m Isaac   \u001b[0m\u001b[1;38;2;255;0;0m \u001b[0m│\u001b[1m \u001b[0m\u001b[1m3.647           \u001b[0m\u001b[1m \u001b[0m│\n",
       "│ When  Paul and  Jesus went to the shops, Jesus gave the bag to      │\u001b[1;38;2;0;200;0m \u001b[0m\u001b[1;38;2;0;200;0m Paul   \u001b[0m\u001b[1;38;2;0;200;0m \u001b[0m│\u001b[1;38;2;255;0;0m \u001b[0m\u001b[1;38;2;255;0;0m Jesus   \u001b[0m\u001b[1;38;2;255;0;0m \u001b[0m│\u001b[1m \u001b[0m\u001b[1m3.775           \u001b[0m\u001b[1m \u001b[0m│\n",
       "│ When  Paul and  Jesus went to the shops, Paul gave the bag to       │\u001b[1;38;2;0;200;0m \u001b[0m\u001b[1;38;2;0;200;0m Jesus  \u001b[0m\u001b[1;38;2;0;200;0m \u001b[0m│\u001b[1;38;2;255;0;0m \u001b[0m\u001b[1;38;2;255;0;0m Paul    \u001b[0m\u001b[1;38;2;255;0;0m \u001b[0m│\u001b[1m \u001b[0m\u001b[1m0.811           \u001b[0m\u001b[1m \u001b[0m│\n",
       "│ When  Isaac and  Paul went to the shops, Paul gave the bag to       │\u001b[1;38;2;0;200;0m \u001b[0m\u001b[1;38;2;0;200;0m Isaac  \u001b[0m\u001b[1;38;2;0;200;0m \u001b[0m│\u001b[1;38;2;255;0;0m \u001b[0m\u001b[1;38;2;255;0;0m Paul    \u001b[0m\u001b[1;38;2;255;0;0m \u001b[0m│\u001b[1m \u001b[0m\u001b[1m3.371           \u001b[0m\u001b[1m \u001b[0m│\n",
       "│ When  Isaac and  Paul went to the shops, Isaac gave the bag to      │\u001b[1;38;2;0;200;0m \u001b[0m\u001b[1;38;2;0;200;0m Paul   \u001b[0m\u001b[1;38;2;0;200;0m \u001b[0m│\u001b[1;38;2;255;0;0m \u001b[0m\u001b[1;38;2;255;0;0m Isaac   \u001b[0m\u001b[1;38;2;255;0;0m \u001b[0m│\u001b[1m \u001b[0m\u001b[1m5.887           \u001b[0m\u001b[1m \u001b[0m│\n",
       "│ When  Joseph and  Mary went to the shops, Mary gave the bag to      │\u001b[1;38;2;0;200;0m \u001b[0m\u001b[1;38;2;0;200;0m Joseph \u001b[0m\u001b[1;38;2;0;200;0m \u001b[0m│\u001b[1;38;2;255;0;0m \u001b[0m\u001b[1;38;2;255;0;0m Mary    \u001b[0m\u001b[1;38;2;255;0;0m \u001b[0m│\u001b[1m \u001b[0m\u001b[1m5.585           \u001b[0m\u001b[1m \u001b[0m│\n",
       "│ When  Joseph and  Mary went to the shops, Joseph gave the bag to    │\u001b[1;38;2;0;200;0m \u001b[0m\u001b[1;38;2;0;200;0m Mary   \u001b[0m\u001b[1;38;2;0;200;0m \u001b[0m│\u001b[1;38;2;255;0;0m \u001b[0m\u001b[1;38;2;255;0;0m Joseph  \u001b[0m\u001b[1;38;2;255;0;0m \u001b[0m│\u001b[1m \u001b[0m\u001b[1m1.064           \u001b[0m\u001b[1m \u001b[0m│\n",
       "└─────────────────────────────────────────────────────────────────────┴──────────┴───────────┴──────────────────┘\n"
      ]
     },
     "metadata": {},
     "output_type": "display_data"
    },
    {
     "name": "stdout",
     "output_type": "stream",
     "text": [
      "torch.Size([20, 50257])\n",
      "torch.Size([20, 50257])\n",
      "torch.Size([20, 50257])\n",
      "torch.Size([20, 50257])\n",
      "torch.Size([20, 50257])\n"
     ]
    },
    {
     "data": {
      "text/html": [
       "<pre style=\"white-space:pre;overflow-x:auto;line-height:normal;font-family:Menlo,'DejaVu Sans Mono',consolas,'Courier New',monospace\"><span style=\"font-style: italic\">                                        Place Names: Ave logit diff = 3.132                                        </span>\n",
       "┏━━━━━━━━━━━━━━━━━━━━━━━━━━━━━━━━━━━━━━━━━━━━━━━━━━━━━━━━━━━━━━━━━━━━━━┳━━━━━━━━━━━┳━━━━━━━━━━━┳━━━━━━━━━━━━━━━━━━┓\n",
       "┃<span style=\"font-weight: bold\"> Prompt                                                               </span>┃<span style=\"font-weight: bold\"> Correct   </span>┃<span style=\"font-weight: bold\"> Incorrect </span>┃<span style=\"font-weight: bold\"> Logit Difference </span>┃\n",
       "┡━━━━━━━━━━━━━━━━━━━━━━━━━━━━━━━━━━━━━━━━━━━━━━━━━━━━━━━━━━━━━━━━━━━━━━╇━━━━━━━━━━━╇━━━━━━━━━━━╇━━━━━━━━━━━━━━━━━━┩\n",
       "│ When  Devon and  Florence went to the shops, Florence gave the bag   │<span style=\"color: #00c800; text-decoration-color: #00c800; font-weight: bold\">  Devon    </span>│<span style=\"color: #ff0000; text-decoration-color: #ff0000; font-weight: bold\">  Florence </span>│<span style=\"font-weight: bold\"> 3.998            </span>│\n",
       "│ to                                                                   │<span style=\"color: #00c800; text-decoration-color: #00c800; font-weight: bold\">           </span>│<span style=\"color: #ff0000; text-decoration-color: #ff0000; font-weight: bold\">           </span>│<span style=\"font-weight: bold\">                  </span>│\n",
       "│ When  Devon and  Florence went to the shops, Devon gave the bag to   │<span style=\"color: #00c800; text-decoration-color: #00c800; font-weight: bold\">  Florence </span>│<span style=\"color: #ff0000; text-decoration-color: #ff0000; font-weight: bold\">  Devon    </span>│<span style=\"font-weight: bold\"> 7.686            </span>│\n",
       "│ When  Florence and  Paris went to the shops, Paris gave the bag to   │<span style=\"color: #00c800; text-decoration-color: #00c800; font-weight: bold\">  Florence </span>│<span style=\"color: #ff0000; text-decoration-color: #ff0000; font-weight: bold\">  Paris    </span>│<span style=\"font-weight: bold\"> 2.874            </span>│\n",
       "│ When  Florence and  Paris went to the shops, Florence gave the bag   │<span style=\"color: #00c800; text-decoration-color: #00c800; font-weight: bold\">  Paris    </span>│<span style=\"color: #ff0000; text-decoration-color: #ff0000; font-weight: bold\">  Florence </span>│<span style=\"font-weight: bold\"> 2.317            </span>│\n",
       "│ to                                                                   │<span style=\"color: #00c800; text-decoration-color: #00c800; font-weight: bold\">           </span>│<span style=\"color: #ff0000; text-decoration-color: #ff0000; font-weight: bold\">           </span>│<span style=\"font-weight: bold\">                  </span>│\n",
       "│ When  Brooklyn and  Austin went to the shops, Austin gave the bag to │<span style=\"color: #00c800; text-decoration-color: #00c800; font-weight: bold\">  Brooklyn </span>│<span style=\"color: #ff0000; text-decoration-color: #ff0000; font-weight: bold\">  Austin   </span>│<span style=\"font-weight: bold\"> -0.968           </span>│\n",
       "│ When  Brooklyn and  Austin went to the shops, Brooklyn gave the bag  │<span style=\"color: #00c800; text-decoration-color: #00c800; font-weight: bold\">  Austin   </span>│<span style=\"color: #ff0000; text-decoration-color: #ff0000; font-weight: bold\">  Brooklyn </span>│<span style=\"font-weight: bold\"> 6.529            </span>│\n",
       "│ to                                                                   │<span style=\"color: #00c800; text-decoration-color: #00c800; font-weight: bold\">           </span>│<span style=\"color: #ff0000; text-decoration-color: #ff0000; font-weight: bold\">           </span>│<span style=\"font-weight: bold\">                  </span>│\n",
       "│ When  Austin and  Phoenix went to the shops, Phoenix gave the bag to │<span style=\"color: #00c800; text-decoration-color: #00c800; font-weight: bold\">  Austin   </span>│<span style=\"color: #ff0000; text-decoration-color: #ff0000; font-weight: bold\">  Phoenix  </span>│<span style=\"font-weight: bold\"> 3.024            </span>│\n",
       "│ When  Austin and  Phoenix went to the shops, Austin gave the bag to  │<span style=\"color: #00c800; text-decoration-color: #00c800; font-weight: bold\">  Phoenix  </span>│<span style=\"color: #ff0000; text-decoration-color: #ff0000; font-weight: bold\">  Austin   </span>│<span style=\"font-weight: bold\"> 3.813            </span>│\n",
       "│ When  London and  Brooklyn went to the shops, Brooklyn gave the bag  │<span style=\"color: #00c800; text-decoration-color: #00c800; font-weight: bold\">  London   </span>│<span style=\"color: #ff0000; text-decoration-color: #ff0000; font-weight: bold\">  Brooklyn </span>│<span style=\"font-weight: bold\"> -3.078           </span>│\n",
       "│ to                                                                   │<span style=\"color: #00c800; text-decoration-color: #00c800; font-weight: bold\">           </span>│<span style=\"color: #ff0000; text-decoration-color: #ff0000; font-weight: bold\">           </span>│<span style=\"font-weight: bold\">                  </span>│\n",
       "│ When  London and  Brooklyn went to the shops, London gave the bag to │<span style=\"color: #00c800; text-decoration-color: #00c800; font-weight: bold\">  Brooklyn </span>│<span style=\"color: #ff0000; text-decoration-color: #ff0000; font-weight: bold\">  London   </span>│<span style=\"font-weight: bold\"> 3.658            </span>│\n",
       "│ When  Brooklyn and  Austin went to the shops, Austin gave the bag to │<span style=\"color: #00c800; text-decoration-color: #00c800; font-weight: bold\">  Brooklyn </span>│<span style=\"color: #ff0000; text-decoration-color: #ff0000; font-weight: bold\">  Austin   </span>│<span style=\"font-weight: bold\"> -0.968           </span>│\n",
       "│ When  Brooklyn and  Austin went to the shops, Brooklyn gave the bag  │<span style=\"color: #00c800; text-decoration-color: #00c800; font-weight: bold\">  Austin   </span>│<span style=\"color: #ff0000; text-decoration-color: #ff0000; font-weight: bold\">  Brooklyn </span>│<span style=\"font-weight: bold\"> 6.529            </span>│\n",
       "│ to                                                                   │<span style=\"color: #00c800; text-decoration-color: #00c800; font-weight: bold\">           </span>│<span style=\"color: #ff0000; text-decoration-color: #ff0000; font-weight: bold\">           </span>│<span style=\"font-weight: bold\">                  </span>│\n",
       "│ When  Austin and  Madison went to the shops, Madison gave the bag to │<span style=\"color: #00c800; text-decoration-color: #00c800; font-weight: bold\">  Austin   </span>│<span style=\"color: #ff0000; text-decoration-color: #ff0000; font-weight: bold\">  Madison  </span>│<span style=\"font-weight: bold\"> 2.843            </span>│\n",
       "│ When  Austin and  Madison went to the shops, Austin gave the bag to  │<span style=\"color: #00c800; text-decoration-color: #00c800; font-weight: bold\">  Madison  </span>│<span style=\"color: #ff0000; text-decoration-color: #ff0000; font-weight: bold\">  Austin   </span>│<span style=\"font-weight: bold\"> 5.580            </span>│\n",
       "│ When  Phoenix and  Paris went to the shops, Paris gave the bag to    │<span style=\"color: #00c800; text-decoration-color: #00c800; font-weight: bold\">  Phoenix  </span>│<span style=\"color: #ff0000; text-decoration-color: #ff0000; font-weight: bold\">  Paris    </span>│<span style=\"font-weight: bold\"> 1.135            </span>│\n",
       "│ When  Phoenix and  Paris went to the shops, Phoenix gave the bag to  │<span style=\"color: #00c800; text-decoration-color: #00c800; font-weight: bold\">  Paris    </span>│<span style=\"color: #ff0000; text-decoration-color: #ff0000; font-weight: bold\">  Phoenix  </span>│<span style=\"font-weight: bold\"> 5.022            </span>│\n",
       "│ When  Brooklyn and  Florence went to the shops, Florence gave the    │<span style=\"color: #00c800; text-decoration-color: #00c800; font-weight: bold\">  Brooklyn </span>│<span style=\"color: #ff0000; text-decoration-color: #ff0000; font-weight: bold\">  Florence </span>│<span style=\"font-weight: bold\"> -1.866           </span>│\n",
       "│ bag to                                                               │<span style=\"color: #00c800; text-decoration-color: #00c800; font-weight: bold\">           </span>│<span style=\"color: #ff0000; text-decoration-color: #ff0000; font-weight: bold\">           </span>│<span style=\"font-weight: bold\">                  </span>│\n",
       "│ When  Brooklyn and  Florence went to the shops, Brooklyn gave the    │<span style=\"color: #00c800; text-decoration-color: #00c800; font-weight: bold\">  Florence </span>│<span style=\"color: #ff0000; text-decoration-color: #ff0000; font-weight: bold\">  Brooklyn </span>│<span style=\"font-weight: bold\"> 7.412            </span>│\n",
       "│ bag to                                                               │<span style=\"color: #00c800; text-decoration-color: #00c800; font-weight: bold\">           </span>│<span style=\"color: #ff0000; text-decoration-color: #ff0000; font-weight: bold\">           </span>│<span style=\"font-weight: bold\">                  </span>│\n",
       "│ When  Phoenix and  Madison went to the shops, Madison gave the bag   │<span style=\"color: #00c800; text-decoration-color: #00c800; font-weight: bold\">  Phoenix  </span>│<span style=\"color: #ff0000; text-decoration-color: #ff0000; font-weight: bold\">  Madison  </span>│<span style=\"font-weight: bold\"> 1.461            </span>│\n",
       "│ to                                                                   │<span style=\"color: #00c800; text-decoration-color: #00c800; font-weight: bold\">           </span>│<span style=\"color: #ff0000; text-decoration-color: #ff0000; font-weight: bold\">           </span>│<span style=\"font-weight: bold\">                  </span>│\n",
       "│ When  Phoenix and  Madison went to the shops, Phoenix gave the bag   │<span style=\"color: #00c800; text-decoration-color: #00c800; font-weight: bold\">  Madison  </span>│<span style=\"color: #ff0000; text-decoration-color: #ff0000; font-weight: bold\">  Phoenix  </span>│<span style=\"font-weight: bold\"> 5.644            </span>│\n",
       "│ to                                                                   │<span style=\"color: #00c800; text-decoration-color: #00c800; font-weight: bold\">           </span>│<span style=\"color: #ff0000; text-decoration-color: #ff0000; font-weight: bold\">           </span>│<span style=\"font-weight: bold\">                  </span>│\n",
       "└──────────────────────────────────────────────────────────────────────┴───────────┴───────────┴──────────────────┘\n",
       "</pre>\n"
      ],
      "text/plain": [
       "\u001b[3m                                        Place Names: Ave logit diff = 3.132                                        \u001b[0m\n",
       "┏━━━━━━━━━━━━━━━━━━━━━━━━━━━━━━━━━━━━━━━━━━━━━━━━━━━━━━━━━━━━━━━━━━━━━━┳━━━━━━━━━━━┳━━━━━━━━━━━┳━━━━━━━━━━━━━━━━━━┓\n",
       "┃\u001b[1m \u001b[0m\u001b[1mPrompt                                                              \u001b[0m\u001b[1m \u001b[0m┃\u001b[1m \u001b[0m\u001b[1mCorrect  \u001b[0m\u001b[1m \u001b[0m┃\u001b[1m \u001b[0m\u001b[1mIncorrect\u001b[0m\u001b[1m \u001b[0m┃\u001b[1m \u001b[0m\u001b[1mLogit Difference\u001b[0m\u001b[1m \u001b[0m┃\n",
       "┡━━━━━━━━━━━━━━━━━━━━━━━━━━━━━━━━━━━━━━━━━━━━━━━━━━━━━━━━━━━━━━━━━━━━━━╇━━━━━━━━━━━╇━━━━━━━━━━━╇━━━━━━━━━━━━━━━━━━┩\n",
       "│ When  Devon and  Florence went to the shops, Florence gave the bag   │\u001b[1;38;2;0;200;0m \u001b[0m\u001b[1;38;2;0;200;0m Devon   \u001b[0m\u001b[1;38;2;0;200;0m \u001b[0m│\u001b[1;38;2;255;0;0m \u001b[0m\u001b[1;38;2;255;0;0m Florence\u001b[0m\u001b[1;38;2;255;0;0m \u001b[0m│\u001b[1m \u001b[0m\u001b[1m3.998           \u001b[0m\u001b[1m \u001b[0m│\n",
       "│ to                                                                   │\u001b[1;38;2;0;200;0m           \u001b[0m│\u001b[1;38;2;255;0;0m           \u001b[0m│\u001b[1m                  \u001b[0m│\n",
       "│ When  Devon and  Florence went to the shops, Devon gave the bag to   │\u001b[1;38;2;0;200;0m \u001b[0m\u001b[1;38;2;0;200;0m Florence\u001b[0m\u001b[1;38;2;0;200;0m \u001b[0m│\u001b[1;38;2;255;0;0m \u001b[0m\u001b[1;38;2;255;0;0m Devon   \u001b[0m\u001b[1;38;2;255;0;0m \u001b[0m│\u001b[1m \u001b[0m\u001b[1m7.686           \u001b[0m\u001b[1m \u001b[0m│\n",
       "│ When  Florence and  Paris went to the shops, Paris gave the bag to   │\u001b[1;38;2;0;200;0m \u001b[0m\u001b[1;38;2;0;200;0m Florence\u001b[0m\u001b[1;38;2;0;200;0m \u001b[0m│\u001b[1;38;2;255;0;0m \u001b[0m\u001b[1;38;2;255;0;0m Paris   \u001b[0m\u001b[1;38;2;255;0;0m \u001b[0m│\u001b[1m \u001b[0m\u001b[1m2.874           \u001b[0m\u001b[1m \u001b[0m│\n",
       "│ When  Florence and  Paris went to the shops, Florence gave the bag   │\u001b[1;38;2;0;200;0m \u001b[0m\u001b[1;38;2;0;200;0m Paris   \u001b[0m\u001b[1;38;2;0;200;0m \u001b[0m│\u001b[1;38;2;255;0;0m \u001b[0m\u001b[1;38;2;255;0;0m Florence\u001b[0m\u001b[1;38;2;255;0;0m \u001b[0m│\u001b[1m \u001b[0m\u001b[1m2.317           \u001b[0m\u001b[1m \u001b[0m│\n",
       "│ to                                                                   │\u001b[1;38;2;0;200;0m           \u001b[0m│\u001b[1;38;2;255;0;0m           \u001b[0m│\u001b[1m                  \u001b[0m│\n",
       "│ When  Brooklyn and  Austin went to the shops, Austin gave the bag to │\u001b[1;38;2;0;200;0m \u001b[0m\u001b[1;38;2;0;200;0m Brooklyn\u001b[0m\u001b[1;38;2;0;200;0m \u001b[0m│\u001b[1;38;2;255;0;0m \u001b[0m\u001b[1;38;2;255;0;0m Austin  \u001b[0m\u001b[1;38;2;255;0;0m \u001b[0m│\u001b[1m \u001b[0m\u001b[1m-0.968          \u001b[0m\u001b[1m \u001b[0m│\n",
       "│ When  Brooklyn and  Austin went to the shops, Brooklyn gave the bag  │\u001b[1;38;2;0;200;0m \u001b[0m\u001b[1;38;2;0;200;0m Austin  \u001b[0m\u001b[1;38;2;0;200;0m \u001b[0m│\u001b[1;38;2;255;0;0m \u001b[0m\u001b[1;38;2;255;0;0m Brooklyn\u001b[0m\u001b[1;38;2;255;0;0m \u001b[0m│\u001b[1m \u001b[0m\u001b[1m6.529           \u001b[0m\u001b[1m \u001b[0m│\n",
       "│ to                                                                   │\u001b[1;38;2;0;200;0m           \u001b[0m│\u001b[1;38;2;255;0;0m           \u001b[0m│\u001b[1m                  \u001b[0m│\n",
       "│ When  Austin and  Phoenix went to the shops, Phoenix gave the bag to │\u001b[1;38;2;0;200;0m \u001b[0m\u001b[1;38;2;0;200;0m Austin  \u001b[0m\u001b[1;38;2;0;200;0m \u001b[0m│\u001b[1;38;2;255;0;0m \u001b[0m\u001b[1;38;2;255;0;0m Phoenix \u001b[0m\u001b[1;38;2;255;0;0m \u001b[0m│\u001b[1m \u001b[0m\u001b[1m3.024           \u001b[0m\u001b[1m \u001b[0m│\n",
       "│ When  Austin and  Phoenix went to the shops, Austin gave the bag to  │\u001b[1;38;2;0;200;0m \u001b[0m\u001b[1;38;2;0;200;0m Phoenix \u001b[0m\u001b[1;38;2;0;200;0m \u001b[0m│\u001b[1;38;2;255;0;0m \u001b[0m\u001b[1;38;2;255;0;0m Austin  \u001b[0m\u001b[1;38;2;255;0;0m \u001b[0m│\u001b[1m \u001b[0m\u001b[1m3.813           \u001b[0m\u001b[1m \u001b[0m│\n",
       "│ When  London and  Brooklyn went to the shops, Brooklyn gave the bag  │\u001b[1;38;2;0;200;0m \u001b[0m\u001b[1;38;2;0;200;0m London  \u001b[0m\u001b[1;38;2;0;200;0m \u001b[0m│\u001b[1;38;2;255;0;0m \u001b[0m\u001b[1;38;2;255;0;0m Brooklyn\u001b[0m\u001b[1;38;2;255;0;0m \u001b[0m│\u001b[1m \u001b[0m\u001b[1m-3.078          \u001b[0m\u001b[1m \u001b[0m│\n",
       "│ to                                                                   │\u001b[1;38;2;0;200;0m           \u001b[0m│\u001b[1;38;2;255;0;0m           \u001b[0m│\u001b[1m                  \u001b[0m│\n",
       "│ When  London and  Brooklyn went to the shops, London gave the bag to │\u001b[1;38;2;0;200;0m \u001b[0m\u001b[1;38;2;0;200;0m Brooklyn\u001b[0m\u001b[1;38;2;0;200;0m \u001b[0m│\u001b[1;38;2;255;0;0m \u001b[0m\u001b[1;38;2;255;0;0m London  \u001b[0m\u001b[1;38;2;255;0;0m \u001b[0m│\u001b[1m \u001b[0m\u001b[1m3.658           \u001b[0m\u001b[1m \u001b[0m│\n",
       "│ When  Brooklyn and  Austin went to the shops, Austin gave the bag to │\u001b[1;38;2;0;200;0m \u001b[0m\u001b[1;38;2;0;200;0m Brooklyn\u001b[0m\u001b[1;38;2;0;200;0m \u001b[0m│\u001b[1;38;2;255;0;0m \u001b[0m\u001b[1;38;2;255;0;0m Austin  \u001b[0m\u001b[1;38;2;255;0;0m \u001b[0m│\u001b[1m \u001b[0m\u001b[1m-0.968          \u001b[0m\u001b[1m \u001b[0m│\n",
       "│ When  Brooklyn and  Austin went to the shops, Brooklyn gave the bag  │\u001b[1;38;2;0;200;0m \u001b[0m\u001b[1;38;2;0;200;0m Austin  \u001b[0m\u001b[1;38;2;0;200;0m \u001b[0m│\u001b[1;38;2;255;0;0m \u001b[0m\u001b[1;38;2;255;0;0m Brooklyn\u001b[0m\u001b[1;38;2;255;0;0m \u001b[0m│\u001b[1m \u001b[0m\u001b[1m6.529           \u001b[0m\u001b[1m \u001b[0m│\n",
       "│ to                                                                   │\u001b[1;38;2;0;200;0m           \u001b[0m│\u001b[1;38;2;255;0;0m           \u001b[0m│\u001b[1m                  \u001b[0m│\n",
       "│ When  Austin and  Madison went to the shops, Madison gave the bag to │\u001b[1;38;2;0;200;0m \u001b[0m\u001b[1;38;2;0;200;0m Austin  \u001b[0m\u001b[1;38;2;0;200;0m \u001b[0m│\u001b[1;38;2;255;0;0m \u001b[0m\u001b[1;38;2;255;0;0m Madison \u001b[0m\u001b[1;38;2;255;0;0m \u001b[0m│\u001b[1m \u001b[0m\u001b[1m2.843           \u001b[0m\u001b[1m \u001b[0m│\n",
       "│ When  Austin and  Madison went to the shops, Austin gave the bag to  │\u001b[1;38;2;0;200;0m \u001b[0m\u001b[1;38;2;0;200;0m Madison \u001b[0m\u001b[1;38;2;0;200;0m \u001b[0m│\u001b[1;38;2;255;0;0m \u001b[0m\u001b[1;38;2;255;0;0m Austin  \u001b[0m\u001b[1;38;2;255;0;0m \u001b[0m│\u001b[1m \u001b[0m\u001b[1m5.580           \u001b[0m\u001b[1m \u001b[0m│\n",
       "│ When  Phoenix and  Paris went to the shops, Paris gave the bag to    │\u001b[1;38;2;0;200;0m \u001b[0m\u001b[1;38;2;0;200;0m Phoenix \u001b[0m\u001b[1;38;2;0;200;0m \u001b[0m│\u001b[1;38;2;255;0;0m \u001b[0m\u001b[1;38;2;255;0;0m Paris   \u001b[0m\u001b[1;38;2;255;0;0m \u001b[0m│\u001b[1m \u001b[0m\u001b[1m1.135           \u001b[0m\u001b[1m \u001b[0m│\n",
       "│ When  Phoenix and  Paris went to the shops, Phoenix gave the bag to  │\u001b[1;38;2;0;200;0m \u001b[0m\u001b[1;38;2;0;200;0m Paris   \u001b[0m\u001b[1;38;2;0;200;0m \u001b[0m│\u001b[1;38;2;255;0;0m \u001b[0m\u001b[1;38;2;255;0;0m Phoenix \u001b[0m\u001b[1;38;2;255;0;0m \u001b[0m│\u001b[1m \u001b[0m\u001b[1m5.022           \u001b[0m\u001b[1m \u001b[0m│\n",
       "│ When  Brooklyn and  Florence went to the shops, Florence gave the    │\u001b[1;38;2;0;200;0m \u001b[0m\u001b[1;38;2;0;200;0m Brooklyn\u001b[0m\u001b[1;38;2;0;200;0m \u001b[0m│\u001b[1;38;2;255;0;0m \u001b[0m\u001b[1;38;2;255;0;0m Florence\u001b[0m\u001b[1;38;2;255;0;0m \u001b[0m│\u001b[1m \u001b[0m\u001b[1m-1.866          \u001b[0m\u001b[1m \u001b[0m│\n",
       "│ bag to                                                               │\u001b[1;38;2;0;200;0m           \u001b[0m│\u001b[1;38;2;255;0;0m           \u001b[0m│\u001b[1m                  \u001b[0m│\n",
       "│ When  Brooklyn and  Florence went to the shops, Brooklyn gave the    │\u001b[1;38;2;0;200;0m \u001b[0m\u001b[1;38;2;0;200;0m Florence\u001b[0m\u001b[1;38;2;0;200;0m \u001b[0m│\u001b[1;38;2;255;0;0m \u001b[0m\u001b[1;38;2;255;0;0m Brooklyn\u001b[0m\u001b[1;38;2;255;0;0m \u001b[0m│\u001b[1m \u001b[0m\u001b[1m7.412           \u001b[0m\u001b[1m \u001b[0m│\n",
       "│ bag to                                                               │\u001b[1;38;2;0;200;0m           \u001b[0m│\u001b[1;38;2;255;0;0m           \u001b[0m│\u001b[1m                  \u001b[0m│\n",
       "│ When  Phoenix and  Madison went to the shops, Madison gave the bag   │\u001b[1;38;2;0;200;0m \u001b[0m\u001b[1;38;2;0;200;0m Phoenix \u001b[0m\u001b[1;38;2;0;200;0m \u001b[0m│\u001b[1;38;2;255;0;0m \u001b[0m\u001b[1;38;2;255;0;0m Madison \u001b[0m\u001b[1;38;2;255;0;0m \u001b[0m│\u001b[1m \u001b[0m\u001b[1m1.461           \u001b[0m\u001b[1m \u001b[0m│\n",
       "│ to                                                                   │\u001b[1;38;2;0;200;0m           \u001b[0m│\u001b[1;38;2;255;0;0m           \u001b[0m│\u001b[1m                  \u001b[0m│\n",
       "│ When  Phoenix and  Madison went to the shops, Phoenix gave the bag   │\u001b[1;38;2;0;200;0m \u001b[0m\u001b[1;38;2;0;200;0m Madison \u001b[0m\u001b[1;38;2;0;200;0m \u001b[0m│\u001b[1;38;2;255;0;0m \u001b[0m\u001b[1;38;2;255;0;0m Phoenix \u001b[0m\u001b[1;38;2;255;0;0m \u001b[0m│\u001b[1m \u001b[0m\u001b[1m5.644           \u001b[0m\u001b[1m \u001b[0m│\n",
       "│ to                                                                   │\u001b[1;38;2;0;200;0m           \u001b[0m│\u001b[1;38;2;255;0;0m           \u001b[0m│\u001b[1m                  \u001b[0m│\n",
       "└──────────────────────────────────────────────────────────────────────┴───────────┴───────────┴──────────────────┘\n"
      ]
     },
     "metadata": {},
     "output_type": "display_data"
    }
   ],
   "source": [
    "make_table(prompts_n, ans_n, ans_toks_n, \"nouns\")\n",
    "make_table(prompts_pn, ans_pn, ans_toks_pn, \"proper nouns\")\n",
    "make_table(prompts_rel, ans_rel, ans_toks_rel, \"Religious Names\")\n",
    "make_table(prompts_pl, ans_pl, ans_toks_pl, \"Place Names\")"
   ]
  },
  {
   "attachments": {},
   "cell_type": "markdown",
   "metadata": {},
   "source": [
    "Looking at the top-k logits for each prompt"
   ]
  },
  {
   "cell_type": "code",
   "execution_count": 268,
   "metadata": {},
   "outputs": [
    {
     "name": "stdout",
     "output_type": "stream",
     "text": [
      "Prompt = When  Lamp and  Statue went to the shops, Statue gave the bag to\n",
      "Top 0th logit. prob = 33.93%, token =  Lamp\n",
      "Top 1th logit. prob = 15.14%, token =  \n",
      "Top 2th logit. prob = 8.23%, token =  the\n",
      "Prompt = When  Lamp and  Statue went to the shops, Lamp gave the bag to\n",
      "Top 0th logit. prob = 24.99%, token =  \n",
      "Top 1th logit. prob = 20.68%, token =  the\n",
      "Top 2th logit. prob = 3.99%, token =  Statue\n",
      "Prompt = When  Bag and  Chair went to the shops, Chair gave the bag to\n",
      "Top 0th logit. prob = 21.65%, token =  Bag\n",
      "Top 1th logit. prob = 18.90%, token =  \n",
      "Top 2th logit. prob = 7.51%, token =  the\n",
      "Prompt = When  Bag and  Chair went to the shops, Bag gave the bag to\n",
      "Top 0th logit. prob = 18.82%, token =  \n",
      "Top 1th logit. prob = 16.44%, token =  the\n",
      "Top 2th logit. prob = 4.62%, token =  a\n",
      "Prompt = When  Goose and  Flower went to the shops, Flower gave the bag to\n",
      "Top 0th logit. prob = 32.10%, token =  \n",
      "Top 1th logit. prob = 17.60%, token =  Goose\n",
      "Top 2th logit. prob = 8.15%, token =  the\n",
      "Prompt = When  Goose and  Flower went to the shops, Goose gave the bag to\n",
      "Top 0th logit. prob = 40.15%, token =  \n",
      "Top 1th logit. prob = 16.50%, token =  Flower\n",
      "Top 2th logit. prob = 11.32%, token =  the\n",
      "Prompt = When  Goose and  Flower went to the shops, Flower gave the bag to\n",
      "Top 0th logit. prob = 32.10%, token =  \n",
      "Top 1th logit. prob = 17.60%, token =  Goose\n",
      "Top 2th logit. prob = 8.15%, token =  the\n",
      "Prompt = When  Goose and  Flower went to the shops, Goose gave the bag to\n",
      "Top 0th logit. prob = 40.15%, token =  \n",
      "Top 1th logit. prob = 16.50%, token =  Flower\n",
      "Top 2th logit. prob = 11.32%, token =  the\n",
      "Prompt = When  Statue and  Google went to the shops, Google gave the bag to\n",
      "Top 0th logit. prob = 19.43%, token =  the\n",
      "Top 1th logit. prob = 12.65%, token =  them\n",
      "Top 2th logit. prob = 9.14%, token =  \n",
      "Prompt = When  Statue and  Google went to the shops, Statue gave the bag to\n",
      "Top 0th logit. prob = 15.48%, token =  the\n",
      "Top 1th logit. prob = 13.06%, token =  \n",
      "Top 2th logit. prob = 6.73%, token =  Google\n",
      "Prompt = When  Google and  Lamp went to the shops, Lamp gave the bag to\n",
      "Top 0th logit. prob = 12.16%, token =  the\n",
      "Top 1th logit. prob = 10.01%, token =  \n",
      "Top 2th logit. prob = 6.08%, token =  a\n",
      "Prompt = When  Google and  Lamp went to the shops, Google gave the bag to\n",
      "Top 0th logit. prob = 14.04%, token =  the\n",
      "Top 1th logit. prob = 12.03%, token =  \n",
      "Top 2th logit. prob = 10.14%, token =  them\n",
      "Prompt = When  Chair and  Flower went to the shops, Flower gave the bag to\n",
      "Top 0th logit. prob = 29.67%, token =  \n",
      "Top 1th logit. prob = 12.22%, token =  the\n",
      "Top 2th logit. prob = 3.53%, token =  them\n",
      "Prompt = When  Chair and  Flower went to the shops, Chair gave the bag to\n",
      "Top 0th logit. prob = 22.44%, token =  \n",
      "Top 1th logit. prob = 21.55%, token =  Flower\n",
      "Top 2th logit. prob = 15.05%, token =  the\n",
      "Prompt = When  Bag and  Chair went to the shops, Chair gave the bag to\n",
      "Top 0th logit. prob = 21.65%, token =  Bag\n",
      "Top 1th logit. prob = 18.90%, token =  \n",
      "Top 2th logit. prob = 7.51%, token =  the\n",
      "Prompt = When  Bag and  Chair went to the shops, Bag gave the bag to\n",
      "Top 0th logit. prob = 18.82%, token =  \n",
      "Top 1th logit. prob = 16.44%, token =  the\n",
      "Top 2th logit. prob = 4.62%, token =  a\n",
      "Prompt = When  Flower and  Statue went to the shops, Statue gave the bag to\n",
      "Top 0th logit. prob = 19.66%, token =  \n",
      "Top 1th logit. prob = 11.64%, token =  the\n",
      "Top 2th logit. prob = 9.11%, token =  Flower\n",
      "Prompt = When  Flower and  Statue went to the shops, Flower gave the bag to\n",
      "Top 0th logit. prob = 27.97%, token =  \n",
      "Top 1th logit. prob = 21.50%, token =  the\n",
      "Top 2th logit. prob = 3.40%, token =  her\n",
      "Prompt = When  Statue and  Chair went to the shops, Chair gave the bag to\n",
      "Top 0th logit. prob = 21.04%, token =  \n",
      "Top 1th logit. prob = 13.49%, token =  the\n",
      "Top 2th logit. prob = 3.05%, token =  them\n",
      "Prompt = When  Statue and  Chair went to the shops, Statue gave the bag to\n",
      "Top 0th logit. prob = 21.09%, token =  the\n",
      "Top 1th logit. prob = 18.39%, token =  \n",
      "Top 2th logit. prob = 3.49%, token =  her\n"
     ]
    }
   ],
   "source": [
    "prompts = prompts_pn\n",
    "k = 3\n",
    "\n",
    "for sample_prompt in prompts:\n",
    "    sample_logits = model(sample_prompt)\n",
    "    sample_probs = t.softmax(sample_logits[0, -1], dim = -1)\n",
    "    vals, ids = t.topk(sample_probs,k)\n",
    "\n",
    "    print(f\"Prompt = {sample_prompt}\")\n",
    "    for i in range(k):\n",
    "            print(f\"Top {i}th logit. prob = {vals[i]:.2%}, token = {model.tokenizer.decode(ids[i])}\")\n",
    "\n"
   ]
  },
  {
   "cell_type": "code",
   "execution_count": null,
   "metadata": {},
   "outputs": [],
   "source": []
  }
 ],
 "metadata": {
  "kernelspec": {
   "display_name": "torch-gpu",
   "language": "python",
   "name": "python3"
  },
  "language_info": {
   "codemirror_mode": {
    "name": "ipython",
    "version": 3
   },
   "file_extension": ".py",
   "mimetype": "text/x-python",
   "name": "python",
   "nbconvert_exporter": "python",
   "pygments_lexer": "ipython3",
   "version": "3.10.9"
  },
  "orig_nbformat": 4,
  "vscode": {
   "interpreter": {
    "hash": "6e851e82dedee55c73100bfbe6682b3cabddc188516229e1e8f6342cda6eae37"
   }
  }
 },
 "nbformat": 4,
 "nbformat_minor": 2
}
