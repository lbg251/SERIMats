{
 "cells": [
  {
   "cell_type": "code",
   "execution_count": 5,
   "metadata": {},
   "outputs": [],
   "source": [
    "# Import stuff\n",
    "import torch as t\n",
    "import numpy as np\n",
    "# Plotly needs a different renderer for VSCode/Notebooks vs Colab argh\n",
    "import plotly.io as pio\n",
    "pio.renderers.default = \"notebook_connected\"\n",
    "import plotly.express as px\n",
    "import einops\n",
    "import plotly.graph_objects as go \n",
    "from functools import partial\n",
    "import tqdm.auto as tqdm\n",
    "import circuitsvis as cv\n",
    "from transformer_lens.hook_points import HookPoint\n",
    "from transformer_lens import utils, HookedTransformer, ActivationCache\n",
    "from transformer_lens.components import Embed, Unembed, LayerNorm, MLP\n",
    "from fancy_einsum import einsum\n",
    "from jaxtyping import Float, Int, Bool\n",
    "import re\n",
    "import random\n"
   ]
  },
  {
   "cell_type": "code",
   "execution_count": 2,
   "metadata": {},
   "outputs": [],
   "source": [
    "\n",
    "def imshow(tensor, renderer=None, **kwargs):\n",
    "    px.imshow(utils.to_numpy(tensor), color_continuous_midpoint=0.0, color_continuous_scale=\"RdBu\", **kwargs).show(renderer)\n",
    "\n",
    "def line(tensor, renderer=None, **kwargs):\n",
    "    px.line(y=utils.to_numpy(tensor), **kwargs).show(renderer)\n",
    "\n",
    "def scatter(x, y, xaxis=\"\", yaxis=\"\", caxis=\"\", renderer=None, **kwargs):\n",
    "    x = utils.to_numpy(x)\n",
    "    y = utils.to_numpy(y)\n",
    "    px.scatter(y=y, x=x, labels={\"x\":xaxis, \"y\":yaxis, \"color\":caxis}, **kwargs).show(renderer)"
   ]
  },
  {
   "cell_type": "code",
   "execution_count": 3,
   "metadata": {},
   "outputs": [
    {
     "name": "stderr",
     "output_type": "stream",
     "text": [
      "Using pad_token, but it is not set yet.\n"
     ]
    },
    {
     "name": "stdout",
     "output_type": "stream",
     "text": [
      "Loaded pretrained model gpt2-small into HookedTransformer\n"
     ]
    }
   ],
   "source": [
    "## turn off AD to save memory, since we're focusing on model inference here \n",
    "t.set_grad_enabled(False)\n",
    "\n",
    "device = 'cuda' if t.cuda.is_available() else 'cpu'\n",
    "model = HookedTransformer.from_pretrained('gpt2-small', device=device)"
   ]
  },
  {
   "attachments": {},
   "cell_type": "markdown",
   "metadata": {},
   "source": [
    "Studying the head outputs on different distributions\n",
    "\n",
    "Create the datasets "
   ]
  },
  {
   "cell_type": "code",
   "execution_count": 87,
   "metadata": {},
   "outputs": [
    {
     "data": {
      "text/plain": [
       "[46317, 4564, 3012, 9369, 20127, 43330, 28607, 20025]"
      ]
     },
     "execution_count": 87,
     "metadata": {},
     "output_type": "execute_result"
    }
   ],
   "source": [
    "proper_nouns = [\n",
    "    \" Goose\", \" Church\",\n",
    "    \" Google\", \" Chair\",\n",
    "    \" Bag\", \" Statue\",\n",
    "    \" Lamp\", \" Flower\"\n",
    "]\n",
    "\n",
    "nouns = [\n",
    "    \" goose\", \" church\",\n",
    "    \" google\", \" chair\",\n",
    "    \" bag\", \" statue\",\n",
    "    \" lamp\", \" flower\"\n",
    "]\n",
    "\n",
    "multi_names_religious = [\n",
    "    \" Mary\", \" Joseph\",\n",
    "    \" Abraham\", \" Paul\",\n",
    "    \" Isaac\", \" Noah\",\n",
    "    \" Jacob\", \" Jesus\"\n",
    "]\n",
    "\n",
    "multi_names_places = [\n",
    "    \" Paris\", \" London\",\n",
    "    \" Madison\", \" Phoenix\",\n",
    "    \" Devon\", \" Florence\",\n",
    "    \" Austin\", \" Brooklyn\"\n",
    "]\n",
    "\n",
    "test = proper_nouns\n",
    "[model.to_single_token(test[i]) for i in range(len(test))]\n"
   ]
  },
  {
   "cell_type": "code",
   "execution_count": 271,
   "metadata": {},
   "outputs": [],
   "source": [
    "\n",
    "\n",
    "\n",
    "def get_dataset(N, names):\n",
    "    prompts = []\n",
    "    # List of answers, in the format (correct, incorrect)\n",
    "    answers = []\n",
    "    # List of the token (ie an integer) corresponding to each answer, in the format (correct_token, incorrect_token)\n",
    "    answer_tokens = []\n",
    "    for _ in range(N):\n",
    "        S1, S2 = random.sample(names,2)\n",
    "        answers.append((S1,S2))\n",
    "        answers.append((S2,S1))\n",
    "        prompt1 = f'When{S1} and{S2} went to the shops,{S2} gave the bag to'\n",
    "        prompt2 = f'When{S1} and{S2} went to the shops,{S1} gave the bag to'\n",
    "        prompts.append(prompt1)\n",
    "        prompts.append(prompt2)\n",
    "\n",
    "        answer_tok_1 = model.to_single_token(S1)\n",
    "        answer_tok_2 = model.to_single_token(S2)\n",
    "\n",
    "        answer_tokens.append((answer_tok_1, answer_tok_2))\n",
    "        answer_tokens.append((answer_tok_2, answer_tok_1))\n",
    "    assert len(set([len(model.to_str_tokens(prompt)) for prompt in prompts])) == 1\n",
    "    answer_tokens = t.tensor(answer_tokens).to(device)\n",
    "    return prompts, answers, answer_tokens\n",
    "\n"
   ]
  },
  {
   "cell_type": "code",
   "execution_count": 272,
   "metadata": {},
   "outputs": [],
   "source": [
    "prompts_rel, ans_rel, ans_toks_rel = get_dataset(10,multi_names_religious)\n",
    "prompts_pl, ans_pl, ans_toks_pl = get_dataset(10,multi_names_places)\n",
    "prompts_n, ans_n, ans_toks_n = get_dataset(10,nouns)\n",
    "prompts_pn, ans_pn, ans_toks_pn = get_dataset(10,proper_nouns)\n",
    "\n"
   ]
  },
  {
   "cell_type": "code",
   "execution_count": 273,
   "metadata": {},
   "outputs": [],
   "source": [
    "from rich.table import Table, Column\n",
    "from rich import print as rprint\n"
   ]
  },
  {
   "cell_type": "code",
   "execution_count": 274,
   "metadata": {},
   "outputs": [],
   "source": [
    "control_prompts = ['When John and Mary went to the shops, John gave the bag to',\n",
    " 'When John and Mary went to the shops, Mary gave the bag to',\n",
    " 'When Tom and James went to the park, James gave the ball to',\n",
    " 'When Tom and James went to the park, Tom gave the ball to',\n",
    " 'When Dan and Sid went to the shops, Sid gave an apple to',\n",
    " 'When Dan and Sid went to the shops, Dan gave an apple to',\n",
    " 'After Martin and Amy went to the park, Amy gave a drink to',\n",
    " 'After Martin and Amy went to the park, Martin gave a drink to']\n",
    "\n",
    "control_answers = [(' Mary', ' John'),\n",
    " (' John', ' Mary'),\n",
    " (' Tom', ' James'),\n",
    " (' James', ' Tom'),\n",
    " (' Dan', ' Sid'),\n",
    " (' Sid', ' Dan'),\n",
    " (' Martin', ' Amy'),\n",
    " (' Amy', ' Martin')]\n",
    "\n",
    "control_ans_prompts = t.tensor([[ 5335,  1757],\n",
    "        [ 1757,  5335],\n",
    "        [ 4186,  3700],\n",
    "        [ 3700,  4186],\n",
    "        [ 6035, 15686],\n",
    "        [15686,  6035],\n",
    "        [ 5780, 14235],\n",
    "        [14235,  5780]])\n",
    "\n"
   ]
  },
  {
   "cell_type": "code",
   "execution_count": 275,
   "metadata": {},
   "outputs": [
    {
     "name": "stdout",
     "output_type": "stream",
     "text": [
      "torch.Size([20, 15, 50257])\n",
      "torch.Size([20, 50257])\n"
     ]
    },
    {
     "data": {
      "text/plain": [
       "tensor(0.3317)"
      ]
     },
     "execution_count": 275,
     "metadata": {},
     "output_type": "execute_result"
    }
   ],
   "source": [
    "print(model(prompts_n).shape)\n",
    "\n",
    "def ave_logit_diff(prompts, answer_tokens, per_prompt = False):\n",
    "    final_logits = model(prompts)[:,-1,:]\n",
    "    answer_logits = final_logits.gather(dim = -1, index = answer_tokens)\n",
    "    #print(final_logits.shape)\n",
    "    answer_logit_diff = answer_logits[:,0] - answer_logits[:,1]\n",
    "    if per_prompt:\n",
    "        return answer_logit_diff \n",
    "    else:\n",
    "        return answer_logit_diff.mean()\n",
    "\n",
    "ave_logit_diff(prompts_n, ans_toks_n)"
   ]
  },
  {
   "cell_type": "code",
   "execution_count": 326,
   "metadata": {},
   "outputs": [
    {
     "data": {
      "text/plain": [
       "tensor(1.3778)"
      ]
     },
     "execution_count": 326,
     "metadata": {},
     "output_type": "execute_result"
    }
   ],
   "source": [
    "### Is the logit diff for these two names the right metric? \n",
    "\n",
    "### First, try the logit diff between the IO and the average of the actual topk logits for each example prompt \n",
    "\n",
    "\n",
    "def ave_logit_diff_topk(prompts, answer_tokens, k, per_prompt = False):\n",
    "    final_logits = model(prompts)[:,-1,:]\n",
    "    answer_logits = final_logits.gather(dim = -1, index = answer_tokens)[:,0]\n",
    "\n",
    "    sample_logits = model(prompts)[:,-1]\n",
    "    vals, ids = t.topk(sample_logits,k)\n",
    "    topk_avg = vals.mean(dim=-1)\n",
    "\n",
    "    answer_logit_diff = answer_logits - topk_avg\n",
    "    #print(answer_logits, topk_avg)\n",
    "    if per_prompt:\n",
    "        return answer_logit_diff \n",
    "    else:\n",
    "        return answer_logit_diff.mean()\n",
    "\n",
    "ave_logit_diff_topk(prompts_pn, ans_toks_pn,15)\n",
    "\n",
    "\n",
    "\n"
   ]
  },
  {
   "cell_type": "code",
   "execution_count": 353,
   "metadata": {},
   "outputs": [],
   "source": [
    "def scatter(x, y, xaxis=\"\", yaxis=\"\", caxis=\"\", renderer=None, **kwargs):\n",
    "    x = utils.to_numpy(x)\n",
    "    y = utils.to_numpy(y)\n",
    "    px.scatter(y=y, x=x, labels={\"x\":xaxis, \"y\":yaxis, \"color\":caxis}, **kwargs).show(renderer)\n",
    "\n",
    "noun_test = [[k,ave_logit_diff_topk(prompts_n, ans_toks_n,k)] for k in range(25)]\n",
    "\n",
    "pnoun_test = [[k,ave_logit_diff_topk(prompts_pn, ans_toks_pn,k)] for k in range(25)]\n",
    "\n",
    "rel_test = [[k,ave_logit_diff_topk(prompts_rel, ans_toks_rel,k)] for k in range(25)]\n",
    "\n",
    "pl_test = [[k,ave_logit_diff_topk(prompts_pl, ans_toks_pl,k)] for k in range(25)]\n"
   ]
  },
  {
   "cell_type": "code",
   "execution_count": 349,
   "metadata": {},
   "outputs": [
    {
     "data": {
      "text/plain": [
       "tensor([    nan, -0.9559, -0.6326, -0.3639, -0.1371,  0.0610,  0.2581,  0.4444,\n",
       "         0.6090,  0.7528])"
      ]
     },
     "execution_count": 349,
     "metadata": {},
     "output_type": "execute_result"
    }
   ],
   "source": []
  },
  {
   "cell_type": "markdown",
   "metadata": {},
   "source": []
  },
  {
   "cell_type": "code",
   "execution_count": 354,
   "metadata": {},
   "outputs": [
    {
     "data": {
      "text/html": [
       "<div>                            <div id=\"2fa84a5a-b383-4b4f-9d20-400bd51e5eee\" class=\"plotly-graph-div\" style=\"height:525px; width:100%;\"></div>            <script type=\"text/javascript\">                require([\"plotly\"], function(Plotly) {                    window.PLOTLYENV=window.PLOTLYENV || {};                                    if (document.getElementById(\"2fa84a5a-b383-4b4f-9d20-400bd51e5eee\")) {                    Plotly.newPlot(                        \"2fa84a5a-b383-4b4f-9d20-400bd51e5eee\",                        [{\"hovertemplate\":\"k=%{x}<br>topk metric=%{y}<extra></extra>\",\"legendgroup\":\"\",\"marker\":{\"color\":\"#636efa\",\"symbol\":\"circle\"},\"mode\":\"markers\",\"name\":\"\",\"orientation\":\"v\",\"showlegend\":false,\"x\":[0.0,1.0,2.0,3.0,4.0,5.0,6.0,7.0,8.0,9.0,10.0,11.0,12.0,13.0,14.0,15.0,16.0,17.0,18.0,19.0,20.0,21.0,22.0,23.0,24.0],\"xaxis\":\"x\",\"y\":[null,-2.725067138671875,-2.1693766117095947,-1.8583238124847412,-1.6401904821395874,-1.458147406578064,-1.2890619039535522,-1.1410059928894043,-1.010986089706421,-0.8923827409744263,-0.7823254466056824,-0.6747302412986755,-0.5772969722747803,-0.48811787366867065,-0.40571632981300354,-0.32905715703964233,-0.25708627700805664,-0.19099998474121094,-0.12760615348815918,-0.06739606708288193,-0.010728979483246803,0.04350719600915909,0.09537267684936523,0.14653567969799042,0.196160227060318],\"yaxis\":\"y\",\"type\":\"scatter\"}],                        {\"template\":{\"data\":{\"histogram2dcontour\":[{\"type\":\"histogram2dcontour\",\"colorbar\":{\"outlinewidth\":0,\"ticks\":\"\"},\"colorscale\":[[0.0,\"#0d0887\"],[0.1111111111111111,\"#46039f\"],[0.2222222222222222,\"#7201a8\"],[0.3333333333333333,\"#9c179e\"],[0.4444444444444444,\"#bd3786\"],[0.5555555555555556,\"#d8576b\"],[0.6666666666666666,\"#ed7953\"],[0.7777777777777778,\"#fb9f3a\"],[0.8888888888888888,\"#fdca26\"],[1.0,\"#f0f921\"]]}],\"choropleth\":[{\"type\":\"choropleth\",\"colorbar\":{\"outlinewidth\":0,\"ticks\":\"\"}}],\"histogram2d\":[{\"type\":\"histogram2d\",\"colorbar\":{\"outlinewidth\":0,\"ticks\":\"\"},\"colorscale\":[[0.0,\"#0d0887\"],[0.1111111111111111,\"#46039f\"],[0.2222222222222222,\"#7201a8\"],[0.3333333333333333,\"#9c179e\"],[0.4444444444444444,\"#bd3786\"],[0.5555555555555556,\"#d8576b\"],[0.6666666666666666,\"#ed7953\"],[0.7777777777777778,\"#fb9f3a\"],[0.8888888888888888,\"#fdca26\"],[1.0,\"#f0f921\"]]}],\"heatmap\":[{\"type\":\"heatmap\",\"colorbar\":{\"outlinewidth\":0,\"ticks\":\"\"},\"colorscale\":[[0.0,\"#0d0887\"],[0.1111111111111111,\"#46039f\"],[0.2222222222222222,\"#7201a8\"],[0.3333333333333333,\"#9c179e\"],[0.4444444444444444,\"#bd3786\"],[0.5555555555555556,\"#d8576b\"],[0.6666666666666666,\"#ed7953\"],[0.7777777777777778,\"#fb9f3a\"],[0.8888888888888888,\"#fdca26\"],[1.0,\"#f0f921\"]]}],\"heatmapgl\":[{\"type\":\"heatmapgl\",\"colorbar\":{\"outlinewidth\":0,\"ticks\":\"\"},\"colorscale\":[[0.0,\"#0d0887\"],[0.1111111111111111,\"#46039f\"],[0.2222222222222222,\"#7201a8\"],[0.3333333333333333,\"#9c179e\"],[0.4444444444444444,\"#bd3786\"],[0.5555555555555556,\"#d8576b\"],[0.6666666666666666,\"#ed7953\"],[0.7777777777777778,\"#fb9f3a\"],[0.8888888888888888,\"#fdca26\"],[1.0,\"#f0f921\"]]}],\"contourcarpet\":[{\"type\":\"contourcarpet\",\"colorbar\":{\"outlinewidth\":0,\"ticks\":\"\"}}],\"contour\":[{\"type\":\"contour\",\"colorbar\":{\"outlinewidth\":0,\"ticks\":\"\"},\"colorscale\":[[0.0,\"#0d0887\"],[0.1111111111111111,\"#46039f\"],[0.2222222222222222,\"#7201a8\"],[0.3333333333333333,\"#9c179e\"],[0.4444444444444444,\"#bd3786\"],[0.5555555555555556,\"#d8576b\"],[0.6666666666666666,\"#ed7953\"],[0.7777777777777778,\"#fb9f3a\"],[0.8888888888888888,\"#fdca26\"],[1.0,\"#f0f921\"]]}],\"surface\":[{\"type\":\"surface\",\"colorbar\":{\"outlinewidth\":0,\"ticks\":\"\"},\"colorscale\":[[0.0,\"#0d0887\"],[0.1111111111111111,\"#46039f\"],[0.2222222222222222,\"#7201a8\"],[0.3333333333333333,\"#9c179e\"],[0.4444444444444444,\"#bd3786\"],[0.5555555555555556,\"#d8576b\"],[0.6666666666666666,\"#ed7953\"],[0.7777777777777778,\"#fb9f3a\"],[0.8888888888888888,\"#fdca26\"],[1.0,\"#f0f921\"]]}],\"mesh3d\":[{\"type\":\"mesh3d\",\"colorbar\":{\"outlinewidth\":0,\"ticks\":\"\"}}],\"scatter\":[{\"fillpattern\":{\"fillmode\":\"overlay\",\"size\":10,\"solidity\":0.2},\"type\":\"scatter\"}],\"parcoords\":[{\"type\":\"parcoords\",\"line\":{\"colorbar\":{\"outlinewidth\":0,\"ticks\":\"\"}}}],\"scatterpolargl\":[{\"type\":\"scatterpolargl\",\"marker\":{\"colorbar\":{\"outlinewidth\":0,\"ticks\":\"\"}}}],\"bar\":[{\"error_x\":{\"color\":\"#2a3f5f\"},\"error_y\":{\"color\":\"#2a3f5f\"},\"marker\":{\"line\":{\"color\":\"#E5ECF6\",\"width\":0.5},\"pattern\":{\"fillmode\":\"overlay\",\"size\":10,\"solidity\":0.2}},\"type\":\"bar\"}],\"scattergeo\":[{\"type\":\"scattergeo\",\"marker\":{\"colorbar\":{\"outlinewidth\":0,\"ticks\":\"\"}}}],\"scatterpolar\":[{\"type\":\"scatterpolar\",\"marker\":{\"colorbar\":{\"outlinewidth\":0,\"ticks\":\"\"}}}],\"histogram\":[{\"marker\":{\"pattern\":{\"fillmode\":\"overlay\",\"size\":10,\"solidity\":0.2}},\"type\":\"histogram\"}],\"scattergl\":[{\"type\":\"scattergl\",\"marker\":{\"colorbar\":{\"outlinewidth\":0,\"ticks\":\"\"}}}],\"scatter3d\":[{\"type\":\"scatter3d\",\"line\":{\"colorbar\":{\"outlinewidth\":0,\"ticks\":\"\"}},\"marker\":{\"colorbar\":{\"outlinewidth\":0,\"ticks\":\"\"}}}],\"scattermapbox\":[{\"type\":\"scattermapbox\",\"marker\":{\"colorbar\":{\"outlinewidth\":0,\"ticks\":\"\"}}}],\"scatterternary\":[{\"type\":\"scatterternary\",\"marker\":{\"colorbar\":{\"outlinewidth\":0,\"ticks\":\"\"}}}],\"scattercarpet\":[{\"type\":\"scattercarpet\",\"marker\":{\"colorbar\":{\"outlinewidth\":0,\"ticks\":\"\"}}}],\"carpet\":[{\"aaxis\":{\"endlinecolor\":\"#2a3f5f\",\"gridcolor\":\"white\",\"linecolor\":\"white\",\"minorgridcolor\":\"white\",\"startlinecolor\":\"#2a3f5f\"},\"baxis\":{\"endlinecolor\":\"#2a3f5f\",\"gridcolor\":\"white\",\"linecolor\":\"white\",\"minorgridcolor\":\"white\",\"startlinecolor\":\"#2a3f5f\"},\"type\":\"carpet\"}],\"table\":[{\"cells\":{\"fill\":{\"color\":\"#EBF0F8\"},\"line\":{\"color\":\"white\"}},\"header\":{\"fill\":{\"color\":\"#C8D4E3\"},\"line\":{\"color\":\"white\"}},\"type\":\"table\"}],\"barpolar\":[{\"marker\":{\"line\":{\"color\":\"#E5ECF6\",\"width\":0.5},\"pattern\":{\"fillmode\":\"overlay\",\"size\":10,\"solidity\":0.2}},\"type\":\"barpolar\"}],\"pie\":[{\"automargin\":true,\"type\":\"pie\"}]},\"layout\":{\"autotypenumbers\":\"strict\",\"colorway\":[\"#636efa\",\"#EF553B\",\"#00cc96\",\"#ab63fa\",\"#FFA15A\",\"#19d3f3\",\"#FF6692\",\"#B6E880\",\"#FF97FF\",\"#FECB52\"],\"font\":{\"color\":\"#2a3f5f\"},\"hovermode\":\"closest\",\"hoverlabel\":{\"align\":\"left\"},\"paper_bgcolor\":\"white\",\"plot_bgcolor\":\"#E5ECF6\",\"polar\":{\"bgcolor\":\"#E5ECF6\",\"angularaxis\":{\"gridcolor\":\"white\",\"linecolor\":\"white\",\"ticks\":\"\"},\"radialaxis\":{\"gridcolor\":\"white\",\"linecolor\":\"white\",\"ticks\":\"\"}},\"ternary\":{\"bgcolor\":\"#E5ECF6\",\"aaxis\":{\"gridcolor\":\"white\",\"linecolor\":\"white\",\"ticks\":\"\"},\"baxis\":{\"gridcolor\":\"white\",\"linecolor\":\"white\",\"ticks\":\"\"},\"caxis\":{\"gridcolor\":\"white\",\"linecolor\":\"white\",\"ticks\":\"\"}},\"coloraxis\":{\"colorbar\":{\"outlinewidth\":0,\"ticks\":\"\"}},\"colorscale\":{\"sequential\":[[0.0,\"#0d0887\"],[0.1111111111111111,\"#46039f\"],[0.2222222222222222,\"#7201a8\"],[0.3333333333333333,\"#9c179e\"],[0.4444444444444444,\"#bd3786\"],[0.5555555555555556,\"#d8576b\"],[0.6666666666666666,\"#ed7953\"],[0.7777777777777778,\"#fb9f3a\"],[0.8888888888888888,\"#fdca26\"],[1.0,\"#f0f921\"]],\"sequentialminus\":[[0.0,\"#0d0887\"],[0.1111111111111111,\"#46039f\"],[0.2222222222222222,\"#7201a8\"],[0.3333333333333333,\"#9c179e\"],[0.4444444444444444,\"#bd3786\"],[0.5555555555555556,\"#d8576b\"],[0.6666666666666666,\"#ed7953\"],[0.7777777777777778,\"#fb9f3a\"],[0.8888888888888888,\"#fdca26\"],[1.0,\"#f0f921\"]],\"diverging\":[[0,\"#8e0152\"],[0.1,\"#c51b7d\"],[0.2,\"#de77ae\"],[0.3,\"#f1b6da\"],[0.4,\"#fde0ef\"],[0.5,\"#f7f7f7\"],[0.6,\"#e6f5d0\"],[0.7,\"#b8e186\"],[0.8,\"#7fbc41\"],[0.9,\"#4d9221\"],[1,\"#276419\"]]},\"xaxis\":{\"gridcolor\":\"white\",\"linecolor\":\"white\",\"ticks\":\"\",\"title\":{\"standoff\":15},\"zerolinecolor\":\"white\",\"automargin\":true,\"zerolinewidth\":2},\"yaxis\":{\"gridcolor\":\"white\",\"linecolor\":\"white\",\"ticks\":\"\",\"title\":{\"standoff\":15},\"zerolinecolor\":\"white\",\"automargin\":true,\"zerolinewidth\":2},\"scene\":{\"xaxis\":{\"backgroundcolor\":\"#E5ECF6\",\"gridcolor\":\"white\",\"linecolor\":\"white\",\"showbackground\":true,\"ticks\":\"\",\"zerolinecolor\":\"white\",\"gridwidth\":2},\"yaxis\":{\"backgroundcolor\":\"#E5ECF6\",\"gridcolor\":\"white\",\"linecolor\":\"white\",\"showbackground\":true,\"ticks\":\"\",\"zerolinecolor\":\"white\",\"gridwidth\":2},\"zaxis\":{\"backgroundcolor\":\"#E5ECF6\",\"gridcolor\":\"white\",\"linecolor\":\"white\",\"showbackground\":true,\"ticks\":\"\",\"zerolinecolor\":\"white\",\"gridwidth\":2}},\"shapedefaults\":{\"line\":{\"color\":\"#2a3f5f\"}},\"annotationdefaults\":{\"arrowcolor\":\"#2a3f5f\",\"arrowhead\":0,\"arrowwidth\":1},\"geo\":{\"bgcolor\":\"white\",\"landcolor\":\"#E5ECF6\",\"subunitcolor\":\"white\",\"showland\":true,\"showlakes\":true,\"lakecolor\":\"white\"},\"title\":{\"x\":0.05},\"mapbox\":{\"style\":\"light\"}}},\"xaxis\":{\"anchor\":\"y\",\"domain\":[0.0,1.0],\"title\":{\"text\":\"k\"}},\"yaxis\":{\"anchor\":\"x\",\"domain\":[0.0,1.0],\"title\":{\"text\":\"topk metric\"}},\"legend\":{\"tracegroupgap\":0},\"title\":{\"text\":\"Avg logit diff between IO and avg of topk answer logits: nouns\"}},                        {\"responsive\": true}                    ).then(function(){\n",
       "                            \n",
       "var gd = document.getElementById('2fa84a5a-b383-4b4f-9d20-400bd51e5eee');\n",
       "var x = new MutationObserver(function (mutations, observer) {{\n",
       "        var display = window.getComputedStyle(gd).display;\n",
       "        if (!display || display === 'none') {{\n",
       "            console.log([gd, 'removed!']);\n",
       "            Plotly.purge(gd);\n",
       "            observer.disconnect();\n",
       "        }}\n",
       "}});\n",
       "\n",
       "// Listen for the removal of the full notebook cells\n",
       "var notebookContainer = gd.closest('#notebook-container');\n",
       "if (notebookContainer) {{\n",
       "    x.observe(notebookContainer, {childList: true});\n",
       "}}\n",
       "\n",
       "// Listen for the clearing of the current output cell\n",
       "var outputEl = gd.closest('.output');\n",
       "if (outputEl) {{\n",
       "    x.observe(outputEl, {childList: true});\n",
       "}}\n",
       "\n",
       "                        })                };                });            </script>        </div>"
      ]
     },
     "metadata": {},
     "output_type": "display_data"
    },
    {
     "data": {
      "text/html": [
       "<div>                            <div id=\"2c4864a8-8c88-4ae3-88b4-9029dfe23c41\" class=\"plotly-graph-div\" style=\"height:525px; width:100%;\"></div>            <script type=\"text/javascript\">                require([\"plotly\"], function(Plotly) {                    window.PLOTLYENV=window.PLOTLYENV || {};                                    if (document.getElementById(\"2c4864a8-8c88-4ae3-88b4-9029dfe23c41\")) {                    Plotly.newPlot(                        \"2c4864a8-8c88-4ae3-88b4-9029dfe23c41\",                        [{\"hovertemplate\":\"k=%{x}<br>topk metric=%{y}<extra></extra>\",\"legendgroup\":\"\",\"marker\":{\"color\":\"#636efa\",\"symbol\":\"circle\"},\"mode\":\"markers\",\"name\":\"\",\"orientation\":\"v\",\"showlegend\":false,\"x\":[0.0,1.0,2.0,3.0,4.0,5.0,6.0,7.0,8.0,9.0,10.0,11.0,12.0,13.0,14.0,15.0,16.0,17.0,18.0,19.0,20.0,21.0,22.0,23.0,24.0],\"xaxis\":\"x\",\"y\":[null,-0.955947995185852,-0.6325845122337341,-0.3638679087162018,-0.13706918060779572,0.06095924228429794,0.25807133316993713,0.4444236755371094,0.6090326905250549,0.7527832388877869,0.8810572624206543,0.9964252710342407,1.0995407104492188,1.196493148803711,1.288534164428711,1.37784743309021,1.460907220840454,1.5385900735855103,1.6112983226776123,1.6797069311141968,1.7435251474380493,1.8032200336456299,1.8598848581314087,1.914785385131836,1.967289686203003],\"yaxis\":\"y\",\"type\":\"scatter\"}],                        {\"template\":{\"data\":{\"histogram2dcontour\":[{\"type\":\"histogram2dcontour\",\"colorbar\":{\"outlinewidth\":0,\"ticks\":\"\"},\"colorscale\":[[0.0,\"#0d0887\"],[0.1111111111111111,\"#46039f\"],[0.2222222222222222,\"#7201a8\"],[0.3333333333333333,\"#9c179e\"],[0.4444444444444444,\"#bd3786\"],[0.5555555555555556,\"#d8576b\"],[0.6666666666666666,\"#ed7953\"],[0.7777777777777778,\"#fb9f3a\"],[0.8888888888888888,\"#fdca26\"],[1.0,\"#f0f921\"]]}],\"choropleth\":[{\"type\":\"choropleth\",\"colorbar\":{\"outlinewidth\":0,\"ticks\":\"\"}}],\"histogram2d\":[{\"type\":\"histogram2d\",\"colorbar\":{\"outlinewidth\":0,\"ticks\":\"\"},\"colorscale\":[[0.0,\"#0d0887\"],[0.1111111111111111,\"#46039f\"],[0.2222222222222222,\"#7201a8\"],[0.3333333333333333,\"#9c179e\"],[0.4444444444444444,\"#bd3786\"],[0.5555555555555556,\"#d8576b\"],[0.6666666666666666,\"#ed7953\"],[0.7777777777777778,\"#fb9f3a\"],[0.8888888888888888,\"#fdca26\"],[1.0,\"#f0f921\"]]}],\"heatmap\":[{\"type\":\"heatmap\",\"colorbar\":{\"outlinewidth\":0,\"ticks\":\"\"},\"colorscale\":[[0.0,\"#0d0887\"],[0.1111111111111111,\"#46039f\"],[0.2222222222222222,\"#7201a8\"],[0.3333333333333333,\"#9c179e\"],[0.4444444444444444,\"#bd3786\"],[0.5555555555555556,\"#d8576b\"],[0.6666666666666666,\"#ed7953\"],[0.7777777777777778,\"#fb9f3a\"],[0.8888888888888888,\"#fdca26\"],[1.0,\"#f0f921\"]]}],\"heatmapgl\":[{\"type\":\"heatmapgl\",\"colorbar\":{\"outlinewidth\":0,\"ticks\":\"\"},\"colorscale\":[[0.0,\"#0d0887\"],[0.1111111111111111,\"#46039f\"],[0.2222222222222222,\"#7201a8\"],[0.3333333333333333,\"#9c179e\"],[0.4444444444444444,\"#bd3786\"],[0.5555555555555556,\"#d8576b\"],[0.6666666666666666,\"#ed7953\"],[0.7777777777777778,\"#fb9f3a\"],[0.8888888888888888,\"#fdca26\"],[1.0,\"#f0f921\"]]}],\"contourcarpet\":[{\"type\":\"contourcarpet\",\"colorbar\":{\"outlinewidth\":0,\"ticks\":\"\"}}],\"contour\":[{\"type\":\"contour\",\"colorbar\":{\"outlinewidth\":0,\"ticks\":\"\"},\"colorscale\":[[0.0,\"#0d0887\"],[0.1111111111111111,\"#46039f\"],[0.2222222222222222,\"#7201a8\"],[0.3333333333333333,\"#9c179e\"],[0.4444444444444444,\"#bd3786\"],[0.5555555555555556,\"#d8576b\"],[0.6666666666666666,\"#ed7953\"],[0.7777777777777778,\"#fb9f3a\"],[0.8888888888888888,\"#fdca26\"],[1.0,\"#f0f921\"]]}],\"surface\":[{\"type\":\"surface\",\"colorbar\":{\"outlinewidth\":0,\"ticks\":\"\"},\"colorscale\":[[0.0,\"#0d0887\"],[0.1111111111111111,\"#46039f\"],[0.2222222222222222,\"#7201a8\"],[0.3333333333333333,\"#9c179e\"],[0.4444444444444444,\"#bd3786\"],[0.5555555555555556,\"#d8576b\"],[0.6666666666666666,\"#ed7953\"],[0.7777777777777778,\"#fb9f3a\"],[0.8888888888888888,\"#fdca26\"],[1.0,\"#f0f921\"]]}],\"mesh3d\":[{\"type\":\"mesh3d\",\"colorbar\":{\"outlinewidth\":0,\"ticks\":\"\"}}],\"scatter\":[{\"fillpattern\":{\"fillmode\":\"overlay\",\"size\":10,\"solidity\":0.2},\"type\":\"scatter\"}],\"parcoords\":[{\"type\":\"parcoords\",\"line\":{\"colorbar\":{\"outlinewidth\":0,\"ticks\":\"\"}}}],\"scatterpolargl\":[{\"type\":\"scatterpolargl\",\"marker\":{\"colorbar\":{\"outlinewidth\":0,\"ticks\":\"\"}}}],\"bar\":[{\"error_x\":{\"color\":\"#2a3f5f\"},\"error_y\":{\"color\":\"#2a3f5f\"},\"marker\":{\"line\":{\"color\":\"#E5ECF6\",\"width\":0.5},\"pattern\":{\"fillmode\":\"overlay\",\"size\":10,\"solidity\":0.2}},\"type\":\"bar\"}],\"scattergeo\":[{\"type\":\"scattergeo\",\"marker\":{\"colorbar\":{\"outlinewidth\":0,\"ticks\":\"\"}}}],\"scatterpolar\":[{\"type\":\"scatterpolar\",\"marker\":{\"colorbar\":{\"outlinewidth\":0,\"ticks\":\"\"}}}],\"histogram\":[{\"marker\":{\"pattern\":{\"fillmode\":\"overlay\",\"size\":10,\"solidity\":0.2}},\"type\":\"histogram\"}],\"scattergl\":[{\"type\":\"scattergl\",\"marker\":{\"colorbar\":{\"outlinewidth\":0,\"ticks\":\"\"}}}],\"scatter3d\":[{\"type\":\"scatter3d\",\"line\":{\"colorbar\":{\"outlinewidth\":0,\"ticks\":\"\"}},\"marker\":{\"colorbar\":{\"outlinewidth\":0,\"ticks\":\"\"}}}],\"scattermapbox\":[{\"type\":\"scattermapbox\",\"marker\":{\"colorbar\":{\"outlinewidth\":0,\"ticks\":\"\"}}}],\"scatterternary\":[{\"type\":\"scatterternary\",\"marker\":{\"colorbar\":{\"outlinewidth\":0,\"ticks\":\"\"}}}],\"scattercarpet\":[{\"type\":\"scattercarpet\",\"marker\":{\"colorbar\":{\"outlinewidth\":0,\"ticks\":\"\"}}}],\"carpet\":[{\"aaxis\":{\"endlinecolor\":\"#2a3f5f\",\"gridcolor\":\"white\",\"linecolor\":\"white\",\"minorgridcolor\":\"white\",\"startlinecolor\":\"#2a3f5f\"},\"baxis\":{\"endlinecolor\":\"#2a3f5f\",\"gridcolor\":\"white\",\"linecolor\":\"white\",\"minorgridcolor\":\"white\",\"startlinecolor\":\"#2a3f5f\"},\"type\":\"carpet\"}],\"table\":[{\"cells\":{\"fill\":{\"color\":\"#EBF0F8\"},\"line\":{\"color\":\"white\"}},\"header\":{\"fill\":{\"color\":\"#C8D4E3\"},\"line\":{\"color\":\"white\"}},\"type\":\"table\"}],\"barpolar\":[{\"marker\":{\"line\":{\"color\":\"#E5ECF6\",\"width\":0.5},\"pattern\":{\"fillmode\":\"overlay\",\"size\":10,\"solidity\":0.2}},\"type\":\"barpolar\"}],\"pie\":[{\"automargin\":true,\"type\":\"pie\"}]},\"layout\":{\"autotypenumbers\":\"strict\",\"colorway\":[\"#636efa\",\"#EF553B\",\"#00cc96\",\"#ab63fa\",\"#FFA15A\",\"#19d3f3\",\"#FF6692\",\"#B6E880\",\"#FF97FF\",\"#FECB52\"],\"font\":{\"color\":\"#2a3f5f\"},\"hovermode\":\"closest\",\"hoverlabel\":{\"align\":\"left\"},\"paper_bgcolor\":\"white\",\"plot_bgcolor\":\"#E5ECF6\",\"polar\":{\"bgcolor\":\"#E5ECF6\",\"angularaxis\":{\"gridcolor\":\"white\",\"linecolor\":\"white\",\"ticks\":\"\"},\"radialaxis\":{\"gridcolor\":\"white\",\"linecolor\":\"white\",\"ticks\":\"\"}},\"ternary\":{\"bgcolor\":\"#E5ECF6\",\"aaxis\":{\"gridcolor\":\"white\",\"linecolor\":\"white\",\"ticks\":\"\"},\"baxis\":{\"gridcolor\":\"white\",\"linecolor\":\"white\",\"ticks\":\"\"},\"caxis\":{\"gridcolor\":\"white\",\"linecolor\":\"white\",\"ticks\":\"\"}},\"coloraxis\":{\"colorbar\":{\"outlinewidth\":0,\"ticks\":\"\"}},\"colorscale\":{\"sequential\":[[0.0,\"#0d0887\"],[0.1111111111111111,\"#46039f\"],[0.2222222222222222,\"#7201a8\"],[0.3333333333333333,\"#9c179e\"],[0.4444444444444444,\"#bd3786\"],[0.5555555555555556,\"#d8576b\"],[0.6666666666666666,\"#ed7953\"],[0.7777777777777778,\"#fb9f3a\"],[0.8888888888888888,\"#fdca26\"],[1.0,\"#f0f921\"]],\"sequentialminus\":[[0.0,\"#0d0887\"],[0.1111111111111111,\"#46039f\"],[0.2222222222222222,\"#7201a8\"],[0.3333333333333333,\"#9c179e\"],[0.4444444444444444,\"#bd3786\"],[0.5555555555555556,\"#d8576b\"],[0.6666666666666666,\"#ed7953\"],[0.7777777777777778,\"#fb9f3a\"],[0.8888888888888888,\"#fdca26\"],[1.0,\"#f0f921\"]],\"diverging\":[[0,\"#8e0152\"],[0.1,\"#c51b7d\"],[0.2,\"#de77ae\"],[0.3,\"#f1b6da\"],[0.4,\"#fde0ef\"],[0.5,\"#f7f7f7\"],[0.6,\"#e6f5d0\"],[0.7,\"#b8e186\"],[0.8,\"#7fbc41\"],[0.9,\"#4d9221\"],[1,\"#276419\"]]},\"xaxis\":{\"gridcolor\":\"white\",\"linecolor\":\"white\",\"ticks\":\"\",\"title\":{\"standoff\":15},\"zerolinecolor\":\"white\",\"automargin\":true,\"zerolinewidth\":2},\"yaxis\":{\"gridcolor\":\"white\",\"linecolor\":\"white\",\"ticks\":\"\",\"title\":{\"standoff\":15},\"zerolinecolor\":\"white\",\"automargin\":true,\"zerolinewidth\":2},\"scene\":{\"xaxis\":{\"backgroundcolor\":\"#E5ECF6\",\"gridcolor\":\"white\",\"linecolor\":\"white\",\"showbackground\":true,\"ticks\":\"\",\"zerolinecolor\":\"white\",\"gridwidth\":2},\"yaxis\":{\"backgroundcolor\":\"#E5ECF6\",\"gridcolor\":\"white\",\"linecolor\":\"white\",\"showbackground\":true,\"ticks\":\"\",\"zerolinecolor\":\"white\",\"gridwidth\":2},\"zaxis\":{\"backgroundcolor\":\"#E5ECF6\",\"gridcolor\":\"white\",\"linecolor\":\"white\",\"showbackground\":true,\"ticks\":\"\",\"zerolinecolor\":\"white\",\"gridwidth\":2}},\"shapedefaults\":{\"line\":{\"color\":\"#2a3f5f\"}},\"annotationdefaults\":{\"arrowcolor\":\"#2a3f5f\",\"arrowhead\":0,\"arrowwidth\":1},\"geo\":{\"bgcolor\":\"white\",\"landcolor\":\"#E5ECF6\",\"subunitcolor\":\"white\",\"showland\":true,\"showlakes\":true,\"lakecolor\":\"white\"},\"title\":{\"x\":0.05},\"mapbox\":{\"style\":\"light\"}}},\"xaxis\":{\"anchor\":\"y\",\"domain\":[0.0,1.0],\"title\":{\"text\":\"k\"}},\"yaxis\":{\"anchor\":\"x\",\"domain\":[0.0,1.0],\"title\":{\"text\":\"topk metric\"}},\"legend\":{\"tracegroupgap\":0},\"title\":{\"text\":\"Avg logit diff between IO and avg of topk answer logits: pnouns\"}},                        {\"responsive\": true}                    ).then(function(){\n",
       "                            \n",
       "var gd = document.getElementById('2c4864a8-8c88-4ae3-88b4-9029dfe23c41');\n",
       "var x = new MutationObserver(function (mutations, observer) {{\n",
       "        var display = window.getComputedStyle(gd).display;\n",
       "        if (!display || display === 'none') {{\n",
       "            console.log([gd, 'removed!']);\n",
       "            Plotly.purge(gd);\n",
       "            observer.disconnect();\n",
       "        }}\n",
       "}});\n",
       "\n",
       "// Listen for the removal of the full notebook cells\n",
       "var notebookContainer = gd.closest('#notebook-container');\n",
       "if (notebookContainer) {{\n",
       "    x.observe(notebookContainer, {childList: true});\n",
       "}}\n",
       "\n",
       "// Listen for the clearing of the current output cell\n",
       "var outputEl = gd.closest('.output');\n",
       "if (outputEl) {{\n",
       "    x.observe(outputEl, {childList: true});\n",
       "}}\n",
       "\n",
       "                        })                };                });            </script>        </div>"
      ]
     },
     "metadata": {},
     "output_type": "display_data"
    },
    {
     "data": {
      "text/html": [
       "<div>                            <div id=\"3481712a-d1f6-4ae8-9be9-d185b847a4ed\" class=\"plotly-graph-div\" style=\"height:525px; width:100%;\"></div>            <script type=\"text/javascript\">                require([\"plotly\"], function(Plotly) {                    window.PLOTLYENV=window.PLOTLYENV || {};                                    if (document.getElementById(\"3481712a-d1f6-4ae8-9be9-d185b847a4ed\")) {                    Plotly.newPlot(                        \"3481712a-d1f6-4ae8-9be9-d185b847a4ed\",                        [{\"hovertemplate\":\"k=%{x}<br>topk metric=%{y}<extra></extra>\",\"legendgroup\":\"\",\"marker\":{\"color\":\"#636efa\",\"symbol\":\"circle\"},\"mode\":\"markers\",\"name\":\"\",\"orientation\":\"v\",\"showlegend\":false,\"x\":[0.0,1.0,2.0,3.0,4.0,5.0,6.0,7.0,8.0,9.0,10.0,11.0,12.0,13.0,14.0,15.0,16.0,17.0,18.0,19.0,20.0,21.0,22.0,23.0,24.0],\"xaxis\":\"x\",\"y\":[null,0.0,0.9849645495414734,1.4553920030593872,1.827207326889038,2.154616117477417,2.434779644012451,2.6691882610321045,2.8741023540496826,3.051828384399414,3.2176513671875,3.37060284614563,3.511913299560547,3.6453518867492676,3.7695038318634033,3.8836398124694824,3.99116849899292,4.092827796936035,4.1893205642700195,4.280320167541504,4.368096351623535,4.450214862823486,4.528461456298828,4.602852821350098,4.673936367034912],\"yaxis\":\"y\",\"type\":\"scatter\"}],                        {\"template\":{\"data\":{\"histogram2dcontour\":[{\"type\":\"histogram2dcontour\",\"colorbar\":{\"outlinewidth\":0,\"ticks\":\"\"},\"colorscale\":[[0.0,\"#0d0887\"],[0.1111111111111111,\"#46039f\"],[0.2222222222222222,\"#7201a8\"],[0.3333333333333333,\"#9c179e\"],[0.4444444444444444,\"#bd3786\"],[0.5555555555555556,\"#d8576b\"],[0.6666666666666666,\"#ed7953\"],[0.7777777777777778,\"#fb9f3a\"],[0.8888888888888888,\"#fdca26\"],[1.0,\"#f0f921\"]]}],\"choropleth\":[{\"type\":\"choropleth\",\"colorbar\":{\"outlinewidth\":0,\"ticks\":\"\"}}],\"histogram2d\":[{\"type\":\"histogram2d\",\"colorbar\":{\"outlinewidth\":0,\"ticks\":\"\"},\"colorscale\":[[0.0,\"#0d0887\"],[0.1111111111111111,\"#46039f\"],[0.2222222222222222,\"#7201a8\"],[0.3333333333333333,\"#9c179e\"],[0.4444444444444444,\"#bd3786\"],[0.5555555555555556,\"#d8576b\"],[0.6666666666666666,\"#ed7953\"],[0.7777777777777778,\"#fb9f3a\"],[0.8888888888888888,\"#fdca26\"],[1.0,\"#f0f921\"]]}],\"heatmap\":[{\"type\":\"heatmap\",\"colorbar\":{\"outlinewidth\":0,\"ticks\":\"\"},\"colorscale\":[[0.0,\"#0d0887\"],[0.1111111111111111,\"#46039f\"],[0.2222222222222222,\"#7201a8\"],[0.3333333333333333,\"#9c179e\"],[0.4444444444444444,\"#bd3786\"],[0.5555555555555556,\"#d8576b\"],[0.6666666666666666,\"#ed7953\"],[0.7777777777777778,\"#fb9f3a\"],[0.8888888888888888,\"#fdca26\"],[1.0,\"#f0f921\"]]}],\"heatmapgl\":[{\"type\":\"heatmapgl\",\"colorbar\":{\"outlinewidth\":0,\"ticks\":\"\"},\"colorscale\":[[0.0,\"#0d0887\"],[0.1111111111111111,\"#46039f\"],[0.2222222222222222,\"#7201a8\"],[0.3333333333333333,\"#9c179e\"],[0.4444444444444444,\"#bd3786\"],[0.5555555555555556,\"#d8576b\"],[0.6666666666666666,\"#ed7953\"],[0.7777777777777778,\"#fb9f3a\"],[0.8888888888888888,\"#fdca26\"],[1.0,\"#f0f921\"]]}],\"contourcarpet\":[{\"type\":\"contourcarpet\",\"colorbar\":{\"outlinewidth\":0,\"ticks\":\"\"}}],\"contour\":[{\"type\":\"contour\",\"colorbar\":{\"outlinewidth\":0,\"ticks\":\"\"},\"colorscale\":[[0.0,\"#0d0887\"],[0.1111111111111111,\"#46039f\"],[0.2222222222222222,\"#7201a8\"],[0.3333333333333333,\"#9c179e\"],[0.4444444444444444,\"#bd3786\"],[0.5555555555555556,\"#d8576b\"],[0.6666666666666666,\"#ed7953\"],[0.7777777777777778,\"#fb9f3a\"],[0.8888888888888888,\"#fdca26\"],[1.0,\"#f0f921\"]]}],\"surface\":[{\"type\":\"surface\",\"colorbar\":{\"outlinewidth\":0,\"ticks\":\"\"},\"colorscale\":[[0.0,\"#0d0887\"],[0.1111111111111111,\"#46039f\"],[0.2222222222222222,\"#7201a8\"],[0.3333333333333333,\"#9c179e\"],[0.4444444444444444,\"#bd3786\"],[0.5555555555555556,\"#d8576b\"],[0.6666666666666666,\"#ed7953\"],[0.7777777777777778,\"#fb9f3a\"],[0.8888888888888888,\"#fdca26\"],[1.0,\"#f0f921\"]]}],\"mesh3d\":[{\"type\":\"mesh3d\",\"colorbar\":{\"outlinewidth\":0,\"ticks\":\"\"}}],\"scatter\":[{\"fillpattern\":{\"fillmode\":\"overlay\",\"size\":10,\"solidity\":0.2},\"type\":\"scatter\"}],\"parcoords\":[{\"type\":\"parcoords\",\"line\":{\"colorbar\":{\"outlinewidth\":0,\"ticks\":\"\"}}}],\"scatterpolargl\":[{\"type\":\"scatterpolargl\",\"marker\":{\"colorbar\":{\"outlinewidth\":0,\"ticks\":\"\"}}}],\"bar\":[{\"error_x\":{\"color\":\"#2a3f5f\"},\"error_y\":{\"color\":\"#2a3f5f\"},\"marker\":{\"line\":{\"color\":\"#E5ECF6\",\"width\":0.5},\"pattern\":{\"fillmode\":\"overlay\",\"size\":10,\"solidity\":0.2}},\"type\":\"bar\"}],\"scattergeo\":[{\"type\":\"scattergeo\",\"marker\":{\"colorbar\":{\"outlinewidth\":0,\"ticks\":\"\"}}}],\"scatterpolar\":[{\"type\":\"scatterpolar\",\"marker\":{\"colorbar\":{\"outlinewidth\":0,\"ticks\":\"\"}}}],\"histogram\":[{\"marker\":{\"pattern\":{\"fillmode\":\"overlay\",\"size\":10,\"solidity\":0.2}},\"type\":\"histogram\"}],\"scattergl\":[{\"type\":\"scattergl\",\"marker\":{\"colorbar\":{\"outlinewidth\":0,\"ticks\":\"\"}}}],\"scatter3d\":[{\"type\":\"scatter3d\",\"line\":{\"colorbar\":{\"outlinewidth\":0,\"ticks\":\"\"}},\"marker\":{\"colorbar\":{\"outlinewidth\":0,\"ticks\":\"\"}}}],\"scattermapbox\":[{\"type\":\"scattermapbox\",\"marker\":{\"colorbar\":{\"outlinewidth\":0,\"ticks\":\"\"}}}],\"scatterternary\":[{\"type\":\"scatterternary\",\"marker\":{\"colorbar\":{\"outlinewidth\":0,\"ticks\":\"\"}}}],\"scattercarpet\":[{\"type\":\"scattercarpet\",\"marker\":{\"colorbar\":{\"outlinewidth\":0,\"ticks\":\"\"}}}],\"carpet\":[{\"aaxis\":{\"endlinecolor\":\"#2a3f5f\",\"gridcolor\":\"white\",\"linecolor\":\"white\",\"minorgridcolor\":\"white\",\"startlinecolor\":\"#2a3f5f\"},\"baxis\":{\"endlinecolor\":\"#2a3f5f\",\"gridcolor\":\"white\",\"linecolor\":\"white\",\"minorgridcolor\":\"white\",\"startlinecolor\":\"#2a3f5f\"},\"type\":\"carpet\"}],\"table\":[{\"cells\":{\"fill\":{\"color\":\"#EBF0F8\"},\"line\":{\"color\":\"white\"}},\"header\":{\"fill\":{\"color\":\"#C8D4E3\"},\"line\":{\"color\":\"white\"}},\"type\":\"table\"}],\"barpolar\":[{\"marker\":{\"line\":{\"color\":\"#E5ECF6\",\"width\":0.5},\"pattern\":{\"fillmode\":\"overlay\",\"size\":10,\"solidity\":0.2}},\"type\":\"barpolar\"}],\"pie\":[{\"automargin\":true,\"type\":\"pie\"}]},\"layout\":{\"autotypenumbers\":\"strict\",\"colorway\":[\"#636efa\",\"#EF553B\",\"#00cc96\",\"#ab63fa\",\"#FFA15A\",\"#19d3f3\",\"#FF6692\",\"#B6E880\",\"#FF97FF\",\"#FECB52\"],\"font\":{\"color\":\"#2a3f5f\"},\"hovermode\":\"closest\",\"hoverlabel\":{\"align\":\"left\"},\"paper_bgcolor\":\"white\",\"plot_bgcolor\":\"#E5ECF6\",\"polar\":{\"bgcolor\":\"#E5ECF6\",\"angularaxis\":{\"gridcolor\":\"white\",\"linecolor\":\"white\",\"ticks\":\"\"},\"radialaxis\":{\"gridcolor\":\"white\",\"linecolor\":\"white\",\"ticks\":\"\"}},\"ternary\":{\"bgcolor\":\"#E5ECF6\",\"aaxis\":{\"gridcolor\":\"white\",\"linecolor\":\"white\",\"ticks\":\"\"},\"baxis\":{\"gridcolor\":\"white\",\"linecolor\":\"white\",\"ticks\":\"\"},\"caxis\":{\"gridcolor\":\"white\",\"linecolor\":\"white\",\"ticks\":\"\"}},\"coloraxis\":{\"colorbar\":{\"outlinewidth\":0,\"ticks\":\"\"}},\"colorscale\":{\"sequential\":[[0.0,\"#0d0887\"],[0.1111111111111111,\"#46039f\"],[0.2222222222222222,\"#7201a8\"],[0.3333333333333333,\"#9c179e\"],[0.4444444444444444,\"#bd3786\"],[0.5555555555555556,\"#d8576b\"],[0.6666666666666666,\"#ed7953\"],[0.7777777777777778,\"#fb9f3a\"],[0.8888888888888888,\"#fdca26\"],[1.0,\"#f0f921\"]],\"sequentialminus\":[[0.0,\"#0d0887\"],[0.1111111111111111,\"#46039f\"],[0.2222222222222222,\"#7201a8\"],[0.3333333333333333,\"#9c179e\"],[0.4444444444444444,\"#bd3786\"],[0.5555555555555556,\"#d8576b\"],[0.6666666666666666,\"#ed7953\"],[0.7777777777777778,\"#fb9f3a\"],[0.8888888888888888,\"#fdca26\"],[1.0,\"#f0f921\"]],\"diverging\":[[0,\"#8e0152\"],[0.1,\"#c51b7d\"],[0.2,\"#de77ae\"],[0.3,\"#f1b6da\"],[0.4,\"#fde0ef\"],[0.5,\"#f7f7f7\"],[0.6,\"#e6f5d0\"],[0.7,\"#b8e186\"],[0.8,\"#7fbc41\"],[0.9,\"#4d9221\"],[1,\"#276419\"]]},\"xaxis\":{\"gridcolor\":\"white\",\"linecolor\":\"white\",\"ticks\":\"\",\"title\":{\"standoff\":15},\"zerolinecolor\":\"white\",\"automargin\":true,\"zerolinewidth\":2},\"yaxis\":{\"gridcolor\":\"white\",\"linecolor\":\"white\",\"ticks\":\"\",\"title\":{\"standoff\":15},\"zerolinecolor\":\"white\",\"automargin\":true,\"zerolinewidth\":2},\"scene\":{\"xaxis\":{\"backgroundcolor\":\"#E5ECF6\",\"gridcolor\":\"white\",\"linecolor\":\"white\",\"showbackground\":true,\"ticks\":\"\",\"zerolinecolor\":\"white\",\"gridwidth\":2},\"yaxis\":{\"backgroundcolor\":\"#E5ECF6\",\"gridcolor\":\"white\",\"linecolor\":\"white\",\"showbackground\":true,\"ticks\":\"\",\"zerolinecolor\":\"white\",\"gridwidth\":2},\"zaxis\":{\"backgroundcolor\":\"#E5ECF6\",\"gridcolor\":\"white\",\"linecolor\":\"white\",\"showbackground\":true,\"ticks\":\"\",\"zerolinecolor\":\"white\",\"gridwidth\":2}},\"shapedefaults\":{\"line\":{\"color\":\"#2a3f5f\"}},\"annotationdefaults\":{\"arrowcolor\":\"#2a3f5f\",\"arrowhead\":0,\"arrowwidth\":1},\"geo\":{\"bgcolor\":\"white\",\"landcolor\":\"#E5ECF6\",\"subunitcolor\":\"white\",\"showland\":true,\"showlakes\":true,\"lakecolor\":\"white\"},\"title\":{\"x\":0.05},\"mapbox\":{\"style\":\"light\"}}},\"xaxis\":{\"anchor\":\"y\",\"domain\":[0.0,1.0],\"title\":{\"text\":\"k\"}},\"yaxis\":{\"anchor\":\"x\",\"domain\":[0.0,1.0],\"title\":{\"text\":\"topk metric\"}},\"legend\":{\"tracegroupgap\":0},\"title\":{\"text\":\"Avg logit diff between IO and avg of topk answer logits: rel\"}},                        {\"responsive\": true}                    ).then(function(){\n",
       "                            \n",
       "var gd = document.getElementById('3481712a-d1f6-4ae8-9be9-d185b847a4ed');\n",
       "var x = new MutationObserver(function (mutations, observer) {{\n",
       "        var display = window.getComputedStyle(gd).display;\n",
       "        if (!display || display === 'none') {{\n",
       "            console.log([gd, 'removed!']);\n",
       "            Plotly.purge(gd);\n",
       "            observer.disconnect();\n",
       "        }}\n",
       "}});\n",
       "\n",
       "// Listen for the removal of the full notebook cells\n",
       "var notebookContainer = gd.closest('#notebook-container');\n",
       "if (notebookContainer) {{\n",
       "    x.observe(notebookContainer, {childList: true});\n",
       "}}\n",
       "\n",
       "// Listen for the clearing of the current output cell\n",
       "var outputEl = gd.closest('.output');\n",
       "if (outputEl) {{\n",
       "    x.observe(outputEl, {childList: true});\n",
       "}}\n",
       "\n",
       "                        })                };                });            </script>        </div>"
      ]
     },
     "metadata": {},
     "output_type": "display_data"
    },
    {
     "data": {
      "text/html": [
       "<div>                            <div id=\"a422ae64-6ea7-4a28-948f-81070664781f\" class=\"plotly-graph-div\" style=\"height:525px; width:100%;\"></div>            <script type=\"text/javascript\">                require([\"plotly\"], function(Plotly) {                    window.PLOTLYENV=window.PLOTLYENV || {};                                    if (document.getElementById(\"a422ae64-6ea7-4a28-948f-81070664781f\")) {                    Plotly.newPlot(                        \"a422ae64-6ea7-4a28-948f-81070664781f\",                        [{\"hovertemplate\":\"k=%{x}<br>topk metric=%{y}<extra></extra>\",\"legendgroup\":\"\",\"marker\":{\"color\":\"#636efa\",\"symbol\":\"circle\"},\"mode\":\"markers\",\"name\":\"\",\"orientation\":\"v\",\"showlegend\":false,\"x\":[0.0,1.0,2.0,3.0,4.0,5.0,6.0,7.0,8.0,9.0,10.0,11.0,12.0,13.0,14.0,15.0,16.0,17.0,18.0,19.0,20.0,21.0,22.0,23.0,24.0],\"xaxis\":\"x\",\"y\":[null,-0.5251309871673584,0.08859410136938095,0.4548870623111725,0.7309993505477905,0.9642854928970337,1.1793229579925537,1.3642767667770386,1.5483996868133545,1.7204551696777344,1.8788667917251587,2.0323574542999268,2.1724746227264404,2.305180072784424,2.427213191986084,2.540156841278076,2.646061420440674,2.7432236671447754,2.8325748443603516,2.915895938873291,2.9942386150360107,3.0671873092651367,3.1358439922332764,3.2000033855438232,3.26051664352417],\"yaxis\":\"y\",\"type\":\"scatter\"}],                        {\"template\":{\"data\":{\"histogram2dcontour\":[{\"type\":\"histogram2dcontour\",\"colorbar\":{\"outlinewidth\":0,\"ticks\":\"\"},\"colorscale\":[[0.0,\"#0d0887\"],[0.1111111111111111,\"#46039f\"],[0.2222222222222222,\"#7201a8\"],[0.3333333333333333,\"#9c179e\"],[0.4444444444444444,\"#bd3786\"],[0.5555555555555556,\"#d8576b\"],[0.6666666666666666,\"#ed7953\"],[0.7777777777777778,\"#fb9f3a\"],[0.8888888888888888,\"#fdca26\"],[1.0,\"#f0f921\"]]}],\"choropleth\":[{\"type\":\"choropleth\",\"colorbar\":{\"outlinewidth\":0,\"ticks\":\"\"}}],\"histogram2d\":[{\"type\":\"histogram2d\",\"colorbar\":{\"outlinewidth\":0,\"ticks\":\"\"},\"colorscale\":[[0.0,\"#0d0887\"],[0.1111111111111111,\"#46039f\"],[0.2222222222222222,\"#7201a8\"],[0.3333333333333333,\"#9c179e\"],[0.4444444444444444,\"#bd3786\"],[0.5555555555555556,\"#d8576b\"],[0.6666666666666666,\"#ed7953\"],[0.7777777777777778,\"#fb9f3a\"],[0.8888888888888888,\"#fdca26\"],[1.0,\"#f0f921\"]]}],\"heatmap\":[{\"type\":\"heatmap\",\"colorbar\":{\"outlinewidth\":0,\"ticks\":\"\"},\"colorscale\":[[0.0,\"#0d0887\"],[0.1111111111111111,\"#46039f\"],[0.2222222222222222,\"#7201a8\"],[0.3333333333333333,\"#9c179e\"],[0.4444444444444444,\"#bd3786\"],[0.5555555555555556,\"#d8576b\"],[0.6666666666666666,\"#ed7953\"],[0.7777777777777778,\"#fb9f3a\"],[0.8888888888888888,\"#fdca26\"],[1.0,\"#f0f921\"]]}],\"heatmapgl\":[{\"type\":\"heatmapgl\",\"colorbar\":{\"outlinewidth\":0,\"ticks\":\"\"},\"colorscale\":[[0.0,\"#0d0887\"],[0.1111111111111111,\"#46039f\"],[0.2222222222222222,\"#7201a8\"],[0.3333333333333333,\"#9c179e\"],[0.4444444444444444,\"#bd3786\"],[0.5555555555555556,\"#d8576b\"],[0.6666666666666666,\"#ed7953\"],[0.7777777777777778,\"#fb9f3a\"],[0.8888888888888888,\"#fdca26\"],[1.0,\"#f0f921\"]]}],\"contourcarpet\":[{\"type\":\"contourcarpet\",\"colorbar\":{\"outlinewidth\":0,\"ticks\":\"\"}}],\"contour\":[{\"type\":\"contour\",\"colorbar\":{\"outlinewidth\":0,\"ticks\":\"\"},\"colorscale\":[[0.0,\"#0d0887\"],[0.1111111111111111,\"#46039f\"],[0.2222222222222222,\"#7201a8\"],[0.3333333333333333,\"#9c179e\"],[0.4444444444444444,\"#bd3786\"],[0.5555555555555556,\"#d8576b\"],[0.6666666666666666,\"#ed7953\"],[0.7777777777777778,\"#fb9f3a\"],[0.8888888888888888,\"#fdca26\"],[1.0,\"#f0f921\"]]}],\"surface\":[{\"type\":\"surface\",\"colorbar\":{\"outlinewidth\":0,\"ticks\":\"\"},\"colorscale\":[[0.0,\"#0d0887\"],[0.1111111111111111,\"#46039f\"],[0.2222222222222222,\"#7201a8\"],[0.3333333333333333,\"#9c179e\"],[0.4444444444444444,\"#bd3786\"],[0.5555555555555556,\"#d8576b\"],[0.6666666666666666,\"#ed7953\"],[0.7777777777777778,\"#fb9f3a\"],[0.8888888888888888,\"#fdca26\"],[1.0,\"#f0f921\"]]}],\"mesh3d\":[{\"type\":\"mesh3d\",\"colorbar\":{\"outlinewidth\":0,\"ticks\":\"\"}}],\"scatter\":[{\"fillpattern\":{\"fillmode\":\"overlay\",\"size\":10,\"solidity\":0.2},\"type\":\"scatter\"}],\"parcoords\":[{\"type\":\"parcoords\",\"line\":{\"colorbar\":{\"outlinewidth\":0,\"ticks\":\"\"}}}],\"scatterpolargl\":[{\"type\":\"scatterpolargl\",\"marker\":{\"colorbar\":{\"outlinewidth\":0,\"ticks\":\"\"}}}],\"bar\":[{\"error_x\":{\"color\":\"#2a3f5f\"},\"error_y\":{\"color\":\"#2a3f5f\"},\"marker\":{\"line\":{\"color\":\"#E5ECF6\",\"width\":0.5},\"pattern\":{\"fillmode\":\"overlay\",\"size\":10,\"solidity\":0.2}},\"type\":\"bar\"}],\"scattergeo\":[{\"type\":\"scattergeo\",\"marker\":{\"colorbar\":{\"outlinewidth\":0,\"ticks\":\"\"}}}],\"scatterpolar\":[{\"type\":\"scatterpolar\",\"marker\":{\"colorbar\":{\"outlinewidth\":0,\"ticks\":\"\"}}}],\"histogram\":[{\"marker\":{\"pattern\":{\"fillmode\":\"overlay\",\"size\":10,\"solidity\":0.2}},\"type\":\"histogram\"}],\"scattergl\":[{\"type\":\"scattergl\",\"marker\":{\"colorbar\":{\"outlinewidth\":0,\"ticks\":\"\"}}}],\"scatter3d\":[{\"type\":\"scatter3d\",\"line\":{\"colorbar\":{\"outlinewidth\":0,\"ticks\":\"\"}},\"marker\":{\"colorbar\":{\"outlinewidth\":0,\"ticks\":\"\"}}}],\"scattermapbox\":[{\"type\":\"scattermapbox\",\"marker\":{\"colorbar\":{\"outlinewidth\":0,\"ticks\":\"\"}}}],\"scatterternary\":[{\"type\":\"scatterternary\",\"marker\":{\"colorbar\":{\"outlinewidth\":0,\"ticks\":\"\"}}}],\"scattercarpet\":[{\"type\":\"scattercarpet\",\"marker\":{\"colorbar\":{\"outlinewidth\":0,\"ticks\":\"\"}}}],\"carpet\":[{\"aaxis\":{\"endlinecolor\":\"#2a3f5f\",\"gridcolor\":\"white\",\"linecolor\":\"white\",\"minorgridcolor\":\"white\",\"startlinecolor\":\"#2a3f5f\"},\"baxis\":{\"endlinecolor\":\"#2a3f5f\",\"gridcolor\":\"white\",\"linecolor\":\"white\",\"minorgridcolor\":\"white\",\"startlinecolor\":\"#2a3f5f\"},\"type\":\"carpet\"}],\"table\":[{\"cells\":{\"fill\":{\"color\":\"#EBF0F8\"},\"line\":{\"color\":\"white\"}},\"header\":{\"fill\":{\"color\":\"#C8D4E3\"},\"line\":{\"color\":\"white\"}},\"type\":\"table\"}],\"barpolar\":[{\"marker\":{\"line\":{\"color\":\"#E5ECF6\",\"width\":0.5},\"pattern\":{\"fillmode\":\"overlay\",\"size\":10,\"solidity\":0.2}},\"type\":\"barpolar\"}],\"pie\":[{\"automargin\":true,\"type\":\"pie\"}]},\"layout\":{\"autotypenumbers\":\"strict\",\"colorway\":[\"#636efa\",\"#EF553B\",\"#00cc96\",\"#ab63fa\",\"#FFA15A\",\"#19d3f3\",\"#FF6692\",\"#B6E880\",\"#FF97FF\",\"#FECB52\"],\"font\":{\"color\":\"#2a3f5f\"},\"hovermode\":\"closest\",\"hoverlabel\":{\"align\":\"left\"},\"paper_bgcolor\":\"white\",\"plot_bgcolor\":\"#E5ECF6\",\"polar\":{\"bgcolor\":\"#E5ECF6\",\"angularaxis\":{\"gridcolor\":\"white\",\"linecolor\":\"white\",\"ticks\":\"\"},\"radialaxis\":{\"gridcolor\":\"white\",\"linecolor\":\"white\",\"ticks\":\"\"}},\"ternary\":{\"bgcolor\":\"#E5ECF6\",\"aaxis\":{\"gridcolor\":\"white\",\"linecolor\":\"white\",\"ticks\":\"\"},\"baxis\":{\"gridcolor\":\"white\",\"linecolor\":\"white\",\"ticks\":\"\"},\"caxis\":{\"gridcolor\":\"white\",\"linecolor\":\"white\",\"ticks\":\"\"}},\"coloraxis\":{\"colorbar\":{\"outlinewidth\":0,\"ticks\":\"\"}},\"colorscale\":{\"sequential\":[[0.0,\"#0d0887\"],[0.1111111111111111,\"#46039f\"],[0.2222222222222222,\"#7201a8\"],[0.3333333333333333,\"#9c179e\"],[0.4444444444444444,\"#bd3786\"],[0.5555555555555556,\"#d8576b\"],[0.6666666666666666,\"#ed7953\"],[0.7777777777777778,\"#fb9f3a\"],[0.8888888888888888,\"#fdca26\"],[1.0,\"#f0f921\"]],\"sequentialminus\":[[0.0,\"#0d0887\"],[0.1111111111111111,\"#46039f\"],[0.2222222222222222,\"#7201a8\"],[0.3333333333333333,\"#9c179e\"],[0.4444444444444444,\"#bd3786\"],[0.5555555555555556,\"#d8576b\"],[0.6666666666666666,\"#ed7953\"],[0.7777777777777778,\"#fb9f3a\"],[0.8888888888888888,\"#fdca26\"],[1.0,\"#f0f921\"]],\"diverging\":[[0,\"#8e0152\"],[0.1,\"#c51b7d\"],[0.2,\"#de77ae\"],[0.3,\"#f1b6da\"],[0.4,\"#fde0ef\"],[0.5,\"#f7f7f7\"],[0.6,\"#e6f5d0\"],[0.7,\"#b8e186\"],[0.8,\"#7fbc41\"],[0.9,\"#4d9221\"],[1,\"#276419\"]]},\"xaxis\":{\"gridcolor\":\"white\",\"linecolor\":\"white\",\"ticks\":\"\",\"title\":{\"standoff\":15},\"zerolinecolor\":\"white\",\"automargin\":true,\"zerolinewidth\":2},\"yaxis\":{\"gridcolor\":\"white\",\"linecolor\":\"white\",\"ticks\":\"\",\"title\":{\"standoff\":15},\"zerolinecolor\":\"white\",\"automargin\":true,\"zerolinewidth\":2},\"scene\":{\"xaxis\":{\"backgroundcolor\":\"#E5ECF6\",\"gridcolor\":\"white\",\"linecolor\":\"white\",\"showbackground\":true,\"ticks\":\"\",\"zerolinecolor\":\"white\",\"gridwidth\":2},\"yaxis\":{\"backgroundcolor\":\"#E5ECF6\",\"gridcolor\":\"white\",\"linecolor\":\"white\",\"showbackground\":true,\"ticks\":\"\",\"zerolinecolor\":\"white\",\"gridwidth\":2},\"zaxis\":{\"backgroundcolor\":\"#E5ECF6\",\"gridcolor\":\"white\",\"linecolor\":\"white\",\"showbackground\":true,\"ticks\":\"\",\"zerolinecolor\":\"white\",\"gridwidth\":2}},\"shapedefaults\":{\"line\":{\"color\":\"#2a3f5f\"}},\"annotationdefaults\":{\"arrowcolor\":\"#2a3f5f\",\"arrowhead\":0,\"arrowwidth\":1},\"geo\":{\"bgcolor\":\"white\",\"landcolor\":\"#E5ECF6\",\"subunitcolor\":\"white\",\"showland\":true,\"showlakes\":true,\"lakecolor\":\"white\"},\"title\":{\"x\":0.05},\"mapbox\":{\"style\":\"light\"}}},\"xaxis\":{\"anchor\":\"y\",\"domain\":[0.0,1.0],\"title\":{\"text\":\"k\"}},\"yaxis\":{\"anchor\":\"x\",\"domain\":[0.0,1.0],\"title\":{\"text\":\"topk metric\"}},\"legend\":{\"tracegroupgap\":0},\"title\":{\"text\":\"Avg logit diff between IO and avg of topk answer logits: places\"}},                        {\"responsive\": true}                    ).then(function(){\n",
       "                            \n",
       "var gd = document.getElementById('a422ae64-6ea7-4a28-948f-81070664781f');\n",
       "var x = new MutationObserver(function (mutations, observer) {{\n",
       "        var display = window.getComputedStyle(gd).display;\n",
       "        if (!display || display === 'none') {{\n",
       "            console.log([gd, 'removed!']);\n",
       "            Plotly.purge(gd);\n",
       "            observer.disconnect();\n",
       "        }}\n",
       "}});\n",
       "\n",
       "// Listen for the removal of the full notebook cells\n",
       "var notebookContainer = gd.closest('#notebook-container');\n",
       "if (notebookContainer) {{\n",
       "    x.observe(notebookContainer, {childList: true});\n",
       "}}\n",
       "\n",
       "// Listen for the clearing of the current output cell\n",
       "var outputEl = gd.closest('.output');\n",
       "if (outputEl) {{\n",
       "    x.observe(outputEl, {childList: true});\n",
       "}}\n",
       "\n",
       "                        })                };                });            </script>        </div>"
      ]
     },
     "metadata": {},
     "output_type": "display_data"
    }
   ],
   "source": [
    "scatter(x= t.tensor(noun_test)[:,0], y = t.tensor(noun_test)[:,1],xaxis = 'k', yaxis = 'topk metric', title = 'Avg logit diff between IO and avg of topk answer logits: nouns')\n",
    "\n",
    "scatter(x= t.tensor(pnoun_test)[:,0], y = t.tensor(pnoun_test)[:,1],xaxis = 'k', yaxis = 'topk metric', title = 'Avg logit diff between IO and avg of topk answer logits: pnouns')\n",
    "\n",
    "scatter(x= t.tensor(rel_test)[:,0], y = t.tensor(rel_test)[:,1],xaxis = 'k', yaxis = 'topk metric', title = 'Avg logit diff between IO and avg of topk answer logits: rel')\n",
    "\n",
    "scatter(x= t.tensor(pl_test)[:,0], y = t.tensor(pl_test)[:,1],xaxis = 'k', yaxis = 'topk metric', title = 'Avg logit diff between IO and avg of topk answer logits: places')\n"
   ]
  },
  {
   "cell_type": "code",
   "execution_count": null,
   "metadata": {},
   "outputs": [],
   "source": [
    "### could also take the difference between the IO logits and the average of the logits for the other names in the set, to check for correlations among the words \n",
    "\n",
    "\n",
    "def ave_logit_diff_topk(prompts, answer_tokens, k, per_prompt = False):\n",
    "    final_logits = model(prompts)[:,-1,:]\n",
    "    answer_logits = final_logits.gather(dim = -1, index = answer_tokens)[:,0]\n",
    "\n",
    "    sample_logits = model(prompts)[:,-1]\n",
    "    vals, ids = t.topk(sample_logits,k)\n",
    "    topk_avg = vals.mean(dim=-1)\n",
    "\n",
    "    answer_logit_diff = answer_logits - topk_avg\n",
    "    #print(answer_logits, topk_avg)\n",
    "    if per_prompt:\n",
    "        return answer_logit_diff \n",
    "    else:\n",
    "        return answer_logit_diff.mean()\n",
    "\n",
    "ave_logit_diff_topk(prompts_pn, ans_toks_pn,15)"
   ]
  },
  {
   "cell_type": "code",
   "execution_count": 276,
   "metadata": {},
   "outputs": [],
   "source": [
    "def make_table(prompts, answers, answer_tokens, title):\n",
    "    cols = [\n",
    "        \"Prompt\", \n",
    "        Column(\"Correct\", style=\"rgb(0,200,0) bold\"), \n",
    "        Column(\"Incorrect\", style=\"rgb(255,0,0) bold\"), \n",
    "        Column(\"Logit Difference\", style=\"bold\")\n",
    "    ]\n",
    "    logit_diffs = ave_logit_diff(prompts,answer_tokens, per_prompt = True)\n",
    "    \n",
    "    ave_logits = ave_logit_diff(prompts,answer_tokens, per_prompt = False)\n",
    "    logit_diff_table = Table(*cols, title=title + f\": Ave logit diff = {ave_logits.item():.3f}\")\n",
    "    logit_diffs = ave_logit_diff(prompts,answer_tokens, per_prompt = True)\n",
    "    \n",
    "    ave_logits = ave_logit_diff(prompts,answer_tokens, per_prompt = False)\n",
    "                                 \n",
    "    ave_logit_diff(prompts, answer_tokens)\n",
    "    for prompt, ans, logit_diff in zip(prompts, answers,logit_diffs):\n",
    "        logit_diff_table.add_row(prompt, ans[0], ans[1], f\"{logit_diff.item():.3f}\")\n",
    "    rprint(logit_diff_table)"
   ]
  },
  {
   "cell_type": "code",
   "execution_count": 277,
   "metadata": {},
   "outputs": [
    {
     "name": "stdout",
     "output_type": "stream",
     "text": [
      "torch.Size([8, 50257])\n",
      "torch.Size([8, 50257])\n",
      "torch.Size([8, 50257])\n",
      "torch.Size([8, 50257])\n",
      "torch.Size([8, 50257])\n"
     ]
    },
    {
     "data": {
      "text/html": [
       "<pre style=\"white-space:pre;overflow-x:auto;line-height:normal;font-family:Menlo,'DejaVu Sans Mono',consolas,'Courier New',monospace\"><span style=\"font-style: italic\">                                  Control Names: Ave logit diff = 3.552                                   </span>\n",
       "┏━━━━━━━━━━━━━━━━━━━━━━━━━━━━━━━━━━━━━━━━━━━━━━━━━━━━━━━━━━━━━━━┳━━━━━━━━━┳━━━━━━━━━━━┳━━━━━━━━━━━━━━━━━━┓\n",
       "┃<span style=\"font-weight: bold\"> Prompt                                                        </span>┃<span style=\"font-weight: bold\"> Correct </span>┃<span style=\"font-weight: bold\"> Incorrect </span>┃<span style=\"font-weight: bold\"> Logit Difference </span>┃\n",
       "┡━━━━━━━━━━━━━━━━━━━━━━━━━━━━━━━━━━━━━━━━━━━━━━━━━━━━━━━━━━━━━━━╇━━━━━━━━━╇━━━━━━━━━━━╇━━━━━━━━━━━━━━━━━━┩\n",
       "│ When John and Mary went to the shops, John gave the bag to    │<span style=\"color: #00c800; text-decoration-color: #00c800; font-weight: bold\">  Mary   </span>│<span style=\"color: #ff0000; text-decoration-color: #ff0000; font-weight: bold\">  John     </span>│<span style=\"font-weight: bold\"> 3.337            </span>│\n",
       "│ When John and Mary went to the shops, Mary gave the bag to    │<span style=\"color: #00c800; text-decoration-color: #00c800; font-weight: bold\">  John   </span>│<span style=\"color: #ff0000; text-decoration-color: #ff0000; font-weight: bold\">  Mary     </span>│<span style=\"font-weight: bold\"> 3.202            </span>│\n",
       "│ When Tom and James went to the park, James gave the ball to   │<span style=\"color: #00c800; text-decoration-color: #00c800; font-weight: bold\">  Tom    </span>│<span style=\"color: #ff0000; text-decoration-color: #ff0000; font-weight: bold\">  James    </span>│<span style=\"font-weight: bold\"> 2.709            </span>│\n",
       "│ When Tom and James went to the park, Tom gave the ball to     │<span style=\"color: #00c800; text-decoration-color: #00c800; font-weight: bold\">  James  </span>│<span style=\"color: #ff0000; text-decoration-color: #ff0000; font-weight: bold\">  Tom      </span>│<span style=\"font-weight: bold\"> 3.797            </span>│\n",
       "│ When Dan and Sid went to the shops, Sid gave an apple to      │<span style=\"color: #00c800; text-decoration-color: #00c800; font-weight: bold\">  Dan    </span>│<span style=\"color: #ff0000; text-decoration-color: #ff0000; font-weight: bold\">  Sid      </span>│<span style=\"font-weight: bold\"> 1.720            </span>│\n",
       "│ When Dan and Sid went to the shops, Dan gave an apple to      │<span style=\"color: #00c800; text-decoration-color: #00c800; font-weight: bold\">  Sid    </span>│<span style=\"color: #ff0000; text-decoration-color: #ff0000; font-weight: bold\">  Dan      </span>│<span style=\"font-weight: bold\"> 5.281            </span>│\n",
       "│ After Martin and Amy went to the park, Amy gave a drink to    │<span style=\"color: #00c800; text-decoration-color: #00c800; font-weight: bold\">  Martin </span>│<span style=\"color: #ff0000; text-decoration-color: #ff0000; font-weight: bold\">  Amy      </span>│<span style=\"font-weight: bold\"> 2.601            </span>│\n",
       "│ After Martin and Amy went to the park, Martin gave a drink to │<span style=\"color: #00c800; text-decoration-color: #00c800; font-weight: bold\">  Amy    </span>│<span style=\"color: #ff0000; text-decoration-color: #ff0000; font-weight: bold\">  Martin   </span>│<span style=\"font-weight: bold\"> 5.767            </span>│\n",
       "└───────────────────────────────────────────────────────────────┴─────────┴───────────┴──────────────────┘\n",
       "</pre>\n"
      ],
      "text/plain": [
       "\u001b[3m                                  Control Names: Ave logit diff = 3.552                                   \u001b[0m\n",
       "┏━━━━━━━━━━━━━━━━━━━━━━━━━━━━━━━━━━━━━━━━━━━━━━━━━━━━━━━━━━━━━━━┳━━━━━━━━━┳━━━━━━━━━━━┳━━━━━━━━━━━━━━━━━━┓\n",
       "┃\u001b[1m \u001b[0m\u001b[1mPrompt                                                       \u001b[0m\u001b[1m \u001b[0m┃\u001b[1m \u001b[0m\u001b[1mCorrect\u001b[0m\u001b[1m \u001b[0m┃\u001b[1m \u001b[0m\u001b[1mIncorrect\u001b[0m\u001b[1m \u001b[0m┃\u001b[1m \u001b[0m\u001b[1mLogit Difference\u001b[0m\u001b[1m \u001b[0m┃\n",
       "┡━━━━━━━━━━━━━━━━━━━━━━━━━━━━━━━━━━━━━━━━━━━━━━━━━━━━━━━━━━━━━━━╇━━━━━━━━━╇━━━━━━━━━━━╇━━━━━━━━━━━━━━━━━━┩\n",
       "│ When John and Mary went to the shops, John gave the bag to    │\u001b[1;38;2;0;200;0m \u001b[0m\u001b[1;38;2;0;200;0m Mary  \u001b[0m\u001b[1;38;2;0;200;0m \u001b[0m│\u001b[1;38;2;255;0;0m \u001b[0m\u001b[1;38;2;255;0;0m John    \u001b[0m\u001b[1;38;2;255;0;0m \u001b[0m│\u001b[1m \u001b[0m\u001b[1m3.337           \u001b[0m\u001b[1m \u001b[0m│\n",
       "│ When John and Mary went to the shops, Mary gave the bag to    │\u001b[1;38;2;0;200;0m \u001b[0m\u001b[1;38;2;0;200;0m John  \u001b[0m\u001b[1;38;2;0;200;0m \u001b[0m│\u001b[1;38;2;255;0;0m \u001b[0m\u001b[1;38;2;255;0;0m Mary    \u001b[0m\u001b[1;38;2;255;0;0m \u001b[0m│\u001b[1m \u001b[0m\u001b[1m3.202           \u001b[0m\u001b[1m \u001b[0m│\n",
       "│ When Tom and James went to the park, James gave the ball to   │\u001b[1;38;2;0;200;0m \u001b[0m\u001b[1;38;2;0;200;0m Tom   \u001b[0m\u001b[1;38;2;0;200;0m \u001b[0m│\u001b[1;38;2;255;0;0m \u001b[0m\u001b[1;38;2;255;0;0m James   \u001b[0m\u001b[1;38;2;255;0;0m \u001b[0m│\u001b[1m \u001b[0m\u001b[1m2.709           \u001b[0m\u001b[1m \u001b[0m│\n",
       "│ When Tom and James went to the park, Tom gave the ball to     │\u001b[1;38;2;0;200;0m \u001b[0m\u001b[1;38;2;0;200;0m James \u001b[0m\u001b[1;38;2;0;200;0m \u001b[0m│\u001b[1;38;2;255;0;0m \u001b[0m\u001b[1;38;2;255;0;0m Tom     \u001b[0m\u001b[1;38;2;255;0;0m \u001b[0m│\u001b[1m \u001b[0m\u001b[1m3.797           \u001b[0m\u001b[1m \u001b[0m│\n",
       "│ When Dan and Sid went to the shops, Sid gave an apple to      │\u001b[1;38;2;0;200;0m \u001b[0m\u001b[1;38;2;0;200;0m Dan   \u001b[0m\u001b[1;38;2;0;200;0m \u001b[0m│\u001b[1;38;2;255;0;0m \u001b[0m\u001b[1;38;2;255;0;0m Sid     \u001b[0m\u001b[1;38;2;255;0;0m \u001b[0m│\u001b[1m \u001b[0m\u001b[1m1.720           \u001b[0m\u001b[1m \u001b[0m│\n",
       "│ When Dan and Sid went to the shops, Dan gave an apple to      │\u001b[1;38;2;0;200;0m \u001b[0m\u001b[1;38;2;0;200;0m Sid   \u001b[0m\u001b[1;38;2;0;200;0m \u001b[0m│\u001b[1;38;2;255;0;0m \u001b[0m\u001b[1;38;2;255;0;0m Dan     \u001b[0m\u001b[1;38;2;255;0;0m \u001b[0m│\u001b[1m \u001b[0m\u001b[1m5.281           \u001b[0m\u001b[1m \u001b[0m│\n",
       "│ After Martin and Amy went to the park, Amy gave a drink to    │\u001b[1;38;2;0;200;0m \u001b[0m\u001b[1;38;2;0;200;0m Martin\u001b[0m\u001b[1;38;2;0;200;0m \u001b[0m│\u001b[1;38;2;255;0;0m \u001b[0m\u001b[1;38;2;255;0;0m Amy     \u001b[0m\u001b[1;38;2;255;0;0m \u001b[0m│\u001b[1m \u001b[0m\u001b[1m2.601           \u001b[0m\u001b[1m \u001b[0m│\n",
       "│ After Martin and Amy went to the park, Martin gave a drink to │\u001b[1;38;2;0;200;0m \u001b[0m\u001b[1;38;2;0;200;0m Amy   \u001b[0m\u001b[1;38;2;0;200;0m \u001b[0m│\u001b[1;38;2;255;0;0m \u001b[0m\u001b[1;38;2;255;0;0m Martin  \u001b[0m\u001b[1;38;2;255;0;0m \u001b[0m│\u001b[1m \u001b[0m\u001b[1m5.767           \u001b[0m\u001b[1m \u001b[0m│\n",
       "└───────────────────────────────────────────────────────────────┴─────────┴───────────┴──────────────────┘\n"
      ]
     },
     "metadata": {},
     "output_type": "display_data"
    }
   ],
   "source": [
    "make_table(control_prompts, control_answers, control_ans_prompts, \"Control Names\")"
   ]
  },
  {
   "cell_type": "code",
   "execution_count": 278,
   "metadata": {},
   "outputs": [
    {
     "data": {
      "text/plain": [
       "([' statue', ' bag'], [' statue', ' bag'], (' statue', ' bag'))"
      ]
     },
     "execution_count": 278,
     "metadata": {},
     "output_type": "execute_result"
    }
   ],
   "source": [
    "#[(model.to_str_tokens(ans_toks_n[k],ans_n[k]), model.to_str_tokens(ans_toks_n[k]),model.to_str_tokens(ans_n[k]), ans_n[k]) for k in range(len(ans_toks_n))]\n",
    "\n",
    "test = ans_toks_n[10]\n",
    "test_ans = ans_n[10]\n",
    "[model.tokenizer.decode(test[i]) for i in range(len(test))], model.to_str_tokens(test), ans_n[10]\n"
   ]
  },
  {
   "cell_type": "code",
   "execution_count": 279,
   "metadata": {},
   "outputs": [
    {
     "name": "stdout",
     "output_type": "stream",
     "text": [
      "torch.Size([20, 50257])\n",
      "torch.Size([20, 50257])\n",
      "torch.Size([20, 50257])\n",
      "torch.Size([20, 50257])\n",
      "torch.Size([20, 50257])\n"
     ]
    },
    {
     "data": {
      "text/html": [
       "<pre style=\"white-space:pre;overflow-x:auto;line-height:normal;font-family:Menlo,'DejaVu Sans Mono',consolas,'Courier New',monospace\"><span style=\"font-style: italic\">                                        nouns: Ave logit diff = 0.332                                        </span>\n",
       "┏━━━━━━━━━━━━━━━━━━━━━━━━━━━━━━━━━━━━━━━━━━━━━━━━━━━━━━━━━━━━━━━━━━┳━━━━━━━━━┳━━━━━━━━━━━┳━━━━━━━━━━━━━━━━━━┓\n",
       "┃<span style=\"font-weight: bold\"> Prompt                                                           </span>┃<span style=\"font-weight: bold\"> Correct </span>┃<span style=\"font-weight: bold\"> Incorrect </span>┃<span style=\"font-weight: bold\"> Logit Difference </span>┃\n",
       "┡━━━━━━━━━━━━━━━━━━━━━━━━━━━━━━━━━━━━━━━━━━━━━━━━━━━━━━━━━━━━━━━━━━╇━━━━━━━━━╇━━━━━━━━━━━╇━━━━━━━━━━━━━━━━━━┩\n",
       "│ When bag and flower went to the shops, flower gave the bag to    │<span style=\"color: #00c800; text-decoration-color: #00c800; font-weight: bold\">  bag    </span>│<span style=\"color: #ff0000; text-decoration-color: #ff0000; font-weight: bold\">  flower   </span>│<span style=\"font-weight: bold\"> 1.145            </span>│\n",
       "│ When bag and flower went to the shops, bag gave the bag to       │<span style=\"color: #00c800; text-decoration-color: #00c800; font-weight: bold\">  flower </span>│<span style=\"color: #ff0000; text-decoration-color: #ff0000; font-weight: bold\">  bag      </span>│<span style=\"font-weight: bold\"> 0.558            </span>│\n",
       "│ When statue and bag went to the shops, bag gave the bag to       │<span style=\"color: #00c800; text-decoration-color: #00c800; font-weight: bold\">  statue </span>│<span style=\"color: #ff0000; text-decoration-color: #ff0000; font-weight: bold\">  bag      </span>│<span style=\"font-weight: bold\"> -1.878           </span>│\n",
       "│ When statue and bag went to the shops, statue gave the bag to    │<span style=\"color: #00c800; text-decoration-color: #00c800; font-weight: bold\">  bag    </span>│<span style=\"color: #ff0000; text-decoration-color: #ff0000; font-weight: bold\">  statue   </span>│<span style=\"font-weight: bold\"> 3.145            </span>│\n",
       "│ When google and chair went to the shops, chair gave the bag to   │<span style=\"color: #00c800; text-decoration-color: #00c800; font-weight: bold\">  google </span>│<span style=\"color: #ff0000; text-decoration-color: #ff0000; font-weight: bold\">  chair    </span>│<span style=\"font-weight: bold\"> 0.347            </span>│\n",
       "│ When google and chair went to the shops, google gave the bag to  │<span style=\"color: #00c800; text-decoration-color: #00c800; font-weight: bold\">  chair  </span>│<span style=\"color: #ff0000; text-decoration-color: #ff0000; font-weight: bold\">  google   </span>│<span style=\"font-weight: bold\"> 0.130            </span>│\n",
       "│ When google and lamp went to the shops, lamp gave the bag to     │<span style=\"color: #00c800; text-decoration-color: #00c800; font-weight: bold\">  google </span>│<span style=\"color: #ff0000; text-decoration-color: #ff0000; font-weight: bold\">  lamp     </span>│<span style=\"font-weight: bold\"> -1.220           </span>│\n",
       "│ When google and lamp went to the shops, google gave the bag to   │<span style=\"color: #00c800; text-decoration-color: #00c800; font-weight: bold\">  lamp   </span>│<span style=\"color: #ff0000; text-decoration-color: #ff0000; font-weight: bold\">  google   </span>│<span style=\"font-weight: bold\"> -0.124           </span>│\n",
       "│ When lamp and google went to the shops, google gave the bag to   │<span style=\"color: #00c800; text-decoration-color: #00c800; font-weight: bold\">  lamp   </span>│<span style=\"color: #ff0000; text-decoration-color: #ff0000; font-weight: bold\">  google   </span>│<span style=\"font-weight: bold\"> -0.847           </span>│\n",
       "│ When lamp and google went to the shops, lamp gave the bag to     │<span style=\"color: #00c800; text-decoration-color: #00c800; font-weight: bold\">  google </span>│<span style=\"color: #ff0000; text-decoration-color: #ff0000; font-weight: bold\">  lamp     </span>│<span style=\"font-weight: bold\"> 0.923            </span>│\n",
       "│ When statue and bag went to the shops, bag gave the bag to       │<span style=\"color: #00c800; text-decoration-color: #00c800; font-weight: bold\">  statue </span>│<span style=\"color: #ff0000; text-decoration-color: #ff0000; font-weight: bold\">  bag      </span>│<span style=\"font-weight: bold\"> -1.878           </span>│\n",
       "│ When statue and bag went to the shops, statue gave the bag to    │<span style=\"color: #00c800; text-decoration-color: #00c800; font-weight: bold\">  bag    </span>│<span style=\"color: #ff0000; text-decoration-color: #ff0000; font-weight: bold\">  statue   </span>│<span style=\"font-weight: bold\"> 3.145            </span>│\n",
       "│ When bag and statue went to the shops, statue gave the bag to    │<span style=\"color: #00c800; text-decoration-color: #00c800; font-weight: bold\">  bag    </span>│<span style=\"color: #ff0000; text-decoration-color: #ff0000; font-weight: bold\">  statue   </span>│<span style=\"font-weight: bold\"> 0.192            </span>│\n",
       "│ When bag and statue went to the shops, bag gave the bag to       │<span style=\"color: #00c800; text-decoration-color: #00c800; font-weight: bold\">  statue </span>│<span style=\"color: #ff0000; text-decoration-color: #ff0000; font-weight: bold\">  bag      </span>│<span style=\"font-weight: bold\"> -0.594           </span>│\n",
       "│ When bag and goose went to the shops, goose gave the bag to      │<span style=\"color: #00c800; text-decoration-color: #00c800; font-weight: bold\">  bag    </span>│<span style=\"color: #ff0000; text-decoration-color: #ff0000; font-weight: bold\">  goose    </span>│<span style=\"font-weight: bold\"> 1.759            </span>│\n",
       "│ When bag and goose went to the shops, bag gave the bag to        │<span style=\"color: #00c800; text-decoration-color: #00c800; font-weight: bold\">  goose  </span>│<span style=\"color: #ff0000; text-decoration-color: #ff0000; font-weight: bold\">  bag      </span>│<span style=\"font-weight: bold\"> 0.804            </span>│\n",
       "│ When google and statue went to the shops, statue gave the bag to │<span style=\"color: #00c800; text-decoration-color: #00c800; font-weight: bold\">  google </span>│<span style=\"color: #ff0000; text-decoration-color: #ff0000; font-weight: bold\">  statue   </span>│<span style=\"font-weight: bold\"> -1.470           </span>│\n",
       "│ When google and statue went to the shops, google gave the bag to │<span style=\"color: #00c800; text-decoration-color: #00c800; font-weight: bold\">  statue </span>│<span style=\"color: #ff0000; text-decoration-color: #ff0000; font-weight: bold\">  google   </span>│<span style=\"font-weight: bold\"> 0.640            </span>│\n",
       "│ When flower and lamp went to the shops, lamp gave the bag to     │<span style=\"color: #00c800; text-decoration-color: #00c800; font-weight: bold\">  flower </span>│<span style=\"color: #ff0000; text-decoration-color: #ff0000; font-weight: bold\">  lamp     </span>│<span style=\"font-weight: bold\"> 0.394            </span>│\n",
       "│ When flower and lamp went to the shops, flower gave the bag to   │<span style=\"color: #00c800; text-decoration-color: #00c800; font-weight: bold\">  lamp   </span>│<span style=\"color: #ff0000; text-decoration-color: #ff0000; font-weight: bold\">  flower   </span>│<span style=\"font-weight: bold\"> 1.461            </span>│\n",
       "└──────────────────────────────────────────────────────────────────┴─────────┴───────────┴──────────────────┘\n",
       "</pre>\n"
      ],
      "text/plain": [
       "\u001b[3m                                        nouns: Ave logit diff = 0.332                                        \u001b[0m\n",
       "┏━━━━━━━━━━━━━━━━━━━━━━━━━━━━━━━━━━━━━━━━━━━━━━━━━━━━━━━━━━━━━━━━━━┳━━━━━━━━━┳━━━━━━━━━━━┳━━━━━━━━━━━━━━━━━━┓\n",
       "┃\u001b[1m \u001b[0m\u001b[1mPrompt                                                          \u001b[0m\u001b[1m \u001b[0m┃\u001b[1m \u001b[0m\u001b[1mCorrect\u001b[0m\u001b[1m \u001b[0m┃\u001b[1m \u001b[0m\u001b[1mIncorrect\u001b[0m\u001b[1m \u001b[0m┃\u001b[1m \u001b[0m\u001b[1mLogit Difference\u001b[0m\u001b[1m \u001b[0m┃\n",
       "┡━━━━━━━━━━━━━━━━━━━━━━━━━━━━━━━━━━━━━━━━━━━━━━━━━━━━━━━━━━━━━━━━━━╇━━━━━━━━━╇━━━━━━━━━━━╇━━━━━━━━━━━━━━━━━━┩\n",
       "│ When bag and flower went to the shops, flower gave the bag to    │\u001b[1;38;2;0;200;0m \u001b[0m\u001b[1;38;2;0;200;0m bag   \u001b[0m\u001b[1;38;2;0;200;0m \u001b[0m│\u001b[1;38;2;255;0;0m \u001b[0m\u001b[1;38;2;255;0;0m flower  \u001b[0m\u001b[1;38;2;255;0;0m \u001b[0m│\u001b[1m \u001b[0m\u001b[1m1.145           \u001b[0m\u001b[1m \u001b[0m│\n",
       "│ When bag and flower went to the shops, bag gave the bag to       │\u001b[1;38;2;0;200;0m \u001b[0m\u001b[1;38;2;0;200;0m flower\u001b[0m\u001b[1;38;2;0;200;0m \u001b[0m│\u001b[1;38;2;255;0;0m \u001b[0m\u001b[1;38;2;255;0;0m bag     \u001b[0m\u001b[1;38;2;255;0;0m \u001b[0m│\u001b[1m \u001b[0m\u001b[1m0.558           \u001b[0m\u001b[1m \u001b[0m│\n",
       "│ When statue and bag went to the shops, bag gave the bag to       │\u001b[1;38;2;0;200;0m \u001b[0m\u001b[1;38;2;0;200;0m statue\u001b[0m\u001b[1;38;2;0;200;0m \u001b[0m│\u001b[1;38;2;255;0;0m \u001b[0m\u001b[1;38;2;255;0;0m bag     \u001b[0m\u001b[1;38;2;255;0;0m \u001b[0m│\u001b[1m \u001b[0m\u001b[1m-1.878          \u001b[0m\u001b[1m \u001b[0m│\n",
       "│ When statue and bag went to the shops, statue gave the bag to    │\u001b[1;38;2;0;200;0m \u001b[0m\u001b[1;38;2;0;200;0m bag   \u001b[0m\u001b[1;38;2;0;200;0m \u001b[0m│\u001b[1;38;2;255;0;0m \u001b[0m\u001b[1;38;2;255;0;0m statue  \u001b[0m\u001b[1;38;2;255;0;0m \u001b[0m│\u001b[1m \u001b[0m\u001b[1m3.145           \u001b[0m\u001b[1m \u001b[0m│\n",
       "│ When google and chair went to the shops, chair gave the bag to   │\u001b[1;38;2;0;200;0m \u001b[0m\u001b[1;38;2;0;200;0m google\u001b[0m\u001b[1;38;2;0;200;0m \u001b[0m│\u001b[1;38;2;255;0;0m \u001b[0m\u001b[1;38;2;255;0;0m chair   \u001b[0m\u001b[1;38;2;255;0;0m \u001b[0m│\u001b[1m \u001b[0m\u001b[1m0.347           \u001b[0m\u001b[1m \u001b[0m│\n",
       "│ When google and chair went to the shops, google gave the bag to  │\u001b[1;38;2;0;200;0m \u001b[0m\u001b[1;38;2;0;200;0m chair \u001b[0m\u001b[1;38;2;0;200;0m \u001b[0m│\u001b[1;38;2;255;0;0m \u001b[0m\u001b[1;38;2;255;0;0m google  \u001b[0m\u001b[1;38;2;255;0;0m \u001b[0m│\u001b[1m \u001b[0m\u001b[1m0.130           \u001b[0m\u001b[1m \u001b[0m│\n",
       "│ When google and lamp went to the shops, lamp gave the bag to     │\u001b[1;38;2;0;200;0m \u001b[0m\u001b[1;38;2;0;200;0m google\u001b[0m\u001b[1;38;2;0;200;0m \u001b[0m│\u001b[1;38;2;255;0;0m \u001b[0m\u001b[1;38;2;255;0;0m lamp    \u001b[0m\u001b[1;38;2;255;0;0m \u001b[0m│\u001b[1m \u001b[0m\u001b[1m-1.220          \u001b[0m\u001b[1m \u001b[0m│\n",
       "│ When google and lamp went to the shops, google gave the bag to   │\u001b[1;38;2;0;200;0m \u001b[0m\u001b[1;38;2;0;200;0m lamp  \u001b[0m\u001b[1;38;2;0;200;0m \u001b[0m│\u001b[1;38;2;255;0;0m \u001b[0m\u001b[1;38;2;255;0;0m google  \u001b[0m\u001b[1;38;2;255;0;0m \u001b[0m│\u001b[1m \u001b[0m\u001b[1m-0.124          \u001b[0m\u001b[1m \u001b[0m│\n",
       "│ When lamp and google went to the shops, google gave the bag to   │\u001b[1;38;2;0;200;0m \u001b[0m\u001b[1;38;2;0;200;0m lamp  \u001b[0m\u001b[1;38;2;0;200;0m \u001b[0m│\u001b[1;38;2;255;0;0m \u001b[0m\u001b[1;38;2;255;0;0m google  \u001b[0m\u001b[1;38;2;255;0;0m \u001b[0m│\u001b[1m \u001b[0m\u001b[1m-0.847          \u001b[0m\u001b[1m \u001b[0m│\n",
       "│ When lamp and google went to the shops, lamp gave the bag to     │\u001b[1;38;2;0;200;0m \u001b[0m\u001b[1;38;2;0;200;0m google\u001b[0m\u001b[1;38;2;0;200;0m \u001b[0m│\u001b[1;38;2;255;0;0m \u001b[0m\u001b[1;38;2;255;0;0m lamp    \u001b[0m\u001b[1;38;2;255;0;0m \u001b[0m│\u001b[1m \u001b[0m\u001b[1m0.923           \u001b[0m\u001b[1m \u001b[0m│\n",
       "│ When statue and bag went to the shops, bag gave the bag to       │\u001b[1;38;2;0;200;0m \u001b[0m\u001b[1;38;2;0;200;0m statue\u001b[0m\u001b[1;38;2;0;200;0m \u001b[0m│\u001b[1;38;2;255;0;0m \u001b[0m\u001b[1;38;2;255;0;0m bag     \u001b[0m\u001b[1;38;2;255;0;0m \u001b[0m│\u001b[1m \u001b[0m\u001b[1m-1.878          \u001b[0m\u001b[1m \u001b[0m│\n",
       "│ When statue and bag went to the shops, statue gave the bag to    │\u001b[1;38;2;0;200;0m \u001b[0m\u001b[1;38;2;0;200;0m bag   \u001b[0m\u001b[1;38;2;0;200;0m \u001b[0m│\u001b[1;38;2;255;0;0m \u001b[0m\u001b[1;38;2;255;0;0m statue  \u001b[0m\u001b[1;38;2;255;0;0m \u001b[0m│\u001b[1m \u001b[0m\u001b[1m3.145           \u001b[0m\u001b[1m \u001b[0m│\n",
       "│ When bag and statue went to the shops, statue gave the bag to    │\u001b[1;38;2;0;200;0m \u001b[0m\u001b[1;38;2;0;200;0m bag   \u001b[0m\u001b[1;38;2;0;200;0m \u001b[0m│\u001b[1;38;2;255;0;0m \u001b[0m\u001b[1;38;2;255;0;0m statue  \u001b[0m\u001b[1;38;2;255;0;0m \u001b[0m│\u001b[1m \u001b[0m\u001b[1m0.192           \u001b[0m\u001b[1m \u001b[0m│\n",
       "│ When bag and statue went to the shops, bag gave the bag to       │\u001b[1;38;2;0;200;0m \u001b[0m\u001b[1;38;2;0;200;0m statue\u001b[0m\u001b[1;38;2;0;200;0m \u001b[0m│\u001b[1;38;2;255;0;0m \u001b[0m\u001b[1;38;2;255;0;0m bag     \u001b[0m\u001b[1;38;2;255;0;0m \u001b[0m│\u001b[1m \u001b[0m\u001b[1m-0.594          \u001b[0m\u001b[1m \u001b[0m│\n",
       "│ When bag and goose went to the shops, goose gave the bag to      │\u001b[1;38;2;0;200;0m \u001b[0m\u001b[1;38;2;0;200;0m bag   \u001b[0m\u001b[1;38;2;0;200;0m \u001b[0m│\u001b[1;38;2;255;0;0m \u001b[0m\u001b[1;38;2;255;0;0m goose   \u001b[0m\u001b[1;38;2;255;0;0m \u001b[0m│\u001b[1m \u001b[0m\u001b[1m1.759           \u001b[0m\u001b[1m \u001b[0m│\n",
       "│ When bag and goose went to the shops, bag gave the bag to        │\u001b[1;38;2;0;200;0m \u001b[0m\u001b[1;38;2;0;200;0m goose \u001b[0m\u001b[1;38;2;0;200;0m \u001b[0m│\u001b[1;38;2;255;0;0m \u001b[0m\u001b[1;38;2;255;0;0m bag     \u001b[0m\u001b[1;38;2;255;0;0m \u001b[0m│\u001b[1m \u001b[0m\u001b[1m0.804           \u001b[0m\u001b[1m \u001b[0m│\n",
       "│ When google and statue went to the shops, statue gave the bag to │\u001b[1;38;2;0;200;0m \u001b[0m\u001b[1;38;2;0;200;0m google\u001b[0m\u001b[1;38;2;0;200;0m \u001b[0m│\u001b[1;38;2;255;0;0m \u001b[0m\u001b[1;38;2;255;0;0m statue  \u001b[0m\u001b[1;38;2;255;0;0m \u001b[0m│\u001b[1m \u001b[0m\u001b[1m-1.470          \u001b[0m\u001b[1m \u001b[0m│\n",
       "│ When google and statue went to the shops, google gave the bag to │\u001b[1;38;2;0;200;0m \u001b[0m\u001b[1;38;2;0;200;0m statue\u001b[0m\u001b[1;38;2;0;200;0m \u001b[0m│\u001b[1;38;2;255;0;0m \u001b[0m\u001b[1;38;2;255;0;0m google  \u001b[0m\u001b[1;38;2;255;0;0m \u001b[0m│\u001b[1m \u001b[0m\u001b[1m0.640           \u001b[0m\u001b[1m \u001b[0m│\n",
       "│ When flower and lamp went to the shops, lamp gave the bag to     │\u001b[1;38;2;0;200;0m \u001b[0m\u001b[1;38;2;0;200;0m flower\u001b[0m\u001b[1;38;2;0;200;0m \u001b[0m│\u001b[1;38;2;255;0;0m \u001b[0m\u001b[1;38;2;255;0;0m lamp    \u001b[0m\u001b[1;38;2;255;0;0m \u001b[0m│\u001b[1m \u001b[0m\u001b[1m0.394           \u001b[0m\u001b[1m \u001b[0m│\n",
       "│ When flower and lamp went to the shops, flower gave the bag to   │\u001b[1;38;2;0;200;0m \u001b[0m\u001b[1;38;2;0;200;0m lamp  \u001b[0m\u001b[1;38;2;0;200;0m \u001b[0m│\u001b[1;38;2;255;0;0m \u001b[0m\u001b[1;38;2;255;0;0m flower  \u001b[0m\u001b[1;38;2;255;0;0m \u001b[0m│\u001b[1m \u001b[0m\u001b[1m1.461           \u001b[0m\u001b[1m \u001b[0m│\n",
       "└──────────────────────────────────────────────────────────────────┴─────────┴───────────┴──────────────────┘\n"
      ]
     },
     "metadata": {},
     "output_type": "display_data"
    },
    {
     "name": "stdout",
     "output_type": "stream",
     "text": [
      "torch.Size([20, 50257])\n",
      "torch.Size([20, 50257])\n",
      "torch.Size([20, 50257])\n",
      "torch.Size([20, 50257])\n",
      "torch.Size([20, 50257])\n"
     ]
    },
    {
     "data": {
      "text/html": [
       "<pre style=\"white-space:pre;overflow-x:auto;line-height:normal;font-family:Menlo,'DejaVu Sans Mono',consolas,'Courier New',monospace\"><span style=\"font-style: italic\">                                    proper nouns: Ave logit diff = 2.305                                     </span>\n",
       "┏━━━━━━━━━━━━━━━━━━━━━━━━━━━━━━━━━━━━━━━━━━━━━━━━━━━━━━━━━━━━━━━━━━┳━━━━━━━━━┳━━━━━━━━━━━┳━━━━━━━━━━━━━━━━━━┓\n",
       "┃<span style=\"font-weight: bold\"> Prompt                                                           </span>┃<span style=\"font-weight: bold\"> Correct </span>┃<span style=\"font-weight: bold\"> Incorrect </span>┃<span style=\"font-weight: bold\"> Logit Difference </span>┃\n",
       "┡━━━━━━━━━━━━━━━━━━━━━━━━━━━━━━━━━━━━━━━━━━━━━━━━━━━━━━━━━━━━━━━━━━╇━━━━━━━━━╇━━━━━━━━━━━╇━━━━━━━━━━━━━━━━━━┩\n",
       "│ When Statue and Goose went to the shops, Goose gave the bag to   │<span style=\"color: #00c800; text-decoration-color: #00c800; font-weight: bold\">  Statue </span>│<span style=\"color: #ff0000; text-decoration-color: #ff0000; font-weight: bold\">  Goose    </span>│<span style=\"font-weight: bold\"> -0.604           </span>│\n",
       "│ When Statue and Goose went to the shops, Statue gave the bag to  │<span style=\"color: #00c800; text-decoration-color: #00c800; font-weight: bold\">  Goose  </span>│<span style=\"color: #ff0000; text-decoration-color: #ff0000; font-weight: bold\">  Statue   </span>│<span style=\"font-weight: bold\"> 7.116            </span>│\n",
       "│ When Bag and Google went to the shops, Google gave the bag to    │<span style=\"color: #00c800; text-decoration-color: #00c800; font-weight: bold\">  Bag    </span>│<span style=\"color: #ff0000; text-decoration-color: #ff0000; font-weight: bold\">  Google   </span>│<span style=\"font-weight: bold\"> -0.502           </span>│\n",
       "│ When Bag and Google went to the shops, Bag gave the bag to       │<span style=\"color: #00c800; text-decoration-color: #00c800; font-weight: bold\">  Google </span>│<span style=\"color: #ff0000; text-decoration-color: #ff0000; font-weight: bold\">  Bag      </span>│<span style=\"font-weight: bold\"> 3.053            </span>│\n",
       "│ When Google and Bag went to the shops, Bag gave the bag to       │<span style=\"color: #00c800; text-decoration-color: #00c800; font-weight: bold\">  Google </span>│<span style=\"color: #ff0000; text-decoration-color: #ff0000; font-weight: bold\">  Bag      </span>│<span style=\"font-weight: bold\"> 1.784            </span>│\n",
       "│ When Google and Bag went to the shops, Google gave the bag to    │<span style=\"color: #00c800; text-decoration-color: #00c800; font-weight: bold\">  Bag    </span>│<span style=\"color: #ff0000; text-decoration-color: #ff0000; font-weight: bold\">  Google   </span>│<span style=\"font-weight: bold\"> 0.465            </span>│\n",
       "│ When Chair and Church went to the shops, Church gave the bag to  │<span style=\"color: #00c800; text-decoration-color: #00c800; font-weight: bold\">  Chair  </span>│<span style=\"color: #ff0000; text-decoration-color: #ff0000; font-weight: bold\">  Church   </span>│<span style=\"font-weight: bold\"> -1.197           </span>│\n",
       "│ When Chair and Church went to the shops, Chair gave the bag to   │<span style=\"color: #00c800; text-decoration-color: #00c800; font-weight: bold\">  Church </span>│<span style=\"color: #ff0000; text-decoration-color: #ff0000; font-weight: bold\">  Chair    </span>│<span style=\"font-weight: bold\"> 5.078            </span>│\n",
       "│ When Church and Statue went to the shops, Statue gave the bag to │<span style=\"color: #00c800; text-decoration-color: #00c800; font-weight: bold\">  Church </span>│<span style=\"color: #ff0000; text-decoration-color: #ff0000; font-weight: bold\">  Statue   </span>│<span style=\"font-weight: bold\"> 3.321            </span>│\n",
       "│ When Church and Statue went to the shops, Church gave the bag to │<span style=\"color: #00c800; text-decoration-color: #00c800; font-weight: bold\">  Statue </span>│<span style=\"color: #ff0000; text-decoration-color: #ff0000; font-weight: bold\">  Church   </span>│<span style=\"font-weight: bold\"> 0.536            </span>│\n",
       "│ When Bag and Statue went to the shops, Statue gave the bag to    │<span style=\"color: #00c800; text-decoration-color: #00c800; font-weight: bold\">  Bag    </span>│<span style=\"color: #ff0000; text-decoration-color: #ff0000; font-weight: bold\">  Statue   </span>│<span style=\"font-weight: bold\"> 5.912            </span>│\n",
       "│ When Bag and Statue went to the shops, Bag gave the bag to       │<span style=\"color: #00c800; text-decoration-color: #00c800; font-weight: bold\">  Statue </span>│<span style=\"color: #ff0000; text-decoration-color: #ff0000; font-weight: bold\">  Bag      </span>│<span style=\"font-weight: bold\"> 3.118            </span>│\n",
       "│ When Flower and Google went to the shops, Google gave the bag to │<span style=\"color: #00c800; text-decoration-color: #00c800; font-weight: bold\">  Flower </span>│<span style=\"color: #ff0000; text-decoration-color: #ff0000; font-weight: bold\">  Google   </span>│<span style=\"font-weight: bold\"> -1.361           </span>│\n",
       "│ When Flower and Google went to the shops, Flower gave the bag to │<span style=\"color: #00c800; text-decoration-color: #00c800; font-weight: bold\">  Google </span>│<span style=\"color: #ff0000; text-decoration-color: #ff0000; font-weight: bold\">  Flower   </span>│<span style=\"font-weight: bold\"> 5.280            </span>│\n",
       "│ When Google and Flower went to the shops, Flower gave the bag to │<span style=\"color: #00c800; text-decoration-color: #00c800; font-weight: bold\">  Google </span>│<span style=\"color: #ff0000; text-decoration-color: #ff0000; font-weight: bold\">  Flower   </span>│<span style=\"font-weight: bold\"> 2.611            </span>│\n",
       "│ When Google and Flower went to the shops, Google gave the bag to │<span style=\"color: #00c800; text-decoration-color: #00c800; font-weight: bold\">  Flower </span>│<span style=\"color: #ff0000; text-decoration-color: #ff0000; font-weight: bold\">  Google   </span>│<span style=\"font-weight: bold\"> 0.059            </span>│\n",
       "│ When Chair and Statue went to the shops, Statue gave the bag to  │<span style=\"color: #00c800; text-decoration-color: #00c800; font-weight: bold\">  Chair  </span>│<span style=\"color: #ff0000; text-decoration-color: #ff0000; font-weight: bold\">  Statue   </span>│<span style=\"font-weight: bold\"> 3.197            </span>│\n",
       "│ When Chair and Statue went to the shops, Chair gave the bag to   │<span style=\"color: #00c800; text-decoration-color: #00c800; font-weight: bold\">  Statue </span>│<span style=\"color: #ff0000; text-decoration-color: #ff0000; font-weight: bold\">  Chair    </span>│<span style=\"font-weight: bold\"> 4.001            </span>│\n",
       "│ When Statue and Lamp went to the shops, Lamp gave the bag to     │<span style=\"color: #00c800; text-decoration-color: #00c800; font-weight: bold\">  Statue </span>│<span style=\"color: #ff0000; text-decoration-color: #ff0000; font-weight: bold\">  Lamp     </span>│<span style=\"font-weight: bold\"> -1.026           </span>│\n",
       "│ When Statue and Lamp went to the shops, Statue gave the bag to   │<span style=\"color: #00c800; text-decoration-color: #00c800; font-weight: bold\">  Lamp   </span>│<span style=\"color: #ff0000; text-decoration-color: #ff0000; font-weight: bold\">  Statue   </span>│<span style=\"font-weight: bold\"> 5.262            </span>│\n",
       "└──────────────────────────────────────────────────────────────────┴─────────┴───────────┴──────────────────┘\n",
       "</pre>\n"
      ],
      "text/plain": [
       "\u001b[3m                                    proper nouns: Ave logit diff = 2.305                                     \u001b[0m\n",
       "┏━━━━━━━━━━━━━━━━━━━━━━━━━━━━━━━━━━━━━━━━━━━━━━━━━━━━━━━━━━━━━━━━━━┳━━━━━━━━━┳━━━━━━━━━━━┳━━━━━━━━━━━━━━━━━━┓\n",
       "┃\u001b[1m \u001b[0m\u001b[1mPrompt                                                          \u001b[0m\u001b[1m \u001b[0m┃\u001b[1m \u001b[0m\u001b[1mCorrect\u001b[0m\u001b[1m \u001b[0m┃\u001b[1m \u001b[0m\u001b[1mIncorrect\u001b[0m\u001b[1m \u001b[0m┃\u001b[1m \u001b[0m\u001b[1mLogit Difference\u001b[0m\u001b[1m \u001b[0m┃\n",
       "┡━━━━━━━━━━━━━━━━━━━━━━━━━━━━━━━━━━━━━━━━━━━━━━━━━━━━━━━━━━━━━━━━━━╇━━━━━━━━━╇━━━━━━━━━━━╇━━━━━━━━━━━━━━━━━━┩\n",
       "│ When Statue and Goose went to the shops, Goose gave the bag to   │\u001b[1;38;2;0;200;0m \u001b[0m\u001b[1;38;2;0;200;0m Statue\u001b[0m\u001b[1;38;2;0;200;0m \u001b[0m│\u001b[1;38;2;255;0;0m \u001b[0m\u001b[1;38;2;255;0;0m Goose   \u001b[0m\u001b[1;38;2;255;0;0m \u001b[0m│\u001b[1m \u001b[0m\u001b[1m-0.604          \u001b[0m\u001b[1m \u001b[0m│\n",
       "│ When Statue and Goose went to the shops, Statue gave the bag to  │\u001b[1;38;2;0;200;0m \u001b[0m\u001b[1;38;2;0;200;0m Goose \u001b[0m\u001b[1;38;2;0;200;0m \u001b[0m│\u001b[1;38;2;255;0;0m \u001b[0m\u001b[1;38;2;255;0;0m Statue  \u001b[0m\u001b[1;38;2;255;0;0m \u001b[0m│\u001b[1m \u001b[0m\u001b[1m7.116           \u001b[0m\u001b[1m \u001b[0m│\n",
       "│ When Bag and Google went to the shops, Google gave the bag to    │\u001b[1;38;2;0;200;0m \u001b[0m\u001b[1;38;2;0;200;0m Bag   \u001b[0m\u001b[1;38;2;0;200;0m \u001b[0m│\u001b[1;38;2;255;0;0m \u001b[0m\u001b[1;38;2;255;0;0m Google  \u001b[0m\u001b[1;38;2;255;0;0m \u001b[0m│\u001b[1m \u001b[0m\u001b[1m-0.502          \u001b[0m\u001b[1m \u001b[0m│\n",
       "│ When Bag and Google went to the shops, Bag gave the bag to       │\u001b[1;38;2;0;200;0m \u001b[0m\u001b[1;38;2;0;200;0m Google\u001b[0m\u001b[1;38;2;0;200;0m \u001b[0m│\u001b[1;38;2;255;0;0m \u001b[0m\u001b[1;38;2;255;0;0m Bag     \u001b[0m\u001b[1;38;2;255;0;0m \u001b[0m│\u001b[1m \u001b[0m\u001b[1m3.053           \u001b[0m\u001b[1m \u001b[0m│\n",
       "│ When Google and Bag went to the shops, Bag gave the bag to       │\u001b[1;38;2;0;200;0m \u001b[0m\u001b[1;38;2;0;200;0m Google\u001b[0m\u001b[1;38;2;0;200;0m \u001b[0m│\u001b[1;38;2;255;0;0m \u001b[0m\u001b[1;38;2;255;0;0m Bag     \u001b[0m\u001b[1;38;2;255;0;0m \u001b[0m│\u001b[1m \u001b[0m\u001b[1m1.784           \u001b[0m\u001b[1m \u001b[0m│\n",
       "│ When Google and Bag went to the shops, Google gave the bag to    │\u001b[1;38;2;0;200;0m \u001b[0m\u001b[1;38;2;0;200;0m Bag   \u001b[0m\u001b[1;38;2;0;200;0m \u001b[0m│\u001b[1;38;2;255;0;0m \u001b[0m\u001b[1;38;2;255;0;0m Google  \u001b[0m\u001b[1;38;2;255;0;0m \u001b[0m│\u001b[1m \u001b[0m\u001b[1m0.465           \u001b[0m\u001b[1m \u001b[0m│\n",
       "│ When Chair and Church went to the shops, Church gave the bag to  │\u001b[1;38;2;0;200;0m \u001b[0m\u001b[1;38;2;0;200;0m Chair \u001b[0m\u001b[1;38;2;0;200;0m \u001b[0m│\u001b[1;38;2;255;0;0m \u001b[0m\u001b[1;38;2;255;0;0m Church  \u001b[0m\u001b[1;38;2;255;0;0m \u001b[0m│\u001b[1m \u001b[0m\u001b[1m-1.197          \u001b[0m\u001b[1m \u001b[0m│\n",
       "│ When Chair and Church went to the shops, Chair gave the bag to   │\u001b[1;38;2;0;200;0m \u001b[0m\u001b[1;38;2;0;200;0m Church\u001b[0m\u001b[1;38;2;0;200;0m \u001b[0m│\u001b[1;38;2;255;0;0m \u001b[0m\u001b[1;38;2;255;0;0m Chair   \u001b[0m\u001b[1;38;2;255;0;0m \u001b[0m│\u001b[1m \u001b[0m\u001b[1m5.078           \u001b[0m\u001b[1m \u001b[0m│\n",
       "│ When Church and Statue went to the shops, Statue gave the bag to │\u001b[1;38;2;0;200;0m \u001b[0m\u001b[1;38;2;0;200;0m Church\u001b[0m\u001b[1;38;2;0;200;0m \u001b[0m│\u001b[1;38;2;255;0;0m \u001b[0m\u001b[1;38;2;255;0;0m Statue  \u001b[0m\u001b[1;38;2;255;0;0m \u001b[0m│\u001b[1m \u001b[0m\u001b[1m3.321           \u001b[0m\u001b[1m \u001b[0m│\n",
       "│ When Church and Statue went to the shops, Church gave the bag to │\u001b[1;38;2;0;200;0m \u001b[0m\u001b[1;38;2;0;200;0m Statue\u001b[0m\u001b[1;38;2;0;200;0m \u001b[0m│\u001b[1;38;2;255;0;0m \u001b[0m\u001b[1;38;2;255;0;0m Church  \u001b[0m\u001b[1;38;2;255;0;0m \u001b[0m│\u001b[1m \u001b[0m\u001b[1m0.536           \u001b[0m\u001b[1m \u001b[0m│\n",
       "│ When Bag and Statue went to the shops, Statue gave the bag to    │\u001b[1;38;2;0;200;0m \u001b[0m\u001b[1;38;2;0;200;0m Bag   \u001b[0m\u001b[1;38;2;0;200;0m \u001b[0m│\u001b[1;38;2;255;0;0m \u001b[0m\u001b[1;38;2;255;0;0m Statue  \u001b[0m\u001b[1;38;2;255;0;0m \u001b[0m│\u001b[1m \u001b[0m\u001b[1m5.912           \u001b[0m\u001b[1m \u001b[0m│\n",
       "│ When Bag and Statue went to the shops, Bag gave the bag to       │\u001b[1;38;2;0;200;0m \u001b[0m\u001b[1;38;2;0;200;0m Statue\u001b[0m\u001b[1;38;2;0;200;0m \u001b[0m│\u001b[1;38;2;255;0;0m \u001b[0m\u001b[1;38;2;255;0;0m Bag     \u001b[0m\u001b[1;38;2;255;0;0m \u001b[0m│\u001b[1m \u001b[0m\u001b[1m3.118           \u001b[0m\u001b[1m \u001b[0m│\n",
       "│ When Flower and Google went to the shops, Google gave the bag to │\u001b[1;38;2;0;200;0m \u001b[0m\u001b[1;38;2;0;200;0m Flower\u001b[0m\u001b[1;38;2;0;200;0m \u001b[0m│\u001b[1;38;2;255;0;0m \u001b[0m\u001b[1;38;2;255;0;0m Google  \u001b[0m\u001b[1;38;2;255;0;0m \u001b[0m│\u001b[1m \u001b[0m\u001b[1m-1.361          \u001b[0m\u001b[1m \u001b[0m│\n",
       "│ When Flower and Google went to the shops, Flower gave the bag to │\u001b[1;38;2;0;200;0m \u001b[0m\u001b[1;38;2;0;200;0m Google\u001b[0m\u001b[1;38;2;0;200;0m \u001b[0m│\u001b[1;38;2;255;0;0m \u001b[0m\u001b[1;38;2;255;0;0m Flower  \u001b[0m\u001b[1;38;2;255;0;0m \u001b[0m│\u001b[1m \u001b[0m\u001b[1m5.280           \u001b[0m\u001b[1m \u001b[0m│\n",
       "│ When Google and Flower went to the shops, Flower gave the bag to │\u001b[1;38;2;0;200;0m \u001b[0m\u001b[1;38;2;0;200;0m Google\u001b[0m\u001b[1;38;2;0;200;0m \u001b[0m│\u001b[1;38;2;255;0;0m \u001b[0m\u001b[1;38;2;255;0;0m Flower  \u001b[0m\u001b[1;38;2;255;0;0m \u001b[0m│\u001b[1m \u001b[0m\u001b[1m2.611           \u001b[0m\u001b[1m \u001b[0m│\n",
       "│ When Google and Flower went to the shops, Google gave the bag to │\u001b[1;38;2;0;200;0m \u001b[0m\u001b[1;38;2;0;200;0m Flower\u001b[0m\u001b[1;38;2;0;200;0m \u001b[0m│\u001b[1;38;2;255;0;0m \u001b[0m\u001b[1;38;2;255;0;0m Google  \u001b[0m\u001b[1;38;2;255;0;0m \u001b[0m│\u001b[1m \u001b[0m\u001b[1m0.059           \u001b[0m\u001b[1m \u001b[0m│\n",
       "│ When Chair and Statue went to the shops, Statue gave the bag to  │\u001b[1;38;2;0;200;0m \u001b[0m\u001b[1;38;2;0;200;0m Chair \u001b[0m\u001b[1;38;2;0;200;0m \u001b[0m│\u001b[1;38;2;255;0;0m \u001b[0m\u001b[1;38;2;255;0;0m Statue  \u001b[0m\u001b[1;38;2;255;0;0m \u001b[0m│\u001b[1m \u001b[0m\u001b[1m3.197           \u001b[0m\u001b[1m \u001b[0m│\n",
       "│ When Chair and Statue went to the shops, Chair gave the bag to   │\u001b[1;38;2;0;200;0m \u001b[0m\u001b[1;38;2;0;200;0m Statue\u001b[0m\u001b[1;38;2;0;200;0m \u001b[0m│\u001b[1;38;2;255;0;0m \u001b[0m\u001b[1;38;2;255;0;0m Chair   \u001b[0m\u001b[1;38;2;255;0;0m \u001b[0m│\u001b[1m \u001b[0m\u001b[1m4.001           \u001b[0m\u001b[1m \u001b[0m│\n",
       "│ When Statue and Lamp went to the shops, Lamp gave the bag to     │\u001b[1;38;2;0;200;0m \u001b[0m\u001b[1;38;2;0;200;0m Statue\u001b[0m\u001b[1;38;2;0;200;0m \u001b[0m│\u001b[1;38;2;255;0;0m \u001b[0m\u001b[1;38;2;255;0;0m Lamp    \u001b[0m\u001b[1;38;2;255;0;0m \u001b[0m│\u001b[1m \u001b[0m\u001b[1m-1.026          \u001b[0m\u001b[1m \u001b[0m│\n",
       "│ When Statue and Lamp went to the shops, Statue gave the bag to   │\u001b[1;38;2;0;200;0m \u001b[0m\u001b[1;38;2;0;200;0m Lamp  \u001b[0m\u001b[1;38;2;0;200;0m \u001b[0m│\u001b[1;38;2;255;0;0m \u001b[0m\u001b[1;38;2;255;0;0m Statue  \u001b[0m\u001b[1;38;2;255;0;0m \u001b[0m│\u001b[1m \u001b[0m\u001b[1m5.262           \u001b[0m\u001b[1m \u001b[0m│\n",
       "└──────────────────────────────────────────────────────────────────┴─────────┴───────────┴──────────────────┘\n"
      ]
     },
     "metadata": {},
     "output_type": "display_data"
    },
    {
     "name": "stdout",
     "output_type": "stream",
     "text": [
      "torch.Size([20, 50257])\n",
      "torch.Size([20, 50257])\n",
      "torch.Size([20, 50257])\n",
      "torch.Size([20, 50257])\n",
      "torch.Size([20, 50257])\n"
     ]
    },
    {
     "data": {
      "text/html": [
       "<pre style=\"white-space:pre;overflow-x:auto;line-height:normal;font-family:Menlo,'DejaVu Sans Mono',consolas,'Courier New',monospace\"><span style=\"font-style: italic\">                                    Religious Names: Ave logit diff = 3.766                                     </span>\n",
       "┏━━━━━━━━━━━━━━━━━━━━━━━━━━━━━━━━━━━━━━━━━━━━━━━━━━━━━━━━━━━━━━━━━━━━┳━━━━━━━━━━┳━━━━━━━━━━━┳━━━━━━━━━━━━━━━━━━┓\n",
       "┃<span style=\"font-weight: bold\"> Prompt                                                             </span>┃<span style=\"font-weight: bold\"> Correct  </span>┃<span style=\"font-weight: bold\"> Incorrect </span>┃<span style=\"font-weight: bold\"> Logit Difference </span>┃\n",
       "┡━━━━━━━━━━━━━━━━━━━━━━━━━━━━━━━━━━━━━━━━━━━━━━━━━━━━━━━━━━━━━━━━━━━━╇━━━━━━━━━━╇━━━━━━━━━━━╇━━━━━━━━━━━━━━━━━━┩\n",
       "│ When Mary and Abraham went to the shops, Abraham gave the bag to   │<span style=\"color: #00c800; text-decoration-color: #00c800; font-weight: bold\">  Mary    </span>│<span style=\"color: #ff0000; text-decoration-color: #ff0000; font-weight: bold\">  Abraham  </span>│<span style=\"font-weight: bold\"> 4.154            </span>│\n",
       "│ When Mary and Abraham went to the shops, Mary gave the bag to      │<span style=\"color: #00c800; text-decoration-color: #00c800; font-weight: bold\">  Abraham </span>│<span style=\"color: #ff0000; text-decoration-color: #ff0000; font-weight: bold\">  Mary     </span>│<span style=\"font-weight: bold\"> 1.812            </span>│\n",
       "│ When Abraham and Mary went to the shops, Mary gave the bag to      │<span style=\"color: #00c800; text-decoration-color: #00c800; font-weight: bold\">  Abraham </span>│<span style=\"color: #ff0000; text-decoration-color: #ff0000; font-weight: bold\">  Mary     </span>│<span style=\"font-weight: bold\"> 3.620            </span>│\n",
       "│ When Abraham and Mary went to the shops, Abraham gave the bag to   │<span style=\"color: #00c800; text-decoration-color: #00c800; font-weight: bold\">  Mary    </span>│<span style=\"color: #ff0000; text-decoration-color: #ff0000; font-weight: bold\">  Abraham  </span>│<span style=\"font-weight: bold\"> 5.660            </span>│\n",
       "│ When Isaac and Jesus went to the shops, Jesus gave the bag to      │<span style=\"color: #00c800; text-decoration-color: #00c800; font-weight: bold\">  Isaac   </span>│<span style=\"color: #ff0000; text-decoration-color: #ff0000; font-weight: bold\">  Jesus    </span>│<span style=\"font-weight: bold\"> 2.516            </span>│\n",
       "│ When Isaac and Jesus went to the shops, Isaac gave the bag to      │<span style=\"color: #00c800; text-decoration-color: #00c800; font-weight: bold\">  Jesus   </span>│<span style=\"color: #ff0000; text-decoration-color: #ff0000; font-weight: bold\">  Isaac    </span>│<span style=\"font-weight: bold\"> 5.267            </span>│\n",
       "│ When Joseph and Mary went to the shops, Mary gave the bag to       │<span style=\"color: #00c800; text-decoration-color: #00c800; font-weight: bold\">  Joseph  </span>│<span style=\"color: #ff0000; text-decoration-color: #ff0000; font-weight: bold\">  Mary     </span>│<span style=\"font-weight: bold\"> 4.952            </span>│\n",
       "│ When Joseph and Mary went to the shops, Joseph gave the bag to     │<span style=\"color: #00c800; text-decoration-color: #00c800; font-weight: bold\">  Mary    </span>│<span style=\"color: #ff0000; text-decoration-color: #ff0000; font-weight: bold\">  Joseph   </span>│<span style=\"font-weight: bold\"> 2.067            </span>│\n",
       "│ When Abraham and Joseph went to the shops, Joseph gave the bag to  │<span style=\"color: #00c800; text-decoration-color: #00c800; font-weight: bold\">  Abraham </span>│<span style=\"color: #ff0000; text-decoration-color: #ff0000; font-weight: bold\">  Joseph   </span>│<span style=\"font-weight: bold\"> 3.097            </span>│\n",
       "│ When Abraham and Joseph went to the shops, Abraham gave the bag to │<span style=\"color: #00c800; text-decoration-color: #00c800; font-weight: bold\">  Joseph  </span>│<span style=\"color: #ff0000; text-decoration-color: #ff0000; font-weight: bold\">  Abraham  </span>│<span style=\"font-weight: bold\"> 5.581            </span>│\n",
       "│ When Abraham and Jacob went to the shops, Jacob gave the bag to    │<span style=\"color: #00c800; text-decoration-color: #00c800; font-weight: bold\">  Abraham </span>│<span style=\"color: #ff0000; text-decoration-color: #ff0000; font-weight: bold\">  Jacob    </span>│<span style=\"font-weight: bold\"> 3.529            </span>│\n",
       "│ When Abraham and Jacob went to the shops, Abraham gave the bag to  │<span style=\"color: #00c800; text-decoration-color: #00c800; font-weight: bold\">  Jacob   </span>│<span style=\"color: #ff0000; text-decoration-color: #ff0000; font-weight: bold\">  Abraham  </span>│<span style=\"font-weight: bold\"> 4.518            </span>│\n",
       "│ When Abraham and Jesus went to the shops, Jesus gave the bag to    │<span style=\"color: #00c800; text-decoration-color: #00c800; font-weight: bold\">  Abraham </span>│<span style=\"color: #ff0000; text-decoration-color: #ff0000; font-weight: bold\">  Jesus    </span>│<span style=\"font-weight: bold\"> 4.904            </span>│\n",
       "│ When Abraham and Jesus went to the shops, Abraham gave the bag to  │<span style=\"color: #00c800; text-decoration-color: #00c800; font-weight: bold\">  Jesus   </span>│<span style=\"color: #ff0000; text-decoration-color: #ff0000; font-weight: bold\">  Abraham  </span>│<span style=\"font-weight: bold\"> 5.207            </span>│\n",
       "│ When Joseph and Jesus went to the shops, Jesus gave the bag to     │<span style=\"color: #00c800; text-decoration-color: #00c800; font-weight: bold\">  Joseph  </span>│<span style=\"color: #ff0000; text-decoration-color: #ff0000; font-weight: bold\">  Jesus    </span>│<span style=\"font-weight: bold\"> 3.808            </span>│\n",
       "│ When Joseph and Jesus went to the shops, Joseph gave the bag to    │<span style=\"color: #00c800; text-decoration-color: #00c800; font-weight: bold\">  Jesus   </span>│<span style=\"color: #ff0000; text-decoration-color: #ff0000; font-weight: bold\">  Joseph   </span>│<span style=\"font-weight: bold\"> 1.881            </span>│\n",
       "│ When Paul and Jesus went to the shops, Jesus gave the bag to       │<span style=\"color: #00c800; text-decoration-color: #00c800; font-weight: bold\">  Paul    </span>│<span style=\"color: #ff0000; text-decoration-color: #ff0000; font-weight: bold\">  Jesus    </span>│<span style=\"font-weight: bold\"> 3.315            </span>│\n",
       "│ When Paul and Jesus went to the shops, Paul gave the bag to        │<span style=\"color: #00c800; text-decoration-color: #00c800; font-weight: bold\">  Jesus   </span>│<span style=\"color: #ff0000; text-decoration-color: #ff0000; font-weight: bold\">  Paul     </span>│<span style=\"font-weight: bold\"> 2.728            </span>│\n",
       "│ When Abraham and Noah went to the shops, Noah gave the bag to      │<span style=\"color: #00c800; text-decoration-color: #00c800; font-weight: bold\">  Abraham </span>│<span style=\"color: #ff0000; text-decoration-color: #ff0000; font-weight: bold\">  Noah     </span>│<span style=\"font-weight: bold\"> 2.320            </span>│\n",
       "│ When Abraham and Noah went to the shops, Abraham gave the bag to   │<span style=\"color: #00c800; text-decoration-color: #00c800; font-weight: bold\">  Noah    </span>│<span style=\"color: #ff0000; text-decoration-color: #ff0000; font-weight: bold\">  Abraham  </span>│<span style=\"font-weight: bold\"> 4.382            </span>│\n",
       "└────────────────────────────────────────────────────────────────────┴──────────┴───────────┴──────────────────┘\n",
       "</pre>\n"
      ],
      "text/plain": [
       "\u001b[3m                                    Religious Names: Ave logit diff = 3.766                                     \u001b[0m\n",
       "┏━━━━━━━━━━━━━━━━━━━━━━━━━━━━━━━━━━━━━━━━━━━━━━━━━━━━━━━━━━━━━━━━━━━━┳━━━━━━━━━━┳━━━━━━━━━━━┳━━━━━━━━━━━━━━━━━━┓\n",
       "┃\u001b[1m \u001b[0m\u001b[1mPrompt                                                            \u001b[0m\u001b[1m \u001b[0m┃\u001b[1m \u001b[0m\u001b[1mCorrect \u001b[0m\u001b[1m \u001b[0m┃\u001b[1m \u001b[0m\u001b[1mIncorrect\u001b[0m\u001b[1m \u001b[0m┃\u001b[1m \u001b[0m\u001b[1mLogit Difference\u001b[0m\u001b[1m \u001b[0m┃\n",
       "┡━━━━━━━━━━━━━━━━━━━━━━━━━━━━━━━━━━━━━━━━━━━━━━━━━━━━━━━━━━━━━━━━━━━━╇━━━━━━━━━━╇━━━━━━━━━━━╇━━━━━━━━━━━━━━━━━━┩\n",
       "│ When Mary and Abraham went to the shops, Abraham gave the bag to   │\u001b[1;38;2;0;200;0m \u001b[0m\u001b[1;38;2;0;200;0m Mary   \u001b[0m\u001b[1;38;2;0;200;0m \u001b[0m│\u001b[1;38;2;255;0;0m \u001b[0m\u001b[1;38;2;255;0;0m Abraham \u001b[0m\u001b[1;38;2;255;0;0m \u001b[0m│\u001b[1m \u001b[0m\u001b[1m4.154           \u001b[0m\u001b[1m \u001b[0m│\n",
       "│ When Mary and Abraham went to the shops, Mary gave the bag to      │\u001b[1;38;2;0;200;0m \u001b[0m\u001b[1;38;2;0;200;0m Abraham\u001b[0m\u001b[1;38;2;0;200;0m \u001b[0m│\u001b[1;38;2;255;0;0m \u001b[0m\u001b[1;38;2;255;0;0m Mary    \u001b[0m\u001b[1;38;2;255;0;0m \u001b[0m│\u001b[1m \u001b[0m\u001b[1m1.812           \u001b[0m\u001b[1m \u001b[0m│\n",
       "│ When Abraham and Mary went to the shops, Mary gave the bag to      │\u001b[1;38;2;0;200;0m \u001b[0m\u001b[1;38;2;0;200;0m Abraham\u001b[0m\u001b[1;38;2;0;200;0m \u001b[0m│\u001b[1;38;2;255;0;0m \u001b[0m\u001b[1;38;2;255;0;0m Mary    \u001b[0m\u001b[1;38;2;255;0;0m \u001b[0m│\u001b[1m \u001b[0m\u001b[1m3.620           \u001b[0m\u001b[1m \u001b[0m│\n",
       "│ When Abraham and Mary went to the shops, Abraham gave the bag to   │\u001b[1;38;2;0;200;0m \u001b[0m\u001b[1;38;2;0;200;0m Mary   \u001b[0m\u001b[1;38;2;0;200;0m \u001b[0m│\u001b[1;38;2;255;0;0m \u001b[0m\u001b[1;38;2;255;0;0m Abraham \u001b[0m\u001b[1;38;2;255;0;0m \u001b[0m│\u001b[1m \u001b[0m\u001b[1m5.660           \u001b[0m\u001b[1m \u001b[0m│\n",
       "│ When Isaac and Jesus went to the shops, Jesus gave the bag to      │\u001b[1;38;2;0;200;0m \u001b[0m\u001b[1;38;2;0;200;0m Isaac  \u001b[0m\u001b[1;38;2;0;200;0m \u001b[0m│\u001b[1;38;2;255;0;0m \u001b[0m\u001b[1;38;2;255;0;0m Jesus   \u001b[0m\u001b[1;38;2;255;0;0m \u001b[0m│\u001b[1m \u001b[0m\u001b[1m2.516           \u001b[0m\u001b[1m \u001b[0m│\n",
       "│ When Isaac and Jesus went to the shops, Isaac gave the bag to      │\u001b[1;38;2;0;200;0m \u001b[0m\u001b[1;38;2;0;200;0m Jesus  \u001b[0m\u001b[1;38;2;0;200;0m \u001b[0m│\u001b[1;38;2;255;0;0m \u001b[0m\u001b[1;38;2;255;0;0m Isaac   \u001b[0m\u001b[1;38;2;255;0;0m \u001b[0m│\u001b[1m \u001b[0m\u001b[1m5.267           \u001b[0m\u001b[1m \u001b[0m│\n",
       "│ When Joseph and Mary went to the shops, Mary gave the bag to       │\u001b[1;38;2;0;200;0m \u001b[0m\u001b[1;38;2;0;200;0m Joseph \u001b[0m\u001b[1;38;2;0;200;0m \u001b[0m│\u001b[1;38;2;255;0;0m \u001b[0m\u001b[1;38;2;255;0;0m Mary    \u001b[0m\u001b[1;38;2;255;0;0m \u001b[0m│\u001b[1m \u001b[0m\u001b[1m4.952           \u001b[0m\u001b[1m \u001b[0m│\n",
       "│ When Joseph and Mary went to the shops, Joseph gave the bag to     │\u001b[1;38;2;0;200;0m \u001b[0m\u001b[1;38;2;0;200;0m Mary   \u001b[0m\u001b[1;38;2;0;200;0m \u001b[0m│\u001b[1;38;2;255;0;0m \u001b[0m\u001b[1;38;2;255;0;0m Joseph  \u001b[0m\u001b[1;38;2;255;0;0m \u001b[0m│\u001b[1m \u001b[0m\u001b[1m2.067           \u001b[0m\u001b[1m \u001b[0m│\n",
       "│ When Abraham and Joseph went to the shops, Joseph gave the bag to  │\u001b[1;38;2;0;200;0m \u001b[0m\u001b[1;38;2;0;200;0m Abraham\u001b[0m\u001b[1;38;2;0;200;0m \u001b[0m│\u001b[1;38;2;255;0;0m \u001b[0m\u001b[1;38;2;255;0;0m Joseph  \u001b[0m\u001b[1;38;2;255;0;0m \u001b[0m│\u001b[1m \u001b[0m\u001b[1m3.097           \u001b[0m\u001b[1m \u001b[0m│\n",
       "│ When Abraham and Joseph went to the shops, Abraham gave the bag to │\u001b[1;38;2;0;200;0m \u001b[0m\u001b[1;38;2;0;200;0m Joseph \u001b[0m\u001b[1;38;2;0;200;0m \u001b[0m│\u001b[1;38;2;255;0;0m \u001b[0m\u001b[1;38;2;255;0;0m Abraham \u001b[0m\u001b[1;38;2;255;0;0m \u001b[0m│\u001b[1m \u001b[0m\u001b[1m5.581           \u001b[0m\u001b[1m \u001b[0m│\n",
       "│ When Abraham and Jacob went to the shops, Jacob gave the bag to    │\u001b[1;38;2;0;200;0m \u001b[0m\u001b[1;38;2;0;200;0m Abraham\u001b[0m\u001b[1;38;2;0;200;0m \u001b[0m│\u001b[1;38;2;255;0;0m \u001b[0m\u001b[1;38;2;255;0;0m Jacob   \u001b[0m\u001b[1;38;2;255;0;0m \u001b[0m│\u001b[1m \u001b[0m\u001b[1m3.529           \u001b[0m\u001b[1m \u001b[0m│\n",
       "│ When Abraham and Jacob went to the shops, Abraham gave the bag to  │\u001b[1;38;2;0;200;0m \u001b[0m\u001b[1;38;2;0;200;0m Jacob  \u001b[0m\u001b[1;38;2;0;200;0m \u001b[0m│\u001b[1;38;2;255;0;0m \u001b[0m\u001b[1;38;2;255;0;0m Abraham \u001b[0m\u001b[1;38;2;255;0;0m \u001b[0m│\u001b[1m \u001b[0m\u001b[1m4.518           \u001b[0m\u001b[1m \u001b[0m│\n",
       "│ When Abraham and Jesus went to the shops, Jesus gave the bag to    │\u001b[1;38;2;0;200;0m \u001b[0m\u001b[1;38;2;0;200;0m Abraham\u001b[0m\u001b[1;38;2;0;200;0m \u001b[0m│\u001b[1;38;2;255;0;0m \u001b[0m\u001b[1;38;2;255;0;0m Jesus   \u001b[0m\u001b[1;38;2;255;0;0m \u001b[0m│\u001b[1m \u001b[0m\u001b[1m4.904           \u001b[0m\u001b[1m \u001b[0m│\n",
       "│ When Abraham and Jesus went to the shops, Abraham gave the bag to  │\u001b[1;38;2;0;200;0m \u001b[0m\u001b[1;38;2;0;200;0m Jesus  \u001b[0m\u001b[1;38;2;0;200;0m \u001b[0m│\u001b[1;38;2;255;0;0m \u001b[0m\u001b[1;38;2;255;0;0m Abraham \u001b[0m\u001b[1;38;2;255;0;0m \u001b[0m│\u001b[1m \u001b[0m\u001b[1m5.207           \u001b[0m\u001b[1m \u001b[0m│\n",
       "│ When Joseph and Jesus went to the shops, Jesus gave the bag to     │\u001b[1;38;2;0;200;0m \u001b[0m\u001b[1;38;2;0;200;0m Joseph \u001b[0m\u001b[1;38;2;0;200;0m \u001b[0m│\u001b[1;38;2;255;0;0m \u001b[0m\u001b[1;38;2;255;0;0m Jesus   \u001b[0m\u001b[1;38;2;255;0;0m \u001b[0m│\u001b[1m \u001b[0m\u001b[1m3.808           \u001b[0m\u001b[1m \u001b[0m│\n",
       "│ When Joseph and Jesus went to the shops, Joseph gave the bag to    │\u001b[1;38;2;0;200;0m \u001b[0m\u001b[1;38;2;0;200;0m Jesus  \u001b[0m\u001b[1;38;2;0;200;0m \u001b[0m│\u001b[1;38;2;255;0;0m \u001b[0m\u001b[1;38;2;255;0;0m Joseph  \u001b[0m\u001b[1;38;2;255;0;0m \u001b[0m│\u001b[1m \u001b[0m\u001b[1m1.881           \u001b[0m\u001b[1m \u001b[0m│\n",
       "│ When Paul and Jesus went to the shops, Jesus gave the bag to       │\u001b[1;38;2;0;200;0m \u001b[0m\u001b[1;38;2;0;200;0m Paul   \u001b[0m\u001b[1;38;2;0;200;0m \u001b[0m│\u001b[1;38;2;255;0;0m \u001b[0m\u001b[1;38;2;255;0;0m Jesus   \u001b[0m\u001b[1;38;2;255;0;0m \u001b[0m│\u001b[1m \u001b[0m\u001b[1m3.315           \u001b[0m\u001b[1m \u001b[0m│\n",
       "│ When Paul and Jesus went to the shops, Paul gave the bag to        │\u001b[1;38;2;0;200;0m \u001b[0m\u001b[1;38;2;0;200;0m Jesus  \u001b[0m\u001b[1;38;2;0;200;0m \u001b[0m│\u001b[1;38;2;255;0;0m \u001b[0m\u001b[1;38;2;255;0;0m Paul    \u001b[0m\u001b[1;38;2;255;0;0m \u001b[0m│\u001b[1m \u001b[0m\u001b[1m2.728           \u001b[0m\u001b[1m \u001b[0m│\n",
       "│ When Abraham and Noah went to the shops, Noah gave the bag to      │\u001b[1;38;2;0;200;0m \u001b[0m\u001b[1;38;2;0;200;0m Abraham\u001b[0m\u001b[1;38;2;0;200;0m \u001b[0m│\u001b[1;38;2;255;0;0m \u001b[0m\u001b[1;38;2;255;0;0m Noah    \u001b[0m\u001b[1;38;2;255;0;0m \u001b[0m│\u001b[1m \u001b[0m\u001b[1m2.320           \u001b[0m\u001b[1m \u001b[0m│\n",
       "│ When Abraham and Noah went to the shops, Abraham gave the bag to   │\u001b[1;38;2;0;200;0m \u001b[0m\u001b[1;38;2;0;200;0m Noah   \u001b[0m\u001b[1;38;2;0;200;0m \u001b[0m│\u001b[1;38;2;255;0;0m \u001b[0m\u001b[1;38;2;255;0;0m Abraham \u001b[0m\u001b[1;38;2;255;0;0m \u001b[0m│\u001b[1m \u001b[0m\u001b[1m4.382           \u001b[0m\u001b[1m \u001b[0m│\n",
       "└────────────────────────────────────────────────────────────────────┴──────────┴───────────┴──────────────────┘\n"
      ]
     },
     "metadata": {},
     "output_type": "display_data"
    },
    {
     "name": "stdout",
     "output_type": "stream",
     "text": [
      "torch.Size([20, 50257])\n",
      "torch.Size([20, 50257])\n",
      "torch.Size([20, 50257])\n",
      "torch.Size([20, 50257])\n",
      "torch.Size([20, 50257])\n"
     ]
    },
    {
     "data": {
      "text/html": [
       "<pre style=\"white-space:pre;overflow-x:auto;line-height:normal;font-family:Menlo,'DejaVu Sans Mono',consolas,'Courier New',monospace\"><span style=\"font-style: italic\">                                        Place Names: Ave logit diff = 3.243                                        </span>\n",
       "┏━━━━━━━━━━━━━━━━━━━━━━━━━━━━━━━━━━━━━━━━━━━━━━━━━━━━━━━━━━━━━━━━━━━━━━┳━━━━━━━━━━━┳━━━━━━━━━━━┳━━━━━━━━━━━━━━━━━━┓\n",
       "┃<span style=\"font-weight: bold\"> Prompt                                                               </span>┃<span style=\"font-weight: bold\"> Correct   </span>┃<span style=\"font-weight: bold\"> Incorrect </span>┃<span style=\"font-weight: bold\"> Logit Difference </span>┃\n",
       "┡━━━━━━━━━━━━━━━━━━━━━━━━━━━━━━━━━━━━━━━━━━━━━━━━━━━━━━━━━━━━━━━━━━━━━━╇━━━━━━━━━━━╇━━━━━━━━━━━╇━━━━━━━━━━━━━━━━━━┩\n",
       "│ When Devon and Phoenix went to the shops, Phoenix gave the bag to    │<span style=\"color: #00c800; text-decoration-color: #00c800; font-weight: bold\">  Devon    </span>│<span style=\"color: #ff0000; text-decoration-color: #ff0000; font-weight: bold\">  Phoenix  </span>│<span style=\"font-weight: bold\"> 2.833            </span>│\n",
       "│ When Devon and Phoenix went to the shops, Devon gave the bag to      │<span style=\"color: #00c800; text-decoration-color: #00c800; font-weight: bold\">  Phoenix  </span>│<span style=\"color: #ff0000; text-decoration-color: #ff0000; font-weight: bold\">  Devon    </span>│<span style=\"font-weight: bold\"> 7.358            </span>│\n",
       "│ When Austin and London went to the shops, London gave the bag to     │<span style=\"color: #00c800; text-decoration-color: #00c800; font-weight: bold\">  Austin   </span>│<span style=\"color: #ff0000; text-decoration-color: #ff0000; font-weight: bold\">  London   </span>│<span style=\"font-weight: bold\"> 2.329            </span>│\n",
       "│ When Austin and London went to the shops, Austin gave the bag to     │<span style=\"color: #00c800; text-decoration-color: #00c800; font-weight: bold\">  London   </span>│<span style=\"color: #ff0000; text-decoration-color: #ff0000; font-weight: bold\">  Austin   </span>│<span style=\"font-weight: bold\"> 3.869            </span>│\n",
       "│ When Paris and Phoenix went to the shops, Phoenix gave the bag to    │<span style=\"color: #00c800; text-decoration-color: #00c800; font-weight: bold\">  Paris    </span>│<span style=\"color: #ff0000; text-decoration-color: #ff0000; font-weight: bold\">  Phoenix  </span>│<span style=\"font-weight: bold\"> 0.388            </span>│\n",
       "│ When Paris and Phoenix went to the shops, Paris gave the bag to      │<span style=\"color: #00c800; text-decoration-color: #00c800; font-weight: bold\">  Phoenix  </span>│<span style=\"color: #ff0000; text-decoration-color: #ff0000; font-weight: bold\">  Paris    </span>│<span style=\"font-weight: bold\"> 3.778            </span>│\n",
       "│ When Paris and Phoenix went to the shops, Phoenix gave the bag to    │<span style=\"color: #00c800; text-decoration-color: #00c800; font-weight: bold\">  Paris    </span>│<span style=\"color: #ff0000; text-decoration-color: #ff0000; font-weight: bold\">  Phoenix  </span>│<span style=\"font-weight: bold\"> 0.388            </span>│\n",
       "│ When Paris and Phoenix went to the shops, Paris gave the bag to      │<span style=\"color: #00c800; text-decoration-color: #00c800; font-weight: bold\">  Phoenix  </span>│<span style=\"color: #ff0000; text-decoration-color: #ff0000; font-weight: bold\">  Paris    </span>│<span style=\"font-weight: bold\"> 3.778            </span>│\n",
       "│ When London and Austin went to the shops, Austin gave the bag to     │<span style=\"color: #00c800; text-decoration-color: #00c800; font-weight: bold\">  London   </span>│<span style=\"color: #ff0000; text-decoration-color: #ff0000; font-weight: bold\">  Austin   </span>│<span style=\"font-weight: bold\"> -1.930           </span>│\n",
       "│ When London and Austin went to the shops, London gave the bag to     │<span style=\"color: #00c800; text-decoration-color: #00c800; font-weight: bold\">  Austin   </span>│<span style=\"color: #ff0000; text-decoration-color: #ff0000; font-weight: bold\">  London   </span>│<span style=\"font-weight: bold\"> 4.627            </span>│\n",
       "│ When Brooklyn and Phoenix went to the shops, Phoenix gave the bag to │<span style=\"color: #00c800; text-decoration-color: #00c800; font-weight: bold\">  Brooklyn </span>│<span style=\"color: #ff0000; text-decoration-color: #ff0000; font-weight: bold\">  Phoenix  </span>│<span style=\"font-weight: bold\"> 0.111            </span>│\n",
       "│ When Brooklyn and Phoenix went to the shops, Brooklyn gave the bag   │<span style=\"color: #00c800; text-decoration-color: #00c800; font-weight: bold\">  Phoenix  </span>│<span style=\"color: #ff0000; text-decoration-color: #ff0000; font-weight: bold\">  Brooklyn </span>│<span style=\"font-weight: bold\"> 6.009            </span>│\n",
       "│ to                                                                   │<span style=\"color: #00c800; text-decoration-color: #00c800; font-weight: bold\">           </span>│<span style=\"color: #ff0000; text-decoration-color: #ff0000; font-weight: bold\">           </span>│<span style=\"font-weight: bold\">                  </span>│\n",
       "│ When Austin and Phoenix went to the shops, Phoenix gave the bag to   │<span style=\"color: #00c800; text-decoration-color: #00c800; font-weight: bold\">  Austin   </span>│<span style=\"color: #ff0000; text-decoration-color: #ff0000; font-weight: bold\">  Phoenix  </span>│<span style=\"font-weight: bold\"> 3.296            </span>│\n",
       "│ When Austin and Phoenix went to the shops, Austin gave the bag to    │<span style=\"color: #00c800; text-decoration-color: #00c800; font-weight: bold\">  Phoenix  </span>│<span style=\"color: #ff0000; text-decoration-color: #ff0000; font-weight: bold\">  Austin   </span>│<span style=\"font-weight: bold\"> 4.150            </span>│\n",
       "│ When Florence and Phoenix went to the shops, Phoenix gave the bag to │<span style=\"color: #00c800; text-decoration-color: #00c800; font-weight: bold\">  Florence </span>│<span style=\"color: #ff0000; text-decoration-color: #ff0000; font-weight: bold\">  Phoenix  </span>│<span style=\"font-weight: bold\"> 2.819            </span>│\n",
       "│ When Florence and Phoenix went to the shops, Florence gave the bag   │<span style=\"color: #00c800; text-decoration-color: #00c800; font-weight: bold\">  Phoenix  </span>│<span style=\"color: #ff0000; text-decoration-color: #ff0000; font-weight: bold\">  Florence </span>│<span style=\"font-weight: bold\"> 5.793            </span>│\n",
       "│ to                                                                   │<span style=\"color: #00c800; text-decoration-color: #00c800; font-weight: bold\">           </span>│<span style=\"color: #ff0000; text-decoration-color: #ff0000; font-weight: bold\">           </span>│<span style=\"font-weight: bold\">                  </span>│\n",
       "│ When Devon and Austin went to the shops, Austin gave the bag to      │<span style=\"color: #00c800; text-decoration-color: #00c800; font-weight: bold\">  Devon    </span>│<span style=\"color: #ff0000; text-decoration-color: #ff0000; font-weight: bold\">  Austin   </span>│<span style=\"font-weight: bold\"> 2.070            </span>│\n",
       "│ When Devon and Austin went to the shops, Devon gave the bag to       │<span style=\"color: #00c800; text-decoration-color: #00c800; font-weight: bold\">  Austin   </span>│<span style=\"color: #ff0000; text-decoration-color: #ff0000; font-weight: bold\">  Devon    </span>│<span style=\"font-weight: bold\"> 8.993            </span>│\n",
       "│ When London and Florence went to the shops, Florence gave the bag to │<span style=\"color: #00c800; text-decoration-color: #00c800; font-weight: bold\">  London   </span>│<span style=\"color: #ff0000; text-decoration-color: #ff0000; font-weight: bold\">  Florence </span>│<span style=\"font-weight: bold\"> -0.268           </span>│\n",
       "│ When London and Florence went to the shops, London gave the bag to   │<span style=\"color: #00c800; text-decoration-color: #00c800; font-weight: bold\">  Florence </span>│<span style=\"color: #ff0000; text-decoration-color: #ff0000; font-weight: bold\">  London   </span>│<span style=\"font-weight: bold\"> 4.467            </span>│\n",
       "└──────────────────────────────────────────────────────────────────────┴───────────┴───────────┴──────────────────┘\n",
       "</pre>\n"
      ],
      "text/plain": [
       "\u001b[3m                                        Place Names: Ave logit diff = 3.243                                        \u001b[0m\n",
       "┏━━━━━━━━━━━━━━━━━━━━━━━━━━━━━━━━━━━━━━━━━━━━━━━━━━━━━━━━━━━━━━━━━━━━━━┳━━━━━━━━━━━┳━━━━━━━━━━━┳━━━━━━━━━━━━━━━━━━┓\n",
       "┃\u001b[1m \u001b[0m\u001b[1mPrompt                                                              \u001b[0m\u001b[1m \u001b[0m┃\u001b[1m \u001b[0m\u001b[1mCorrect  \u001b[0m\u001b[1m \u001b[0m┃\u001b[1m \u001b[0m\u001b[1mIncorrect\u001b[0m\u001b[1m \u001b[0m┃\u001b[1m \u001b[0m\u001b[1mLogit Difference\u001b[0m\u001b[1m \u001b[0m┃\n",
       "┡━━━━━━━━━━━━━━━━━━━━━━━━━━━━━━━━━━━━━━━━━━━━━━━━━━━━━━━━━━━━━━━━━━━━━━╇━━━━━━━━━━━╇━━━━━━━━━━━╇━━━━━━━━━━━━━━━━━━┩\n",
       "│ When Devon and Phoenix went to the shops, Phoenix gave the bag to    │\u001b[1;38;2;0;200;0m \u001b[0m\u001b[1;38;2;0;200;0m Devon   \u001b[0m\u001b[1;38;2;0;200;0m \u001b[0m│\u001b[1;38;2;255;0;0m \u001b[0m\u001b[1;38;2;255;0;0m Phoenix \u001b[0m\u001b[1;38;2;255;0;0m \u001b[0m│\u001b[1m \u001b[0m\u001b[1m2.833           \u001b[0m\u001b[1m \u001b[0m│\n",
       "│ When Devon and Phoenix went to the shops, Devon gave the bag to      │\u001b[1;38;2;0;200;0m \u001b[0m\u001b[1;38;2;0;200;0m Phoenix \u001b[0m\u001b[1;38;2;0;200;0m \u001b[0m│\u001b[1;38;2;255;0;0m \u001b[0m\u001b[1;38;2;255;0;0m Devon   \u001b[0m\u001b[1;38;2;255;0;0m \u001b[0m│\u001b[1m \u001b[0m\u001b[1m7.358           \u001b[0m\u001b[1m \u001b[0m│\n",
       "│ When Austin and London went to the shops, London gave the bag to     │\u001b[1;38;2;0;200;0m \u001b[0m\u001b[1;38;2;0;200;0m Austin  \u001b[0m\u001b[1;38;2;0;200;0m \u001b[0m│\u001b[1;38;2;255;0;0m \u001b[0m\u001b[1;38;2;255;0;0m London  \u001b[0m\u001b[1;38;2;255;0;0m \u001b[0m│\u001b[1m \u001b[0m\u001b[1m2.329           \u001b[0m\u001b[1m \u001b[0m│\n",
       "│ When Austin and London went to the shops, Austin gave the bag to     │\u001b[1;38;2;0;200;0m \u001b[0m\u001b[1;38;2;0;200;0m London  \u001b[0m\u001b[1;38;2;0;200;0m \u001b[0m│\u001b[1;38;2;255;0;0m \u001b[0m\u001b[1;38;2;255;0;0m Austin  \u001b[0m\u001b[1;38;2;255;0;0m \u001b[0m│\u001b[1m \u001b[0m\u001b[1m3.869           \u001b[0m\u001b[1m \u001b[0m│\n",
       "│ When Paris and Phoenix went to the shops, Phoenix gave the bag to    │\u001b[1;38;2;0;200;0m \u001b[0m\u001b[1;38;2;0;200;0m Paris   \u001b[0m\u001b[1;38;2;0;200;0m \u001b[0m│\u001b[1;38;2;255;0;0m \u001b[0m\u001b[1;38;2;255;0;0m Phoenix \u001b[0m\u001b[1;38;2;255;0;0m \u001b[0m│\u001b[1m \u001b[0m\u001b[1m0.388           \u001b[0m\u001b[1m \u001b[0m│\n",
       "│ When Paris and Phoenix went to the shops, Paris gave the bag to      │\u001b[1;38;2;0;200;0m \u001b[0m\u001b[1;38;2;0;200;0m Phoenix \u001b[0m\u001b[1;38;2;0;200;0m \u001b[0m│\u001b[1;38;2;255;0;0m \u001b[0m\u001b[1;38;2;255;0;0m Paris   \u001b[0m\u001b[1;38;2;255;0;0m \u001b[0m│\u001b[1m \u001b[0m\u001b[1m3.778           \u001b[0m\u001b[1m \u001b[0m│\n",
       "│ When Paris and Phoenix went to the shops, Phoenix gave the bag to    │\u001b[1;38;2;0;200;0m \u001b[0m\u001b[1;38;2;0;200;0m Paris   \u001b[0m\u001b[1;38;2;0;200;0m \u001b[0m│\u001b[1;38;2;255;0;0m \u001b[0m\u001b[1;38;2;255;0;0m Phoenix \u001b[0m\u001b[1;38;2;255;0;0m \u001b[0m│\u001b[1m \u001b[0m\u001b[1m0.388           \u001b[0m\u001b[1m \u001b[0m│\n",
       "│ When Paris and Phoenix went to the shops, Paris gave the bag to      │\u001b[1;38;2;0;200;0m \u001b[0m\u001b[1;38;2;0;200;0m Phoenix \u001b[0m\u001b[1;38;2;0;200;0m \u001b[0m│\u001b[1;38;2;255;0;0m \u001b[0m\u001b[1;38;2;255;0;0m Paris   \u001b[0m\u001b[1;38;2;255;0;0m \u001b[0m│\u001b[1m \u001b[0m\u001b[1m3.778           \u001b[0m\u001b[1m \u001b[0m│\n",
       "│ When London and Austin went to the shops, Austin gave the bag to     │\u001b[1;38;2;0;200;0m \u001b[0m\u001b[1;38;2;0;200;0m London  \u001b[0m\u001b[1;38;2;0;200;0m \u001b[0m│\u001b[1;38;2;255;0;0m \u001b[0m\u001b[1;38;2;255;0;0m Austin  \u001b[0m\u001b[1;38;2;255;0;0m \u001b[0m│\u001b[1m \u001b[0m\u001b[1m-1.930          \u001b[0m\u001b[1m \u001b[0m│\n",
       "│ When London and Austin went to the shops, London gave the bag to     │\u001b[1;38;2;0;200;0m \u001b[0m\u001b[1;38;2;0;200;0m Austin  \u001b[0m\u001b[1;38;2;0;200;0m \u001b[0m│\u001b[1;38;2;255;0;0m \u001b[0m\u001b[1;38;2;255;0;0m London  \u001b[0m\u001b[1;38;2;255;0;0m \u001b[0m│\u001b[1m \u001b[0m\u001b[1m4.627           \u001b[0m\u001b[1m \u001b[0m│\n",
       "│ When Brooklyn and Phoenix went to the shops, Phoenix gave the bag to │\u001b[1;38;2;0;200;0m \u001b[0m\u001b[1;38;2;0;200;0m Brooklyn\u001b[0m\u001b[1;38;2;0;200;0m \u001b[0m│\u001b[1;38;2;255;0;0m \u001b[0m\u001b[1;38;2;255;0;0m Phoenix \u001b[0m\u001b[1;38;2;255;0;0m \u001b[0m│\u001b[1m \u001b[0m\u001b[1m0.111           \u001b[0m\u001b[1m \u001b[0m│\n",
       "│ When Brooklyn and Phoenix went to the shops, Brooklyn gave the bag   │\u001b[1;38;2;0;200;0m \u001b[0m\u001b[1;38;2;0;200;0m Phoenix \u001b[0m\u001b[1;38;2;0;200;0m \u001b[0m│\u001b[1;38;2;255;0;0m \u001b[0m\u001b[1;38;2;255;0;0m Brooklyn\u001b[0m\u001b[1;38;2;255;0;0m \u001b[0m│\u001b[1m \u001b[0m\u001b[1m6.009           \u001b[0m\u001b[1m \u001b[0m│\n",
       "│ to                                                                   │\u001b[1;38;2;0;200;0m           \u001b[0m│\u001b[1;38;2;255;0;0m           \u001b[0m│\u001b[1m                  \u001b[0m│\n",
       "│ When Austin and Phoenix went to the shops, Phoenix gave the bag to   │\u001b[1;38;2;0;200;0m \u001b[0m\u001b[1;38;2;0;200;0m Austin  \u001b[0m\u001b[1;38;2;0;200;0m \u001b[0m│\u001b[1;38;2;255;0;0m \u001b[0m\u001b[1;38;2;255;0;0m Phoenix \u001b[0m\u001b[1;38;2;255;0;0m \u001b[0m│\u001b[1m \u001b[0m\u001b[1m3.296           \u001b[0m\u001b[1m \u001b[0m│\n",
       "│ When Austin and Phoenix went to the shops, Austin gave the bag to    │\u001b[1;38;2;0;200;0m \u001b[0m\u001b[1;38;2;0;200;0m Phoenix \u001b[0m\u001b[1;38;2;0;200;0m \u001b[0m│\u001b[1;38;2;255;0;0m \u001b[0m\u001b[1;38;2;255;0;0m Austin  \u001b[0m\u001b[1;38;2;255;0;0m \u001b[0m│\u001b[1m \u001b[0m\u001b[1m4.150           \u001b[0m\u001b[1m \u001b[0m│\n",
       "│ When Florence and Phoenix went to the shops, Phoenix gave the bag to │\u001b[1;38;2;0;200;0m \u001b[0m\u001b[1;38;2;0;200;0m Florence\u001b[0m\u001b[1;38;2;0;200;0m \u001b[0m│\u001b[1;38;2;255;0;0m \u001b[0m\u001b[1;38;2;255;0;0m Phoenix \u001b[0m\u001b[1;38;2;255;0;0m \u001b[0m│\u001b[1m \u001b[0m\u001b[1m2.819           \u001b[0m\u001b[1m \u001b[0m│\n",
       "│ When Florence and Phoenix went to the shops, Florence gave the bag   │\u001b[1;38;2;0;200;0m \u001b[0m\u001b[1;38;2;0;200;0m Phoenix \u001b[0m\u001b[1;38;2;0;200;0m \u001b[0m│\u001b[1;38;2;255;0;0m \u001b[0m\u001b[1;38;2;255;0;0m Florence\u001b[0m\u001b[1;38;2;255;0;0m \u001b[0m│\u001b[1m \u001b[0m\u001b[1m5.793           \u001b[0m\u001b[1m \u001b[0m│\n",
       "│ to                                                                   │\u001b[1;38;2;0;200;0m           \u001b[0m│\u001b[1;38;2;255;0;0m           \u001b[0m│\u001b[1m                  \u001b[0m│\n",
       "│ When Devon and Austin went to the shops, Austin gave the bag to      │\u001b[1;38;2;0;200;0m \u001b[0m\u001b[1;38;2;0;200;0m Devon   \u001b[0m\u001b[1;38;2;0;200;0m \u001b[0m│\u001b[1;38;2;255;0;0m \u001b[0m\u001b[1;38;2;255;0;0m Austin  \u001b[0m\u001b[1;38;2;255;0;0m \u001b[0m│\u001b[1m \u001b[0m\u001b[1m2.070           \u001b[0m\u001b[1m \u001b[0m│\n",
       "│ When Devon and Austin went to the shops, Devon gave the bag to       │\u001b[1;38;2;0;200;0m \u001b[0m\u001b[1;38;2;0;200;0m Austin  \u001b[0m\u001b[1;38;2;0;200;0m \u001b[0m│\u001b[1;38;2;255;0;0m \u001b[0m\u001b[1;38;2;255;0;0m Devon   \u001b[0m\u001b[1;38;2;255;0;0m \u001b[0m│\u001b[1m \u001b[0m\u001b[1m8.993           \u001b[0m\u001b[1m \u001b[0m│\n",
       "│ When London and Florence went to the shops, Florence gave the bag to │\u001b[1;38;2;0;200;0m \u001b[0m\u001b[1;38;2;0;200;0m London  \u001b[0m\u001b[1;38;2;0;200;0m \u001b[0m│\u001b[1;38;2;255;0;0m \u001b[0m\u001b[1;38;2;255;0;0m Florence\u001b[0m\u001b[1;38;2;255;0;0m \u001b[0m│\u001b[1m \u001b[0m\u001b[1m-0.268          \u001b[0m\u001b[1m \u001b[0m│\n",
       "│ When London and Florence went to the shops, London gave the bag to   │\u001b[1;38;2;0;200;0m \u001b[0m\u001b[1;38;2;0;200;0m Florence\u001b[0m\u001b[1;38;2;0;200;0m \u001b[0m│\u001b[1;38;2;255;0;0m \u001b[0m\u001b[1;38;2;255;0;0m London  \u001b[0m\u001b[1;38;2;255;0;0m \u001b[0m│\u001b[1m \u001b[0m\u001b[1m4.467           \u001b[0m\u001b[1m \u001b[0m│\n",
       "└──────────────────────────────────────────────────────────────────────┴───────────┴───────────┴──────────────────┘\n"
      ]
     },
     "metadata": {},
     "output_type": "display_data"
    }
   ],
   "source": [
    "make_table(prompts_n, ans_n, ans_toks_n, \"nouns\")\n",
    "make_table(prompts_pn, ans_pn, ans_toks_pn, \"proper nouns\")\n",
    "make_table(prompts_rel, ans_rel, ans_toks_rel, \"Religious Names\")\n",
    "make_table(prompts_pl, ans_pl, ans_toks_pl, \"Place Names\")"
   ]
  },
  {
   "attachments": {},
   "cell_type": "markdown",
   "metadata": {},
   "source": [
    "Looking at the top-k logits for each prompt"
   ]
  },
  {
   "cell_type": "code",
   "execution_count": null,
   "metadata": {},
   "outputs": [],
   "source": [
    "\n",
    "prompts = prompts_pl\n",
    "k = 5\n",
    "\n",
    "for sample_prompt in prompts:\n",
    "    sample_logits = model(sample_prompt)\n",
    "    sample_probs = t.softmax(sample_logits[0, -1], dim = -1)\n",
    "    vals, ids = t.topk(sample_probs,k)\n",
    "\n",
    "    print(f\"Prompt = {sample_prompt}\")\n",
    "    for i in range(k):\n",
    "            print(f\"Top {i}th logit. prob = {vals[i]:.2%}, token = {model.tokenizer.decode(ids[i])}\")\n"
   ]
  },
  {
   "attachments": {},
   "cell_type": "markdown",
   "metadata": {},
   "source": [
    "Looking at the attention heads on each distribution"
   ]
  },
  {
   "cell_type": "code",
   "execution_count": 290,
   "metadata": {},
   "outputs": [
    {
     "name": "stdout",
     "output_type": "stream",
     "text": [
      "torch.Size([20, 15, 50257])\n"
     ]
    },
    {
     "data": {
      "text/html": [
       "<div id=\"circuits-vis-a4ffd49e-5975\" style=\"margin: 15px 0;\"/>\n",
       "    <script crossorigin type=\"module\">\n",
       "    import { render, AttentionPatterns } from \"https://unpkg.com/circuitsvis@1.39.1/dist/cdn/esm.js\";\n",
       "    render(\n",
       "      \"circuits-vis-a4ffd49e-5975\",\n",
       "      AttentionPatterns,\n",
       "      {\"tokens\": [[50256, 2215, 6131, 290, 15061, 1816, 284, 262, 12437, 11, 15061, 2921, 262, 6131, 284], [50256, 2215, 6131, 290, 15061, 1816, 284, 262, 12437, 11, 6131, 2921, 262, 6131, 284], [50256, 2215, 15207, 290, 6131, 1816, 284, 262, 12437, 11, 6131, 2921, 262, 6131, 284], [50256, 2215, 15207, 290, 6131, 1816, 284, 262, 12437, 11, 15207, 2921, 262, 6131, 284], [50256, 2215, 23645, 290, 5118, 1816, 284, 262, 12437, 11, 5118, 2921, 262, 6131, 284], [50256, 2215, 23645, 290, 5118, 1816, 284, 262, 12437, 11, 23645, 2921, 262, 6131, 284], [50256, 2215, 23645, 290, 20450, 1816, 284, 262, 12437, 11, 20450, 2921, 262, 6131, 284], [50256, 2215, 23645, 290, 20450, 1816, 284, 262, 12437, 11, 23645, 2921, 262, 6131, 284], [50256, 2215, 20450, 290, 23645, 1816, 284, 262, 12437, 11, 23645, 2921, 262, 6131, 284], [50256, 2215, 20450, 290, 23645, 1816, 284, 262, 12437, 11, 20450, 2921, 262, 6131, 284], [50256, 2215, 15207, 290, 6131, 1816, 284, 262, 12437, 11, 6131, 2921, 262, 6131, 284], [50256, 2215, 15207, 290, 6131, 1816, 284, 262, 12437, 11, 15207, 2921, 262, 6131, 284], [50256, 2215, 6131, 290, 15207, 1816, 284, 262, 12437, 11, 15207, 2921, 262, 6131, 284], [50256, 2215, 6131, 290, 15207, 1816, 284, 262, 12437, 11, 6131, 2921, 262, 6131, 284], [50256, 2215, 6131, 290, 37246, 1816, 284, 262, 12437, 11, 37246, 2921, 262, 6131, 284], [50256, 2215, 6131, 290, 37246, 1816, 284, 262, 12437, 11, 6131, 2921, 262, 6131, 284], [50256, 2215, 23645, 290, 15207, 1816, 284, 262, 12437, 11, 15207, 2921, 262, 6131, 284], [50256, 2215, 23645, 290, 15207, 1816, 284, 262, 12437, 11, 23645, 2921, 262, 6131, 284], [50256, 2215, 15061, 290, 20450, 1816, 284, 262, 12437, 11, 20450, 2921, 262, 6131, 284], [50256, 2215, 15061, 290, 20450, 1816, 284, 262, 12437, 11, 15061, 2921, 262, 6131, 284]], \"attention\": [[[1.0, 0.0, 0.0, 0.0, 0.0, 0.0, 0.0, 0.0, 0.0, 0.0, 0.0, 0.0, 0.0, 0.0, 0.0], [0.9143127202987671, 0.0856873169541359, 0.0, 0.0, 0.0, 0.0, 0.0, 0.0, 0.0, 0.0, 0.0, 0.0, 0.0, 0.0, 0.0], [0.7484957575798035, 0.10880450904369354, 0.1426997035741806, 0.0, 0.0, 0.0, 0.0, 0.0, 0.0, 0.0, 0.0, 0.0, 0.0, 0.0, 0.0], [0.5377978086471558, 0.2611524760723114, 0.17032930254936218, 0.030720407143235207, 0.0, 0.0, 0.0, 0.0, 0.0, 0.0, 0.0, 0.0, 0.0, 0.0, 0.0], [0.4817022681236267, 0.13422629237174988, 0.10082719475030899, 0.1498376429080963, 0.1334066390991211, 0.0, 0.0, 0.0, 0.0, 0.0, 0.0, 0.0, 0.0, 0.0, 0.0], [0.33148378133773804, 0.12347982078790665, 0.25531628727912903, 0.04877795651555061, 0.05386977270245552, 0.18707236647605896, 0.0, 0.0, 0.0, 0.0, 0.0, 0.0, 0.0, 0.0, 0.0], [0.3804680407047272, 0.17397169768810272, 0.17477086186408997, 0.03048902377486229, 0.07283088564872742, 0.1496032178401947, 0.017866332083940506, 0.0, 0.0, 0.0, 0.0, 0.0, 0.0, 0.0, 0.0], [0.45817404985427856, 0.19871406257152557, 0.14602114260196686, 0.020144296810030937, 0.07604395598173141, 0.07121414691209793, 0.011621979996562004, 0.018066437914967537, 0.0, 0.0, 0.0, 0.0, 0.0, 0.0, 0.0], [0.4245922863483429, 0.06231885403394699, 0.111362025141716, 0.11231246590614319, 0.06353705376386642, 0.026697026565670967, 0.09623993188142776, 0.09011345356702805, 0.012826947495341301, 0.0, 0.0, 0.0, 0.0, 0.0, 0.0], [0.4125063121318817, 0.25434595346450806, 0.04993399977684021, 0.010654769837856293, 0.07131488621234894, 0.07358894497156143, 0.010572090744972229, 0.03420275077223778, 0.0751182958483696, 0.007761963177472353, 0.0, 0.0, 0.0, 0.0, 0.0], [0.2035704106092453, 0.061861831694841385, 0.04391743615269661, 0.058034393936395645, 0.055640507489442825, 0.019132442772388458, 0.07919663935899734, 0.04935329407453537, 0.3246442675590515, 0.04661976546049118, 0.05802905187010765, 0.0, 0.0, 0.0, 0.0], [0.19367185235023499, 0.08695662021636963, 0.14525286853313446, 0.023692036047577858, 0.053618285804986954, 0.18959401547908783, 0.01648886688053608, 0.01636066474020481, 0.023633593693375587, 0.01858232170343399, 0.06318387389183044, 0.1689649373292923, 0.0, 0.0, 0.0], [0.3408709168434143, 0.14550545811653137, 0.09940693527460098, 0.012300638481974602, 0.050944577902555466, 0.051360659301280975, 0.007095841225236654, 0.011303061619400978, 0.10207364708185196, 0.018414990976452827, 0.06531797349452972, 0.08135022222995758, 0.014055160805583, 0.0, 0.0], [0.2794583737850189, 0.053771667182445526, 0.07222338020801544, 0.04901693016290665, 0.07620108127593994, 0.025340117514133453, 0.037905316799879074, 0.03368816897273064, 0.11932951211929321, 0.02857120707631111, 0.0821889340877533, 0.026501156389713287, 0.03779713436961174, 0.07800706475973129, 0.0], [0.2246340662240982, 0.102703757584095, 0.09367240220308304, 0.013922582380473614, 0.034811947494745255, 0.08886398375034332, 0.007928741164505482, 0.0195064228028059, 0.06398248672485352, 0.01662713848054409, 0.04410504177212715, 0.09519554674625397, 0.02481488138437271, 0.158241406083107, 0.010989599861204624]], [[1.0, 0.0, 0.0, 0.0, 0.0, 0.0, 0.0, 0.0, 0.0, 0.0, 0.0, 0.0, 0.0, 0.0, 0.0], [0.0005967688630335033, 0.9994032382965088, 0.0, 0.0, 0.0, 0.0, 0.0, 0.0, 0.0, 0.0, 0.0, 0.0, 0.0, 0.0, 0.0], [6.871166260680184e-05, 0.0010877681197598577, 0.9988435506820679, 0.0, 0.0, 0.0, 0.0, 0.0, 0.0, 0.0, 0.0, 0.0, 0.0, 0.0, 0.0], [0.0015949923545122147, 0.014114053919911385, 0.0007914085290394723, 0.9834995269775391, 0.0, 0.0, 0.0, 0.0, 0.0, 0.0, 0.0, 0.0, 0.0, 0.0, 0.0], [2.5750034183147363e-05, 0.0013527929550036788, 0.0015123682096600533, 9.89034233498387e-05, 0.9970101118087769, 0.0, 0.0, 0.0, 0.0, 0.0, 0.0, 0.0, 0.0, 0.0, 0.0], [0.0004077830817550421, 0.0064170691184699535, 0.00546362716704607, 0.0013446881202980876, 0.0017267108196392655, 0.9846401214599609, 0.0, 0.0, 0.0, 0.0, 0.0, 0.0, 0.0, 0.0, 0.0], [0.00292645744048059, 0.01298860926181078, 0.0004928718553856015, 0.05359378084540367, 0.00017066960572265089, 0.0006927409558556974, 0.9291349053382874, 0.0, 0.0, 0.0, 0.0, 0.0, 0.0, 0.0, 0.0], [0.0037184793036431074, 0.012509235180914402, 0.0002971474314108491, 0.05312521010637283, 0.00026287170476280153, 0.0001461190840927884, 0.07760974764823914, 0.8523312211036682, 0.0, 0.0, 0.0, 0.0, 0.0, 0.0, 0.0], [6.805665179854259e-05, 0.00047944538528099656, 0.0024656725581735373, 6.892983219586313e-05, 0.0014420851366594434, 0.0003737462102435529, 4.923760570818558e-05, 0.00010697872494347394, 0.9949458241462708, 0.0, 0.0, 0.0, 0.0, 0.0, 0.0], [0.006762173026800156, 0.001273318543098867, 8.018936932785437e-05, 0.01982205919921398, 0.00020682915055658668, 0.00041508112917654216, 0.007397282402962446, 0.0010417940793558955, 0.0002257221785839647, 0.9627755880355835, 0.0, 0.0, 0.0, 0.0, 0.0], [1.100906592910178e-05, 0.000389128050301224, 0.00045365997357293963, 3.273099719081074e-05, 0.5621790289878845, 0.0001733976387185976, 3.686072159325704e-05, 1.6238303942373022e-05, 0.0031772793736308813, 4.020141568616964e-05, 0.43349045515060425, 0.0, 0.0, 0.0, 0.0], [0.00011134171654703096, 0.01128118485212326, 0.0011453155893832445, 0.0019034412689507008, 0.001104067894630134, 0.007637746166437864, 0.0009674089960753918, 0.0002705726365093142, 0.00011604336032178253, 0.0003320398391224444, 0.0008044150890782475, 0.9743263721466064, 0.0, 0.0, 0.0], [0.0019913893193006516, 0.00417741434648633, 0.00010119862417923287, 0.02272927388548851, 9.940475865732878e-05, 5.76117672608234e-05, 0.03582154959440231, 0.45719999074935913, 3.8638008845737204e-05, 0.006837555672973394, 6.736558134434745e-05, 0.0001059672940755263, 0.4707726836204529, 0.0, 0.0], [3.0502445952151902e-05, 0.00022226182045415044, 0.5008212924003601, 1.831385634432081e-05, 0.00023149138723965734, 0.0003841498983092606, 2.920194856415037e-05, 5.04023591929581e-06, 0.002603356959298253, 2.1032901713624597e-06, 0.00015442498261108994, 0.00012255017645657063, 3.465110921752057e-06, 0.49537187814712524, 0.0], [0.0014923742273822427, 0.0031987049151211977, 0.00013593748735729605, 0.019481167197227478, 5.231553950579837e-05, 0.0002470489125698805, 0.4523881673812866, 0.0010464130900800228, 4.038847328047268e-05, 0.004703063052147627, 3.5406228562351316e-05, 0.00038261566078290343, 0.0009357774979434907, 6.684421532554552e-05, 0.5157938003540039]], [[1.0, 0.0, 0.0, 0.0, 0.0, 0.0, 0.0, 0.0, 0.0, 0.0, 0.0, 0.0, 0.0, 0.0, 0.0], [0.9158194065093994, 0.08418060094118118, 0.0, 0.0, 0.0, 0.0, 0.0, 0.0, 0.0, 0.0, 0.0, 0.0, 0.0, 0.0, 0.0], [0.8419060707092285, 0.10313885658979416, 0.05495510995388031, 0.0, 0.0, 0.0, 0.0, 0.0, 0.0, 0.0, 0.0, 0.0, 0.0, 0.0, 0.0], [0.49423936009407043, 0.06962478905916214, 0.05198288336396217, 0.38415297865867615, 0.0, 0.0, 0.0, 0.0, 0.0, 0.0, 0.0, 0.0, 0.0, 0.0, 0.0], [0.7339027523994446, 0.09549263119697571, 0.05966588109731674, 0.06192481890320778, 0.04901391267776489, 0.0, 0.0, 0.0, 0.0, 0.0, 0.0, 0.0, 0.0, 0.0, 0.0], [0.6121473908424377, 0.14703775942325592, 0.056672919541597366, 0.09391016513109207, 0.043102163821458817, 0.04712953045964241, 0.0, 0.0, 0.0, 0.0, 0.0, 0.0, 0.0, 0.0, 0.0], [0.447934091091156, 0.11747521907091141, 0.04565788805484772, 0.11696071177721024, 0.03563294559717178, 0.056702081114053726, 0.17963705956935883, 0.0, 0.0, 0.0, 0.0, 0.0, 0.0, 0.0, 0.0], [0.39955249428749084, 0.11613477021455765, 0.035608384758234024, 0.10289453715085983, 0.021230263635516167, 0.08469542115926743, 0.21033509075641632, 0.029549013823270798, 0.0, 0.0, 0.0, 0.0, 0.0, 0.0, 0.0], [0.5483944416046143, 0.09401128441095352, 0.06896524876356125, 0.05324510112404823, 0.05365739017724991, 0.039023999124765396, 0.033961787819862366, 0.05936886742711067, 0.049371927976608276, 0.0, 0.0, 0.0, 0.0, 0.0, 0.0], [0.32995885610580444, 0.08958268165588379, 0.027315778657794, 0.0833272784948349, 0.01985478773713112, 0.037166766822338104, 0.04677356034517288, 0.010191641747951508, 0.02066959999501705, 0.335159033536911, 0.0, 0.0, 0.0, 0.0, 0.0], [0.41073283553123474, 0.061467308551073074, 0.04844261705875397, 0.04128101468086243, 0.04092558100819588, 0.037017498165369034, 0.05657169595360756, 0.061827078461647034, 0.17376679182052612, 0.030491847544908524, 0.03747580945491791, 0.0, 0.0, 0.0, 0.0], [0.39217856526374817, 0.11816120147705078, 0.05690118670463562, 0.047862134873867035, 0.025323739275336266, 0.05646160989999771, 0.07595113664865494, 0.04795185104012489, 0.06470713764429092, 0.031075535342097282, 0.02350582927465439, 0.05992017313838005, 0.0, 0.0, 0.0], [0.28919899463653564, 0.0876731276512146, 0.027817027643322945, 0.07676606625318527, 0.01756829023361206, 0.0717538520693779, 0.15795695781707764, 0.021752245724201202, 0.030321141704916954, 0.06833009421825409, 0.017739592120051384, 0.11015105247497559, 0.022971641272306442, 0.0, 0.0], [0.30915528535842896, 0.059691742062568665, 0.051387835294008255, 0.023284589871764183, 0.08742334693670273, 0.04515368491411209, 0.039775554090738297, 0.046566762030124664, 0.10918285697698593, 0.021501757204532623, 0.0856432244181633, 0.027742279693484306, 0.04706858471035957, 0.046422429382801056, 0.0], [0.26568788290023804, 0.07288400828838348, 0.033335037529468536, 0.0732775628566742, 0.027123581618070602, 0.04110364615917206, 0.11359652876853943, 0.0211917944252491, 0.03853633627295494, 0.04557216912508011, 0.02679748646914959, 0.054172318428754807, 0.022023562341928482, 0.03354252129793167, 0.1311555802822113]], [[1.0, 0.0, 0.0, 0.0, 0.0, 0.0, 0.0, 0.0, 0.0, 0.0, 0.0, 0.0, 0.0, 0.0, 0.0], [0.1279163360595703, 0.8720837235450745, 0.0, 0.0, 0.0, 0.0, 0.0, 0.0, 0.0, 0.0, 0.0, 0.0, 0.0, 0.0, 0.0], [0.029087496921420097, 0.003912703599780798, 0.9669997692108154, 0.0, 0.0, 0.0, 0.0, 0.0, 0.0, 0.0, 0.0, 0.0, 0.0, 0.0, 0.0], [0.1275382786989212, 0.19294188916683197, 0.07787421345710754, 0.6016456484794617, 0.0, 0.0, 0.0, 0.0, 0.0, 0.0, 0.0, 0.0, 0.0, 0.0, 0.0], [0.006607658229768276, 0.00016698174295015633, 0.0035406462848186493, 0.00010434025170980021, 0.9895804524421692, 0.0, 0.0, 0.0, 0.0, 0.0, 0.0, 0.0, 0.0, 0.0, 0.0], [0.009291181340813637, 0.002137292642146349, 0.0011820450890809298, 0.001249299617484212, 0.006089845672249794, 0.9800503849983215, 0.0, 0.0, 0.0, 0.0, 0.0, 0.0, 0.0, 0.0, 0.0], [0.017605459317564964, 0.016846025362610817, 0.0029006728436797857, 0.01808052510023117, 0.0024379894603043795, 0.4583966135978699, 0.48373281955718994, 0.0, 0.0, 0.0, 0.0, 0.0, 0.0, 0.0, 0.0], [0.0344315804541111, 0.009767684154212475, 0.008822132833302021, 0.020037716254591942, 0.017593223601579666, 0.08209071308374405, 0.17303484678268433, 0.6542221903800964, 0.0, 0.0, 0.0, 0.0, 0.0, 0.0, 0.0], [0.001622938085347414, 2.1046609617769718e-05, 0.00011129654012620449, 9.444474926567636e-06, 0.0038102075923234224, 0.0005854412447661161, 0.0003846545878332108, 0.00023993397189769894, 0.9932149648666382, 0.0, 0.0, 0.0, 0.0, 0.0, 0.0], [0.027112195268273354, 0.012897318229079247, 0.0011620010482147336, 0.00741049088537693, 0.0018009640043601394, 0.08099032938480377, 0.045944951474666595, 0.12359455227851868, 0.03552957996726036, 0.6635576486587524, 0.0, 0.0, 0.0, 0.0, 0.0], [0.0006928322254680097, 2.7467608560982626e-06, 4.0409810026176274e-05, 1.0110186394740595e-06, 0.014874149113893509, 2.184919867431745e-05, 1.5604198779328726e-05, 1.0568948709988035e-05, 0.0006578777101822197, 4.435060327523388e-05, 0.9836385250091553, 0.0, 0.0, 0.0, 0.0], [0.0006875555845908821, 8.218088623834774e-05, 8.746120329305995e-06, 2.882724947994575e-05, 7.01608951203525e-05, 0.0011544945882633328, 0.0001282705634366721, 0.0002078554971376434, 0.00020744655921589583, 0.0017402315279468894, 0.003431520191952586, 0.992252767086029, 0.0, 0.0, 0.0], [0.01092906016856432, 0.00082471186760813, 0.0005116256652399898, 0.001100956229493022, 0.0008279830799438059, 0.0031704078428447247, 0.005400152876973152, 0.022313978523015976, 0.005834292620420456, 0.05952989310026169, 0.02761114574968815, 0.252081960439682, 0.6098638772964478, 0.0, 0.0], [0.0005186633206903934, 3.855862360069295e-06, 0.000701608310919255, 2.3774678084009793e-06, 0.0001327795907855034, 8.929263276513666e-05, 1.2745715139317326e-05, 1.266045273951022e-05, 0.0016015931032598019, 8.632102253613994e-05, 0.006770063657313585, 0.006131739821285009, 0.00035970695898868144, 0.9835764765739441, 0.0], [0.0025642456021159887, 0.00032281523454003036, 2.8406166165950708e-05, 0.00017282110638916492, 1.4465206731983926e-05, 0.0028957051690667868, 0.00204870430752635, 0.002764428500086069, 0.00013766389747615904, 0.006830805912613869, 0.0003911044041160494, 0.25494125485420227, 0.09065467864274979, 0.00972267147153616, 0.6265102624893188]], [[1.0, 0.0, 0.0, 0.0, 0.0, 0.0, 0.0, 0.0, 0.0, 0.0, 0.0, 0.0, 0.0, 0.0, 0.0], [0.7374811768531799, 0.26251885294914246, 0.0, 0.0, 0.0, 0.0, 0.0, 0.0, 0.0, 0.0, 0.0, 0.0, 0.0, 0.0, 0.0], [0.13306193053722382, 0.04684866592288017, 0.8200894594192505, 0.0, 0.0, 0.0, 0.0, 0.0, 0.0, 0.0, 0.0, 0.0, 0.0, 0.0, 0.0], [0.1967020183801651, 0.365486204624176, 0.26331913471221924, 0.17449267208576202, 0.0, 0.0, 0.0, 0.0, 0.0, 0.0, 0.0, 0.0, 0.0, 0.0, 0.0], [0.10781054943799973, 0.02984154038131237, 0.03372327238321304, 0.004521216731518507, 0.8241034150123596, 0.0, 0.0, 0.0, 0.0, 0.0, 0.0, 0.0, 0.0, 0.0, 0.0], [0.19513583183288574, 0.1493077278137207, 0.0700080618262291, 0.055053092539310455, 0.1490783840417862, 0.38141685724258423, 0.0, 0.0, 0.0, 0.0, 0.0, 0.0, 0.0, 0.0, 0.0], [0.064156673848629, 0.06451255083084106, 0.02563326060771942, 0.023706065490841866, 0.0591411255300045, 0.6282256841659546, 0.1346246898174286, 0.0, 0.0, 0.0, 0.0, 0.0, 0.0, 0.0, 0.0], [0.13260728120803833, 0.12195123732089996, 0.04922417923808098, 0.039631329476833344, 0.1109500303864479, 0.2834295630455017, 0.12330158799886703, 0.13890480995178223, 0.0, 0.0, 0.0, 0.0, 0.0, 0.0, 0.0], [0.03446248918771744, 0.008889123797416687, 0.023034820333123207, 0.009464328177273273, 0.130303755402565, 0.02579748071730137, 0.019810648635029793, 0.027042658999562263, 0.7211946249008179, 0.0, 0.0, 0.0, 0.0, 0.0, 0.0], [0.05112728849053383, 0.5410791635513306, 0.006737284827977419, 0.01378589030355215, 0.024671653285622597, 0.06911105662584305, 0.04735080897808075, 0.025495145469903946, 0.05505872145295143, 0.1655830591917038, 0.0, 0.0, 0.0, 0.0, 0.0], [0.03735381364822388, 0.006364631932228804, 0.005400985013693571, 0.000914285599719733, 0.13201026618480682, 0.009164544753730297, 0.0015592165291309357, 0.003587530693039298, 0.009492380544543266, 0.004352639429271221, 0.789799690246582, 0.0, 0.0, 0.0, 0.0], [0.06969358026981354, 0.03478448837995529, 0.014993158169090748, 0.011839875020086765, 0.03392266109585762, 0.0348220020532608, 0.027914410457015038, 0.018970265984535217, 0.041644930839538574, 0.04295413941144943, 0.17127971351146698, 0.4971807599067688, 0.0, 0.0, 0.0], [0.05524802580475807, 0.03247055783867836, 0.010943345725536346, 0.009592631831765175, 0.018631931394338608, 0.05505969375371933, 0.022578176110982895, 0.025466781109571457, 0.05701964721083641, 0.041326478123664856, 0.10757935792207718, 0.4171612858772278, 0.14692208170890808, 0.0, 0.0], [0.013836008496582508, 0.0028349438216537237, 0.03532487899065018, 0.0009823435684666038, 0.008612001314759254, 0.0051149651408195496, 0.000870449177455157, 0.0029610642232000828, 0.017294812947511673, 0.006074356846511364, 0.04469132050871849, 0.03472390025854111, 0.015393301844596863, 0.811285674571991, 0.0], [0.021075615659356117, 0.011455143801867962, 0.0034027432557195425, 0.0037103367503732443, 0.004979216493666172, 0.07383842021226883, 0.013611300848424435, 0.008335191756486893, 0.016353273764252663, 0.012020944617688656, 0.02917046658694744, 0.3979688286781311, 0.053470078855752945, 0.07925871759653091, 0.2713496685028076]], [[1.0, 0.0, 0.0, 0.0, 0.0, 0.0, 0.0, 0.0, 0.0, 0.0, 0.0, 0.0, 0.0, 0.0, 0.0], [0.19431143999099731, 0.8056885600090027, 0.0, 0.0, 0.0, 0.0, 0.0, 0.0, 0.0, 0.0, 0.0, 0.0, 0.0, 0.0, 0.0], [0.05190787836909294, 9.399704140378162e-06, 0.948082685470581, 0.0, 0.0, 0.0, 0.0, 0.0, 0.0, 0.0, 0.0, 0.0, 0.0, 0.0, 0.0], [0.34811529517173767, 0.05000368505716324, 0.012897801585495472, 0.5889831781387329, 0.0, 0.0, 0.0, 0.0, 0.0, 0.0, 0.0, 0.0, 0.0, 0.0, 0.0], [0.003818307537585497, 1.3345542129172827e-06, 4.1311071981908754e-05, 3.098633101217274e-07, 0.9961387515068054, 0.0, 0.0, 0.0, 0.0, 0.0, 0.0, 0.0, 0.0, 0.0, 0.0], [0.010468904860317707, 0.000175417386344634, 0.003066427307203412, 3.224095416953787e-05, 1.9455404981272295e-05, 0.9862375259399414, 0.0, 0.0, 0.0, 0.0, 0.0, 0.0, 0.0, 0.0, 0.0], [0.15613920986652374, 0.04431788623332977, 0.016880899667739868, 0.10447873175144196, 0.0026688987854868174, 0.013303556479513645, 0.6622107625007629, 0.0, 0.0, 0.0, 0.0, 0.0, 0.0, 0.0, 0.0], [0.12408671528100967, 0.1301952451467514, 0.09055610001087189, 0.1024893969297409, 0.010487033985555172, 0.034400831907987595, 0.10884729772806168, 0.3989373445510864, 0.0, 0.0, 0.0, 0.0, 0.0, 0.0, 0.0], [0.0007012402638792992, 7.433512109855656e-06, 0.00035547089646570385, 3.80574007863288e-08, 4.909235212835483e-05, 1.0586380994936917e-05, 6.1003606610654515e-09, 4.191755209603798e-08, 0.9988762736320496, 0.0, 0.0, 0.0, 0.0, 0.0, 0.0], [0.1369638890028, 0.12693174183368683, 0.04687412828207016, 0.14638735353946686, 0.0161187332123518, 0.04830196872353554, 0.08074543625116348, 0.12928515672683716, 0.027416488155722618, 0.24097514152526855, 0.0, 0.0, 0.0, 0.0, 0.0], [0.0006453976966440678, 4.963992523698835e-07, 1.2936771781824064e-05, 6.871388080753604e-08, 0.4980286657810211, 1.3027583634084294e-07, 1.3393618658597006e-08, 6.935938934304886e-09, 2.0068398953299038e-05, 3.235210499497043e-08, 0.5012922883033752, 0.0, 0.0, 0.0, 0.0], [0.004904930014163256, 0.0007697446271777153, 0.0024344336707144976, 2.6061974494950846e-05, 1.817391785152722e-05, 0.009926778264343739, 3.165115231240634e-06, 1.1893617738678586e-05, 2.4685761673026718e-05, 1.650981062084611e-06, 7.898595868027769e-06, 0.9818705320358276, 0.0, 0.0, 0.0], [0.05198622867465019, 0.11454637348651886, 0.05876125022768974, 0.07100003957748413, 0.00618481682613492, 0.029091598466038704, 0.07914716005325317, 0.3060222864151001, 0.012624887749552727, 0.023375486955046654, 0.003346347250044346, 0.015673277899622917, 0.2282402068376541, 0.0, 0.0], [0.004409101326018572, 2.8825406843679957e-06, 0.6661272644996643, 1.3178976132621756e-07, 1.4319921319838613e-05, 2.0947354641975835e-05, 3.767063816439986e-08, 1.4717809904141177e-07, 4.262421134626493e-05, 3.1742374062559975e-08, 5.84407098358497e-06, 2.8150577691121725e-06, 7.253149192365527e-08, 0.3293737769126892, 0.0], [0.032775890082120895, 0.02729976922273636, 0.006615896709263325, 0.04780610650777817, 0.0008829101570881903, 0.007805416360497475, 0.3643108010292053, 0.1321740597486496, 0.0007975626504048705, 0.012931020930409431, 0.0004543220275081694, 0.0040951985865831375, 0.10417588800191879, 0.0017851782031357288, 0.256089985370636]], [[1.0, 0.0, 0.0, 0.0, 0.0, 0.0, 0.0, 0.0, 0.0, 0.0, 0.0, 0.0, 0.0, 0.0, 0.0], [0.8965986967086792, 0.10340125858783722, 0.0, 0.0, 0.0, 0.0, 0.0, 0.0, 0.0, 0.0, 0.0, 0.0, 0.0, 0.0, 0.0], [0.8051924705505371, 0.09080488234758377, 0.10400267690420151, 0.0, 0.0, 0.0, 0.0, 0.0, 0.0, 0.0, 0.0, 0.0, 0.0, 0.0, 0.0], [0.4778312146663666, 0.18337857723236084, 0.314716100692749, 0.024074075743556023, 0.0, 0.0, 0.0, 0.0, 0.0, 0.0, 0.0, 0.0, 0.0, 0.0, 0.0], [0.4712181091308594, 0.06522528827190399, 0.1914641559123993, 0.0783461481332779, 0.19374628365039825, 0.0, 0.0, 0.0, 0.0, 0.0, 0.0, 0.0, 0.0, 0.0, 0.0], [0.3098268210887909, 0.12670189142227173, 0.2889094054698944, 0.044765155762434006, 0.17712004482746124, 0.05267660692334175, 0.0, 0.0, 0.0, 0.0, 0.0, 0.0, 0.0, 0.0, 0.0], [0.17894062399864197, 0.12550967931747437, 0.12014823406934738, 0.013377373106777668, 0.11243989318609238, 0.07834023237228394, 0.37124401330947876, 0.0, 0.0, 0.0, 0.0, 0.0, 0.0, 0.0, 0.0], [0.23375461995601654, 0.09411060065031052, 0.3228757679462433, 0.00672947708517313, 0.22613617777824402, 0.09950830787420273, 0.012458458542823792, 0.00442673172801733, 0.0, 0.0, 0.0, 0.0, 0.0, 0.0, 0.0], [0.3777424395084381, 0.034613437950611115, 0.07712730020284653, 0.028764082118868828, 0.12248912453651428, 0.010684597305953503, 0.008767202496528625, 0.02833024226129055, 0.3114815652370453, 0.0, 0.0, 0.0, 0.0, 0.0, 0.0], [0.23357729613780975, 0.10602439939975739, 0.16243824362754822, 0.010362006723880768, 0.15997031331062317, 0.07272239774465561, 0.023192767053842545, 0.0075971996411681175, 0.21698780357837677, 0.0071275494992733, 0.0, 0.0, 0.0, 0.0, 0.0], [0.252263605594635, 0.0343778058886528, 0.13674624264240265, 0.04323848709464073, 0.1337343007326126, 0.015011759474873543, 0.009731131605803967, 0.049152620136737823, 0.14703106880187988, 0.04682786390185356, 0.13188515603542328, 0.0, 0.0, 0.0, 0.0], [0.15603964030742645, 0.06432189792394638, 0.11241805553436279, 0.02023424580693245, 0.12358611077070236, 0.03504864498972893, 0.015887096524238586, 0.02061571180820465, 0.2425665408372879, 0.017521465197205544, 0.15151813626289368, 0.04024241492152214, 0.0, 0.0, 0.0], [0.11868808418512344, 0.04601597040891647, 0.17703063786029816, 0.0029789870604872704, 0.12135101109743118, 0.05347704887390137, 0.005852917674928904, 0.001823458238504827, 0.2358195036649704, 0.002016122918576002, 0.16830545663833618, 0.06446698307991028, 0.0021738542709499598, 0.0, 0.0], [0.27577903866767883, 0.037546657025814056, 0.0747230127453804, 0.028061015531420708, 0.1474548727273941, 0.021324651315808296, 0.02057831361889839, 0.029027298092842102, 0.09470037370920181, 0.026501858606934547, 0.1434328705072403, 0.013218413107097149, 0.029677972197532654, 0.05797367915511131, 0.0], [0.07050959020853043, 0.046902138739824295, 0.054576974362134933, 0.004465633537620306, 0.04989295080304146, 0.03448709100484848, 0.15982557833194733, 0.003085631877183914, 0.05324282497167587, 0.003847187152132392, 0.07199892401695251, 0.053634144365787506, 0.003963560331612825, 0.10358789563179016, 0.2859799563884735]], [[1.0, 0.0, 0.0, 0.0, 0.0, 0.0, 0.0, 0.0, 0.0, 0.0, 0.0, 0.0, 0.0, 0.0, 0.0], [0.9723109602928162, 0.02768908441066742, 0.0, 0.0, 0.0, 0.0, 0.0, 0.0, 0.0, 0.0, 0.0, 0.0, 0.0, 0.0, 0.0], [0.5711203217506409, 0.3365076780319214, 0.09237200021743774, 0.0, 0.0, 0.0, 0.0, 0.0, 0.0, 0.0, 0.0, 0.0, 0.0, 0.0, 0.0], [0.31548240780830383, 0.27286964654922485, 0.14285871386528015, 0.26878923177719116, 0.0, 0.0, 0.0, 0.0, 0.0, 0.0, 0.0, 0.0, 0.0, 0.0, 0.0], [0.20178888738155365, 0.21649178862571716, 0.055184073746204376, 0.4148992896080017, 0.11163607239723206, 0.0, 0.0, 0.0, 0.0, 0.0, 0.0, 0.0, 0.0, 0.0, 0.0], [0.18411672115325928, 0.13350555300712585, 0.05191017687320709, 0.22521823644638062, 0.19105593860149384, 0.2141934037208557, 0.0, 0.0, 0.0, 0.0, 0.0, 0.0, 0.0, 0.0, 0.0], [0.13044707477092743, 0.07915059477090836, 0.039415933191776276, 0.11540856957435608, 0.0900263711810112, 0.28960591554641724, 0.25594547390937805, 0.0, 0.0, 0.0, 0.0, 0.0, 0.0, 0.0, 0.0], [0.11522830277681351, 0.046285197138786316, 0.02382700890302658, 0.08028516918420792, 0.06758803129196167, 0.14781270921230316, 0.21851041913032532, 0.30046316981315613, 0.0, 0.0, 0.0, 0.0, 0.0, 0.0, 0.0], [0.05334719642996788, 0.01833391934633255, 0.04114516079425812, 0.056531358510255814, 0.2007436454296112, 0.09922011941671371, 0.16514824330806732, 0.2663879692554474, 0.09914235025644302, 0.0, 0.0, 0.0, 0.0, 0.0, 0.0], [0.05425887927412987, 0.025801097974181175, 0.01227461639791727, 0.036289699375629425, 0.03968439996242523, 0.06976662576198578, 0.08621533215045929, 0.17429335415363312, 0.16064029932022095, 0.34077563881874084, 0.0, 0.0, 0.0, 0.0, 0.0], [0.05446381866931915, 0.02784106880426407, 0.007238267920911312, 0.049328260123729706, 0.012385478243231773, 0.06561093777418137, 0.13569045066833496, 0.18740546703338623, 0.018633507192134857, 0.34446147084236145, 0.09694139659404755, 0.0, 0.0, 0.0, 0.0], [0.054531075060367584, 0.02179861068725586, 0.008915443904697895, 0.025176862254738808, 0.007991425693035126, 0.02796139568090439, 0.06162848696112633, 0.10484318435192108, 0.05730317533016205, 0.25476500391960144, 0.07031632959842682, 0.30476900935173035, 0.0, 0.0, 0.0], [0.04667726159095764, 0.008368460461497307, 0.004089950118213892, 0.012884292751550674, 0.009215513244271278, 0.018617110326886177, 0.024175576865673065, 0.033548545092344284, 0.03142004460096359, 0.12636204063892365, 0.09087009727954865, 0.28271374106407166, 0.3110574185848236, 0.0, 0.0], [0.03945254534482956, 0.0078039951622486115, 0.003116755746304989, 0.014368630945682526, 0.023578444495797157, 0.015992818400263786, 0.029906926676630974, 0.033792249858379364, 0.028655441477894783, 0.08470653742551804, 0.15587136149406433, 0.215815931558609, 0.2555132806301117, 0.09142503887414932, 0.0], [0.034079764038324356, 0.006599755492061377, 0.0030555122066289186, 0.0077856434509158134, 0.004300144966691732, 0.014129367657005787, 0.009288947097957134, 0.021387051790952682, 0.020128769800066948, 0.055888060480356216, 0.03447824344038963, 0.13766856491565704, 0.19222812354564667, 0.14838945865631104, 0.3105925917625427]], [[1.0, 0.0, 0.0, 0.0, 0.0, 0.0, 0.0, 0.0, 0.0, 0.0, 0.0, 0.0, 0.0, 0.0, 0.0], [0.9219158291816711, 0.07808423042297363, 0.0, 0.0, 0.0, 0.0, 0.0, 0.0, 0.0, 0.0, 0.0, 0.0, 0.0, 0.0, 0.0], [0.6351755857467651, 0.12532447278499603, 0.23949983716011047, 0.0, 0.0, 0.0, 0.0, 0.0, 0.0, 0.0, 0.0, 0.0, 0.0, 0.0, 0.0], [0.23095150291919708, 0.058884117752313614, 0.06453292816877365, 0.6456314325332642, 0.0, 0.0, 0.0, 0.0, 0.0, 0.0, 0.0, 0.0, 0.0, 0.0, 0.0], [0.3060806691646576, 0.16393981873989105, 0.229576975107193, 0.12445370107889175, 0.17594881355762482, 0.0, 0.0, 0.0, 0.0, 0.0, 0.0, 0.0, 0.0, 0.0, 0.0], [0.3502123951911926, 0.12273675948381424, 0.07514120638370514, 0.28516682982444763, 0.11904163658618927, 0.04770113527774811, 0.0, 0.0, 0.0, 0.0, 0.0, 0.0, 0.0, 0.0, 0.0], [0.07163318246603012, 0.025438889861106873, 0.03368697315454483, 0.3304911255836487, 0.02256041206419468, 0.06047986447811127, 0.45570963621139526, 0.0, 0.0, 0.0, 0.0, 0.0, 0.0, 0.0, 0.0], [0.038269367069005966, 0.012462752871215343, 0.016024207696318626, 0.20233985781669617, 0.016488507390022278, 0.050165802240371704, 0.1994449645280838, 0.46480458974838257, 0.0, 0.0, 0.0, 0.0, 0.0, 0.0, 0.0], [0.4015868604183197, 0.12676630914211273, 0.026178298518061638, 0.10256515443325043, 0.0157639067620039, 0.037913478910923004, 0.09349646419286728, 0.11325942724943161, 0.08247017860412598, 0.0, 0.0, 0.0, 0.0, 0.0, 0.0], [0.05341191589832306, 0.009704364463686943, 0.012680738233029842, 0.17876972258090973, 0.007538449484854937, 0.020389430224895477, 0.1482546329498291, 0.2208957076072693, 0.008778189308941364, 0.33957675099372864, 0.0, 0.0, 0.0, 0.0, 0.0], [0.15573559701442719, 0.09195005148649216, 0.15594582259655, 0.06911719590425491, 0.11453275382518768, 0.02809477224946022, 0.054456405341625214, 0.06677123159170151, 0.1049494594335556, 0.04387874901294708, 0.11456800997257233, 0.0, 0.0, 0.0, 0.0], [0.11948224157094955, 0.05868815630674362, 0.03630988672375679, 0.11010245978832245, 0.08781788498163223, 0.034749552607536316, 0.09800298511981964, 0.1303102672100067, 0.061146922409534454, 0.11901841312646866, 0.10912755876779556, 0.035243649035692215, 0.0, 0.0, 0.0], [0.017756856977939606, 0.005518218502402306, 0.008189619518816471, 0.09786687791347504, 0.008195039816200733, 0.025920119136571884, 0.08897871524095535, 0.20613889396190643, 0.008695383556187153, 0.19119524955749512, 0.011456196196377277, 0.030379682779312134, 0.29970914125442505, 0.0, 0.0], [0.1590372920036316, 0.04183781519532204, 0.13321784138679504, 0.036152224987745285, 0.11852820217609406, 0.02471093460917473, 0.02906314842402935, 0.038124702870845795, 0.04798546060919762, 0.02991218864917755, 0.1254701018333435, 0.030989311635494232, 0.04084710404276848, 0.14412367343902588, 0.0], [0.017825881019234657, 0.0060394033789634705, 0.010022895410656929, 0.08740191161632538, 0.0069634742103517056, 0.017832640558481216, 0.11203937977552414, 0.1476450264453888, 0.006455494090914726, 0.12722139060497284, 0.009392797015607357, 0.01753219962120056, 0.21445846557617188, 0.01930634304881096, 0.19986268877983093]], [[1.0, 0.0, 0.0, 0.0, 0.0, 0.0, 0.0, 0.0, 0.0, 0.0, 0.0, 0.0, 0.0, 0.0, 0.0], [0.8476239442825317, 0.15237605571746826, 0.0, 0.0, 0.0, 0.0, 0.0, 0.0, 0.0, 0.0, 0.0, 0.0, 0.0, 0.0, 0.0], [0.8418556451797485, 0.13394033908843994, 0.02420406974852085, 0.0, 0.0, 0.0, 0.0, 0.0, 0.0, 0.0, 0.0, 0.0, 0.0, 0.0, 0.0], [0.6166761517524719, 0.16290174424648285, 0.06448303908109665, 0.15593910217285156, 0.0, 0.0, 0.0, 0.0, 0.0, 0.0, 0.0, 0.0, 0.0, 0.0, 0.0], [0.6471567749977112, 0.13743700087070465, 0.08301199227571487, 0.11932455748319626, 0.013069621287286282, 0.0, 0.0, 0.0, 0.0, 0.0, 0.0, 0.0, 0.0, 0.0, 0.0], [0.4968644380569458, 0.15956173837184906, 0.06878620386123657, 0.13441899418830872, 0.059947725385427475, 0.08042082190513611, 0.0, 0.0, 0.0, 0.0, 0.0, 0.0, 0.0, 0.0, 0.0], [0.4100151062011719, 0.12707367539405823, 0.0595085509121418, 0.13508561253547668, 0.059498824179172516, 0.0681716725230217, 0.1406465619802475, 0.0, 0.0, 0.0, 0.0, 0.0, 0.0, 0.0, 0.0], [0.3947393596172333, 0.1235746517777443, 0.0458766408264637, 0.11385516822338104, 0.04270019754767418, 0.06185179203748703, 0.11833761632442474, 0.09906445443630219, 0.0, 0.0, 0.0, 0.0, 0.0, 0.0, 0.0], [0.48826083540916443, 0.10748729109764099, 0.047843679785728455, 0.0907699316740036, 0.04226034879684448, 0.04862728714942932, 0.07522981613874435, 0.07947176694869995, 0.020049013197422028, 0.0, 0.0, 0.0, 0.0, 0.0, 0.0], [0.3351440727710724, 0.11611784249544144, 0.04440717771649361, 0.1007249653339386, 0.03945029526948929, 0.05771366134285927, 0.09871958196163177, 0.07888463884592056, 0.046353381127119064, 0.08248436450958252, 0.0, 0.0, 0.0, 0.0, 0.0], [0.4074571132659912, 0.09419389069080353, 0.06762881577014923, 0.08047656714916229, 0.009293352253735065, 0.04615093022584915, 0.07797882705926895, 0.07800068706274033, 0.050446316599845886, 0.07969140261411667, 0.00868205726146698, 0.0, 0.0, 0.0, 0.0], [0.2735164761543274, 0.08930091559886932, 0.045449674129486084, 0.07959834486246109, 0.04698765277862549, 0.06836263835430145, 0.08072228729724884, 0.06614939868450165, 0.06334388256072998, 0.074818916618824, 0.05050957575440407, 0.06124023348093033, 0.0, 0.0, 0.0], [0.28114885091781616, 0.08760125935077667, 0.03573482111096382, 0.08082693815231323, 0.03273319453001022, 0.046733058989048004, 0.08199594914913177, 0.06905803829431534, 0.04145205020904541, 0.07012321799993515, 0.033430065959692, 0.0625736266374588, 0.0765889510512352, 0.0, 0.0], [0.3372124433517456, 0.06600078195333481, 0.014068542048335075, 0.06951402872800827, 0.05825072154402733, 0.038639552891254425, 0.06191832944750786, 0.057286325842142105, 0.057479340583086014, 0.06202441081404686, 0.060496218502521515, 0.04129233956336975, 0.06359575688838959, 0.012221165932714939, 0.0], [0.214349627494812, 0.06704241782426834, 0.03784327208995819, 0.07200061529874802, 0.036917805671691895, 0.04028593748807907, 0.072096087038517, 0.06459084153175354, 0.039285626262426376, 0.061790648847818375, 0.038517534732818604, 0.05585860088467598, 0.07280389964580536, 0.03952797129750252, 0.08708903938531876]], [[1.0, 0.0, 0.0, 0.0, 0.0, 0.0, 0.0, 0.0, 0.0, 0.0, 0.0, 0.0, 0.0, 0.0, 0.0], [0.772312581539154, 0.22768744826316833, 0.0, 0.0, 0.0, 0.0, 0.0, 0.0, 0.0, 0.0, 0.0, 0.0, 0.0, 0.0, 0.0], [0.6207528114318848, 0.11705503612756729, 0.26219210028648376, 0.0, 0.0, 0.0, 0.0, 0.0, 0.0, 0.0, 0.0, 0.0, 0.0, 0.0, 0.0], [0.5974264740943909, 0.17630474269390106, 0.05739963799715042, 0.16886913776397705, 0.0, 0.0, 0.0, 0.0, 0.0, 0.0, 0.0, 0.0, 0.0, 0.0, 0.0], [0.4032992124557495, 0.14473992586135864, 0.051396194845438004, 0.1261204034090042, 0.27444422245025635, 0.0, 0.0, 0.0, 0.0, 0.0, 0.0, 0.0, 0.0, 0.0, 0.0], [0.3474699854850769, 0.1847945749759674, 0.08266180008649826, 0.12836989760398865, 0.03012150526046753, 0.22658222913742065, 0.0, 0.0, 0.0, 0.0, 0.0, 0.0, 0.0, 0.0, 0.0], [0.3424665927886963, 0.14485280215740204, 0.06778892129659653, 0.16843627393245697, 0.0439603291451931, 0.07387612015008926, 0.15861892700195312, 0.0, 0.0, 0.0, 0.0, 0.0, 0.0, 0.0, 0.0], [0.3741568624973297, 0.1310724914073944, 0.04080754518508911, 0.12477315217256546, 0.03487374261021614, 0.037585705518722534, 0.0965491384267807, 0.1601814478635788, 0.0, 0.0, 0.0, 0.0, 0.0, 0.0, 0.0], [0.2585959732532501, 0.09626518189907074, 0.06867659837007523, 0.08953520655632019, 0.05833890661597252, 0.04648061469197273, 0.0685553327202797, 0.06307607144117355, 0.25047606229782104, 0.0, 0.0, 0.0, 0.0, 0.0, 0.0], [0.26512500643730164, 0.10889644920825958, 0.04232815280556679, 0.13068120181560516, 0.051100101321935654, 0.05999206006526947, 0.11483840644359589, 0.08534780144691467, 0.0430840402841568, 0.09860675781965256, 0.0, 0.0, 0.0, 0.0, 0.0], [0.15802495181560516, 0.06961824744939804, 0.03152736648917198, 0.07348340004682541, 0.2550657391548157, 0.025743737816810608, 0.06471848487854004, 0.04800025373697281, 0.03271837905049324, 0.04613735154271126, 0.19496206939220428, 0.0, 0.0, 0.0, 0.0], [0.16217809915542603, 0.1050342321395874, 0.041146568953990936, 0.08184659481048584, 0.039772070944309235, 0.09440236538648605, 0.0820702463388443, 0.05789969116449356, 0.029202722012996674, 0.06525678932666779, 0.03494231402873993, 0.20624832808971405, 0.0, 0.0, 0.0], [0.23554681241512299, 0.08303432911634445, 0.029969187453389168, 0.08842303603887558, 0.030432432889938354, 0.033461231738328934, 0.07741625607013702, 0.13682077825069427, 0.033662743866443634, 0.06466586887836456, 0.025438595563173294, 0.03067358210682869, 0.13045504689216614, 0.0, 0.0], [0.1504855751991272, 0.05079593136906624, 0.22553777694702148, 0.05802401155233383, 0.02933095395565033, 0.047519899904727936, 0.048035405576229095, 0.03666698560118675, 0.04475349932909012, 0.04032640904188156, 0.02408870868384838, 0.025859111919999123, 0.03343041241168976, 0.18514537811279297, 0.0], [0.1462862193584442, 0.06399235874414444, 0.03891821950674057, 0.09053259342908859, 0.03295665606856346, 0.05853375419974327, 0.10468053072690964, 0.07338876277208328, 0.03179439157247543, 0.0686413049697876, 0.029716569930315018, 0.05456317216157913, 0.07223229855298996, 0.03144332021474838, 0.10231976956129074]], [[1.0, 0.0, 0.0, 0.0, 0.0, 0.0, 0.0, 0.0, 0.0, 0.0, 0.0, 0.0, 0.0, 0.0, 0.0], [0.7978671789169312, 0.20213277637958527, 0.0, 0.0, 0.0, 0.0, 0.0, 0.0, 0.0, 0.0, 0.0, 0.0, 0.0, 0.0, 0.0], [0.594357430934906, 0.27420249581336975, 0.13144007325172424, 0.0, 0.0, 0.0, 0.0, 0.0, 0.0, 0.0, 0.0, 0.0, 0.0, 0.0, 0.0], [0.5457571148872375, 0.18542765080928802, 0.06220129504799843, 0.2066139280796051, 0.0, 0.0, 0.0, 0.0, 0.0, 0.0, 0.0, 0.0, 0.0, 0.0, 0.0], [0.40734362602233887, 0.25165221095085144, 0.09458564221858978, 0.13853509724140167, 0.1078834980726242, 0.0, 0.0, 0.0, 0.0, 0.0, 0.0, 0.0, 0.0, 0.0, 0.0], [0.5461606979370117, 0.14009959995746613, 0.04367963224649429, 0.15093381702899933, 0.039720986038446426, 0.07940526306629181, 0.0, 0.0, 0.0, 0.0, 0.0, 0.0, 0.0, 0.0, 0.0], [0.46237078309059143, 0.10157393664121628, 0.044131290167570114, 0.12332724034786224, 0.05506682023406029, 0.08741479367017746, 0.12611521780490875, 0.0, 0.0, 0.0, 0.0, 0.0, 0.0, 0.0, 0.0], [0.4169895052909851, 0.0913909450173378, 0.04583410546183586, 0.10412254184484482, 0.05926515907049179, 0.0758119747042656, 0.09901225566864014, 0.1075734794139862, 0.0, 0.0, 0.0, 0.0, 0.0, 0.0, 0.0], [0.23612219095230103, 0.20714667439460754, 0.05571829900145531, 0.09270022809505463, 0.03515822812914848, 0.06729016453027725, 0.12686187028884888, 0.07106944173574448, 0.10793288797140121, 0.0, 0.0, 0.0, 0.0, 0.0, 0.0], [0.3146660625934601, 0.11258820444345474, 0.04135509207844734, 0.09526746720075607, 0.051532793790102005, 0.07153880596160889, 0.08475743234157562, 0.04735283553600311, 0.0811166986823082, 0.0998246893286705, 0.0, 0.0, 0.0, 0.0, 0.0], [0.2201593816280365, 0.14325310289859772, 0.05823805183172226, 0.06746551394462585, 0.0650257095694542, 0.06585028022527695, 0.08695317804813385, 0.047840267419815063, 0.07832042872905731, 0.09092728793621063, 0.07596684992313385, 0.0, 0.0, 0.0, 0.0], [0.35352787375450134, 0.10200807452201843, 0.03453203663229942, 0.09937584400177002, 0.033402636647224426, 0.04047620669007301, 0.08608407527208328, 0.03733514994382858, 0.03867778927087784, 0.0807286724448204, 0.03242732957005501, 0.06142432242631912, 0.0, 0.0, 0.0], [0.28310680389404297, 0.06438025087118149, 0.03343226760625839, 0.06622131913900375, 0.03961708024144173, 0.052520688623189926, 0.062298692762851715, 0.06986943632364273, 0.0689467117190361, 0.07843270897865295, 0.040738869458436966, 0.06648307293653488, 0.07395212352275848, 0.0, 0.0], [0.22816114127635956, 0.1151256337761879, 0.07136311382055283, 0.05007213354110718, 0.04995688423514366, 0.06319877505302429, 0.05280721187591553, 0.020381644368171692, 0.04878397658467293, 0.05717644467949867, 0.05207689851522446, 0.08951131999492645, 0.020960567519068718, 0.0804242342710495, 0.0], [0.2863224148750305, 0.06511545926332474, 0.03011474572122097, 0.07065436244010925, 0.03323392570018768, 0.05665500462055206, 0.06985698640346527, 0.03353140130639076, 0.044011980295181274, 0.0707596018910408, 0.0318206325173378, 0.07551813125610352, 0.03340186923742294, 0.027998484671115875, 0.07100498676300049]]]}\n",
       "    )\n",
       "    </script>"
      ],
      "text/plain": [
       "<circuitsvis.utils.render.RenderedHTML at 0x17fb220e0>"
      ]
     },
     "execution_count": 290,
     "metadata": {},
     "output_type": "execute_result"
    }
   ],
   "source": [
    "def imshow(tensor, renderer=None, xaxis=\"\", yaxis=\"\", **kwargs):\n",
    "    px.imshow(utils.to_numpy(tensor), color_continuous_midpoint=0.0, color_continuous_scale=\"RdBu\", labels={\"x\":xaxis, \"y\":yaxis}, **kwargs).show(renderer)\n",
    "\n",
    "noun_tokens = model.to_tokens(prompts_n).to(device)\n",
    "noun_logits, noun_cache = model.run_with_cache(prompts_n, remove_batch_dim=True)\n",
    "print(noun_logits.shape)\n",
    "\n",
    "cv.attention.attention_patterns(tokens=noun_tokens, attention=noun_cache[\"pattern\", 0, \"attn\"])"
   ]
  },
  {
   "cell_type": "code",
   "execution_count": null,
   "metadata": {},
   "outputs": [],
   "source": [
    "\n",
    "\n"
   ]
  },
  {
   "attachments": {},
   "cell_type": "markdown",
   "metadata": {},
   "source": []
  },
  {
   "cell_type": "code",
   "execution_count": null,
   "metadata": {},
   "outputs": [],
   "source": []
  }
 ],
 "metadata": {
  "kernelspec": {
   "display_name": "torch-gpu",
   "language": "python",
   "name": "python3"
  },
  "language_info": {
   "codemirror_mode": {
    "name": "ipython",
    "version": 3
   },
   "file_extension": ".py",
   "mimetype": "text/x-python",
   "name": "python",
   "nbconvert_exporter": "python",
   "pygments_lexer": "ipython3",
   "version": "3.10.9"
  },
  "orig_nbformat": 4,
  "vscode": {
   "interpreter": {
    "hash": "6e851e82dedee55c73100bfbe6682b3cabddc188516229e1e8f6342cda6eae37"
   }
  }
 },
 "nbformat": 4,
 "nbformat_minor": 2
}
