{
 "cells": [
  {
   "cell_type": "code",
   "execution_count": 1,
   "metadata": {},
   "outputs": [],
   "source": [
    "# Import stuff\n",
    "import torch as t\n",
    "import numpy as np\n",
    "# Plotly needs a different renderer for VSCode/Notebooks vs Colab\n",
    "import plotly.io as pio\n",
    "pio.renderers.default = \"notebook_connected\"\n",
    "import plotly.express as px\n",
    "import einops\n",
    "import plotly.graph_objects as go \n",
    "from functools import partial\n",
    "import tqdm.auto as tqdm\n",
    "import circuitsvis as cv\n",
    "from transformer_lens.hook_points import HookPoint\n",
    "from transformer_lens import utils, HookedTransformer, ActivationCache\n",
    "from transformer_lens.components import Embed, Unembed, LayerNorm, MLP\n",
    "from fancy_einsum import einsum\n",
    "from jaxtyping import Float, Int, Bool\n",
    "import re\n",
    "import random\n",
    "from IPython.display import display"
   ]
  },
  {
   "cell_type": "code",
   "execution_count": 2,
   "metadata": {},
   "outputs": [],
   "source": [
    "\n",
    "def imshow(tensor, renderer=None, **kwargs):\n",
    "    px.imshow(utils.to_numpy(tensor), color_continuous_midpoint=0.0, color_continuous_scale=\"RdBu\", **kwargs).show(renderer)\n",
    "\n",
    "def line(tensor, renderer=None, **kwargs):\n",
    "    px.line(y=utils.to_numpy(tensor), **kwargs).show(renderer)\n",
    "\n",
    "def scatter(x, y, xaxis=\"\", yaxis=\"\", caxis=\"\", renderer=None, **kwargs):\n",
    "    x = utils.to_numpy(x)\n",
    "    y = utils.to_numpy(y)\n",
    "    px.scatter(y=y, x=x, labels={\"x\":xaxis, \"y\":yaxis, \"color\":caxis}, **kwargs).show(renderer)"
   ]
  },
  {
   "cell_type": "code",
   "execution_count": 3,
   "metadata": {},
   "outputs": [
    {
     "name": "stderr",
     "output_type": "stream",
     "text": [
      "Using pad_token, but it is not set yet.\n"
     ]
    },
    {
     "name": "stdout",
     "output_type": "stream",
     "text": [
      "Loaded pretrained model gpt2-small into HookedTransformer\n"
     ]
    }
   ],
   "source": [
    "## turn off AD to save memory, since we're focusing on model inference here \n",
    "t.set_grad_enabled(False)\n",
    "\n",
    "device = 'cuda' if t.cuda.is_available() else 'cpu'\n",
    "model = HookedTransformer.from_pretrained('gpt2-small', device=device)"
   ]
  },
  {
   "cell_type": "code",
   "execution_count": 9,
   "metadata": {},
   "outputs": [
    {
     "data": {
      "text/plain": [
       "HookPoint()"
      ]
     },
     "execution_count": 9,
     "metadata": {},
     "output_type": "execute_result"
    }
   ],
   "source": []
  },
  {
   "attachments": {},
   "cell_type": "markdown",
   "metadata": {},
   "source": [
    "Studying the head outputs on different distributions\n",
    "\n",
    "Create the datasets "
   ]
  },
  {
   "cell_type": "code",
   "execution_count": 10,
   "metadata": {},
   "outputs": [
    {
     "data": {
      "text/plain": [
       "[46317, 4564, 3012, 9369, 20127, 43330, 28607, 20025]"
      ]
     },
     "execution_count": 10,
     "metadata": {},
     "output_type": "execute_result"
    }
   ],
   "source": [
    "proper_nouns = [\n",
    "    \" Goose\", \" Church\",\n",
    "    \" Google\", \" Chair\",\n",
    "    \" Bag\", \" Statue\",\n",
    "    \" Lamp\", \" Flower\"\n",
    "]\n",
    "\n",
    "nouns = [\n",
    "    \" goose\", \" church\",\n",
    "    \" google\", \" chair\",\n",
    "    \" bag\", \" statue\",\n",
    "    \" lamp\", \" flower\"\n",
    "]\n",
    "\n",
    "multi_names_religious = [\n",
    "    \" Mary\", \" Joseph\",\n",
    "    \" Abraham\", \" Paul\",\n",
    "    \" Isaac\", \" Noah\",\n",
    "    \" Jacob\", \" Jesus\"\n",
    "]\n",
    "\n",
    "multi_names_places = [\n",
    "    \" Paris\", \" London\",\n",
    "    \" Madison\", \" Phoenix\",\n",
    "    \" Devon\", \" Florence\",\n",
    "    \" Austin\", \" Brooklyn\"\n",
    "]\n",
    "\n",
    "test = proper_nouns\n",
    "[model.to_single_token(test[i]) for i in range(len(test))]\n"
   ]
  },
  {
   "cell_type": "code",
   "execution_count": 11,
   "metadata": {},
   "outputs": [],
   "source": [
    "\n",
    "\n",
    "\n",
    "def get_dataset(N, names):\n",
    "    prompts = []\n",
    "    # List of answers, in the format (correct, incorrect)\n",
    "    answers = []\n",
    "    # List of the token (ie an integer) corresponding to each answer, in the format (correct_token, incorrect_token)\n",
    "    answer_tokens = []\n",
    "    for _ in range(N):\n",
    "        S1, S2 = random.sample(names,2)\n",
    "        answers.append((S1,S2))\n",
    "        answers.append((S2,S1))\n",
    "        prompt1 = f'When{S1} and{S2} went to the shops,{S2} gave the bag to'\n",
    "        prompt2 = f'When{S1} and{S2} went to the shops,{S1} gave the bag to'\n",
    "        prompts.append(prompt1)\n",
    "        prompts.append(prompt2)\n",
    "\n",
    "        answer_tok_1 = model.to_single_token(S1)\n",
    "        answer_tok_2 = model.to_single_token(S2)\n",
    "\n",
    "        answer_tokens.append((answer_tok_1, answer_tok_2))\n",
    "        answer_tokens.append((answer_tok_2, answer_tok_1))\n",
    "    assert len(set([len(model.to_str_tokens(prompt)) for prompt in prompts])) == 1\n",
    "    answer_tokens = t.tensor(answer_tokens).to(device)\n",
    "    return prompts, answers, answer_tokens\n",
    "\n"
   ]
  },
  {
   "cell_type": "code",
   "execution_count": 13,
   "metadata": {},
   "outputs": [],
   "source": [
    "prompts_rel, ans_rel, ans_toks_rel = get_dataset(10,multi_names_religious)\n",
    "prompts_pl, ans_pl, ans_toks_pl = get_dataset(10,multi_names_places)\n",
    "prompts_n, ans_n, ans_toks_n = get_dataset(10,nouns)\n",
    "prompts_pn, ans_pn, ans_toks_pn = get_dataset(10,proper_nouns)\n",
    "\n"
   ]
  },
  {
   "cell_type": "code",
   "execution_count": 14,
   "metadata": {},
   "outputs": [
    {
     "data": {
      "text/plain": [
       "(torch.Size([80, 2]), torch.Size([20, 2]))"
      ]
     },
     "execution_count": 14,
     "metadata": {},
     "output_type": "execute_result"
    }
   ],
   "source": [
    "prompts_full = prompts_n + prompts_pl + prompts_rel + prompts_pl\n",
    "ans_full = ans_n + ans_pl + ans_rel + ans_pl\n",
    "ans_toks_full = t.concat([ans_toks_n, ans_toks_pl, ans_toks_rel, ans_toks_pl], dim =0)\n",
    "ans_toks_full.shape, ans_toks_n.shape"
   ]
  },
  {
   "cell_type": "code",
   "execution_count": 95,
   "metadata": {},
   "outputs": [],
   "source": [
    "from rich.table import Table, Column\n",
    "from rich import print as rprint\n"
   ]
  },
  {
   "cell_type": "code",
   "execution_count": 15,
   "metadata": {},
   "outputs": [],
   "source": [
    "control_prompts = ['When John and Mary went to the shops, John gave the bag to',\n",
    " 'When John and Mary went to the shops, Mary gave the bag to',\n",
    " 'When Tom and James went to the park, James gave the ball to',\n",
    " 'When Tom and James went to the park, Tom gave the ball to',\n",
    " 'When Dan and Sid went to the shops, Sid gave an apple to',\n",
    " 'When Dan and Sid went to the shops, Dan gave an apple to',\n",
    " 'After Martin and Amy went to the park, Amy gave a drink to',\n",
    " 'After Martin and Amy went to the park, Martin gave a drink to']\n",
    "\n",
    "control_answers = [(' Mary', ' John'),\n",
    " (' John', ' Mary'),\n",
    " (' Tom', ' James'),\n",
    " (' James', ' Tom'),\n",
    " (' Dan', ' Sid'),\n",
    " (' Sid', ' Dan'),\n",
    " (' Martin', ' Amy'),\n",
    " (' Amy', ' Martin')]\n",
    "\n",
    "control_ans_prompts = t.tensor([[ 5335,  1757],\n",
    "        [ 1757,  5335],\n",
    "        [ 4186,  3700],\n",
    "        [ 3700,  4186],\n",
    "        [ 6035, 15686],\n",
    "        [15686,  6035],\n",
    "        [ 5780, 14235],\n",
    "        [14235,  5780]])\n",
    "\n"
   ]
  },
  {
   "cell_type": "code",
   "execution_count": 16,
   "metadata": {},
   "outputs": [
    {
     "name": "stdout",
     "output_type": "stream",
     "text": [
      "torch.Size([20, 15, 50257])\n"
     ]
    },
    {
     "data": {
      "text/plain": [
       "tensor(0.4990)"
      ]
     },
     "execution_count": 16,
     "metadata": {},
     "output_type": "execute_result"
    }
   ],
   "source": [
    "print(model(prompts_n).shape)\n",
    "\n",
    "def ave_logit_diff(prompts, answer_tokens, per_prompt = False):\n",
    "    final_logits = model(prompts)[:,-1,:]\n",
    "    answer_logits = final_logits.gather(dim = -1, index = answer_tokens)\n",
    "    #print(final_logits.shape)\n",
    "    answer_logit_diff = answer_logits[:,0] - answer_logits[:,1]\n",
    "    if per_prompt:\n",
    "        return answer_logit_diff \n",
    "    else:\n",
    "        return answer_logit_diff.mean()\n",
    "\n",
    "ave_logit_diff(prompts_n, ans_toks_n)"
   ]
  },
  {
   "cell_type": "code",
   "execution_count": 18,
   "metadata": {},
   "outputs": [
    {
     "data": {
      "text/plain": [
       "tensor(1.6852)"
      ]
     },
     "execution_count": 18,
     "metadata": {},
     "output_type": "execute_result"
    }
   ],
   "source": [
    "### Is the logit diff for these two names the right metric? \n",
    "\n",
    "### First, try the logit diff between the IO and the average of the actual topk logits for each example prompt \n",
    "\n",
    "\n",
    "def ave_logit_diff_topk(prompts, answer_tokens, k, per_prompt = False):\n",
    "    final_logits = model(prompts)[:,-1,:]\n",
    "    answer_logits = final_logits.gather(dim = -1, index = answer_tokens)[:,0]\n",
    "\n",
    "    sample_logits = model(prompts)[:,-1]\n",
    "    vals, ids = t.topk(sample_logits,k)\n",
    "    topk_avg = vals.mean(dim=-1)\n",
    "\n",
    "    answer_logit_diff = answer_logits - topk_avg\n",
    "    #print(answer_logits, topk_avg)\n",
    "    if per_prompt:\n",
    "        return answer_logit_diff \n",
    "    else:\n",
    "        return answer_logit_diff.mean()\n",
    "\n",
    "ave_logit_diff_topk(prompts_pn, ans_toks_pn,15)\n",
    "\n",
    "\n",
    "\n"
   ]
  },
  {
   "cell_type": "code",
   "execution_count": 19,
   "metadata": {},
   "outputs": [],
   "source": [
    "noun_test = [[k,ave_logit_diff_topk(prompts_n, ans_toks_n,k)] for k in range(25)]\n",
    "\n",
    "pnoun_test = [[k,ave_logit_diff_topk(prompts_pn, ans_toks_pn,k)] for k in range(25)]\n",
    "\n",
    "rel_test = [[k,ave_logit_diff_topk(prompts_rel, ans_toks_rel,k)] for k in range(25)]\n",
    "\n",
    "pl_test = [[k,ave_logit_diff_topk(prompts_pl, ans_toks_pl,k)] for k in range(25)]\n"
   ]
  },
  {
   "cell_type": "code",
   "execution_count": null,
   "metadata": {},
   "outputs": [
    {
     "ename": "",
     "evalue": "",
     "output_type": "error",
     "traceback": [
      "\u001b[1;31mFailed to start the Kernel. \n",
      "\u001b[1;31mActivating extension 'ms-python.python' failed: TelemetrySender.sendEventData must be a function. \n",
      "\u001b[1;31mView Jupyter <a href='command:jupyter.viewOutput'>log</a> for further details."
     ]
    }
   ],
   "source": [
    "full_test = [[k,ave_logit_diff_topk(prompts_full, ans_toks_full,k)] for k in range(25)]"
   ]
  },
  {
   "attachments": {},
   "cell_type": "markdown",
   "metadata": {},
   "source": [
    "scatter(x= t.tensor(noun_test)[:,0], y = t.tensor(noun_test)[:,1],xaxis = 'k', yaxis = 'topk metric', title = 'Avg logit diff between IO and avg of topk answer logits: nouns')"
   ]
  },
  {
   "cell_type": "code",
   "execution_count": 20,
   "metadata": {},
   "outputs": [
    {
     "data": {
      "text/html": [
       "        <script type=\"text/javascript\">\n",
       "        window.PlotlyConfig = {MathJaxConfig: 'local'};\n",
       "        if (window.MathJax && window.MathJax.Hub && window.MathJax.Hub.Config) {window.MathJax.Hub.Config({SVG: {font: \"STIX-Web\"}});}\n",
       "        if (typeof require !== 'undefined') {\n",
       "        require.undef(\"plotly\");\n",
       "        requirejs.config({\n",
       "            paths: {\n",
       "                'plotly': ['https://cdn.plot.ly/plotly-2.12.1.min']\n",
       "            }\n",
       "        });\n",
       "        require(['plotly'], function(Plotly) {\n",
       "            window._Plotly = Plotly;\n",
       "        });\n",
       "        }\n",
       "        </script>\n",
       "        "
      ]
     },
     "metadata": {},
     "output_type": "display_data"
    },
    {
     "data": {
      "text/html": [
       "<div>                            <div id=\"6a81f444-710d-412a-93e8-69beb9d87fd0\" class=\"plotly-graph-div\" style=\"height:525px; width:100%;\"></div>            <script type=\"text/javascript\">                require([\"plotly\"], function(Plotly) {                    window.PLOTLYENV=window.PLOTLYENV || {};                                    if (document.getElementById(\"6a81f444-710d-412a-93e8-69beb9d87fd0\")) {                    Plotly.newPlot(                        \"6a81f444-710d-412a-93e8-69beb9d87fd0\",                        [{\"hovertemplate\":\"k=%{x}<br>topk metric=%{y}<extra></extra>\",\"legendgroup\":\"\",\"marker\":{\"color\":\"#636efa\",\"symbol\":\"circle\"},\"mode\":\"markers\",\"name\":\"\",\"orientation\":\"v\",\"showlegend\":false,\"x\":[0.0,1.0,2.0,3.0,4.0,5.0,6.0,7.0,8.0,9.0,10.0,11.0,12.0,13.0,14.0,15.0,16.0,17.0,18.0,19.0,20.0,21.0,22.0,23.0,24.0],\"xaxis\":\"x\",\"y\":[null,-3.377019166946411,-2.6633288860321045,-2.3190550804138184,-2.064046621322632,-1.865553617477417,-1.6767463684082031,-1.5095747709274292,-1.3687251806259155,-1.243483066558838,-1.1298167705535889,-1.0305330753326416,-0.9418126940727234,-0.8598663210868835,-0.7837662100791931,-0.7128897905349731,-0.6457597017288208,-0.5838945508003235,-0.5263218879699707,-0.47100868821144104,-0.417938232421875,-0.3678499162197113,-0.3206445574760437,-0.2743097245693207,-0.22962264716625214],\"yaxis\":\"y\",\"type\":\"scatter\"}],                        {\"template\":{\"data\":{\"histogram2dcontour\":[{\"type\":\"histogram2dcontour\",\"colorbar\":{\"outlinewidth\":0,\"ticks\":\"\"},\"colorscale\":[[0.0,\"#0d0887\"],[0.1111111111111111,\"#46039f\"],[0.2222222222222222,\"#7201a8\"],[0.3333333333333333,\"#9c179e\"],[0.4444444444444444,\"#bd3786\"],[0.5555555555555556,\"#d8576b\"],[0.6666666666666666,\"#ed7953\"],[0.7777777777777778,\"#fb9f3a\"],[0.8888888888888888,\"#fdca26\"],[1.0,\"#f0f921\"]]}],\"choropleth\":[{\"type\":\"choropleth\",\"colorbar\":{\"outlinewidth\":0,\"ticks\":\"\"}}],\"histogram2d\":[{\"type\":\"histogram2d\",\"colorbar\":{\"outlinewidth\":0,\"ticks\":\"\"},\"colorscale\":[[0.0,\"#0d0887\"],[0.1111111111111111,\"#46039f\"],[0.2222222222222222,\"#7201a8\"],[0.3333333333333333,\"#9c179e\"],[0.4444444444444444,\"#bd3786\"],[0.5555555555555556,\"#d8576b\"],[0.6666666666666666,\"#ed7953\"],[0.7777777777777778,\"#fb9f3a\"],[0.8888888888888888,\"#fdca26\"],[1.0,\"#f0f921\"]]}],\"heatmap\":[{\"type\":\"heatmap\",\"colorbar\":{\"outlinewidth\":0,\"ticks\":\"\"},\"colorscale\":[[0.0,\"#0d0887\"],[0.1111111111111111,\"#46039f\"],[0.2222222222222222,\"#7201a8\"],[0.3333333333333333,\"#9c179e\"],[0.4444444444444444,\"#bd3786\"],[0.5555555555555556,\"#d8576b\"],[0.6666666666666666,\"#ed7953\"],[0.7777777777777778,\"#fb9f3a\"],[0.8888888888888888,\"#fdca26\"],[1.0,\"#f0f921\"]]}],\"heatmapgl\":[{\"type\":\"heatmapgl\",\"colorbar\":{\"outlinewidth\":0,\"ticks\":\"\"},\"colorscale\":[[0.0,\"#0d0887\"],[0.1111111111111111,\"#46039f\"],[0.2222222222222222,\"#7201a8\"],[0.3333333333333333,\"#9c179e\"],[0.4444444444444444,\"#bd3786\"],[0.5555555555555556,\"#d8576b\"],[0.6666666666666666,\"#ed7953\"],[0.7777777777777778,\"#fb9f3a\"],[0.8888888888888888,\"#fdca26\"],[1.0,\"#f0f921\"]]}],\"contourcarpet\":[{\"type\":\"contourcarpet\",\"colorbar\":{\"outlinewidth\":0,\"ticks\":\"\"}}],\"contour\":[{\"type\":\"contour\",\"colorbar\":{\"outlinewidth\":0,\"ticks\":\"\"},\"colorscale\":[[0.0,\"#0d0887\"],[0.1111111111111111,\"#46039f\"],[0.2222222222222222,\"#7201a8\"],[0.3333333333333333,\"#9c179e\"],[0.4444444444444444,\"#bd3786\"],[0.5555555555555556,\"#d8576b\"],[0.6666666666666666,\"#ed7953\"],[0.7777777777777778,\"#fb9f3a\"],[0.8888888888888888,\"#fdca26\"],[1.0,\"#f0f921\"]]}],\"surface\":[{\"type\":\"surface\",\"colorbar\":{\"outlinewidth\":0,\"ticks\":\"\"},\"colorscale\":[[0.0,\"#0d0887\"],[0.1111111111111111,\"#46039f\"],[0.2222222222222222,\"#7201a8\"],[0.3333333333333333,\"#9c179e\"],[0.4444444444444444,\"#bd3786\"],[0.5555555555555556,\"#d8576b\"],[0.6666666666666666,\"#ed7953\"],[0.7777777777777778,\"#fb9f3a\"],[0.8888888888888888,\"#fdca26\"],[1.0,\"#f0f921\"]]}],\"mesh3d\":[{\"type\":\"mesh3d\",\"colorbar\":{\"outlinewidth\":0,\"ticks\":\"\"}}],\"scatter\":[{\"fillpattern\":{\"fillmode\":\"overlay\",\"size\":10,\"solidity\":0.2},\"type\":\"scatter\"}],\"parcoords\":[{\"type\":\"parcoords\",\"line\":{\"colorbar\":{\"outlinewidth\":0,\"ticks\":\"\"}}}],\"scatterpolargl\":[{\"type\":\"scatterpolargl\",\"marker\":{\"colorbar\":{\"outlinewidth\":0,\"ticks\":\"\"}}}],\"bar\":[{\"error_x\":{\"color\":\"#2a3f5f\"},\"error_y\":{\"color\":\"#2a3f5f\"},\"marker\":{\"line\":{\"color\":\"#E5ECF6\",\"width\":0.5},\"pattern\":{\"fillmode\":\"overlay\",\"size\":10,\"solidity\":0.2}},\"type\":\"bar\"}],\"scattergeo\":[{\"type\":\"scattergeo\",\"marker\":{\"colorbar\":{\"outlinewidth\":0,\"ticks\":\"\"}}}],\"scatterpolar\":[{\"type\":\"scatterpolar\",\"marker\":{\"colorbar\":{\"outlinewidth\":0,\"ticks\":\"\"}}}],\"histogram\":[{\"marker\":{\"pattern\":{\"fillmode\":\"overlay\",\"size\":10,\"solidity\":0.2}},\"type\":\"histogram\"}],\"scattergl\":[{\"type\":\"scattergl\",\"marker\":{\"colorbar\":{\"outlinewidth\":0,\"ticks\":\"\"}}}],\"scatter3d\":[{\"type\":\"scatter3d\",\"line\":{\"colorbar\":{\"outlinewidth\":0,\"ticks\":\"\"}},\"marker\":{\"colorbar\":{\"outlinewidth\":0,\"ticks\":\"\"}}}],\"scattermapbox\":[{\"type\":\"scattermapbox\",\"marker\":{\"colorbar\":{\"outlinewidth\":0,\"ticks\":\"\"}}}],\"scatterternary\":[{\"type\":\"scatterternary\",\"marker\":{\"colorbar\":{\"outlinewidth\":0,\"ticks\":\"\"}}}],\"scattercarpet\":[{\"type\":\"scattercarpet\",\"marker\":{\"colorbar\":{\"outlinewidth\":0,\"ticks\":\"\"}}}],\"carpet\":[{\"aaxis\":{\"endlinecolor\":\"#2a3f5f\",\"gridcolor\":\"white\",\"linecolor\":\"white\",\"minorgridcolor\":\"white\",\"startlinecolor\":\"#2a3f5f\"},\"baxis\":{\"endlinecolor\":\"#2a3f5f\",\"gridcolor\":\"white\",\"linecolor\":\"white\",\"minorgridcolor\":\"white\",\"startlinecolor\":\"#2a3f5f\"},\"type\":\"carpet\"}],\"table\":[{\"cells\":{\"fill\":{\"color\":\"#EBF0F8\"},\"line\":{\"color\":\"white\"}},\"header\":{\"fill\":{\"color\":\"#C8D4E3\"},\"line\":{\"color\":\"white\"}},\"type\":\"table\"}],\"barpolar\":[{\"marker\":{\"line\":{\"color\":\"#E5ECF6\",\"width\":0.5},\"pattern\":{\"fillmode\":\"overlay\",\"size\":10,\"solidity\":0.2}},\"type\":\"barpolar\"}],\"pie\":[{\"automargin\":true,\"type\":\"pie\"}]},\"layout\":{\"autotypenumbers\":\"strict\",\"colorway\":[\"#636efa\",\"#EF553B\",\"#00cc96\",\"#ab63fa\",\"#FFA15A\",\"#19d3f3\",\"#FF6692\",\"#B6E880\",\"#FF97FF\",\"#FECB52\"],\"font\":{\"color\":\"#2a3f5f\"},\"hovermode\":\"closest\",\"hoverlabel\":{\"align\":\"left\"},\"paper_bgcolor\":\"white\",\"plot_bgcolor\":\"#E5ECF6\",\"polar\":{\"bgcolor\":\"#E5ECF6\",\"angularaxis\":{\"gridcolor\":\"white\",\"linecolor\":\"white\",\"ticks\":\"\"},\"radialaxis\":{\"gridcolor\":\"white\",\"linecolor\":\"white\",\"ticks\":\"\"}},\"ternary\":{\"bgcolor\":\"#E5ECF6\",\"aaxis\":{\"gridcolor\":\"white\",\"linecolor\":\"white\",\"ticks\":\"\"},\"baxis\":{\"gridcolor\":\"white\",\"linecolor\":\"white\",\"ticks\":\"\"},\"caxis\":{\"gridcolor\":\"white\",\"linecolor\":\"white\",\"ticks\":\"\"}},\"coloraxis\":{\"colorbar\":{\"outlinewidth\":0,\"ticks\":\"\"}},\"colorscale\":{\"sequential\":[[0.0,\"#0d0887\"],[0.1111111111111111,\"#46039f\"],[0.2222222222222222,\"#7201a8\"],[0.3333333333333333,\"#9c179e\"],[0.4444444444444444,\"#bd3786\"],[0.5555555555555556,\"#d8576b\"],[0.6666666666666666,\"#ed7953\"],[0.7777777777777778,\"#fb9f3a\"],[0.8888888888888888,\"#fdca26\"],[1.0,\"#f0f921\"]],\"sequentialminus\":[[0.0,\"#0d0887\"],[0.1111111111111111,\"#46039f\"],[0.2222222222222222,\"#7201a8\"],[0.3333333333333333,\"#9c179e\"],[0.4444444444444444,\"#bd3786\"],[0.5555555555555556,\"#d8576b\"],[0.6666666666666666,\"#ed7953\"],[0.7777777777777778,\"#fb9f3a\"],[0.8888888888888888,\"#fdca26\"],[1.0,\"#f0f921\"]],\"diverging\":[[0,\"#8e0152\"],[0.1,\"#c51b7d\"],[0.2,\"#de77ae\"],[0.3,\"#f1b6da\"],[0.4,\"#fde0ef\"],[0.5,\"#f7f7f7\"],[0.6,\"#e6f5d0\"],[0.7,\"#b8e186\"],[0.8,\"#7fbc41\"],[0.9,\"#4d9221\"],[1,\"#276419\"]]},\"xaxis\":{\"gridcolor\":\"white\",\"linecolor\":\"white\",\"ticks\":\"\",\"title\":{\"standoff\":15},\"zerolinecolor\":\"white\",\"automargin\":true,\"zerolinewidth\":2},\"yaxis\":{\"gridcolor\":\"white\",\"linecolor\":\"white\",\"ticks\":\"\",\"title\":{\"standoff\":15},\"zerolinecolor\":\"white\",\"automargin\":true,\"zerolinewidth\":2},\"scene\":{\"xaxis\":{\"backgroundcolor\":\"#E5ECF6\",\"gridcolor\":\"white\",\"linecolor\":\"white\",\"showbackground\":true,\"ticks\":\"\",\"zerolinecolor\":\"white\",\"gridwidth\":2},\"yaxis\":{\"backgroundcolor\":\"#E5ECF6\",\"gridcolor\":\"white\",\"linecolor\":\"white\",\"showbackground\":true,\"ticks\":\"\",\"zerolinecolor\":\"white\",\"gridwidth\":2},\"zaxis\":{\"backgroundcolor\":\"#E5ECF6\",\"gridcolor\":\"white\",\"linecolor\":\"white\",\"showbackground\":true,\"ticks\":\"\",\"zerolinecolor\":\"white\",\"gridwidth\":2}},\"shapedefaults\":{\"line\":{\"color\":\"#2a3f5f\"}},\"annotationdefaults\":{\"arrowcolor\":\"#2a3f5f\",\"arrowhead\":0,\"arrowwidth\":1},\"geo\":{\"bgcolor\":\"white\",\"landcolor\":\"#E5ECF6\",\"subunitcolor\":\"white\",\"showland\":true,\"showlakes\":true,\"lakecolor\":\"white\"},\"title\":{\"x\":0.05},\"mapbox\":{\"style\":\"light\"}}},\"xaxis\":{\"anchor\":\"y\",\"domain\":[0.0,1.0],\"title\":{\"text\":\"k\"}},\"yaxis\":{\"anchor\":\"x\",\"domain\":[0.0,1.0],\"title\":{\"text\":\"topk metric\"}},\"legend\":{\"tracegroupgap\":0},\"title\":{\"text\":\"Avg logit diff between IO and avg of topk answer logits: nouns\"}},                        {\"responsive\": true}                    ).then(function(){\n",
       "                            \n",
       "var gd = document.getElementById('6a81f444-710d-412a-93e8-69beb9d87fd0');\n",
       "var x = new MutationObserver(function (mutations, observer) {{\n",
       "        var display = window.getComputedStyle(gd).display;\n",
       "        if (!display || display === 'none') {{\n",
       "            console.log([gd, 'removed!']);\n",
       "            Plotly.purge(gd);\n",
       "            observer.disconnect();\n",
       "        }}\n",
       "}});\n",
       "\n",
       "// Listen for the removal of the full notebook cells\n",
       "var notebookContainer = gd.closest('#notebook-container');\n",
       "if (notebookContainer) {{\n",
       "    x.observe(notebookContainer, {childList: true});\n",
       "}}\n",
       "\n",
       "// Listen for the clearing of the current output cell\n",
       "var outputEl = gd.closest('.output');\n",
       "if (outputEl) {{\n",
       "    x.observe(outputEl, {childList: true});\n",
       "}}\n",
       "\n",
       "                        })                };                });            </script>        </div>"
      ]
     },
     "metadata": {},
     "output_type": "display_data"
    },
    {
     "data": {
      "text/html": [
       "<div>                            <div id=\"ce5d7265-980e-43c3-af5e-a1fbd96d437a\" class=\"plotly-graph-div\" style=\"height:525px; width:100%;\"></div>            <script type=\"text/javascript\">                require([\"plotly\"], function(Plotly) {                    window.PLOTLYENV=window.PLOTLYENV || {};                                    if (document.getElementById(\"ce5d7265-980e-43c3-af5e-a1fbd96d437a\")) {                    Plotly.newPlot(                        \"ce5d7265-980e-43c3-af5e-a1fbd96d437a\",                        [{\"hovertemplate\":\"k=%{x}<br>topk metric=%{y}<extra></extra>\",\"legendgroup\":\"\",\"marker\":{\"color\":\"#636efa\",\"symbol\":\"circle\"},\"mode\":\"markers\",\"name\":\"\",\"orientation\":\"v\",\"showlegend\":false,\"x\":[0.0,1.0,2.0,3.0,4.0,5.0,6.0,7.0,8.0,9.0,10.0,11.0,12.0,13.0,14.0,15.0,16.0,17.0,18.0,19.0,20.0,21.0,22.0,23.0,24.0],\"xaxis\":\"x\",\"y\":[null,-0.8208427429199219,-0.37169021368026733,-0.037630654871463776,0.19520506262779236,0.3947773575782776,0.5685517191886902,0.7339602708816528,0.886125922203064,1.0287195444107056,1.1604894399642944,1.2805423736572266,1.3896968364715576,1.4932187795639038,1.5930848121643066,1.6852283477783203,1.772457480430603,1.8547327518463135,1.932813048362732,2.0048296451568604,2.071678876876831,2.134653091430664,2.1942687034606934,2.2517080307006836,2.3065216541290283],\"yaxis\":\"y\",\"type\":\"scatter\"}],                        {\"template\":{\"data\":{\"histogram2dcontour\":[{\"type\":\"histogram2dcontour\",\"colorbar\":{\"outlinewidth\":0,\"ticks\":\"\"},\"colorscale\":[[0.0,\"#0d0887\"],[0.1111111111111111,\"#46039f\"],[0.2222222222222222,\"#7201a8\"],[0.3333333333333333,\"#9c179e\"],[0.4444444444444444,\"#bd3786\"],[0.5555555555555556,\"#d8576b\"],[0.6666666666666666,\"#ed7953\"],[0.7777777777777778,\"#fb9f3a\"],[0.8888888888888888,\"#fdca26\"],[1.0,\"#f0f921\"]]}],\"choropleth\":[{\"type\":\"choropleth\",\"colorbar\":{\"outlinewidth\":0,\"ticks\":\"\"}}],\"histogram2d\":[{\"type\":\"histogram2d\",\"colorbar\":{\"outlinewidth\":0,\"ticks\":\"\"},\"colorscale\":[[0.0,\"#0d0887\"],[0.1111111111111111,\"#46039f\"],[0.2222222222222222,\"#7201a8\"],[0.3333333333333333,\"#9c179e\"],[0.4444444444444444,\"#bd3786\"],[0.5555555555555556,\"#d8576b\"],[0.6666666666666666,\"#ed7953\"],[0.7777777777777778,\"#fb9f3a\"],[0.8888888888888888,\"#fdca26\"],[1.0,\"#f0f921\"]]}],\"heatmap\":[{\"type\":\"heatmap\",\"colorbar\":{\"outlinewidth\":0,\"ticks\":\"\"},\"colorscale\":[[0.0,\"#0d0887\"],[0.1111111111111111,\"#46039f\"],[0.2222222222222222,\"#7201a8\"],[0.3333333333333333,\"#9c179e\"],[0.4444444444444444,\"#bd3786\"],[0.5555555555555556,\"#d8576b\"],[0.6666666666666666,\"#ed7953\"],[0.7777777777777778,\"#fb9f3a\"],[0.8888888888888888,\"#fdca26\"],[1.0,\"#f0f921\"]]}],\"heatmapgl\":[{\"type\":\"heatmapgl\",\"colorbar\":{\"outlinewidth\":0,\"ticks\":\"\"},\"colorscale\":[[0.0,\"#0d0887\"],[0.1111111111111111,\"#46039f\"],[0.2222222222222222,\"#7201a8\"],[0.3333333333333333,\"#9c179e\"],[0.4444444444444444,\"#bd3786\"],[0.5555555555555556,\"#d8576b\"],[0.6666666666666666,\"#ed7953\"],[0.7777777777777778,\"#fb9f3a\"],[0.8888888888888888,\"#fdca26\"],[1.0,\"#f0f921\"]]}],\"contourcarpet\":[{\"type\":\"contourcarpet\",\"colorbar\":{\"outlinewidth\":0,\"ticks\":\"\"}}],\"contour\":[{\"type\":\"contour\",\"colorbar\":{\"outlinewidth\":0,\"ticks\":\"\"},\"colorscale\":[[0.0,\"#0d0887\"],[0.1111111111111111,\"#46039f\"],[0.2222222222222222,\"#7201a8\"],[0.3333333333333333,\"#9c179e\"],[0.4444444444444444,\"#bd3786\"],[0.5555555555555556,\"#d8576b\"],[0.6666666666666666,\"#ed7953\"],[0.7777777777777778,\"#fb9f3a\"],[0.8888888888888888,\"#fdca26\"],[1.0,\"#f0f921\"]]}],\"surface\":[{\"type\":\"surface\",\"colorbar\":{\"outlinewidth\":0,\"ticks\":\"\"},\"colorscale\":[[0.0,\"#0d0887\"],[0.1111111111111111,\"#46039f\"],[0.2222222222222222,\"#7201a8\"],[0.3333333333333333,\"#9c179e\"],[0.4444444444444444,\"#bd3786\"],[0.5555555555555556,\"#d8576b\"],[0.6666666666666666,\"#ed7953\"],[0.7777777777777778,\"#fb9f3a\"],[0.8888888888888888,\"#fdca26\"],[1.0,\"#f0f921\"]]}],\"mesh3d\":[{\"type\":\"mesh3d\",\"colorbar\":{\"outlinewidth\":0,\"ticks\":\"\"}}],\"scatter\":[{\"fillpattern\":{\"fillmode\":\"overlay\",\"size\":10,\"solidity\":0.2},\"type\":\"scatter\"}],\"parcoords\":[{\"type\":\"parcoords\",\"line\":{\"colorbar\":{\"outlinewidth\":0,\"ticks\":\"\"}}}],\"scatterpolargl\":[{\"type\":\"scatterpolargl\",\"marker\":{\"colorbar\":{\"outlinewidth\":0,\"ticks\":\"\"}}}],\"bar\":[{\"error_x\":{\"color\":\"#2a3f5f\"},\"error_y\":{\"color\":\"#2a3f5f\"},\"marker\":{\"line\":{\"color\":\"#E5ECF6\",\"width\":0.5},\"pattern\":{\"fillmode\":\"overlay\",\"size\":10,\"solidity\":0.2}},\"type\":\"bar\"}],\"scattergeo\":[{\"type\":\"scattergeo\",\"marker\":{\"colorbar\":{\"outlinewidth\":0,\"ticks\":\"\"}}}],\"scatterpolar\":[{\"type\":\"scatterpolar\",\"marker\":{\"colorbar\":{\"outlinewidth\":0,\"ticks\":\"\"}}}],\"histogram\":[{\"marker\":{\"pattern\":{\"fillmode\":\"overlay\",\"size\":10,\"solidity\":0.2}},\"type\":\"histogram\"}],\"scattergl\":[{\"type\":\"scattergl\",\"marker\":{\"colorbar\":{\"outlinewidth\":0,\"ticks\":\"\"}}}],\"scatter3d\":[{\"type\":\"scatter3d\",\"line\":{\"colorbar\":{\"outlinewidth\":0,\"ticks\":\"\"}},\"marker\":{\"colorbar\":{\"outlinewidth\":0,\"ticks\":\"\"}}}],\"scattermapbox\":[{\"type\":\"scattermapbox\",\"marker\":{\"colorbar\":{\"outlinewidth\":0,\"ticks\":\"\"}}}],\"scatterternary\":[{\"type\":\"scatterternary\",\"marker\":{\"colorbar\":{\"outlinewidth\":0,\"ticks\":\"\"}}}],\"scattercarpet\":[{\"type\":\"scattercarpet\",\"marker\":{\"colorbar\":{\"outlinewidth\":0,\"ticks\":\"\"}}}],\"carpet\":[{\"aaxis\":{\"endlinecolor\":\"#2a3f5f\",\"gridcolor\":\"white\",\"linecolor\":\"white\",\"minorgridcolor\":\"white\",\"startlinecolor\":\"#2a3f5f\"},\"baxis\":{\"endlinecolor\":\"#2a3f5f\",\"gridcolor\":\"white\",\"linecolor\":\"white\",\"minorgridcolor\":\"white\",\"startlinecolor\":\"#2a3f5f\"},\"type\":\"carpet\"}],\"table\":[{\"cells\":{\"fill\":{\"color\":\"#EBF0F8\"},\"line\":{\"color\":\"white\"}},\"header\":{\"fill\":{\"color\":\"#C8D4E3\"},\"line\":{\"color\":\"white\"}},\"type\":\"table\"}],\"barpolar\":[{\"marker\":{\"line\":{\"color\":\"#E5ECF6\",\"width\":0.5},\"pattern\":{\"fillmode\":\"overlay\",\"size\":10,\"solidity\":0.2}},\"type\":\"barpolar\"}],\"pie\":[{\"automargin\":true,\"type\":\"pie\"}]},\"layout\":{\"autotypenumbers\":\"strict\",\"colorway\":[\"#636efa\",\"#EF553B\",\"#00cc96\",\"#ab63fa\",\"#FFA15A\",\"#19d3f3\",\"#FF6692\",\"#B6E880\",\"#FF97FF\",\"#FECB52\"],\"font\":{\"color\":\"#2a3f5f\"},\"hovermode\":\"closest\",\"hoverlabel\":{\"align\":\"left\"},\"paper_bgcolor\":\"white\",\"plot_bgcolor\":\"#E5ECF6\",\"polar\":{\"bgcolor\":\"#E5ECF6\",\"angularaxis\":{\"gridcolor\":\"white\",\"linecolor\":\"white\",\"ticks\":\"\"},\"radialaxis\":{\"gridcolor\":\"white\",\"linecolor\":\"white\",\"ticks\":\"\"}},\"ternary\":{\"bgcolor\":\"#E5ECF6\",\"aaxis\":{\"gridcolor\":\"white\",\"linecolor\":\"white\",\"ticks\":\"\"},\"baxis\":{\"gridcolor\":\"white\",\"linecolor\":\"white\",\"ticks\":\"\"},\"caxis\":{\"gridcolor\":\"white\",\"linecolor\":\"white\",\"ticks\":\"\"}},\"coloraxis\":{\"colorbar\":{\"outlinewidth\":0,\"ticks\":\"\"}},\"colorscale\":{\"sequential\":[[0.0,\"#0d0887\"],[0.1111111111111111,\"#46039f\"],[0.2222222222222222,\"#7201a8\"],[0.3333333333333333,\"#9c179e\"],[0.4444444444444444,\"#bd3786\"],[0.5555555555555556,\"#d8576b\"],[0.6666666666666666,\"#ed7953\"],[0.7777777777777778,\"#fb9f3a\"],[0.8888888888888888,\"#fdca26\"],[1.0,\"#f0f921\"]],\"sequentialminus\":[[0.0,\"#0d0887\"],[0.1111111111111111,\"#46039f\"],[0.2222222222222222,\"#7201a8\"],[0.3333333333333333,\"#9c179e\"],[0.4444444444444444,\"#bd3786\"],[0.5555555555555556,\"#d8576b\"],[0.6666666666666666,\"#ed7953\"],[0.7777777777777778,\"#fb9f3a\"],[0.8888888888888888,\"#fdca26\"],[1.0,\"#f0f921\"]],\"diverging\":[[0,\"#8e0152\"],[0.1,\"#c51b7d\"],[0.2,\"#de77ae\"],[0.3,\"#f1b6da\"],[0.4,\"#fde0ef\"],[0.5,\"#f7f7f7\"],[0.6,\"#e6f5d0\"],[0.7,\"#b8e186\"],[0.8,\"#7fbc41\"],[0.9,\"#4d9221\"],[1,\"#276419\"]]},\"xaxis\":{\"gridcolor\":\"white\",\"linecolor\":\"white\",\"ticks\":\"\",\"title\":{\"standoff\":15},\"zerolinecolor\":\"white\",\"automargin\":true,\"zerolinewidth\":2},\"yaxis\":{\"gridcolor\":\"white\",\"linecolor\":\"white\",\"ticks\":\"\",\"title\":{\"standoff\":15},\"zerolinecolor\":\"white\",\"automargin\":true,\"zerolinewidth\":2},\"scene\":{\"xaxis\":{\"backgroundcolor\":\"#E5ECF6\",\"gridcolor\":\"white\",\"linecolor\":\"white\",\"showbackground\":true,\"ticks\":\"\",\"zerolinecolor\":\"white\",\"gridwidth\":2},\"yaxis\":{\"backgroundcolor\":\"#E5ECF6\",\"gridcolor\":\"white\",\"linecolor\":\"white\",\"showbackground\":true,\"ticks\":\"\",\"zerolinecolor\":\"white\",\"gridwidth\":2},\"zaxis\":{\"backgroundcolor\":\"#E5ECF6\",\"gridcolor\":\"white\",\"linecolor\":\"white\",\"showbackground\":true,\"ticks\":\"\",\"zerolinecolor\":\"white\",\"gridwidth\":2}},\"shapedefaults\":{\"line\":{\"color\":\"#2a3f5f\"}},\"annotationdefaults\":{\"arrowcolor\":\"#2a3f5f\",\"arrowhead\":0,\"arrowwidth\":1},\"geo\":{\"bgcolor\":\"white\",\"landcolor\":\"#E5ECF6\",\"subunitcolor\":\"white\",\"showland\":true,\"showlakes\":true,\"lakecolor\":\"white\"},\"title\":{\"x\":0.05},\"mapbox\":{\"style\":\"light\"}}},\"xaxis\":{\"anchor\":\"y\",\"domain\":[0.0,1.0],\"title\":{\"text\":\"k\"}},\"yaxis\":{\"anchor\":\"x\",\"domain\":[0.0,1.0],\"title\":{\"text\":\"topk metric\"}},\"legend\":{\"tracegroupgap\":0},\"title\":{\"text\":\"Avg logit diff between IO and avg of topk answer logits: pnouns\"}},                        {\"responsive\": true}                    ).then(function(){\n",
       "                            \n",
       "var gd = document.getElementById('ce5d7265-980e-43c3-af5e-a1fbd96d437a');\n",
       "var x = new MutationObserver(function (mutations, observer) {{\n",
       "        var display = window.getComputedStyle(gd).display;\n",
       "        if (!display || display === 'none') {{\n",
       "            console.log([gd, 'removed!']);\n",
       "            Plotly.purge(gd);\n",
       "            observer.disconnect();\n",
       "        }}\n",
       "}});\n",
       "\n",
       "// Listen for the removal of the full notebook cells\n",
       "var notebookContainer = gd.closest('#notebook-container');\n",
       "if (notebookContainer) {{\n",
       "    x.observe(notebookContainer, {childList: true});\n",
       "}}\n",
       "\n",
       "// Listen for the clearing of the current output cell\n",
       "var outputEl = gd.closest('.output');\n",
       "if (outputEl) {{\n",
       "    x.observe(outputEl, {childList: true});\n",
       "}}\n",
       "\n",
       "                        })                };                });            </script>        </div>"
      ]
     },
     "metadata": {},
     "output_type": "display_data"
    },
    {
     "data": {
      "text/html": [
       "<div>                            <div id=\"fe9d4da5-dea1-4b80-8935-ad1dbd4e5eaf\" class=\"plotly-graph-div\" style=\"height:525px; width:100%;\"></div>            <script type=\"text/javascript\">                require([\"plotly\"], function(Plotly) {                    window.PLOTLYENV=window.PLOTLYENV || {};                                    if (document.getElementById(\"fe9d4da5-dea1-4b80-8935-ad1dbd4e5eaf\")) {                    Plotly.newPlot(                        \"fe9d4da5-dea1-4b80-8935-ad1dbd4e5eaf\",                        [{\"hovertemplate\":\"k=%{x}<br>topk metric=%{y}<extra></extra>\",\"legendgroup\":\"\",\"marker\":{\"color\":\"#636efa\",\"symbol\":\"circle\"},\"mode\":\"markers\",\"name\":\"\",\"orientation\":\"v\",\"showlegend\":false,\"x\":[0.0,1.0,2.0,3.0,4.0,5.0,6.0,7.0,8.0,9.0,10.0,11.0,12.0,13.0,14.0,15.0,16.0,17.0,18.0,19.0,20.0,21.0,22.0,23.0,24.0],\"xaxis\":\"x\",\"y\":[null,-0.003456497099250555,1.1382510662078857,1.5904531478881836,1.9139468669891357,2.241924285888672,2.5302157402038574,2.760092258453369,2.96494722366333,3.148742198944092,3.317439317703247,3.46862530708313,3.6103978157043457,3.742244243621826,3.8662171363830566,3.979771852493286,4.0842719078063965,4.18186092376709,4.273636341094971,4.3603997230529785,4.4436821937561035,4.522318363189697,4.596285820007324,4.6660051345825195,4.732842445373535],\"yaxis\":\"y\",\"type\":\"scatter\"}],                        {\"template\":{\"data\":{\"histogram2dcontour\":[{\"type\":\"histogram2dcontour\",\"colorbar\":{\"outlinewidth\":0,\"ticks\":\"\"},\"colorscale\":[[0.0,\"#0d0887\"],[0.1111111111111111,\"#46039f\"],[0.2222222222222222,\"#7201a8\"],[0.3333333333333333,\"#9c179e\"],[0.4444444444444444,\"#bd3786\"],[0.5555555555555556,\"#d8576b\"],[0.6666666666666666,\"#ed7953\"],[0.7777777777777778,\"#fb9f3a\"],[0.8888888888888888,\"#fdca26\"],[1.0,\"#f0f921\"]]}],\"choropleth\":[{\"type\":\"choropleth\",\"colorbar\":{\"outlinewidth\":0,\"ticks\":\"\"}}],\"histogram2d\":[{\"type\":\"histogram2d\",\"colorbar\":{\"outlinewidth\":0,\"ticks\":\"\"},\"colorscale\":[[0.0,\"#0d0887\"],[0.1111111111111111,\"#46039f\"],[0.2222222222222222,\"#7201a8\"],[0.3333333333333333,\"#9c179e\"],[0.4444444444444444,\"#bd3786\"],[0.5555555555555556,\"#d8576b\"],[0.6666666666666666,\"#ed7953\"],[0.7777777777777778,\"#fb9f3a\"],[0.8888888888888888,\"#fdca26\"],[1.0,\"#f0f921\"]]}],\"heatmap\":[{\"type\":\"heatmap\",\"colorbar\":{\"outlinewidth\":0,\"ticks\":\"\"},\"colorscale\":[[0.0,\"#0d0887\"],[0.1111111111111111,\"#46039f\"],[0.2222222222222222,\"#7201a8\"],[0.3333333333333333,\"#9c179e\"],[0.4444444444444444,\"#bd3786\"],[0.5555555555555556,\"#d8576b\"],[0.6666666666666666,\"#ed7953\"],[0.7777777777777778,\"#fb9f3a\"],[0.8888888888888888,\"#fdca26\"],[1.0,\"#f0f921\"]]}],\"heatmapgl\":[{\"type\":\"heatmapgl\",\"colorbar\":{\"outlinewidth\":0,\"ticks\":\"\"},\"colorscale\":[[0.0,\"#0d0887\"],[0.1111111111111111,\"#46039f\"],[0.2222222222222222,\"#7201a8\"],[0.3333333333333333,\"#9c179e\"],[0.4444444444444444,\"#bd3786\"],[0.5555555555555556,\"#d8576b\"],[0.6666666666666666,\"#ed7953\"],[0.7777777777777778,\"#fb9f3a\"],[0.8888888888888888,\"#fdca26\"],[1.0,\"#f0f921\"]]}],\"contourcarpet\":[{\"type\":\"contourcarpet\",\"colorbar\":{\"outlinewidth\":0,\"ticks\":\"\"}}],\"contour\":[{\"type\":\"contour\",\"colorbar\":{\"outlinewidth\":0,\"ticks\":\"\"},\"colorscale\":[[0.0,\"#0d0887\"],[0.1111111111111111,\"#46039f\"],[0.2222222222222222,\"#7201a8\"],[0.3333333333333333,\"#9c179e\"],[0.4444444444444444,\"#bd3786\"],[0.5555555555555556,\"#d8576b\"],[0.6666666666666666,\"#ed7953\"],[0.7777777777777778,\"#fb9f3a\"],[0.8888888888888888,\"#fdca26\"],[1.0,\"#f0f921\"]]}],\"surface\":[{\"type\":\"surface\",\"colorbar\":{\"outlinewidth\":0,\"ticks\":\"\"},\"colorscale\":[[0.0,\"#0d0887\"],[0.1111111111111111,\"#46039f\"],[0.2222222222222222,\"#7201a8\"],[0.3333333333333333,\"#9c179e\"],[0.4444444444444444,\"#bd3786\"],[0.5555555555555556,\"#d8576b\"],[0.6666666666666666,\"#ed7953\"],[0.7777777777777778,\"#fb9f3a\"],[0.8888888888888888,\"#fdca26\"],[1.0,\"#f0f921\"]]}],\"mesh3d\":[{\"type\":\"mesh3d\",\"colorbar\":{\"outlinewidth\":0,\"ticks\":\"\"}}],\"scatter\":[{\"fillpattern\":{\"fillmode\":\"overlay\",\"size\":10,\"solidity\":0.2},\"type\":\"scatter\"}],\"parcoords\":[{\"type\":\"parcoords\",\"line\":{\"colorbar\":{\"outlinewidth\":0,\"ticks\":\"\"}}}],\"scatterpolargl\":[{\"type\":\"scatterpolargl\",\"marker\":{\"colorbar\":{\"outlinewidth\":0,\"ticks\":\"\"}}}],\"bar\":[{\"error_x\":{\"color\":\"#2a3f5f\"},\"error_y\":{\"color\":\"#2a3f5f\"},\"marker\":{\"line\":{\"color\":\"#E5ECF6\",\"width\":0.5},\"pattern\":{\"fillmode\":\"overlay\",\"size\":10,\"solidity\":0.2}},\"type\":\"bar\"}],\"scattergeo\":[{\"type\":\"scattergeo\",\"marker\":{\"colorbar\":{\"outlinewidth\":0,\"ticks\":\"\"}}}],\"scatterpolar\":[{\"type\":\"scatterpolar\",\"marker\":{\"colorbar\":{\"outlinewidth\":0,\"ticks\":\"\"}}}],\"histogram\":[{\"marker\":{\"pattern\":{\"fillmode\":\"overlay\",\"size\":10,\"solidity\":0.2}},\"type\":\"histogram\"}],\"scattergl\":[{\"type\":\"scattergl\",\"marker\":{\"colorbar\":{\"outlinewidth\":0,\"ticks\":\"\"}}}],\"scatter3d\":[{\"type\":\"scatter3d\",\"line\":{\"colorbar\":{\"outlinewidth\":0,\"ticks\":\"\"}},\"marker\":{\"colorbar\":{\"outlinewidth\":0,\"ticks\":\"\"}}}],\"scattermapbox\":[{\"type\":\"scattermapbox\",\"marker\":{\"colorbar\":{\"outlinewidth\":0,\"ticks\":\"\"}}}],\"scatterternary\":[{\"type\":\"scatterternary\",\"marker\":{\"colorbar\":{\"outlinewidth\":0,\"ticks\":\"\"}}}],\"scattercarpet\":[{\"type\":\"scattercarpet\",\"marker\":{\"colorbar\":{\"outlinewidth\":0,\"ticks\":\"\"}}}],\"carpet\":[{\"aaxis\":{\"endlinecolor\":\"#2a3f5f\",\"gridcolor\":\"white\",\"linecolor\":\"white\",\"minorgridcolor\":\"white\",\"startlinecolor\":\"#2a3f5f\"},\"baxis\":{\"endlinecolor\":\"#2a3f5f\",\"gridcolor\":\"white\",\"linecolor\":\"white\",\"minorgridcolor\":\"white\",\"startlinecolor\":\"#2a3f5f\"},\"type\":\"carpet\"}],\"table\":[{\"cells\":{\"fill\":{\"color\":\"#EBF0F8\"},\"line\":{\"color\":\"white\"}},\"header\":{\"fill\":{\"color\":\"#C8D4E3\"},\"line\":{\"color\":\"white\"}},\"type\":\"table\"}],\"barpolar\":[{\"marker\":{\"line\":{\"color\":\"#E5ECF6\",\"width\":0.5},\"pattern\":{\"fillmode\":\"overlay\",\"size\":10,\"solidity\":0.2}},\"type\":\"barpolar\"}],\"pie\":[{\"automargin\":true,\"type\":\"pie\"}]},\"layout\":{\"autotypenumbers\":\"strict\",\"colorway\":[\"#636efa\",\"#EF553B\",\"#00cc96\",\"#ab63fa\",\"#FFA15A\",\"#19d3f3\",\"#FF6692\",\"#B6E880\",\"#FF97FF\",\"#FECB52\"],\"font\":{\"color\":\"#2a3f5f\"},\"hovermode\":\"closest\",\"hoverlabel\":{\"align\":\"left\"},\"paper_bgcolor\":\"white\",\"plot_bgcolor\":\"#E5ECF6\",\"polar\":{\"bgcolor\":\"#E5ECF6\",\"angularaxis\":{\"gridcolor\":\"white\",\"linecolor\":\"white\",\"ticks\":\"\"},\"radialaxis\":{\"gridcolor\":\"white\",\"linecolor\":\"white\",\"ticks\":\"\"}},\"ternary\":{\"bgcolor\":\"#E5ECF6\",\"aaxis\":{\"gridcolor\":\"white\",\"linecolor\":\"white\",\"ticks\":\"\"},\"baxis\":{\"gridcolor\":\"white\",\"linecolor\":\"white\",\"ticks\":\"\"},\"caxis\":{\"gridcolor\":\"white\",\"linecolor\":\"white\",\"ticks\":\"\"}},\"coloraxis\":{\"colorbar\":{\"outlinewidth\":0,\"ticks\":\"\"}},\"colorscale\":{\"sequential\":[[0.0,\"#0d0887\"],[0.1111111111111111,\"#46039f\"],[0.2222222222222222,\"#7201a8\"],[0.3333333333333333,\"#9c179e\"],[0.4444444444444444,\"#bd3786\"],[0.5555555555555556,\"#d8576b\"],[0.6666666666666666,\"#ed7953\"],[0.7777777777777778,\"#fb9f3a\"],[0.8888888888888888,\"#fdca26\"],[1.0,\"#f0f921\"]],\"sequentialminus\":[[0.0,\"#0d0887\"],[0.1111111111111111,\"#46039f\"],[0.2222222222222222,\"#7201a8\"],[0.3333333333333333,\"#9c179e\"],[0.4444444444444444,\"#bd3786\"],[0.5555555555555556,\"#d8576b\"],[0.6666666666666666,\"#ed7953\"],[0.7777777777777778,\"#fb9f3a\"],[0.8888888888888888,\"#fdca26\"],[1.0,\"#f0f921\"]],\"diverging\":[[0,\"#8e0152\"],[0.1,\"#c51b7d\"],[0.2,\"#de77ae\"],[0.3,\"#f1b6da\"],[0.4,\"#fde0ef\"],[0.5,\"#f7f7f7\"],[0.6,\"#e6f5d0\"],[0.7,\"#b8e186\"],[0.8,\"#7fbc41\"],[0.9,\"#4d9221\"],[1,\"#276419\"]]},\"xaxis\":{\"gridcolor\":\"white\",\"linecolor\":\"white\",\"ticks\":\"\",\"title\":{\"standoff\":15},\"zerolinecolor\":\"white\",\"automargin\":true,\"zerolinewidth\":2},\"yaxis\":{\"gridcolor\":\"white\",\"linecolor\":\"white\",\"ticks\":\"\",\"title\":{\"standoff\":15},\"zerolinecolor\":\"white\",\"automargin\":true,\"zerolinewidth\":2},\"scene\":{\"xaxis\":{\"backgroundcolor\":\"#E5ECF6\",\"gridcolor\":\"white\",\"linecolor\":\"white\",\"showbackground\":true,\"ticks\":\"\",\"zerolinecolor\":\"white\",\"gridwidth\":2},\"yaxis\":{\"backgroundcolor\":\"#E5ECF6\",\"gridcolor\":\"white\",\"linecolor\":\"white\",\"showbackground\":true,\"ticks\":\"\",\"zerolinecolor\":\"white\",\"gridwidth\":2},\"zaxis\":{\"backgroundcolor\":\"#E5ECF6\",\"gridcolor\":\"white\",\"linecolor\":\"white\",\"showbackground\":true,\"ticks\":\"\",\"zerolinecolor\":\"white\",\"gridwidth\":2}},\"shapedefaults\":{\"line\":{\"color\":\"#2a3f5f\"}},\"annotationdefaults\":{\"arrowcolor\":\"#2a3f5f\",\"arrowhead\":0,\"arrowwidth\":1},\"geo\":{\"bgcolor\":\"white\",\"landcolor\":\"#E5ECF6\",\"subunitcolor\":\"white\",\"showland\":true,\"showlakes\":true,\"lakecolor\":\"white\"},\"title\":{\"x\":0.05},\"mapbox\":{\"style\":\"light\"}}},\"xaxis\":{\"anchor\":\"y\",\"domain\":[0.0,1.0],\"title\":{\"text\":\"k\"}},\"yaxis\":{\"anchor\":\"x\",\"domain\":[0.0,1.0],\"title\":{\"text\":\"topk metric\"}},\"legend\":{\"tracegroupgap\":0},\"title\":{\"text\":\"Avg logit diff between IO and avg of topk answer logits: rel\"}},                        {\"responsive\": true}                    ).then(function(){\n",
       "                            \n",
       "var gd = document.getElementById('fe9d4da5-dea1-4b80-8935-ad1dbd4e5eaf');\n",
       "var x = new MutationObserver(function (mutations, observer) {{\n",
       "        var display = window.getComputedStyle(gd).display;\n",
       "        if (!display || display === 'none') {{\n",
       "            console.log([gd, 'removed!']);\n",
       "            Plotly.purge(gd);\n",
       "            observer.disconnect();\n",
       "        }}\n",
       "}});\n",
       "\n",
       "// Listen for the removal of the full notebook cells\n",
       "var notebookContainer = gd.closest('#notebook-container');\n",
       "if (notebookContainer) {{\n",
       "    x.observe(notebookContainer, {childList: true});\n",
       "}}\n",
       "\n",
       "// Listen for the clearing of the current output cell\n",
       "var outputEl = gd.closest('.output');\n",
       "if (outputEl) {{\n",
       "    x.observe(outputEl, {childList: true});\n",
       "}}\n",
       "\n",
       "                        })                };                });            </script>        </div>"
      ]
     },
     "metadata": {},
     "output_type": "display_data"
    },
    {
     "data": {
      "text/html": [
       "<div>                            <div id=\"9b6aebde-c99c-41d4-b0f0-1c0aec1dbc8b\" class=\"plotly-graph-div\" style=\"height:525px; width:100%;\"></div>            <script type=\"text/javascript\">                require([\"plotly\"], function(Plotly) {                    window.PLOTLYENV=window.PLOTLYENV || {};                                    if (document.getElementById(\"9b6aebde-c99c-41d4-b0f0-1c0aec1dbc8b\")) {                    Plotly.newPlot(                        \"9b6aebde-c99c-41d4-b0f0-1c0aec1dbc8b\",                        [{\"hovertemplate\":\"k=%{x}<br>topk metric=%{y}<extra></extra>\",\"legendgroup\":\"\",\"marker\":{\"color\":\"#636efa\",\"symbol\":\"circle\"},\"mode\":\"markers\",\"name\":\"\",\"orientation\":\"v\",\"showlegend\":false,\"x\":[0.0,1.0,2.0,3.0,4.0,5.0,6.0,7.0,8.0,9.0,10.0,11.0,12.0,13.0,14.0,15.0,16.0,17.0,18.0,19.0,20.0,21.0,22.0,23.0,24.0],\"xaxis\":\"x\",\"y\":[null,-0.49162429571151733,0.12220130115747452,0.5481391549110413,0.8546487092971802,1.1179109811782837,1.3405487537384033,1.543347716331482,1.7403770685195923,1.9150367975234985,2.072908878326416,2.2200305461883545,2.3572335243225098,2.4866747856140137,2.606009006500244,2.717407464981079,2.8190155029296875,2.9128971099853516,3.000816822052002,3.082200765609741,3.1586685180664062,3.2308509349823,3.2982521057128906,3.361346483230591,3.420250654220581],\"yaxis\":\"y\",\"type\":\"scatter\"}],                        {\"template\":{\"data\":{\"histogram2dcontour\":[{\"type\":\"histogram2dcontour\",\"colorbar\":{\"outlinewidth\":0,\"ticks\":\"\"},\"colorscale\":[[0.0,\"#0d0887\"],[0.1111111111111111,\"#46039f\"],[0.2222222222222222,\"#7201a8\"],[0.3333333333333333,\"#9c179e\"],[0.4444444444444444,\"#bd3786\"],[0.5555555555555556,\"#d8576b\"],[0.6666666666666666,\"#ed7953\"],[0.7777777777777778,\"#fb9f3a\"],[0.8888888888888888,\"#fdca26\"],[1.0,\"#f0f921\"]]}],\"choropleth\":[{\"type\":\"choropleth\",\"colorbar\":{\"outlinewidth\":0,\"ticks\":\"\"}}],\"histogram2d\":[{\"type\":\"histogram2d\",\"colorbar\":{\"outlinewidth\":0,\"ticks\":\"\"},\"colorscale\":[[0.0,\"#0d0887\"],[0.1111111111111111,\"#46039f\"],[0.2222222222222222,\"#7201a8\"],[0.3333333333333333,\"#9c179e\"],[0.4444444444444444,\"#bd3786\"],[0.5555555555555556,\"#d8576b\"],[0.6666666666666666,\"#ed7953\"],[0.7777777777777778,\"#fb9f3a\"],[0.8888888888888888,\"#fdca26\"],[1.0,\"#f0f921\"]]}],\"heatmap\":[{\"type\":\"heatmap\",\"colorbar\":{\"outlinewidth\":0,\"ticks\":\"\"},\"colorscale\":[[0.0,\"#0d0887\"],[0.1111111111111111,\"#46039f\"],[0.2222222222222222,\"#7201a8\"],[0.3333333333333333,\"#9c179e\"],[0.4444444444444444,\"#bd3786\"],[0.5555555555555556,\"#d8576b\"],[0.6666666666666666,\"#ed7953\"],[0.7777777777777778,\"#fb9f3a\"],[0.8888888888888888,\"#fdca26\"],[1.0,\"#f0f921\"]]}],\"heatmapgl\":[{\"type\":\"heatmapgl\",\"colorbar\":{\"outlinewidth\":0,\"ticks\":\"\"},\"colorscale\":[[0.0,\"#0d0887\"],[0.1111111111111111,\"#46039f\"],[0.2222222222222222,\"#7201a8\"],[0.3333333333333333,\"#9c179e\"],[0.4444444444444444,\"#bd3786\"],[0.5555555555555556,\"#d8576b\"],[0.6666666666666666,\"#ed7953\"],[0.7777777777777778,\"#fb9f3a\"],[0.8888888888888888,\"#fdca26\"],[1.0,\"#f0f921\"]]}],\"contourcarpet\":[{\"type\":\"contourcarpet\",\"colorbar\":{\"outlinewidth\":0,\"ticks\":\"\"}}],\"contour\":[{\"type\":\"contour\",\"colorbar\":{\"outlinewidth\":0,\"ticks\":\"\"},\"colorscale\":[[0.0,\"#0d0887\"],[0.1111111111111111,\"#46039f\"],[0.2222222222222222,\"#7201a8\"],[0.3333333333333333,\"#9c179e\"],[0.4444444444444444,\"#bd3786\"],[0.5555555555555556,\"#d8576b\"],[0.6666666666666666,\"#ed7953\"],[0.7777777777777778,\"#fb9f3a\"],[0.8888888888888888,\"#fdca26\"],[1.0,\"#f0f921\"]]}],\"surface\":[{\"type\":\"surface\",\"colorbar\":{\"outlinewidth\":0,\"ticks\":\"\"},\"colorscale\":[[0.0,\"#0d0887\"],[0.1111111111111111,\"#46039f\"],[0.2222222222222222,\"#7201a8\"],[0.3333333333333333,\"#9c179e\"],[0.4444444444444444,\"#bd3786\"],[0.5555555555555556,\"#d8576b\"],[0.6666666666666666,\"#ed7953\"],[0.7777777777777778,\"#fb9f3a\"],[0.8888888888888888,\"#fdca26\"],[1.0,\"#f0f921\"]]}],\"mesh3d\":[{\"type\":\"mesh3d\",\"colorbar\":{\"outlinewidth\":0,\"ticks\":\"\"}}],\"scatter\":[{\"fillpattern\":{\"fillmode\":\"overlay\",\"size\":10,\"solidity\":0.2},\"type\":\"scatter\"}],\"parcoords\":[{\"type\":\"parcoords\",\"line\":{\"colorbar\":{\"outlinewidth\":0,\"ticks\":\"\"}}}],\"scatterpolargl\":[{\"type\":\"scatterpolargl\",\"marker\":{\"colorbar\":{\"outlinewidth\":0,\"ticks\":\"\"}}}],\"bar\":[{\"error_x\":{\"color\":\"#2a3f5f\"},\"error_y\":{\"color\":\"#2a3f5f\"},\"marker\":{\"line\":{\"color\":\"#E5ECF6\",\"width\":0.5},\"pattern\":{\"fillmode\":\"overlay\",\"size\":10,\"solidity\":0.2}},\"type\":\"bar\"}],\"scattergeo\":[{\"type\":\"scattergeo\",\"marker\":{\"colorbar\":{\"outlinewidth\":0,\"ticks\":\"\"}}}],\"scatterpolar\":[{\"type\":\"scatterpolar\",\"marker\":{\"colorbar\":{\"outlinewidth\":0,\"ticks\":\"\"}}}],\"histogram\":[{\"marker\":{\"pattern\":{\"fillmode\":\"overlay\",\"size\":10,\"solidity\":0.2}},\"type\":\"histogram\"}],\"scattergl\":[{\"type\":\"scattergl\",\"marker\":{\"colorbar\":{\"outlinewidth\":0,\"ticks\":\"\"}}}],\"scatter3d\":[{\"type\":\"scatter3d\",\"line\":{\"colorbar\":{\"outlinewidth\":0,\"ticks\":\"\"}},\"marker\":{\"colorbar\":{\"outlinewidth\":0,\"ticks\":\"\"}}}],\"scattermapbox\":[{\"type\":\"scattermapbox\",\"marker\":{\"colorbar\":{\"outlinewidth\":0,\"ticks\":\"\"}}}],\"scatterternary\":[{\"type\":\"scatterternary\",\"marker\":{\"colorbar\":{\"outlinewidth\":0,\"ticks\":\"\"}}}],\"scattercarpet\":[{\"type\":\"scattercarpet\",\"marker\":{\"colorbar\":{\"outlinewidth\":0,\"ticks\":\"\"}}}],\"carpet\":[{\"aaxis\":{\"endlinecolor\":\"#2a3f5f\",\"gridcolor\":\"white\",\"linecolor\":\"white\",\"minorgridcolor\":\"white\",\"startlinecolor\":\"#2a3f5f\"},\"baxis\":{\"endlinecolor\":\"#2a3f5f\",\"gridcolor\":\"white\",\"linecolor\":\"white\",\"minorgridcolor\":\"white\",\"startlinecolor\":\"#2a3f5f\"},\"type\":\"carpet\"}],\"table\":[{\"cells\":{\"fill\":{\"color\":\"#EBF0F8\"},\"line\":{\"color\":\"white\"}},\"header\":{\"fill\":{\"color\":\"#C8D4E3\"},\"line\":{\"color\":\"white\"}},\"type\":\"table\"}],\"barpolar\":[{\"marker\":{\"line\":{\"color\":\"#E5ECF6\",\"width\":0.5},\"pattern\":{\"fillmode\":\"overlay\",\"size\":10,\"solidity\":0.2}},\"type\":\"barpolar\"}],\"pie\":[{\"automargin\":true,\"type\":\"pie\"}]},\"layout\":{\"autotypenumbers\":\"strict\",\"colorway\":[\"#636efa\",\"#EF553B\",\"#00cc96\",\"#ab63fa\",\"#FFA15A\",\"#19d3f3\",\"#FF6692\",\"#B6E880\",\"#FF97FF\",\"#FECB52\"],\"font\":{\"color\":\"#2a3f5f\"},\"hovermode\":\"closest\",\"hoverlabel\":{\"align\":\"left\"},\"paper_bgcolor\":\"white\",\"plot_bgcolor\":\"#E5ECF6\",\"polar\":{\"bgcolor\":\"#E5ECF6\",\"angularaxis\":{\"gridcolor\":\"white\",\"linecolor\":\"white\",\"ticks\":\"\"},\"radialaxis\":{\"gridcolor\":\"white\",\"linecolor\":\"white\",\"ticks\":\"\"}},\"ternary\":{\"bgcolor\":\"#E5ECF6\",\"aaxis\":{\"gridcolor\":\"white\",\"linecolor\":\"white\",\"ticks\":\"\"},\"baxis\":{\"gridcolor\":\"white\",\"linecolor\":\"white\",\"ticks\":\"\"},\"caxis\":{\"gridcolor\":\"white\",\"linecolor\":\"white\",\"ticks\":\"\"}},\"coloraxis\":{\"colorbar\":{\"outlinewidth\":0,\"ticks\":\"\"}},\"colorscale\":{\"sequential\":[[0.0,\"#0d0887\"],[0.1111111111111111,\"#46039f\"],[0.2222222222222222,\"#7201a8\"],[0.3333333333333333,\"#9c179e\"],[0.4444444444444444,\"#bd3786\"],[0.5555555555555556,\"#d8576b\"],[0.6666666666666666,\"#ed7953\"],[0.7777777777777778,\"#fb9f3a\"],[0.8888888888888888,\"#fdca26\"],[1.0,\"#f0f921\"]],\"sequentialminus\":[[0.0,\"#0d0887\"],[0.1111111111111111,\"#46039f\"],[0.2222222222222222,\"#7201a8\"],[0.3333333333333333,\"#9c179e\"],[0.4444444444444444,\"#bd3786\"],[0.5555555555555556,\"#d8576b\"],[0.6666666666666666,\"#ed7953\"],[0.7777777777777778,\"#fb9f3a\"],[0.8888888888888888,\"#fdca26\"],[1.0,\"#f0f921\"]],\"diverging\":[[0,\"#8e0152\"],[0.1,\"#c51b7d\"],[0.2,\"#de77ae\"],[0.3,\"#f1b6da\"],[0.4,\"#fde0ef\"],[0.5,\"#f7f7f7\"],[0.6,\"#e6f5d0\"],[0.7,\"#b8e186\"],[0.8,\"#7fbc41\"],[0.9,\"#4d9221\"],[1,\"#276419\"]]},\"xaxis\":{\"gridcolor\":\"white\",\"linecolor\":\"white\",\"ticks\":\"\",\"title\":{\"standoff\":15},\"zerolinecolor\":\"white\",\"automargin\":true,\"zerolinewidth\":2},\"yaxis\":{\"gridcolor\":\"white\",\"linecolor\":\"white\",\"ticks\":\"\",\"title\":{\"standoff\":15},\"zerolinecolor\":\"white\",\"automargin\":true,\"zerolinewidth\":2},\"scene\":{\"xaxis\":{\"backgroundcolor\":\"#E5ECF6\",\"gridcolor\":\"white\",\"linecolor\":\"white\",\"showbackground\":true,\"ticks\":\"\",\"zerolinecolor\":\"white\",\"gridwidth\":2},\"yaxis\":{\"backgroundcolor\":\"#E5ECF6\",\"gridcolor\":\"white\",\"linecolor\":\"white\",\"showbackground\":true,\"ticks\":\"\",\"zerolinecolor\":\"white\",\"gridwidth\":2},\"zaxis\":{\"backgroundcolor\":\"#E5ECF6\",\"gridcolor\":\"white\",\"linecolor\":\"white\",\"showbackground\":true,\"ticks\":\"\",\"zerolinecolor\":\"white\",\"gridwidth\":2}},\"shapedefaults\":{\"line\":{\"color\":\"#2a3f5f\"}},\"annotationdefaults\":{\"arrowcolor\":\"#2a3f5f\",\"arrowhead\":0,\"arrowwidth\":1},\"geo\":{\"bgcolor\":\"white\",\"landcolor\":\"#E5ECF6\",\"subunitcolor\":\"white\",\"showland\":true,\"showlakes\":true,\"lakecolor\":\"white\"},\"title\":{\"x\":0.05},\"mapbox\":{\"style\":\"light\"}}},\"xaxis\":{\"anchor\":\"y\",\"domain\":[0.0,1.0],\"title\":{\"text\":\"k\"}},\"yaxis\":{\"anchor\":\"x\",\"domain\":[0.0,1.0],\"title\":{\"text\":\"topk metric\"}},\"legend\":{\"tracegroupgap\":0},\"title\":{\"text\":\"Avg logit diff between IO and avg of topk answer logits: places\"}},                        {\"responsive\": true}                    ).then(function(){\n",
       "                            \n",
       "var gd = document.getElementById('9b6aebde-c99c-41d4-b0f0-1c0aec1dbc8b');\n",
       "var x = new MutationObserver(function (mutations, observer) {{\n",
       "        var display = window.getComputedStyle(gd).display;\n",
       "        if (!display || display === 'none') {{\n",
       "            console.log([gd, 'removed!']);\n",
       "            Plotly.purge(gd);\n",
       "            observer.disconnect();\n",
       "        }}\n",
       "}});\n",
       "\n",
       "// Listen for the removal of the full notebook cells\n",
       "var notebookContainer = gd.closest('#notebook-container');\n",
       "if (notebookContainer) {{\n",
       "    x.observe(notebookContainer, {childList: true});\n",
       "}}\n",
       "\n",
       "// Listen for the clearing of the current output cell\n",
       "var outputEl = gd.closest('.output');\n",
       "if (outputEl) {{\n",
       "    x.observe(outputEl, {childList: true});\n",
       "}}\n",
       "\n",
       "                        })                };                });            </script>        </div>"
      ]
     },
     "metadata": {},
     "output_type": "display_data"
    },
    {
     "ename": "NameError",
     "evalue": "name 'full_test' is not defined",
     "output_type": "error",
     "traceback": [
      "\u001b[0;31m---------------------------------------------------------------------------\u001b[0m",
      "\u001b[0;31mNameError\u001b[0m                                 Traceback (most recent call last)",
      "Cell \u001b[0;32mIn[20], line 9\u001b[0m\n\u001b[1;32m      5\u001b[0m scatter(x\u001b[39m=\u001b[39m t\u001b[39m.\u001b[39mtensor(rel_test)[:,\u001b[39m0\u001b[39m], y \u001b[39m=\u001b[39m t\u001b[39m.\u001b[39mtensor(rel_test)[:,\u001b[39m1\u001b[39m],xaxis \u001b[39m=\u001b[39m \u001b[39m'\u001b[39m\u001b[39mk\u001b[39m\u001b[39m'\u001b[39m, yaxis \u001b[39m=\u001b[39m \u001b[39m'\u001b[39m\u001b[39mtopk metric\u001b[39m\u001b[39m'\u001b[39m, title \u001b[39m=\u001b[39m \u001b[39m'\u001b[39m\u001b[39mAvg logit diff between IO and avg of topk answer logits: rel\u001b[39m\u001b[39m'\u001b[39m)\n\u001b[1;32m      7\u001b[0m scatter(x\u001b[39m=\u001b[39m t\u001b[39m.\u001b[39mtensor(pl_test)[:,\u001b[39m0\u001b[39m], y \u001b[39m=\u001b[39m t\u001b[39m.\u001b[39mtensor(pl_test)[:,\u001b[39m1\u001b[39m],xaxis \u001b[39m=\u001b[39m \u001b[39m'\u001b[39m\u001b[39mk\u001b[39m\u001b[39m'\u001b[39m, yaxis \u001b[39m=\u001b[39m \u001b[39m'\u001b[39m\u001b[39mtopk metric\u001b[39m\u001b[39m'\u001b[39m, title \u001b[39m=\u001b[39m \u001b[39m'\u001b[39m\u001b[39mAvg logit diff between IO and avg of topk answer logits: places\u001b[39m\u001b[39m'\u001b[39m)\n\u001b[0;32m----> 9\u001b[0m scatter(x\u001b[39m=\u001b[39m t\u001b[39m.\u001b[39mtensor(full_test)[:,\u001b[39m0\u001b[39m], y \u001b[39m=\u001b[39m t\u001b[39m.\u001b[39mtensor(full_test)[:,\u001b[39m1\u001b[39m],xaxis \u001b[39m=\u001b[39m \u001b[39m'\u001b[39m\u001b[39mk\u001b[39m\u001b[39m'\u001b[39m, yaxis \u001b[39m=\u001b[39m \u001b[39m'\u001b[39m\u001b[39mtopk metric\u001b[39m\u001b[39m'\u001b[39m, title \u001b[39m=\u001b[39m \u001b[39m'\u001b[39m\u001b[39mAvg logit diff between IO and avg of topk answer logits: full\u001b[39m\u001b[39m'\u001b[39m)\n",
      "\u001b[0;31mNameError\u001b[0m: name 'full_test' is not defined"
     ]
    }
   ],
   "source": [
    "scatter(x= t.tensor(noun_test)[:,0], y = t.tensor(noun_test)[:,1],xaxis = 'k', yaxis = 'topk metric', title = 'Avg logit diff between IO and avg of topk answer logits: nouns')\n",
    "\n",
    "scatter(x= t.tensor(pnoun_test)[:,0], y = t.tensor(pnoun_test)[:,1],xaxis = 'k', yaxis = 'topk metric', title = 'Avg logit diff between IO and avg of topk answer logits: pnouns')\n",
    "\n",
    "scatter(x= t.tensor(rel_test)[:,0], y = t.tensor(rel_test)[:,1],xaxis = 'k', yaxis = 'topk metric', title = 'Avg logit diff between IO and avg of topk answer logits: rel')\n",
    "\n",
    "scatter(x= t.tensor(pl_test)[:,0], y = t.tensor(pl_test)[:,1],xaxis = 'k', yaxis = 'topk metric', title = 'Avg logit diff between IO and avg of topk answer logits: places')\n",
    "\n",
    "scatter(x= t.tensor(full_test)[:,0], y = t.tensor(full_test)[:,1],xaxis = 'k', yaxis = 'topk metric', title = 'Avg logit diff between IO and avg of topk answer logits: full')\n"
   ]
  },
  {
   "cell_type": "code",
   "execution_count": 99,
   "metadata": {},
   "outputs": [
    {
     "name": "stdout",
     "output_type": "stream",
     "text": [
      "tensor([6.0799, 6.6105, 6.0799, 6.6105, 6.9583, 7.6488, 5.8347, 6.5381, 5.4844,\n",
      "        5.6854, 5.6163, 4.8832, 5.8347, 6.5381, 6.7136, 6.4109, 5.3798, 5.1894,\n",
      "        7.2153, 6.9098])\n"
     ]
    },
    {
     "data": {
      "text/plain": [
       "tensor(5.0443)"
      ]
     },
     "execution_count": 99,
     "metadata": {},
     "output_type": "execute_result"
    }
   ],
   "source": [
    "### could also take the difference between the IO logits and the average of the logits for the other names in the set, to check for correlations among the words \n",
    "\n",
    "\n",
    "def ave_logit_diff_assoc(prompts, answer_tokens, per_prompt = False):\n",
    "    final_logits = model(prompts)[:,-1,:]\n",
    "    answer_logits = final_logits.gather(dim = -1, index = answer_tokens)[:,0]\n",
    "\n",
    "\n",
    "    # take the average of the other answers in the same distribution\n",
    "    ave_assoc = (final_logits[:,answer_tokens[:,0]].sum(dim=-1) - answer_logits)/(len(prompts) - 1)\n",
    "    print(ave_assoc)\n",
    "    answer_logit_diff = answer_logits - ave_assoc\n",
    "    #print(answer_logits, topk_avg)\n",
    "    if per_prompt:\n",
    "        return answer_logit_diff \n",
    "    else:\n",
    "        return answer_logit_diff.mean()\n",
    "\n",
    "\n",
    "ave_logit_diff_assoc(prompts_n, ans_toks_n)\n"
   ]
  },
  {
   "cell_type": "code",
   "execution_count": 100,
   "metadata": {},
   "outputs": [],
   "source": [
    "def make_table(prompts, answers, answer_tokens, title):\n",
    "    cols = [\n",
    "        \"Prompt\", \n",
    "        Column(\"Correct\", style=\"rgb(0,200,0) bold\"), \n",
    "        Column(\"Incorrect\", style=\"rgb(255,0,0) bold\"), \n",
    "        Column(\"Logit Difference\", style=\"bold\")\n",
    "    ]\n",
    "    logit_diffs = ave_logit_diff(prompts,answer_tokens, per_prompt = True)\n",
    "    \n",
    "    ave_logits = ave_logit_diff(prompts,answer_tokens, per_prompt = False)\n",
    "    logit_diff_table = Table(*cols, title=title + f\": Ave logit diff = {ave_logits.item():.3f}\")\n",
    "    logit_diffs = ave_logit_diff(prompts,answer_tokens, per_prompt = True)\n",
    "    \n",
    "    ave_logits = ave_logit_diff(prompts,answer_tokens, per_prompt = False)\n",
    "                                 \n",
    "    ave_logit_diff(prompts, answer_tokens)\n",
    "    for prompt, ans, logit_diff in zip(prompts, answers,logit_diffs):\n",
    "        logit_diff_table.add_row(prompt, ans[0], ans[1], f\"{logit_diff.item():.3f}\")\n",
    "    rprint(logit_diff_table)"
   ]
  },
  {
   "cell_type": "code",
   "execution_count": 101,
   "metadata": {},
   "outputs": [
    {
     "data": {
      "text/html": [
       "<pre style=\"white-space:pre;overflow-x:auto;line-height:normal;font-family:Menlo,'DejaVu Sans Mono',consolas,'Courier New',monospace\"><span style=\"font-style: italic\">                                  Control Names: Ave logit diff = 3.552                                   </span>\n",
       "┏━━━━━━━━━━━━━━━━━━━━━━━━━━━━━━━━━━━━━━━━━━━━━━━━━━━━━━━━━━━━━━━┳━━━━━━━━━┳━━━━━━━━━━━┳━━━━━━━━━━━━━━━━━━┓\n",
       "┃<span style=\"font-weight: bold\"> Prompt                                                        </span>┃<span style=\"font-weight: bold\"> Correct </span>┃<span style=\"font-weight: bold\"> Incorrect </span>┃<span style=\"font-weight: bold\"> Logit Difference </span>┃\n",
       "┡━━━━━━━━━━━━━━━━━━━━━━━━━━━━━━━━━━━━━━━━━━━━━━━━━━━━━━━━━━━━━━━╇━━━━━━━━━╇━━━━━━━━━━━╇━━━━━━━━━━━━━━━━━━┩\n",
       "│ When John and Mary went to the shops, John gave the bag to    │<span style=\"color: #00c800; text-decoration-color: #00c800; font-weight: bold\">  Mary   </span>│<span style=\"color: #ff0000; text-decoration-color: #ff0000; font-weight: bold\">  John     </span>│<span style=\"font-weight: bold\"> 3.337            </span>│\n",
       "│ When John and Mary went to the shops, Mary gave the bag to    │<span style=\"color: #00c800; text-decoration-color: #00c800; font-weight: bold\">  John   </span>│<span style=\"color: #ff0000; text-decoration-color: #ff0000; font-weight: bold\">  Mary     </span>│<span style=\"font-weight: bold\"> 3.202            </span>│\n",
       "│ When Tom and James went to the park, James gave the ball to   │<span style=\"color: #00c800; text-decoration-color: #00c800; font-weight: bold\">  Tom    </span>│<span style=\"color: #ff0000; text-decoration-color: #ff0000; font-weight: bold\">  James    </span>│<span style=\"font-weight: bold\"> 2.709            </span>│\n",
       "│ When Tom and James went to the park, Tom gave the ball to     │<span style=\"color: #00c800; text-decoration-color: #00c800; font-weight: bold\">  James  </span>│<span style=\"color: #ff0000; text-decoration-color: #ff0000; font-weight: bold\">  Tom      </span>│<span style=\"font-weight: bold\"> 3.797            </span>│\n",
       "│ When Dan and Sid went to the shops, Sid gave an apple to      │<span style=\"color: #00c800; text-decoration-color: #00c800; font-weight: bold\">  Dan    </span>│<span style=\"color: #ff0000; text-decoration-color: #ff0000; font-weight: bold\">  Sid      </span>│<span style=\"font-weight: bold\"> 1.720            </span>│\n",
       "│ When Dan and Sid went to the shops, Dan gave an apple to      │<span style=\"color: #00c800; text-decoration-color: #00c800; font-weight: bold\">  Sid    </span>│<span style=\"color: #ff0000; text-decoration-color: #ff0000; font-weight: bold\">  Dan      </span>│<span style=\"font-weight: bold\"> 5.281            </span>│\n",
       "│ After Martin and Amy went to the park, Amy gave a drink to    │<span style=\"color: #00c800; text-decoration-color: #00c800; font-weight: bold\">  Martin </span>│<span style=\"color: #ff0000; text-decoration-color: #ff0000; font-weight: bold\">  Amy      </span>│<span style=\"font-weight: bold\"> 2.601            </span>│\n",
       "│ After Martin and Amy went to the park, Martin gave a drink to │<span style=\"color: #00c800; text-decoration-color: #00c800; font-weight: bold\">  Amy    </span>│<span style=\"color: #ff0000; text-decoration-color: #ff0000; font-weight: bold\">  Martin   </span>│<span style=\"font-weight: bold\"> 5.767            </span>│\n",
       "└───────────────────────────────────────────────────────────────┴─────────┴───────────┴──────────────────┘\n",
       "</pre>\n"
      ],
      "text/plain": [
       "\u001b[3m                                  Control Names: Ave logit diff = 3.552                                   \u001b[0m\n",
       "┏━━━━━━━━━━━━━━━━━━━━━━━━━━━━━━━━━━━━━━━━━━━━━━━━━━━━━━━━━━━━━━━┳━━━━━━━━━┳━━━━━━━━━━━┳━━━━━━━━━━━━━━━━━━┓\n",
       "┃\u001b[1m \u001b[0m\u001b[1mPrompt                                                       \u001b[0m\u001b[1m \u001b[0m┃\u001b[1m \u001b[0m\u001b[1mCorrect\u001b[0m\u001b[1m \u001b[0m┃\u001b[1m \u001b[0m\u001b[1mIncorrect\u001b[0m\u001b[1m \u001b[0m┃\u001b[1m \u001b[0m\u001b[1mLogit Difference\u001b[0m\u001b[1m \u001b[0m┃\n",
       "┡━━━━━━━━━━━━━━━━━━━━━━━━━━━━━━━━━━━━━━━━━━━━━━━━━━━━━━━━━━━━━━━╇━━━━━━━━━╇━━━━━━━━━━━╇━━━━━━━━━━━━━━━━━━┩\n",
       "│ When John and Mary went to the shops, John gave the bag to    │\u001b[1;38;2;0;200;0m \u001b[0m\u001b[1;38;2;0;200;0m Mary  \u001b[0m\u001b[1;38;2;0;200;0m \u001b[0m│\u001b[1;38;2;255;0;0m \u001b[0m\u001b[1;38;2;255;0;0m John    \u001b[0m\u001b[1;38;2;255;0;0m \u001b[0m│\u001b[1m \u001b[0m\u001b[1m3.337           \u001b[0m\u001b[1m \u001b[0m│\n",
       "│ When John and Mary went to the shops, Mary gave the bag to    │\u001b[1;38;2;0;200;0m \u001b[0m\u001b[1;38;2;0;200;0m John  \u001b[0m\u001b[1;38;2;0;200;0m \u001b[0m│\u001b[1;38;2;255;0;0m \u001b[0m\u001b[1;38;2;255;0;0m Mary    \u001b[0m\u001b[1;38;2;255;0;0m \u001b[0m│\u001b[1m \u001b[0m\u001b[1m3.202           \u001b[0m\u001b[1m \u001b[0m│\n",
       "│ When Tom and James went to the park, James gave the ball to   │\u001b[1;38;2;0;200;0m \u001b[0m\u001b[1;38;2;0;200;0m Tom   \u001b[0m\u001b[1;38;2;0;200;0m \u001b[0m│\u001b[1;38;2;255;0;0m \u001b[0m\u001b[1;38;2;255;0;0m James   \u001b[0m\u001b[1;38;2;255;0;0m \u001b[0m│\u001b[1m \u001b[0m\u001b[1m2.709           \u001b[0m\u001b[1m \u001b[0m│\n",
       "│ When Tom and James went to the park, Tom gave the ball to     │\u001b[1;38;2;0;200;0m \u001b[0m\u001b[1;38;2;0;200;0m James \u001b[0m\u001b[1;38;2;0;200;0m \u001b[0m│\u001b[1;38;2;255;0;0m \u001b[0m\u001b[1;38;2;255;0;0m Tom     \u001b[0m\u001b[1;38;2;255;0;0m \u001b[0m│\u001b[1m \u001b[0m\u001b[1m3.797           \u001b[0m\u001b[1m \u001b[0m│\n",
       "│ When Dan and Sid went to the shops, Sid gave an apple to      │\u001b[1;38;2;0;200;0m \u001b[0m\u001b[1;38;2;0;200;0m Dan   \u001b[0m\u001b[1;38;2;0;200;0m \u001b[0m│\u001b[1;38;2;255;0;0m \u001b[0m\u001b[1;38;2;255;0;0m Sid     \u001b[0m\u001b[1;38;2;255;0;0m \u001b[0m│\u001b[1m \u001b[0m\u001b[1m1.720           \u001b[0m\u001b[1m \u001b[0m│\n",
       "│ When Dan and Sid went to the shops, Dan gave an apple to      │\u001b[1;38;2;0;200;0m \u001b[0m\u001b[1;38;2;0;200;0m Sid   \u001b[0m\u001b[1;38;2;0;200;0m \u001b[0m│\u001b[1;38;2;255;0;0m \u001b[0m\u001b[1;38;2;255;0;0m Dan     \u001b[0m\u001b[1;38;2;255;0;0m \u001b[0m│\u001b[1m \u001b[0m\u001b[1m5.281           \u001b[0m\u001b[1m \u001b[0m│\n",
       "│ After Martin and Amy went to the park, Amy gave a drink to    │\u001b[1;38;2;0;200;0m \u001b[0m\u001b[1;38;2;0;200;0m Martin\u001b[0m\u001b[1;38;2;0;200;0m \u001b[0m│\u001b[1;38;2;255;0;0m \u001b[0m\u001b[1;38;2;255;0;0m Amy     \u001b[0m\u001b[1;38;2;255;0;0m \u001b[0m│\u001b[1m \u001b[0m\u001b[1m2.601           \u001b[0m\u001b[1m \u001b[0m│\n",
       "│ After Martin and Amy went to the park, Martin gave a drink to │\u001b[1;38;2;0;200;0m \u001b[0m\u001b[1;38;2;0;200;0m Amy   \u001b[0m\u001b[1;38;2;0;200;0m \u001b[0m│\u001b[1;38;2;255;0;0m \u001b[0m\u001b[1;38;2;255;0;0m Martin  \u001b[0m\u001b[1;38;2;255;0;0m \u001b[0m│\u001b[1m \u001b[0m\u001b[1m5.767           \u001b[0m\u001b[1m \u001b[0m│\n",
       "└───────────────────────────────────────────────────────────────┴─────────┴───────────┴──────────────────┘\n"
      ]
     },
     "metadata": {},
     "output_type": "display_data"
    }
   ],
   "source": [
    "make_table(control_prompts, control_answers, control_ans_prompts, \"Control Names\")"
   ]
  },
  {
   "cell_type": "code",
   "execution_count": 16,
   "metadata": {},
   "outputs": [
    {
     "data": {
      "text/plain": [
       "([' lamp', ' flower'], [' lamp', ' flower'], (' lamp', ' flower'))"
      ]
     },
     "execution_count": 16,
     "metadata": {},
     "output_type": "execute_result"
    }
   ],
   "source": [
    "#[(model.to_str_tokens(ans_toks_n[k],ans_n[k]), model.to_str_tokens(ans_toks_n[k]),model.to_str_tokens(ans_n[k]), ans_n[k]) for k in range(len(ans_toks_n))]\n",
    "\n",
    "test = ans_toks_n[10]\n",
    "test_ans = ans_n[10]\n",
    "[model.tokenizer.decode(test[i]) for i in range(len(test))], model.to_str_tokens(test), ans_n[10]\n"
   ]
  },
  {
   "cell_type": "code",
   "execution_count": null,
   "metadata": {},
   "outputs": [],
   "source": []
  },
  {
   "cell_type": "code",
   "execution_count": 17,
   "metadata": {},
   "outputs": [
    {
     "data": {
      "text/html": [
       "<pre style=\"white-space:pre;overflow-x:auto;line-height:normal;font-family:Menlo,'DejaVu Sans Mono',consolas,'Courier New',monospace\"><span style=\"font-style: italic\">                                        nouns: Ave logit diff = 0.273                                        </span>\n",
       "┏━━━━━━━━━━━━━━━━━━━━━━━━━━━━━━━━━━━━━━━━━━━━━━━━━━━━━━━━━━━━━━━━━━┳━━━━━━━━━┳━━━━━━━━━━━┳━━━━━━━━━━━━━━━━━━┓\n",
       "┃<span style=\"font-weight: bold\"> Prompt                                                           </span>┃<span style=\"font-weight: bold\"> Correct </span>┃<span style=\"font-weight: bold\"> Incorrect </span>┃<span style=\"font-weight: bold\"> Logit Difference </span>┃\n",
       "┡━━━━━━━━━━━━━━━━━━━━━━━━━━━━━━━━━━━━━━━━━━━━━━━━━━━━━━━━━━━━━━━━━━╇━━━━━━━━━╇━━━━━━━━━━━╇━━━━━━━━━━━━━━━━━━┩\n",
       "│ When lamp and google went to the shops, google gave the bag to   │<span style=\"color: #00c800; text-decoration-color: #00c800; font-weight: bold\">  lamp   </span>│<span style=\"color: #ff0000; text-decoration-color: #ff0000; font-weight: bold\">  google   </span>│<span style=\"font-weight: bold\"> -0.847           </span>│\n",
       "│ When lamp and google went to the shops, lamp gave the bag to     │<span style=\"color: #00c800; text-decoration-color: #00c800; font-weight: bold\">  google </span>│<span style=\"color: #ff0000; text-decoration-color: #ff0000; font-weight: bold\">  lamp     </span>│<span style=\"font-weight: bold\"> 0.923            </span>│\n",
       "│ When church and lamp went to the shops, lamp gave the bag to     │<span style=\"color: #00c800; text-decoration-color: #00c800; font-weight: bold\">  church </span>│<span style=\"color: #ff0000; text-decoration-color: #ff0000; font-weight: bold\">  lamp     </span>│<span style=\"font-weight: bold\"> 1.473            </span>│\n",
       "│ When church and lamp went to the shops, church gave the bag to   │<span style=\"color: #00c800; text-decoration-color: #00c800; font-weight: bold\">  lamp   </span>│<span style=\"color: #ff0000; text-decoration-color: #ff0000; font-weight: bold\">  church   </span>│<span style=\"font-weight: bold\"> -1.282           </span>│\n",
       "│ When church and flower went to the shops, flower gave the bag to │<span style=\"color: #00c800; text-decoration-color: #00c800; font-weight: bold\">  church </span>│<span style=\"color: #ff0000; text-decoration-color: #ff0000; font-weight: bold\">  flower   </span>│<span style=\"font-weight: bold\"> 2.427            </span>│\n",
       "│ When church and flower went to the shops, church gave the bag to │<span style=\"color: #00c800; text-decoration-color: #00c800; font-weight: bold\">  flower </span>│<span style=\"color: #ff0000; text-decoration-color: #ff0000; font-weight: bold\">  church   </span>│<span style=\"font-weight: bold\"> -1.371           </span>│\n",
       "│ When church and flower went to the shops, flower gave the bag to │<span style=\"color: #00c800; text-decoration-color: #00c800; font-weight: bold\">  church </span>│<span style=\"color: #ff0000; text-decoration-color: #ff0000; font-weight: bold\">  flower   </span>│<span style=\"font-weight: bold\"> 2.427            </span>│\n",
       "│ When church and flower went to the shops, church gave the bag to │<span style=\"color: #00c800; text-decoration-color: #00c800; font-weight: bold\">  flower </span>│<span style=\"color: #ff0000; text-decoration-color: #ff0000; font-weight: bold\">  church   </span>│<span style=\"font-weight: bold\"> -1.371           </span>│\n",
       "│ When lamp and google went to the shops, google gave the bag to   │<span style=\"color: #00c800; text-decoration-color: #00c800; font-weight: bold\">  lamp   </span>│<span style=\"color: #ff0000; text-decoration-color: #ff0000; font-weight: bold\">  google   </span>│<span style=\"font-weight: bold\"> -0.847           </span>│\n",
       "│ When lamp and google went to the shops, lamp gave the bag to     │<span style=\"color: #00c800; text-decoration-color: #00c800; font-weight: bold\">  google </span>│<span style=\"color: #ff0000; text-decoration-color: #ff0000; font-weight: bold\">  lamp     </span>│<span style=\"font-weight: bold\"> 0.923            </span>│\n",
       "│ When lamp and flower went to the shops, flower gave the bag to   │<span style=\"color: #00c800; text-decoration-color: #00c800; font-weight: bold\">  lamp   </span>│<span style=\"color: #ff0000; text-decoration-color: #ff0000; font-weight: bold\">  flower   </span>│<span style=\"font-weight: bold\"> 1.438            </span>│\n",
       "│ When lamp and flower went to the shops, lamp gave the bag to     │<span style=\"color: #00c800; text-decoration-color: #00c800; font-weight: bold\">  flower </span>│<span style=\"color: #ff0000; text-decoration-color: #ff0000; font-weight: bold\">  lamp     </span>│<span style=\"font-weight: bold\"> 1.086            </span>│\n",
       "│ When bag and statue went to the shops, statue gave the bag to    │<span style=\"color: #00c800; text-decoration-color: #00c800; font-weight: bold\">  bag    </span>│<span style=\"color: #ff0000; text-decoration-color: #ff0000; font-weight: bold\">  statue   </span>│<span style=\"font-weight: bold\"> 0.192            </span>│\n",
       "│ When bag and statue went to the shops, bag gave the bag to       │<span style=\"color: #00c800; text-decoration-color: #00c800; font-weight: bold\">  statue </span>│<span style=\"color: #ff0000; text-decoration-color: #ff0000; font-weight: bold\">  bag      </span>│<span style=\"font-weight: bold\"> -0.594           </span>│\n",
       "│ When bag and church went to the shops, church gave the bag to    │<span style=\"color: #00c800; text-decoration-color: #00c800; font-weight: bold\">  bag    </span>│<span style=\"color: #ff0000; text-decoration-color: #ff0000; font-weight: bold\">  church   </span>│<span style=\"font-weight: bold\"> -2.265           </span>│\n",
       "│ When bag and church went to the shops, bag gave the bag to       │<span style=\"color: #00c800; text-decoration-color: #00c800; font-weight: bold\">  church </span>│<span style=\"color: #ff0000; text-decoration-color: #ff0000; font-weight: bold\">  bag      </span>│<span style=\"font-weight: bold\"> 2.326            </span>│\n",
       "│ When bag and chair went to the shops, chair gave the bag to      │<span style=\"color: #00c800; text-decoration-color: #00c800; font-weight: bold\">  bag    </span>│<span style=\"color: #ff0000; text-decoration-color: #ff0000; font-weight: bold\">  chair    </span>│<span style=\"font-weight: bold\"> 2.021            </span>│\n",
       "│ When bag and chair went to the shops, bag gave the bag to        │<span style=\"color: #00c800; text-decoration-color: #00c800; font-weight: bold\">  chair  </span>│<span style=\"color: #ff0000; text-decoration-color: #ff0000; font-weight: bold\">  bag      </span>│<span style=\"font-weight: bold\"> -1.671           </span>│\n",
       "│ When google and chair went to the shops, chair gave the bag to   │<span style=\"color: #00c800; text-decoration-color: #00c800; font-weight: bold\">  google </span>│<span style=\"color: #ff0000; text-decoration-color: #ff0000; font-weight: bold\">  chair    </span>│<span style=\"font-weight: bold\"> 0.347            </span>│\n",
       "│ When google and chair went to the shops, google gave the bag to  │<span style=\"color: #00c800; text-decoration-color: #00c800; font-weight: bold\">  chair  </span>│<span style=\"color: #ff0000; text-decoration-color: #ff0000; font-weight: bold\">  google   </span>│<span style=\"font-weight: bold\"> 0.130            </span>│\n",
       "└──────────────────────────────────────────────────────────────────┴─────────┴───────────┴──────────────────┘\n",
       "</pre>\n"
      ],
      "text/plain": [
       "\u001b[3m                                        nouns: Ave logit diff = 0.273                                        \u001b[0m\n",
       "┏━━━━━━━━━━━━━━━━━━━━━━━━━━━━━━━━━━━━━━━━━━━━━━━━━━━━━━━━━━━━━━━━━━┳━━━━━━━━━┳━━━━━━━━━━━┳━━━━━━━━━━━━━━━━━━┓\n",
       "┃\u001b[1m \u001b[0m\u001b[1mPrompt                                                          \u001b[0m\u001b[1m \u001b[0m┃\u001b[1m \u001b[0m\u001b[1mCorrect\u001b[0m\u001b[1m \u001b[0m┃\u001b[1m \u001b[0m\u001b[1mIncorrect\u001b[0m\u001b[1m \u001b[0m┃\u001b[1m \u001b[0m\u001b[1mLogit Difference\u001b[0m\u001b[1m \u001b[0m┃\n",
       "┡━━━━━━━━━━━━━━━━━━━━━━━━━━━━━━━━━━━━━━━━━━━━━━━━━━━━━━━━━━━━━━━━━━╇━━━━━━━━━╇━━━━━━━━━━━╇━━━━━━━━━━━━━━━━━━┩\n",
       "│ When lamp and google went to the shops, google gave the bag to   │\u001b[1;38;2;0;200;0m \u001b[0m\u001b[1;38;2;0;200;0m lamp  \u001b[0m\u001b[1;38;2;0;200;0m \u001b[0m│\u001b[1;38;2;255;0;0m \u001b[0m\u001b[1;38;2;255;0;0m google  \u001b[0m\u001b[1;38;2;255;0;0m \u001b[0m│\u001b[1m \u001b[0m\u001b[1m-0.847          \u001b[0m\u001b[1m \u001b[0m│\n",
       "│ When lamp and google went to the shops, lamp gave the bag to     │\u001b[1;38;2;0;200;0m \u001b[0m\u001b[1;38;2;0;200;0m google\u001b[0m\u001b[1;38;2;0;200;0m \u001b[0m│\u001b[1;38;2;255;0;0m \u001b[0m\u001b[1;38;2;255;0;0m lamp    \u001b[0m\u001b[1;38;2;255;0;0m \u001b[0m│\u001b[1m \u001b[0m\u001b[1m0.923           \u001b[0m\u001b[1m \u001b[0m│\n",
       "│ When church and lamp went to the shops, lamp gave the bag to     │\u001b[1;38;2;0;200;0m \u001b[0m\u001b[1;38;2;0;200;0m church\u001b[0m\u001b[1;38;2;0;200;0m \u001b[0m│\u001b[1;38;2;255;0;0m \u001b[0m\u001b[1;38;2;255;0;0m lamp    \u001b[0m\u001b[1;38;2;255;0;0m \u001b[0m│\u001b[1m \u001b[0m\u001b[1m1.473           \u001b[0m\u001b[1m \u001b[0m│\n",
       "│ When church and lamp went to the shops, church gave the bag to   │\u001b[1;38;2;0;200;0m \u001b[0m\u001b[1;38;2;0;200;0m lamp  \u001b[0m\u001b[1;38;2;0;200;0m \u001b[0m│\u001b[1;38;2;255;0;0m \u001b[0m\u001b[1;38;2;255;0;0m church  \u001b[0m\u001b[1;38;2;255;0;0m \u001b[0m│\u001b[1m \u001b[0m\u001b[1m-1.282          \u001b[0m\u001b[1m \u001b[0m│\n",
       "│ When church and flower went to the shops, flower gave the bag to │\u001b[1;38;2;0;200;0m \u001b[0m\u001b[1;38;2;0;200;0m church\u001b[0m\u001b[1;38;2;0;200;0m \u001b[0m│\u001b[1;38;2;255;0;0m \u001b[0m\u001b[1;38;2;255;0;0m flower  \u001b[0m\u001b[1;38;2;255;0;0m \u001b[0m│\u001b[1m \u001b[0m\u001b[1m2.427           \u001b[0m\u001b[1m \u001b[0m│\n",
       "│ When church and flower went to the shops, church gave the bag to │\u001b[1;38;2;0;200;0m \u001b[0m\u001b[1;38;2;0;200;0m flower\u001b[0m\u001b[1;38;2;0;200;0m \u001b[0m│\u001b[1;38;2;255;0;0m \u001b[0m\u001b[1;38;2;255;0;0m church  \u001b[0m\u001b[1;38;2;255;0;0m \u001b[0m│\u001b[1m \u001b[0m\u001b[1m-1.371          \u001b[0m\u001b[1m \u001b[0m│\n",
       "│ When church and flower went to the shops, flower gave the bag to │\u001b[1;38;2;0;200;0m \u001b[0m\u001b[1;38;2;0;200;0m church\u001b[0m\u001b[1;38;2;0;200;0m \u001b[0m│\u001b[1;38;2;255;0;0m \u001b[0m\u001b[1;38;2;255;0;0m flower  \u001b[0m\u001b[1;38;2;255;0;0m \u001b[0m│\u001b[1m \u001b[0m\u001b[1m2.427           \u001b[0m\u001b[1m \u001b[0m│\n",
       "│ When church and flower went to the shops, church gave the bag to │\u001b[1;38;2;0;200;0m \u001b[0m\u001b[1;38;2;0;200;0m flower\u001b[0m\u001b[1;38;2;0;200;0m \u001b[0m│\u001b[1;38;2;255;0;0m \u001b[0m\u001b[1;38;2;255;0;0m church  \u001b[0m\u001b[1;38;2;255;0;0m \u001b[0m│\u001b[1m \u001b[0m\u001b[1m-1.371          \u001b[0m\u001b[1m \u001b[0m│\n",
       "│ When lamp and google went to the shops, google gave the bag to   │\u001b[1;38;2;0;200;0m \u001b[0m\u001b[1;38;2;0;200;0m lamp  \u001b[0m\u001b[1;38;2;0;200;0m \u001b[0m│\u001b[1;38;2;255;0;0m \u001b[0m\u001b[1;38;2;255;0;0m google  \u001b[0m\u001b[1;38;2;255;0;0m \u001b[0m│\u001b[1m \u001b[0m\u001b[1m-0.847          \u001b[0m\u001b[1m \u001b[0m│\n",
       "│ When lamp and google went to the shops, lamp gave the bag to     │\u001b[1;38;2;0;200;0m \u001b[0m\u001b[1;38;2;0;200;0m google\u001b[0m\u001b[1;38;2;0;200;0m \u001b[0m│\u001b[1;38;2;255;0;0m \u001b[0m\u001b[1;38;2;255;0;0m lamp    \u001b[0m\u001b[1;38;2;255;0;0m \u001b[0m│\u001b[1m \u001b[0m\u001b[1m0.923           \u001b[0m\u001b[1m \u001b[0m│\n",
       "│ When lamp and flower went to the shops, flower gave the bag to   │\u001b[1;38;2;0;200;0m \u001b[0m\u001b[1;38;2;0;200;0m lamp  \u001b[0m\u001b[1;38;2;0;200;0m \u001b[0m│\u001b[1;38;2;255;0;0m \u001b[0m\u001b[1;38;2;255;0;0m flower  \u001b[0m\u001b[1;38;2;255;0;0m \u001b[0m│\u001b[1m \u001b[0m\u001b[1m1.438           \u001b[0m\u001b[1m \u001b[0m│\n",
       "│ When lamp and flower went to the shops, lamp gave the bag to     │\u001b[1;38;2;0;200;0m \u001b[0m\u001b[1;38;2;0;200;0m flower\u001b[0m\u001b[1;38;2;0;200;0m \u001b[0m│\u001b[1;38;2;255;0;0m \u001b[0m\u001b[1;38;2;255;0;0m lamp    \u001b[0m\u001b[1;38;2;255;0;0m \u001b[0m│\u001b[1m \u001b[0m\u001b[1m1.086           \u001b[0m\u001b[1m \u001b[0m│\n",
       "│ When bag and statue went to the shops, statue gave the bag to    │\u001b[1;38;2;0;200;0m \u001b[0m\u001b[1;38;2;0;200;0m bag   \u001b[0m\u001b[1;38;2;0;200;0m \u001b[0m│\u001b[1;38;2;255;0;0m \u001b[0m\u001b[1;38;2;255;0;0m statue  \u001b[0m\u001b[1;38;2;255;0;0m \u001b[0m│\u001b[1m \u001b[0m\u001b[1m0.192           \u001b[0m\u001b[1m \u001b[0m│\n",
       "│ When bag and statue went to the shops, bag gave the bag to       │\u001b[1;38;2;0;200;0m \u001b[0m\u001b[1;38;2;0;200;0m statue\u001b[0m\u001b[1;38;2;0;200;0m \u001b[0m│\u001b[1;38;2;255;0;0m \u001b[0m\u001b[1;38;2;255;0;0m bag     \u001b[0m\u001b[1;38;2;255;0;0m \u001b[0m│\u001b[1m \u001b[0m\u001b[1m-0.594          \u001b[0m\u001b[1m \u001b[0m│\n",
       "│ When bag and church went to the shops, church gave the bag to    │\u001b[1;38;2;0;200;0m \u001b[0m\u001b[1;38;2;0;200;0m bag   \u001b[0m\u001b[1;38;2;0;200;0m \u001b[0m│\u001b[1;38;2;255;0;0m \u001b[0m\u001b[1;38;2;255;0;0m church  \u001b[0m\u001b[1;38;2;255;0;0m \u001b[0m│\u001b[1m \u001b[0m\u001b[1m-2.265          \u001b[0m\u001b[1m \u001b[0m│\n",
       "│ When bag and church went to the shops, bag gave the bag to       │\u001b[1;38;2;0;200;0m \u001b[0m\u001b[1;38;2;0;200;0m church\u001b[0m\u001b[1;38;2;0;200;0m \u001b[0m│\u001b[1;38;2;255;0;0m \u001b[0m\u001b[1;38;2;255;0;0m bag     \u001b[0m\u001b[1;38;2;255;0;0m \u001b[0m│\u001b[1m \u001b[0m\u001b[1m2.326           \u001b[0m\u001b[1m \u001b[0m│\n",
       "│ When bag and chair went to the shops, chair gave the bag to      │\u001b[1;38;2;0;200;0m \u001b[0m\u001b[1;38;2;0;200;0m bag   \u001b[0m\u001b[1;38;2;0;200;0m \u001b[0m│\u001b[1;38;2;255;0;0m \u001b[0m\u001b[1;38;2;255;0;0m chair   \u001b[0m\u001b[1;38;2;255;0;0m \u001b[0m│\u001b[1m \u001b[0m\u001b[1m2.021           \u001b[0m\u001b[1m \u001b[0m│\n",
       "│ When bag and chair went to the shops, bag gave the bag to        │\u001b[1;38;2;0;200;0m \u001b[0m\u001b[1;38;2;0;200;0m chair \u001b[0m\u001b[1;38;2;0;200;0m \u001b[0m│\u001b[1;38;2;255;0;0m \u001b[0m\u001b[1;38;2;255;0;0m bag     \u001b[0m\u001b[1;38;2;255;0;0m \u001b[0m│\u001b[1m \u001b[0m\u001b[1m-1.671          \u001b[0m\u001b[1m \u001b[0m│\n",
       "│ When google and chair went to the shops, chair gave the bag to   │\u001b[1;38;2;0;200;0m \u001b[0m\u001b[1;38;2;0;200;0m google\u001b[0m\u001b[1;38;2;0;200;0m \u001b[0m│\u001b[1;38;2;255;0;0m \u001b[0m\u001b[1;38;2;255;0;0m chair   \u001b[0m\u001b[1;38;2;255;0;0m \u001b[0m│\u001b[1m \u001b[0m\u001b[1m0.347           \u001b[0m\u001b[1m \u001b[0m│\n",
       "│ When google and chair went to the shops, google gave the bag to  │\u001b[1;38;2;0;200;0m \u001b[0m\u001b[1;38;2;0;200;0m chair \u001b[0m\u001b[1;38;2;0;200;0m \u001b[0m│\u001b[1;38;2;255;0;0m \u001b[0m\u001b[1;38;2;255;0;0m google  \u001b[0m\u001b[1;38;2;255;0;0m \u001b[0m│\u001b[1m \u001b[0m\u001b[1m0.130           \u001b[0m\u001b[1m \u001b[0m│\n",
       "└──────────────────────────────────────────────────────────────────┴─────────┴───────────┴──────────────────┘\n"
      ]
     },
     "metadata": {},
     "output_type": "display_data"
    },
    {
     "data": {
      "text/html": [
       "<pre style=\"white-space:pre;overflow-x:auto;line-height:normal;font-family:Menlo,'DejaVu Sans Mono',consolas,'Courier New',monospace\"><span style=\"font-style: italic\">                                    proper nouns: Ave logit diff = 2.980                                    </span>\n",
       "┏━━━━━━━━━━━━━━━━━━━━━━━━━━━━━━━━━━━━━━━━━━━━━━━━━━━━━━━━━━━━━━━━━┳━━━━━━━━━┳━━━━━━━━━━━┳━━━━━━━━━━━━━━━━━━┓\n",
       "┃<span style=\"font-weight: bold\"> Prompt                                                          </span>┃<span style=\"font-weight: bold\"> Correct </span>┃<span style=\"font-weight: bold\"> Incorrect </span>┃<span style=\"font-weight: bold\"> Logit Difference </span>┃\n",
       "┡━━━━━━━━━━━━━━━━━━━━━━━━━━━━━━━━━━━━━━━━━━━━━━━━━━━━━━━━━━━━━━━━━╇━━━━━━━━━╇━━━━━━━━━━━╇━━━━━━━━━━━━━━━━━━┩\n",
       "│ When Google and Bag went to the shops, Bag gave the bag to      │<span style=\"color: #00c800; text-decoration-color: #00c800; font-weight: bold\">  Google </span>│<span style=\"color: #ff0000; text-decoration-color: #ff0000; font-weight: bold\">  Bag      </span>│<span style=\"font-weight: bold\"> 1.784            </span>│\n",
       "│ When Google and Bag went to the shops, Google gave the bag to   │<span style=\"color: #00c800; text-decoration-color: #00c800; font-weight: bold\">  Bag    </span>│<span style=\"color: #ff0000; text-decoration-color: #ff0000; font-weight: bold\">  Google   </span>│<span style=\"font-weight: bold\"> 0.465            </span>│\n",
       "│ When Bag and Chair went to the shops, Chair gave the bag to     │<span style=\"color: #00c800; text-decoration-color: #00c800; font-weight: bold\">  Bag    </span>│<span style=\"color: #ff0000; text-decoration-color: #ff0000; font-weight: bold\">  Chair    </span>│<span style=\"font-weight: bold\"> 5.655            </span>│\n",
       "│ When Bag and Chair went to the shops, Bag gave the bag to       │<span style=\"color: #00c800; text-decoration-color: #00c800; font-weight: bold\">  Chair  </span>│<span style=\"color: #ff0000; text-decoration-color: #ff0000; font-weight: bold\">  Bag      </span>│<span style=\"font-weight: bold\"> -0.154           </span>│\n",
       "│ When Church and Chair went to the shops, Chair gave the bag to  │<span style=\"color: #00c800; text-decoration-color: #00c800; font-weight: bold\">  Church </span>│<span style=\"color: #ff0000; text-decoration-color: #ff0000; font-weight: bold\">  Chair    </span>│<span style=\"font-weight: bold\"> 3.927            </span>│\n",
       "│ When Church and Chair went to the shops, Church gave the bag to │<span style=\"color: #00c800; text-decoration-color: #00c800; font-weight: bold\">  Chair  </span>│<span style=\"color: #ff0000; text-decoration-color: #ff0000; font-weight: bold\">  Church   </span>│<span style=\"font-weight: bold\"> 0.348            </span>│\n",
       "│ When Church and Bag went to the shops, Bag gave the bag to      │<span style=\"color: #00c800; text-decoration-color: #00c800; font-weight: bold\">  Church </span>│<span style=\"color: #ff0000; text-decoration-color: #ff0000; font-weight: bold\">  Bag      </span>│<span style=\"font-weight: bold\"> 1.459            </span>│\n",
       "│ When Church and Bag went to the shops, Church gave the bag to   │<span style=\"color: #00c800; text-decoration-color: #00c800; font-weight: bold\">  Bag    </span>│<span style=\"color: #ff0000; text-decoration-color: #ff0000; font-weight: bold\">  Church   </span>│<span style=\"font-weight: bold\"> 4.633            </span>│\n",
       "│ When Flower and Bag went to the shops, Bag gave the bag to      │<span style=\"color: #00c800; text-decoration-color: #00c800; font-weight: bold\">  Flower </span>│<span style=\"color: #ff0000; text-decoration-color: #ff0000; font-weight: bold\">  Bag      </span>│<span style=\"font-weight: bold\"> 0.085            </span>│\n",
       "│ When Flower and Bag went to the shops, Flower gave the bag to   │<span style=\"color: #00c800; text-decoration-color: #00c800; font-weight: bold\">  Bag    </span>│<span style=\"color: #ff0000; text-decoration-color: #ff0000; font-weight: bold\">  Flower   </span>│<span style=\"font-weight: bold\"> 6.739            </span>│\n",
       "│ When Statue and Bag went to the shops, Bag gave the bag to      │<span style=\"color: #00c800; text-decoration-color: #00c800; font-weight: bold\">  Statue </span>│<span style=\"color: #ff0000; text-decoration-color: #ff0000; font-weight: bold\">  Bag      </span>│<span style=\"font-weight: bold\"> -1.142           </span>│\n",
       "│ When Statue and Bag went to the shops, Statue gave the bag to   │<span style=\"color: #00c800; text-decoration-color: #00c800; font-weight: bold\">  Bag    </span>│<span style=\"color: #ff0000; text-decoration-color: #ff0000; font-weight: bold\">  Statue   </span>│<span style=\"font-weight: bold\"> 7.360            </span>│\n",
       "│ When Goose and Bag went to the shops, Bag gave the bag to       │<span style=\"color: #00c800; text-decoration-color: #00c800; font-weight: bold\">  Goose  </span>│<span style=\"color: #ff0000; text-decoration-color: #ff0000; font-weight: bold\">  Bag      </span>│<span style=\"font-weight: bold\"> 1.074            </span>│\n",
       "│ When Goose and Bag went to the shops, Goose gave the bag to     │<span style=\"color: #00c800; text-decoration-color: #00c800; font-weight: bold\">  Bag    </span>│<span style=\"color: #ff0000; text-decoration-color: #ff0000; font-weight: bold\">  Goose    </span>│<span style=\"font-weight: bold\"> 6.856            </span>│\n",
       "│ When Church and Bag went to the shops, Bag gave the bag to      │<span style=\"color: #00c800; text-decoration-color: #00c800; font-weight: bold\">  Church </span>│<span style=\"color: #ff0000; text-decoration-color: #ff0000; font-weight: bold\">  Bag      </span>│<span style=\"font-weight: bold\"> 1.459            </span>│\n",
       "│ When Church and Bag went to the shops, Church gave the bag to   │<span style=\"color: #00c800; text-decoration-color: #00c800; font-weight: bold\">  Bag    </span>│<span style=\"color: #ff0000; text-decoration-color: #ff0000; font-weight: bold\">  Church   </span>│<span style=\"font-weight: bold\"> 4.633            </span>│\n",
       "│ When Lamp and Google went to the shops, Google gave the bag to  │<span style=\"color: #00c800; text-decoration-color: #00c800; font-weight: bold\">  Lamp   </span>│<span style=\"color: #ff0000; text-decoration-color: #ff0000; font-weight: bold\">  Google   </span>│<span style=\"font-weight: bold\"> -0.010           </span>│\n",
       "│ When Lamp and Google went to the shops, Lamp gave the bag to    │<span style=\"color: #00c800; text-decoration-color: #00c800; font-weight: bold\">  Google </span>│<span style=\"color: #ff0000; text-decoration-color: #ff0000; font-weight: bold\">  Lamp     </span>│<span style=\"font-weight: bold\"> 3.533            </span>│\n",
       "│ When Flower and Goose went to the shops, Goose gave the bag to  │<span style=\"color: #00c800; text-decoration-color: #00c800; font-weight: bold\">  Flower </span>│<span style=\"color: #ff0000; text-decoration-color: #ff0000; font-weight: bold\">  Goose    </span>│<span style=\"font-weight: bold\"> 2.815            </span>│\n",
       "│ When Flower and Goose went to the shops, Flower gave the bag to │<span style=\"color: #00c800; text-decoration-color: #00c800; font-weight: bold\">  Goose  </span>│<span style=\"color: #ff0000; text-decoration-color: #ff0000; font-weight: bold\">  Flower   </span>│<span style=\"font-weight: bold\"> 8.076            </span>│\n",
       "└─────────────────────────────────────────────────────────────────┴─────────┴───────────┴──────────────────┘\n",
       "</pre>\n"
      ],
      "text/plain": [
       "\u001b[3m                                    proper nouns: Ave logit diff = 2.980                                    \u001b[0m\n",
       "┏━━━━━━━━━━━━━━━━━━━━━━━━━━━━━━━━━━━━━━━━━━━━━━━━━━━━━━━━━━━━━━━━━┳━━━━━━━━━┳━━━━━━━━━━━┳━━━━━━━━━━━━━━━━━━┓\n",
       "┃\u001b[1m \u001b[0m\u001b[1mPrompt                                                         \u001b[0m\u001b[1m \u001b[0m┃\u001b[1m \u001b[0m\u001b[1mCorrect\u001b[0m\u001b[1m \u001b[0m┃\u001b[1m \u001b[0m\u001b[1mIncorrect\u001b[0m\u001b[1m \u001b[0m┃\u001b[1m \u001b[0m\u001b[1mLogit Difference\u001b[0m\u001b[1m \u001b[0m┃\n",
       "┡━━━━━━━━━━━━━━━━━━━━━━━━━━━━━━━━━━━━━━━━━━━━━━━━━━━━━━━━━━━━━━━━━╇━━━━━━━━━╇━━━━━━━━━━━╇━━━━━━━━━━━━━━━━━━┩\n",
       "│ When Google and Bag went to the shops, Bag gave the bag to      │\u001b[1;38;2;0;200;0m \u001b[0m\u001b[1;38;2;0;200;0m Google\u001b[0m\u001b[1;38;2;0;200;0m \u001b[0m│\u001b[1;38;2;255;0;0m \u001b[0m\u001b[1;38;2;255;0;0m Bag     \u001b[0m\u001b[1;38;2;255;0;0m \u001b[0m│\u001b[1m \u001b[0m\u001b[1m1.784           \u001b[0m\u001b[1m \u001b[0m│\n",
       "│ When Google and Bag went to the shops, Google gave the bag to   │\u001b[1;38;2;0;200;0m \u001b[0m\u001b[1;38;2;0;200;0m Bag   \u001b[0m\u001b[1;38;2;0;200;0m \u001b[0m│\u001b[1;38;2;255;0;0m \u001b[0m\u001b[1;38;2;255;0;0m Google  \u001b[0m\u001b[1;38;2;255;0;0m \u001b[0m│\u001b[1m \u001b[0m\u001b[1m0.465           \u001b[0m\u001b[1m \u001b[0m│\n",
       "│ When Bag and Chair went to the shops, Chair gave the bag to     │\u001b[1;38;2;0;200;0m \u001b[0m\u001b[1;38;2;0;200;0m Bag   \u001b[0m\u001b[1;38;2;0;200;0m \u001b[0m│\u001b[1;38;2;255;0;0m \u001b[0m\u001b[1;38;2;255;0;0m Chair   \u001b[0m\u001b[1;38;2;255;0;0m \u001b[0m│\u001b[1m \u001b[0m\u001b[1m5.655           \u001b[0m\u001b[1m \u001b[0m│\n",
       "│ When Bag and Chair went to the shops, Bag gave the bag to       │\u001b[1;38;2;0;200;0m \u001b[0m\u001b[1;38;2;0;200;0m Chair \u001b[0m\u001b[1;38;2;0;200;0m \u001b[0m│\u001b[1;38;2;255;0;0m \u001b[0m\u001b[1;38;2;255;0;0m Bag     \u001b[0m\u001b[1;38;2;255;0;0m \u001b[0m│\u001b[1m \u001b[0m\u001b[1m-0.154          \u001b[0m\u001b[1m \u001b[0m│\n",
       "│ When Church and Chair went to the shops, Chair gave the bag to  │\u001b[1;38;2;0;200;0m \u001b[0m\u001b[1;38;2;0;200;0m Church\u001b[0m\u001b[1;38;2;0;200;0m \u001b[0m│\u001b[1;38;2;255;0;0m \u001b[0m\u001b[1;38;2;255;0;0m Chair   \u001b[0m\u001b[1;38;2;255;0;0m \u001b[0m│\u001b[1m \u001b[0m\u001b[1m3.927           \u001b[0m\u001b[1m \u001b[0m│\n",
       "│ When Church and Chair went to the shops, Church gave the bag to │\u001b[1;38;2;0;200;0m \u001b[0m\u001b[1;38;2;0;200;0m Chair \u001b[0m\u001b[1;38;2;0;200;0m \u001b[0m│\u001b[1;38;2;255;0;0m \u001b[0m\u001b[1;38;2;255;0;0m Church  \u001b[0m\u001b[1;38;2;255;0;0m \u001b[0m│\u001b[1m \u001b[0m\u001b[1m0.348           \u001b[0m\u001b[1m \u001b[0m│\n",
       "│ When Church and Bag went to the shops, Bag gave the bag to      │\u001b[1;38;2;0;200;0m \u001b[0m\u001b[1;38;2;0;200;0m Church\u001b[0m\u001b[1;38;2;0;200;0m \u001b[0m│\u001b[1;38;2;255;0;0m \u001b[0m\u001b[1;38;2;255;0;0m Bag     \u001b[0m\u001b[1;38;2;255;0;0m \u001b[0m│\u001b[1m \u001b[0m\u001b[1m1.459           \u001b[0m\u001b[1m \u001b[0m│\n",
       "│ When Church and Bag went to the shops, Church gave the bag to   │\u001b[1;38;2;0;200;0m \u001b[0m\u001b[1;38;2;0;200;0m Bag   \u001b[0m\u001b[1;38;2;0;200;0m \u001b[0m│\u001b[1;38;2;255;0;0m \u001b[0m\u001b[1;38;2;255;0;0m Church  \u001b[0m\u001b[1;38;2;255;0;0m \u001b[0m│\u001b[1m \u001b[0m\u001b[1m4.633           \u001b[0m\u001b[1m \u001b[0m│\n",
       "│ When Flower and Bag went to the shops, Bag gave the bag to      │\u001b[1;38;2;0;200;0m \u001b[0m\u001b[1;38;2;0;200;0m Flower\u001b[0m\u001b[1;38;2;0;200;0m \u001b[0m│\u001b[1;38;2;255;0;0m \u001b[0m\u001b[1;38;2;255;0;0m Bag     \u001b[0m\u001b[1;38;2;255;0;0m \u001b[0m│\u001b[1m \u001b[0m\u001b[1m0.085           \u001b[0m\u001b[1m \u001b[0m│\n",
       "│ When Flower and Bag went to the shops, Flower gave the bag to   │\u001b[1;38;2;0;200;0m \u001b[0m\u001b[1;38;2;0;200;0m Bag   \u001b[0m\u001b[1;38;2;0;200;0m \u001b[0m│\u001b[1;38;2;255;0;0m \u001b[0m\u001b[1;38;2;255;0;0m Flower  \u001b[0m\u001b[1;38;2;255;0;0m \u001b[0m│\u001b[1m \u001b[0m\u001b[1m6.739           \u001b[0m\u001b[1m \u001b[0m│\n",
       "│ When Statue and Bag went to the shops, Bag gave the bag to      │\u001b[1;38;2;0;200;0m \u001b[0m\u001b[1;38;2;0;200;0m Statue\u001b[0m\u001b[1;38;2;0;200;0m \u001b[0m│\u001b[1;38;2;255;0;0m \u001b[0m\u001b[1;38;2;255;0;0m Bag     \u001b[0m\u001b[1;38;2;255;0;0m \u001b[0m│\u001b[1m \u001b[0m\u001b[1m-1.142          \u001b[0m\u001b[1m \u001b[0m│\n",
       "│ When Statue and Bag went to the shops, Statue gave the bag to   │\u001b[1;38;2;0;200;0m \u001b[0m\u001b[1;38;2;0;200;0m Bag   \u001b[0m\u001b[1;38;2;0;200;0m \u001b[0m│\u001b[1;38;2;255;0;0m \u001b[0m\u001b[1;38;2;255;0;0m Statue  \u001b[0m\u001b[1;38;2;255;0;0m \u001b[0m│\u001b[1m \u001b[0m\u001b[1m7.360           \u001b[0m\u001b[1m \u001b[0m│\n",
       "│ When Goose and Bag went to the shops, Bag gave the bag to       │\u001b[1;38;2;0;200;0m \u001b[0m\u001b[1;38;2;0;200;0m Goose \u001b[0m\u001b[1;38;2;0;200;0m \u001b[0m│\u001b[1;38;2;255;0;0m \u001b[0m\u001b[1;38;2;255;0;0m Bag     \u001b[0m\u001b[1;38;2;255;0;0m \u001b[0m│\u001b[1m \u001b[0m\u001b[1m1.074           \u001b[0m\u001b[1m \u001b[0m│\n",
       "│ When Goose and Bag went to the shops, Goose gave the bag to     │\u001b[1;38;2;0;200;0m \u001b[0m\u001b[1;38;2;0;200;0m Bag   \u001b[0m\u001b[1;38;2;0;200;0m \u001b[0m│\u001b[1;38;2;255;0;0m \u001b[0m\u001b[1;38;2;255;0;0m Goose   \u001b[0m\u001b[1;38;2;255;0;0m \u001b[0m│\u001b[1m \u001b[0m\u001b[1m6.856           \u001b[0m\u001b[1m \u001b[0m│\n",
       "│ When Church and Bag went to the shops, Bag gave the bag to      │\u001b[1;38;2;0;200;0m \u001b[0m\u001b[1;38;2;0;200;0m Church\u001b[0m\u001b[1;38;2;0;200;0m \u001b[0m│\u001b[1;38;2;255;0;0m \u001b[0m\u001b[1;38;2;255;0;0m Bag     \u001b[0m\u001b[1;38;2;255;0;0m \u001b[0m│\u001b[1m \u001b[0m\u001b[1m1.459           \u001b[0m\u001b[1m \u001b[0m│\n",
       "│ When Church and Bag went to the shops, Church gave the bag to   │\u001b[1;38;2;0;200;0m \u001b[0m\u001b[1;38;2;0;200;0m Bag   \u001b[0m\u001b[1;38;2;0;200;0m \u001b[0m│\u001b[1;38;2;255;0;0m \u001b[0m\u001b[1;38;2;255;0;0m Church  \u001b[0m\u001b[1;38;2;255;0;0m \u001b[0m│\u001b[1m \u001b[0m\u001b[1m4.633           \u001b[0m\u001b[1m \u001b[0m│\n",
       "│ When Lamp and Google went to the shops, Google gave the bag to  │\u001b[1;38;2;0;200;0m \u001b[0m\u001b[1;38;2;0;200;0m Lamp  \u001b[0m\u001b[1;38;2;0;200;0m \u001b[0m│\u001b[1;38;2;255;0;0m \u001b[0m\u001b[1;38;2;255;0;0m Google  \u001b[0m\u001b[1;38;2;255;0;0m \u001b[0m│\u001b[1m \u001b[0m\u001b[1m-0.010          \u001b[0m\u001b[1m \u001b[0m│\n",
       "│ When Lamp and Google went to the shops, Lamp gave the bag to    │\u001b[1;38;2;0;200;0m \u001b[0m\u001b[1;38;2;0;200;0m Google\u001b[0m\u001b[1;38;2;0;200;0m \u001b[0m│\u001b[1;38;2;255;0;0m \u001b[0m\u001b[1;38;2;255;0;0m Lamp    \u001b[0m\u001b[1;38;2;255;0;0m \u001b[0m│\u001b[1m \u001b[0m\u001b[1m3.533           \u001b[0m\u001b[1m \u001b[0m│\n",
       "│ When Flower and Goose went to the shops, Goose gave the bag to  │\u001b[1;38;2;0;200;0m \u001b[0m\u001b[1;38;2;0;200;0m Flower\u001b[0m\u001b[1;38;2;0;200;0m \u001b[0m│\u001b[1;38;2;255;0;0m \u001b[0m\u001b[1;38;2;255;0;0m Goose   \u001b[0m\u001b[1;38;2;255;0;0m \u001b[0m│\u001b[1m \u001b[0m\u001b[1m2.815           \u001b[0m\u001b[1m \u001b[0m│\n",
       "│ When Flower and Goose went to the shops, Flower gave the bag to │\u001b[1;38;2;0;200;0m \u001b[0m\u001b[1;38;2;0;200;0m Goose \u001b[0m\u001b[1;38;2;0;200;0m \u001b[0m│\u001b[1;38;2;255;0;0m \u001b[0m\u001b[1;38;2;255;0;0m Flower  \u001b[0m\u001b[1;38;2;255;0;0m \u001b[0m│\u001b[1m \u001b[0m\u001b[1m8.076           \u001b[0m\u001b[1m \u001b[0m│\n",
       "└─────────────────────────────────────────────────────────────────┴─────────┴───────────┴──────────────────┘\n"
      ]
     },
     "metadata": {},
     "output_type": "display_data"
    },
    {
     "data": {
      "text/html": [
       "<pre style=\"white-space:pre;overflow-x:auto;line-height:normal;font-family:Menlo,'DejaVu Sans Mono',consolas,'Courier New',monospace\"><span style=\"font-style: italic\">                                    Religious Names: Ave logit diff = 3.651                                     </span>\n",
       "┏━━━━━━━━━━━━━━━━━━━━━━━━━━━━━━━━━━━━━━━━━━━━━━━━━━━━━━━━━━━━━━━━━━━━┳━━━━━━━━━━┳━━━━━━━━━━━┳━━━━━━━━━━━━━━━━━━┓\n",
       "┃<span style=\"font-weight: bold\"> Prompt                                                             </span>┃<span style=\"font-weight: bold\"> Correct  </span>┃<span style=\"font-weight: bold\"> Incorrect </span>┃<span style=\"font-weight: bold\"> Logit Difference </span>┃\n",
       "┡━━━━━━━━━━━━━━━━━━━━━━━━━━━━━━━━━━━━━━━━━━━━━━━━━━━━━━━━━━━━━━━━━━━━╇━━━━━━━━━━╇━━━━━━━━━━━╇━━━━━━━━━━━━━━━━━━┩\n",
       "│ When Joseph and Noah went to the shops, Noah gave the bag to       │<span style=\"color: #00c800; text-decoration-color: #00c800; font-weight: bold\">  Joseph  </span>│<span style=\"color: #ff0000; text-decoration-color: #ff0000; font-weight: bold\">  Noah     </span>│<span style=\"font-weight: bold\"> 3.755            </span>│\n",
       "│ When Joseph and Noah went to the shops, Joseph gave the bag to     │<span style=\"color: #00c800; text-decoration-color: #00c800; font-weight: bold\">  Noah    </span>│<span style=\"color: #ff0000; text-decoration-color: #ff0000; font-weight: bold\">  Joseph   </span>│<span style=\"font-weight: bold\"> 2.593            </span>│\n",
       "│ When Noah and Mary went to the shops, Mary gave the bag to         │<span style=\"color: #00c800; text-decoration-color: #00c800; font-weight: bold\">  Noah    </span>│<span style=\"color: #ff0000; text-decoration-color: #ff0000; font-weight: bold\">  Mary     </span>│<span style=\"font-weight: bold\"> 4.317            </span>│\n",
       "│ When Noah and Mary went to the shops, Noah gave the bag to         │<span style=\"color: #00c800; text-decoration-color: #00c800; font-weight: bold\">  Mary    </span>│<span style=\"color: #ff0000; text-decoration-color: #ff0000; font-weight: bold\">  Noah     </span>│<span style=\"font-weight: bold\"> 5.506            </span>│\n",
       "│ When Paul and Mary went to the shops, Mary gave the bag to         │<span style=\"color: #00c800; text-decoration-color: #00c800; font-weight: bold\">  Paul    </span>│<span style=\"color: #ff0000; text-decoration-color: #ff0000; font-weight: bold\">  Mary     </span>│<span style=\"font-weight: bold\"> 5.106            </span>│\n",
       "│ When Paul and Mary went to the shops, Paul gave the bag to         │<span style=\"color: #00c800; text-decoration-color: #00c800; font-weight: bold\">  Mary    </span>│<span style=\"color: #ff0000; text-decoration-color: #ff0000; font-weight: bold\">  Paul     </span>│<span style=\"font-weight: bold\"> 4.334            </span>│\n",
       "│ When Abraham and Mary went to the shops, Mary gave the bag to      │<span style=\"color: #00c800; text-decoration-color: #00c800; font-weight: bold\">  Abraham </span>│<span style=\"color: #ff0000; text-decoration-color: #ff0000; font-weight: bold\">  Mary     </span>│<span style=\"font-weight: bold\"> 3.620            </span>│\n",
       "│ When Abraham and Mary went to the shops, Abraham gave the bag to   │<span style=\"color: #00c800; text-decoration-color: #00c800; font-weight: bold\">  Mary    </span>│<span style=\"color: #ff0000; text-decoration-color: #ff0000; font-weight: bold\">  Abraham  </span>│<span style=\"font-weight: bold\"> 5.660            </span>│\n",
       "│ When Noah and Abraham went to the shops, Abraham gave the bag to   │<span style=\"color: #00c800; text-decoration-color: #00c800; font-weight: bold\">  Noah    </span>│<span style=\"color: #ff0000; text-decoration-color: #ff0000; font-weight: bold\">  Abraham  </span>│<span style=\"font-weight: bold\"> 3.034            </span>│\n",
       "│ When Noah and Abraham went to the shops, Noah gave the bag to      │<span style=\"color: #00c800; text-decoration-color: #00c800; font-weight: bold\">  Abraham </span>│<span style=\"color: #ff0000; text-decoration-color: #ff0000; font-weight: bold\">  Noah     </span>│<span style=\"font-weight: bold\"> 3.003            </span>│\n",
       "│ When Isaac and Jacob went to the shops, Jacob gave the bag to      │<span style=\"color: #00c800; text-decoration-color: #00c800; font-weight: bold\">  Isaac   </span>│<span style=\"color: #ff0000; text-decoration-color: #ff0000; font-weight: bold\">  Jacob    </span>│<span style=\"font-weight: bold\"> 2.815            </span>│\n",
       "│ When Isaac and Jacob went to the shops, Isaac gave the bag to      │<span style=\"color: #00c800; text-decoration-color: #00c800; font-weight: bold\">  Jacob   </span>│<span style=\"color: #ff0000; text-decoration-color: #ff0000; font-weight: bold\">  Isaac    </span>│<span style=\"font-weight: bold\"> 4.052            </span>│\n",
       "│ When Jesus and Joseph went to the shops, Joseph gave the bag to    │<span style=\"color: #00c800; text-decoration-color: #00c800; font-weight: bold\">  Jesus   </span>│<span style=\"color: #ff0000; text-decoration-color: #ff0000; font-weight: bold\">  Joseph   </span>│<span style=\"font-weight: bold\"> -0.306           </span>│\n",
       "│ When Jesus and Joseph went to the shops, Jesus gave the bag to     │<span style=\"color: #00c800; text-decoration-color: #00c800; font-weight: bold\">  Joseph  </span>│<span style=\"color: #ff0000; text-decoration-color: #ff0000; font-weight: bold\">  Jesus    </span>│<span style=\"font-weight: bold\"> 3.909            </span>│\n",
       "│ When Isaac and Abraham went to the shops, Abraham gave the bag to  │<span style=\"color: #00c800; text-decoration-color: #00c800; font-weight: bold\">  Isaac   </span>│<span style=\"color: #ff0000; text-decoration-color: #ff0000; font-weight: bold\">  Abraham  </span>│<span style=\"font-weight: bold\"> 2.931            </span>│\n",
       "│ When Isaac and Abraham went to the shops, Isaac gave the bag to    │<span style=\"color: #00c800; text-decoration-color: #00c800; font-weight: bold\">  Abraham </span>│<span style=\"color: #ff0000; text-decoration-color: #ff0000; font-weight: bold\">  Isaac    </span>│<span style=\"font-weight: bold\"> 1.928            </span>│\n",
       "│ When Paul and Jacob went to the shops, Jacob gave the bag to       │<span style=\"color: #00c800; text-decoration-color: #00c800; font-weight: bold\">  Paul    </span>│<span style=\"color: #ff0000; text-decoration-color: #ff0000; font-weight: bold\">  Jacob    </span>│<span style=\"font-weight: bold\"> 3.773            </span>│\n",
       "│ When Paul and Jacob went to the shops, Paul gave the bag to        │<span style=\"color: #00c800; text-decoration-color: #00c800; font-weight: bold\">  Jacob   </span>│<span style=\"color: #ff0000; text-decoration-color: #ff0000; font-weight: bold\">  Paul     </span>│<span style=\"font-weight: bold\"> 4.314            </span>│\n",
       "│ When Abraham and Joseph went to the shops, Joseph gave the bag to  │<span style=\"color: #00c800; text-decoration-color: #00c800; font-weight: bold\">  Abraham </span>│<span style=\"color: #ff0000; text-decoration-color: #ff0000; font-weight: bold\">  Joseph   </span>│<span style=\"font-weight: bold\"> 3.097            </span>│\n",
       "│ When Abraham and Joseph went to the shops, Abraham gave the bag to │<span style=\"color: #00c800; text-decoration-color: #00c800; font-weight: bold\">  Joseph  </span>│<span style=\"color: #ff0000; text-decoration-color: #ff0000; font-weight: bold\">  Abraham  </span>│<span style=\"font-weight: bold\"> 5.581            </span>│\n",
       "└────────────────────────────────────────────────────────────────────┴──────────┴───────────┴──────────────────┘\n",
       "</pre>\n"
      ],
      "text/plain": [
       "\u001b[3m                                    Religious Names: Ave logit diff = 3.651                                     \u001b[0m\n",
       "┏━━━━━━━━━━━━━━━━━━━━━━━━━━━━━━━━━━━━━━━━━━━━━━━━━━━━━━━━━━━━━━━━━━━━┳━━━━━━━━━━┳━━━━━━━━━━━┳━━━━━━━━━━━━━━━━━━┓\n",
       "┃\u001b[1m \u001b[0m\u001b[1mPrompt                                                            \u001b[0m\u001b[1m \u001b[0m┃\u001b[1m \u001b[0m\u001b[1mCorrect \u001b[0m\u001b[1m \u001b[0m┃\u001b[1m \u001b[0m\u001b[1mIncorrect\u001b[0m\u001b[1m \u001b[0m┃\u001b[1m \u001b[0m\u001b[1mLogit Difference\u001b[0m\u001b[1m \u001b[0m┃\n",
       "┡━━━━━━━━━━━━━━━━━━━━━━━━━━━━━━━━━━━━━━━━━━━━━━━━━━━━━━━━━━━━━━━━━━━━╇━━━━━━━━━━╇━━━━━━━━━━━╇━━━━━━━━━━━━━━━━━━┩\n",
       "│ When Joseph and Noah went to the shops, Noah gave the bag to       │\u001b[1;38;2;0;200;0m \u001b[0m\u001b[1;38;2;0;200;0m Joseph \u001b[0m\u001b[1;38;2;0;200;0m \u001b[0m│\u001b[1;38;2;255;0;0m \u001b[0m\u001b[1;38;2;255;0;0m Noah    \u001b[0m\u001b[1;38;2;255;0;0m \u001b[0m│\u001b[1m \u001b[0m\u001b[1m3.755           \u001b[0m\u001b[1m \u001b[0m│\n",
       "│ When Joseph and Noah went to the shops, Joseph gave the bag to     │\u001b[1;38;2;0;200;0m \u001b[0m\u001b[1;38;2;0;200;0m Noah   \u001b[0m\u001b[1;38;2;0;200;0m \u001b[0m│\u001b[1;38;2;255;0;0m \u001b[0m\u001b[1;38;2;255;0;0m Joseph  \u001b[0m\u001b[1;38;2;255;0;0m \u001b[0m│\u001b[1m \u001b[0m\u001b[1m2.593           \u001b[0m\u001b[1m \u001b[0m│\n",
       "│ When Noah and Mary went to the shops, Mary gave the bag to         │\u001b[1;38;2;0;200;0m \u001b[0m\u001b[1;38;2;0;200;0m Noah   \u001b[0m\u001b[1;38;2;0;200;0m \u001b[0m│\u001b[1;38;2;255;0;0m \u001b[0m\u001b[1;38;2;255;0;0m Mary    \u001b[0m\u001b[1;38;2;255;0;0m \u001b[0m│\u001b[1m \u001b[0m\u001b[1m4.317           \u001b[0m\u001b[1m \u001b[0m│\n",
       "│ When Noah and Mary went to the shops, Noah gave the bag to         │\u001b[1;38;2;0;200;0m \u001b[0m\u001b[1;38;2;0;200;0m Mary   \u001b[0m\u001b[1;38;2;0;200;0m \u001b[0m│\u001b[1;38;2;255;0;0m \u001b[0m\u001b[1;38;2;255;0;0m Noah    \u001b[0m\u001b[1;38;2;255;0;0m \u001b[0m│\u001b[1m \u001b[0m\u001b[1m5.506           \u001b[0m\u001b[1m \u001b[0m│\n",
       "│ When Paul and Mary went to the shops, Mary gave the bag to         │\u001b[1;38;2;0;200;0m \u001b[0m\u001b[1;38;2;0;200;0m Paul   \u001b[0m\u001b[1;38;2;0;200;0m \u001b[0m│\u001b[1;38;2;255;0;0m \u001b[0m\u001b[1;38;2;255;0;0m Mary    \u001b[0m\u001b[1;38;2;255;0;0m \u001b[0m│\u001b[1m \u001b[0m\u001b[1m5.106           \u001b[0m\u001b[1m \u001b[0m│\n",
       "│ When Paul and Mary went to the shops, Paul gave the bag to         │\u001b[1;38;2;0;200;0m \u001b[0m\u001b[1;38;2;0;200;0m Mary   \u001b[0m\u001b[1;38;2;0;200;0m \u001b[0m│\u001b[1;38;2;255;0;0m \u001b[0m\u001b[1;38;2;255;0;0m Paul    \u001b[0m\u001b[1;38;2;255;0;0m \u001b[0m│\u001b[1m \u001b[0m\u001b[1m4.334           \u001b[0m\u001b[1m \u001b[0m│\n",
       "│ When Abraham and Mary went to the shops, Mary gave the bag to      │\u001b[1;38;2;0;200;0m \u001b[0m\u001b[1;38;2;0;200;0m Abraham\u001b[0m\u001b[1;38;2;0;200;0m \u001b[0m│\u001b[1;38;2;255;0;0m \u001b[0m\u001b[1;38;2;255;0;0m Mary    \u001b[0m\u001b[1;38;2;255;0;0m \u001b[0m│\u001b[1m \u001b[0m\u001b[1m3.620           \u001b[0m\u001b[1m \u001b[0m│\n",
       "│ When Abraham and Mary went to the shops, Abraham gave the bag to   │\u001b[1;38;2;0;200;0m \u001b[0m\u001b[1;38;2;0;200;0m Mary   \u001b[0m\u001b[1;38;2;0;200;0m \u001b[0m│\u001b[1;38;2;255;0;0m \u001b[0m\u001b[1;38;2;255;0;0m Abraham \u001b[0m\u001b[1;38;2;255;0;0m \u001b[0m│\u001b[1m \u001b[0m\u001b[1m5.660           \u001b[0m\u001b[1m \u001b[0m│\n",
       "│ When Noah and Abraham went to the shops, Abraham gave the bag to   │\u001b[1;38;2;0;200;0m \u001b[0m\u001b[1;38;2;0;200;0m Noah   \u001b[0m\u001b[1;38;2;0;200;0m \u001b[0m│\u001b[1;38;2;255;0;0m \u001b[0m\u001b[1;38;2;255;0;0m Abraham \u001b[0m\u001b[1;38;2;255;0;0m \u001b[0m│\u001b[1m \u001b[0m\u001b[1m3.034           \u001b[0m\u001b[1m \u001b[0m│\n",
       "│ When Noah and Abraham went to the shops, Noah gave the bag to      │\u001b[1;38;2;0;200;0m \u001b[0m\u001b[1;38;2;0;200;0m Abraham\u001b[0m\u001b[1;38;2;0;200;0m \u001b[0m│\u001b[1;38;2;255;0;0m \u001b[0m\u001b[1;38;2;255;0;0m Noah    \u001b[0m\u001b[1;38;2;255;0;0m \u001b[0m│\u001b[1m \u001b[0m\u001b[1m3.003           \u001b[0m\u001b[1m \u001b[0m│\n",
       "│ When Isaac and Jacob went to the shops, Jacob gave the bag to      │\u001b[1;38;2;0;200;0m \u001b[0m\u001b[1;38;2;0;200;0m Isaac  \u001b[0m\u001b[1;38;2;0;200;0m \u001b[0m│\u001b[1;38;2;255;0;0m \u001b[0m\u001b[1;38;2;255;0;0m Jacob   \u001b[0m\u001b[1;38;2;255;0;0m \u001b[0m│\u001b[1m \u001b[0m\u001b[1m2.815           \u001b[0m\u001b[1m \u001b[0m│\n",
       "│ When Isaac and Jacob went to the shops, Isaac gave the bag to      │\u001b[1;38;2;0;200;0m \u001b[0m\u001b[1;38;2;0;200;0m Jacob  \u001b[0m\u001b[1;38;2;0;200;0m \u001b[0m│\u001b[1;38;2;255;0;0m \u001b[0m\u001b[1;38;2;255;0;0m Isaac   \u001b[0m\u001b[1;38;2;255;0;0m \u001b[0m│\u001b[1m \u001b[0m\u001b[1m4.052           \u001b[0m\u001b[1m \u001b[0m│\n",
       "│ When Jesus and Joseph went to the shops, Joseph gave the bag to    │\u001b[1;38;2;0;200;0m \u001b[0m\u001b[1;38;2;0;200;0m Jesus  \u001b[0m\u001b[1;38;2;0;200;0m \u001b[0m│\u001b[1;38;2;255;0;0m \u001b[0m\u001b[1;38;2;255;0;0m Joseph  \u001b[0m\u001b[1;38;2;255;0;0m \u001b[0m│\u001b[1m \u001b[0m\u001b[1m-0.306          \u001b[0m\u001b[1m \u001b[0m│\n",
       "│ When Jesus and Joseph went to the shops, Jesus gave the bag to     │\u001b[1;38;2;0;200;0m \u001b[0m\u001b[1;38;2;0;200;0m Joseph \u001b[0m\u001b[1;38;2;0;200;0m \u001b[0m│\u001b[1;38;2;255;0;0m \u001b[0m\u001b[1;38;2;255;0;0m Jesus   \u001b[0m\u001b[1;38;2;255;0;0m \u001b[0m│\u001b[1m \u001b[0m\u001b[1m3.909           \u001b[0m\u001b[1m \u001b[0m│\n",
       "│ When Isaac and Abraham went to the shops, Abraham gave the bag to  │\u001b[1;38;2;0;200;0m \u001b[0m\u001b[1;38;2;0;200;0m Isaac  \u001b[0m\u001b[1;38;2;0;200;0m \u001b[0m│\u001b[1;38;2;255;0;0m \u001b[0m\u001b[1;38;2;255;0;0m Abraham \u001b[0m\u001b[1;38;2;255;0;0m \u001b[0m│\u001b[1m \u001b[0m\u001b[1m2.931           \u001b[0m\u001b[1m \u001b[0m│\n",
       "│ When Isaac and Abraham went to the shops, Isaac gave the bag to    │\u001b[1;38;2;0;200;0m \u001b[0m\u001b[1;38;2;0;200;0m Abraham\u001b[0m\u001b[1;38;2;0;200;0m \u001b[0m│\u001b[1;38;2;255;0;0m \u001b[0m\u001b[1;38;2;255;0;0m Isaac   \u001b[0m\u001b[1;38;2;255;0;0m \u001b[0m│\u001b[1m \u001b[0m\u001b[1m1.928           \u001b[0m\u001b[1m \u001b[0m│\n",
       "│ When Paul and Jacob went to the shops, Jacob gave the bag to       │\u001b[1;38;2;0;200;0m \u001b[0m\u001b[1;38;2;0;200;0m Paul   \u001b[0m\u001b[1;38;2;0;200;0m \u001b[0m│\u001b[1;38;2;255;0;0m \u001b[0m\u001b[1;38;2;255;0;0m Jacob   \u001b[0m\u001b[1;38;2;255;0;0m \u001b[0m│\u001b[1m \u001b[0m\u001b[1m3.773           \u001b[0m\u001b[1m \u001b[0m│\n",
       "│ When Paul and Jacob went to the shops, Paul gave the bag to        │\u001b[1;38;2;0;200;0m \u001b[0m\u001b[1;38;2;0;200;0m Jacob  \u001b[0m\u001b[1;38;2;0;200;0m \u001b[0m│\u001b[1;38;2;255;0;0m \u001b[0m\u001b[1;38;2;255;0;0m Paul    \u001b[0m\u001b[1;38;2;255;0;0m \u001b[0m│\u001b[1m \u001b[0m\u001b[1m4.314           \u001b[0m\u001b[1m \u001b[0m│\n",
       "│ When Abraham and Joseph went to the shops, Joseph gave the bag to  │\u001b[1;38;2;0;200;0m \u001b[0m\u001b[1;38;2;0;200;0m Abraham\u001b[0m\u001b[1;38;2;0;200;0m \u001b[0m│\u001b[1;38;2;255;0;0m \u001b[0m\u001b[1;38;2;255;0;0m Joseph  \u001b[0m\u001b[1;38;2;255;0;0m \u001b[0m│\u001b[1m \u001b[0m\u001b[1m3.097           \u001b[0m\u001b[1m \u001b[0m│\n",
       "│ When Abraham and Joseph went to the shops, Abraham gave the bag to │\u001b[1;38;2;0;200;0m \u001b[0m\u001b[1;38;2;0;200;0m Joseph \u001b[0m\u001b[1;38;2;0;200;0m \u001b[0m│\u001b[1;38;2;255;0;0m \u001b[0m\u001b[1;38;2;255;0;0m Abraham \u001b[0m\u001b[1;38;2;255;0;0m \u001b[0m│\u001b[1m \u001b[0m\u001b[1m5.581           \u001b[0m\u001b[1m \u001b[0m│\n",
       "└────────────────────────────────────────────────────────────────────┴──────────┴───────────┴──────────────────┘\n"
      ]
     },
     "metadata": {},
     "output_type": "display_data"
    },
    {
     "data": {
      "text/html": [
       "<pre style=\"white-space:pre;overflow-x:auto;line-height:normal;font-family:Menlo,'DejaVu Sans Mono',consolas,'Courier New',monospace\"><span style=\"font-style: italic\">                                        Place Names: Ave logit diff = 3.333                                        </span>\n",
       "┏━━━━━━━━━━━━━━━━━━━━━━━━━━━━━━━━━━━━━━━━━━━━━━━━━━━━━━━━━━━━━━━━━━━━━━┳━━━━━━━━━━━┳━━━━━━━━━━━┳━━━━━━━━━━━━━━━━━━┓\n",
       "┃<span style=\"font-weight: bold\"> Prompt                                                               </span>┃<span style=\"font-weight: bold\"> Correct   </span>┃<span style=\"font-weight: bold\"> Incorrect </span>┃<span style=\"font-weight: bold\"> Logit Difference </span>┃\n",
       "┡━━━━━━━━━━━━━━━━━━━━━━━━━━━━━━━━━━━━━━━━━━━━━━━━━━━━━━━━━━━━━━━━━━━━━━╇━━━━━━━━━━━╇━━━━━━━━━━━╇━━━━━━━━━━━━━━━━━━┩\n",
       "│ When Paris and Devon went to the shops, Devon gave the bag to        │<span style=\"color: #00c800; text-decoration-color: #00c800; font-weight: bold\">  Paris    </span>│<span style=\"color: #ff0000; text-decoration-color: #ff0000; font-weight: bold\">  Devon    </span>│<span style=\"font-weight: bold\"> 0.332            </span>│\n",
       "│ When Paris and Devon went to the shops, Paris gave the bag to        │<span style=\"color: #00c800; text-decoration-color: #00c800; font-weight: bold\">  Devon    </span>│<span style=\"color: #ff0000; text-decoration-color: #ff0000; font-weight: bold\">  Paris    </span>│<span style=\"font-weight: bold\"> 4.567            </span>│\n",
       "│ When Paris and Phoenix went to the shops, Phoenix gave the bag to    │<span style=\"color: #00c800; text-decoration-color: #00c800; font-weight: bold\">  Paris    </span>│<span style=\"color: #ff0000; text-decoration-color: #ff0000; font-weight: bold\">  Phoenix  </span>│<span style=\"font-weight: bold\"> 0.388            </span>│\n",
       "│ When Paris and Phoenix went to the shops, Paris gave the bag to      │<span style=\"color: #00c800; text-decoration-color: #00c800; font-weight: bold\">  Phoenix  </span>│<span style=\"color: #ff0000; text-decoration-color: #ff0000; font-weight: bold\">  Paris    </span>│<span style=\"font-weight: bold\"> 3.778            </span>│\n",
       "│ When Brooklyn and London went to the shops, London gave the bag to   │<span style=\"color: #00c800; text-decoration-color: #00c800; font-weight: bold\">  Brooklyn </span>│<span style=\"color: #ff0000; text-decoration-color: #ff0000; font-weight: bold\">  London   </span>│<span style=\"font-weight: bold\"> -0.108           </span>│\n",
       "│ When Brooklyn and London went to the shops, Brooklyn gave the bag to │<span style=\"color: #00c800; text-decoration-color: #00c800; font-weight: bold\">  London   </span>│<span style=\"color: #ff0000; text-decoration-color: #ff0000; font-weight: bold\">  Brooklyn </span>│<span style=\"font-weight: bold\"> 4.468            </span>│\n",
       "│ When Florence and Austin went to the shops, Austin gave the bag to   │<span style=\"color: #00c800; text-decoration-color: #00c800; font-weight: bold\">  Florence </span>│<span style=\"color: #ff0000; text-decoration-color: #ff0000; font-weight: bold\">  Austin   </span>│<span style=\"font-weight: bold\"> 3.132            </span>│\n",
       "│ When Florence and Austin went to the shops, Florence gave the bag to │<span style=\"color: #00c800; text-decoration-color: #00c800; font-weight: bold\">  Austin   </span>│<span style=\"color: #ff0000; text-decoration-color: #ff0000; font-weight: bold\">  Florence </span>│<span style=\"font-weight: bold\"> 8.437            </span>│\n",
       "│ When Austin and Madison went to the shops, Madison gave the bag to   │<span style=\"color: #00c800; text-decoration-color: #00c800; font-weight: bold\">  Austin   </span>│<span style=\"color: #ff0000; text-decoration-color: #ff0000; font-weight: bold\">  Madison  </span>│<span style=\"font-weight: bold\"> 2.752            </span>│\n",
       "│ When Austin and Madison went to the shops, Austin gave the bag to    │<span style=\"color: #00c800; text-decoration-color: #00c800; font-weight: bold\">  Madison  </span>│<span style=\"color: #ff0000; text-decoration-color: #ff0000; font-weight: bold\">  Austin   </span>│<span style=\"font-weight: bold\"> 5.903            </span>│\n",
       "│ When Phoenix and Florence went to the shops, Florence gave the bag   │<span style=\"color: #00c800; text-decoration-color: #00c800; font-weight: bold\">  Phoenix  </span>│<span style=\"color: #ff0000; text-decoration-color: #ff0000; font-weight: bold\">  Florence </span>│<span style=\"font-weight: bold\"> 0.954            </span>│\n",
       "│ to                                                                   │<span style=\"color: #00c800; text-decoration-color: #00c800; font-weight: bold\">           </span>│<span style=\"color: #ff0000; text-decoration-color: #ff0000; font-weight: bold\">           </span>│<span style=\"font-weight: bold\">                  </span>│\n",
       "│ When Phoenix and Florence went to the shops, Phoenix gave the bag to │<span style=\"color: #00c800; text-decoration-color: #00c800; font-weight: bold\">  Florence </span>│<span style=\"color: #ff0000; text-decoration-color: #ff0000; font-weight: bold\">  Phoenix  </span>│<span style=\"font-weight: bold\"> 8.046            </span>│\n",
       "│ When Madison and Phoenix went to the shops, Phoenix gave the bag to  │<span style=\"color: #00c800; text-decoration-color: #00c800; font-weight: bold\">  Madison  </span>│<span style=\"color: #ff0000; text-decoration-color: #ff0000; font-weight: bold\">  Phoenix  </span>│<span style=\"font-weight: bold\"> 2.644            </span>│\n",
       "│ When Madison and Phoenix went to the shops, Madison gave the bag to  │<span style=\"color: #00c800; text-decoration-color: #00c800; font-weight: bold\">  Phoenix  </span>│<span style=\"color: #ff0000; text-decoration-color: #ff0000; font-weight: bold\">  Madison  </span>│<span style=\"font-weight: bold\"> 4.216            </span>│\n",
       "│ When Austin and London went to the shops, London gave the bag to     │<span style=\"color: #00c800; text-decoration-color: #00c800; font-weight: bold\">  Austin   </span>│<span style=\"color: #ff0000; text-decoration-color: #ff0000; font-weight: bold\">  London   </span>│<span style=\"font-weight: bold\"> 2.329            </span>│\n",
       "│ When Austin and London went to the shops, Austin gave the bag to     │<span style=\"color: #00c800; text-decoration-color: #00c800; font-weight: bold\">  London   </span>│<span style=\"color: #ff0000; text-decoration-color: #ff0000; font-weight: bold\">  Austin   </span>│<span style=\"font-weight: bold\"> 3.869            </span>│\n",
       "│ When Phoenix and London went to the shops, London gave the bag to    │<span style=\"color: #00c800; text-decoration-color: #00c800; font-weight: bold\">  Phoenix  </span>│<span style=\"color: #ff0000; text-decoration-color: #ff0000; font-weight: bold\">  London   </span>│<span style=\"font-weight: bold\"> -0.290           </span>│\n",
       "│ When Phoenix and London went to the shops, Phoenix gave the bag to   │<span style=\"color: #00c800; text-decoration-color: #00c800; font-weight: bold\">  London   </span>│<span style=\"color: #ff0000; text-decoration-color: #ff0000; font-weight: bold\">  Phoenix  </span>│<span style=\"font-weight: bold\"> 4.343            </span>│\n",
       "│ When Paris and Austin went to the shops, Austin gave the bag to      │<span style=\"color: #00c800; text-decoration-color: #00c800; font-weight: bold\">  Paris    </span>│<span style=\"color: #ff0000; text-decoration-color: #ff0000; font-weight: bold\">  Austin   </span>│<span style=\"font-weight: bold\"> 0.638            </span>│\n",
       "│ When Paris and Austin went to the shops, Paris gave the bag to       │<span style=\"color: #00c800; text-decoration-color: #00c800; font-weight: bold\">  Austin   </span>│<span style=\"color: #ff0000; text-decoration-color: #ff0000; font-weight: bold\">  Paris    </span>│<span style=\"font-weight: bold\"> 6.257            </span>│\n",
       "└──────────────────────────────────────────────────────────────────────┴───────────┴───────────┴──────────────────┘\n",
       "</pre>\n"
      ],
      "text/plain": [
       "\u001b[3m                                        Place Names: Ave logit diff = 3.333                                        \u001b[0m\n",
       "┏━━━━━━━━━━━━━━━━━━━━━━━━━━━━━━━━━━━━━━━━━━━━━━━━━━━━━━━━━━━━━━━━━━━━━━┳━━━━━━━━━━━┳━━━━━━━━━━━┳━━━━━━━━━━━━━━━━━━┓\n",
       "┃\u001b[1m \u001b[0m\u001b[1mPrompt                                                              \u001b[0m\u001b[1m \u001b[0m┃\u001b[1m \u001b[0m\u001b[1mCorrect  \u001b[0m\u001b[1m \u001b[0m┃\u001b[1m \u001b[0m\u001b[1mIncorrect\u001b[0m\u001b[1m \u001b[0m┃\u001b[1m \u001b[0m\u001b[1mLogit Difference\u001b[0m\u001b[1m \u001b[0m┃\n",
       "┡━━━━━━━━━━━━━━━━━━━━━━━━━━━━━━━━━━━━━━━━━━━━━━━━━━━━━━━━━━━━━━━━━━━━━━╇━━━━━━━━━━━╇━━━━━━━━━━━╇━━━━━━━━━━━━━━━━━━┩\n",
       "│ When Paris and Devon went to the shops, Devon gave the bag to        │\u001b[1;38;2;0;200;0m \u001b[0m\u001b[1;38;2;0;200;0m Paris   \u001b[0m\u001b[1;38;2;0;200;0m \u001b[0m│\u001b[1;38;2;255;0;0m \u001b[0m\u001b[1;38;2;255;0;0m Devon   \u001b[0m\u001b[1;38;2;255;0;0m \u001b[0m│\u001b[1m \u001b[0m\u001b[1m0.332           \u001b[0m\u001b[1m \u001b[0m│\n",
       "│ When Paris and Devon went to the shops, Paris gave the bag to        │\u001b[1;38;2;0;200;0m \u001b[0m\u001b[1;38;2;0;200;0m Devon   \u001b[0m\u001b[1;38;2;0;200;0m \u001b[0m│\u001b[1;38;2;255;0;0m \u001b[0m\u001b[1;38;2;255;0;0m Paris   \u001b[0m\u001b[1;38;2;255;0;0m \u001b[0m│\u001b[1m \u001b[0m\u001b[1m4.567           \u001b[0m\u001b[1m \u001b[0m│\n",
       "│ When Paris and Phoenix went to the shops, Phoenix gave the bag to    │\u001b[1;38;2;0;200;0m \u001b[0m\u001b[1;38;2;0;200;0m Paris   \u001b[0m\u001b[1;38;2;0;200;0m \u001b[0m│\u001b[1;38;2;255;0;0m \u001b[0m\u001b[1;38;2;255;0;0m Phoenix \u001b[0m\u001b[1;38;2;255;0;0m \u001b[0m│\u001b[1m \u001b[0m\u001b[1m0.388           \u001b[0m\u001b[1m \u001b[0m│\n",
       "│ When Paris and Phoenix went to the shops, Paris gave the bag to      │\u001b[1;38;2;0;200;0m \u001b[0m\u001b[1;38;2;0;200;0m Phoenix \u001b[0m\u001b[1;38;2;0;200;0m \u001b[0m│\u001b[1;38;2;255;0;0m \u001b[0m\u001b[1;38;2;255;0;0m Paris   \u001b[0m\u001b[1;38;2;255;0;0m \u001b[0m│\u001b[1m \u001b[0m\u001b[1m3.778           \u001b[0m\u001b[1m \u001b[0m│\n",
       "│ When Brooklyn and London went to the shops, London gave the bag to   │\u001b[1;38;2;0;200;0m \u001b[0m\u001b[1;38;2;0;200;0m Brooklyn\u001b[0m\u001b[1;38;2;0;200;0m \u001b[0m│\u001b[1;38;2;255;0;0m \u001b[0m\u001b[1;38;2;255;0;0m London  \u001b[0m\u001b[1;38;2;255;0;0m \u001b[0m│\u001b[1m \u001b[0m\u001b[1m-0.108          \u001b[0m\u001b[1m \u001b[0m│\n",
       "│ When Brooklyn and London went to the shops, Brooklyn gave the bag to │\u001b[1;38;2;0;200;0m \u001b[0m\u001b[1;38;2;0;200;0m London  \u001b[0m\u001b[1;38;2;0;200;0m \u001b[0m│\u001b[1;38;2;255;0;0m \u001b[0m\u001b[1;38;2;255;0;0m Brooklyn\u001b[0m\u001b[1;38;2;255;0;0m \u001b[0m│\u001b[1m \u001b[0m\u001b[1m4.468           \u001b[0m\u001b[1m \u001b[0m│\n",
       "│ When Florence and Austin went to the shops, Austin gave the bag to   │\u001b[1;38;2;0;200;0m \u001b[0m\u001b[1;38;2;0;200;0m Florence\u001b[0m\u001b[1;38;2;0;200;0m \u001b[0m│\u001b[1;38;2;255;0;0m \u001b[0m\u001b[1;38;2;255;0;0m Austin  \u001b[0m\u001b[1;38;2;255;0;0m \u001b[0m│\u001b[1m \u001b[0m\u001b[1m3.132           \u001b[0m\u001b[1m \u001b[0m│\n",
       "│ When Florence and Austin went to the shops, Florence gave the bag to │\u001b[1;38;2;0;200;0m \u001b[0m\u001b[1;38;2;0;200;0m Austin  \u001b[0m\u001b[1;38;2;0;200;0m \u001b[0m│\u001b[1;38;2;255;0;0m \u001b[0m\u001b[1;38;2;255;0;0m Florence\u001b[0m\u001b[1;38;2;255;0;0m \u001b[0m│\u001b[1m \u001b[0m\u001b[1m8.437           \u001b[0m\u001b[1m \u001b[0m│\n",
       "│ When Austin and Madison went to the shops, Madison gave the bag to   │\u001b[1;38;2;0;200;0m \u001b[0m\u001b[1;38;2;0;200;0m Austin  \u001b[0m\u001b[1;38;2;0;200;0m \u001b[0m│\u001b[1;38;2;255;0;0m \u001b[0m\u001b[1;38;2;255;0;0m Madison \u001b[0m\u001b[1;38;2;255;0;0m \u001b[0m│\u001b[1m \u001b[0m\u001b[1m2.752           \u001b[0m\u001b[1m \u001b[0m│\n",
       "│ When Austin and Madison went to the shops, Austin gave the bag to    │\u001b[1;38;2;0;200;0m \u001b[0m\u001b[1;38;2;0;200;0m Madison \u001b[0m\u001b[1;38;2;0;200;0m \u001b[0m│\u001b[1;38;2;255;0;0m \u001b[0m\u001b[1;38;2;255;0;0m Austin  \u001b[0m\u001b[1;38;2;255;0;0m \u001b[0m│\u001b[1m \u001b[0m\u001b[1m5.903           \u001b[0m\u001b[1m \u001b[0m│\n",
       "│ When Phoenix and Florence went to the shops, Florence gave the bag   │\u001b[1;38;2;0;200;0m \u001b[0m\u001b[1;38;2;0;200;0m Phoenix \u001b[0m\u001b[1;38;2;0;200;0m \u001b[0m│\u001b[1;38;2;255;0;0m \u001b[0m\u001b[1;38;2;255;0;0m Florence\u001b[0m\u001b[1;38;2;255;0;0m \u001b[0m│\u001b[1m \u001b[0m\u001b[1m0.954           \u001b[0m\u001b[1m \u001b[0m│\n",
       "│ to                                                                   │\u001b[1;38;2;0;200;0m           \u001b[0m│\u001b[1;38;2;255;0;0m           \u001b[0m│\u001b[1m                  \u001b[0m│\n",
       "│ When Phoenix and Florence went to the shops, Phoenix gave the bag to │\u001b[1;38;2;0;200;0m \u001b[0m\u001b[1;38;2;0;200;0m Florence\u001b[0m\u001b[1;38;2;0;200;0m \u001b[0m│\u001b[1;38;2;255;0;0m \u001b[0m\u001b[1;38;2;255;0;0m Phoenix \u001b[0m\u001b[1;38;2;255;0;0m \u001b[0m│\u001b[1m \u001b[0m\u001b[1m8.046           \u001b[0m\u001b[1m \u001b[0m│\n",
       "│ When Madison and Phoenix went to the shops, Phoenix gave the bag to  │\u001b[1;38;2;0;200;0m \u001b[0m\u001b[1;38;2;0;200;0m Madison \u001b[0m\u001b[1;38;2;0;200;0m \u001b[0m│\u001b[1;38;2;255;0;0m \u001b[0m\u001b[1;38;2;255;0;0m Phoenix \u001b[0m\u001b[1;38;2;255;0;0m \u001b[0m│\u001b[1m \u001b[0m\u001b[1m2.644           \u001b[0m\u001b[1m \u001b[0m│\n",
       "│ When Madison and Phoenix went to the shops, Madison gave the bag to  │\u001b[1;38;2;0;200;0m \u001b[0m\u001b[1;38;2;0;200;0m Phoenix \u001b[0m\u001b[1;38;2;0;200;0m \u001b[0m│\u001b[1;38;2;255;0;0m \u001b[0m\u001b[1;38;2;255;0;0m Madison \u001b[0m\u001b[1;38;2;255;0;0m \u001b[0m│\u001b[1m \u001b[0m\u001b[1m4.216           \u001b[0m\u001b[1m \u001b[0m│\n",
       "│ When Austin and London went to the shops, London gave the bag to     │\u001b[1;38;2;0;200;0m \u001b[0m\u001b[1;38;2;0;200;0m Austin  \u001b[0m\u001b[1;38;2;0;200;0m \u001b[0m│\u001b[1;38;2;255;0;0m \u001b[0m\u001b[1;38;2;255;0;0m London  \u001b[0m\u001b[1;38;2;255;0;0m \u001b[0m│\u001b[1m \u001b[0m\u001b[1m2.329           \u001b[0m\u001b[1m \u001b[0m│\n",
       "│ When Austin and London went to the shops, Austin gave the bag to     │\u001b[1;38;2;0;200;0m \u001b[0m\u001b[1;38;2;0;200;0m London  \u001b[0m\u001b[1;38;2;0;200;0m \u001b[0m│\u001b[1;38;2;255;0;0m \u001b[0m\u001b[1;38;2;255;0;0m Austin  \u001b[0m\u001b[1;38;2;255;0;0m \u001b[0m│\u001b[1m \u001b[0m\u001b[1m3.869           \u001b[0m\u001b[1m \u001b[0m│\n",
       "│ When Phoenix and London went to the shops, London gave the bag to    │\u001b[1;38;2;0;200;0m \u001b[0m\u001b[1;38;2;0;200;0m Phoenix \u001b[0m\u001b[1;38;2;0;200;0m \u001b[0m│\u001b[1;38;2;255;0;0m \u001b[0m\u001b[1;38;2;255;0;0m London  \u001b[0m\u001b[1;38;2;255;0;0m \u001b[0m│\u001b[1m \u001b[0m\u001b[1m-0.290          \u001b[0m\u001b[1m \u001b[0m│\n",
       "│ When Phoenix and London went to the shops, Phoenix gave the bag to   │\u001b[1;38;2;0;200;0m \u001b[0m\u001b[1;38;2;0;200;0m London  \u001b[0m\u001b[1;38;2;0;200;0m \u001b[0m│\u001b[1;38;2;255;0;0m \u001b[0m\u001b[1;38;2;255;0;0m Phoenix \u001b[0m\u001b[1;38;2;255;0;0m \u001b[0m│\u001b[1m \u001b[0m\u001b[1m4.343           \u001b[0m\u001b[1m \u001b[0m│\n",
       "│ When Paris and Austin went to the shops, Austin gave the bag to      │\u001b[1;38;2;0;200;0m \u001b[0m\u001b[1;38;2;0;200;0m Paris   \u001b[0m\u001b[1;38;2;0;200;0m \u001b[0m│\u001b[1;38;2;255;0;0m \u001b[0m\u001b[1;38;2;255;0;0m Austin  \u001b[0m\u001b[1;38;2;255;0;0m \u001b[0m│\u001b[1m \u001b[0m\u001b[1m0.638           \u001b[0m\u001b[1m \u001b[0m│\n",
       "│ When Paris and Austin went to the shops, Paris gave the bag to       │\u001b[1;38;2;0;200;0m \u001b[0m\u001b[1;38;2;0;200;0m Austin  \u001b[0m\u001b[1;38;2;0;200;0m \u001b[0m│\u001b[1;38;2;255;0;0m \u001b[0m\u001b[1;38;2;255;0;0m Paris   \u001b[0m\u001b[1;38;2;255;0;0m \u001b[0m│\u001b[1m \u001b[0m\u001b[1m6.257           \u001b[0m\u001b[1m \u001b[0m│\n",
       "└──────────────────────────────────────────────────────────────────────┴───────────┴───────────┴──────────────────┘\n"
      ]
     },
     "metadata": {},
     "output_type": "display_data"
    },
    {
     "data": {
      "text/html": [
       "<pre style=\"white-space:pre;overflow-x:auto;line-height:normal;font-family:Menlo,'DejaVu Sans Mono',consolas,'Courier New',monospace\"><span style=\"font-style: italic\">                                         Full Dist: Ave logit diff = 2.647                                         </span>\n",
       "┏━━━━━━━━━━━━━━━━━━━━━━━━━━━━━━━━━━━━━━━━━━━━━━━━━━━━━━━━━━━━━━━━━━━━━━┳━━━━━━━━━━━┳━━━━━━━━━━━┳━━━━━━━━━━━━━━━━━━┓\n",
       "┃<span style=\"font-weight: bold\"> Prompt                                                               </span>┃<span style=\"font-weight: bold\"> Correct   </span>┃<span style=\"font-weight: bold\"> Incorrect </span>┃<span style=\"font-weight: bold\"> Logit Difference </span>┃\n",
       "┡━━━━━━━━━━━━━━━━━━━━━━━━━━━━━━━━━━━━━━━━━━━━━━━━━━━━━━━━━━━━━━━━━━━━━━╇━━━━━━━━━━━╇━━━━━━━━━━━╇━━━━━━━━━━━━━━━━━━┩\n",
       "│ When lamp and google went to the shops, google gave the bag to       │<span style=\"color: #00c800; text-decoration-color: #00c800; font-weight: bold\">  lamp     </span>│<span style=\"color: #ff0000; text-decoration-color: #ff0000; font-weight: bold\">  google   </span>│<span style=\"font-weight: bold\"> -0.847           </span>│\n",
       "│ When lamp and google went to the shops, lamp gave the bag to         │<span style=\"color: #00c800; text-decoration-color: #00c800; font-weight: bold\">  google   </span>│<span style=\"color: #ff0000; text-decoration-color: #ff0000; font-weight: bold\">  lamp     </span>│<span style=\"font-weight: bold\"> 0.923            </span>│\n",
       "│ When church and lamp went to the shops, lamp gave the bag to         │<span style=\"color: #00c800; text-decoration-color: #00c800; font-weight: bold\">  church   </span>│<span style=\"color: #ff0000; text-decoration-color: #ff0000; font-weight: bold\">  lamp     </span>│<span style=\"font-weight: bold\"> 1.473            </span>│\n",
       "│ When church and lamp went to the shops, church gave the bag to       │<span style=\"color: #00c800; text-decoration-color: #00c800; font-weight: bold\">  lamp     </span>│<span style=\"color: #ff0000; text-decoration-color: #ff0000; font-weight: bold\">  church   </span>│<span style=\"font-weight: bold\"> -1.282           </span>│\n",
       "│ When church and flower went to the shops, flower gave the bag to     │<span style=\"color: #00c800; text-decoration-color: #00c800; font-weight: bold\">  church   </span>│<span style=\"color: #ff0000; text-decoration-color: #ff0000; font-weight: bold\">  flower   </span>│<span style=\"font-weight: bold\"> 2.427            </span>│\n",
       "│ When church and flower went to the shops, church gave the bag to     │<span style=\"color: #00c800; text-decoration-color: #00c800; font-weight: bold\">  flower   </span>│<span style=\"color: #ff0000; text-decoration-color: #ff0000; font-weight: bold\">  church   </span>│<span style=\"font-weight: bold\"> -1.371           </span>│\n",
       "│ When church and flower went to the shops, flower gave the bag to     │<span style=\"color: #00c800; text-decoration-color: #00c800; font-weight: bold\">  church   </span>│<span style=\"color: #ff0000; text-decoration-color: #ff0000; font-weight: bold\">  flower   </span>│<span style=\"font-weight: bold\"> 2.427            </span>│\n",
       "│ When church and flower went to the shops, church gave the bag to     │<span style=\"color: #00c800; text-decoration-color: #00c800; font-weight: bold\">  flower   </span>│<span style=\"color: #ff0000; text-decoration-color: #ff0000; font-weight: bold\">  church   </span>│<span style=\"font-weight: bold\"> -1.371           </span>│\n",
       "│ When lamp and google went to the shops, google gave the bag to       │<span style=\"color: #00c800; text-decoration-color: #00c800; font-weight: bold\">  lamp     </span>│<span style=\"color: #ff0000; text-decoration-color: #ff0000; font-weight: bold\">  google   </span>│<span style=\"font-weight: bold\"> -0.847           </span>│\n",
       "│ When lamp and google went to the shops, lamp gave the bag to         │<span style=\"color: #00c800; text-decoration-color: #00c800; font-weight: bold\">  google   </span>│<span style=\"color: #ff0000; text-decoration-color: #ff0000; font-weight: bold\">  lamp     </span>│<span style=\"font-weight: bold\"> 0.923            </span>│\n",
       "│ When lamp and flower went to the shops, flower gave the bag to       │<span style=\"color: #00c800; text-decoration-color: #00c800; font-weight: bold\">  lamp     </span>│<span style=\"color: #ff0000; text-decoration-color: #ff0000; font-weight: bold\">  flower   </span>│<span style=\"font-weight: bold\"> 1.438            </span>│\n",
       "│ When lamp and flower went to the shops, lamp gave the bag to         │<span style=\"color: #00c800; text-decoration-color: #00c800; font-weight: bold\">  flower   </span>│<span style=\"color: #ff0000; text-decoration-color: #ff0000; font-weight: bold\">  lamp     </span>│<span style=\"font-weight: bold\"> 1.086            </span>│\n",
       "│ When bag and statue went to the shops, statue gave the bag to        │<span style=\"color: #00c800; text-decoration-color: #00c800; font-weight: bold\">  bag      </span>│<span style=\"color: #ff0000; text-decoration-color: #ff0000; font-weight: bold\">  statue   </span>│<span style=\"font-weight: bold\"> 0.192            </span>│\n",
       "│ When bag and statue went to the shops, bag gave the bag to           │<span style=\"color: #00c800; text-decoration-color: #00c800; font-weight: bold\">  statue   </span>│<span style=\"color: #ff0000; text-decoration-color: #ff0000; font-weight: bold\">  bag      </span>│<span style=\"font-weight: bold\"> -0.594           </span>│\n",
       "│ When bag and church went to the shops, church gave the bag to        │<span style=\"color: #00c800; text-decoration-color: #00c800; font-weight: bold\">  bag      </span>│<span style=\"color: #ff0000; text-decoration-color: #ff0000; font-weight: bold\">  church   </span>│<span style=\"font-weight: bold\"> -2.265           </span>│\n",
       "│ When bag and church went to the shops, bag gave the bag to           │<span style=\"color: #00c800; text-decoration-color: #00c800; font-weight: bold\">  church   </span>│<span style=\"color: #ff0000; text-decoration-color: #ff0000; font-weight: bold\">  bag      </span>│<span style=\"font-weight: bold\"> 2.326            </span>│\n",
       "│ When bag and chair went to the shops, chair gave the bag to          │<span style=\"color: #00c800; text-decoration-color: #00c800; font-weight: bold\">  bag      </span>│<span style=\"color: #ff0000; text-decoration-color: #ff0000; font-weight: bold\">  chair    </span>│<span style=\"font-weight: bold\"> 2.021            </span>│\n",
       "│ When bag and chair went to the shops, bag gave the bag to            │<span style=\"color: #00c800; text-decoration-color: #00c800; font-weight: bold\">  chair    </span>│<span style=\"color: #ff0000; text-decoration-color: #ff0000; font-weight: bold\">  bag      </span>│<span style=\"font-weight: bold\"> -1.671           </span>│\n",
       "│ When google and chair went to the shops, chair gave the bag to       │<span style=\"color: #00c800; text-decoration-color: #00c800; font-weight: bold\">  google   </span>│<span style=\"color: #ff0000; text-decoration-color: #ff0000; font-weight: bold\">  chair    </span>│<span style=\"font-weight: bold\"> 0.347            </span>│\n",
       "│ When google and chair went to the shops, google gave the bag to      │<span style=\"color: #00c800; text-decoration-color: #00c800; font-weight: bold\">  chair    </span>│<span style=\"color: #ff0000; text-decoration-color: #ff0000; font-weight: bold\">  google   </span>│<span style=\"font-weight: bold\"> 0.130            </span>│\n",
       "│ When Paris and Devon went to the shops, Devon gave the bag to        │<span style=\"color: #00c800; text-decoration-color: #00c800; font-weight: bold\">  Paris    </span>│<span style=\"color: #ff0000; text-decoration-color: #ff0000; font-weight: bold\">  Devon    </span>│<span style=\"font-weight: bold\"> 0.332            </span>│\n",
       "│ When Paris and Devon went to the shops, Paris gave the bag to        │<span style=\"color: #00c800; text-decoration-color: #00c800; font-weight: bold\">  Devon    </span>│<span style=\"color: #ff0000; text-decoration-color: #ff0000; font-weight: bold\">  Paris    </span>│<span style=\"font-weight: bold\"> 4.567            </span>│\n",
       "│ When Paris and Phoenix went to the shops, Phoenix gave the bag to    │<span style=\"color: #00c800; text-decoration-color: #00c800; font-weight: bold\">  Paris    </span>│<span style=\"color: #ff0000; text-decoration-color: #ff0000; font-weight: bold\">  Phoenix  </span>│<span style=\"font-weight: bold\"> 0.388            </span>│\n",
       "│ When Paris and Phoenix went to the shops, Paris gave the bag to      │<span style=\"color: #00c800; text-decoration-color: #00c800; font-weight: bold\">  Phoenix  </span>│<span style=\"color: #ff0000; text-decoration-color: #ff0000; font-weight: bold\">  Paris    </span>│<span style=\"font-weight: bold\"> 3.778            </span>│\n",
       "│ When Brooklyn and London went to the shops, London gave the bag to   │<span style=\"color: #00c800; text-decoration-color: #00c800; font-weight: bold\">  Brooklyn </span>│<span style=\"color: #ff0000; text-decoration-color: #ff0000; font-weight: bold\">  London   </span>│<span style=\"font-weight: bold\"> -0.108           </span>│\n",
       "│ When Brooklyn and London went to the shops, Brooklyn gave the bag to │<span style=\"color: #00c800; text-decoration-color: #00c800; font-weight: bold\">  London   </span>│<span style=\"color: #ff0000; text-decoration-color: #ff0000; font-weight: bold\">  Brooklyn </span>│<span style=\"font-weight: bold\"> 4.468            </span>│\n",
       "│ When Florence and Austin went to the shops, Austin gave the bag to   │<span style=\"color: #00c800; text-decoration-color: #00c800; font-weight: bold\">  Florence </span>│<span style=\"color: #ff0000; text-decoration-color: #ff0000; font-weight: bold\">  Austin   </span>│<span style=\"font-weight: bold\"> 3.132            </span>│\n",
       "│ When Florence and Austin went to the shops, Florence gave the bag to │<span style=\"color: #00c800; text-decoration-color: #00c800; font-weight: bold\">  Austin   </span>│<span style=\"color: #ff0000; text-decoration-color: #ff0000; font-weight: bold\">  Florence </span>│<span style=\"font-weight: bold\"> 8.437            </span>│\n",
       "│ When Austin and Madison went to the shops, Madison gave the bag to   │<span style=\"color: #00c800; text-decoration-color: #00c800; font-weight: bold\">  Austin   </span>│<span style=\"color: #ff0000; text-decoration-color: #ff0000; font-weight: bold\">  Madison  </span>│<span style=\"font-weight: bold\"> 2.752            </span>│\n",
       "│ When Austin and Madison went to the shops, Austin gave the bag to    │<span style=\"color: #00c800; text-decoration-color: #00c800; font-weight: bold\">  Madison  </span>│<span style=\"color: #ff0000; text-decoration-color: #ff0000; font-weight: bold\">  Austin   </span>│<span style=\"font-weight: bold\"> 5.903            </span>│\n",
       "│ When Phoenix and Florence went to the shops, Florence gave the bag   │<span style=\"color: #00c800; text-decoration-color: #00c800; font-weight: bold\">  Phoenix  </span>│<span style=\"color: #ff0000; text-decoration-color: #ff0000; font-weight: bold\">  Florence </span>│<span style=\"font-weight: bold\"> 0.954            </span>│\n",
       "│ to                                                                   │<span style=\"color: #00c800; text-decoration-color: #00c800; font-weight: bold\">           </span>│<span style=\"color: #ff0000; text-decoration-color: #ff0000; font-weight: bold\">           </span>│<span style=\"font-weight: bold\">                  </span>│\n",
       "│ When Phoenix and Florence went to the shops, Phoenix gave the bag to │<span style=\"color: #00c800; text-decoration-color: #00c800; font-weight: bold\">  Florence </span>│<span style=\"color: #ff0000; text-decoration-color: #ff0000; font-weight: bold\">  Phoenix  </span>│<span style=\"font-weight: bold\"> 8.046            </span>│\n",
       "│ When Madison and Phoenix went to the shops, Phoenix gave the bag to  │<span style=\"color: #00c800; text-decoration-color: #00c800; font-weight: bold\">  Madison  </span>│<span style=\"color: #ff0000; text-decoration-color: #ff0000; font-weight: bold\">  Phoenix  </span>│<span style=\"font-weight: bold\"> 2.644            </span>│\n",
       "│ When Madison and Phoenix went to the shops, Madison gave the bag to  │<span style=\"color: #00c800; text-decoration-color: #00c800; font-weight: bold\">  Phoenix  </span>│<span style=\"color: #ff0000; text-decoration-color: #ff0000; font-weight: bold\">  Madison  </span>│<span style=\"font-weight: bold\"> 4.216            </span>│\n",
       "│ When Austin and London went to the shops, London gave the bag to     │<span style=\"color: #00c800; text-decoration-color: #00c800; font-weight: bold\">  Austin   </span>│<span style=\"color: #ff0000; text-decoration-color: #ff0000; font-weight: bold\">  London   </span>│<span style=\"font-weight: bold\"> 2.329            </span>│\n",
       "│ When Austin and London went to the shops, Austin gave the bag to     │<span style=\"color: #00c800; text-decoration-color: #00c800; font-weight: bold\">  London   </span>│<span style=\"color: #ff0000; text-decoration-color: #ff0000; font-weight: bold\">  Austin   </span>│<span style=\"font-weight: bold\"> 3.869            </span>│\n",
       "│ When Phoenix and London went to the shops, London gave the bag to    │<span style=\"color: #00c800; text-decoration-color: #00c800; font-weight: bold\">  Phoenix  </span>│<span style=\"color: #ff0000; text-decoration-color: #ff0000; font-weight: bold\">  London   </span>│<span style=\"font-weight: bold\"> -0.290           </span>│\n",
       "│ When Phoenix and London went to the shops, Phoenix gave the bag to   │<span style=\"color: #00c800; text-decoration-color: #00c800; font-weight: bold\">  London   </span>│<span style=\"color: #ff0000; text-decoration-color: #ff0000; font-weight: bold\">  Phoenix  </span>│<span style=\"font-weight: bold\"> 4.343            </span>│\n",
       "│ When Paris and Austin went to the shops, Austin gave the bag to      │<span style=\"color: #00c800; text-decoration-color: #00c800; font-weight: bold\">  Paris    </span>│<span style=\"color: #ff0000; text-decoration-color: #ff0000; font-weight: bold\">  Austin   </span>│<span style=\"font-weight: bold\"> 0.638            </span>│\n",
       "│ When Paris and Austin went to the shops, Paris gave the bag to       │<span style=\"color: #00c800; text-decoration-color: #00c800; font-weight: bold\">  Austin   </span>│<span style=\"color: #ff0000; text-decoration-color: #ff0000; font-weight: bold\">  Paris    </span>│<span style=\"font-weight: bold\"> 6.257            </span>│\n",
       "│ When Joseph and Noah went to the shops, Noah gave the bag to         │<span style=\"color: #00c800; text-decoration-color: #00c800; font-weight: bold\">  Joseph   </span>│<span style=\"color: #ff0000; text-decoration-color: #ff0000; font-weight: bold\">  Noah     </span>│<span style=\"font-weight: bold\"> 3.755            </span>│\n",
       "│ When Joseph and Noah went to the shops, Joseph gave the bag to       │<span style=\"color: #00c800; text-decoration-color: #00c800; font-weight: bold\">  Noah     </span>│<span style=\"color: #ff0000; text-decoration-color: #ff0000; font-weight: bold\">  Joseph   </span>│<span style=\"font-weight: bold\"> 2.593            </span>│\n",
       "│ When Noah and Mary went to the shops, Mary gave the bag to           │<span style=\"color: #00c800; text-decoration-color: #00c800; font-weight: bold\">  Noah     </span>│<span style=\"color: #ff0000; text-decoration-color: #ff0000; font-weight: bold\">  Mary     </span>│<span style=\"font-weight: bold\"> 4.317            </span>│\n",
       "│ When Noah and Mary went to the shops, Noah gave the bag to           │<span style=\"color: #00c800; text-decoration-color: #00c800; font-weight: bold\">  Mary     </span>│<span style=\"color: #ff0000; text-decoration-color: #ff0000; font-weight: bold\">  Noah     </span>│<span style=\"font-weight: bold\"> 5.506            </span>│\n",
       "│ When Paul and Mary went to the shops, Mary gave the bag to           │<span style=\"color: #00c800; text-decoration-color: #00c800; font-weight: bold\">  Paul     </span>│<span style=\"color: #ff0000; text-decoration-color: #ff0000; font-weight: bold\">  Mary     </span>│<span style=\"font-weight: bold\"> 5.106            </span>│\n",
       "│ When Paul and Mary went to the shops, Paul gave the bag to           │<span style=\"color: #00c800; text-decoration-color: #00c800; font-weight: bold\">  Mary     </span>│<span style=\"color: #ff0000; text-decoration-color: #ff0000; font-weight: bold\">  Paul     </span>│<span style=\"font-weight: bold\"> 4.334            </span>│\n",
       "│ When Abraham and Mary went to the shops, Mary gave the bag to        │<span style=\"color: #00c800; text-decoration-color: #00c800; font-weight: bold\">  Abraham  </span>│<span style=\"color: #ff0000; text-decoration-color: #ff0000; font-weight: bold\">  Mary     </span>│<span style=\"font-weight: bold\"> 3.620            </span>│\n",
       "│ When Abraham and Mary went to the shops, Abraham gave the bag to     │<span style=\"color: #00c800; text-decoration-color: #00c800; font-weight: bold\">  Mary     </span>│<span style=\"color: #ff0000; text-decoration-color: #ff0000; font-weight: bold\">  Abraham  </span>│<span style=\"font-weight: bold\"> 5.660            </span>│\n",
       "│ When Noah and Abraham went to the shops, Abraham gave the bag to     │<span style=\"color: #00c800; text-decoration-color: #00c800; font-weight: bold\">  Noah     </span>│<span style=\"color: #ff0000; text-decoration-color: #ff0000; font-weight: bold\">  Abraham  </span>│<span style=\"font-weight: bold\"> 3.034            </span>│\n",
       "│ When Noah and Abraham went to the shops, Noah gave the bag to        │<span style=\"color: #00c800; text-decoration-color: #00c800; font-weight: bold\">  Abraham  </span>│<span style=\"color: #ff0000; text-decoration-color: #ff0000; font-weight: bold\">  Noah     </span>│<span style=\"font-weight: bold\"> 3.003            </span>│\n",
       "│ When Isaac and Jacob went to the shops, Jacob gave the bag to        │<span style=\"color: #00c800; text-decoration-color: #00c800; font-weight: bold\">  Isaac    </span>│<span style=\"color: #ff0000; text-decoration-color: #ff0000; font-weight: bold\">  Jacob    </span>│<span style=\"font-weight: bold\"> 2.815            </span>│\n",
       "│ When Isaac and Jacob went to the shops, Isaac gave the bag to        │<span style=\"color: #00c800; text-decoration-color: #00c800; font-weight: bold\">  Jacob    </span>│<span style=\"color: #ff0000; text-decoration-color: #ff0000; font-weight: bold\">  Isaac    </span>│<span style=\"font-weight: bold\"> 4.052            </span>│\n",
       "│ When Jesus and Joseph went to the shops, Joseph gave the bag to      │<span style=\"color: #00c800; text-decoration-color: #00c800; font-weight: bold\">  Jesus    </span>│<span style=\"color: #ff0000; text-decoration-color: #ff0000; font-weight: bold\">  Joseph   </span>│<span style=\"font-weight: bold\"> -0.306           </span>│\n",
       "│ When Jesus and Joseph went to the shops, Jesus gave the bag to       │<span style=\"color: #00c800; text-decoration-color: #00c800; font-weight: bold\">  Joseph   </span>│<span style=\"color: #ff0000; text-decoration-color: #ff0000; font-weight: bold\">  Jesus    </span>│<span style=\"font-weight: bold\"> 3.909            </span>│\n",
       "│ When Isaac and Abraham went to the shops, Abraham gave the bag to    │<span style=\"color: #00c800; text-decoration-color: #00c800; font-weight: bold\">  Isaac    </span>│<span style=\"color: #ff0000; text-decoration-color: #ff0000; font-weight: bold\">  Abraham  </span>│<span style=\"font-weight: bold\"> 2.931            </span>│\n",
       "│ When Isaac and Abraham went to the shops, Isaac gave the bag to      │<span style=\"color: #00c800; text-decoration-color: #00c800; font-weight: bold\">  Abraham  </span>│<span style=\"color: #ff0000; text-decoration-color: #ff0000; font-weight: bold\">  Isaac    </span>│<span style=\"font-weight: bold\"> 1.928            </span>│\n",
       "│ When Paul and Jacob went to the shops, Jacob gave the bag to         │<span style=\"color: #00c800; text-decoration-color: #00c800; font-weight: bold\">  Paul     </span>│<span style=\"color: #ff0000; text-decoration-color: #ff0000; font-weight: bold\">  Jacob    </span>│<span style=\"font-weight: bold\"> 3.773            </span>│\n",
       "│ When Paul and Jacob went to the shops, Paul gave the bag to          │<span style=\"color: #00c800; text-decoration-color: #00c800; font-weight: bold\">  Jacob    </span>│<span style=\"color: #ff0000; text-decoration-color: #ff0000; font-weight: bold\">  Paul     </span>│<span style=\"font-weight: bold\"> 4.314            </span>│\n",
       "│ When Abraham and Joseph went to the shops, Joseph gave the bag to    │<span style=\"color: #00c800; text-decoration-color: #00c800; font-weight: bold\">  Abraham  </span>│<span style=\"color: #ff0000; text-decoration-color: #ff0000; font-weight: bold\">  Joseph   </span>│<span style=\"font-weight: bold\"> 3.097            </span>│\n",
       "│ When Abraham and Joseph went to the shops, Abraham gave the bag to   │<span style=\"color: #00c800; text-decoration-color: #00c800; font-weight: bold\">  Joseph   </span>│<span style=\"color: #ff0000; text-decoration-color: #ff0000; font-weight: bold\">  Abraham  </span>│<span style=\"font-weight: bold\"> 5.581            </span>│\n",
       "│ When Paris and Devon went to the shops, Devon gave the bag to        │<span style=\"color: #00c800; text-decoration-color: #00c800; font-weight: bold\">  Paris    </span>│<span style=\"color: #ff0000; text-decoration-color: #ff0000; font-weight: bold\">  Devon    </span>│<span style=\"font-weight: bold\"> 0.332            </span>│\n",
       "│ When Paris and Devon went to the shops, Paris gave the bag to        │<span style=\"color: #00c800; text-decoration-color: #00c800; font-weight: bold\">  Devon    </span>│<span style=\"color: #ff0000; text-decoration-color: #ff0000; font-weight: bold\">  Paris    </span>│<span style=\"font-weight: bold\"> 4.567            </span>│\n",
       "│ When Paris and Phoenix went to the shops, Phoenix gave the bag to    │<span style=\"color: #00c800; text-decoration-color: #00c800; font-weight: bold\">  Paris    </span>│<span style=\"color: #ff0000; text-decoration-color: #ff0000; font-weight: bold\">  Phoenix  </span>│<span style=\"font-weight: bold\"> 0.388            </span>│\n",
       "│ When Paris and Phoenix went to the shops, Paris gave the bag to      │<span style=\"color: #00c800; text-decoration-color: #00c800; font-weight: bold\">  Phoenix  </span>│<span style=\"color: #ff0000; text-decoration-color: #ff0000; font-weight: bold\">  Paris    </span>│<span style=\"font-weight: bold\"> 3.778            </span>│\n",
       "│ When Brooklyn and London went to the shops, London gave the bag to   │<span style=\"color: #00c800; text-decoration-color: #00c800; font-weight: bold\">  Brooklyn </span>│<span style=\"color: #ff0000; text-decoration-color: #ff0000; font-weight: bold\">  London   </span>│<span style=\"font-weight: bold\"> -0.108           </span>│\n",
       "│ When Brooklyn and London went to the shops, Brooklyn gave the bag to │<span style=\"color: #00c800; text-decoration-color: #00c800; font-weight: bold\">  London   </span>│<span style=\"color: #ff0000; text-decoration-color: #ff0000; font-weight: bold\">  Brooklyn </span>│<span style=\"font-weight: bold\"> 4.468            </span>│\n",
       "│ When Florence and Austin went to the shops, Austin gave the bag to   │<span style=\"color: #00c800; text-decoration-color: #00c800; font-weight: bold\">  Florence </span>│<span style=\"color: #ff0000; text-decoration-color: #ff0000; font-weight: bold\">  Austin   </span>│<span style=\"font-weight: bold\"> 3.132            </span>│\n",
       "│ When Florence and Austin went to the shops, Florence gave the bag to │<span style=\"color: #00c800; text-decoration-color: #00c800; font-weight: bold\">  Austin   </span>│<span style=\"color: #ff0000; text-decoration-color: #ff0000; font-weight: bold\">  Florence </span>│<span style=\"font-weight: bold\"> 8.437            </span>│\n",
       "│ When Austin and Madison went to the shops, Madison gave the bag to   │<span style=\"color: #00c800; text-decoration-color: #00c800; font-weight: bold\">  Austin   </span>│<span style=\"color: #ff0000; text-decoration-color: #ff0000; font-weight: bold\">  Madison  </span>│<span style=\"font-weight: bold\"> 2.752            </span>│\n",
       "│ When Austin and Madison went to the shops, Austin gave the bag to    │<span style=\"color: #00c800; text-decoration-color: #00c800; font-weight: bold\">  Madison  </span>│<span style=\"color: #ff0000; text-decoration-color: #ff0000; font-weight: bold\">  Austin   </span>│<span style=\"font-weight: bold\"> 5.903            </span>│\n",
       "│ When Phoenix and Florence went to the shops, Florence gave the bag   │<span style=\"color: #00c800; text-decoration-color: #00c800; font-weight: bold\">  Phoenix  </span>│<span style=\"color: #ff0000; text-decoration-color: #ff0000; font-weight: bold\">  Florence </span>│<span style=\"font-weight: bold\"> 0.954            </span>│\n",
       "│ to                                                                   │<span style=\"color: #00c800; text-decoration-color: #00c800; font-weight: bold\">           </span>│<span style=\"color: #ff0000; text-decoration-color: #ff0000; font-weight: bold\">           </span>│<span style=\"font-weight: bold\">                  </span>│\n",
       "│ When Phoenix and Florence went to the shops, Phoenix gave the bag to │<span style=\"color: #00c800; text-decoration-color: #00c800; font-weight: bold\">  Florence </span>│<span style=\"color: #ff0000; text-decoration-color: #ff0000; font-weight: bold\">  Phoenix  </span>│<span style=\"font-weight: bold\"> 8.046            </span>│\n",
       "│ When Madison and Phoenix went to the shops, Phoenix gave the bag to  │<span style=\"color: #00c800; text-decoration-color: #00c800; font-weight: bold\">  Madison  </span>│<span style=\"color: #ff0000; text-decoration-color: #ff0000; font-weight: bold\">  Phoenix  </span>│<span style=\"font-weight: bold\"> 2.644            </span>│\n",
       "│ When Madison and Phoenix went to the shops, Madison gave the bag to  │<span style=\"color: #00c800; text-decoration-color: #00c800; font-weight: bold\">  Phoenix  </span>│<span style=\"color: #ff0000; text-decoration-color: #ff0000; font-weight: bold\">  Madison  </span>│<span style=\"font-weight: bold\"> 4.216            </span>│\n",
       "│ When Austin and London went to the shops, London gave the bag to     │<span style=\"color: #00c800; text-decoration-color: #00c800; font-weight: bold\">  Austin   </span>│<span style=\"color: #ff0000; text-decoration-color: #ff0000; font-weight: bold\">  London   </span>│<span style=\"font-weight: bold\"> 2.329            </span>│\n",
       "│ When Austin and London went to the shops, Austin gave the bag to     │<span style=\"color: #00c800; text-decoration-color: #00c800; font-weight: bold\">  London   </span>│<span style=\"color: #ff0000; text-decoration-color: #ff0000; font-weight: bold\">  Austin   </span>│<span style=\"font-weight: bold\"> 3.869            </span>│\n",
       "│ When Phoenix and London went to the shops, London gave the bag to    │<span style=\"color: #00c800; text-decoration-color: #00c800; font-weight: bold\">  Phoenix  </span>│<span style=\"color: #ff0000; text-decoration-color: #ff0000; font-weight: bold\">  London   </span>│<span style=\"font-weight: bold\"> -0.290           </span>│\n",
       "│ When Phoenix and London went to the shops, Phoenix gave the bag to   │<span style=\"color: #00c800; text-decoration-color: #00c800; font-weight: bold\">  London   </span>│<span style=\"color: #ff0000; text-decoration-color: #ff0000; font-weight: bold\">  Phoenix  </span>│<span style=\"font-weight: bold\"> 4.343            </span>│\n",
       "│ When Paris and Austin went to the shops, Austin gave the bag to      │<span style=\"color: #00c800; text-decoration-color: #00c800; font-weight: bold\">  Paris    </span>│<span style=\"color: #ff0000; text-decoration-color: #ff0000; font-weight: bold\">  Austin   </span>│<span style=\"font-weight: bold\"> 0.638            </span>│\n",
       "│ When Paris and Austin went to the shops, Paris gave the bag to       │<span style=\"color: #00c800; text-decoration-color: #00c800; font-weight: bold\">  Austin   </span>│<span style=\"color: #ff0000; text-decoration-color: #ff0000; font-weight: bold\">  Paris    </span>│<span style=\"font-weight: bold\"> 6.257            </span>│\n",
       "└──────────────────────────────────────────────────────────────────────┴───────────┴───────────┴──────────────────┘\n",
       "</pre>\n"
      ],
      "text/plain": [
       "\u001b[3m                                         Full Dist: Ave logit diff = 2.647                                         \u001b[0m\n",
       "┏━━━━━━━━━━━━━━━━━━━━━━━━━━━━━━━━━━━━━━━━━━━━━━━━━━━━━━━━━━━━━━━━━━━━━━┳━━━━━━━━━━━┳━━━━━━━━━━━┳━━━━━━━━━━━━━━━━━━┓\n",
       "┃\u001b[1m \u001b[0m\u001b[1mPrompt                                                              \u001b[0m\u001b[1m \u001b[0m┃\u001b[1m \u001b[0m\u001b[1mCorrect  \u001b[0m\u001b[1m \u001b[0m┃\u001b[1m \u001b[0m\u001b[1mIncorrect\u001b[0m\u001b[1m \u001b[0m┃\u001b[1m \u001b[0m\u001b[1mLogit Difference\u001b[0m\u001b[1m \u001b[0m┃\n",
       "┡━━━━━━━━━━━━━━━━━━━━━━━━━━━━━━━━━━━━━━━━━━━━━━━━━━━━━━━━━━━━━━━━━━━━━━╇━━━━━━━━━━━╇━━━━━━━━━━━╇━━━━━━━━━━━━━━━━━━┩\n",
       "│ When lamp and google went to the shops, google gave the bag to       │\u001b[1;38;2;0;200;0m \u001b[0m\u001b[1;38;2;0;200;0m lamp    \u001b[0m\u001b[1;38;2;0;200;0m \u001b[0m│\u001b[1;38;2;255;0;0m \u001b[0m\u001b[1;38;2;255;0;0m google  \u001b[0m\u001b[1;38;2;255;0;0m \u001b[0m│\u001b[1m \u001b[0m\u001b[1m-0.847          \u001b[0m\u001b[1m \u001b[0m│\n",
       "│ When lamp and google went to the shops, lamp gave the bag to         │\u001b[1;38;2;0;200;0m \u001b[0m\u001b[1;38;2;0;200;0m google  \u001b[0m\u001b[1;38;2;0;200;0m \u001b[0m│\u001b[1;38;2;255;0;0m \u001b[0m\u001b[1;38;2;255;0;0m lamp    \u001b[0m\u001b[1;38;2;255;0;0m \u001b[0m│\u001b[1m \u001b[0m\u001b[1m0.923           \u001b[0m\u001b[1m \u001b[0m│\n",
       "│ When church and lamp went to the shops, lamp gave the bag to         │\u001b[1;38;2;0;200;0m \u001b[0m\u001b[1;38;2;0;200;0m church  \u001b[0m\u001b[1;38;2;0;200;0m \u001b[0m│\u001b[1;38;2;255;0;0m \u001b[0m\u001b[1;38;2;255;0;0m lamp    \u001b[0m\u001b[1;38;2;255;0;0m \u001b[0m│\u001b[1m \u001b[0m\u001b[1m1.473           \u001b[0m\u001b[1m \u001b[0m│\n",
       "│ When church and lamp went to the shops, church gave the bag to       │\u001b[1;38;2;0;200;0m \u001b[0m\u001b[1;38;2;0;200;0m lamp    \u001b[0m\u001b[1;38;2;0;200;0m \u001b[0m│\u001b[1;38;2;255;0;0m \u001b[0m\u001b[1;38;2;255;0;0m church  \u001b[0m\u001b[1;38;2;255;0;0m \u001b[0m│\u001b[1m \u001b[0m\u001b[1m-1.282          \u001b[0m\u001b[1m \u001b[0m│\n",
       "│ When church and flower went to the shops, flower gave the bag to     │\u001b[1;38;2;0;200;0m \u001b[0m\u001b[1;38;2;0;200;0m church  \u001b[0m\u001b[1;38;2;0;200;0m \u001b[0m│\u001b[1;38;2;255;0;0m \u001b[0m\u001b[1;38;2;255;0;0m flower  \u001b[0m\u001b[1;38;2;255;0;0m \u001b[0m│\u001b[1m \u001b[0m\u001b[1m2.427           \u001b[0m\u001b[1m \u001b[0m│\n",
       "│ When church and flower went to the shops, church gave the bag to     │\u001b[1;38;2;0;200;0m \u001b[0m\u001b[1;38;2;0;200;0m flower  \u001b[0m\u001b[1;38;2;0;200;0m \u001b[0m│\u001b[1;38;2;255;0;0m \u001b[0m\u001b[1;38;2;255;0;0m church  \u001b[0m\u001b[1;38;2;255;0;0m \u001b[0m│\u001b[1m \u001b[0m\u001b[1m-1.371          \u001b[0m\u001b[1m \u001b[0m│\n",
       "│ When church and flower went to the shops, flower gave the bag to     │\u001b[1;38;2;0;200;0m \u001b[0m\u001b[1;38;2;0;200;0m church  \u001b[0m\u001b[1;38;2;0;200;0m \u001b[0m│\u001b[1;38;2;255;0;0m \u001b[0m\u001b[1;38;2;255;0;0m flower  \u001b[0m\u001b[1;38;2;255;0;0m \u001b[0m│\u001b[1m \u001b[0m\u001b[1m2.427           \u001b[0m\u001b[1m \u001b[0m│\n",
       "│ When church and flower went to the shops, church gave the bag to     │\u001b[1;38;2;0;200;0m \u001b[0m\u001b[1;38;2;0;200;0m flower  \u001b[0m\u001b[1;38;2;0;200;0m \u001b[0m│\u001b[1;38;2;255;0;0m \u001b[0m\u001b[1;38;2;255;0;0m church  \u001b[0m\u001b[1;38;2;255;0;0m \u001b[0m│\u001b[1m \u001b[0m\u001b[1m-1.371          \u001b[0m\u001b[1m \u001b[0m│\n",
       "│ When lamp and google went to the shops, google gave the bag to       │\u001b[1;38;2;0;200;0m \u001b[0m\u001b[1;38;2;0;200;0m lamp    \u001b[0m\u001b[1;38;2;0;200;0m \u001b[0m│\u001b[1;38;2;255;0;0m \u001b[0m\u001b[1;38;2;255;0;0m google  \u001b[0m\u001b[1;38;2;255;0;0m \u001b[0m│\u001b[1m \u001b[0m\u001b[1m-0.847          \u001b[0m\u001b[1m \u001b[0m│\n",
       "│ When lamp and google went to the shops, lamp gave the bag to         │\u001b[1;38;2;0;200;0m \u001b[0m\u001b[1;38;2;0;200;0m google  \u001b[0m\u001b[1;38;2;0;200;0m \u001b[0m│\u001b[1;38;2;255;0;0m \u001b[0m\u001b[1;38;2;255;0;0m lamp    \u001b[0m\u001b[1;38;2;255;0;0m \u001b[0m│\u001b[1m \u001b[0m\u001b[1m0.923           \u001b[0m\u001b[1m \u001b[0m│\n",
       "│ When lamp and flower went to the shops, flower gave the bag to       │\u001b[1;38;2;0;200;0m \u001b[0m\u001b[1;38;2;0;200;0m lamp    \u001b[0m\u001b[1;38;2;0;200;0m \u001b[0m│\u001b[1;38;2;255;0;0m \u001b[0m\u001b[1;38;2;255;0;0m flower  \u001b[0m\u001b[1;38;2;255;0;0m \u001b[0m│\u001b[1m \u001b[0m\u001b[1m1.438           \u001b[0m\u001b[1m \u001b[0m│\n",
       "│ When lamp and flower went to the shops, lamp gave the bag to         │\u001b[1;38;2;0;200;0m \u001b[0m\u001b[1;38;2;0;200;0m flower  \u001b[0m\u001b[1;38;2;0;200;0m \u001b[0m│\u001b[1;38;2;255;0;0m \u001b[0m\u001b[1;38;2;255;0;0m lamp    \u001b[0m\u001b[1;38;2;255;0;0m \u001b[0m│\u001b[1m \u001b[0m\u001b[1m1.086           \u001b[0m\u001b[1m \u001b[0m│\n",
       "│ When bag and statue went to the shops, statue gave the bag to        │\u001b[1;38;2;0;200;0m \u001b[0m\u001b[1;38;2;0;200;0m bag     \u001b[0m\u001b[1;38;2;0;200;0m \u001b[0m│\u001b[1;38;2;255;0;0m \u001b[0m\u001b[1;38;2;255;0;0m statue  \u001b[0m\u001b[1;38;2;255;0;0m \u001b[0m│\u001b[1m \u001b[0m\u001b[1m0.192           \u001b[0m\u001b[1m \u001b[0m│\n",
       "│ When bag and statue went to the shops, bag gave the bag to           │\u001b[1;38;2;0;200;0m \u001b[0m\u001b[1;38;2;0;200;0m statue  \u001b[0m\u001b[1;38;2;0;200;0m \u001b[0m│\u001b[1;38;2;255;0;0m \u001b[0m\u001b[1;38;2;255;0;0m bag     \u001b[0m\u001b[1;38;2;255;0;0m \u001b[0m│\u001b[1m \u001b[0m\u001b[1m-0.594          \u001b[0m\u001b[1m \u001b[0m│\n",
       "│ When bag and church went to the shops, church gave the bag to        │\u001b[1;38;2;0;200;0m \u001b[0m\u001b[1;38;2;0;200;0m bag     \u001b[0m\u001b[1;38;2;0;200;0m \u001b[0m│\u001b[1;38;2;255;0;0m \u001b[0m\u001b[1;38;2;255;0;0m church  \u001b[0m\u001b[1;38;2;255;0;0m \u001b[0m│\u001b[1m \u001b[0m\u001b[1m-2.265          \u001b[0m\u001b[1m \u001b[0m│\n",
       "│ When bag and church went to the shops, bag gave the bag to           │\u001b[1;38;2;0;200;0m \u001b[0m\u001b[1;38;2;0;200;0m church  \u001b[0m\u001b[1;38;2;0;200;0m \u001b[0m│\u001b[1;38;2;255;0;0m \u001b[0m\u001b[1;38;2;255;0;0m bag     \u001b[0m\u001b[1;38;2;255;0;0m \u001b[0m│\u001b[1m \u001b[0m\u001b[1m2.326           \u001b[0m\u001b[1m \u001b[0m│\n",
       "│ When bag and chair went to the shops, chair gave the bag to          │\u001b[1;38;2;0;200;0m \u001b[0m\u001b[1;38;2;0;200;0m bag     \u001b[0m\u001b[1;38;2;0;200;0m \u001b[0m│\u001b[1;38;2;255;0;0m \u001b[0m\u001b[1;38;2;255;0;0m chair   \u001b[0m\u001b[1;38;2;255;0;0m \u001b[0m│\u001b[1m \u001b[0m\u001b[1m2.021           \u001b[0m\u001b[1m \u001b[0m│\n",
       "│ When bag and chair went to the shops, bag gave the bag to            │\u001b[1;38;2;0;200;0m \u001b[0m\u001b[1;38;2;0;200;0m chair   \u001b[0m\u001b[1;38;2;0;200;0m \u001b[0m│\u001b[1;38;2;255;0;0m \u001b[0m\u001b[1;38;2;255;0;0m bag     \u001b[0m\u001b[1;38;2;255;0;0m \u001b[0m│\u001b[1m \u001b[0m\u001b[1m-1.671          \u001b[0m\u001b[1m \u001b[0m│\n",
       "│ When google and chair went to the shops, chair gave the bag to       │\u001b[1;38;2;0;200;0m \u001b[0m\u001b[1;38;2;0;200;0m google  \u001b[0m\u001b[1;38;2;0;200;0m \u001b[0m│\u001b[1;38;2;255;0;0m \u001b[0m\u001b[1;38;2;255;0;0m chair   \u001b[0m\u001b[1;38;2;255;0;0m \u001b[0m│\u001b[1m \u001b[0m\u001b[1m0.347           \u001b[0m\u001b[1m \u001b[0m│\n",
       "│ When google and chair went to the shops, google gave the bag to      │\u001b[1;38;2;0;200;0m \u001b[0m\u001b[1;38;2;0;200;0m chair   \u001b[0m\u001b[1;38;2;0;200;0m \u001b[0m│\u001b[1;38;2;255;0;0m \u001b[0m\u001b[1;38;2;255;0;0m google  \u001b[0m\u001b[1;38;2;255;0;0m \u001b[0m│\u001b[1m \u001b[0m\u001b[1m0.130           \u001b[0m\u001b[1m \u001b[0m│\n",
       "│ When Paris and Devon went to the shops, Devon gave the bag to        │\u001b[1;38;2;0;200;0m \u001b[0m\u001b[1;38;2;0;200;0m Paris   \u001b[0m\u001b[1;38;2;0;200;0m \u001b[0m│\u001b[1;38;2;255;0;0m \u001b[0m\u001b[1;38;2;255;0;0m Devon   \u001b[0m\u001b[1;38;2;255;0;0m \u001b[0m│\u001b[1m \u001b[0m\u001b[1m0.332           \u001b[0m\u001b[1m \u001b[0m│\n",
       "│ When Paris and Devon went to the shops, Paris gave the bag to        │\u001b[1;38;2;0;200;0m \u001b[0m\u001b[1;38;2;0;200;0m Devon   \u001b[0m\u001b[1;38;2;0;200;0m \u001b[0m│\u001b[1;38;2;255;0;0m \u001b[0m\u001b[1;38;2;255;0;0m Paris   \u001b[0m\u001b[1;38;2;255;0;0m \u001b[0m│\u001b[1m \u001b[0m\u001b[1m4.567           \u001b[0m\u001b[1m \u001b[0m│\n",
       "│ When Paris and Phoenix went to the shops, Phoenix gave the bag to    │\u001b[1;38;2;0;200;0m \u001b[0m\u001b[1;38;2;0;200;0m Paris   \u001b[0m\u001b[1;38;2;0;200;0m \u001b[0m│\u001b[1;38;2;255;0;0m \u001b[0m\u001b[1;38;2;255;0;0m Phoenix \u001b[0m\u001b[1;38;2;255;0;0m \u001b[0m│\u001b[1m \u001b[0m\u001b[1m0.388           \u001b[0m\u001b[1m \u001b[0m│\n",
       "│ When Paris and Phoenix went to the shops, Paris gave the bag to      │\u001b[1;38;2;0;200;0m \u001b[0m\u001b[1;38;2;0;200;0m Phoenix \u001b[0m\u001b[1;38;2;0;200;0m \u001b[0m│\u001b[1;38;2;255;0;0m \u001b[0m\u001b[1;38;2;255;0;0m Paris   \u001b[0m\u001b[1;38;2;255;0;0m \u001b[0m│\u001b[1m \u001b[0m\u001b[1m3.778           \u001b[0m\u001b[1m \u001b[0m│\n",
       "│ When Brooklyn and London went to the shops, London gave the bag to   │\u001b[1;38;2;0;200;0m \u001b[0m\u001b[1;38;2;0;200;0m Brooklyn\u001b[0m\u001b[1;38;2;0;200;0m \u001b[0m│\u001b[1;38;2;255;0;0m \u001b[0m\u001b[1;38;2;255;0;0m London  \u001b[0m\u001b[1;38;2;255;0;0m \u001b[0m│\u001b[1m \u001b[0m\u001b[1m-0.108          \u001b[0m\u001b[1m \u001b[0m│\n",
       "│ When Brooklyn and London went to the shops, Brooklyn gave the bag to │\u001b[1;38;2;0;200;0m \u001b[0m\u001b[1;38;2;0;200;0m London  \u001b[0m\u001b[1;38;2;0;200;0m \u001b[0m│\u001b[1;38;2;255;0;0m \u001b[0m\u001b[1;38;2;255;0;0m Brooklyn\u001b[0m\u001b[1;38;2;255;0;0m \u001b[0m│\u001b[1m \u001b[0m\u001b[1m4.468           \u001b[0m\u001b[1m \u001b[0m│\n",
       "│ When Florence and Austin went to the shops, Austin gave the bag to   │\u001b[1;38;2;0;200;0m \u001b[0m\u001b[1;38;2;0;200;0m Florence\u001b[0m\u001b[1;38;2;0;200;0m \u001b[0m│\u001b[1;38;2;255;0;0m \u001b[0m\u001b[1;38;2;255;0;0m Austin  \u001b[0m\u001b[1;38;2;255;0;0m \u001b[0m│\u001b[1m \u001b[0m\u001b[1m3.132           \u001b[0m\u001b[1m \u001b[0m│\n",
       "│ When Florence and Austin went to the shops, Florence gave the bag to │\u001b[1;38;2;0;200;0m \u001b[0m\u001b[1;38;2;0;200;0m Austin  \u001b[0m\u001b[1;38;2;0;200;0m \u001b[0m│\u001b[1;38;2;255;0;0m \u001b[0m\u001b[1;38;2;255;0;0m Florence\u001b[0m\u001b[1;38;2;255;0;0m \u001b[0m│\u001b[1m \u001b[0m\u001b[1m8.437           \u001b[0m\u001b[1m \u001b[0m│\n",
       "│ When Austin and Madison went to the shops, Madison gave the bag to   │\u001b[1;38;2;0;200;0m \u001b[0m\u001b[1;38;2;0;200;0m Austin  \u001b[0m\u001b[1;38;2;0;200;0m \u001b[0m│\u001b[1;38;2;255;0;0m \u001b[0m\u001b[1;38;2;255;0;0m Madison \u001b[0m\u001b[1;38;2;255;0;0m \u001b[0m│\u001b[1m \u001b[0m\u001b[1m2.752           \u001b[0m\u001b[1m \u001b[0m│\n",
       "│ When Austin and Madison went to the shops, Austin gave the bag to    │\u001b[1;38;2;0;200;0m \u001b[0m\u001b[1;38;2;0;200;0m Madison \u001b[0m\u001b[1;38;2;0;200;0m \u001b[0m│\u001b[1;38;2;255;0;0m \u001b[0m\u001b[1;38;2;255;0;0m Austin  \u001b[0m\u001b[1;38;2;255;0;0m \u001b[0m│\u001b[1m \u001b[0m\u001b[1m5.903           \u001b[0m\u001b[1m \u001b[0m│\n",
       "│ When Phoenix and Florence went to the shops, Florence gave the bag   │\u001b[1;38;2;0;200;0m \u001b[0m\u001b[1;38;2;0;200;0m Phoenix \u001b[0m\u001b[1;38;2;0;200;0m \u001b[0m│\u001b[1;38;2;255;0;0m \u001b[0m\u001b[1;38;2;255;0;0m Florence\u001b[0m\u001b[1;38;2;255;0;0m \u001b[0m│\u001b[1m \u001b[0m\u001b[1m0.954           \u001b[0m\u001b[1m \u001b[0m│\n",
       "│ to                                                                   │\u001b[1;38;2;0;200;0m           \u001b[0m│\u001b[1;38;2;255;0;0m           \u001b[0m│\u001b[1m                  \u001b[0m│\n",
       "│ When Phoenix and Florence went to the shops, Phoenix gave the bag to │\u001b[1;38;2;0;200;0m \u001b[0m\u001b[1;38;2;0;200;0m Florence\u001b[0m\u001b[1;38;2;0;200;0m \u001b[0m│\u001b[1;38;2;255;0;0m \u001b[0m\u001b[1;38;2;255;0;0m Phoenix \u001b[0m\u001b[1;38;2;255;0;0m \u001b[0m│\u001b[1m \u001b[0m\u001b[1m8.046           \u001b[0m\u001b[1m \u001b[0m│\n",
       "│ When Madison and Phoenix went to the shops, Phoenix gave the bag to  │\u001b[1;38;2;0;200;0m \u001b[0m\u001b[1;38;2;0;200;0m Madison \u001b[0m\u001b[1;38;2;0;200;0m \u001b[0m│\u001b[1;38;2;255;0;0m \u001b[0m\u001b[1;38;2;255;0;0m Phoenix \u001b[0m\u001b[1;38;2;255;0;0m \u001b[0m│\u001b[1m \u001b[0m\u001b[1m2.644           \u001b[0m\u001b[1m \u001b[0m│\n",
       "│ When Madison and Phoenix went to the shops, Madison gave the bag to  │\u001b[1;38;2;0;200;0m \u001b[0m\u001b[1;38;2;0;200;0m Phoenix \u001b[0m\u001b[1;38;2;0;200;0m \u001b[0m│\u001b[1;38;2;255;0;0m \u001b[0m\u001b[1;38;2;255;0;0m Madison \u001b[0m\u001b[1;38;2;255;0;0m \u001b[0m│\u001b[1m \u001b[0m\u001b[1m4.216           \u001b[0m\u001b[1m \u001b[0m│\n",
       "│ When Austin and London went to the shops, London gave the bag to     │\u001b[1;38;2;0;200;0m \u001b[0m\u001b[1;38;2;0;200;0m Austin  \u001b[0m\u001b[1;38;2;0;200;0m \u001b[0m│\u001b[1;38;2;255;0;0m \u001b[0m\u001b[1;38;2;255;0;0m London  \u001b[0m\u001b[1;38;2;255;0;0m \u001b[0m│\u001b[1m \u001b[0m\u001b[1m2.329           \u001b[0m\u001b[1m \u001b[0m│\n",
       "│ When Austin and London went to the shops, Austin gave the bag to     │\u001b[1;38;2;0;200;0m \u001b[0m\u001b[1;38;2;0;200;0m London  \u001b[0m\u001b[1;38;2;0;200;0m \u001b[0m│\u001b[1;38;2;255;0;0m \u001b[0m\u001b[1;38;2;255;0;0m Austin  \u001b[0m\u001b[1;38;2;255;0;0m \u001b[0m│\u001b[1m \u001b[0m\u001b[1m3.869           \u001b[0m\u001b[1m \u001b[0m│\n",
       "│ When Phoenix and London went to the shops, London gave the bag to    │\u001b[1;38;2;0;200;0m \u001b[0m\u001b[1;38;2;0;200;0m Phoenix \u001b[0m\u001b[1;38;2;0;200;0m \u001b[0m│\u001b[1;38;2;255;0;0m \u001b[0m\u001b[1;38;2;255;0;0m London  \u001b[0m\u001b[1;38;2;255;0;0m \u001b[0m│\u001b[1m \u001b[0m\u001b[1m-0.290          \u001b[0m\u001b[1m \u001b[0m│\n",
       "│ When Phoenix and London went to the shops, Phoenix gave the bag to   │\u001b[1;38;2;0;200;0m \u001b[0m\u001b[1;38;2;0;200;0m London  \u001b[0m\u001b[1;38;2;0;200;0m \u001b[0m│\u001b[1;38;2;255;0;0m \u001b[0m\u001b[1;38;2;255;0;0m Phoenix \u001b[0m\u001b[1;38;2;255;0;0m \u001b[0m│\u001b[1m \u001b[0m\u001b[1m4.343           \u001b[0m\u001b[1m \u001b[0m│\n",
       "│ When Paris and Austin went to the shops, Austin gave the bag to      │\u001b[1;38;2;0;200;0m \u001b[0m\u001b[1;38;2;0;200;0m Paris   \u001b[0m\u001b[1;38;2;0;200;0m \u001b[0m│\u001b[1;38;2;255;0;0m \u001b[0m\u001b[1;38;2;255;0;0m Austin  \u001b[0m\u001b[1;38;2;255;0;0m \u001b[0m│\u001b[1m \u001b[0m\u001b[1m0.638           \u001b[0m\u001b[1m \u001b[0m│\n",
       "│ When Paris and Austin went to the shops, Paris gave the bag to       │\u001b[1;38;2;0;200;0m \u001b[0m\u001b[1;38;2;0;200;0m Austin  \u001b[0m\u001b[1;38;2;0;200;0m \u001b[0m│\u001b[1;38;2;255;0;0m \u001b[0m\u001b[1;38;2;255;0;0m Paris   \u001b[0m\u001b[1;38;2;255;0;0m \u001b[0m│\u001b[1m \u001b[0m\u001b[1m6.257           \u001b[0m\u001b[1m \u001b[0m│\n",
       "│ When Joseph and Noah went to the shops, Noah gave the bag to         │\u001b[1;38;2;0;200;0m \u001b[0m\u001b[1;38;2;0;200;0m Joseph  \u001b[0m\u001b[1;38;2;0;200;0m \u001b[0m│\u001b[1;38;2;255;0;0m \u001b[0m\u001b[1;38;2;255;0;0m Noah    \u001b[0m\u001b[1;38;2;255;0;0m \u001b[0m│\u001b[1m \u001b[0m\u001b[1m3.755           \u001b[0m\u001b[1m \u001b[0m│\n",
       "│ When Joseph and Noah went to the shops, Joseph gave the bag to       │\u001b[1;38;2;0;200;0m \u001b[0m\u001b[1;38;2;0;200;0m Noah    \u001b[0m\u001b[1;38;2;0;200;0m \u001b[0m│\u001b[1;38;2;255;0;0m \u001b[0m\u001b[1;38;2;255;0;0m Joseph  \u001b[0m\u001b[1;38;2;255;0;0m \u001b[0m│\u001b[1m \u001b[0m\u001b[1m2.593           \u001b[0m\u001b[1m \u001b[0m│\n",
       "│ When Noah and Mary went to the shops, Mary gave the bag to           │\u001b[1;38;2;0;200;0m \u001b[0m\u001b[1;38;2;0;200;0m Noah    \u001b[0m\u001b[1;38;2;0;200;0m \u001b[0m│\u001b[1;38;2;255;0;0m \u001b[0m\u001b[1;38;2;255;0;0m Mary    \u001b[0m\u001b[1;38;2;255;0;0m \u001b[0m│\u001b[1m \u001b[0m\u001b[1m4.317           \u001b[0m\u001b[1m \u001b[0m│\n",
       "│ When Noah and Mary went to the shops, Noah gave the bag to           │\u001b[1;38;2;0;200;0m \u001b[0m\u001b[1;38;2;0;200;0m Mary    \u001b[0m\u001b[1;38;2;0;200;0m \u001b[0m│\u001b[1;38;2;255;0;0m \u001b[0m\u001b[1;38;2;255;0;0m Noah    \u001b[0m\u001b[1;38;2;255;0;0m \u001b[0m│\u001b[1m \u001b[0m\u001b[1m5.506           \u001b[0m\u001b[1m \u001b[0m│\n",
       "│ When Paul and Mary went to the shops, Mary gave the bag to           │\u001b[1;38;2;0;200;0m \u001b[0m\u001b[1;38;2;0;200;0m Paul    \u001b[0m\u001b[1;38;2;0;200;0m \u001b[0m│\u001b[1;38;2;255;0;0m \u001b[0m\u001b[1;38;2;255;0;0m Mary    \u001b[0m\u001b[1;38;2;255;0;0m \u001b[0m│\u001b[1m \u001b[0m\u001b[1m5.106           \u001b[0m\u001b[1m \u001b[0m│\n",
       "│ When Paul and Mary went to the shops, Paul gave the bag to           │\u001b[1;38;2;0;200;0m \u001b[0m\u001b[1;38;2;0;200;0m Mary    \u001b[0m\u001b[1;38;2;0;200;0m \u001b[0m│\u001b[1;38;2;255;0;0m \u001b[0m\u001b[1;38;2;255;0;0m Paul    \u001b[0m\u001b[1;38;2;255;0;0m \u001b[0m│\u001b[1m \u001b[0m\u001b[1m4.334           \u001b[0m\u001b[1m \u001b[0m│\n",
       "│ When Abraham and Mary went to the shops, Mary gave the bag to        │\u001b[1;38;2;0;200;0m \u001b[0m\u001b[1;38;2;0;200;0m Abraham \u001b[0m\u001b[1;38;2;0;200;0m \u001b[0m│\u001b[1;38;2;255;0;0m \u001b[0m\u001b[1;38;2;255;0;0m Mary    \u001b[0m\u001b[1;38;2;255;0;0m \u001b[0m│\u001b[1m \u001b[0m\u001b[1m3.620           \u001b[0m\u001b[1m \u001b[0m│\n",
       "│ When Abraham and Mary went to the shops, Abraham gave the bag to     │\u001b[1;38;2;0;200;0m \u001b[0m\u001b[1;38;2;0;200;0m Mary    \u001b[0m\u001b[1;38;2;0;200;0m \u001b[0m│\u001b[1;38;2;255;0;0m \u001b[0m\u001b[1;38;2;255;0;0m Abraham \u001b[0m\u001b[1;38;2;255;0;0m \u001b[0m│\u001b[1m \u001b[0m\u001b[1m5.660           \u001b[0m\u001b[1m \u001b[0m│\n",
       "│ When Noah and Abraham went to the shops, Abraham gave the bag to     │\u001b[1;38;2;0;200;0m \u001b[0m\u001b[1;38;2;0;200;0m Noah    \u001b[0m\u001b[1;38;2;0;200;0m \u001b[0m│\u001b[1;38;2;255;0;0m \u001b[0m\u001b[1;38;2;255;0;0m Abraham \u001b[0m\u001b[1;38;2;255;0;0m \u001b[0m│\u001b[1m \u001b[0m\u001b[1m3.034           \u001b[0m\u001b[1m \u001b[0m│\n",
       "│ When Noah and Abraham went to the shops, Noah gave the bag to        │\u001b[1;38;2;0;200;0m \u001b[0m\u001b[1;38;2;0;200;0m Abraham \u001b[0m\u001b[1;38;2;0;200;0m \u001b[0m│\u001b[1;38;2;255;0;0m \u001b[0m\u001b[1;38;2;255;0;0m Noah    \u001b[0m\u001b[1;38;2;255;0;0m \u001b[0m│\u001b[1m \u001b[0m\u001b[1m3.003           \u001b[0m\u001b[1m \u001b[0m│\n",
       "│ When Isaac and Jacob went to the shops, Jacob gave the bag to        │\u001b[1;38;2;0;200;0m \u001b[0m\u001b[1;38;2;0;200;0m Isaac   \u001b[0m\u001b[1;38;2;0;200;0m \u001b[0m│\u001b[1;38;2;255;0;0m \u001b[0m\u001b[1;38;2;255;0;0m Jacob   \u001b[0m\u001b[1;38;2;255;0;0m \u001b[0m│\u001b[1m \u001b[0m\u001b[1m2.815           \u001b[0m\u001b[1m \u001b[0m│\n",
       "│ When Isaac and Jacob went to the shops, Isaac gave the bag to        │\u001b[1;38;2;0;200;0m \u001b[0m\u001b[1;38;2;0;200;0m Jacob   \u001b[0m\u001b[1;38;2;0;200;0m \u001b[0m│\u001b[1;38;2;255;0;0m \u001b[0m\u001b[1;38;2;255;0;0m Isaac   \u001b[0m\u001b[1;38;2;255;0;0m \u001b[0m│\u001b[1m \u001b[0m\u001b[1m4.052           \u001b[0m\u001b[1m \u001b[0m│\n",
       "│ When Jesus and Joseph went to the shops, Joseph gave the bag to      │\u001b[1;38;2;0;200;0m \u001b[0m\u001b[1;38;2;0;200;0m Jesus   \u001b[0m\u001b[1;38;2;0;200;0m \u001b[0m│\u001b[1;38;2;255;0;0m \u001b[0m\u001b[1;38;2;255;0;0m Joseph  \u001b[0m\u001b[1;38;2;255;0;0m \u001b[0m│\u001b[1m \u001b[0m\u001b[1m-0.306          \u001b[0m\u001b[1m \u001b[0m│\n",
       "│ When Jesus and Joseph went to the shops, Jesus gave the bag to       │\u001b[1;38;2;0;200;0m \u001b[0m\u001b[1;38;2;0;200;0m Joseph  \u001b[0m\u001b[1;38;2;0;200;0m \u001b[0m│\u001b[1;38;2;255;0;0m \u001b[0m\u001b[1;38;2;255;0;0m Jesus   \u001b[0m\u001b[1;38;2;255;0;0m \u001b[0m│\u001b[1m \u001b[0m\u001b[1m3.909           \u001b[0m\u001b[1m \u001b[0m│\n",
       "│ When Isaac and Abraham went to the shops, Abraham gave the bag to    │\u001b[1;38;2;0;200;0m \u001b[0m\u001b[1;38;2;0;200;0m Isaac   \u001b[0m\u001b[1;38;2;0;200;0m \u001b[0m│\u001b[1;38;2;255;0;0m \u001b[0m\u001b[1;38;2;255;0;0m Abraham \u001b[0m\u001b[1;38;2;255;0;0m \u001b[0m│\u001b[1m \u001b[0m\u001b[1m2.931           \u001b[0m\u001b[1m \u001b[0m│\n",
       "│ When Isaac and Abraham went to the shops, Isaac gave the bag to      │\u001b[1;38;2;0;200;0m \u001b[0m\u001b[1;38;2;0;200;0m Abraham \u001b[0m\u001b[1;38;2;0;200;0m \u001b[0m│\u001b[1;38;2;255;0;0m \u001b[0m\u001b[1;38;2;255;0;0m Isaac   \u001b[0m\u001b[1;38;2;255;0;0m \u001b[0m│\u001b[1m \u001b[0m\u001b[1m1.928           \u001b[0m\u001b[1m \u001b[0m│\n",
       "│ When Paul and Jacob went to the shops, Jacob gave the bag to         │\u001b[1;38;2;0;200;0m \u001b[0m\u001b[1;38;2;0;200;0m Paul    \u001b[0m\u001b[1;38;2;0;200;0m \u001b[0m│\u001b[1;38;2;255;0;0m \u001b[0m\u001b[1;38;2;255;0;0m Jacob   \u001b[0m\u001b[1;38;2;255;0;0m \u001b[0m│\u001b[1m \u001b[0m\u001b[1m3.773           \u001b[0m\u001b[1m \u001b[0m│\n",
       "│ When Paul and Jacob went to the shops, Paul gave the bag to          │\u001b[1;38;2;0;200;0m \u001b[0m\u001b[1;38;2;0;200;0m Jacob   \u001b[0m\u001b[1;38;2;0;200;0m \u001b[0m│\u001b[1;38;2;255;0;0m \u001b[0m\u001b[1;38;2;255;0;0m Paul    \u001b[0m\u001b[1;38;2;255;0;0m \u001b[0m│\u001b[1m \u001b[0m\u001b[1m4.314           \u001b[0m\u001b[1m \u001b[0m│\n",
       "│ When Abraham and Joseph went to the shops, Joseph gave the bag to    │\u001b[1;38;2;0;200;0m \u001b[0m\u001b[1;38;2;0;200;0m Abraham \u001b[0m\u001b[1;38;2;0;200;0m \u001b[0m│\u001b[1;38;2;255;0;0m \u001b[0m\u001b[1;38;2;255;0;0m Joseph  \u001b[0m\u001b[1;38;2;255;0;0m \u001b[0m│\u001b[1m \u001b[0m\u001b[1m3.097           \u001b[0m\u001b[1m \u001b[0m│\n",
       "│ When Abraham and Joseph went to the shops, Abraham gave the bag to   │\u001b[1;38;2;0;200;0m \u001b[0m\u001b[1;38;2;0;200;0m Joseph  \u001b[0m\u001b[1;38;2;0;200;0m \u001b[0m│\u001b[1;38;2;255;0;0m \u001b[0m\u001b[1;38;2;255;0;0m Abraham \u001b[0m\u001b[1;38;2;255;0;0m \u001b[0m│\u001b[1m \u001b[0m\u001b[1m5.581           \u001b[0m\u001b[1m \u001b[0m│\n",
       "│ When Paris and Devon went to the shops, Devon gave the bag to        │\u001b[1;38;2;0;200;0m \u001b[0m\u001b[1;38;2;0;200;0m Paris   \u001b[0m\u001b[1;38;2;0;200;0m \u001b[0m│\u001b[1;38;2;255;0;0m \u001b[0m\u001b[1;38;2;255;0;0m Devon   \u001b[0m\u001b[1;38;2;255;0;0m \u001b[0m│\u001b[1m \u001b[0m\u001b[1m0.332           \u001b[0m\u001b[1m \u001b[0m│\n",
       "│ When Paris and Devon went to the shops, Paris gave the bag to        │\u001b[1;38;2;0;200;0m \u001b[0m\u001b[1;38;2;0;200;0m Devon   \u001b[0m\u001b[1;38;2;0;200;0m \u001b[0m│\u001b[1;38;2;255;0;0m \u001b[0m\u001b[1;38;2;255;0;0m Paris   \u001b[0m\u001b[1;38;2;255;0;0m \u001b[0m│\u001b[1m \u001b[0m\u001b[1m4.567           \u001b[0m\u001b[1m \u001b[0m│\n",
       "│ When Paris and Phoenix went to the shops, Phoenix gave the bag to    │\u001b[1;38;2;0;200;0m \u001b[0m\u001b[1;38;2;0;200;0m Paris   \u001b[0m\u001b[1;38;2;0;200;0m \u001b[0m│\u001b[1;38;2;255;0;0m \u001b[0m\u001b[1;38;2;255;0;0m Phoenix \u001b[0m\u001b[1;38;2;255;0;0m \u001b[0m│\u001b[1m \u001b[0m\u001b[1m0.388           \u001b[0m\u001b[1m \u001b[0m│\n",
       "│ When Paris and Phoenix went to the shops, Paris gave the bag to      │\u001b[1;38;2;0;200;0m \u001b[0m\u001b[1;38;2;0;200;0m Phoenix \u001b[0m\u001b[1;38;2;0;200;0m \u001b[0m│\u001b[1;38;2;255;0;0m \u001b[0m\u001b[1;38;2;255;0;0m Paris   \u001b[0m\u001b[1;38;2;255;0;0m \u001b[0m│\u001b[1m \u001b[0m\u001b[1m3.778           \u001b[0m\u001b[1m \u001b[0m│\n",
       "│ When Brooklyn and London went to the shops, London gave the bag to   │\u001b[1;38;2;0;200;0m \u001b[0m\u001b[1;38;2;0;200;0m Brooklyn\u001b[0m\u001b[1;38;2;0;200;0m \u001b[0m│\u001b[1;38;2;255;0;0m \u001b[0m\u001b[1;38;2;255;0;0m London  \u001b[0m\u001b[1;38;2;255;0;0m \u001b[0m│\u001b[1m \u001b[0m\u001b[1m-0.108          \u001b[0m\u001b[1m \u001b[0m│\n",
       "│ When Brooklyn and London went to the shops, Brooklyn gave the bag to │\u001b[1;38;2;0;200;0m \u001b[0m\u001b[1;38;2;0;200;0m London  \u001b[0m\u001b[1;38;2;0;200;0m \u001b[0m│\u001b[1;38;2;255;0;0m \u001b[0m\u001b[1;38;2;255;0;0m Brooklyn\u001b[0m\u001b[1;38;2;255;0;0m \u001b[0m│\u001b[1m \u001b[0m\u001b[1m4.468           \u001b[0m\u001b[1m \u001b[0m│\n",
       "│ When Florence and Austin went to the shops, Austin gave the bag to   │\u001b[1;38;2;0;200;0m \u001b[0m\u001b[1;38;2;0;200;0m Florence\u001b[0m\u001b[1;38;2;0;200;0m \u001b[0m│\u001b[1;38;2;255;0;0m \u001b[0m\u001b[1;38;2;255;0;0m Austin  \u001b[0m\u001b[1;38;2;255;0;0m \u001b[0m│\u001b[1m \u001b[0m\u001b[1m3.132           \u001b[0m\u001b[1m \u001b[0m│\n",
       "│ When Florence and Austin went to the shops, Florence gave the bag to │\u001b[1;38;2;0;200;0m \u001b[0m\u001b[1;38;2;0;200;0m Austin  \u001b[0m\u001b[1;38;2;0;200;0m \u001b[0m│\u001b[1;38;2;255;0;0m \u001b[0m\u001b[1;38;2;255;0;0m Florence\u001b[0m\u001b[1;38;2;255;0;0m \u001b[0m│\u001b[1m \u001b[0m\u001b[1m8.437           \u001b[0m\u001b[1m \u001b[0m│\n",
       "│ When Austin and Madison went to the shops, Madison gave the bag to   │\u001b[1;38;2;0;200;0m \u001b[0m\u001b[1;38;2;0;200;0m Austin  \u001b[0m\u001b[1;38;2;0;200;0m \u001b[0m│\u001b[1;38;2;255;0;0m \u001b[0m\u001b[1;38;2;255;0;0m Madison \u001b[0m\u001b[1;38;2;255;0;0m \u001b[0m│\u001b[1m \u001b[0m\u001b[1m2.752           \u001b[0m\u001b[1m \u001b[0m│\n",
       "│ When Austin and Madison went to the shops, Austin gave the bag to    │\u001b[1;38;2;0;200;0m \u001b[0m\u001b[1;38;2;0;200;0m Madison \u001b[0m\u001b[1;38;2;0;200;0m \u001b[0m│\u001b[1;38;2;255;0;0m \u001b[0m\u001b[1;38;2;255;0;0m Austin  \u001b[0m\u001b[1;38;2;255;0;0m \u001b[0m│\u001b[1m \u001b[0m\u001b[1m5.903           \u001b[0m\u001b[1m \u001b[0m│\n",
       "│ When Phoenix and Florence went to the shops, Florence gave the bag   │\u001b[1;38;2;0;200;0m \u001b[0m\u001b[1;38;2;0;200;0m Phoenix \u001b[0m\u001b[1;38;2;0;200;0m \u001b[0m│\u001b[1;38;2;255;0;0m \u001b[0m\u001b[1;38;2;255;0;0m Florence\u001b[0m\u001b[1;38;2;255;0;0m \u001b[0m│\u001b[1m \u001b[0m\u001b[1m0.954           \u001b[0m\u001b[1m \u001b[0m│\n",
       "│ to                                                                   │\u001b[1;38;2;0;200;0m           \u001b[0m│\u001b[1;38;2;255;0;0m           \u001b[0m│\u001b[1m                  \u001b[0m│\n",
       "│ When Phoenix and Florence went to the shops, Phoenix gave the bag to │\u001b[1;38;2;0;200;0m \u001b[0m\u001b[1;38;2;0;200;0m Florence\u001b[0m\u001b[1;38;2;0;200;0m \u001b[0m│\u001b[1;38;2;255;0;0m \u001b[0m\u001b[1;38;2;255;0;0m Phoenix \u001b[0m\u001b[1;38;2;255;0;0m \u001b[0m│\u001b[1m \u001b[0m\u001b[1m8.046           \u001b[0m\u001b[1m \u001b[0m│\n",
       "│ When Madison and Phoenix went to the shops, Phoenix gave the bag to  │\u001b[1;38;2;0;200;0m \u001b[0m\u001b[1;38;2;0;200;0m Madison \u001b[0m\u001b[1;38;2;0;200;0m \u001b[0m│\u001b[1;38;2;255;0;0m \u001b[0m\u001b[1;38;2;255;0;0m Phoenix \u001b[0m\u001b[1;38;2;255;0;0m \u001b[0m│\u001b[1m \u001b[0m\u001b[1m2.644           \u001b[0m\u001b[1m \u001b[0m│\n",
       "│ When Madison and Phoenix went to the shops, Madison gave the bag to  │\u001b[1;38;2;0;200;0m \u001b[0m\u001b[1;38;2;0;200;0m Phoenix \u001b[0m\u001b[1;38;2;0;200;0m \u001b[0m│\u001b[1;38;2;255;0;0m \u001b[0m\u001b[1;38;2;255;0;0m Madison \u001b[0m\u001b[1;38;2;255;0;0m \u001b[0m│\u001b[1m \u001b[0m\u001b[1m4.216           \u001b[0m\u001b[1m \u001b[0m│\n",
       "│ When Austin and London went to the shops, London gave the bag to     │\u001b[1;38;2;0;200;0m \u001b[0m\u001b[1;38;2;0;200;0m Austin  \u001b[0m\u001b[1;38;2;0;200;0m \u001b[0m│\u001b[1;38;2;255;0;0m \u001b[0m\u001b[1;38;2;255;0;0m London  \u001b[0m\u001b[1;38;2;255;0;0m \u001b[0m│\u001b[1m \u001b[0m\u001b[1m2.329           \u001b[0m\u001b[1m \u001b[0m│\n",
       "│ When Austin and London went to the shops, Austin gave the bag to     │\u001b[1;38;2;0;200;0m \u001b[0m\u001b[1;38;2;0;200;0m London  \u001b[0m\u001b[1;38;2;0;200;0m \u001b[0m│\u001b[1;38;2;255;0;0m \u001b[0m\u001b[1;38;2;255;0;0m Austin  \u001b[0m\u001b[1;38;2;255;0;0m \u001b[0m│\u001b[1m \u001b[0m\u001b[1m3.869           \u001b[0m\u001b[1m \u001b[0m│\n",
       "│ When Phoenix and London went to the shops, London gave the bag to    │\u001b[1;38;2;0;200;0m \u001b[0m\u001b[1;38;2;0;200;0m Phoenix \u001b[0m\u001b[1;38;2;0;200;0m \u001b[0m│\u001b[1;38;2;255;0;0m \u001b[0m\u001b[1;38;2;255;0;0m London  \u001b[0m\u001b[1;38;2;255;0;0m \u001b[0m│\u001b[1m \u001b[0m\u001b[1m-0.290          \u001b[0m\u001b[1m \u001b[0m│\n",
       "│ When Phoenix and London went to the shops, Phoenix gave the bag to   │\u001b[1;38;2;0;200;0m \u001b[0m\u001b[1;38;2;0;200;0m London  \u001b[0m\u001b[1;38;2;0;200;0m \u001b[0m│\u001b[1;38;2;255;0;0m \u001b[0m\u001b[1;38;2;255;0;0m Phoenix \u001b[0m\u001b[1;38;2;255;0;0m \u001b[0m│\u001b[1m \u001b[0m\u001b[1m4.343           \u001b[0m\u001b[1m \u001b[0m│\n",
       "│ When Paris and Austin went to the shops, Austin gave the bag to      │\u001b[1;38;2;0;200;0m \u001b[0m\u001b[1;38;2;0;200;0m Paris   \u001b[0m\u001b[1;38;2;0;200;0m \u001b[0m│\u001b[1;38;2;255;0;0m \u001b[0m\u001b[1;38;2;255;0;0m Austin  \u001b[0m\u001b[1;38;2;255;0;0m \u001b[0m│\u001b[1m \u001b[0m\u001b[1m0.638           \u001b[0m\u001b[1m \u001b[0m│\n",
       "│ When Paris and Austin went to the shops, Paris gave the bag to       │\u001b[1;38;2;0;200;0m \u001b[0m\u001b[1;38;2;0;200;0m Austin  \u001b[0m\u001b[1;38;2;0;200;0m \u001b[0m│\u001b[1;38;2;255;0;0m \u001b[0m\u001b[1;38;2;255;0;0m Paris   \u001b[0m\u001b[1;38;2;255;0;0m \u001b[0m│\u001b[1m \u001b[0m\u001b[1m6.257           \u001b[0m\u001b[1m \u001b[0m│\n",
       "└──────────────────────────────────────────────────────────────────────┴───────────┴───────────┴──────────────────┘\n"
      ]
     },
     "metadata": {},
     "output_type": "display_data"
    }
   ],
   "source": [
    "make_table(prompts_n, ans_n, ans_toks_n, \"nouns\")\n",
    "make_table(prompts_pn, ans_pn, ans_toks_pn, \"proper nouns\")\n",
    "make_table(prompts_rel, ans_rel, ans_toks_rel, \"Religious Names\")\n",
    "make_table(prompts_pl, ans_pl, ans_toks_pl, \"Place Names\")\n",
    "make_table(prompts_full, ans_full, ans_toks_full, \"Full Dist\")"
   ]
  },
  {
   "cell_type": "code",
   "execution_count": 80,
   "metadata": {},
   "outputs": [
    {
     "data": {
      "text/html": [
       "<pre style=\"white-space:pre;overflow-x:auto;line-height:normal;font-family:Menlo,'DejaVu Sans Mono',consolas,'Courier New',monospace\"><span style=\"font-style: italic\">                               small sample of full Dist: Ave logit diff = 1.847                                </span>\n",
       "┏━━━━━━━━━━━━━━━━━━━━━━━━━━━━━━━━━━━━━━━━━━━━━━━━━━━━━━━━━━━━━━━━━━━━┳━━━━━━━━━━┳━━━━━━━━━━━┳━━━━━━━━━━━━━━━━━━┓\n",
       "┃<span style=\"font-weight: bold\"> Prompt                                                             </span>┃<span style=\"font-weight: bold\"> Correct  </span>┃<span style=\"font-weight: bold\"> Incorrect </span>┃<span style=\"font-weight: bold\"> Logit Difference </span>┃\n",
       "┡━━━━━━━━━━━━━━━━━━━━━━━━━━━━━━━━━━━━━━━━━━━━━━━━━━━━━━━━━━━━━━━━━━━━╇━━━━━━━━━━╇━━━━━━━━━━━╇━━━━━━━━━━━━━━━━━━┩\n",
       "│ When lamp and google went to the shops, google gave the bag to     │<span style=\"color: #00c800; text-decoration-color: #00c800; font-weight: bold\">  lamp    </span>│<span style=\"color: #ff0000; text-decoration-color: #ff0000; font-weight: bold\">  google   </span>│<span style=\"font-weight: bold\"> -0.847           </span>│\n",
       "│ When lamp and google went to the shops, lamp gave the bag to       │<span style=\"color: #00c800; text-decoration-color: #00c800; font-weight: bold\">  google  </span>│<span style=\"color: #ff0000; text-decoration-color: #ff0000; font-weight: bold\">  lamp     </span>│<span style=\"font-weight: bold\"> 0.923            </span>│\n",
       "│ When church and lamp went to the shops, lamp gave the bag to       │<span style=\"color: #00c800; text-decoration-color: #00c800; font-weight: bold\">  church  </span>│<span style=\"color: #ff0000; text-decoration-color: #ff0000; font-weight: bold\">  lamp     </span>│<span style=\"font-weight: bold\"> 1.473            </span>│\n",
       "│ When church and lamp went to the shops, church gave the bag to     │<span style=\"color: #00c800; text-decoration-color: #00c800; font-weight: bold\">  lamp    </span>│<span style=\"color: #ff0000; text-decoration-color: #ff0000; font-weight: bold\">  church   </span>│<span style=\"font-weight: bold\"> -1.282           </span>│\n",
       "│ When Google and Bag went to the shops, Bag gave the bag to         │<span style=\"color: #00c800; text-decoration-color: #00c800; font-weight: bold\">  Google  </span>│<span style=\"color: #ff0000; text-decoration-color: #ff0000; font-weight: bold\">  Bag      </span>│<span style=\"font-weight: bold\"> 1.784            </span>│\n",
       "│ When Google and Bag went to the shops, Google gave the bag to      │<span style=\"color: #00c800; text-decoration-color: #00c800; font-weight: bold\">  Bag     </span>│<span style=\"color: #ff0000; text-decoration-color: #ff0000; font-weight: bold\">  Google   </span>│<span style=\"font-weight: bold\"> 0.465            </span>│\n",
       "│ When Bag and Chair went to the shops, Chair gave the bag to        │<span style=\"color: #00c800; text-decoration-color: #00c800; font-weight: bold\">  Bag     </span>│<span style=\"color: #ff0000; text-decoration-color: #ff0000; font-weight: bold\">  Chair    </span>│<span style=\"font-weight: bold\"> 5.655            </span>│\n",
       "│ When Bag and Chair went to the shops, Bag gave the bag to          │<span style=\"color: #00c800; text-decoration-color: #00c800; font-weight: bold\">  Chair   </span>│<span style=\"color: #ff0000; text-decoration-color: #ff0000; font-weight: bold\">  Bag      </span>│<span style=\"font-weight: bold\"> -0.154           </span>│\n",
       "│ When Isaac and Jacob went to the shops, Isaac gave the bag to      │<span style=\"color: #00c800; text-decoration-color: #00c800; font-weight: bold\">  Jacob   </span>│<span style=\"color: #ff0000; text-decoration-color: #ff0000; font-weight: bold\">  Isaac    </span>│<span style=\"font-weight: bold\"> 4.052            </span>│\n",
       "│ When Jesus and Joseph went to the shops, Joseph gave the bag to    │<span style=\"color: #00c800; text-decoration-color: #00c800; font-weight: bold\">  Jesus   </span>│<span style=\"color: #ff0000; text-decoration-color: #ff0000; font-weight: bold\">  Joseph   </span>│<span style=\"font-weight: bold\"> -0.306           </span>│\n",
       "│ When Jesus and Joseph went to the shops, Jesus gave the bag to     │<span style=\"color: #00c800; text-decoration-color: #00c800; font-weight: bold\">  Joseph  </span>│<span style=\"color: #ff0000; text-decoration-color: #ff0000; font-weight: bold\">  Jesus    </span>│<span style=\"font-weight: bold\"> 3.909            </span>│\n",
       "│ When Isaac and Abraham went to the shops, Abraham gave the bag to  │<span style=\"color: #00c800; text-decoration-color: #00c800; font-weight: bold\">  Isaac   </span>│<span style=\"color: #ff0000; text-decoration-color: #ff0000; font-weight: bold\">  Abraham  </span>│<span style=\"font-weight: bold\"> 2.931            </span>│\n",
       "│ When Phoenix and London went to the shops, London gave the bag to  │<span style=\"color: #00c800; text-decoration-color: #00c800; font-weight: bold\">  Phoenix </span>│<span style=\"color: #ff0000; text-decoration-color: #ff0000; font-weight: bold\">  London   </span>│<span style=\"font-weight: bold\"> -0.290           </span>│\n",
       "│ When Phoenix and London went to the shops, Phoenix gave the bag to │<span style=\"color: #00c800; text-decoration-color: #00c800; font-weight: bold\">  London  </span>│<span style=\"color: #ff0000; text-decoration-color: #ff0000; font-weight: bold\">  Phoenix  </span>│<span style=\"font-weight: bold\"> 4.343            </span>│\n",
       "│ When Paris and Austin went to the shops, Austin gave the bag to    │<span style=\"color: #00c800; text-decoration-color: #00c800; font-weight: bold\">  Paris   </span>│<span style=\"color: #ff0000; text-decoration-color: #ff0000; font-weight: bold\">  Austin   </span>│<span style=\"font-weight: bold\"> 0.638            </span>│\n",
       "│ When Paris and Austin went to the shops, Paris gave the bag to     │<span style=\"color: #00c800; text-decoration-color: #00c800; font-weight: bold\">  Austin  </span>│<span style=\"color: #ff0000; text-decoration-color: #ff0000; font-weight: bold\">  Paris    </span>│<span style=\"font-weight: bold\"> 6.257            </span>│\n",
       "└────────────────────────────────────────────────────────────────────┴──────────┴───────────┴──────────────────┘\n",
       "</pre>\n"
      ],
      "text/plain": [
       "\u001b[3m                               small sample of full Dist: Ave logit diff = 1.847                                \u001b[0m\n",
       "┏━━━━━━━━━━━━━━━━━━━━━━━━━━━━━━━━━━━━━━━━━━━━━━━━━━━━━━━━━━━━━━━━━━━━┳━━━━━━━━━━┳━━━━━━━━━━━┳━━━━━━━━━━━━━━━━━━┓\n",
       "┃\u001b[1m \u001b[0m\u001b[1mPrompt                                                            \u001b[0m\u001b[1m \u001b[0m┃\u001b[1m \u001b[0m\u001b[1mCorrect \u001b[0m\u001b[1m \u001b[0m┃\u001b[1m \u001b[0m\u001b[1mIncorrect\u001b[0m\u001b[1m \u001b[0m┃\u001b[1m \u001b[0m\u001b[1mLogit Difference\u001b[0m\u001b[1m \u001b[0m┃\n",
       "┡━━━━━━━━━━━━━━━━━━━━━━━━━━━━━━━━━━━━━━━━━━━━━━━━━━━━━━━━━━━━━━━━━━━━╇━━━━━━━━━━╇━━━━━━━━━━━╇━━━━━━━━━━━━━━━━━━┩\n",
       "│ When lamp and google went to the shops, google gave the bag to     │\u001b[1;38;2;0;200;0m \u001b[0m\u001b[1;38;2;0;200;0m lamp   \u001b[0m\u001b[1;38;2;0;200;0m \u001b[0m│\u001b[1;38;2;255;0;0m \u001b[0m\u001b[1;38;2;255;0;0m google  \u001b[0m\u001b[1;38;2;255;0;0m \u001b[0m│\u001b[1m \u001b[0m\u001b[1m-0.847          \u001b[0m\u001b[1m \u001b[0m│\n",
       "│ When lamp and google went to the shops, lamp gave the bag to       │\u001b[1;38;2;0;200;0m \u001b[0m\u001b[1;38;2;0;200;0m google \u001b[0m\u001b[1;38;2;0;200;0m \u001b[0m│\u001b[1;38;2;255;0;0m \u001b[0m\u001b[1;38;2;255;0;0m lamp    \u001b[0m\u001b[1;38;2;255;0;0m \u001b[0m│\u001b[1m \u001b[0m\u001b[1m0.923           \u001b[0m\u001b[1m \u001b[0m│\n",
       "│ When church and lamp went to the shops, lamp gave the bag to       │\u001b[1;38;2;0;200;0m \u001b[0m\u001b[1;38;2;0;200;0m church \u001b[0m\u001b[1;38;2;0;200;0m \u001b[0m│\u001b[1;38;2;255;0;0m \u001b[0m\u001b[1;38;2;255;0;0m lamp    \u001b[0m\u001b[1;38;2;255;0;0m \u001b[0m│\u001b[1m \u001b[0m\u001b[1m1.473           \u001b[0m\u001b[1m \u001b[0m│\n",
       "│ When church and lamp went to the shops, church gave the bag to     │\u001b[1;38;2;0;200;0m \u001b[0m\u001b[1;38;2;0;200;0m lamp   \u001b[0m\u001b[1;38;2;0;200;0m \u001b[0m│\u001b[1;38;2;255;0;0m \u001b[0m\u001b[1;38;2;255;0;0m church  \u001b[0m\u001b[1;38;2;255;0;0m \u001b[0m│\u001b[1m \u001b[0m\u001b[1m-1.282          \u001b[0m\u001b[1m \u001b[0m│\n",
       "│ When Google and Bag went to the shops, Bag gave the bag to         │\u001b[1;38;2;0;200;0m \u001b[0m\u001b[1;38;2;0;200;0m Google \u001b[0m\u001b[1;38;2;0;200;0m \u001b[0m│\u001b[1;38;2;255;0;0m \u001b[0m\u001b[1;38;2;255;0;0m Bag     \u001b[0m\u001b[1;38;2;255;0;0m \u001b[0m│\u001b[1m \u001b[0m\u001b[1m1.784           \u001b[0m\u001b[1m \u001b[0m│\n",
       "│ When Google and Bag went to the shops, Google gave the bag to      │\u001b[1;38;2;0;200;0m \u001b[0m\u001b[1;38;2;0;200;0m Bag    \u001b[0m\u001b[1;38;2;0;200;0m \u001b[0m│\u001b[1;38;2;255;0;0m \u001b[0m\u001b[1;38;2;255;0;0m Google  \u001b[0m\u001b[1;38;2;255;0;0m \u001b[0m│\u001b[1m \u001b[0m\u001b[1m0.465           \u001b[0m\u001b[1m \u001b[0m│\n",
       "│ When Bag and Chair went to the shops, Chair gave the bag to        │\u001b[1;38;2;0;200;0m \u001b[0m\u001b[1;38;2;0;200;0m Bag    \u001b[0m\u001b[1;38;2;0;200;0m \u001b[0m│\u001b[1;38;2;255;0;0m \u001b[0m\u001b[1;38;2;255;0;0m Chair   \u001b[0m\u001b[1;38;2;255;0;0m \u001b[0m│\u001b[1m \u001b[0m\u001b[1m5.655           \u001b[0m\u001b[1m \u001b[0m│\n",
       "│ When Bag and Chair went to the shops, Bag gave the bag to          │\u001b[1;38;2;0;200;0m \u001b[0m\u001b[1;38;2;0;200;0m Chair  \u001b[0m\u001b[1;38;2;0;200;0m \u001b[0m│\u001b[1;38;2;255;0;0m \u001b[0m\u001b[1;38;2;255;0;0m Bag     \u001b[0m\u001b[1;38;2;255;0;0m \u001b[0m│\u001b[1m \u001b[0m\u001b[1m-0.154          \u001b[0m\u001b[1m \u001b[0m│\n",
       "│ When Isaac and Jacob went to the shops, Isaac gave the bag to      │\u001b[1;38;2;0;200;0m \u001b[0m\u001b[1;38;2;0;200;0m Jacob  \u001b[0m\u001b[1;38;2;0;200;0m \u001b[0m│\u001b[1;38;2;255;0;0m \u001b[0m\u001b[1;38;2;255;0;0m Isaac   \u001b[0m\u001b[1;38;2;255;0;0m \u001b[0m│\u001b[1m \u001b[0m\u001b[1m4.052           \u001b[0m\u001b[1m \u001b[0m│\n",
       "│ When Jesus and Joseph went to the shops, Joseph gave the bag to    │\u001b[1;38;2;0;200;0m \u001b[0m\u001b[1;38;2;0;200;0m Jesus  \u001b[0m\u001b[1;38;2;0;200;0m \u001b[0m│\u001b[1;38;2;255;0;0m \u001b[0m\u001b[1;38;2;255;0;0m Joseph  \u001b[0m\u001b[1;38;2;255;0;0m \u001b[0m│\u001b[1m \u001b[0m\u001b[1m-0.306          \u001b[0m\u001b[1m \u001b[0m│\n",
       "│ When Jesus and Joseph went to the shops, Jesus gave the bag to     │\u001b[1;38;2;0;200;0m \u001b[0m\u001b[1;38;2;0;200;0m Joseph \u001b[0m\u001b[1;38;2;0;200;0m \u001b[0m│\u001b[1;38;2;255;0;0m \u001b[0m\u001b[1;38;2;255;0;0m Jesus   \u001b[0m\u001b[1;38;2;255;0;0m \u001b[0m│\u001b[1m \u001b[0m\u001b[1m3.909           \u001b[0m\u001b[1m \u001b[0m│\n",
       "│ When Isaac and Abraham went to the shops, Abraham gave the bag to  │\u001b[1;38;2;0;200;0m \u001b[0m\u001b[1;38;2;0;200;0m Isaac  \u001b[0m\u001b[1;38;2;0;200;0m \u001b[0m│\u001b[1;38;2;255;0;0m \u001b[0m\u001b[1;38;2;255;0;0m Abraham \u001b[0m\u001b[1;38;2;255;0;0m \u001b[0m│\u001b[1m \u001b[0m\u001b[1m2.931           \u001b[0m\u001b[1m \u001b[0m│\n",
       "│ When Phoenix and London went to the shops, London gave the bag to  │\u001b[1;38;2;0;200;0m \u001b[0m\u001b[1;38;2;0;200;0m Phoenix\u001b[0m\u001b[1;38;2;0;200;0m \u001b[0m│\u001b[1;38;2;255;0;0m \u001b[0m\u001b[1;38;2;255;0;0m London  \u001b[0m\u001b[1;38;2;255;0;0m \u001b[0m│\u001b[1m \u001b[0m\u001b[1m-0.290          \u001b[0m\u001b[1m \u001b[0m│\n",
       "│ When Phoenix and London went to the shops, Phoenix gave the bag to │\u001b[1;38;2;0;200;0m \u001b[0m\u001b[1;38;2;0;200;0m London \u001b[0m\u001b[1;38;2;0;200;0m \u001b[0m│\u001b[1;38;2;255;0;0m \u001b[0m\u001b[1;38;2;255;0;0m Phoenix \u001b[0m\u001b[1;38;2;255;0;0m \u001b[0m│\u001b[1m \u001b[0m\u001b[1m4.343           \u001b[0m\u001b[1m \u001b[0m│\n",
       "│ When Paris and Austin went to the shops, Austin gave the bag to    │\u001b[1;38;2;0;200;0m \u001b[0m\u001b[1;38;2;0;200;0m Paris  \u001b[0m\u001b[1;38;2;0;200;0m \u001b[0m│\u001b[1;38;2;255;0;0m \u001b[0m\u001b[1;38;2;255;0;0m Austin  \u001b[0m\u001b[1;38;2;255;0;0m \u001b[0m│\u001b[1m \u001b[0m\u001b[1m0.638           \u001b[0m\u001b[1m \u001b[0m│\n",
       "│ When Paris and Austin went to the shops, Paris gave the bag to     │\u001b[1;38;2;0;200;0m \u001b[0m\u001b[1;38;2;0;200;0m Austin \u001b[0m\u001b[1;38;2;0;200;0m \u001b[0m│\u001b[1;38;2;255;0;0m \u001b[0m\u001b[1;38;2;255;0;0m Paris   \u001b[0m\u001b[1;38;2;255;0;0m \u001b[0m│\u001b[1m \u001b[0m\u001b[1m6.257           \u001b[0m\u001b[1m \u001b[0m│\n",
       "└────────────────────────────────────────────────────────────────────┴──────────┴───────────┴──────────────────┘\n"
      ]
     },
     "metadata": {},
     "output_type": "display_data"
    }
   ],
   "source": [
    "test_prompts = prompts_n[:4]+prompts_pn[:4] +prompts_rel[-9:-5] + prompts_pl[-4:]\n",
    "test_ans = ans_n[:4]+ans_pn[:4] +ans_rel[-9:-5] + ans_pl[-4:]\n",
    "test_toks = t.concat([ans_toks_n[:4], ans_toks_pn[:4], ans_toks_rel[-9:-5], ans_toks_pl[-4:]])\n",
    "\n",
    "test_toks\n",
    "make_table(test_prompts, test_ans, test_toks, \"small sample of full Dist\")"
   ]
  },
  {
   "attachments": {},
   "cell_type": "markdown",
   "metadata": {},
   "source": [
    "Looking at the top-k logits for each prompt"
   ]
  },
  {
   "cell_type": "code",
   "execution_count": 140,
   "metadata": {},
   "outputs": [
    {
     "name": "stdout",
     "output_type": "stream",
     "text": [
      "Prompt = When Paris and London went to the shops, London gave the bag to\n",
      "Top 0th logit. prob = 18.73%, token =  the\n",
      "Top 1th logit. prob = 8.41%, token =  Paris\n",
      "Top 2th logit. prob = 4.96%, token =  a\n",
      "Top 3th logit. prob = 4.24%, token =  them\n",
      "Top 4th logit. prob = 1.94%, token =  London\n",
      "Prompt = When Paris and London went to the shops, Paris gave the bag to\n",
      "Top 0th logit. prob = 16.71%, token =  the\n",
      "Top 1th logit. prob = 7.84%, token =  his\n",
      "Top 2th logit. prob = 7.55%, token =  London\n",
      "Top 3th logit. prob = 7.30%, token =  a\n",
      "Top 4th logit. prob = 5.61%, token =  her\n",
      "Prompt = When Phoenix and London went to the shops, London gave the bag to\n",
      "Top 0th logit. prob = 14.29%, token =  the\n",
      "Top 1th logit. prob = 6.57%, token =  them\n",
      "Top 2th logit. prob = 3.89%, token =  a\n",
      "Top 3th logit. prob = 3.29%, token =  London\n",
      "Top 4th logit. prob = 3.17%, token =  her\n",
      "Prompt = When Phoenix and London went to the shops, Phoenix gave the bag to\n",
      "Top 0th logit. prob = 18.64%, token =  the\n",
      "Top 1th logit. prob = 7.82%, token =  a\n",
      "Top 2th logit. prob = 7.32%, token =  London\n",
      "Top 3th logit. prob = 4.74%, token =  his\n",
      "Top 4th logit. prob = 2.78%, token =  one\n",
      "Prompt = When Paris and Phoenix went to the shops, Phoenix gave the bag to\n",
      "Top 0th logit. prob = 17.96%, token =  the\n",
      "Top 1th logit. prob = 5.09%, token =  Paris\n",
      "Top 2th logit. prob = 4.41%, token =  a\n",
      "Top 3th logit. prob = 4.05%, token =  his\n",
      "Top 4th logit. prob = 3.84%, token =  her\n",
      "Prompt = When Paris and Phoenix went to the shops, Paris gave the bag to\n",
      "Top 0th logit. prob = 24.03%, token =  Phoenix\n",
      "Top 1th logit. prob = 18.33%, token =  the\n",
      "Top 2th logit. prob = 7.99%, token =  her\n",
      "Top 3th logit. prob = 6.31%, token =  his\n",
      "Top 4th logit. prob = 5.19%, token =  a\n",
      "Prompt = When Brooklyn and London went to the shops, London gave the bag to\n",
      "Top 0th logit. prob = 13.87%, token =  the\n",
      "Top 1th logit. prob = 6.34%, token =  his\n",
      "Top 2th logit. prob = 5.85%, token =  her\n",
      "Top 3th logit. prob = 4.98%, token =  a\n",
      "Top 4th logit. prob = 3.68%, token =  them\n",
      "Prompt = When Brooklyn and London went to the shops, Brooklyn gave the bag to\n",
      "Top 0th logit. prob = 16.67%, token =  London\n",
      "Top 1th logit. prob = 14.37%, token =  the\n",
      "Top 2th logit. prob = 8.12%, token =  a\n",
      "Top 3th logit. prob = 7.54%, token =  his\n",
      "Top 4th logit. prob = 4.90%, token =  her\n",
      "Prompt = When Madison and London went to the shops, London gave the bag to\n",
      "Top 0th logit. prob = 16.32%, token =  Madison\n",
      "Top 1th logit. prob = 10.80%, token =  her\n",
      "Top 2th logit. prob = 9.56%, token =  the\n",
      "Top 3th logit. prob = 6.78%, token =  them\n",
      "Top 4th logit. prob = 4.54%, token =  London\n",
      "Prompt = When Madison and London went to the shops, Madison gave the bag to\n",
      "Top 0th logit. prob = 22.06%, token =  London\n",
      "Top 1th logit. prob = 12.99%, token =  the\n",
      "Top 2th logit. prob = 10.47%, token =  her\n",
      "Top 3th logit. prob = 6.15%, token =  a\n",
      "Top 4th logit. prob = 5.08%, token =  his\n",
      "Prompt = When Devon and Madison went to the shops, Madison gave the bag to\n",
      "Top 0th logit. prob = 41.42%, token =  Devon\n",
      "Top 1th logit. prob = 11.19%, token =  her\n",
      "Top 2th logit. prob = 7.62%, token =  the\n",
      "Top 3th logit. prob = 3.00%, token =  Madison\n",
      "Top 4th logit. prob = 2.47%, token =  a\n",
      "Prompt = When Devon and Madison went to the shops, Devon gave the bag to\n",
      "Top 0th logit. prob = 43.81%, token =  Madison\n",
      "Top 1th logit. prob = 10.99%, token =  her\n",
      "Top 2th logit. prob = 10.27%, token =  the\n",
      "Top 3th logit. prob = 4.56%, token =  his\n",
      "Top 4th logit. prob = 2.13%, token =  their\n",
      "Prompt = When Devon and Austin went to the shops, Austin gave the bag to\n",
      "Top 0th logit. prob = 42.83%, token =  Devon\n",
      "Top 1th logit. prob = 7.67%, token =  the\n",
      "Top 2th logit. prob = 5.40%, token =  Austin\n",
      "Top 3th logit. prob = 5.17%, token =  her\n",
      "Top 4th logit. prob = 5.02%, token =  his\n",
      "Prompt = When Devon and Austin went to the shops, Devon gave the bag to\n",
      "Top 0th logit. prob = 77.57%, token =  Austin\n",
      "Top 1th logit. prob = 4.15%, token =  the\n",
      "Top 2th logit. prob = 2.22%, token =  his\n",
      "Top 3th logit. prob = 2.05%, token =  her\n",
      "Top 4th logit. prob = 1.38%, token =  a\n",
      "Prompt = When Madison and Austin went to the shops, Austin gave the bag to\n",
      "Top 0th logit. prob = 56.45%, token =  Madison\n",
      "Top 1th logit. prob = 5.63%, token =  the\n",
      "Top 2th logit. prob = 4.33%, token =  her\n",
      "Top 3th logit. prob = 4.17%, token =  Austin\n",
      "Top 4th logit. prob = 3.96%, token =  his\n",
      "Prompt = When Madison and Austin went to the shops, Madison gave the bag to\n",
      "Top 0th logit. prob = 77.08%, token =  Austin\n",
      "Top 1th logit. prob = 4.01%, token =  the\n",
      "Top 2th logit. prob = 3.96%, token =  her\n",
      "Top 3th logit. prob = 1.81%, token =  his\n",
      "Top 4th logit. prob = 1.46%, token =  a\n",
      "Prompt = When Devon and Brooklyn went to the shops, Brooklyn gave the bag to\n",
      "Top 0th logit. prob = 12.55%, token =  her\n",
      "Top 1th logit. prob = 10.81%, token =  the\n",
      "Top 2th logit. prob = 10.11%, token =  Devon\n",
      "Top 3th logit. prob = 6.54%, token =  his\n",
      "Top 4th logit. prob = 4.91%, token =  them\n",
      "Prompt = When Devon and Brooklyn went to the shops, Devon gave the bag to\n",
      "Top 0th logit. prob = 25.45%, token =  Brooklyn\n",
      "Top 1th logit. prob = 14.98%, token =  the\n",
      "Top 2th logit. prob = 7.02%, token =  her\n",
      "Top 3th logit. prob = 6.49%, token =  a\n",
      "Top 4th logit. prob = 6.10%, token =  his\n",
      "Prompt = When London and Devon went to the shops, Devon gave the bag to\n",
      "Top 0th logit. prob = 13.65%, token =  the\n",
      "Top 1th logit. prob = 8.61%, token =  a\n",
      "Top 2th logit. prob = 4.83%, token =  her\n",
      "Top 3th logit. prob = 3.78%, token =  his\n",
      "Top 4th logit. prob = 2.62%, token =  one\n",
      "Prompt = When London and Devon went to the shops, London gave the bag to\n",
      "Top 0th logit. prob = 16.78%, token =  the\n",
      "Top 1th logit. prob = 8.14%, token =  Devon\n",
      "Top 2th logit. prob = 6.39%, token =  a\n",
      "Top 3th logit. prob = 3.22%, token =  London\n",
      "Top 4th logit. prob = 3.06%, token =  them\n"
     ]
    }
   ],
   "source": [
    "\n",
    "prompts = prompts_pl\n",
    "k = 5\n",
    "\n",
    "for sample_prompt in prompts:\n",
    "    sample_logits = model(sample_prompt)\n",
    "    sample_probs = t.softmax(sample_logits[0, -1], dim = -1)\n",
    "    vals, ids = t.topk(sample_probs,k)\n",
    "\n",
    "    print(f\"Prompt = {sample_prompt}\")\n",
    "    for i in range(k):\n",
    "            print(f\"Top {i}th logit. prob = {vals[i]:.2%}, token = {model.tokenizer.decode(ids[i])}\")\n"
   ]
  },
  {
   "attachments": {},
   "cell_type": "markdown",
   "metadata": {},
   "source": [
    "Looking at the attention heads on each distribution"
   ]
  },
  {
   "cell_type": "code",
   "execution_count": 19,
   "metadata": {},
   "outputs": [
    {
     "name": "stdout",
     "output_type": "stream",
     "text": [
      "torch.Size([20, 12, 15, 15])\n",
      "torch.Size([20, 12, 15, 15])\n"
     ]
    }
   ],
   "source": [
    "noun_tokens = model.to_tokens(prompts_n).to(device)\n",
    "noun_logits, noun_cache = model.run_with_cache(prompts_n)\n",
    "print(noun_cache[\"pattern\", 0, \"attn\"].shape)\n",
    "\n",
    "pnoun_tokens = model.to_tokens(prompts_pn).to(device)\n",
    "pnoun_logits, pnoun_cache = model.run_with_cache(prompts_pn)\n",
    "\n",
    "rel_tokens = model.to_tokens(prompts_rel).to(device)\n",
    "rel_logits, rel_cache = model.run_with_cache(prompts_rel)\n",
    "\n",
    "full_tokens = model.to_tokens(prompts_full).to(device)\n",
    "full_logits, full_cache = model.run_with_cache(prompts_full)\n",
    "\n",
    "\n",
    "pl_tokens = model.to_tokens(prompts_pl).to(device)\n",
    "pl_logits, pl_cache = model.run_with_cache(prompts_pl)\n",
    "print(noun_cache[\"pattern\", 0, \"attn\"].shape)\n",
    "\n"
   ]
  },
  {
   "cell_type": "code",
   "execution_count": null,
   "metadata": {},
   "outputs": [],
   "source": []
  },
  {
   "cell_type": "code",
   "execution_count": null,
   "metadata": {},
   "outputs": [],
   "source": []
  },
  {
   "cell_type": "code",
   "execution_count": 69,
   "metadata": {},
   "outputs": [
    {
     "name": "stdout",
     "output_type": "stream",
     "text": [
      "Layer 9 Head Attention Patterns:\n"
     ]
    },
    {
     "data": {
      "text/html": [
       "<div id=\"circuits-vis-b171cb8e-e2cc\" style=\"margin: 15px 0;\"/>\n",
       "    <script crossorigin type=\"module\">\n",
       "    import { render, AttentionPatterns } from \"https://unpkg.com/circuitsvis@1.39.1/dist/cdn/esm.js\";\n",
       "    render(\n",
       "      \"circuits-vis-b171cb8e-e2cc\",\n",
       "      AttentionPatterns,\n",
       "      {\"tokens\": [\"<|endoftext|>\", \"When\", \" lamp\", \" and\", \" flower\", \" went\", \" to\", \" the\", \" shops\", \",\", \" flower\", \" gave\", \" the\", \" bag\", \" to\"], \"attention\": [[[1.0, 0.0, 0.0, 0.0, 0.0, 0.0, 0.0, 0.0, 0.0, 0.0, 0.0, 0.0, 0.0, 0.0, 0.0], [0.9764552712440491, 0.02354477532207966, 0.0, 0.0, 0.0, 0.0, 0.0, 0.0, 0.0, 0.0, 0.0, 0.0, 0.0, 0.0, 0.0], [0.2937967777252197, 0.37691792845726013, 0.32928532361984253, 0.0, 0.0, 0.0, 0.0, 0.0, 0.0, 0.0, 0.0, 0.0, 0.0, 0.0, 0.0], [0.23620666563510895, 0.41746318340301514, 0.1753639578819275, 0.17096617817878723, 0.0, 0.0, 0.0, 0.0, 0.0, 0.0, 0.0, 0.0, 0.0, 0.0, 0.0], [0.10584131628274918, 0.32288506627082825, 0.26204922795295715, 0.1528802365064621, 0.15634413063526154, 0.0, 0.0, 0.0, 0.0, 0.0, 0.0, 0.0, 0.0, 0.0, 0.0], [0.08611320704221725, 0.5942176580429077, 0.014539061114192009, 0.17156186699867249, 0.03072194941341877, 0.10284620523452759, 0.0, 0.0, 0.0, 0.0, 0.0, 0.0, 0.0, 0.0, 0.0], [0.0699547827243805, 0.06842061877250671, 0.01711011491715908, 0.0397857166826725, 0.019242500886321068, 0.7414097785949707, 0.04407646507024765, 0.0, 0.0, 0.0, 0.0, 0.0, 0.0, 0.0, 0.0], [0.116042859852314, 0.0808226689696312, 0.0281362347304821, 0.08343184739351273, 0.02925185114145279, 0.2036859691143036, 0.2985210716724396, 0.16010749340057373, 0.0, 0.0, 0.0, 0.0, 0.0, 0.0, 0.0], [0.03504517674446106, 0.06998717784881592, 0.031084882095456123, 0.03587720915675163, 0.046885550022125244, 0.24053162336349487, 0.13262680172920227, 0.30244964361190796, 0.10551192611455917, 0.0, 0.0, 0.0, 0.0, 0.0, 0.0], [0.06907302141189575, 0.16031032800674438, 0.021600985899567604, 0.06594711542129517, 0.03800671175122261, 0.10517691820859909, 0.1030927374958992, 0.17165856063365936, 0.13711871206760406, 0.12801484763622284, 0.0, 0.0, 0.0, 0.0, 0.0], [0.017307763919234276, 0.024413814768195152, 0.024713991209864616, 0.013870125636458397, 0.014327539131045341, 0.14525099098682404, 0.11342529952526093, 0.16714507341384888, 0.18204693496227264, 0.22179792821407318, 0.07570046931505203, 0.0, 0.0, 0.0, 0.0], [0.046522874385118484, 0.06686592847108841, 0.009446418844163418, 0.04599346965551376, 0.018329240381717682, 0.05490979552268982, 0.041793640702962875, 0.0910734236240387, 0.09720896929502487, 0.3100246787071228, 0.07137329131364822, 0.14645828306674957, 0.0, 0.0, 0.0], [0.03218306228518486, 0.01610425114631653, 0.006813742686063051, 0.018603963777422905, 0.006485688034445047, 0.033714327961206436, 0.052207425236701965, 0.041349269449710846, 0.04698729142546654, 0.13154621422290802, 0.031168963760137558, 0.3302566409111023, 0.2525792121887207, 0.0, 0.0], [0.017491916194558144, 0.006255585700273514, 0.013253283686935902, 0.009321222081780434, 0.01766757294535637, 0.028047818690538406, 0.03562226891517639, 0.05772659555077553, 0.05468306317925453, 0.0901050865650177, 0.056968655437231064, 0.1357598602771759, 0.3006839156150818, 0.17641308903694153, 0.0], [0.0200488418340683, 0.007886368781328201, 0.0020702483598142862, 0.004529728088527918, 0.002399180084466934, 0.0536397323012352, 0.004059330094605684, 0.025979483500123024, 0.014347560703754425, 0.04663132503628731, 0.011386355385184288, 0.511036217212677, 0.1631707102060318, 0.07002121210098267, 0.06279370933771133]], [[1.0, 0.0, 0.0, 0.0, 0.0, 0.0, 0.0, 0.0, 0.0, 0.0, 0.0, 0.0, 0.0, 0.0, 0.0], [0.9338306188583374, 0.06616932898759842, 0.0, 0.0, 0.0, 0.0, 0.0, 0.0, 0.0, 0.0, 0.0, 0.0, 0.0, 0.0, 0.0], [0.6673122644424438, 0.23606818914413452, 0.09661947935819626, 0.0, 0.0, 0.0, 0.0, 0.0, 0.0, 0.0, 0.0, 0.0, 0.0, 0.0, 0.0], [0.5971928238868713, 0.16379179060459137, 0.11014129221439362, 0.12887409329414368, 0.0, 0.0, 0.0, 0.0, 0.0, 0.0, 0.0, 0.0, 0.0, 0.0, 0.0], [0.46806079149246216, 0.15301360189914703, 0.07040823996067047, 0.24656200408935547, 0.06195545941591263, 0.0, 0.0, 0.0, 0.0, 0.0, 0.0, 0.0, 0.0, 0.0, 0.0], [0.42352697253227234, 0.15207906067371368, 0.04121895879507065, 0.23721319437026978, 0.06028982251882553, 0.08567195385694504, 0.0, 0.0, 0.0, 0.0, 0.0, 0.0, 0.0, 0.0, 0.0], [0.3199930787086487, 0.12567563354969025, 0.05599792301654816, 0.19360192120075226, 0.0696527361869812, 0.1034589484333992, 0.13161969184875488, 0.0, 0.0, 0.0, 0.0, 0.0, 0.0, 0.0, 0.0], [0.30278918147087097, 0.09672553837299347, 0.050461992621421814, 0.12259664386510849, 0.0562545545399189, 0.09853643923997879, 0.17303283512592316, 0.0996028408408165, 0.0, 0.0, 0.0, 0.0, 0.0, 0.0, 0.0], [0.227943554520607, 0.05114053189754486, 0.027292903512716293, 0.11913475394248962, 0.02662721835076809, 0.10705006867647171, 0.13912704586982727, 0.21781380474567413, 0.08387020230293274, 0.0, 0.0, 0.0, 0.0, 0.0, 0.0], [0.2875306308269501, 0.0683068335056305, 0.030490612611174583, 0.07783080637454987, 0.03412925824522972, 0.06924539804458618, 0.06970859318971634, 0.0820280909538269, 0.07444825768470764, 0.20628146827220917, 0.0, 0.0, 0.0, 0.0, 0.0], [0.11845523864030838, 0.022695202380418777, 0.011180241592228413, 0.04189714789390564, 0.010514254681766033, 0.06048152968287468, 0.06312403827905655, 0.10658847540616989, 0.06244918704032898, 0.4524989426136017, 0.050115831196308136, 0.0, 0.0, 0.0, 0.0], [0.12367783486843109, 0.02807122841477394, 0.009695908054709435, 0.047446269541978836, 0.01709890551865101, 0.024723809212446213, 0.05573767423629761, 0.063380166888237, 0.05378292128443718, 0.41056790947914124, 0.06798060983419418, 0.09783675521612167, 0.0, 0.0, 0.0], [0.11260645091533661, 0.025711948052048683, 0.016909850761294365, 0.03980649262666702, 0.018161585554480553, 0.03200969099998474, 0.0507625937461853, 0.027643779292702675, 0.05456756427884102, 0.2849801480770111, 0.0653572529554367, 0.15564246475696564, 0.11584006994962692, 0.0, 0.0], [0.09117709845304489, 0.01389765739440918, 0.007188284769654274, 0.023869391530752182, 0.007921261712908745, 0.02558368258178234, 0.030044816434383392, 0.03894442319869995, 0.03999369591474533, 0.2454315572977066, 0.0364171527326107, 0.14356422424316406, 0.19389304518699646, 0.10207370668649673, 0.0], [0.09727954119443893, 0.019280437380075455, 0.009762508794665337, 0.03092188574373722, 0.011375661939382553, 0.019802626222372055, 0.018091587349772453, 0.03443262726068497, 0.03307280316948891, 0.21124614775180817, 0.039955366402864456, 0.08730242401361465, 0.14362047612667084, 0.10655900835990906, 0.13729695975780487]], [[1.0, 0.0, 0.0, 0.0, 0.0, 0.0, 0.0, 0.0, 0.0, 0.0, 0.0, 0.0, 0.0, 0.0, 0.0], [0.9775686860084534, 0.022431273013353348, 0.0, 0.0, 0.0, 0.0, 0.0, 0.0, 0.0, 0.0, 0.0, 0.0, 0.0, 0.0, 0.0], [0.8334737420082092, 0.05674482509493828, 0.1097814068198204, 0.0, 0.0, 0.0, 0.0, 0.0, 0.0, 0.0, 0.0, 0.0, 0.0, 0.0, 0.0], [0.5779925584793091, 0.0372072197496891, 0.0827813372015953, 0.3020188808441162, 0.0, 0.0, 0.0, 0.0, 0.0, 0.0, 0.0, 0.0, 0.0, 0.0, 0.0], [0.4600631296634674, 0.04555034637451172, 0.08893205970525742, 0.29388219118118286, 0.11157222837209702, 0.0, 0.0, 0.0, 0.0, 0.0, 0.0, 0.0, 0.0, 0.0, 0.0], [0.38137441873550415, 0.03373921290040016, 0.07533793896436691, 0.24198395013809204, 0.09730753302574158, 0.1702568382024765, 0.0, 0.0, 0.0, 0.0, 0.0, 0.0, 0.0, 0.0, 0.0], [0.2803618907928467, 0.029132802039384842, 0.05974305421113968, 0.1677718460559845, 0.08147423714399338, 0.13762089610099792, 0.24389521777629852, 0.0, 0.0, 0.0, 0.0, 0.0, 0.0, 0.0, 0.0], [0.2382155805826187, 0.025254959240555763, 0.05520747974514961, 0.13999567925930023, 0.07167542725801468, 0.11279913783073425, 0.1926799714565277, 0.16417180001735687, 0.0, 0.0, 0.0, 0.0, 0.0, 0.0, 0.0], [0.19936200976371765, 0.02879512310028076, 0.051043231040239334, 0.13530108332633972, 0.06487540155649185, 0.10047788172960281, 0.17679759860038757, 0.13382834196090698, 0.10951922833919525, 0.0, 0.0, 0.0, 0.0, 0.0, 0.0], [0.15757355093955994, 0.021634183824062347, 0.042577821761369705, 0.10061655938625336, 0.0556194894015789, 0.08686508238315582, 0.13571229577064514, 0.10716763883829117, 0.09054265171289444, 0.2016906589269638, 0.0, 0.0, 0.0, 0.0, 0.0], [0.1353585124015808, 0.024648239836096764, 0.04439927637577057, 0.09911845624446869, 0.05097785219550133, 0.07740598917007446, 0.12558628618717194, 0.09228964895009995, 0.0868690237402916, 0.1819649040699005, 0.08138199150562286, 0.0, 0.0, 0.0, 0.0], [0.11956595629453659, 0.01983426697552204, 0.03792143985629082, 0.08600281924009323, 0.04747224226593971, 0.07059626281261444, 0.1137176901102066, 0.08305684477090836, 0.07669121026992798, 0.16466912627220154, 0.07995837926864624, 0.10051386058330536, 0.0, 0.0, 0.0], [0.10125525295734406, 0.019266096875071526, 0.0380295030772686, 0.06829770654439926, 0.044514067471027374, 0.0604439415037632, 0.09254590421915054, 0.07992058992385864, 0.07320784777402878, 0.13082335889339447, 0.07406184077262878, 0.08878244459629059, 0.12885145843029022, 0.0, 0.0], [0.08892199397087097, 0.020907897502183914, 0.03573588654398918, 0.07174208015203476, 0.040924523025751114, 0.054941654205322266, 0.08954448997974396, 0.06662976741790771, 0.06739851832389832, 0.12985120713710785, 0.0657857358455658, 0.08398965746164322, 0.1079004779458046, 0.07572606205940247, 0.0], [0.0729578360915184, 0.017478106543421745, 0.031469929963350296, 0.051322825253009796, 0.03760677948594093, 0.049894075840711594, 0.07466595619916916, 0.05712191015481949, 0.05951540917158127, 0.09833747148513794, 0.06153476983308792, 0.0761675164103508, 0.09389209747314453, 0.07429889589548111, 0.14373643696308136]], [[1.0, 0.0, 0.0, 0.0, 0.0, 0.0, 0.0, 0.0, 0.0, 0.0, 0.0, 0.0, 0.0, 0.0, 0.0], [0.6096706390380859, 0.39032936096191406, 0.0, 0.0, 0.0, 0.0, 0.0, 0.0, 0.0, 0.0, 0.0, 0.0, 0.0, 0.0, 0.0], [0.5921728610992432, 0.20310720801353455, 0.20471996068954468, 0.0, 0.0, 0.0, 0.0, 0.0, 0.0, 0.0, 0.0, 0.0, 0.0, 0.0, 0.0], [0.5273594856262207, 0.14885954558849335, 0.1757093220949173, 0.14807161688804626, 0.0, 0.0, 0.0, 0.0, 0.0, 0.0, 0.0, 0.0, 0.0, 0.0, 0.0], [0.5080085396766663, 0.12067386507987976, 0.12901683151721954, 0.12056946009397507, 0.12173131853342056, 0.0, 0.0, 0.0, 0.0, 0.0, 0.0, 0.0, 0.0, 0.0, 0.0], [0.4799518585205078, 0.08481530845165253, 0.10727690905332565, 0.09655313193798065, 0.1062176451086998, 0.12518517673015594, 0.0, 0.0, 0.0, 0.0, 0.0, 0.0, 0.0, 0.0, 0.0], [0.483333021402359, 0.07045270502567291, 0.08657282590866089, 0.07603496313095093, 0.08495786041021347, 0.10280927270650864, 0.09583933651447296, 0.0, 0.0, 0.0, 0.0, 0.0, 0.0, 0.0, 0.0], [0.47588658332824707, 0.05936458706855774, 0.07528670132160187, 0.06532614678144455, 0.07289756089448929, 0.08850868791341782, 0.07847792655229568, 0.084251768887043, 0.0, 0.0, 0.0, 0.0, 0.0, 0.0, 0.0], [0.46899521350860596, 0.0570574589073658, 0.0635191798210144, 0.058598607778549194, 0.058871615678071976, 0.07519837468862534, 0.06775727868080139, 0.06635480374097824, 0.08364733308553696, 0.0, 0.0, 0.0, 0.0, 0.0, 0.0], [0.4663046598434448, 0.04264158383011818, 0.054165586829185486, 0.04717668518424034, 0.0524931438267231, 0.06419265270233154, 0.056881383061409, 0.05620843917131424, 0.07257508486509323, 0.08736079931259155, 0.0, 0.0, 0.0, 0.0, 0.0], [0.45259442925453186, 0.03811371698975563, 0.04590863361954689, 0.043571677058935165, 0.04363751783967018, 0.058217160403728485, 0.05206477642059326, 0.05193893611431122, 0.06862551718950272, 0.08525697141885757, 0.06007060781121254, 0.0, 0.0, 0.0, 0.0], [0.4785555601119995, 0.029274361208081245, 0.038786184042692184, 0.03516919165849686, 0.03759436681866646, 0.04812917485833168, 0.044731076806783676, 0.04231828451156616, 0.056490443646907806, 0.07277587801218033, 0.05137904733419418, 0.06479641795158386, 0.0, 0.0, 0.0], [0.4913467764854431, 0.025723574683070183, 0.034735552966594696, 0.029844136908650398, 0.032518092542886734, 0.040906257927417755, 0.037265025079250336, 0.04020446911454201, 0.04973093047738075, 0.06065121665596962, 0.04485270008444786, 0.05549021065235138, 0.05673111602663994, 0.0, 0.0], [0.4720161557197571, 0.0247440617531538, 0.03194485977292061, 0.030036726966500282, 0.030055221170186996, 0.03753301128745079, 0.03582186624407768, 0.03382963314652443, 0.04636485129594803, 0.059867557138204575, 0.04221627116203308, 0.05338491126894951, 0.049111537635326385, 0.053073301911354065, 0.0], [0.5099129676818848, 0.019091771915555, 0.02609698474407196, 0.02252991311252117, 0.024699201807379723, 0.031063565984368324, 0.030392765998840332, 0.02859361097216606, 0.03824480250477791, 0.0473676361143589, 0.03437839448451996, 0.04389997571706772, 0.04185941815376282, 0.04644927382469177, 0.055419668555259705]], [[1.0, 0.0, 0.0, 0.0, 0.0, 0.0, 0.0, 0.0, 0.0, 0.0, 0.0, 0.0, 0.0, 0.0, 0.0], [0.8780754804611206, 0.12192447483539581, 0.0, 0.0, 0.0, 0.0, 0.0, 0.0, 0.0, 0.0, 0.0, 0.0, 0.0, 0.0, 0.0], [0.722828209400177, 0.13076263666152954, 0.14640915393829346, 0.0, 0.0, 0.0, 0.0, 0.0, 0.0, 0.0, 0.0, 0.0, 0.0, 0.0, 0.0], [0.6607414484024048, 0.10495632886886597, 0.1452106088399887, 0.08909165859222412, 0.0, 0.0, 0.0, 0.0, 0.0, 0.0, 0.0, 0.0, 0.0, 0.0, 0.0], [0.5971131920814514, 0.08817349374294281, 0.12672337889671326, 0.07343822717666626, 0.11455168575048447, 0.0, 0.0, 0.0, 0.0, 0.0, 0.0, 0.0, 0.0, 0.0, 0.0], [0.5404881238937378, 0.07341937720775604, 0.1058056503534317, 0.07409272342920303, 0.09728576242923737, 0.10890837013721466, 0.0, 0.0, 0.0, 0.0, 0.0, 0.0, 0.0, 0.0, 0.0], [0.4733714163303375, 0.07515531778335571, 0.09948529303073883, 0.06155036389827728, 0.10187157243490219, 0.09850549697875977, 0.09006055444478989, 0.0, 0.0, 0.0, 0.0, 0.0, 0.0, 0.0, 0.0], [0.4298293888568878, 0.06557584553956985, 0.10278057307004929, 0.057463277131319046, 0.09893597662448883, 0.0868828222155571, 0.0753009244799614, 0.08323119580745697, 0.0, 0.0, 0.0, 0.0, 0.0, 0.0, 0.0], [0.38976991176605225, 0.06456556171178818, 0.084320068359375, 0.05769423022866249, 0.07350169122219086, 0.07993058115243912, 0.07029229402542114, 0.06807374209165573, 0.11185184866189957, 0.0, 0.0, 0.0, 0.0, 0.0, 0.0], [0.33701080083847046, 0.06022787094116211, 0.07893620431423187, 0.05084041878581047, 0.07708167284727097, 0.07898525148630142, 0.060755655169487, 0.06271962821483612, 0.1050870269536972, 0.08835547417402267, 0.0, 0.0, 0.0, 0.0, 0.0], [0.35048219561576843, 0.049626078456640244, 0.06991300731897354, 0.04357049614191055, 0.06273473799228668, 0.06351866573095322, 0.05188439041376114, 0.04876746982336044, 0.09563188999891281, 0.07514862716197968, 0.08872231841087341, 0.0, 0.0, 0.0, 0.0], [0.31442126631736755, 0.04145834222435951, 0.05756010115146637, 0.042357657104730606, 0.057723842561244965, 0.061161916702985764, 0.05182948708534241, 0.04960409179329872, 0.08074422180652618, 0.07449793815612793, 0.08603427559137344, 0.08260679244995117, 0.0, 0.0, 0.0], [0.2766789197921753, 0.03941382095217705, 0.06217753887176514, 0.037092387676239014, 0.059199634939432144, 0.05094429850578308, 0.04598148912191391, 0.05077463388442993, 0.07890111953020096, 0.06453673541545868, 0.08712178468704224, 0.07338555157184601, 0.07379210740327835, 0.0, 0.0], [0.2827603816986084, 0.03653890639543533, 0.047800224274396896, 0.040651679039001465, 0.04378054291009903, 0.04547877237200737, 0.04615224152803421, 0.04261947050690651, 0.06201532110571861, 0.0685279443860054, 0.06445955485105515, 0.06635427474975586, 0.0641319751739502, 0.08872853219509125, 0.0], [0.23776152729988098, 0.03249610215425491, 0.04497426375746727, 0.030852345749735832, 0.04644269496202469, 0.04310556501150131, 0.04248584806919098, 0.04102392494678497, 0.0609932579100132, 0.05299431085586548, 0.06811948120594025, 0.06803400069475174, 0.060176387429237366, 0.09374134242534637, 0.07679904252290726]], [[1.0, 0.0, 0.0, 0.0, 0.0, 0.0, 0.0, 0.0, 0.0, 0.0, 0.0, 0.0, 0.0, 0.0, 0.0], [0.7972972393035889, 0.20270276069641113, 0.0, 0.0, 0.0, 0.0, 0.0, 0.0, 0.0, 0.0, 0.0, 0.0, 0.0, 0.0, 0.0], [0.8700551390647888, 0.07307391613721848, 0.056870877742767334, 0.0, 0.0, 0.0, 0.0, 0.0, 0.0, 0.0, 0.0, 0.0, 0.0, 0.0, 0.0], [0.6174309253692627, 0.04062969982624054, 0.019974764436483383, 0.32196465134620667, 0.0, 0.0, 0.0, 0.0, 0.0, 0.0, 0.0, 0.0, 0.0, 0.0, 0.0], [0.5189119577407837, 0.07974842935800552, 0.17069563269615173, 0.0872226282954216, 0.14342144131660461, 0.0, 0.0, 0.0, 0.0, 0.0, 0.0, 0.0, 0.0, 0.0, 0.0], [0.5158474445343018, 0.2830583155155182, 0.010641094297170639, 0.0814637541770935, 0.009937952272593975, 0.09905146807432175, 0.0, 0.0, 0.0, 0.0, 0.0, 0.0, 0.0, 0.0, 0.0], [0.4066813886165619, 0.02603154443204403, 0.01364157348871231, 0.08254323154687881, 0.00492585264146328, 0.012822416611015797, 0.45335397124290466, 0.0, 0.0, 0.0, 0.0, 0.0, 0.0, 0.0, 0.0], [0.47718217968940735, 0.1301567554473877, 0.01674559898674488, 0.1824411153793335, 0.012759012170135975, 0.043815407902002335, 0.08261459320783615, 0.054285433143377304, 0.0, 0.0, 0.0, 0.0, 0.0, 0.0, 0.0], [0.44357919692993164, 0.051021020859479904, 0.07261481136083603, 0.03236934915184975, 0.040009208023548126, 0.06349897384643555, 0.02378670498728752, 0.06208602339029312, 0.21103481948375702, 0.0, 0.0, 0.0, 0.0, 0.0, 0.0], [0.27788031101226807, 0.04345209151506424, 0.02480805478990078, 0.13140784204006195, 0.005791841074824333, 0.02532455325126648, 0.029227692633867264, 0.051165711134672165, 0.0073851328343153, 0.403556764125824, 0.0, 0.0, 0.0, 0.0, 0.0], [0.16294416785240173, 0.043433938175439835, 0.14386312663555145, 0.06735733896493912, 0.10672919452190399, 0.03498179465532303, 0.06182146072387695, 0.05881324037909508, 0.07132165879011154, 0.18337267637252808, 0.06536149233579636, 0.0, 0.0, 0.0, 0.0], [0.31832730770111084, 0.16428795456886292, 0.009421982802450657, 0.04405708983540535, 0.009182384237647057, 0.15780331194400787, 0.04400631785392761, 0.04939735680818558, 0.022564439103007317, 0.10927046835422516, 0.004441533703356981, 0.06723982840776443, 0.0, 0.0, 0.0], [0.24576200544834137, 0.09055280685424805, 0.014235354028642178, 0.1423638015985489, 0.011222172528505325, 0.03987817093729973, 0.07020912319421768, 0.050214868038892746, 0.01166368369013071, 0.2612348198890686, 0.005923400167375803, 0.014436844736337662, 0.04230288788676262, 0.0, 0.0], [0.1658283770084381, 0.023366060107946396, 0.20645874738693237, 0.024698879569768906, 0.07348915934562683, 0.02121049165725708, 0.02564421109855175, 0.046722400933504105, 0.13821804523468018, 0.06784822046756744, 0.030582917854189873, 0.029883762821555138, 0.04214358329772949, 0.10390520095825195, 0.0], [0.13455654680728912, 0.01226065307855606, 0.009552273899316788, 0.043722063302993774, 0.003541569923982024, 0.012728063389658928, 0.2886413037776947, 0.028796866536140442, 0.003102417103946209, 0.03666947782039642, 0.0020708031952381134, 0.005451070610433817, 0.026764025911688805, 0.0021764696575701237, 0.38996636867523193]], [[1.0, 0.0, 0.0, 0.0, 0.0, 0.0, 0.0, 0.0, 0.0, 0.0, 0.0, 0.0, 0.0, 0.0, 0.0], [0.9642724394798279, 0.03572753816843033, 0.0, 0.0, 0.0, 0.0, 0.0, 0.0, 0.0, 0.0, 0.0, 0.0, 0.0, 0.0, 0.0], [0.8644946217536926, 0.10774009674787521, 0.027765264734625816, 0.0, 0.0, 0.0, 0.0, 0.0, 0.0, 0.0, 0.0, 0.0, 0.0, 0.0, 0.0], [0.8496084213256836, 0.10300267487764359, 0.021540848538279533, 0.02584797702729702, 0.0, 0.0, 0.0, 0.0, 0.0, 0.0, 0.0, 0.0, 0.0, 0.0, 0.0], [0.7113398909568787, 0.10293064266443253, 0.024200860410928726, 0.03330761939287186, 0.12822102010250092, 0.0, 0.0, 0.0, 0.0, 0.0, 0.0, 0.0, 0.0, 0.0, 0.0], [0.7415668368339539, 0.13760428130626678, 0.037130746990442276, 0.02984580770134926, 0.02190578356385231, 0.03194659203290939, 0.0, 0.0, 0.0, 0.0, 0.0, 0.0, 0.0, 0.0, 0.0], [0.5483668446540833, 0.1554439216852188, 0.06613609194755554, 0.05079290270805359, 0.011441263370215893, 0.12843063473701477, 0.039388276636600494, 0.0, 0.0, 0.0, 0.0, 0.0, 0.0, 0.0, 0.0], [0.6442343592643738, 0.10164178162813187, 0.061368465423583984, 0.03502105176448822, 0.03659064695239067, 0.04487142711877823, 0.03074652887880802, 0.045525699853897095, 0.0, 0.0, 0.0, 0.0, 0.0, 0.0, 0.0], [0.6777344942092896, 0.06906186789274216, 0.008545591495931149, 0.05078761652112007, 0.008467746898531914, 0.022742530331015587, 0.04256623983383179, 0.09200979769229889, 0.028084227815270424, 0.0, 0.0, 0.0, 0.0, 0.0, 0.0], [0.6486749053001404, 0.08864323049783707, 0.06608013063669205, 0.021349936723709106, 0.024867109954357147, 0.045879900455474854, 0.020765971392393112, 0.034928251057863235, 0.01426635030657053, 0.034544166177511215, 0.0, 0.0, 0.0, 0.0, 0.0], [0.49035340547561646, 0.07259245216846466, 0.022986916825175285, 0.03980179876089096, 0.09460439532995224, 0.04859999567270279, 0.041608765721321106, 0.09754680842161179, 0.014076514169573784, 0.05943842977285385, 0.018390603363513947, 0.0, 0.0, 0.0, 0.0], [0.48840034008026123, 0.10085000097751617, 0.0501130111515522, 0.03670807555317879, 0.03180736303329468, 0.07086408883333206, 0.029647642746567726, 0.030927909538149834, 0.05784156173467636, 0.03593735024333, 0.011698794551193714, 0.05520385876297951, 0.0, 0.0, 0.0], [0.5408700704574585, 0.09024197608232498, 0.042646683752536774, 0.03834986314177513, 0.023403888568282127, 0.04456949979066849, 0.03349551931023598, 0.04720760136842728, 0.02103646844625473, 0.04407794401049614, 0.008407003246247768, 0.026261717081069946, 0.03943170979619026, 0.0, 0.0], [0.39496660232543945, 0.07448749989271164, 0.004635478835552931, 0.05484073609113693, 0.010361287742853165, 0.055779457092285156, 0.054344598203897476, 0.0949610248208046, 0.03903713449835777, 0.06824562698602676, 0.0039935484528541565, 0.06031422317028046, 0.06549590826034546, 0.018536966294050217, 0.0], [0.3337714672088623, 0.11055532842874527, 0.059330325573682785, 0.04256247729063034, 0.009274343028664589, 0.0940040871500969, 0.03020177036523819, 0.047045256942510605, 0.01747887395322323, 0.04849432036280632, 0.004317307844758034, 0.0934901311993599, 0.03994327038526535, 0.04042723402380943, 0.029103867709636688]], [[1.0, 0.0, 0.0, 0.0, 0.0, 0.0, 0.0, 0.0, 0.0, 0.0, 0.0, 0.0, 0.0, 0.0, 0.0], [0.9774472713470459, 0.0225527286529541, 0.0, 0.0, 0.0, 0.0, 0.0, 0.0, 0.0, 0.0, 0.0, 0.0, 0.0, 0.0, 0.0], [0.8118402361869812, 0.14683011174201965, 0.041329581290483475, 0.0, 0.0, 0.0, 0.0, 0.0, 0.0, 0.0, 0.0, 0.0, 0.0, 0.0, 0.0], [0.7664825916290283, 0.07458531856536865, 0.08902344852685928, 0.06990863382816315, 0.0, 0.0, 0.0, 0.0, 0.0, 0.0, 0.0, 0.0, 0.0, 0.0, 0.0], [0.641502857208252, 0.09129872918128967, 0.17180944979190826, 0.08097611367702484, 0.014412912540137768, 0.0, 0.0, 0.0, 0.0, 0.0, 0.0, 0.0, 0.0, 0.0, 0.0], [0.5733324885368347, 0.07774937152862549, 0.10382187366485596, 0.0648101419210434, 0.11067019402980804, 0.06961596757173538, 0.0, 0.0, 0.0, 0.0, 0.0, 0.0, 0.0, 0.0, 0.0], [0.5812042951583862, 0.0601261630654335, 0.07646933197975159, 0.06146745756268501, 0.06132880598306656, 0.07101480662822723, 0.08838915824890137, 0.0, 0.0, 0.0, 0.0, 0.0, 0.0, 0.0, 0.0], [0.5230797529220581, 0.06356973946094513, 0.07950954884290695, 0.044855985790491104, 0.07483503222465515, 0.09896072000265121, 0.056436799466609955, 0.05875241756439209, 0.0, 0.0, 0.0, 0.0, 0.0, 0.0, 0.0], [0.4995121955871582, 0.046267151832580566, 0.11903717368841171, 0.05266696959733963, 0.057996492832899094, 0.07770762592554092, 0.05485568568110466, 0.059920813888311386, 0.032035890966653824, 0.0, 0.0, 0.0, 0.0, 0.0, 0.0], [0.4233502745628357, 0.05783997103571892, 0.0647270530462265, 0.04206974804401398, 0.044685475528240204, 0.07413681596517563, 0.04957012087106705, 0.04522424563765526, 0.11961597949266434, 0.07878024876117706, 0.0, 0.0, 0.0, 0.0, 0.0], [0.3569197356700897, 0.05191139876842499, 0.0966210663318634, 0.04167404770851135, 0.010056271217763424, 0.11966315656900406, 0.06209324672818184, 0.05797242000699043, 0.0919080451130867, 0.10529996454715729, 0.00588061660528183, 0.0, 0.0, 0.0, 0.0], [0.37152329087257385, 0.05025704205036163, 0.0644557997584343, 0.041354335844516754, 0.049750491976737976, 0.06637637317180634, 0.049803879112005234, 0.033646006137132645, 0.12066667526960373, 0.07893319427967072, 0.02514057233929634, 0.0480923131108284, 0.0, 0.0, 0.0], [0.39012613892555237, 0.046064186841249466, 0.04881960526108742, 0.0364203155040741, 0.04424997791647911, 0.06051073968410492, 0.0445520281791687, 0.043838053941726685, 0.09662669152021408, 0.06740078330039978, 0.023856405168771744, 0.04785942658782005, 0.04967569187283516, 0.0, 0.0], [0.3138129413127899, 0.05500563234090805, 0.09225460141897202, 0.04546467959880829, 0.050900038331747055, 0.07892889529466629, 0.05204613134264946, 0.04064444079995155, 0.04511579871177673, 0.061436887830495834, 0.028331229463219643, 0.07238437980413437, 0.04508233815431595, 0.018591968342661858, 0.0], [0.33591732382774353, 0.04040469974279404, 0.0535547211766243, 0.03433163836598396, 0.03661743551492691, 0.047484707087278366, 0.04561483487486839, 0.03689165413379669, 0.06923188269138336, 0.0830945372581482, 0.018623825162649155, 0.04371378943324089, 0.039865437895059586, 0.0466168150305748, 0.06803669035434723]], [[1.0, 0.0, 0.0, 0.0, 0.0, 0.0, 0.0, 0.0, 0.0, 0.0, 0.0, 0.0, 0.0, 0.0, 0.0], [0.9522119164466858, 0.04778808355331421, 0.0, 0.0, 0.0, 0.0, 0.0, 0.0, 0.0, 0.0, 0.0, 0.0, 0.0, 0.0, 0.0], [0.8954437375068665, 0.04408328980207443, 0.0604729987680912, 0.0, 0.0, 0.0, 0.0, 0.0, 0.0, 0.0, 0.0, 0.0, 0.0, 0.0, 0.0], [0.7650370001792908, 0.08101044595241547, 0.04728671908378601, 0.10666589438915253, 0.0, 0.0, 0.0, 0.0, 0.0, 0.0, 0.0, 0.0, 0.0, 0.0, 0.0], [0.7259407639503479, 0.05444888025522232, 0.05124269425868988, 0.10663295537233353, 0.06173466891050339, 0.0, 0.0, 0.0, 0.0, 0.0, 0.0, 0.0, 0.0, 0.0, 0.0], [0.677878201007843, 0.04814895987510681, 0.05780549347400665, 0.07227839529514313, 0.06498736888170242, 0.078901506960392, 0.0, 0.0, 0.0, 0.0, 0.0, 0.0, 0.0, 0.0, 0.0], [0.5969848036766052, 0.08290484547615051, 0.03573243319988251, 0.07604695856571198, 0.040698062628507614, 0.06504881381988525, 0.10258409380912781, 0.0, 0.0, 0.0, 0.0, 0.0, 0.0, 0.0, 0.0], [0.5090637803077698, 0.07786840945482254, 0.03522273525595665, 0.07456386834383011, 0.04275807738304138, 0.056865889579057693, 0.09815351665019989, 0.10550364851951599, 0.0, 0.0, 0.0, 0.0, 0.0, 0.0, 0.0], [0.47291234135627747, 0.04031888768076897, 0.04544907435774803, 0.0616166815161705, 0.06084924563765526, 0.05258253589272499, 0.10287711024284363, 0.11266078799962997, 0.050733402371406555, 0.0, 0.0, 0.0, 0.0, 0.0, 0.0], [0.42953094840049744, 0.06085286661982536, 0.036032140254974365, 0.0684606209397316, 0.03789888694882393, 0.052139829844236374, 0.07562527805566788, 0.09088551253080368, 0.0418471023440361, 0.10672677308320999, 0.0, 0.0, 0.0, 0.0, 0.0], [0.4220072329044342, 0.03710239753127098, 0.023675670847296715, 0.060805317014455795, 0.030399300158023834, 0.039079464972019196, 0.09981990605592728, 0.08234774321317673, 0.03675004839897156, 0.12234707921743393, 0.04566590487957001, 0.0, 0.0, 0.0, 0.0], [0.4383108615875244, 0.04740269109606743, 0.022730844095349312, 0.04955504462122917, 0.03223516419529915, 0.04656224697828293, 0.07367154210805893, 0.07714729011058807, 0.037918318063020706, 0.08780040591955185, 0.04528537765145302, 0.04138021543622017, 0.0, 0.0, 0.0], [0.37512457370758057, 0.057396870106458664, 0.030785830691456795, 0.04775676503777504, 0.03879249840974808, 0.04054807499051094, 0.06338168680667877, 0.06717383861541748, 0.04298523813486099, 0.07587631046772003, 0.052035801112651825, 0.036345403641462326, 0.07179711014032364, 0.0, 0.0], [0.35798394680023193, 0.02995772287249565, 0.022013049572706223, 0.037168338894844055, 0.040365882217884064, 0.03983641043305397, 0.06898245960474014, 0.06553687155246735, 0.04625662416219711, 0.08143657445907593, 0.06191009655594826, 0.03874266520142555, 0.07261905819177628, 0.0371902659535408, 0.0], [0.36031755805015564, 0.05234634503722191, 0.020055929198861122, 0.04413028806447983, 0.02853298746049404, 0.03904584422707558, 0.06532713025808334, 0.056568313390016556, 0.030758755281567574, 0.07345461845397949, 0.038409870117902756, 0.038209814578294754, 0.05890661105513573, 0.028361143544316292, 0.06557483226060867]], [[1.0, 0.0, 0.0, 0.0, 0.0, 0.0, 0.0, 0.0, 0.0, 0.0, 0.0, 0.0, 0.0, 0.0, 0.0], [0.9504060745239258, 0.049593888223171234, 0.0, 0.0, 0.0, 0.0, 0.0, 0.0, 0.0, 0.0, 0.0, 0.0, 0.0, 0.0, 0.0], [0.8512178659439087, 0.13338685035705566, 0.015395295806229115, 0.0, 0.0, 0.0, 0.0, 0.0, 0.0, 0.0, 0.0, 0.0, 0.0, 0.0, 0.0], [0.8559055328369141, 0.06124073266983032, 0.011005976237356663, 0.07184765487909317, 0.0, 0.0, 0.0, 0.0, 0.0, 0.0, 0.0, 0.0, 0.0, 0.0, 0.0], [0.800245463848114, 0.10634106397628784, 0.01998390257358551, 0.061095304787158966, 0.01233427133411169, 0.0, 0.0, 0.0, 0.0, 0.0, 0.0, 0.0, 0.0, 0.0, 0.0], [0.7888909578323364, 0.07522761076688766, 0.011726655066013336, 0.06672152876853943, 0.018953954800963402, 0.038479313254356384, 0.0, 0.0, 0.0, 0.0, 0.0, 0.0, 0.0, 0.0, 0.0], [0.7449761033058167, 0.06755515187978745, 0.01126106083393097, 0.05366867035627365, 0.012862705625593662, 0.04184634983539581, 0.06782996654510498, 0.0, 0.0, 0.0, 0.0, 0.0, 0.0, 0.0, 0.0], [0.6535796523094177, 0.060555022209882736, 0.012664257548749447, 0.05061102285981178, 0.015898920595645905, 0.04743081331253052, 0.05298231169581413, 0.10627789050340652, 0.0, 0.0, 0.0, 0.0, 0.0, 0.0, 0.0], [0.5926904678344727, 0.0866982489824295, 0.022676484659314156, 0.06269410252571106, 0.025886161252856255, 0.06019860506057739, 0.04677633196115494, 0.06921225786209106, 0.033167462795972824, 0.0, 0.0, 0.0, 0.0, 0.0, 0.0], [0.5684037804603577, 0.07735744118690491, 0.012946883216500282, 0.05033382400870323, 0.02039068192243576, 0.04574848711490631, 0.0480346642434597, 0.09906361997127533, 0.026602528989315033, 0.051118090748786926, 0.0, 0.0, 0.0, 0.0, 0.0], [0.498233437538147, 0.09126133471727371, 0.019474633038043976, 0.053493671119213104, 0.016456322744488716, 0.05615648999810219, 0.050427064299583435, 0.08153465390205383, 0.037501148879528046, 0.06249605119228363, 0.03296518325805664, 0.0, 0.0, 0.0, 0.0], [0.44266578555107117, 0.06875057518482208, 0.012853635475039482, 0.051189448684453964, 0.02299601025879383, 0.049133047461509705, 0.06254177540540695, 0.11350133270025253, 0.038561247289180756, 0.05401182919740677, 0.039647188037633896, 0.04414816200733185, 0.0, 0.0, 0.0], [0.46336111426353455, 0.050226740539073944, 0.016948316246271133, 0.039711154997348785, 0.02570316754281521, 0.04763474315404892, 0.03663812205195427, 0.07954014092683792, 0.0377180278301239, 0.03821859881281853, 0.0409105084836483, 0.04443468898534775, 0.07895462960004807, 0.0, 0.0], [0.4478117823600769, 0.05280783399939537, 0.014025796204805374, 0.05327482521533966, 0.021054551005363464, 0.04399486631155014, 0.04163907468318939, 0.06968531012535095, 0.03223389759659767, 0.04737299308180809, 0.04415947198867798, 0.03964346647262573, 0.07369256019592285, 0.018603511154651642, 0.0], [0.36771711707115173, 0.0534297451376915, 0.013447675853967667, 0.03950262814760208, 0.020104905590415, 0.042398545891046524, 0.04413742572069168, 0.11098600924015045, 0.028465762734413147, 0.0388774573802948, 0.02969323843717575, 0.04308681562542915, 0.10895610600709915, 0.018567940220236778, 0.04062861576676369]], [[1.0, 0.0, 0.0, 0.0, 0.0, 0.0, 0.0, 0.0, 0.0, 0.0, 0.0, 0.0, 0.0, 0.0, 0.0], [0.00033902822178788483, 0.9996609687805176, 0.0, 0.0, 0.0, 0.0, 0.0, 0.0, 0.0, 0.0, 0.0, 0.0, 0.0, 0.0, 0.0], [0.0008511196938343346, 0.5353066325187683, 0.4638422727584839, 0.0, 0.0, 0.0, 0.0, 0.0, 0.0, 0.0, 0.0, 0.0, 0.0, 0.0, 0.0], [0.0010819296585395932, 0.35970842838287354, 0.3782811760902405, 0.2609284520149231, 0.0, 0.0, 0.0, 0.0, 0.0, 0.0, 0.0, 0.0, 0.0, 0.0, 0.0], [0.0007493674056604505, 0.26441067457199097, 0.26726606488227844, 0.20524613559246063, 0.26232776045799255, 0.0, 0.0, 0.0, 0.0, 0.0, 0.0, 0.0, 0.0, 0.0, 0.0], [0.0010669822804629803, 0.1828002780675888, 0.21386250853538513, 0.15116874873638153, 0.20742225646972656, 0.2436792403459549, 0.0, 0.0, 0.0, 0.0, 0.0, 0.0, 0.0, 0.0, 0.0], [0.0016118165804073215, 0.14872194826602936, 0.17482496798038483, 0.12192683666944504, 0.17738303542137146, 0.21110652387142181, 0.16442488133907318, 0.0, 0.0, 0.0, 0.0, 0.0, 0.0, 0.0, 0.0], [0.0015797780361026525, 0.1234922781586647, 0.15546993911266327, 0.10359179973602295, 0.15835724771022797, 0.17846232652664185, 0.1377211958169937, 0.14132535457611084, 0.0, 0.0, 0.0, 0.0, 0.0, 0.0, 0.0], [0.0013698549009859562, 0.1140773743391037, 0.12540073692798615, 0.09229297190904617, 0.12098251283168793, 0.14385569095611572, 0.11597847193479538, 0.11033190786838531, 0.175710529088974, 0.0, 0.0, 0.0, 0.0, 0.0, 0.0], [0.001879237242974341, 0.08249234408140182, 0.10807853937149048, 0.07064180821180344, 0.10649698227643967, 0.12962141633033752, 0.09608381986618042, 0.09224014729261398, 0.15990693867206573, 0.15255869925022125, 0.0, 0.0, 0.0, 0.0, 0.0], [0.0012294959742575884, 0.07340678572654724, 0.0885840356349945, 0.06516361236572266, 0.08916957676410675, 0.11290404945611954, 0.08589039742946625, 0.07781583070755005, 0.13937005400657654, 0.1353648602962494, 0.1311013400554657, 0.0, 0.0, 0.0, 0.0], [0.0015064056497067213, 0.05997956171631813, 0.07497048377990723, 0.0531621053814888, 0.07682721316814423, 0.09769035875797272, 0.07351554185152054, 0.06670787930488586, 0.120574951171875, 0.11599729210138321, 0.11402799189090729, 0.14504021406173706, 0.0, 0.0, 0.0], [0.0024436311796307564, 0.04908574000000954, 0.06912607699632645, 0.04514416307210922, 0.06923532485961914, 0.08107088506221771, 0.0635879635810852, 0.06637006253004074, 0.10840010643005371, 0.10241729021072388, 0.10633344948291779, 0.13174249231815338, 0.10504288226366043, 0.0, 0.0], [0.0016167787835001945, 0.04725239798426628, 0.062142264097929, 0.04406806454062462, 0.06171534210443497, 0.07345326244831085, 0.05768983066082001, 0.05460945516824722, 0.0945141464471817, 0.0947895273566246, 0.09327913075685501, 0.11514551937580109, 0.08618532121181488, 0.11353892832994461, 0.0], [0.003333951346576214, 0.03621695190668106, 0.05284983292222023, 0.03517782315611839, 0.05233818665146828, 0.06499636918306351, 0.05250370875000954, 0.04893742874264717, 0.08395879715681076, 0.08053310215473175, 0.08199208229780197, 0.10666397958993912, 0.0793161392211914, 0.10955318808555603, 0.11162861436605453]], [[1.0, 0.0, 0.0, 0.0, 0.0, 0.0, 0.0, 0.0, 0.0, 0.0, 0.0, 0.0, 0.0, 0.0, 0.0], [0.17958272993564606, 0.8204172253608704, 0.0, 0.0, 0.0, 0.0, 0.0, 0.0, 0.0, 0.0, 0.0, 0.0, 0.0, 0.0, 0.0], [0.03619811311364174, 0.0015198129694908857, 0.9622820615768433, 0.0, 0.0, 0.0, 0.0, 0.0, 0.0, 0.0, 0.0, 0.0, 0.0, 0.0, 0.0], [0.42901286482810974, 0.11669237911701202, 0.003687225980684161, 0.4506074786186218, 0.0, 0.0, 0.0, 0.0, 0.0, 0.0, 0.0, 0.0, 0.0, 0.0, 0.0], [0.12460163980722427, 0.004859552253037691, 0.02373802289366722, 0.030971616506576538, 0.8158290982246399, 0.0, 0.0, 0.0, 0.0, 0.0, 0.0, 0.0, 0.0, 0.0, 0.0], [0.10112395137548447, 0.00790252536535263, 0.00033946853363886476, 0.03234951198101044, 0.0007442825008183718, 0.8575402498245239, 0.0, 0.0, 0.0, 0.0, 0.0, 0.0, 0.0, 0.0, 0.0], [0.20192979276180267, 0.00743837421759963, 0.0014667162904515862, 0.1123163178563118, 0.0006954849814064801, 0.0031352227088063955, 0.6730180382728577, 0.0, 0.0, 0.0, 0.0, 0.0, 0.0, 0.0, 0.0], [0.21129785478115082, 0.008403539657592773, 0.0016570464940741658, 0.05142854526638985, 0.0014349449193105102, 0.002609245479106903, 0.04092748835682869, 0.6822413206100464, 0.0, 0.0, 0.0, 0.0, 0.0, 0.0, 0.0], [0.09628953784704208, 0.004699216224253178, 0.008386188186705112, 0.04104476794600487, 0.008004102855920792, 0.005198776256293058, 0.025329696014523506, 0.0024048127233982086, 0.8086428642272949, 0.0, 0.0, 0.0, 0.0, 0.0, 0.0], [0.20087788999080658, 0.2602474093437195, 0.009924795478582382, 0.11767568439245224, 0.016634544357657433, 0.02435469999909401, 0.08282726258039474, 0.10572433471679688, 0.012583928182721138, 0.1691494733095169, 0.0, 0.0, 0.0, 0.0, 0.0], [0.01583901420235634, 0.0017610223731026053, 0.024073151871562004, 0.006210674531757832, 0.5429579019546509, 0.0015610752161592245, 0.003975552041083574, 0.0014112988719716668, 0.009881427511572838, 0.08072255551815033, 0.31160640716552734, 0.0, 0.0, 0.0, 0.0], [0.056409504264593124, 0.007882930338382721, 0.0028338697738945484, 0.0354926623404026, 0.0009234127937816083, 0.00737529993057251, 0.015110588632524014, 0.002073476556688547, 0.0006100546452216804, 0.06009630486369133, 0.0003593543078750372, 0.8108325600624084, 0.0, 0.0, 0.0], [0.07135404646396637, 0.004943640436977148, 0.0010603064438328147, 0.021081572398543358, 0.0008133458904922009, 0.001316316076554358, 0.015491599217057228, 0.3248019218444824, 0.0009148060344159603, 0.06338031589984894, 0.0011716996086761355, 0.0015952035319060087, 0.49207526445388794, 0.0, 0.0], [0.03479326516389847, 0.0014461304526776075, 0.0025390160735696554, 0.01406925730407238, 0.0025870215613394976, 0.0020356031600385904, 0.0031425226479768753, 0.0006832141079939902, 0.012958481907844543, 0.025137489661574364, 0.0006039405125193298, 0.0025644656270742416, 0.0006199023919180036, 0.8968197703361511, 0.0], [0.06777745485305786, 0.003008810570463538, 0.0007389897364191711, 0.048189520835876465, 0.00026269303634762764, 0.0011883019469678402, 0.298635333776474, 0.005641205236315727, 0.0008724650251679122, 0.06571962684392929, 0.0003187227703165263, 0.0018080120207741857, 0.00809076614677906, 8.818679634714499e-05, 0.49765995144844055]]]}\n",
       "    )\n",
       "    </script>"
      ],
      "text/plain": [
       "<circuitsvis.utils.render.RenderedHTML at 0x2c028b340>"
      ]
     },
     "metadata": {},
     "output_type": "display_data"
    }
   ],
   "source": [
    "\n",
    "print(\"Layer 9 Head Attention Patterns:\")\n",
    "display(cv.attention.attention_patterns(tokens=model.to_str_tokens(noun_tokens[10]), attention= noun_cache[\"pattern\", 1][10]))\n",
    "\n",
    "\n"
   ]
  },
  {
   "cell_type": "code",
   "execution_count": 65,
   "metadata": {},
   "outputs": [
    {
     "data": {
      "text/plain": [
       "(['<|endoftext|>',\n",
       "  'When',\n",
       "  ' lamp',\n",
       "  ' and',\n",
       "  ' google',\n",
       "  ' went',\n",
       "  ' to',\n",
       "  ' the',\n",
       "  ' shops',\n",
       "  ',',\n",
       "  ' google',\n",
       "  ' gave',\n",
       "  ' the',\n",
       "  ' bag',\n",
       "  ' to'],\n",
       " torch.Size([12, 15, 15]))"
      ]
     },
     "execution_count": 65,
     "metadata": {},
     "output_type": "execute_result"
    }
   ],
   "source": [
    "#len(noun_tokens), einops.rearrange(pattern, \"b h s1 s2 -> h s1 s2 b\").shape\n",
    "\n",
    "\n",
    "model.to_str_tokens(noun_tokens[0]), pattern[0].shape"
   ]
  },
  {
   "cell_type": "markdown",
   "metadata": {},
   "source": []
  },
  {
   "attachments": {},
   "cell_type": "markdown",
   "metadata": {},
   "source": [
    "Use the logit lens to look at the attention output at each head/layer\n",
    "\n",
    "Define the logit_diff_directions in different ways: according to the 3 metrics described above"
   ]
  },
  {
   "cell_type": "code",
   "execution_count": 21,
   "metadata": {},
   "outputs": [
    {
     "ename": "NameError",
     "evalue": "name 'pnoun_cache' is not defined",
     "output_type": "error",
     "traceback": [
      "\u001b[0;31m---------------------------------------------------------------------------\u001b[0m",
      "\u001b[0;31mNameError\u001b[0m                                 Traceback (most recent call last)",
      "Cell \u001b[0;32mIn[21], line 22\u001b[0m\n\u001b[1;32m     18\u001b[0m     \u001b[39mreturn\u001b[39;00m per_head_logit_diffs\n\u001b[1;32m     21\u001b[0m answer_tokens \u001b[39m=\u001b[39m ans_toks_pn\n\u001b[0;32m---> 22\u001b[0m cache \u001b[39m=\u001b[39m pnoun_cache\n\u001b[1;32m     23\u001b[0m logit_diff_dirs \u001b[39m=\u001b[39m get_IOI_dir(answer_tokens)\n\u001b[1;32m     24\u001b[0m imshow(get_per_head_logit_diffs(cache, logit_diff_dirs), labels\u001b[39m=\u001b[39m{\u001b[39m\"\u001b[39m\u001b[39mx\u001b[39m\u001b[39m\"\u001b[39m:\u001b[39m\"\u001b[39m\u001b[39mHead\u001b[39m\u001b[39m\"\u001b[39m, \u001b[39m\"\u001b[39m\u001b[39my\u001b[39m\u001b[39m\"\u001b[39m:\u001b[39m\"\u001b[39m\u001b[39mLayer\u001b[39m\u001b[39m\"\u001b[39m}, title\u001b[39m=\u001b[39m\u001b[39m\"\u001b[39m\u001b[39mLogit Difference From Each Head - proper nouns distr\u001b[39m\u001b[39m\"\u001b[39m)\n",
      "\u001b[0;31mNameError\u001b[0m: name 'pnoun_cache' is not defined"
     ]
    }
   ],
   "source": [
    "\n",
    "def get_IOI_dir(answer_tokens):\n",
    "    answer_residual_directions = model.tokens_to_residual_directions(answer_tokens)\n",
    "    print(\"Answer residual directions shape:\", answer_residual_directions.shape)\n",
    "    logit_diff_directions = answer_residual_directions[:, 0] - answer_residual_directions[:, 1]\n",
    "    print(\"Logit difference directions shape:\", logit_diff_directions.shape)\n",
    "    return logit_diff_directions\n",
    "\n",
    "def residual_stack_to_logit_diff(residual_stack: Float[t.Tensor, \"components batch d_model\"], cache: ActivationCache, logit_diff_directions) -> float:\n",
    "    scaled_residual_stack = cache.apply_ln_to_stack(residual_stack, layer = -1, pos_slice=-1)\n",
    "    return einsum(\"... batch d_model, batch d_model -> ...\", scaled_residual_stack, logit_diff_directions)/len(prompts)\n",
    "\n",
    "\n",
    "\n",
    "def get_per_head_logit_diffs(cache,logit_diff_directions):\n",
    "    per_head_residual, labels = cache.stack_head_results(layer=-1, pos_slice=-1, return_labels=True)\n",
    "    per_head_logit_diffs = residual_stack_to_logit_diff(per_head_residual, cache, logit_diff_directions)\n",
    "    per_head_logit_diffs = einops.rearrange(per_head_logit_diffs, \"(layer head_index) -> layer head_index\", layer=model.cfg.n_layers, head_index=model.cfg.n_heads)\n",
    "    return per_head_logit_diffs\n",
    "\n",
    "\n",
    "answer_tokens = ans_toks_pn\n",
    "cache = pnoun_cache\n",
    "logit_diff_dirs = get_IOI_dir(answer_tokens)\n",
    "imshow(get_per_head_logit_diffs(cache, logit_diff_dirs), labels={\"x\":\"Head\", \"y\":\"Layer\"}, title=\"Logit Difference From Each Head - proper nouns distr\")\n",
    "\n",
    "answer_tokens = ans_toks_full\n",
    "cache = full_cache\n",
    "logit_diff_dirs = get_IOI_dir(answer_tokens)\n",
    "imshow(get_per_head_logit_diffs(cache, logit_diff_dirs), labels={\"x\":\"Head\", \"y\":\"Layer\"}, title=\"Logit Difference From Each Head - full distr\")"
   ]
  },
  {
   "cell_type": "code",
   "execution_count": 22,
   "metadata": {},
   "outputs": [
    {
     "name": "stdout",
     "output_type": "stream",
     "text": [
      "Answer residual directions shape: torch.Size([20, 2, 768])\n",
      "Logit difference directions shape: torch.Size([20, 768])\n",
      "Tried to stack head results when they weren't cached. Computing head results now\n"
     ]
    },
    {
     "data": {
      "text/html": [
       "<div>                            <div id=\"d24ec3d1-fd1d-4fa2-85a0-c2e7e6e02347\" class=\"plotly-graph-div\" style=\"height:525px; width:100%;\"></div>            <script type=\"text/javascript\">                require([\"plotly\"], function(Plotly) {                    window.PLOTLYENV=window.PLOTLYENV || {};                                    if (document.getElementById(\"d24ec3d1-fd1d-4fa2-85a0-c2e7e6e02347\")) {                    Plotly.newPlot(                        \"d24ec3d1-fd1d-4fa2-85a0-c2e7e6e02347\",                        [{\"coloraxis\":\"coloraxis\",\"name\":\"0\",\"z\":[[-0.0009251620504073799,-5.880480239284225e-05,7.858940080041066e-05,0.00016165645502042025,-0.0015045201871544123,0.0001810134417610243,-0.004716910421848297,-0.0016833043191581964,-0.00035390217090025544,-0.00022455910220742226,-0.00030012670322321355,7.783826004015282e-05],[-0.00045164363109506667,-0.0004631394986063242,0.0005342850927263498,-0.0001591932086739689,-0.0009559763711877167,-0.00034746824530884624,-0.0027411826886236668,-0.0029647070914506912,0.0012942764442414045,0.00045496009988710284,0.00045454534119926393,0.0014213552931323647],[-0.0007356256828643382,-1.550588604004588e-05,0.0003607019898481667,0.00017559957632329315,-0.0007412786362692714,0.0002505214652046561,4.642221756512299e-05,0.002506424905732274,-0.0008300564950332046,-0.0010248047765344381,-0.0010340798180550337,-2.5217741494998336e-05],[7.560414087492973e-05,-0.0003297755611129105,0.00040595390601083636,-0.0001386440999340266,-2.7039902761316625e-06,-0.003067922778427601,0.0002778471098281443,0.0010128316935151815,-8.692166011314839e-05,-0.0009248379501514137,0.0006519944872707129,-0.0008835395565256476],[-0.0013676697853952646,-7.487740367650986e-05,-0.00055719941155985,0.0007093771127983928,0.0010340933222323656,-0.0005617184797301888,-0.0008609275100752711,0.001419425243511796,-0.00045505998423323035,-0.0019920291379094124,0.00027104601031169295,0.0003216582699678838],[-0.00032995163928717375,7.330968946916983e-05,-0.001291503431275487,-0.0005804297397844493,0.0025640770327299833,-0.0007467139512300491,0.0006121232872828841,-0.003862386103719473,-0.00013198284432291985,0.00018962915055453777,-0.002833076287060976,0.005205984227359295],[-0.0028806354384869337,-0.0005302014760673046,0.0020710329990833998,-0.0009289771551266313,-0.0035177096724510193,0.003414552193135023,0.0016790501540526748,-0.0026646582409739494,0.0026412452571094036,-0.0018577368464320898,1.982740286621265e-05,-0.0015948556829243898],[-0.00021628753165714443,-0.004650535527616739,-0.0003303792327642441,0.020456235855817795,-0.0014495512004941702,-0.008320851251482964,0.0016679198015481234,-0.002804639283567667,-0.013746745884418488,0.013871034607291222,-0.000508420926053077,-0.0038786735385656357],[0.0011531974887475371,-0.0014409155119210482,-0.009055746719241142,-0.0127485990524292,-0.0005454247584566474,-0.002785215387120843,-0.08123309910297394,0.000429361971328035,-0.04695791378617287,0.001412731595337391,0.050520509481430054,-0.002740781521424651],[7.352880493272096e-05,-9.549744572723284e-05,-0.004922186024487019,-0.004518286325037479,-0.008039101026952267,0.032187867909669876,0.08825357258319855,0.02181142568588257,-0.007558293640613556,0.14947299659252167,-0.0008940810221247375,-0.007707239128649235],[0.10171614587306976,0.01853933371603489,-0.04950268194079399,-0.009922528639435768,-0.006295367144048214,-0.0011034258641302586,0.0022954633459448814,0.03243809938430786,0.0005403134855441749,0.0018142713233828545,0.028347957879304886,-0.036650195717811584],[0.013674454763531685,-0.012463939376175404,-0.03376542776823044,-0.00827049370855093,0.001128831529058516,-0.00336594320833683,-0.0037252050824463367,-0.026850294321775436,-0.0013337365817278624,-0.009660176001489162,-0.006054834928363562,-0.012351766228675842]],\"type\":\"heatmap\",\"xaxis\":\"x\",\"yaxis\":\"y\",\"hovertemplate\":\"Head: %{x}<br>Layer: %{y}<br>color: %{z}<extra></extra>\"}],                        {\"template\":{\"data\":{\"histogram2dcontour\":[{\"type\":\"histogram2dcontour\",\"colorbar\":{\"outlinewidth\":0,\"ticks\":\"\"},\"colorscale\":[[0.0,\"#0d0887\"],[0.1111111111111111,\"#46039f\"],[0.2222222222222222,\"#7201a8\"],[0.3333333333333333,\"#9c179e\"],[0.4444444444444444,\"#bd3786\"],[0.5555555555555556,\"#d8576b\"],[0.6666666666666666,\"#ed7953\"],[0.7777777777777778,\"#fb9f3a\"],[0.8888888888888888,\"#fdca26\"],[1.0,\"#f0f921\"]]}],\"choropleth\":[{\"type\":\"choropleth\",\"colorbar\":{\"outlinewidth\":0,\"ticks\":\"\"}}],\"histogram2d\":[{\"type\":\"histogram2d\",\"colorbar\":{\"outlinewidth\":0,\"ticks\":\"\"},\"colorscale\":[[0.0,\"#0d0887\"],[0.1111111111111111,\"#46039f\"],[0.2222222222222222,\"#7201a8\"],[0.3333333333333333,\"#9c179e\"],[0.4444444444444444,\"#bd3786\"],[0.5555555555555556,\"#d8576b\"],[0.6666666666666666,\"#ed7953\"],[0.7777777777777778,\"#fb9f3a\"],[0.8888888888888888,\"#fdca26\"],[1.0,\"#f0f921\"]]}],\"heatmap\":[{\"type\":\"heatmap\",\"colorbar\":{\"outlinewidth\":0,\"ticks\":\"\"},\"colorscale\":[[0.0,\"#0d0887\"],[0.1111111111111111,\"#46039f\"],[0.2222222222222222,\"#7201a8\"],[0.3333333333333333,\"#9c179e\"],[0.4444444444444444,\"#bd3786\"],[0.5555555555555556,\"#d8576b\"],[0.6666666666666666,\"#ed7953\"],[0.7777777777777778,\"#fb9f3a\"],[0.8888888888888888,\"#fdca26\"],[1.0,\"#f0f921\"]]}],\"heatmapgl\":[{\"type\":\"heatmapgl\",\"colorbar\":{\"outlinewidth\":0,\"ticks\":\"\"},\"colorscale\":[[0.0,\"#0d0887\"],[0.1111111111111111,\"#46039f\"],[0.2222222222222222,\"#7201a8\"],[0.3333333333333333,\"#9c179e\"],[0.4444444444444444,\"#bd3786\"],[0.5555555555555556,\"#d8576b\"],[0.6666666666666666,\"#ed7953\"],[0.7777777777777778,\"#fb9f3a\"],[0.8888888888888888,\"#fdca26\"],[1.0,\"#f0f921\"]]}],\"contourcarpet\":[{\"type\":\"contourcarpet\",\"colorbar\":{\"outlinewidth\":0,\"ticks\":\"\"}}],\"contour\":[{\"type\":\"contour\",\"colorbar\":{\"outlinewidth\":0,\"ticks\":\"\"},\"colorscale\":[[0.0,\"#0d0887\"],[0.1111111111111111,\"#46039f\"],[0.2222222222222222,\"#7201a8\"],[0.3333333333333333,\"#9c179e\"],[0.4444444444444444,\"#bd3786\"],[0.5555555555555556,\"#d8576b\"],[0.6666666666666666,\"#ed7953\"],[0.7777777777777778,\"#fb9f3a\"],[0.8888888888888888,\"#fdca26\"],[1.0,\"#f0f921\"]]}],\"surface\":[{\"type\":\"surface\",\"colorbar\":{\"outlinewidth\":0,\"ticks\":\"\"},\"colorscale\":[[0.0,\"#0d0887\"],[0.1111111111111111,\"#46039f\"],[0.2222222222222222,\"#7201a8\"],[0.3333333333333333,\"#9c179e\"],[0.4444444444444444,\"#bd3786\"],[0.5555555555555556,\"#d8576b\"],[0.6666666666666666,\"#ed7953\"],[0.7777777777777778,\"#fb9f3a\"],[0.8888888888888888,\"#fdca26\"],[1.0,\"#f0f921\"]]}],\"mesh3d\":[{\"type\":\"mesh3d\",\"colorbar\":{\"outlinewidth\":0,\"ticks\":\"\"}}],\"scatter\":[{\"fillpattern\":{\"fillmode\":\"overlay\",\"size\":10,\"solidity\":0.2},\"type\":\"scatter\"}],\"parcoords\":[{\"type\":\"parcoords\",\"line\":{\"colorbar\":{\"outlinewidth\":0,\"ticks\":\"\"}}}],\"scatterpolargl\":[{\"type\":\"scatterpolargl\",\"marker\":{\"colorbar\":{\"outlinewidth\":0,\"ticks\":\"\"}}}],\"bar\":[{\"error_x\":{\"color\":\"#2a3f5f\"},\"error_y\":{\"color\":\"#2a3f5f\"},\"marker\":{\"line\":{\"color\":\"#E5ECF6\",\"width\":0.5},\"pattern\":{\"fillmode\":\"overlay\",\"size\":10,\"solidity\":0.2}},\"type\":\"bar\"}],\"scattergeo\":[{\"type\":\"scattergeo\",\"marker\":{\"colorbar\":{\"outlinewidth\":0,\"ticks\":\"\"}}}],\"scatterpolar\":[{\"type\":\"scatterpolar\",\"marker\":{\"colorbar\":{\"outlinewidth\":0,\"ticks\":\"\"}}}],\"histogram\":[{\"marker\":{\"pattern\":{\"fillmode\":\"overlay\",\"size\":10,\"solidity\":0.2}},\"type\":\"histogram\"}],\"scattergl\":[{\"type\":\"scattergl\",\"marker\":{\"colorbar\":{\"outlinewidth\":0,\"ticks\":\"\"}}}],\"scatter3d\":[{\"type\":\"scatter3d\",\"line\":{\"colorbar\":{\"outlinewidth\":0,\"ticks\":\"\"}},\"marker\":{\"colorbar\":{\"outlinewidth\":0,\"ticks\":\"\"}}}],\"scattermapbox\":[{\"type\":\"scattermapbox\",\"marker\":{\"colorbar\":{\"outlinewidth\":0,\"ticks\":\"\"}}}],\"scatterternary\":[{\"type\":\"scatterternary\",\"marker\":{\"colorbar\":{\"outlinewidth\":0,\"ticks\":\"\"}}}],\"scattercarpet\":[{\"type\":\"scattercarpet\",\"marker\":{\"colorbar\":{\"outlinewidth\":0,\"ticks\":\"\"}}}],\"carpet\":[{\"aaxis\":{\"endlinecolor\":\"#2a3f5f\",\"gridcolor\":\"white\",\"linecolor\":\"white\",\"minorgridcolor\":\"white\",\"startlinecolor\":\"#2a3f5f\"},\"baxis\":{\"endlinecolor\":\"#2a3f5f\",\"gridcolor\":\"white\",\"linecolor\":\"white\",\"minorgridcolor\":\"white\",\"startlinecolor\":\"#2a3f5f\"},\"type\":\"carpet\"}],\"table\":[{\"cells\":{\"fill\":{\"color\":\"#EBF0F8\"},\"line\":{\"color\":\"white\"}},\"header\":{\"fill\":{\"color\":\"#C8D4E3\"},\"line\":{\"color\":\"white\"}},\"type\":\"table\"}],\"barpolar\":[{\"marker\":{\"line\":{\"color\":\"#E5ECF6\",\"width\":0.5},\"pattern\":{\"fillmode\":\"overlay\",\"size\":10,\"solidity\":0.2}},\"type\":\"barpolar\"}],\"pie\":[{\"automargin\":true,\"type\":\"pie\"}]},\"layout\":{\"autotypenumbers\":\"strict\",\"colorway\":[\"#636efa\",\"#EF553B\",\"#00cc96\",\"#ab63fa\",\"#FFA15A\",\"#19d3f3\",\"#FF6692\",\"#B6E880\",\"#FF97FF\",\"#FECB52\"],\"font\":{\"color\":\"#2a3f5f\"},\"hovermode\":\"closest\",\"hoverlabel\":{\"align\":\"left\"},\"paper_bgcolor\":\"white\",\"plot_bgcolor\":\"#E5ECF6\",\"polar\":{\"bgcolor\":\"#E5ECF6\",\"angularaxis\":{\"gridcolor\":\"white\",\"linecolor\":\"white\",\"ticks\":\"\"},\"radialaxis\":{\"gridcolor\":\"white\",\"linecolor\":\"white\",\"ticks\":\"\"}},\"ternary\":{\"bgcolor\":\"#E5ECF6\",\"aaxis\":{\"gridcolor\":\"white\",\"linecolor\":\"white\",\"ticks\":\"\"},\"baxis\":{\"gridcolor\":\"white\",\"linecolor\":\"white\",\"ticks\":\"\"},\"caxis\":{\"gridcolor\":\"white\",\"linecolor\":\"white\",\"ticks\":\"\"}},\"coloraxis\":{\"colorbar\":{\"outlinewidth\":0,\"ticks\":\"\"}},\"colorscale\":{\"sequential\":[[0.0,\"#0d0887\"],[0.1111111111111111,\"#46039f\"],[0.2222222222222222,\"#7201a8\"],[0.3333333333333333,\"#9c179e\"],[0.4444444444444444,\"#bd3786\"],[0.5555555555555556,\"#d8576b\"],[0.6666666666666666,\"#ed7953\"],[0.7777777777777778,\"#fb9f3a\"],[0.8888888888888888,\"#fdca26\"],[1.0,\"#f0f921\"]],\"sequentialminus\":[[0.0,\"#0d0887\"],[0.1111111111111111,\"#46039f\"],[0.2222222222222222,\"#7201a8\"],[0.3333333333333333,\"#9c179e\"],[0.4444444444444444,\"#bd3786\"],[0.5555555555555556,\"#d8576b\"],[0.6666666666666666,\"#ed7953\"],[0.7777777777777778,\"#fb9f3a\"],[0.8888888888888888,\"#fdca26\"],[1.0,\"#f0f921\"]],\"diverging\":[[0,\"#8e0152\"],[0.1,\"#c51b7d\"],[0.2,\"#de77ae\"],[0.3,\"#f1b6da\"],[0.4,\"#fde0ef\"],[0.5,\"#f7f7f7\"],[0.6,\"#e6f5d0\"],[0.7,\"#b8e186\"],[0.8,\"#7fbc41\"],[0.9,\"#4d9221\"],[1,\"#276419\"]]},\"xaxis\":{\"gridcolor\":\"white\",\"linecolor\":\"white\",\"ticks\":\"\",\"title\":{\"standoff\":15},\"zerolinecolor\":\"white\",\"automargin\":true,\"zerolinewidth\":2},\"yaxis\":{\"gridcolor\":\"white\",\"linecolor\":\"white\",\"ticks\":\"\",\"title\":{\"standoff\":15},\"zerolinecolor\":\"white\",\"automargin\":true,\"zerolinewidth\":2},\"scene\":{\"xaxis\":{\"backgroundcolor\":\"#E5ECF6\",\"gridcolor\":\"white\",\"linecolor\":\"white\",\"showbackground\":true,\"ticks\":\"\",\"zerolinecolor\":\"white\",\"gridwidth\":2},\"yaxis\":{\"backgroundcolor\":\"#E5ECF6\",\"gridcolor\":\"white\",\"linecolor\":\"white\",\"showbackground\":true,\"ticks\":\"\",\"zerolinecolor\":\"white\",\"gridwidth\":2},\"zaxis\":{\"backgroundcolor\":\"#E5ECF6\",\"gridcolor\":\"white\",\"linecolor\":\"white\",\"showbackground\":true,\"ticks\":\"\",\"zerolinecolor\":\"white\",\"gridwidth\":2}},\"shapedefaults\":{\"line\":{\"color\":\"#2a3f5f\"}},\"annotationdefaults\":{\"arrowcolor\":\"#2a3f5f\",\"arrowhead\":0,\"arrowwidth\":1},\"geo\":{\"bgcolor\":\"white\",\"landcolor\":\"#E5ECF6\",\"subunitcolor\":\"white\",\"showland\":true,\"showlakes\":true,\"lakecolor\":\"white\"},\"title\":{\"x\":0.05},\"mapbox\":{\"style\":\"light\"}}},\"xaxis\":{\"anchor\":\"y\",\"domain\":[0.0,1.0],\"scaleanchor\":\"y\",\"constrain\":\"domain\",\"title\":{\"text\":\"Head\"}},\"yaxis\":{\"anchor\":\"x\",\"domain\":[0.0,1.0],\"autorange\":\"reversed\",\"constrain\":\"domain\",\"title\":{\"text\":\"Layer\"}},\"coloraxis\":{\"colorscale\":[[0.0,\"rgb(103,0,31)\"],[0.1,\"rgb(178,24,43)\"],[0.2,\"rgb(214,96,77)\"],[0.3,\"rgb(244,165,130)\"],[0.4,\"rgb(253,219,199)\"],[0.5,\"rgb(247,247,247)\"],[0.6,\"rgb(209,229,240)\"],[0.7,\"rgb(146,197,222)\"],[0.8,\"rgb(67,147,195)\"],[0.9,\"rgb(33,102,172)\"],[1.0,\"rgb(5,48,97)\"]],\"cmid\":0.0},\"title\":{\"text\":\"Logit Difference From Each Head - nouns distr\"}},                        {\"responsive\": true}                    ).then(function(){\n",
       "                            \n",
       "var gd = document.getElementById('d24ec3d1-fd1d-4fa2-85a0-c2e7e6e02347');\n",
       "var x = new MutationObserver(function (mutations, observer) {{\n",
       "        var display = window.getComputedStyle(gd).display;\n",
       "        if (!display || display === 'none') {{\n",
       "            console.log([gd, 'removed!']);\n",
       "            Plotly.purge(gd);\n",
       "            observer.disconnect();\n",
       "        }}\n",
       "}});\n",
       "\n",
       "// Listen for the removal of the full notebook cells\n",
       "var notebookContainer = gd.closest('#notebook-container');\n",
       "if (notebookContainer) {{\n",
       "    x.observe(notebookContainer, {childList: true});\n",
       "}}\n",
       "\n",
       "// Listen for the clearing of the current output cell\n",
       "var outputEl = gd.closest('.output');\n",
       "if (outputEl) {{\n",
       "    x.observe(outputEl, {childList: true});\n",
       "}}\n",
       "\n",
       "                        })                };                });            </script>        </div>"
      ]
     },
     "metadata": {},
     "output_type": "display_data"
    },
    {
     "name": "stdout",
     "output_type": "stream",
     "text": [
      "Answer residual directions shape: torch.Size([20, 2, 768])\n",
      "Logit difference directions shape: torch.Size([20, 768])\n",
      "Tried to stack head results when they weren't cached. Computing head results now\n"
     ]
    },
    {
     "data": {
      "text/html": [
       "<div>                            <div id=\"04a6f6f8-67f5-4695-89cd-bb0be1bb4b54\" class=\"plotly-graph-div\" style=\"height:525px; width:100%;\"></div>            <script type=\"text/javascript\">                require([\"plotly\"], function(Plotly) {                    window.PLOTLYENV=window.PLOTLYENV || {};                                    if (document.getElementById(\"04a6f6f8-67f5-4695-89cd-bb0be1bb4b54\")) {                    Plotly.newPlot(                        \"04a6f6f8-67f5-4695-89cd-bb0be1bb4b54\",                        [{\"coloraxis\":\"coloraxis\",\"name\":\"0\",\"z\":[[-0.0014337718021124601,-0.00014016558998264372,-8.961823914432898e-05,-8.500447620463092e-06,-0.00012433355732355267,5.8458208513911813e-05,-0.0012653728481382132,-0.0002155450638383627,1.5598134268657304e-05,-0.0002702045312616974,0.0001195782097056508,0.00010374714474892244],[1.791822796803899e-05,-0.0003277829964645207,6.729271149197302e-07,0.00014328400720842183,-0.0002489887992851436,-1.5859195627854206e-05,-0.00040289893513545394,-0.0013472572900354862,0.00042833253974094987,0.0004671475035138428,-6.305856368271634e-05,0.0002210327220382169],[-7.41579060559161e-05,-0.00044971395982429385,-5.0873881264124066e-05,-0.0002338606136618182,4.352723408374004e-05,0.0001971609890460968,0.0002829941513482481,0.0004460564232431352,-0.00019269211043138057,-0.0006618268089368939,-0.00023316682199947536,0.00013746363401878625],[-1.690702083578799e-05,5.2067880460526794e-05,0.0001156704020104371,-3.102597838733345e-05,6.268125434871763e-05,4.107929999008775e-05,-0.0006669675931334496,1.0552053936407901e-05,-7.546699634985998e-05,-7.085059769451618e-05,-0.00011327763786539435,5.279738616081886e-05],[5.607501225313172e-05,-1.843351128627546e-05,-0.00012768285523634404,6.31360526313074e-05,0.00035685329930856824,1.8845690647140145e-05,-0.0001305393234360963,0.0004013038706034422,-2.1790945538668893e-05,-0.0002608420327305794,8.135812822729349e-05,5.646517820423469e-05],[-8.07229516794905e-05,6.688740540994331e-05,-0.0004576652718242258,-3.54403855453711e-05,8.1445905379951e-05,-0.0002977299445774406,0.00013720340211875737,0.0005415233899839222,7.730170909781009e-05,0.00013519340427592397,-0.00025944618391804397,0.0004245235468260944],[-0.0016747305635362864,7.204325083876029e-05,0.0007469116826541722,-0.0002841520181391388,-0.001566275954246521,0.00032346672378480434,0.0011018782388418913,-0.0005275738658383489,-0.00014215570990927517,-0.0005937671521678567,-0.00012832271750085056,-2.2866763629281195e-06],[-0.00010219965770374984,-0.0013649342581629753,-0.00021642036153934896,0.027115589007735252,-9.912946552503854e-05,-0.0038176600355654955,0.000544566719327122,-0.0005226477514952421,-0.0032394477166235447,0.03940031677484512,-0.0002581537119112909,-0.000501468253787607],[0.0010979344369843602,-0.0005000930395908654,-0.006130354944616556,0.0012257905909791589,7.374594861175865e-05,-0.004244829062372446,-0.01384095661342144,4.727375562652014e-05,-0.010755321942269802,0.0006718240911141038,0.061128489673137665,0.006951571442186832],[0.009562293067574501,-0.0005305404192768037,0.010013342835009098,0.0023364019580185413,-0.0038375065196305513,0.013358774594962597,0.29864105582237244,0.0173167884349823,-0.010630474425852299,0.5578008890151978,1.9453606000752188e-05,-0.0012690837029367685],[0.20289137959480286,0.04363671690225601,-0.006811794824898243,0.004051866475492716,5.831615908391541e-06,0.0006091255927458405,0.07120750099420547,-0.31995508074760437,-0.0002716810558922589,-0.002264163689687848,0.06521089375019073,0.0018255645409226418],[0.00484789814800024,-0.014922703616321087,-0.039959803223609924,0.000629875750746578,-0.002189436461776495,-0.0005749518750235438,-0.00013734796084463596,0.0006768558523617685,0.00504749221727252,0.003032966982573271,-0.1771654188632965,0.004207246005535126]],\"type\":\"heatmap\",\"xaxis\":\"x\",\"yaxis\":\"y\",\"hovertemplate\":\"Head: %{x}<br>Layer: %{y}<br>color: %{z}<extra></extra>\"}],                        {\"template\":{\"data\":{\"histogram2dcontour\":[{\"type\":\"histogram2dcontour\",\"colorbar\":{\"outlinewidth\":0,\"ticks\":\"\"},\"colorscale\":[[0.0,\"#0d0887\"],[0.1111111111111111,\"#46039f\"],[0.2222222222222222,\"#7201a8\"],[0.3333333333333333,\"#9c179e\"],[0.4444444444444444,\"#bd3786\"],[0.5555555555555556,\"#d8576b\"],[0.6666666666666666,\"#ed7953\"],[0.7777777777777778,\"#fb9f3a\"],[0.8888888888888888,\"#fdca26\"],[1.0,\"#f0f921\"]]}],\"choropleth\":[{\"type\":\"choropleth\",\"colorbar\":{\"outlinewidth\":0,\"ticks\":\"\"}}],\"histogram2d\":[{\"type\":\"histogram2d\",\"colorbar\":{\"outlinewidth\":0,\"ticks\":\"\"},\"colorscale\":[[0.0,\"#0d0887\"],[0.1111111111111111,\"#46039f\"],[0.2222222222222222,\"#7201a8\"],[0.3333333333333333,\"#9c179e\"],[0.4444444444444444,\"#bd3786\"],[0.5555555555555556,\"#d8576b\"],[0.6666666666666666,\"#ed7953\"],[0.7777777777777778,\"#fb9f3a\"],[0.8888888888888888,\"#fdca26\"],[1.0,\"#f0f921\"]]}],\"heatmap\":[{\"type\":\"heatmap\",\"colorbar\":{\"outlinewidth\":0,\"ticks\":\"\"},\"colorscale\":[[0.0,\"#0d0887\"],[0.1111111111111111,\"#46039f\"],[0.2222222222222222,\"#7201a8\"],[0.3333333333333333,\"#9c179e\"],[0.4444444444444444,\"#bd3786\"],[0.5555555555555556,\"#d8576b\"],[0.6666666666666666,\"#ed7953\"],[0.7777777777777778,\"#fb9f3a\"],[0.8888888888888888,\"#fdca26\"],[1.0,\"#f0f921\"]]}],\"heatmapgl\":[{\"type\":\"heatmapgl\",\"colorbar\":{\"outlinewidth\":0,\"ticks\":\"\"},\"colorscale\":[[0.0,\"#0d0887\"],[0.1111111111111111,\"#46039f\"],[0.2222222222222222,\"#7201a8\"],[0.3333333333333333,\"#9c179e\"],[0.4444444444444444,\"#bd3786\"],[0.5555555555555556,\"#d8576b\"],[0.6666666666666666,\"#ed7953\"],[0.7777777777777778,\"#fb9f3a\"],[0.8888888888888888,\"#fdca26\"],[1.0,\"#f0f921\"]]}],\"contourcarpet\":[{\"type\":\"contourcarpet\",\"colorbar\":{\"outlinewidth\":0,\"ticks\":\"\"}}],\"contour\":[{\"type\":\"contour\",\"colorbar\":{\"outlinewidth\":0,\"ticks\":\"\"},\"colorscale\":[[0.0,\"#0d0887\"],[0.1111111111111111,\"#46039f\"],[0.2222222222222222,\"#7201a8\"],[0.3333333333333333,\"#9c179e\"],[0.4444444444444444,\"#bd3786\"],[0.5555555555555556,\"#d8576b\"],[0.6666666666666666,\"#ed7953\"],[0.7777777777777778,\"#fb9f3a\"],[0.8888888888888888,\"#fdca26\"],[1.0,\"#f0f921\"]]}],\"surface\":[{\"type\":\"surface\",\"colorbar\":{\"outlinewidth\":0,\"ticks\":\"\"},\"colorscale\":[[0.0,\"#0d0887\"],[0.1111111111111111,\"#46039f\"],[0.2222222222222222,\"#7201a8\"],[0.3333333333333333,\"#9c179e\"],[0.4444444444444444,\"#bd3786\"],[0.5555555555555556,\"#d8576b\"],[0.6666666666666666,\"#ed7953\"],[0.7777777777777778,\"#fb9f3a\"],[0.8888888888888888,\"#fdca26\"],[1.0,\"#f0f921\"]]}],\"mesh3d\":[{\"type\":\"mesh3d\",\"colorbar\":{\"outlinewidth\":0,\"ticks\":\"\"}}],\"scatter\":[{\"fillpattern\":{\"fillmode\":\"overlay\",\"size\":10,\"solidity\":0.2},\"type\":\"scatter\"}],\"parcoords\":[{\"type\":\"parcoords\",\"line\":{\"colorbar\":{\"outlinewidth\":0,\"ticks\":\"\"}}}],\"scatterpolargl\":[{\"type\":\"scatterpolargl\",\"marker\":{\"colorbar\":{\"outlinewidth\":0,\"ticks\":\"\"}}}],\"bar\":[{\"error_x\":{\"color\":\"#2a3f5f\"},\"error_y\":{\"color\":\"#2a3f5f\"},\"marker\":{\"line\":{\"color\":\"#E5ECF6\",\"width\":0.5},\"pattern\":{\"fillmode\":\"overlay\",\"size\":10,\"solidity\":0.2}},\"type\":\"bar\"}],\"scattergeo\":[{\"type\":\"scattergeo\",\"marker\":{\"colorbar\":{\"outlinewidth\":0,\"ticks\":\"\"}}}],\"scatterpolar\":[{\"type\":\"scatterpolar\",\"marker\":{\"colorbar\":{\"outlinewidth\":0,\"ticks\":\"\"}}}],\"histogram\":[{\"marker\":{\"pattern\":{\"fillmode\":\"overlay\",\"size\":10,\"solidity\":0.2}},\"type\":\"histogram\"}],\"scattergl\":[{\"type\":\"scattergl\",\"marker\":{\"colorbar\":{\"outlinewidth\":0,\"ticks\":\"\"}}}],\"scatter3d\":[{\"type\":\"scatter3d\",\"line\":{\"colorbar\":{\"outlinewidth\":0,\"ticks\":\"\"}},\"marker\":{\"colorbar\":{\"outlinewidth\":0,\"ticks\":\"\"}}}],\"scattermapbox\":[{\"type\":\"scattermapbox\",\"marker\":{\"colorbar\":{\"outlinewidth\":0,\"ticks\":\"\"}}}],\"scatterternary\":[{\"type\":\"scatterternary\",\"marker\":{\"colorbar\":{\"outlinewidth\":0,\"ticks\":\"\"}}}],\"scattercarpet\":[{\"type\":\"scattercarpet\",\"marker\":{\"colorbar\":{\"outlinewidth\":0,\"ticks\":\"\"}}}],\"carpet\":[{\"aaxis\":{\"endlinecolor\":\"#2a3f5f\",\"gridcolor\":\"white\",\"linecolor\":\"white\",\"minorgridcolor\":\"white\",\"startlinecolor\":\"#2a3f5f\"},\"baxis\":{\"endlinecolor\":\"#2a3f5f\",\"gridcolor\":\"white\",\"linecolor\":\"white\",\"minorgridcolor\":\"white\",\"startlinecolor\":\"#2a3f5f\"},\"type\":\"carpet\"}],\"table\":[{\"cells\":{\"fill\":{\"color\":\"#EBF0F8\"},\"line\":{\"color\":\"white\"}},\"header\":{\"fill\":{\"color\":\"#C8D4E3\"},\"line\":{\"color\":\"white\"}},\"type\":\"table\"}],\"barpolar\":[{\"marker\":{\"line\":{\"color\":\"#E5ECF6\",\"width\":0.5},\"pattern\":{\"fillmode\":\"overlay\",\"size\":10,\"solidity\":0.2}},\"type\":\"barpolar\"}],\"pie\":[{\"automargin\":true,\"type\":\"pie\"}]},\"layout\":{\"autotypenumbers\":\"strict\",\"colorway\":[\"#636efa\",\"#EF553B\",\"#00cc96\",\"#ab63fa\",\"#FFA15A\",\"#19d3f3\",\"#FF6692\",\"#B6E880\",\"#FF97FF\",\"#FECB52\"],\"font\":{\"color\":\"#2a3f5f\"},\"hovermode\":\"closest\",\"hoverlabel\":{\"align\":\"left\"},\"paper_bgcolor\":\"white\",\"plot_bgcolor\":\"#E5ECF6\",\"polar\":{\"bgcolor\":\"#E5ECF6\",\"angularaxis\":{\"gridcolor\":\"white\",\"linecolor\":\"white\",\"ticks\":\"\"},\"radialaxis\":{\"gridcolor\":\"white\",\"linecolor\":\"white\",\"ticks\":\"\"}},\"ternary\":{\"bgcolor\":\"#E5ECF6\",\"aaxis\":{\"gridcolor\":\"white\",\"linecolor\":\"white\",\"ticks\":\"\"},\"baxis\":{\"gridcolor\":\"white\",\"linecolor\":\"white\",\"ticks\":\"\"},\"caxis\":{\"gridcolor\":\"white\",\"linecolor\":\"white\",\"ticks\":\"\"}},\"coloraxis\":{\"colorbar\":{\"outlinewidth\":0,\"ticks\":\"\"}},\"colorscale\":{\"sequential\":[[0.0,\"#0d0887\"],[0.1111111111111111,\"#46039f\"],[0.2222222222222222,\"#7201a8\"],[0.3333333333333333,\"#9c179e\"],[0.4444444444444444,\"#bd3786\"],[0.5555555555555556,\"#d8576b\"],[0.6666666666666666,\"#ed7953\"],[0.7777777777777778,\"#fb9f3a\"],[0.8888888888888888,\"#fdca26\"],[1.0,\"#f0f921\"]],\"sequentialminus\":[[0.0,\"#0d0887\"],[0.1111111111111111,\"#46039f\"],[0.2222222222222222,\"#7201a8\"],[0.3333333333333333,\"#9c179e\"],[0.4444444444444444,\"#bd3786\"],[0.5555555555555556,\"#d8576b\"],[0.6666666666666666,\"#ed7953\"],[0.7777777777777778,\"#fb9f3a\"],[0.8888888888888888,\"#fdca26\"],[1.0,\"#f0f921\"]],\"diverging\":[[0,\"#8e0152\"],[0.1,\"#c51b7d\"],[0.2,\"#de77ae\"],[0.3,\"#f1b6da\"],[0.4,\"#fde0ef\"],[0.5,\"#f7f7f7\"],[0.6,\"#e6f5d0\"],[0.7,\"#b8e186\"],[0.8,\"#7fbc41\"],[0.9,\"#4d9221\"],[1,\"#276419\"]]},\"xaxis\":{\"gridcolor\":\"white\",\"linecolor\":\"white\",\"ticks\":\"\",\"title\":{\"standoff\":15},\"zerolinecolor\":\"white\",\"automargin\":true,\"zerolinewidth\":2},\"yaxis\":{\"gridcolor\":\"white\",\"linecolor\":\"white\",\"ticks\":\"\",\"title\":{\"standoff\":15},\"zerolinecolor\":\"white\",\"automargin\":true,\"zerolinewidth\":2},\"scene\":{\"xaxis\":{\"backgroundcolor\":\"#E5ECF6\",\"gridcolor\":\"white\",\"linecolor\":\"white\",\"showbackground\":true,\"ticks\":\"\",\"zerolinecolor\":\"white\",\"gridwidth\":2},\"yaxis\":{\"backgroundcolor\":\"#E5ECF6\",\"gridcolor\":\"white\",\"linecolor\":\"white\",\"showbackground\":true,\"ticks\":\"\",\"zerolinecolor\":\"white\",\"gridwidth\":2},\"zaxis\":{\"backgroundcolor\":\"#E5ECF6\",\"gridcolor\":\"white\",\"linecolor\":\"white\",\"showbackground\":true,\"ticks\":\"\",\"zerolinecolor\":\"white\",\"gridwidth\":2}},\"shapedefaults\":{\"line\":{\"color\":\"#2a3f5f\"}},\"annotationdefaults\":{\"arrowcolor\":\"#2a3f5f\",\"arrowhead\":0,\"arrowwidth\":1},\"geo\":{\"bgcolor\":\"white\",\"landcolor\":\"#E5ECF6\",\"subunitcolor\":\"white\",\"showland\":true,\"showlakes\":true,\"lakecolor\":\"white\"},\"title\":{\"x\":0.05},\"mapbox\":{\"style\":\"light\"}}},\"xaxis\":{\"anchor\":\"y\",\"domain\":[0.0,1.0],\"scaleanchor\":\"y\",\"constrain\":\"domain\",\"title\":{\"text\":\"Head\"}},\"yaxis\":{\"anchor\":\"x\",\"domain\":[0.0,1.0],\"autorange\":\"reversed\",\"constrain\":\"domain\",\"title\":{\"text\":\"Layer\"}},\"coloraxis\":{\"colorscale\":[[0.0,\"rgb(103,0,31)\"],[0.1,\"rgb(178,24,43)\"],[0.2,\"rgb(214,96,77)\"],[0.3,\"rgb(244,165,130)\"],[0.4,\"rgb(253,219,199)\"],[0.5,\"rgb(247,247,247)\"],[0.6,\"rgb(209,229,240)\"],[0.7,\"rgb(146,197,222)\"],[0.8,\"rgb(67,147,195)\"],[0.9,\"rgb(33,102,172)\"],[1.0,\"rgb(5,48,97)\"]],\"cmid\":0.0},\"title\":{\"text\":\"Logit Difference From Each Head - rel names distr\"}},                        {\"responsive\": true}                    ).then(function(){\n",
       "                            \n",
       "var gd = document.getElementById('04a6f6f8-67f5-4695-89cd-bb0be1bb4b54');\n",
       "var x = new MutationObserver(function (mutations, observer) {{\n",
       "        var display = window.getComputedStyle(gd).display;\n",
       "        if (!display || display === 'none') {{\n",
       "            console.log([gd, 'removed!']);\n",
       "            Plotly.purge(gd);\n",
       "            observer.disconnect();\n",
       "        }}\n",
       "}});\n",
       "\n",
       "// Listen for the removal of the full notebook cells\n",
       "var notebookContainer = gd.closest('#notebook-container');\n",
       "if (notebookContainer) {{\n",
       "    x.observe(notebookContainer, {childList: true});\n",
       "}}\n",
       "\n",
       "// Listen for the clearing of the current output cell\n",
       "var outputEl = gd.closest('.output');\n",
       "if (outputEl) {{\n",
       "    x.observe(outputEl, {childList: true});\n",
       "}}\n",
       "\n",
       "                        })                };                });            </script>        </div>"
      ]
     },
     "metadata": {},
     "output_type": "display_data"
    },
    {
     "name": "stdout",
     "output_type": "stream",
     "text": [
      "Answer residual directions shape: torch.Size([20, 2, 768])\n",
      "Logit difference directions shape: torch.Size([20, 768])\n",
      "Tried to stack head results when they weren't cached. Computing head results now\n"
     ]
    },
    {
     "data": {
      "text/html": [
       "<div>                            <div id=\"1949b814-9ec2-4685-862b-0590c5685fda\" class=\"plotly-graph-div\" style=\"height:525px; width:100%;\"></div>            <script type=\"text/javascript\">                require([\"plotly\"], function(Plotly) {                    window.PLOTLYENV=window.PLOTLYENV || {};                                    if (document.getElementById(\"1949b814-9ec2-4685-862b-0590c5685fda\")) {                    Plotly.newPlot(                        \"1949b814-9ec2-4685-862b-0590c5685fda\",                        [{\"coloraxis\":\"coloraxis\",\"name\":\"0\",\"z\":[[-0.0007809585658833385,6.303549889707938e-05,-0.0006138435564935207,-0.00032692161039449275,-0.0006032793899066746,0.00021536581334657967,-0.003839233424514532,-0.0005376738263294101,0.000256315222941339,0.00027969159418717027,-0.0005077897803857923,-0.00020246868371032178],[-0.0005614900146611035,-0.0004796268476638943,0.00017115463560912758,0.0005340891657397151,-0.0007081949152052402,0.0001738165010465309,-0.0007675520027987659,-0.0032121625263243914,0.0015631348360329866,0.0006968801026232541,4.269663622835651e-05,0.0006342663546092808],[-0.00017872457101475447,-0.0013342360034585,-5.674700878444128e-05,0.0003905865887645632,4.017711034975946e-05,-0.00033713626908138394,0.00031531797139905393,0.0021751229651272297,-1.0762421425170032e-06,-0.0007706566248089075,-0.0002875050122383982,0.00014187098713591695],[1.1822849046438932e-05,-0.0003339453833177686,-0.00019280487322248518,-4.383640407468192e-05,8.142314618453383e-05,-0.0006437090924009681,-0.0010774916736409068,-0.00036738693597726524,-0.0002579569409135729,-0.0003003041201736778,0.0003469076764304191,0.00030428156605921686],[0.0005007517756894231,-0.0001509586872998625,4.214908040012233e-05,-0.0010071622673422098,0.00017212354578077793,-0.00017878305516205728,-0.0007452178397215903,0.0008376920595765114,-0.00019378375145606697,-0.00045237940503284335,0.00013184570707380772,-0.00038993346970528364],[-0.00016199194942601025,3.523063423926942e-05,-0.0003359256952535361,0.0005250336253084242,0.00032702245516702533,-0.0005899713141843677,0.00018635399464983493,-0.0006443639285862446,-0.00013979888171888888,-3.4454569686204195e-06,-0.0017294296994805336,0.0009242965606972575],[-0.0005287883104756474,-0.00025877502048388124,0.0005620073643513024,0.0008272443083114922,-0.00309985619969666,0.000767833786085248,0.00141892209649086,-0.0014030174352228642,-0.0003965221403632313,-0.0007913564331829548,-1.5294781405827962e-05,-9.578296157997102e-05],[-9.232213051291183e-05,-0.0006692814058624208,-0.00014917601947672665,0.013929557986557484,0.00013287103502079844,-0.002649384317919612,-0.0007827747613191605,-0.0013404202181845903,-0.001699840067885816,0.02649855986237526,-0.0004756975395139307,-0.0021099948789924383],[0.0005317210452631116,-0.00028299452969804406,-0.024310410022735596,0.00024035289243329316,1.3901362763135694e-05,-0.0015678433701395988,-0.04048839956521988,0.00022132442973088473,-0.007852143608033657,0.0002678526216186583,0.05463303253054619,0.002955433214083314],[0.013286950998008251,-0.00025563337840139866,0.006177685689181089,-0.0013178387889638543,-0.0031393556855618954,0.011475480161607265,0.2141036093235016,0.06337867677211761,0.02547641657292843,0.4029918313026428,-9.362650598632172e-05,-0.002058187499642372],[0.25216999650001526,0.022988909855484962,0.008042228408157825,0.01672494038939476,-0.0019293682416900992,0.0003580879420042038,0.047836948186159134,-0.15336374938488007,-0.0006227625999599695,0.0014025082346051931,0.12673386931419373,0.00011526276648510247],[0.00747582595795393,0.0008759456686675549,-0.1489836722612381,0.0022988796699792147,-0.0007157609215937555,-0.0014962127897888422,-0.0057728779502213,-0.001626274548470974,0.006579013075679541,-0.0007621068507432938,-0.12591353058815002,0.0022137195337563753]],\"type\":\"heatmap\",\"xaxis\":\"x\",\"yaxis\":\"y\",\"hovertemplate\":\"Head: %{x}<br>Layer: %{y}<br>color: %{z}<extra></extra>\"}],                        {\"template\":{\"data\":{\"histogram2dcontour\":[{\"type\":\"histogram2dcontour\",\"colorbar\":{\"outlinewidth\":0,\"ticks\":\"\"},\"colorscale\":[[0.0,\"#0d0887\"],[0.1111111111111111,\"#46039f\"],[0.2222222222222222,\"#7201a8\"],[0.3333333333333333,\"#9c179e\"],[0.4444444444444444,\"#bd3786\"],[0.5555555555555556,\"#d8576b\"],[0.6666666666666666,\"#ed7953\"],[0.7777777777777778,\"#fb9f3a\"],[0.8888888888888888,\"#fdca26\"],[1.0,\"#f0f921\"]]}],\"choropleth\":[{\"type\":\"choropleth\",\"colorbar\":{\"outlinewidth\":0,\"ticks\":\"\"}}],\"histogram2d\":[{\"type\":\"histogram2d\",\"colorbar\":{\"outlinewidth\":0,\"ticks\":\"\"},\"colorscale\":[[0.0,\"#0d0887\"],[0.1111111111111111,\"#46039f\"],[0.2222222222222222,\"#7201a8\"],[0.3333333333333333,\"#9c179e\"],[0.4444444444444444,\"#bd3786\"],[0.5555555555555556,\"#d8576b\"],[0.6666666666666666,\"#ed7953\"],[0.7777777777777778,\"#fb9f3a\"],[0.8888888888888888,\"#fdca26\"],[1.0,\"#f0f921\"]]}],\"heatmap\":[{\"type\":\"heatmap\",\"colorbar\":{\"outlinewidth\":0,\"ticks\":\"\"},\"colorscale\":[[0.0,\"#0d0887\"],[0.1111111111111111,\"#46039f\"],[0.2222222222222222,\"#7201a8\"],[0.3333333333333333,\"#9c179e\"],[0.4444444444444444,\"#bd3786\"],[0.5555555555555556,\"#d8576b\"],[0.6666666666666666,\"#ed7953\"],[0.7777777777777778,\"#fb9f3a\"],[0.8888888888888888,\"#fdca26\"],[1.0,\"#f0f921\"]]}],\"heatmapgl\":[{\"type\":\"heatmapgl\",\"colorbar\":{\"outlinewidth\":0,\"ticks\":\"\"},\"colorscale\":[[0.0,\"#0d0887\"],[0.1111111111111111,\"#46039f\"],[0.2222222222222222,\"#7201a8\"],[0.3333333333333333,\"#9c179e\"],[0.4444444444444444,\"#bd3786\"],[0.5555555555555556,\"#d8576b\"],[0.6666666666666666,\"#ed7953\"],[0.7777777777777778,\"#fb9f3a\"],[0.8888888888888888,\"#fdca26\"],[1.0,\"#f0f921\"]]}],\"contourcarpet\":[{\"type\":\"contourcarpet\",\"colorbar\":{\"outlinewidth\":0,\"ticks\":\"\"}}],\"contour\":[{\"type\":\"contour\",\"colorbar\":{\"outlinewidth\":0,\"ticks\":\"\"},\"colorscale\":[[0.0,\"#0d0887\"],[0.1111111111111111,\"#46039f\"],[0.2222222222222222,\"#7201a8\"],[0.3333333333333333,\"#9c179e\"],[0.4444444444444444,\"#bd3786\"],[0.5555555555555556,\"#d8576b\"],[0.6666666666666666,\"#ed7953\"],[0.7777777777777778,\"#fb9f3a\"],[0.8888888888888888,\"#fdca26\"],[1.0,\"#f0f921\"]]}],\"surface\":[{\"type\":\"surface\",\"colorbar\":{\"outlinewidth\":0,\"ticks\":\"\"},\"colorscale\":[[0.0,\"#0d0887\"],[0.1111111111111111,\"#46039f\"],[0.2222222222222222,\"#7201a8\"],[0.3333333333333333,\"#9c179e\"],[0.4444444444444444,\"#bd3786\"],[0.5555555555555556,\"#d8576b\"],[0.6666666666666666,\"#ed7953\"],[0.7777777777777778,\"#fb9f3a\"],[0.8888888888888888,\"#fdca26\"],[1.0,\"#f0f921\"]]}],\"mesh3d\":[{\"type\":\"mesh3d\",\"colorbar\":{\"outlinewidth\":0,\"ticks\":\"\"}}],\"scatter\":[{\"fillpattern\":{\"fillmode\":\"overlay\",\"size\":10,\"solidity\":0.2},\"type\":\"scatter\"}],\"parcoords\":[{\"type\":\"parcoords\",\"line\":{\"colorbar\":{\"outlinewidth\":0,\"ticks\":\"\"}}}],\"scatterpolargl\":[{\"type\":\"scatterpolargl\",\"marker\":{\"colorbar\":{\"outlinewidth\":0,\"ticks\":\"\"}}}],\"bar\":[{\"error_x\":{\"color\":\"#2a3f5f\"},\"error_y\":{\"color\":\"#2a3f5f\"},\"marker\":{\"line\":{\"color\":\"#E5ECF6\",\"width\":0.5},\"pattern\":{\"fillmode\":\"overlay\",\"size\":10,\"solidity\":0.2}},\"type\":\"bar\"}],\"scattergeo\":[{\"type\":\"scattergeo\",\"marker\":{\"colorbar\":{\"outlinewidth\":0,\"ticks\":\"\"}}}],\"scatterpolar\":[{\"type\":\"scatterpolar\",\"marker\":{\"colorbar\":{\"outlinewidth\":0,\"ticks\":\"\"}}}],\"histogram\":[{\"marker\":{\"pattern\":{\"fillmode\":\"overlay\",\"size\":10,\"solidity\":0.2}},\"type\":\"histogram\"}],\"scattergl\":[{\"type\":\"scattergl\",\"marker\":{\"colorbar\":{\"outlinewidth\":0,\"ticks\":\"\"}}}],\"scatter3d\":[{\"type\":\"scatter3d\",\"line\":{\"colorbar\":{\"outlinewidth\":0,\"ticks\":\"\"}},\"marker\":{\"colorbar\":{\"outlinewidth\":0,\"ticks\":\"\"}}}],\"scattermapbox\":[{\"type\":\"scattermapbox\",\"marker\":{\"colorbar\":{\"outlinewidth\":0,\"ticks\":\"\"}}}],\"scatterternary\":[{\"type\":\"scatterternary\",\"marker\":{\"colorbar\":{\"outlinewidth\":0,\"ticks\":\"\"}}}],\"scattercarpet\":[{\"type\":\"scattercarpet\",\"marker\":{\"colorbar\":{\"outlinewidth\":0,\"ticks\":\"\"}}}],\"carpet\":[{\"aaxis\":{\"endlinecolor\":\"#2a3f5f\",\"gridcolor\":\"white\",\"linecolor\":\"white\",\"minorgridcolor\":\"white\",\"startlinecolor\":\"#2a3f5f\"},\"baxis\":{\"endlinecolor\":\"#2a3f5f\",\"gridcolor\":\"white\",\"linecolor\":\"white\",\"minorgridcolor\":\"white\",\"startlinecolor\":\"#2a3f5f\"},\"type\":\"carpet\"}],\"table\":[{\"cells\":{\"fill\":{\"color\":\"#EBF0F8\"},\"line\":{\"color\":\"white\"}},\"header\":{\"fill\":{\"color\":\"#C8D4E3\"},\"line\":{\"color\":\"white\"}},\"type\":\"table\"}],\"barpolar\":[{\"marker\":{\"line\":{\"color\":\"#E5ECF6\",\"width\":0.5},\"pattern\":{\"fillmode\":\"overlay\",\"size\":10,\"solidity\":0.2}},\"type\":\"barpolar\"}],\"pie\":[{\"automargin\":true,\"type\":\"pie\"}]},\"layout\":{\"autotypenumbers\":\"strict\",\"colorway\":[\"#636efa\",\"#EF553B\",\"#00cc96\",\"#ab63fa\",\"#FFA15A\",\"#19d3f3\",\"#FF6692\",\"#B6E880\",\"#FF97FF\",\"#FECB52\"],\"font\":{\"color\":\"#2a3f5f\"},\"hovermode\":\"closest\",\"hoverlabel\":{\"align\":\"left\"},\"paper_bgcolor\":\"white\",\"plot_bgcolor\":\"#E5ECF6\",\"polar\":{\"bgcolor\":\"#E5ECF6\",\"angularaxis\":{\"gridcolor\":\"white\",\"linecolor\":\"white\",\"ticks\":\"\"},\"radialaxis\":{\"gridcolor\":\"white\",\"linecolor\":\"white\",\"ticks\":\"\"}},\"ternary\":{\"bgcolor\":\"#E5ECF6\",\"aaxis\":{\"gridcolor\":\"white\",\"linecolor\":\"white\",\"ticks\":\"\"},\"baxis\":{\"gridcolor\":\"white\",\"linecolor\":\"white\",\"ticks\":\"\"},\"caxis\":{\"gridcolor\":\"white\",\"linecolor\":\"white\",\"ticks\":\"\"}},\"coloraxis\":{\"colorbar\":{\"outlinewidth\":0,\"ticks\":\"\"}},\"colorscale\":{\"sequential\":[[0.0,\"#0d0887\"],[0.1111111111111111,\"#46039f\"],[0.2222222222222222,\"#7201a8\"],[0.3333333333333333,\"#9c179e\"],[0.4444444444444444,\"#bd3786\"],[0.5555555555555556,\"#d8576b\"],[0.6666666666666666,\"#ed7953\"],[0.7777777777777778,\"#fb9f3a\"],[0.8888888888888888,\"#fdca26\"],[1.0,\"#f0f921\"]],\"sequentialminus\":[[0.0,\"#0d0887\"],[0.1111111111111111,\"#46039f\"],[0.2222222222222222,\"#7201a8\"],[0.3333333333333333,\"#9c179e\"],[0.4444444444444444,\"#bd3786\"],[0.5555555555555556,\"#d8576b\"],[0.6666666666666666,\"#ed7953\"],[0.7777777777777778,\"#fb9f3a\"],[0.8888888888888888,\"#fdca26\"],[1.0,\"#f0f921\"]],\"diverging\":[[0,\"#8e0152\"],[0.1,\"#c51b7d\"],[0.2,\"#de77ae\"],[0.3,\"#f1b6da\"],[0.4,\"#fde0ef\"],[0.5,\"#f7f7f7\"],[0.6,\"#e6f5d0\"],[0.7,\"#b8e186\"],[0.8,\"#7fbc41\"],[0.9,\"#4d9221\"],[1,\"#276419\"]]},\"xaxis\":{\"gridcolor\":\"white\",\"linecolor\":\"white\",\"ticks\":\"\",\"title\":{\"standoff\":15},\"zerolinecolor\":\"white\",\"automargin\":true,\"zerolinewidth\":2},\"yaxis\":{\"gridcolor\":\"white\",\"linecolor\":\"white\",\"ticks\":\"\",\"title\":{\"standoff\":15},\"zerolinecolor\":\"white\",\"automargin\":true,\"zerolinewidth\":2},\"scene\":{\"xaxis\":{\"backgroundcolor\":\"#E5ECF6\",\"gridcolor\":\"white\",\"linecolor\":\"white\",\"showbackground\":true,\"ticks\":\"\",\"zerolinecolor\":\"white\",\"gridwidth\":2},\"yaxis\":{\"backgroundcolor\":\"#E5ECF6\",\"gridcolor\":\"white\",\"linecolor\":\"white\",\"showbackground\":true,\"ticks\":\"\",\"zerolinecolor\":\"white\",\"gridwidth\":2},\"zaxis\":{\"backgroundcolor\":\"#E5ECF6\",\"gridcolor\":\"white\",\"linecolor\":\"white\",\"showbackground\":true,\"ticks\":\"\",\"zerolinecolor\":\"white\",\"gridwidth\":2}},\"shapedefaults\":{\"line\":{\"color\":\"#2a3f5f\"}},\"annotationdefaults\":{\"arrowcolor\":\"#2a3f5f\",\"arrowhead\":0,\"arrowwidth\":1},\"geo\":{\"bgcolor\":\"white\",\"landcolor\":\"#E5ECF6\",\"subunitcolor\":\"white\",\"showland\":true,\"showlakes\":true,\"lakecolor\":\"white\"},\"title\":{\"x\":0.05},\"mapbox\":{\"style\":\"light\"}}},\"xaxis\":{\"anchor\":\"y\",\"domain\":[0.0,1.0],\"scaleanchor\":\"y\",\"constrain\":\"domain\",\"title\":{\"text\":\"Head\"}},\"yaxis\":{\"anchor\":\"x\",\"domain\":[0.0,1.0],\"autorange\":\"reversed\",\"constrain\":\"domain\",\"title\":{\"text\":\"Layer\"}},\"coloraxis\":{\"colorscale\":[[0.0,\"rgb(103,0,31)\"],[0.1,\"rgb(178,24,43)\"],[0.2,\"rgb(214,96,77)\"],[0.3,\"rgb(244,165,130)\"],[0.4,\"rgb(253,219,199)\"],[0.5,\"rgb(247,247,247)\"],[0.6,\"rgb(209,229,240)\"],[0.7,\"rgb(146,197,222)\"],[0.8,\"rgb(67,147,195)\"],[0.9,\"rgb(33,102,172)\"],[1.0,\"rgb(5,48,97)\"]],\"cmid\":0.0},\"title\":{\"text\":\"Logit Difference From Each Head - place names distr\"}},                        {\"responsive\": true}                    ).then(function(){\n",
       "                            \n",
       "var gd = document.getElementById('1949b814-9ec2-4685-862b-0590c5685fda');\n",
       "var x = new MutationObserver(function (mutations, observer) {{\n",
       "        var display = window.getComputedStyle(gd).display;\n",
       "        if (!display || display === 'none') {{\n",
       "            console.log([gd, 'removed!']);\n",
       "            Plotly.purge(gd);\n",
       "            observer.disconnect();\n",
       "        }}\n",
       "}});\n",
       "\n",
       "// Listen for the removal of the full notebook cells\n",
       "var notebookContainer = gd.closest('#notebook-container');\n",
       "if (notebookContainer) {{\n",
       "    x.observe(notebookContainer, {childList: true});\n",
       "}}\n",
       "\n",
       "// Listen for the clearing of the current output cell\n",
       "var outputEl = gd.closest('.output');\n",
       "if (outputEl) {{\n",
       "    x.observe(outputEl, {childList: true});\n",
       "}}\n",
       "\n",
       "                        })                };                });            </script>        </div>"
      ]
     },
     "metadata": {},
     "output_type": "display_data"
    }
   ],
   "source": [
    "answer_tokens = ans_toks_n\n",
    "cache = noun_cache\n",
    "logit_diff_dirs = get_IOI_dir(answer_tokens)\n",
    "imshow(get_per_head_logit_diffs(cache, logit_diff_dirs), labels={\"x\":\"Head\", \"y\":\"Layer\"}, title=\"Logit Difference From Each Head - nouns distr\")\n",
    "\n",
    "answer_tokens = ans_toks_rel\n",
    "cache = rel_cache\n",
    "logit_diff_dirs = get_IOI_dir(answer_tokens)\n",
    "imshow(get_per_head_logit_diffs(cache, logit_diff_dirs), labels={\"x\":\"Head\", \"y\":\"Layer\"}, title=\"Logit Difference From Each Head - rel names distr\")\n",
    "\n",
    "answer_tokens = ans_toks_pl\n",
    "cache = pl_cache\n",
    "logit_diff_dirs = get_IOI_dir(answer_tokens)\n",
    "imshow(get_per_head_logit_diffs(cache, logit_diff_dirs), labels={\"x\":\"Head\", \"y\":\"Layer\"}, title=\"Logit Difference From Each Head - place names distr\")"
   ]
  },
  {
   "cell_type": "code",
   "execution_count": 23,
   "metadata": {},
   "outputs": [],
   "source": [
    "lh_backup = [[10,10],[10,6],[10,2],[10,1],[11,2],[11,9],[9,0],[9,7]]\n",
    "lh_list_pos = [[9,6],[9,9], [10,0]]\n",
    "lh_list_neg = [[10,7], [11,10]]"
   ]
  },
  {
   "cell_type": "code",
   "execution_count": null,
   "metadata": {},
   "outputs": [],
   "source": [
    "def visualize_attention_patterns(\n",
    "    heads, \n",
    "    local_cache, \n",
    "    local_tokens, \n",
    "    title: str=\"\"):\n",
    "    # Heads are given as a list of integers or a single integer in [0, n_layers * n_heads)\n",
    "    if isinstance(heads, int):\n",
    "        heads = [heads]\n",
    "    elif isinstance(heads, list) or isinstance(heads, t.Tensor):\n",
    "        heads = utils.to_numpy(heads)\n",
    "    # Cache defaults to the original activation cache\n",
    "    if local_cache is None:\n",
    "        local_cache = cache\n",
    "    # Tokens defaults to the tokenization of the first prompt (including the BOS token)\n",
    "    # if local_tokens is None:\n",
    "    #     # The tokens of the first prompt\n",
    "    #     local_tokens = tokens[0]\n",
    "    \n",
    "    labels = []\n",
    "    patterns = []\n",
    "    batch_index = 0\n",
    "    for head in heads:\n",
    "        layer = head // model.cfg.n_heads\n",
    "        head_index = head % model.cfg.n_heads\n",
    "        # Get the attention patterns for the head\n",
    "        # Attention patterns have shape [batch, head_index, query_pos, key_pos]\n",
    "        patterns.append(local_cache[\"attn\", layer][batch_index, head_index])\n",
    "        labels.append(f\"L{layer}H{head_index}\")\n",
    "    str_tokens = model.to_str_tokens(local_tokens)\n",
    "    patterns = t.stack(patterns, dim=-1)\n",
    "    # Plot the attention patterns\n",
    "    attention_vis = pysvelte.AttentionMulti(attention=patterns, tokens=str_tokens, head_labels=labels)\n",
    "    display(HTML(f\"<h3>{title}</h3>\"))\n",
    "    attention_vis.show()"
   ]
  },
  {
   "cell_type": "code",
   "execution_count": 87,
   "metadata": {},
   "outputs": [
    {
     "name": "stdout",
     "output_type": "stream",
     "text": [
      "Answer residual directions shape: torch.Size([20, 2, 768])\n",
      "Logit difference directions shape: torch.Size([20, 768])\n"
     ]
    },
    {
     "data": {
      "text/plain": [
       "tensor([117, 114, 120])"
      ]
     },
     "execution_count": 87,
     "metadata": {},
     "output_type": "execute_result"
    }
   ],
   "source": [
    "\n",
    "top_k = 3\n",
    "\n",
    "answer_tokens = ans_toks_pn\n",
    "cache = pnoun_cache\n",
    "logit_diff_dirs = get_IOI_dir(answer_tokens)\n",
    "       \n",
    "top_positive_logit_attr_heads = t.topk(get_per_head_logit_diffs(cache, logit_diff_dirs).flatten(), k=top_k).indices\n",
    "#visualize_attention_patterns(top_positive_logit_attr_heads, title=f\"Top {top_k} Positive Logit Attribution Heads\")\n",
    "# top_negative_logit_attr_heads = torch.topk(-per_head_logit_diffs.flatten(), k=top_k).indices\n",
    "# visualize_attention_patterns(top_negative_logit_attr_heads, title=f\"Top {top_k} Negative Logit Attribution Heads\")\n",
    "\n",
    "# print(\"Layer 9 Head Attention Patterns:\")\n",
    "# display(cv.attention.attention_patterns(tokens=model.to_str_tokens(noun_tokens[10]), attention= noun_cache[\"pattern\", 1][10]))\n",
    "\n",
    "top_positive_logit_attr_heads"
   ]
  },
  {
   "cell_type": "code",
   "execution_count": 104,
   "metadata": {},
   "outputs": [],
   "source": [
    "def imshow(tensor, renderer=None, xaxis=\"\", yaxis=\"\", **kwargs):\n",
    "    px.imshow(utils.to_numpy(tensor), color_continuous_midpoint=0.0, color_continuous_scale=\"RdBu\", labels={\"x\":xaxis, \"y\":yaxis}, **kwargs).show(renderer)\n",
    "\n",
    "def line(tensor, renderer=None, xaxis=\"\", yaxis=\"\", **kwargs):\n",
    "    px.line(utils.to_numpy(tensor), labels={\"x\":xaxis, \"y\":yaxis}, **kwargs).show(renderer)\n",
    "\n",
    "def scatter(x, y, xaxis=\"\", yaxis=\"\", caxis=\"\", renderer=None, **kwargs):\n",
    "    x = utils.to_numpy(x)\n",
    "    y = utils.to_numpy(y)\n",
    "    px.scatter(y=y, x=x, labels={\"x\":xaxis, \"y\":yaxis, \"color\":caxis}, **kwargs).show(renderer)"
   ]
  },
  {
   "cell_type": "code",
   "execution_count": 122,
   "metadata": {},
   "outputs": [
    {
     "data": {
      "text/plain": [
       "['<|endoftext|>',\n",
       " 'When',\n",
       " ' statue',\n",
       " ' and',\n",
       " ' chair',\n",
       " ' went',\n",
       " ' to',\n",
       " ' the',\n",
       " ' shops',\n",
       " ',',\n",
       " ' chair',\n",
       " ' gave',\n",
       " ' the',\n",
       " ' bag',\n",
       " ' to']"
      ]
     },
     "execution_count": 122,
     "metadata": {},
     "output_type": "execute_result"
    }
   ],
   "source": [
    "model.to_str_tokens(prompts_n[0])"
   ]
  },
  {
   "cell_type": "code",
   "execution_count": 154,
   "metadata": {},
   "outputs": [
    {
     "name": "stdout",
     "output_type": "stream",
     "text": [
      "torch.Size([3, 20, 15, 15])\n"
     ]
    },
    {
     "data": {
      "text/html": [
       "<div>                            <div id=\"bc9976a8-18d2-4bb4-b5ea-22857a5ffcd3\" class=\"plotly-graph-div\" style=\"height:525px; width:100%;\"></div>            <script type=\"text/javascript\">                require([\"plotly\"], function(Plotly) {                    window.PLOTLYENV=window.PLOTLYENV || {};                                    if (document.getElementById(\"bc9976a8-18d2-4bb4-b5ea-22857a5ffcd3\")) {                    Plotly.newPlot(                        \"bc9976a8-18d2-4bb4-b5ea-22857a5ffcd3\",                        [{\"coloraxis\":\"coloraxis\",\"name\":\"0\",\"x\":[\"<|endoftext|>\",\"When\",\" statue\",\" and\",\" chair\",\" went\",\" to\",\" the\",\" shops\",\",\",\" chair\",\" gave\",\" the\",\" bag\",\" to\"],\"y\":[\"<|endoftext|>\",\"When\",\" statue\",\" and\",\" chair\",\" went\",\" to\",\" the\",\" shops\",\",\",\" chair\",\" gave\",\" the\",\" bag\",\" to\"],\"z\":[[1.0,0.0,0.0,0.0,0.0,0.0,0.0,0.0,0.0,0.0,0.0,0.0,0.0,0.0,0.0],[0.9985043406486511,0.0014959131367504597,0.0,0.0,0.0,0.0,0.0,0.0,0.0,0.0,0.0,0.0,0.0,0.0,0.0],[0.9933711886405945,0.0014616044936701655,0.005167239345610142,0.0,0.0,0.0,0.0,0.0,0.0,0.0,0.0,0.0,0.0,0.0,0.0],[0.9637773633003235,0.0010437053861096501,0.03114314004778862,0.00403582165017724,0.0,0.0,0.0,0.0,0.0,0.0,0.0,0.0,0.0,0.0,0.0],[0.9701038599014282,0.002333205658942461,0.014585872180759907,0.0021324441768229008,0.01084478385746479,0.0,0.0,0.0,0.0,0.0,0.0,0.0,0.0,0.0,0.0],[0.9720737338066101,0.002556524006649852,0.006394627038389444,0.0012126535875722766,0.0066483356058597565,0.01111396960914135,0.0,0.0,0.0,0.0,0.0,0.0,0.0,0.0,0.0],[0.9525120854377747,0.002995043061673641,0.014361677691340446,0.0008217456634156406,0.0175430066883564,0.003467333735898137,0.008299106732010841,0.0,0.0,0.0,0.0,0.0,0.0,0.0,0.0],[0.964865505695343,0.0016067549586296082,0.009501063264906406,0.0006336416117846966,0.01851286180317402,0.0009418648551218212,0.002907669637352228,0.0010306084295734763,0.0,0.0,0.0,0.0,0.0,0.0,0.0],[0.9620221257209778,0.013363616541028023,0.002850575838238001,0.0007369474624283612,0.0030570910312235355,0.001146300113759935,0.004910462535917759,0.001280925003811717,0.010632093995809555,0.0,0.0,0.0,0.0,0.0,0.0],[0.7802901268005371,0.006101254373788834,0.08837781846523285,0.0014407641720026731,0.09629274159669876,0.0018446476897224784,0.001482250401750207,0.0008054695790633559,0.020207595080137253,0.0031572780571877956,0.0,0.0,0.0,0.0,0.0],[0.8682767748832703,0.00231699226424098,0.010823266580700874,0.00789698027074337,0.038742415606975555,0.022607337683439255,0.009731131605803967,0.0013994146138429642,0.02791857160627842,0.003703548340126872,0.006583604961633682,0.0,0.0,0.0,0.0],[0.7002272009849548,0.003621614072471857,0.08195269107818604,0.0016991185257211328,0.10521199554204941,0.0027100469451397657,0.0025686603039503098,0.00160351546946913,0.03112146258354187,0.0036058383993804455,0.05548621341586113,0.01019175536930561,0.0,0.0,0.0],[0.6175042390823364,0.0030857508536428213,0.08727078139781952,0.0019207814475521445,0.14160189032554626,0.003954710438847542,0.0020975079387426376,0.00023803289514034986,0.10182547569274902,0.0033121444284915924,0.03113512322306633,0.0034212141763418913,0.002632365096360445,0.0,0.0],[0.9119356870651245,0.0025908451061695814,0.00545629533007741,0.003060871735215187,0.022683946415781975,0.006484346929937601,0.011315110139548779,0.001980735454708338,0.012246768921613693,0.0030069267377257347,0.004783127456903458,0.002739800838753581,0.003135864157229662,0.008579649962484837,0.0],[0.5086848139762878,0.0018341118702664971,0.1152222603559494,0.0008979708654806018,0.2380308210849762,0.0010301368311047554,0.0006130997207947075,0.0009750657482072711,0.028798764571547508,0.001274471404030919,0.08416207879781723,0.0008848704164847732,0.0017116889357566833,0.015125500969588757,0.0007543256506323814]],\"type\":\"heatmap\",\"xaxis\":\"x\",\"yaxis\":\"y\",\"hovertemplate\":\"source_tok: %{x}<br>dest_tok: %{y}<br>color: %{z}<extra></extra>\"},{\"coloraxis\":\"coloraxis\",\"name\":\"1\",\"x\":[\"<|endoftext|>\",\"When\",\" statue\",\" and\",\" chair\",\" went\",\" to\",\" the\",\" shops\",\",\",\" chair\",\" gave\",\" the\",\" bag\",\" to\"],\"y\":[\"<|endoftext|>\",\"When\",\" statue\",\" and\",\" chair\",\" went\",\" to\",\" the\",\" shops\",\",\",\" chair\",\" gave\",\" the\",\" bag\",\" to\"],\"z\":[[1.0,0.0,0.0,0.0,0.0,0.0,0.0,0.0,0.0,0.0,0.0,0.0,0.0,0.0,0.0],[0.9979304075241089,0.0020696446299552917,0.0,0.0,0.0,0.0,0.0,0.0,0.0,0.0,0.0,0.0,0.0,0.0,0.0],[0.9933809041976929,0.0006632989970967174,0.005955840460956097,0.0,0.0,0.0,0.0,0.0,0.0,0.0,0.0,0.0,0.0,0.0,0.0],[0.9764074087142944,0.0008922789129428566,0.020723912864923477,0.0019762555602937937,0.0,0.0,0.0,0.0,0.0,0.0,0.0,0.0,0.0,0.0,0.0],[0.973334789276123,0.0012764978455379605,0.011017180047929287,0.0013862488558515906,0.012985211797058582,0.0,0.0,0.0,0.0,0.0,0.0,0.0,0.0,0.0,0.0],[0.984752357006073,0.0010894245933741331,0.006843161769211292,0.0005769002018496394,0.004365955013781786,0.0023722329642623663,0.0,0.0,0.0,0.0,0.0,0.0,0.0,0.0,0.0],[0.9739429354667664,0.0014056660002097487,0.005331844091415405,0.0002600962470751256,0.013406863436102867,0.0018452642252668738,0.0038072008173912764,0.0,0.0,0.0,0.0,0.0,0.0,0.0,0.0],[0.9855829477310181,0.0010946139227598906,0.0037036999128758907,0.000149124491144903,0.007878437638282776,0.00031567260157316923,0.0004638538812287152,0.0008116677636280656,0.0,0.0,0.0,0.0,0.0,0.0,0.0],[0.9901385307312012,0.0016377444844692945,0.0008841875242069364,0.00041675622924230993,0.0009447019547224045,0.0008468216983601451,0.0008882000111043453,0.00014875053602736443,0.004094387404620647,0.0,0.0,0.0,0.0,0.0,0.0],[0.8579689860343933,0.005497203674167395,0.04554533213376999,0.0012335905339568853,0.06589605659246445,0.0015626813983544707,0.0017872436437755823,0.0016552753513678908,0.013230182230472565,0.00562343979254365,0.0,0.0,0.0,0.0,0.0],[0.8873407244682312,0.0026711218524724245,0.012185215018689632,0.025645751506090164,0.035134319216012955,0.008867290802299976,0.002190366853028536,0.00046312357881106436,0.016155246645212173,0.003657601773738861,0.005689218174666166,0.0,0.0,0.0,0.0],[0.6858566999435425,0.012042004615068436,0.0850333422422409,0.0020073172636330128,0.09364109486341476,0.0034426753409206867,0.0054616075940430164,0.003018096089363098,0.03878254443407059,0.012737659737467766,0.04405101388692856,0.013925949111580849,0.0,0.0,0.0],[0.6299176216125488,0.006816658191382885,0.09279309213161469,0.0018299572402611375,0.11514141410589218,0.0026636417023837566,0.0020370662678033113,0.0008740906487219036,0.1003173440694809,0.006530307233333588,0.032227084040641785,0.00426834262907505,0.004583409987390041,0.0,0.0],[0.9006670117378235,0.0021779800299555063,0.010055044665932655,0.010779352858662605,0.02572626993060112,0.0018050053622573614,0.005883810576051474,0.0004428975225891918,0.008665261790156364,0.003735816106200218,0.005147445946931839,0.0036464326549321413,0.0010882532224059105,0.020179398357868195,0.0],[0.4976128041744232,0.006860013119876385,0.08690796792507172,0.0021052868105471134,0.2804566025733948,0.0010558770736679435,0.0018939755391329527,0.008103327825665474,0.023855458945035934,0.007023412734270096,0.05566054582595825,0.0012340883258730173,0.009598487988114357,0.014728213660418987,0.0029039878863841295]],\"type\":\"heatmap\",\"xaxis\":\"x2\",\"yaxis\":\"y2\",\"hovertemplate\":\"source_tok: %{x}<br>dest_tok: %{y}<br>color: %{z}<extra></extra>\"},{\"coloraxis\":\"coloraxis\",\"name\":\"2\",\"x\":[\"<|endoftext|>\",\"When\",\" statue\",\" and\",\" chair\",\" went\",\" to\",\" the\",\" shops\",\",\",\" chair\",\" gave\",\" the\",\" bag\",\" to\"],\"y\":[\"<|endoftext|>\",\"When\",\" statue\",\" and\",\" chair\",\" went\",\" to\",\" the\",\" shops\",\",\",\" chair\",\" gave\",\" the\",\" bag\",\" to\"],\"z\":[[1.0,0.0,0.0,0.0,0.0,0.0,0.0,0.0,0.0,0.0,0.0,0.0,0.0,0.0,0.0],[0.9776753187179565,0.022324660792946815,0.0,0.0,0.0,0.0,0.0,0.0,0.0,0.0,0.0,0.0,0.0,0.0,0.0],[0.9227086305618286,0.00917690061032772,0.06811445951461792,0.0,0.0,0.0,0.0,0.0,0.0,0.0,0.0,0.0,0.0,0.0,0.0],[0.7930556535720825,0.016373323276638985,0.12773916125297546,0.06283193826675415,0.0,0.0,0.0,0.0,0.0,0.0,0.0,0.0,0.0,0.0,0.0],[0.8299214243888855,0.01217876560986042,0.08267790079116821,0.015258674509823322,0.059963159263134,0.0,0.0,0.0,0.0,0.0,0.0,0.0,0.0,0.0,0.0],[0.9116838574409485,0.004015868064016104,0.022118238732218742,0.006564062088727951,0.045258283615112305,0.01035969890654087,0.0,0.0,0.0,0.0,0.0,0.0,0.0,0.0,0.0],[0.8081275820732117,0.012818388640880585,0.05371120572090149,0.008754742331802845,0.08751069754362106,0.016656994819641113,0.01242044847458601,0.0,0.0,0.0,0.0,0.0,0.0,0.0,0.0],[0.813103199005127,0.007763142231851816,0.05360078066587448,0.006971729453653097,0.09836895018815994,0.008388306945562363,0.0070056067779660225,0.0047982195392251015,0.0,0.0,0.0,0.0,0.0,0.0,0.0],[0.8079050779342651,0.011210084892809391,0.08117001503705978,0.003530928399413824,0.06392855942249298,0.007796593010425568,0.0018766764551401138,0.001212477101944387,0.021369488909840584,0.0,0.0,0.0,0.0,0.0,0.0],[0.43236976861953735,0.00803608912974596,0.19429588317871094,0.008458655327558517,0.2696846127510071,0.008240895345807076,0.0037126541137695312,0.003194449469447136,0.06063161417841911,0.011375321075320244,0.0,0.0,0.0,0.0,0.0],[0.7600952982902527,0.005540010519325733,0.04702078551054001,0.00721049914136529,0.07502810657024384,0.018072230741381645,0.005461926106363535,0.001554734306409955,0.048892177641391754,0.007094346918165684,0.024029847234487534,0.0,0.0,0.0,0.0],[0.4924851059913635,0.013008256442844868,0.14214050769805908,0.006501215510070324,0.20084455609321594,0.005239511374384165,0.0048948428593575954,0.0030560404993593693,0.05169118568301201,0.00919966958463192,0.06520356237888336,0.005735622253268957,0.0,0.0,0.0],[0.4469929337501526,0.00775646697729826,0.1649450808763504,0.005901927128434181,0.19238288700580597,0.007535888347774744,0.0062165348790585995,0.0017815178725868464,0.11337610334157944,0.008888018317520618,0.0381491482257843,0.003431277349591255,0.0026422315277159214,0.0,0.0],[0.8239768147468567,0.007617013994604349,0.03651270270347595,0.004242524039000273,0.0432707816362381,0.005161053501069546,0.0022685800213366747,0.0011642443714663386,0.021104037761688232,0.006948198191821575,0.024777743965387344,0.0029499190859496593,0.0015631893184036016,0.01844318024814129,0.0],[0.3562520146369934,0.015947021543979645,0.2128654271364212,0.004095910582691431,0.2473173588514328,0.004861781839281321,0.00291735609062016,0.002833886072039604,0.055662453174591064,0.00910551194101572,0.05988873168826103,0.0017210652586072683,0.0028110884595662355,0.017920825630426407,0.005799560807645321]],\"type\":\"heatmap\",\"xaxis\":\"x3\",\"yaxis\":\"y3\",\"hovertemplate\":\"source_tok: %{x}<br>dest_tok: %{y}<br>color: %{z}<extra></extra>\"}],                        {\"template\":{\"data\":{\"histogram2dcontour\":[{\"type\":\"histogram2dcontour\",\"colorbar\":{\"outlinewidth\":0,\"ticks\":\"\"},\"colorscale\":[[0.0,\"#0d0887\"],[0.1111111111111111,\"#46039f\"],[0.2222222222222222,\"#7201a8\"],[0.3333333333333333,\"#9c179e\"],[0.4444444444444444,\"#bd3786\"],[0.5555555555555556,\"#d8576b\"],[0.6666666666666666,\"#ed7953\"],[0.7777777777777778,\"#fb9f3a\"],[0.8888888888888888,\"#fdca26\"],[1.0,\"#f0f921\"]]}],\"choropleth\":[{\"type\":\"choropleth\",\"colorbar\":{\"outlinewidth\":0,\"ticks\":\"\"}}],\"histogram2d\":[{\"type\":\"histogram2d\",\"colorbar\":{\"outlinewidth\":0,\"ticks\":\"\"},\"colorscale\":[[0.0,\"#0d0887\"],[0.1111111111111111,\"#46039f\"],[0.2222222222222222,\"#7201a8\"],[0.3333333333333333,\"#9c179e\"],[0.4444444444444444,\"#bd3786\"],[0.5555555555555556,\"#d8576b\"],[0.6666666666666666,\"#ed7953\"],[0.7777777777777778,\"#fb9f3a\"],[0.8888888888888888,\"#fdca26\"],[1.0,\"#f0f921\"]]}],\"heatmap\":[{\"type\":\"heatmap\",\"colorbar\":{\"outlinewidth\":0,\"ticks\":\"\"},\"colorscale\":[[0.0,\"#0d0887\"],[0.1111111111111111,\"#46039f\"],[0.2222222222222222,\"#7201a8\"],[0.3333333333333333,\"#9c179e\"],[0.4444444444444444,\"#bd3786\"],[0.5555555555555556,\"#d8576b\"],[0.6666666666666666,\"#ed7953\"],[0.7777777777777778,\"#fb9f3a\"],[0.8888888888888888,\"#fdca26\"],[1.0,\"#f0f921\"]]}],\"heatmapgl\":[{\"type\":\"heatmapgl\",\"colorbar\":{\"outlinewidth\":0,\"ticks\":\"\"},\"colorscale\":[[0.0,\"#0d0887\"],[0.1111111111111111,\"#46039f\"],[0.2222222222222222,\"#7201a8\"],[0.3333333333333333,\"#9c179e\"],[0.4444444444444444,\"#bd3786\"],[0.5555555555555556,\"#d8576b\"],[0.6666666666666666,\"#ed7953\"],[0.7777777777777778,\"#fb9f3a\"],[0.8888888888888888,\"#fdca26\"],[1.0,\"#f0f921\"]]}],\"contourcarpet\":[{\"type\":\"contourcarpet\",\"colorbar\":{\"outlinewidth\":0,\"ticks\":\"\"}}],\"contour\":[{\"type\":\"contour\",\"colorbar\":{\"outlinewidth\":0,\"ticks\":\"\"},\"colorscale\":[[0.0,\"#0d0887\"],[0.1111111111111111,\"#46039f\"],[0.2222222222222222,\"#7201a8\"],[0.3333333333333333,\"#9c179e\"],[0.4444444444444444,\"#bd3786\"],[0.5555555555555556,\"#d8576b\"],[0.6666666666666666,\"#ed7953\"],[0.7777777777777778,\"#fb9f3a\"],[0.8888888888888888,\"#fdca26\"],[1.0,\"#f0f921\"]]}],\"surface\":[{\"type\":\"surface\",\"colorbar\":{\"outlinewidth\":0,\"ticks\":\"\"},\"colorscale\":[[0.0,\"#0d0887\"],[0.1111111111111111,\"#46039f\"],[0.2222222222222222,\"#7201a8\"],[0.3333333333333333,\"#9c179e\"],[0.4444444444444444,\"#bd3786\"],[0.5555555555555556,\"#d8576b\"],[0.6666666666666666,\"#ed7953\"],[0.7777777777777778,\"#fb9f3a\"],[0.8888888888888888,\"#fdca26\"],[1.0,\"#f0f921\"]]}],\"mesh3d\":[{\"type\":\"mesh3d\",\"colorbar\":{\"outlinewidth\":0,\"ticks\":\"\"}}],\"scatter\":[{\"fillpattern\":{\"fillmode\":\"overlay\",\"size\":10,\"solidity\":0.2},\"type\":\"scatter\"}],\"parcoords\":[{\"type\":\"parcoords\",\"line\":{\"colorbar\":{\"outlinewidth\":0,\"ticks\":\"\"}}}],\"scatterpolargl\":[{\"type\":\"scatterpolargl\",\"marker\":{\"colorbar\":{\"outlinewidth\":0,\"ticks\":\"\"}}}],\"bar\":[{\"error_x\":{\"color\":\"#2a3f5f\"},\"error_y\":{\"color\":\"#2a3f5f\"},\"marker\":{\"line\":{\"color\":\"#E5ECF6\",\"width\":0.5},\"pattern\":{\"fillmode\":\"overlay\",\"size\":10,\"solidity\":0.2}},\"type\":\"bar\"}],\"scattergeo\":[{\"type\":\"scattergeo\",\"marker\":{\"colorbar\":{\"outlinewidth\":0,\"ticks\":\"\"}}}],\"scatterpolar\":[{\"type\":\"scatterpolar\",\"marker\":{\"colorbar\":{\"outlinewidth\":0,\"ticks\":\"\"}}}],\"histogram\":[{\"marker\":{\"pattern\":{\"fillmode\":\"overlay\",\"size\":10,\"solidity\":0.2}},\"type\":\"histogram\"}],\"scattergl\":[{\"type\":\"scattergl\",\"marker\":{\"colorbar\":{\"outlinewidth\":0,\"ticks\":\"\"}}}],\"scatter3d\":[{\"type\":\"scatter3d\",\"line\":{\"colorbar\":{\"outlinewidth\":0,\"ticks\":\"\"}},\"marker\":{\"colorbar\":{\"outlinewidth\":0,\"ticks\":\"\"}}}],\"scattermapbox\":[{\"type\":\"scattermapbox\",\"marker\":{\"colorbar\":{\"outlinewidth\":0,\"ticks\":\"\"}}}],\"scatterternary\":[{\"type\":\"scatterternary\",\"marker\":{\"colorbar\":{\"outlinewidth\":0,\"ticks\":\"\"}}}],\"scattercarpet\":[{\"type\":\"scattercarpet\",\"marker\":{\"colorbar\":{\"outlinewidth\":0,\"ticks\":\"\"}}}],\"carpet\":[{\"aaxis\":{\"endlinecolor\":\"#2a3f5f\",\"gridcolor\":\"white\",\"linecolor\":\"white\",\"minorgridcolor\":\"white\",\"startlinecolor\":\"#2a3f5f\"},\"baxis\":{\"endlinecolor\":\"#2a3f5f\",\"gridcolor\":\"white\",\"linecolor\":\"white\",\"minorgridcolor\":\"white\",\"startlinecolor\":\"#2a3f5f\"},\"type\":\"carpet\"}],\"table\":[{\"cells\":{\"fill\":{\"color\":\"#EBF0F8\"},\"line\":{\"color\":\"white\"}},\"header\":{\"fill\":{\"color\":\"#C8D4E3\"},\"line\":{\"color\":\"white\"}},\"type\":\"table\"}],\"barpolar\":[{\"marker\":{\"line\":{\"color\":\"#E5ECF6\",\"width\":0.5},\"pattern\":{\"fillmode\":\"overlay\",\"size\":10,\"solidity\":0.2}},\"type\":\"barpolar\"}],\"pie\":[{\"automargin\":true,\"type\":\"pie\"}]},\"layout\":{\"autotypenumbers\":\"strict\",\"colorway\":[\"#636efa\",\"#EF553B\",\"#00cc96\",\"#ab63fa\",\"#FFA15A\",\"#19d3f3\",\"#FF6692\",\"#B6E880\",\"#FF97FF\",\"#FECB52\"],\"font\":{\"color\":\"#2a3f5f\"},\"hovermode\":\"closest\",\"hoverlabel\":{\"align\":\"left\"},\"paper_bgcolor\":\"white\",\"plot_bgcolor\":\"#E5ECF6\",\"polar\":{\"bgcolor\":\"#E5ECF6\",\"angularaxis\":{\"gridcolor\":\"white\",\"linecolor\":\"white\",\"ticks\":\"\"},\"radialaxis\":{\"gridcolor\":\"white\",\"linecolor\":\"white\",\"ticks\":\"\"}},\"ternary\":{\"bgcolor\":\"#E5ECF6\",\"aaxis\":{\"gridcolor\":\"white\",\"linecolor\":\"white\",\"ticks\":\"\"},\"baxis\":{\"gridcolor\":\"white\",\"linecolor\":\"white\",\"ticks\":\"\"},\"caxis\":{\"gridcolor\":\"white\",\"linecolor\":\"white\",\"ticks\":\"\"}},\"coloraxis\":{\"colorbar\":{\"outlinewidth\":0,\"ticks\":\"\"}},\"colorscale\":{\"sequential\":[[0.0,\"#0d0887\"],[0.1111111111111111,\"#46039f\"],[0.2222222222222222,\"#7201a8\"],[0.3333333333333333,\"#9c179e\"],[0.4444444444444444,\"#bd3786\"],[0.5555555555555556,\"#d8576b\"],[0.6666666666666666,\"#ed7953\"],[0.7777777777777778,\"#fb9f3a\"],[0.8888888888888888,\"#fdca26\"],[1.0,\"#f0f921\"]],\"sequentialminus\":[[0.0,\"#0d0887\"],[0.1111111111111111,\"#46039f\"],[0.2222222222222222,\"#7201a8\"],[0.3333333333333333,\"#9c179e\"],[0.4444444444444444,\"#bd3786\"],[0.5555555555555556,\"#d8576b\"],[0.6666666666666666,\"#ed7953\"],[0.7777777777777778,\"#fb9f3a\"],[0.8888888888888888,\"#fdca26\"],[1.0,\"#f0f921\"]],\"diverging\":[[0,\"#8e0152\"],[0.1,\"#c51b7d\"],[0.2,\"#de77ae\"],[0.3,\"#f1b6da\"],[0.4,\"#fde0ef\"],[0.5,\"#f7f7f7\"],[0.6,\"#e6f5d0\"],[0.7,\"#b8e186\"],[0.8,\"#7fbc41\"],[0.9,\"#4d9221\"],[1,\"#276419\"]]},\"xaxis\":{\"gridcolor\":\"white\",\"linecolor\":\"white\",\"ticks\":\"\",\"title\":{\"standoff\":15},\"zerolinecolor\":\"white\",\"automargin\":true,\"zerolinewidth\":2},\"yaxis\":{\"gridcolor\":\"white\",\"linecolor\":\"white\",\"ticks\":\"\",\"title\":{\"standoff\":15},\"zerolinecolor\":\"white\",\"automargin\":true,\"zerolinewidth\":2},\"scene\":{\"xaxis\":{\"backgroundcolor\":\"#E5ECF6\",\"gridcolor\":\"white\",\"linecolor\":\"white\",\"showbackground\":true,\"ticks\":\"\",\"zerolinecolor\":\"white\",\"gridwidth\":2},\"yaxis\":{\"backgroundcolor\":\"#E5ECF6\",\"gridcolor\":\"white\",\"linecolor\":\"white\",\"showbackground\":true,\"ticks\":\"\",\"zerolinecolor\":\"white\",\"gridwidth\":2},\"zaxis\":{\"backgroundcolor\":\"#E5ECF6\",\"gridcolor\":\"white\",\"linecolor\":\"white\",\"showbackground\":true,\"ticks\":\"\",\"zerolinecolor\":\"white\",\"gridwidth\":2}},\"shapedefaults\":{\"line\":{\"color\":\"#2a3f5f\"}},\"annotationdefaults\":{\"arrowcolor\":\"#2a3f5f\",\"arrowhead\":0,\"arrowwidth\":1},\"geo\":{\"bgcolor\":\"white\",\"landcolor\":\"#E5ECF6\",\"subunitcolor\":\"white\",\"showland\":true,\"showlakes\":true,\"lakecolor\":\"white\"},\"title\":{\"x\":0.05},\"mapbox\":{\"style\":\"light\"}}},\"xaxis\":{\"anchor\":\"y\",\"domain\":[0.0,0.31999999999999995],\"scaleanchor\":\"y\",\"constrain\":\"domain\",\"title\":{\"text\":\"source_tok\"}},\"yaxis\":{\"anchor\":\"x\",\"domain\":[0.0,1.0],\"autorange\":\"reversed\",\"constrain\":\"domain\",\"title\":{\"text\":\"dest_tok\"}},\"xaxis2\":{\"anchor\":\"y2\",\"domain\":[0.33999999999999997,0.6599999999999999],\"matches\":\"x\",\"title\":{\"text\":\"source_tok\"}},\"yaxis2\":{\"anchor\":\"x2\",\"domain\":[0.0,1.0],\"matches\":\"y\",\"showticklabels\":false},\"xaxis3\":{\"anchor\":\"y3\",\"domain\":[0.6799999999999999,0.9999999999999999],\"matches\":\"x\",\"title\":{\"text\":\"source_tok\"}},\"yaxis3\":{\"anchor\":\"x3\",\"domain\":[0.0,1.0],\"matches\":\"y\",\"showticklabels\":false},\"annotations\":[{\"font\":{},\"showarrow\":false,\"text\":\"facet_col=0\",\"x\":0.15999999999999998,\"xanchor\":\"center\",\"xref\":\"paper\",\"y\":1.0,\"yanchor\":\"bottom\",\"yref\":\"paper\"},{\"font\":{},\"showarrow\":false,\"text\":\"facet_col=1\",\"x\":0.49999999999999994,\"xanchor\":\"center\",\"xref\":\"paper\",\"y\":1.0,\"yanchor\":\"bottom\",\"yref\":\"paper\"},{\"font\":{},\"showarrow\":false,\"text\":\"facet_col=2\",\"x\":0.8399999999999999,\"xanchor\":\"center\",\"xref\":\"paper\",\"y\":1.0,\"yanchor\":\"bottom\",\"yref\":\"paper\"}],\"coloraxis\":{\"colorscale\":[[0.0,\"rgb(103,0,31)\"],[0.1,\"rgb(178,24,43)\"],[0.2,\"rgb(214,96,77)\"],[0.3,\"rgb(244,165,130)\"],[0.4,\"rgb(253,219,199)\"],[0.5,\"rgb(247,247,247)\"],[0.6,\"rgb(209,229,240)\"],[0.7,\"rgb(146,197,222)\"],[0.8,\"rgb(67,147,195)\"],[0.9,\"rgb(33,102,172)\"],[1.0,\"rgb(5,48,97)\"]],\"cmid\":0.0},\"title\":{\"text\":\"nouns\"}},                        {\"responsive\": true}                    ).then(function(){\n",
       "                            \n",
       "var gd = document.getElementById('bc9976a8-18d2-4bb4-b5ea-22857a5ffcd3');\n",
       "var x = new MutationObserver(function (mutations, observer) {{\n",
       "        var display = window.getComputedStyle(gd).display;\n",
       "        if (!display || display === 'none') {{\n",
       "            console.log([gd, 'removed!']);\n",
       "            Plotly.purge(gd);\n",
       "            observer.disconnect();\n",
       "        }}\n",
       "}});\n",
       "\n",
       "// Listen for the removal of the full notebook cells\n",
       "var notebookContainer = gd.closest('#notebook-container');\n",
       "if (notebookContainer) {{\n",
       "    x.observe(notebookContainer, {childList: true});\n",
       "}}\n",
       "\n",
       "// Listen for the clearing of the current output cell\n",
       "var outputEl = gd.closest('.output');\n",
       "if (outputEl) {{\n",
       "    x.observe(outputEl, {childList: true});\n",
       "}}\n",
       "\n",
       "                        })                };                });            </script>        </div>"
      ]
     },
     "metadata": {},
     "output_type": "display_data"
    }
   ],
   "source": [
    "heads = [(9,6), (9,9), (10,0)]\n",
    "patts = []\n",
    "for layer, head in heads:\n",
    "  patts.append(noun_cache[\"pattern\", layer][:,head, :,:])\n",
    "patts = t.stack(patts)\n",
    "print(patts.shape)\n",
    "patts = patts.mean(dim = 1)\n",
    "\n",
    "imshow(patts, facet_col = 0, yaxis = \"dest_tok\", xaxis = \"source_tok\", title = \"nouns\", x= model.to_str_tokens(prompts_n[0]), y = model.to_str_tokens(prompts_n[0]))\n",
    "\n",
    "\n"
   ]
  },
  {
   "cell_type": "code",
   "execution_count": 153,
   "metadata": {},
   "outputs": [
    {
     "data": {
      "text/html": [
       "<div>                            <div id=\"75f7366d-490a-424f-991e-193d99000c61\" class=\"plotly-graph-div\" style=\"height:525px; width:100%;\"></div>            <script type=\"text/javascript\">                require([\"plotly\"], function(Plotly) {                    window.PLOTLYENV=window.PLOTLYENV || {};                                    if (document.getElementById(\"75f7366d-490a-424f-991e-193d99000c61\")) {                    Plotly.newPlot(                        \"75f7366d-490a-424f-991e-193d99000c61\",                        [{\"coloraxis\":\"coloraxis\",\"name\":\"0\",\"x\":[\"<|endoftext|>\",\"When\",\" Goose\",\" and\",\" Google\",\" went\",\" to\",\" the\",\" shops\",\",\",\" Google\",\" gave\",\" the\",\" bag\",\" to\"],\"y\":[\"<|endoftext|>\",\"When\",\" Goose\",\" and\",\" Google\",\" went\",\" to\",\" the\",\" shops\",\",\",\" Google\",\" gave\",\" the\",\" bag\",\" to\"],\"z\":[[1.0,0.0,0.0,0.0,0.0,0.0,0.0,0.0,0.0,0.0,0.0,0.0,0.0,0.0,0.0],[0.9985043406486511,0.0014959131367504597,0.0,0.0,0.0,0.0,0.0,0.0,0.0,0.0,0.0,0.0,0.0,0.0,0.0],[0.9947465658187866,0.0008417778881266713,0.0044117094948887825,0.0,0.0,0.0,0.0,0.0,0.0,0.0,0.0,0.0,0.0,0.0,0.0],[0.9664770364761353,0.0008628403884358704,0.030367588624358177,0.0022925748489797115,0.0,0.0,0.0,0.0,0.0,0.0,0.0,0.0,0.0,0.0,0.0],[0.9812617301940918,0.00247393362224102,0.008562779054045677,0.0025732957292348146,0.005128280259668827,0.0,0.0,0.0,0.0,0.0,0.0,0.0,0.0,0.0,0.0],[0.9881733655929565,0.0008314570295624435,0.005721443332731724,0.0003533372946549207,0.0024112106766551733,0.0025092379655689,0.0,0.0,0.0,0.0,0.0,0.0,0.0,0.0,0.0],[0.9568420648574829,0.0015836283564567566,0.02591334655880928,0.0003881088341586292,0.010615401901304722,0.0013367654755711555,0.0033205747604370117,0.0,0.0,0.0,0.0,0.0,0.0,0.0,0.0],[0.9757083654403687,0.0009828899055719376,0.009743940085172653,0.0004535996413324028,0.01061752438545227,0.0004682322614826262,0.0012869156198576093,0.0007385416538454592,0.0,0.0,0.0,0.0,0.0,0.0,0.0],[0.9710122346878052,0.008984853513538837,0.004316202364861965,0.00027803456760011613,0.00178993190638721,0.0004931463045068085,0.002745531965047121,0.0012438411358743906,0.009136252105236053,0.0,0.0,0.0,0.0,0.0,0.0],[0.648948609828949,0.005302878562361002,0.18188175559043884,0.0012783196289092302,0.14626702666282654,0.0009577689925208688,0.0006927736103534698,0.0004954231553710997,0.012310849502682686,0.001864503137767315,0.0,0.0,0.0,0.0,0.0],[0.9177063703536987,0.0016782019520178437,0.005981826223433018,0.01441181730479002,0.03162543103098869,0.00854694563895464,0.0036629936657845974,0.0008471694891341031,0.010447589680552483,0.001891613588668406,0.0031999931670725346,0.0,0.0,0.0,0.0],[0.45107927918434143,0.0020352699793875217,0.18634530901908875,0.0026697609573602676,0.27379703521728516,0.001582273980602622,0.0009193476289510727,0.0008901518885977566,0.015513939782977104,0.0012975514400750399,0.06207319349050522,0.001796815311536193,0.0,0.0,0.0],[0.6503764986991882,0.002108544809743762,0.058786965906620026,0.006623928435146809,0.15081730484962463,0.004262474365532398,0.0013336684787645936,0.0001756215060595423,0.11068031936883926,0.0019952128641307354,0.008843479678034782,0.001445863163098693,0.002550149569287896,0.0,0.0],[0.9509502649307251,0.001743829227052629,0.009910902939736843,0.0018865487072616816,0.012900750152766705,0.0019092850852757692,0.0020848058629781008,0.0005875833448953927,0.006344192661345005,0.0012917396379634738,0.003835915122181177,0.0003163176297675818,0.0014293761923909187,0.0048084803856909275,0.0],[0.2345140278339386,0.000793140206951648,0.24876084923744202,0.0005388588760979474,0.41788139939308167,0.00037973280996084213,9.590138506609946e-05,0.00013982308155391365,0.0067667001858353615,0.00020188985217828304,0.08753684163093567,7.745072070974857e-05,0.0004302770830690861,0.001685818424448371,0.00019735626119654626]],\"type\":\"heatmap\",\"xaxis\":\"x\",\"yaxis\":\"y\",\"hovertemplate\":\"source_tok: %{x}<br>dest_tok: %{y}<br>color: %{z}<extra></extra>\"},{\"coloraxis\":\"coloraxis\",\"name\":\"1\",\"x\":[\"<|endoftext|>\",\"When\",\" Goose\",\" and\",\" Google\",\" went\",\" to\",\" the\",\" shops\",\",\",\" Google\",\" gave\",\" the\",\" bag\",\" to\"],\"y\":[\"<|endoftext|>\",\"When\",\" Goose\",\" and\",\" Google\",\" went\",\" to\",\" the\",\" shops\",\",\",\" Google\",\" gave\",\" the\",\" bag\",\" to\"],\"z\":[[1.0,0.0,0.0,0.0,0.0,0.0,0.0,0.0,0.0,0.0,0.0,0.0,0.0,0.0,0.0],[0.9979304075241089,0.0020696446299552917,0.0,0.0,0.0,0.0,0.0,0.0,0.0,0.0,0.0,0.0,0.0,0.0,0.0],[0.9940441846847534,0.0006679490325041115,0.005287816282361746,0.0,0.0,0.0,0.0,0.0,0.0,0.0,0.0,0.0,0.0,0.0,0.0],[0.9844425320625305,0.0010321818990632892,0.012674587778747082,0.0018507823115214705,0.0,0.0,0.0,0.0,0.0,0.0,0.0,0.0,0.0,0.0,0.0],[0.9893983006477356,0.0012056592386215925,0.0032506664283573627,0.0012046827469021082,0.004940760787576437,0.0,0.0,0.0,0.0,0.0,0.0,0.0,0.0,0.0,0.0],[0.989274799823761,0.0006569218821823597,0.004805952776223421,0.0002808303397614509,0.003889920888468623,0.0010915533639490604,0.0,0.0,0.0,0.0,0.0,0.0,0.0,0.0,0.0],[0.9697931408882141,0.001359115238301456,0.011356825940310955,0.00016324370517395437,0.00986472237855196,0.0018382411217316985,0.005624667275696993,0.0,0.0,0.0,0.0,0.0,0.0,0.0,0.0],[0.9886555671691895,0.0009072862449102104,0.0037536576855927706,9.550176037009805e-05,0.004832156002521515,0.00021690354333259165,0.00038472883170470595,0.001154209254309535,0.0,0.0,0.0,0.0,0.0,0.0,0.0],[0.992362380027771,0.0011855693301185966,0.0007065115496516228,0.00019174259796272963,0.00047581145190633833,0.0004060867358930409,0.0006159133627079427,0.00019425255595706403,0.003861719276756048,0.0,0.0,0.0,0.0,0.0,0.0],[0.7937654256820679,0.006413782946765423,0.099329873919487,0.0015561897307634354,0.08286154270172119,0.001086726551875472,0.0009966888464987278,0.0017062952974811196,0.007812847383320332,0.004470610059797764,0.0,0.0,0.0,0.0,0.0],[0.9148026704788208,0.0021855072118341923,0.004670086316764355,0.04649095982313156,0.018980007618665695,0.004180627875030041,0.0009621233912184834,0.0003322628908790648,0.0035853490699082613,0.002198719186708331,0.0016116101760417223,0.0,0.0,0.0,0.0],[0.41069015860557556,0.013018650934100151,0.1992172747850418,0.00696061784401536,0.2875734269618988,0.002335126278921962,0.0020338615868240595,0.0034010980743914843,0.018510790541768074,0.00565345911309123,0.04779774695634842,0.0028077876195311546,0.0,0.0,0.0],[0.6790667176246643,0.006732004228979349,0.06469529122114182,0.004907072987407446,0.09086533635854721,0.0036578974686563015,0.0015069838846102357,0.0011961881536990404,0.12222391366958618,0.004981602542102337,0.009640036150813103,0.002205922268331051,0.008321080356836319,0.0,0.0],[0.9483412504196167,0.0019005301874130964,0.004927410744130611,0.00764581048861146,0.011225626803934574,0.0015437367837876081,0.0019381573656573892,0.0002700449840631336,0.004601688589900732,0.002136933384463191,0.0022251117043197155,0.0008980391430668533,0.000992695102468133,0.01135285384953022,0.0],[0.2175763100385666,0.007772235665470362,0.22417502105236053,0.0032557579688727856,0.45788341760635376,0.0006166596431285143,0.0004130376037210226,0.0024257381446659565,0.0043060011230409145,0.0021966868080198765,0.07068068534135818,0.00017779077461455017,0.006732074078172445,0.0010053919395431876,0.0007831763359718025]],\"type\":\"heatmap\",\"xaxis\":\"x2\",\"yaxis\":\"y2\",\"hovertemplate\":\"source_tok: %{x}<br>dest_tok: %{y}<br>color: %{z}<extra></extra>\"},{\"coloraxis\":\"coloraxis\",\"name\":\"2\",\"x\":[\"<|endoftext|>\",\"When\",\" Goose\",\" and\",\" Google\",\" went\",\" to\",\" the\",\" shops\",\",\",\" Google\",\" gave\",\" the\",\" bag\",\" to\"],\"y\":[\"<|endoftext|>\",\"When\",\" Goose\",\" and\",\" Google\",\" went\",\" to\",\" the\",\" shops\",\",\",\" Google\",\" gave\",\" the\",\" bag\",\" to\"],\"z\":[[1.0,0.0,0.0,0.0,0.0,0.0,0.0,0.0,0.0,0.0,0.0,0.0,0.0,0.0,0.0],[0.9776753187179565,0.022324660792946815,0.0,0.0,0.0,0.0,0.0,0.0,0.0,0.0,0.0,0.0,0.0,0.0,0.0],[0.9475612640380859,0.010573873296380043,0.04186480492353439,0.0,0.0,0.0,0.0,0.0,0.0,0.0,0.0,0.0,0.0,0.0,0.0],[0.8411375284194946,0.010301711037755013,0.12022548913955688,0.028335293754935265,0.0,0.0,0.0,0.0,0.0,0.0,0.0,0.0,0.0,0.0,0.0],[0.9101669192314148,0.0164333526045084,0.04194731265306473,0.012628999538719654,0.0188232883810997,0.0,0.0,0.0,0.0,0.0,0.0,0.0,0.0,0.0,0.0],[0.9393337965011597,0.002965691965073347,0.022500719875097275,0.007979870773851871,0.02274118736386299,0.004478661809116602,0.0,0.0,0.0,0.0,0.0,0.0,0.0,0.0,0.0],[0.7864969968795776,0.019211815670132637,0.09056129306554794,0.010687853209674358,0.0591849684715271,0.011958643794059753,0.021898509934544563,0.0,0.0,0.0,0.0,0.0,0.0,0.0,0.0],[0.8116580247879028,0.012517963536083698,0.0703773945569992,0.011540405452251434,0.06287048757076263,0.004729940090328455,0.015025993809103966,0.011279832571744919,0.0,0.0,0.0,0.0,0.0,0.0,0.0],[0.8715082406997681,0.007675954606384039,0.0743873193860054,0.002458948642015457,0.01865711808204651,0.00273210764862597,0.0014715080615133047,0.0012586022494360805,0.01985025964677334,0.0,0.0,0.0,0.0,0.0,0.0],[0.4125123918056488,0.007775761187076569,0.3278752863407135,0.008962690830230713,0.1757526695728302,0.0036594043485820293,0.0032231458462774754,0.0036026134621351957,0.04581999033689499,0.01081604789942503,0.0,0.0,0.0,0.0,0.0],[0.854897677898407,0.010255781933665276,0.02624506875872612,0.010211099870502949,0.02920246124267578,0.009390446357429028,0.005869791842997074,0.001848425017669797,0.027157951146364212,0.014891006052494049,0.010030308738350868,0.0,0.0,0.0,0.0],[0.4008362889289856,0.01429410744458437,0.2803443968296051,0.013592446222901344,0.16748276352882385,0.003204930108040571,0.0064575509168207645,0.00505232997238636,0.04063005372881889,0.010887346230447292,0.05454109236598015,0.002676676493138075,0.0,0.0,0.0],[0.4371587336063385,0.008170765824615955,0.1750166267156601,0.01643271930515766,0.14798295497894287,0.0062542930245399475,0.01028465200215578,0.0026704855263233185,0.16260926425457,0.011712931096553802,0.013139814138412476,0.00402046088129282,0.004546308424323797,0.0,0.0],[0.8889524340629578,0.008090873248875141,0.033515509217977524,0.002476045396178961,0.011497875675559044,0.0021422109566628933,0.0016178118530660868,0.0009038932621479034,0.019065096974372864,0.0055559477768838406,0.008904698304831982,0.0016609051963314414,0.0008876097272150218,0.014729127287864685,0.0],[0.48037728667259216,0.017682138830423355,0.26266711950302124,0.008961649611592293,0.13363921642303467,0.0026348596438765526,0.0036122039891779423,0.002961135469377041,0.029389485716819763,0.008940005674958229,0.035071663558483124,0.0007872061687521636,0.0026910961605608463,0.005148307420313358,0.005436586681753397]],\"type\":\"heatmap\",\"xaxis\":\"x3\",\"yaxis\":\"y3\",\"hovertemplate\":\"source_tok: %{x}<br>dest_tok: %{y}<br>color: %{z}<extra></extra>\"}],                        {\"template\":{\"data\":{\"histogram2dcontour\":[{\"type\":\"histogram2dcontour\",\"colorbar\":{\"outlinewidth\":0,\"ticks\":\"\"},\"colorscale\":[[0.0,\"#0d0887\"],[0.1111111111111111,\"#46039f\"],[0.2222222222222222,\"#7201a8\"],[0.3333333333333333,\"#9c179e\"],[0.4444444444444444,\"#bd3786\"],[0.5555555555555556,\"#d8576b\"],[0.6666666666666666,\"#ed7953\"],[0.7777777777777778,\"#fb9f3a\"],[0.8888888888888888,\"#fdca26\"],[1.0,\"#f0f921\"]]}],\"choropleth\":[{\"type\":\"choropleth\",\"colorbar\":{\"outlinewidth\":0,\"ticks\":\"\"}}],\"histogram2d\":[{\"type\":\"histogram2d\",\"colorbar\":{\"outlinewidth\":0,\"ticks\":\"\"},\"colorscale\":[[0.0,\"#0d0887\"],[0.1111111111111111,\"#46039f\"],[0.2222222222222222,\"#7201a8\"],[0.3333333333333333,\"#9c179e\"],[0.4444444444444444,\"#bd3786\"],[0.5555555555555556,\"#d8576b\"],[0.6666666666666666,\"#ed7953\"],[0.7777777777777778,\"#fb9f3a\"],[0.8888888888888888,\"#fdca26\"],[1.0,\"#f0f921\"]]}],\"heatmap\":[{\"type\":\"heatmap\",\"colorbar\":{\"outlinewidth\":0,\"ticks\":\"\"},\"colorscale\":[[0.0,\"#0d0887\"],[0.1111111111111111,\"#46039f\"],[0.2222222222222222,\"#7201a8\"],[0.3333333333333333,\"#9c179e\"],[0.4444444444444444,\"#bd3786\"],[0.5555555555555556,\"#d8576b\"],[0.6666666666666666,\"#ed7953\"],[0.7777777777777778,\"#fb9f3a\"],[0.8888888888888888,\"#fdca26\"],[1.0,\"#f0f921\"]]}],\"heatmapgl\":[{\"type\":\"heatmapgl\",\"colorbar\":{\"outlinewidth\":0,\"ticks\":\"\"},\"colorscale\":[[0.0,\"#0d0887\"],[0.1111111111111111,\"#46039f\"],[0.2222222222222222,\"#7201a8\"],[0.3333333333333333,\"#9c179e\"],[0.4444444444444444,\"#bd3786\"],[0.5555555555555556,\"#d8576b\"],[0.6666666666666666,\"#ed7953\"],[0.7777777777777778,\"#fb9f3a\"],[0.8888888888888888,\"#fdca26\"],[1.0,\"#f0f921\"]]}],\"contourcarpet\":[{\"type\":\"contourcarpet\",\"colorbar\":{\"outlinewidth\":0,\"ticks\":\"\"}}],\"contour\":[{\"type\":\"contour\",\"colorbar\":{\"outlinewidth\":0,\"ticks\":\"\"},\"colorscale\":[[0.0,\"#0d0887\"],[0.1111111111111111,\"#46039f\"],[0.2222222222222222,\"#7201a8\"],[0.3333333333333333,\"#9c179e\"],[0.4444444444444444,\"#bd3786\"],[0.5555555555555556,\"#d8576b\"],[0.6666666666666666,\"#ed7953\"],[0.7777777777777778,\"#fb9f3a\"],[0.8888888888888888,\"#fdca26\"],[1.0,\"#f0f921\"]]}],\"surface\":[{\"type\":\"surface\",\"colorbar\":{\"outlinewidth\":0,\"ticks\":\"\"},\"colorscale\":[[0.0,\"#0d0887\"],[0.1111111111111111,\"#46039f\"],[0.2222222222222222,\"#7201a8\"],[0.3333333333333333,\"#9c179e\"],[0.4444444444444444,\"#bd3786\"],[0.5555555555555556,\"#d8576b\"],[0.6666666666666666,\"#ed7953\"],[0.7777777777777778,\"#fb9f3a\"],[0.8888888888888888,\"#fdca26\"],[1.0,\"#f0f921\"]]}],\"mesh3d\":[{\"type\":\"mesh3d\",\"colorbar\":{\"outlinewidth\":0,\"ticks\":\"\"}}],\"scatter\":[{\"fillpattern\":{\"fillmode\":\"overlay\",\"size\":10,\"solidity\":0.2},\"type\":\"scatter\"}],\"parcoords\":[{\"type\":\"parcoords\",\"line\":{\"colorbar\":{\"outlinewidth\":0,\"ticks\":\"\"}}}],\"scatterpolargl\":[{\"type\":\"scatterpolargl\",\"marker\":{\"colorbar\":{\"outlinewidth\":0,\"ticks\":\"\"}}}],\"bar\":[{\"error_x\":{\"color\":\"#2a3f5f\"},\"error_y\":{\"color\":\"#2a3f5f\"},\"marker\":{\"line\":{\"color\":\"#E5ECF6\",\"width\":0.5},\"pattern\":{\"fillmode\":\"overlay\",\"size\":10,\"solidity\":0.2}},\"type\":\"bar\"}],\"scattergeo\":[{\"type\":\"scattergeo\",\"marker\":{\"colorbar\":{\"outlinewidth\":0,\"ticks\":\"\"}}}],\"scatterpolar\":[{\"type\":\"scatterpolar\",\"marker\":{\"colorbar\":{\"outlinewidth\":0,\"ticks\":\"\"}}}],\"histogram\":[{\"marker\":{\"pattern\":{\"fillmode\":\"overlay\",\"size\":10,\"solidity\":0.2}},\"type\":\"histogram\"}],\"scattergl\":[{\"type\":\"scattergl\",\"marker\":{\"colorbar\":{\"outlinewidth\":0,\"ticks\":\"\"}}}],\"scatter3d\":[{\"type\":\"scatter3d\",\"line\":{\"colorbar\":{\"outlinewidth\":0,\"ticks\":\"\"}},\"marker\":{\"colorbar\":{\"outlinewidth\":0,\"ticks\":\"\"}}}],\"scattermapbox\":[{\"type\":\"scattermapbox\",\"marker\":{\"colorbar\":{\"outlinewidth\":0,\"ticks\":\"\"}}}],\"scatterternary\":[{\"type\":\"scatterternary\",\"marker\":{\"colorbar\":{\"outlinewidth\":0,\"ticks\":\"\"}}}],\"scattercarpet\":[{\"type\":\"scattercarpet\",\"marker\":{\"colorbar\":{\"outlinewidth\":0,\"ticks\":\"\"}}}],\"carpet\":[{\"aaxis\":{\"endlinecolor\":\"#2a3f5f\",\"gridcolor\":\"white\",\"linecolor\":\"white\",\"minorgridcolor\":\"white\",\"startlinecolor\":\"#2a3f5f\"},\"baxis\":{\"endlinecolor\":\"#2a3f5f\",\"gridcolor\":\"white\",\"linecolor\":\"white\",\"minorgridcolor\":\"white\",\"startlinecolor\":\"#2a3f5f\"},\"type\":\"carpet\"}],\"table\":[{\"cells\":{\"fill\":{\"color\":\"#EBF0F8\"},\"line\":{\"color\":\"white\"}},\"header\":{\"fill\":{\"color\":\"#C8D4E3\"},\"line\":{\"color\":\"white\"}},\"type\":\"table\"}],\"barpolar\":[{\"marker\":{\"line\":{\"color\":\"#E5ECF6\",\"width\":0.5},\"pattern\":{\"fillmode\":\"overlay\",\"size\":10,\"solidity\":0.2}},\"type\":\"barpolar\"}],\"pie\":[{\"automargin\":true,\"type\":\"pie\"}]},\"layout\":{\"autotypenumbers\":\"strict\",\"colorway\":[\"#636efa\",\"#EF553B\",\"#00cc96\",\"#ab63fa\",\"#FFA15A\",\"#19d3f3\",\"#FF6692\",\"#B6E880\",\"#FF97FF\",\"#FECB52\"],\"font\":{\"color\":\"#2a3f5f\"},\"hovermode\":\"closest\",\"hoverlabel\":{\"align\":\"left\"},\"paper_bgcolor\":\"white\",\"plot_bgcolor\":\"#E5ECF6\",\"polar\":{\"bgcolor\":\"#E5ECF6\",\"angularaxis\":{\"gridcolor\":\"white\",\"linecolor\":\"white\",\"ticks\":\"\"},\"radialaxis\":{\"gridcolor\":\"white\",\"linecolor\":\"white\",\"ticks\":\"\"}},\"ternary\":{\"bgcolor\":\"#E5ECF6\",\"aaxis\":{\"gridcolor\":\"white\",\"linecolor\":\"white\",\"ticks\":\"\"},\"baxis\":{\"gridcolor\":\"white\",\"linecolor\":\"white\",\"ticks\":\"\"},\"caxis\":{\"gridcolor\":\"white\",\"linecolor\":\"white\",\"ticks\":\"\"}},\"coloraxis\":{\"colorbar\":{\"outlinewidth\":0,\"ticks\":\"\"}},\"colorscale\":{\"sequential\":[[0.0,\"#0d0887\"],[0.1111111111111111,\"#46039f\"],[0.2222222222222222,\"#7201a8\"],[0.3333333333333333,\"#9c179e\"],[0.4444444444444444,\"#bd3786\"],[0.5555555555555556,\"#d8576b\"],[0.6666666666666666,\"#ed7953\"],[0.7777777777777778,\"#fb9f3a\"],[0.8888888888888888,\"#fdca26\"],[1.0,\"#f0f921\"]],\"sequentialminus\":[[0.0,\"#0d0887\"],[0.1111111111111111,\"#46039f\"],[0.2222222222222222,\"#7201a8\"],[0.3333333333333333,\"#9c179e\"],[0.4444444444444444,\"#bd3786\"],[0.5555555555555556,\"#d8576b\"],[0.6666666666666666,\"#ed7953\"],[0.7777777777777778,\"#fb9f3a\"],[0.8888888888888888,\"#fdca26\"],[1.0,\"#f0f921\"]],\"diverging\":[[0,\"#8e0152\"],[0.1,\"#c51b7d\"],[0.2,\"#de77ae\"],[0.3,\"#f1b6da\"],[0.4,\"#fde0ef\"],[0.5,\"#f7f7f7\"],[0.6,\"#e6f5d0\"],[0.7,\"#b8e186\"],[0.8,\"#7fbc41\"],[0.9,\"#4d9221\"],[1,\"#276419\"]]},\"xaxis\":{\"gridcolor\":\"white\",\"linecolor\":\"white\",\"ticks\":\"\",\"title\":{\"standoff\":15},\"zerolinecolor\":\"white\",\"automargin\":true,\"zerolinewidth\":2},\"yaxis\":{\"gridcolor\":\"white\",\"linecolor\":\"white\",\"ticks\":\"\",\"title\":{\"standoff\":15},\"zerolinecolor\":\"white\",\"automargin\":true,\"zerolinewidth\":2},\"scene\":{\"xaxis\":{\"backgroundcolor\":\"#E5ECF6\",\"gridcolor\":\"white\",\"linecolor\":\"white\",\"showbackground\":true,\"ticks\":\"\",\"zerolinecolor\":\"white\",\"gridwidth\":2},\"yaxis\":{\"backgroundcolor\":\"#E5ECF6\",\"gridcolor\":\"white\",\"linecolor\":\"white\",\"showbackground\":true,\"ticks\":\"\",\"zerolinecolor\":\"white\",\"gridwidth\":2},\"zaxis\":{\"backgroundcolor\":\"#E5ECF6\",\"gridcolor\":\"white\",\"linecolor\":\"white\",\"showbackground\":true,\"ticks\":\"\",\"zerolinecolor\":\"white\",\"gridwidth\":2}},\"shapedefaults\":{\"line\":{\"color\":\"#2a3f5f\"}},\"annotationdefaults\":{\"arrowcolor\":\"#2a3f5f\",\"arrowhead\":0,\"arrowwidth\":1},\"geo\":{\"bgcolor\":\"white\",\"landcolor\":\"#E5ECF6\",\"subunitcolor\":\"white\",\"showland\":true,\"showlakes\":true,\"lakecolor\":\"white\"},\"title\":{\"x\":0.05},\"mapbox\":{\"style\":\"light\"}}},\"xaxis\":{\"anchor\":\"y\",\"domain\":[0.0,0.31999999999999995],\"scaleanchor\":\"y\",\"constrain\":\"domain\",\"title\":{\"text\":\"source_tok\"}},\"yaxis\":{\"anchor\":\"x\",\"domain\":[0.0,1.0],\"autorange\":\"reversed\",\"constrain\":\"domain\",\"title\":{\"text\":\"dest_tok\"}},\"xaxis2\":{\"anchor\":\"y2\",\"domain\":[0.33999999999999997,0.6599999999999999],\"matches\":\"x\",\"title\":{\"text\":\"source_tok\"}},\"yaxis2\":{\"anchor\":\"x2\",\"domain\":[0.0,1.0],\"matches\":\"y\",\"showticklabels\":false},\"xaxis3\":{\"anchor\":\"y3\",\"domain\":[0.6799999999999999,0.9999999999999999],\"matches\":\"x\",\"title\":{\"text\":\"source_tok\"}},\"yaxis3\":{\"anchor\":\"x3\",\"domain\":[0.0,1.0],\"matches\":\"y\",\"showticklabels\":false},\"annotations\":[{\"font\":{},\"showarrow\":false,\"text\":\"facet_col=0\",\"x\":0.15999999999999998,\"xanchor\":\"center\",\"xref\":\"paper\",\"y\":1.0,\"yanchor\":\"bottom\",\"yref\":\"paper\"},{\"font\":{},\"showarrow\":false,\"text\":\"facet_col=1\",\"x\":0.49999999999999994,\"xanchor\":\"center\",\"xref\":\"paper\",\"y\":1.0,\"yanchor\":\"bottom\",\"yref\":\"paper\"},{\"font\":{},\"showarrow\":false,\"text\":\"facet_col=2\",\"x\":0.8399999999999999,\"xanchor\":\"center\",\"xref\":\"paper\",\"y\":1.0,\"yanchor\":\"bottom\",\"yref\":\"paper\"}],\"coloraxis\":{\"colorscale\":[[0.0,\"rgb(103,0,31)\"],[0.1,\"rgb(178,24,43)\"],[0.2,\"rgb(214,96,77)\"],[0.3,\"rgb(244,165,130)\"],[0.4,\"rgb(253,219,199)\"],[0.5,\"rgb(247,247,247)\"],[0.6,\"rgb(209,229,240)\"],[0.7,\"rgb(146,197,222)\"],[0.8,\"rgb(67,147,195)\"],[0.9,\"rgb(33,102,172)\"],[1.0,\"rgb(5,48,97)\"]],\"cmid\":0.0},\"title\":{\"text\":\"proper nouns\"}},                        {\"responsive\": true}                    ).then(function(){\n",
       "                            \n",
       "var gd = document.getElementById('75f7366d-490a-424f-991e-193d99000c61');\n",
       "var x = new MutationObserver(function (mutations, observer) {{\n",
       "        var display = window.getComputedStyle(gd).display;\n",
       "        if (!display || display === 'none') {{\n",
       "            console.log([gd, 'removed!']);\n",
       "            Plotly.purge(gd);\n",
       "            observer.disconnect();\n",
       "        }}\n",
       "}});\n",
       "\n",
       "// Listen for the removal of the full notebook cells\n",
       "var notebookContainer = gd.closest('#notebook-container');\n",
       "if (notebookContainer) {{\n",
       "    x.observe(notebookContainer, {childList: true});\n",
       "}}\n",
       "\n",
       "// Listen for the clearing of the current output cell\n",
       "var outputEl = gd.closest('.output');\n",
       "if (outputEl) {{\n",
       "    x.observe(outputEl, {childList: true});\n",
       "}}\n",
       "\n",
       "                        })                };                });            </script>        </div>"
      ]
     },
     "metadata": {},
     "output_type": "display_data"
    }
   ],
   "source": [
    "heads = [(9,6), (9,9), (10,0)]\n",
    "patts = []\n",
    "for layer, head in heads:\n",
    "  patts.append(pnoun_cache[\"pattern\", layer][:,head, :,:])\n",
    "patts = t.stack(patts)\n",
    "patts.shape\n",
    "patts = patts.mean(dim = 1)\n",
    "\n",
    "imshow(patts, facet_col = 0, yaxis = \"dest_tok\", xaxis = \"source_tok\", title = \"proper nouns\", x= model.to_str_tokens(prompts_pn[0]), y = model.to_str_tokens(prompts_pn[0]))"
   ]
  },
  {
   "cell_type": "code",
   "execution_count": 135,
   "metadata": {},
   "outputs": [
    {
     "data": {
      "text/html": [
       "<div>                            <div id=\"3398ae7c-d616-4543-85ed-7778e9d174a6\" class=\"plotly-graph-div\" style=\"height:525px; width:100%;\"></div>            <script type=\"text/javascript\">                require([\"plotly\"], function(Plotly) {                    window.PLOTLYENV=window.PLOTLYENV || {};                                    if (document.getElementById(\"3398ae7c-d616-4543-85ed-7778e9d174a6\")) {                    Plotly.newPlot(                        \"3398ae7c-d616-4543-85ed-7778e9d174a6\",                        [{\"coloraxis\":\"coloraxis\",\"name\":\"0\",\"x\":[\"<|endoftext|>\",\"When\",\" Isaac\",\" and\",\" Paul\",\" went\",\" to\",\" the\",\" shops\",\",\",\" Paul\",\" gave\",\" the\",\" bag\",\" to\"],\"y\":[\"<|endoftext|>\",\"When\",\" Isaac\",\" and\",\" Paul\",\" went\",\" to\",\" the\",\" shops\",\",\",\" Paul\",\" gave\",\" the\",\" bag\",\" to\"],\"z\":[[1.0,0.0,0.0,0.0,0.0,0.0,0.0,0.0,0.0,0.0,0.0,0.0,0.0,0.0,0.0],[0.9985043406486511,0.0014959131367504597,0.0,0.0,0.0,0.0,0.0,0.0,0.0,0.0,0.0,0.0,0.0,0.0,0.0],[0.9949315190315247,0.0007452866993844509,0.004323242232203484,0.0,0.0,0.0,0.0,0.0,0.0,0.0,0.0,0.0,0.0,0.0,0.0],[0.9080878496170044,0.0012362448032945395,0.08856908231973648,0.002106940606608987,0.0,0.0,0.0,0.0,0.0,0.0,0.0,0.0,0.0,0.0,0.0],[0.9730892181396484,0.001064039533957839,0.008225063793361187,0.007634228561073542,0.009987355209887028,0.0,0.0,0.0,0.0,0.0,0.0,0.0,0.0,0.0,0.0],[0.9914640188217163,0.0008395488257519901,0.0017137539107352495,0.0005675959982909262,0.0013582446845248342,0.004056932870298624,0.0,0.0,0.0,0.0,0.0,0.0,0.0,0.0,0.0],[0.9672514796257019,0.0016707053873687983,0.014397045597434044,0.0006052356911823153,0.011537561193108559,0.0015064480248838663,0.0030314698815345764,0.0,0.0,0.0,0.0,0.0,0.0,0.0,0.0],[0.9933355450630188,0.0010045936796814203,0.0014070502948015928,0.0005302238278090954,0.0011669823434203863,0.0006565150106325746,0.0009349870379082859,0.0009640606003813446,0.0,0.0,0.0,0.0,0.0,0.0,0.0],[0.9762115478515625,0.008599800989031792,0.0023331211414188147,0.0004255032108630985,0.0011223534820601344,0.0005008733132854104,0.0019744583405554295,0.0009539949824102223,0.007878326810896397,0.0,0.0,0.0,0.0,0.0,0.0],[0.5572410821914673,0.008119110949337482,0.1677035391330719,0.002987626241520047,0.25323790311813354,0.0012916302075609565,0.0005363957025110722,0.000524448580108583,0.006780237890779972,0.0015780538087710738,0.0,0.0,0.0,0.0,0.0],[0.9355651140213013,0.0018397376406937838,0.004488321952521801,0.02459460124373436,0.01606682315468788,0.006630981806665659,0.0018718208884820342,0.0004151536268182099,0.0035178489051759243,0.0009826469467952847,0.004026880022138357,0.0,0.0,0.0,0.0],[0.4360852837562561,0.0028224154375493526,0.172836035490036,0.0068247513845562935,0.3341044783592224,0.0011667306534945965,0.0004606954171322286,0.0011893102200701833,0.004371077753603458,0.0005340900388546288,0.034118037670850754,0.005487117916345596,0.0,0.0,0.0],[0.7858490347862244,0.002617052523419261,0.02315237745642662,0.013467495329678059,0.04459952190518379,0.0056099365465343,0.0014688652008771896,0.0003538938472047448,0.10459180921316147,0.0018015571404248476,0.006390496157109737,0.004033341072499752,0.006064587738364935,0.0,0.0],[0.964449405670166,0.0025444363709539175,0.009580699726939201,0.00036955467658117414,0.005112872924655676,0.0003224232350476086,0.0010859202593564987,0.0005381690571084619,0.002692202804610133,0.0016656678635627031,0.0038162902928888798,0.0001387275115121156,0.0024169585667550564,0.005266659427434206,0.0],[0.2171877920627594,0.0012660290813073516,0.28654730319976807,0.0010651348857209086,0.4578002989292145,0.00024338885850738734,4.927187546854839e-05,0.00014920977992005646,0.0014061034889891744,9.537472215015441e-05,0.03164432570338249,0.00017943655257113278,0.0009579698671586812,0.0010530876461416483,0.00035525215207599103]],\"type\":\"heatmap\",\"xaxis\":\"x\",\"yaxis\":\"y\",\"hovertemplate\":\"source_tok: %{x}<br>dest_tok: %{y}<br>color: %{z}<extra></extra>\"},{\"coloraxis\":\"coloraxis\",\"name\":\"1\",\"x\":[\"<|endoftext|>\",\"When\",\" Isaac\",\" and\",\" Paul\",\" went\",\" to\",\" the\",\" shops\",\",\",\" Paul\",\" gave\",\" the\",\" bag\",\" to\"],\"y\":[\"<|endoftext|>\",\"When\",\" Isaac\",\" and\",\" Paul\",\" went\",\" to\",\" the\",\" shops\",\",\",\" Paul\",\" gave\",\" the\",\" bag\",\" to\"],\"z\":[[1.0,0.0,0.0,0.0,0.0,0.0,0.0,0.0,0.0,0.0,0.0,0.0,0.0,0.0,0.0],[0.9979304075241089,0.0020696446299552917,0.0,0.0,0.0,0.0,0.0,0.0,0.0,0.0,0.0,0.0,0.0,0.0,0.0],[0.9927692413330078,0.0014204928884282708,0.005810185801237822,0.0,0.0,0.0,0.0,0.0,0.0,0.0,0.0,0.0,0.0,0.0,0.0],[0.9598677754402161,0.001915059401653707,0.03493093326687813,0.0032860576175153255,0.0,0.0,0.0,0.0,0.0,0.0,0.0,0.0,0.0,0.0,0.0],[0.9803979992866516,0.002115062903612852,0.006867091171443462,0.0046465047635138035,0.00597339728847146,0.0,0.0,0.0,0.0,0.0,0.0,0.0,0.0,0.0,0.0],[0.9934253692626953,0.0009397974354214966,0.0011739092878997326,0.00031672278419137,0.0010512403678148985,0.0030928687192499638,0.0,0.0,0.0,0.0,0.0,0.0,0.0,0.0,0.0],[0.9659390449523926,0.0019826656207442284,0.008298386819660664,0.00033635858562774956,0.014752079732716084,0.0018764615524560213,0.006814991589635611,0.0,0.0,0.0,0.0,0.0,0.0,0.0,0.0],[0.9942951202392578,0.0013427403755486012,0.0007774296100251377,0.00020840318757109344,0.0007457361789420247,0.0002340489299967885,0.0004410221299622208,0.0019555934704840183,0.0,0.0,0.0,0.0,0.0,0.0,0.0],[0.9911479949951172,0.0014360189670696855,0.000586560694500804,0.00021407590247690678,0.000329849572153762,0.00025315696257166564,0.000413496425608173,0.0002764084201771766,0.005342390388250351,0.0,0.0,0.0,0.0,0.0,0.0],[0.5893541574478149,0.01020536758005619,0.19012564420700073,0.00370347429998219,0.19035354256629944,0.0011489699827507138,0.0010980687802657485,0.002614301163703203,0.006992929615080357,0.004403526894748211,0.0,0.0,0.0,0.0,0.0],[0.9199255704879761,0.0032838128972798586,0.005646062083542347,0.04128246381878853,0.017303170636296272,0.006236843764781952,0.0005470007890835404,0.0007009022519923747,0.002348595531657338,0.0009711376624181867,0.0017543788999319077,0.0,0.0,0.0,0.0],[0.3584322929382324,0.014950646087527275,0.2864309847354889,0.01640031859278679,0.27719539403915405,0.001378914574161172,0.0011564616579562426,0.0030411749612540007,0.011882084421813488,0.002774799009785056,0.020315703004598618,0.0060411845333874226,0.0,0.0,0.0],[0.7098954319953918,0.00676101166754961,0.028005152940750122,0.008643755689263344,0.02089822292327881,0.00319446949288249,0.001085325493477285,0.001138294697739184,0.19269630312919617,0.003511721733957529,0.00503954291343689,0.005029390566051006,0.01410143543034792,0.0,0.0],[0.9717127084732056,0.0013390546664595604,0.002609419170767069,0.00011793601879617199,0.0008995836833491921,0.00014004300464875996,0.0006246113916859031,0.00013442488852888346,0.003325618337839842,0.0017104409635066986,0.0009679322829470038,0.0002695860748644918,0.0009662080556154251,0.015182456001639366,0.0],[0.1357090026140213,0.007803254760801792,0.36063843965530396,0.0034032720141112804,0.460836797952652,0.00019592228636611253,0.0001527430722489953,0.0012169192777946591,0.0009778615785762668,0.0006120859179645777,0.01981452852487564,0.00023790360137354583,0.006022695917636156,0.0006485820631496608,0.0017300546169281006]],\"type\":\"heatmap\",\"xaxis\":\"x2\",\"yaxis\":\"y2\",\"hovertemplate\":\"source_tok: %{x}<br>dest_tok: %{y}<br>color: %{z}<extra></extra>\"},{\"coloraxis\":\"coloraxis\",\"name\":\"2\",\"x\":[\"<|endoftext|>\",\"When\",\" Isaac\",\" and\",\" Paul\",\" went\",\" to\",\" the\",\" shops\",\",\",\" Paul\",\" gave\",\" the\",\" bag\",\" to\"],\"y\":[\"<|endoftext|>\",\"When\",\" Isaac\",\" and\",\" Paul\",\" went\",\" to\",\" the\",\" shops\",\",\",\" Paul\",\" gave\",\" the\",\" bag\",\" to\"],\"z\":[[1.0,0.0,0.0,0.0,0.0,0.0,0.0,0.0,0.0,0.0,0.0,0.0,0.0,0.0,0.0],[0.9776753187179565,0.022324660792946815,0.0,0.0,0.0,0.0,0.0,0.0,0.0,0.0,0.0,0.0,0.0,0.0,0.0],[0.9033890962600708,0.012065161019563675,0.0845458135008812,0.0,0.0,0.0,0.0,0.0,0.0,0.0,0.0,0.0,0.0,0.0,0.0],[0.745489239692688,0.006077648140490055,0.22779229283332825,0.020640844479203224,0.0,0.0,0.0,0.0,0.0,0.0,0.0,0.0,0.0,0.0,0.0],[0.8095443844795227,0.0134656373411417,0.0976269394159317,0.013032279908657074,0.06633077561855316,0.0,0.0,0.0,0.0,0.0,0.0,0.0,0.0,0.0,0.0],[0.9554116129875183,0.0029493749607354403,0.009428879246115685,0.006653326563537121,0.0154906390234828,0.010066112503409386,0.0,0.0,0.0,0.0,0.0,0.0,0.0,0.0,0.0],[0.6514120101928711,0.011245320551097393,0.12386004626750946,0.008584444411098957,0.162022203207016,0.017052268609404564,0.025823676958680153,0.0,0.0,0.0,0.0,0.0,0.0,0.0,0.0],[0.799031138420105,0.006236226297914982,0.0674443393945694,0.008579645305871964,0.07596638053655624,0.0063306367956101894,0.020115375518798828,0.016296308487653732,0.0,0.0,0.0,0.0,0.0,0.0,0.0],[0.8827170133590698,0.004282977432012558,0.062107522040605545,0.001115142134949565,0.03127303719520569,0.0012575243599712849,0.0007800992461852729,0.0008219134761020541,0.015644703060388565,0.0,0.0,0.0,0.0,0.0,0.0],[0.4398321211338043,0.004560853820294142,0.24551479518413544,0.005250548478215933,0.2524874806404114,0.002984978724271059,0.0023542011622339487,0.002636117395013571,0.03653200343251228,0.007846811786293983,0.0,0.0,0.0,0.0,0.0],[0.7919772863388062,0.009367303922772408,0.04397083446383476,0.009754236787557602,0.0291229747235775,0.013500303030014038,0.004378368612378836,0.0019111956935375929,0.049103379249572754,0.012049953453242779,0.03486420959234238,0.0,0.0,0.0,0.0],[0.28423747420310974,0.004160206764936447,0.3076321482658386,0.006387550383806229,0.2903366684913635,0.0018830038607120514,0.002821236616000533,0.002573451492935419,0.01820892095565796,0.004524039104580879,0.07260357588529587,0.0046317083761096,0.0,0.0,0.0],[0.5292710065841675,0.0034744024742394686,0.12995460629463196,0.013297846540808678,0.09927819669246674,0.004916999954730272,0.008145022206008434,0.0026039103977382183,0.15069493651390076,0.006744267884641886,0.033287882804870605,0.010957157239317894,0.007373705506324768,0.0,0.0],[0.7937461733818054,0.006662917323410511,0.06204535812139511,0.0023594459053128958,0.03127044811844826,0.0017130108317360282,0.001968628028407693,0.001833469606935978,0.02857035957276821,0.008331218734383583,0.0324571318924427,0.003657212946563959,0.003141069086268544,0.02224351093173027,0.0],[0.3751201331615448,0.004922288469970226,0.2972811758518219,0.004111880902200937,0.2594459652900696,0.001421955181285739,0.0011901665711775422,0.001124163856729865,0.009496067650616169,0.0027583639603108168,0.032739751040935516,0.0008415685733780265,0.0019150972366333008,0.0034809045027941465,0.004150514490902424]],\"type\":\"heatmap\",\"xaxis\":\"x3\",\"yaxis\":\"y3\",\"hovertemplate\":\"source_tok: %{x}<br>dest_tok: %{y}<br>color: %{z}<extra></extra>\"}],                        {\"template\":{\"data\":{\"histogram2dcontour\":[{\"type\":\"histogram2dcontour\",\"colorbar\":{\"outlinewidth\":0,\"ticks\":\"\"},\"colorscale\":[[0.0,\"#0d0887\"],[0.1111111111111111,\"#46039f\"],[0.2222222222222222,\"#7201a8\"],[0.3333333333333333,\"#9c179e\"],[0.4444444444444444,\"#bd3786\"],[0.5555555555555556,\"#d8576b\"],[0.6666666666666666,\"#ed7953\"],[0.7777777777777778,\"#fb9f3a\"],[0.8888888888888888,\"#fdca26\"],[1.0,\"#f0f921\"]]}],\"choropleth\":[{\"type\":\"choropleth\",\"colorbar\":{\"outlinewidth\":0,\"ticks\":\"\"}}],\"histogram2d\":[{\"type\":\"histogram2d\",\"colorbar\":{\"outlinewidth\":0,\"ticks\":\"\"},\"colorscale\":[[0.0,\"#0d0887\"],[0.1111111111111111,\"#46039f\"],[0.2222222222222222,\"#7201a8\"],[0.3333333333333333,\"#9c179e\"],[0.4444444444444444,\"#bd3786\"],[0.5555555555555556,\"#d8576b\"],[0.6666666666666666,\"#ed7953\"],[0.7777777777777778,\"#fb9f3a\"],[0.8888888888888888,\"#fdca26\"],[1.0,\"#f0f921\"]]}],\"heatmap\":[{\"type\":\"heatmap\",\"colorbar\":{\"outlinewidth\":0,\"ticks\":\"\"},\"colorscale\":[[0.0,\"#0d0887\"],[0.1111111111111111,\"#46039f\"],[0.2222222222222222,\"#7201a8\"],[0.3333333333333333,\"#9c179e\"],[0.4444444444444444,\"#bd3786\"],[0.5555555555555556,\"#d8576b\"],[0.6666666666666666,\"#ed7953\"],[0.7777777777777778,\"#fb9f3a\"],[0.8888888888888888,\"#fdca26\"],[1.0,\"#f0f921\"]]}],\"heatmapgl\":[{\"type\":\"heatmapgl\",\"colorbar\":{\"outlinewidth\":0,\"ticks\":\"\"},\"colorscale\":[[0.0,\"#0d0887\"],[0.1111111111111111,\"#46039f\"],[0.2222222222222222,\"#7201a8\"],[0.3333333333333333,\"#9c179e\"],[0.4444444444444444,\"#bd3786\"],[0.5555555555555556,\"#d8576b\"],[0.6666666666666666,\"#ed7953\"],[0.7777777777777778,\"#fb9f3a\"],[0.8888888888888888,\"#fdca26\"],[1.0,\"#f0f921\"]]}],\"contourcarpet\":[{\"type\":\"contourcarpet\",\"colorbar\":{\"outlinewidth\":0,\"ticks\":\"\"}}],\"contour\":[{\"type\":\"contour\",\"colorbar\":{\"outlinewidth\":0,\"ticks\":\"\"},\"colorscale\":[[0.0,\"#0d0887\"],[0.1111111111111111,\"#46039f\"],[0.2222222222222222,\"#7201a8\"],[0.3333333333333333,\"#9c179e\"],[0.4444444444444444,\"#bd3786\"],[0.5555555555555556,\"#d8576b\"],[0.6666666666666666,\"#ed7953\"],[0.7777777777777778,\"#fb9f3a\"],[0.8888888888888888,\"#fdca26\"],[1.0,\"#f0f921\"]]}],\"surface\":[{\"type\":\"surface\",\"colorbar\":{\"outlinewidth\":0,\"ticks\":\"\"},\"colorscale\":[[0.0,\"#0d0887\"],[0.1111111111111111,\"#46039f\"],[0.2222222222222222,\"#7201a8\"],[0.3333333333333333,\"#9c179e\"],[0.4444444444444444,\"#bd3786\"],[0.5555555555555556,\"#d8576b\"],[0.6666666666666666,\"#ed7953\"],[0.7777777777777778,\"#fb9f3a\"],[0.8888888888888888,\"#fdca26\"],[1.0,\"#f0f921\"]]}],\"mesh3d\":[{\"type\":\"mesh3d\",\"colorbar\":{\"outlinewidth\":0,\"ticks\":\"\"}}],\"scatter\":[{\"fillpattern\":{\"fillmode\":\"overlay\",\"size\":10,\"solidity\":0.2},\"type\":\"scatter\"}],\"parcoords\":[{\"type\":\"parcoords\",\"line\":{\"colorbar\":{\"outlinewidth\":0,\"ticks\":\"\"}}}],\"scatterpolargl\":[{\"type\":\"scatterpolargl\",\"marker\":{\"colorbar\":{\"outlinewidth\":0,\"ticks\":\"\"}}}],\"bar\":[{\"error_x\":{\"color\":\"#2a3f5f\"},\"error_y\":{\"color\":\"#2a3f5f\"},\"marker\":{\"line\":{\"color\":\"#E5ECF6\",\"width\":0.5},\"pattern\":{\"fillmode\":\"overlay\",\"size\":10,\"solidity\":0.2}},\"type\":\"bar\"}],\"scattergeo\":[{\"type\":\"scattergeo\",\"marker\":{\"colorbar\":{\"outlinewidth\":0,\"ticks\":\"\"}}}],\"scatterpolar\":[{\"type\":\"scatterpolar\",\"marker\":{\"colorbar\":{\"outlinewidth\":0,\"ticks\":\"\"}}}],\"histogram\":[{\"marker\":{\"pattern\":{\"fillmode\":\"overlay\",\"size\":10,\"solidity\":0.2}},\"type\":\"histogram\"}],\"scattergl\":[{\"type\":\"scattergl\",\"marker\":{\"colorbar\":{\"outlinewidth\":0,\"ticks\":\"\"}}}],\"scatter3d\":[{\"type\":\"scatter3d\",\"line\":{\"colorbar\":{\"outlinewidth\":0,\"ticks\":\"\"}},\"marker\":{\"colorbar\":{\"outlinewidth\":0,\"ticks\":\"\"}}}],\"scattermapbox\":[{\"type\":\"scattermapbox\",\"marker\":{\"colorbar\":{\"outlinewidth\":0,\"ticks\":\"\"}}}],\"scatterternary\":[{\"type\":\"scatterternary\",\"marker\":{\"colorbar\":{\"outlinewidth\":0,\"ticks\":\"\"}}}],\"scattercarpet\":[{\"type\":\"scattercarpet\",\"marker\":{\"colorbar\":{\"outlinewidth\":0,\"ticks\":\"\"}}}],\"carpet\":[{\"aaxis\":{\"endlinecolor\":\"#2a3f5f\",\"gridcolor\":\"white\",\"linecolor\":\"white\",\"minorgridcolor\":\"white\",\"startlinecolor\":\"#2a3f5f\"},\"baxis\":{\"endlinecolor\":\"#2a3f5f\",\"gridcolor\":\"white\",\"linecolor\":\"white\",\"minorgridcolor\":\"white\",\"startlinecolor\":\"#2a3f5f\"},\"type\":\"carpet\"}],\"table\":[{\"cells\":{\"fill\":{\"color\":\"#EBF0F8\"},\"line\":{\"color\":\"white\"}},\"header\":{\"fill\":{\"color\":\"#C8D4E3\"},\"line\":{\"color\":\"white\"}},\"type\":\"table\"}],\"barpolar\":[{\"marker\":{\"line\":{\"color\":\"#E5ECF6\",\"width\":0.5},\"pattern\":{\"fillmode\":\"overlay\",\"size\":10,\"solidity\":0.2}},\"type\":\"barpolar\"}],\"pie\":[{\"automargin\":true,\"type\":\"pie\"}]},\"layout\":{\"autotypenumbers\":\"strict\",\"colorway\":[\"#636efa\",\"#EF553B\",\"#00cc96\",\"#ab63fa\",\"#FFA15A\",\"#19d3f3\",\"#FF6692\",\"#B6E880\",\"#FF97FF\",\"#FECB52\"],\"font\":{\"color\":\"#2a3f5f\"},\"hovermode\":\"closest\",\"hoverlabel\":{\"align\":\"left\"},\"paper_bgcolor\":\"white\",\"plot_bgcolor\":\"#E5ECF6\",\"polar\":{\"bgcolor\":\"#E5ECF6\",\"angularaxis\":{\"gridcolor\":\"white\",\"linecolor\":\"white\",\"ticks\":\"\"},\"radialaxis\":{\"gridcolor\":\"white\",\"linecolor\":\"white\",\"ticks\":\"\"}},\"ternary\":{\"bgcolor\":\"#E5ECF6\",\"aaxis\":{\"gridcolor\":\"white\",\"linecolor\":\"white\",\"ticks\":\"\"},\"baxis\":{\"gridcolor\":\"white\",\"linecolor\":\"white\",\"ticks\":\"\"},\"caxis\":{\"gridcolor\":\"white\",\"linecolor\":\"white\",\"ticks\":\"\"}},\"coloraxis\":{\"colorbar\":{\"outlinewidth\":0,\"ticks\":\"\"}},\"colorscale\":{\"sequential\":[[0.0,\"#0d0887\"],[0.1111111111111111,\"#46039f\"],[0.2222222222222222,\"#7201a8\"],[0.3333333333333333,\"#9c179e\"],[0.4444444444444444,\"#bd3786\"],[0.5555555555555556,\"#d8576b\"],[0.6666666666666666,\"#ed7953\"],[0.7777777777777778,\"#fb9f3a\"],[0.8888888888888888,\"#fdca26\"],[1.0,\"#f0f921\"]],\"sequentialminus\":[[0.0,\"#0d0887\"],[0.1111111111111111,\"#46039f\"],[0.2222222222222222,\"#7201a8\"],[0.3333333333333333,\"#9c179e\"],[0.4444444444444444,\"#bd3786\"],[0.5555555555555556,\"#d8576b\"],[0.6666666666666666,\"#ed7953\"],[0.7777777777777778,\"#fb9f3a\"],[0.8888888888888888,\"#fdca26\"],[1.0,\"#f0f921\"]],\"diverging\":[[0,\"#8e0152\"],[0.1,\"#c51b7d\"],[0.2,\"#de77ae\"],[0.3,\"#f1b6da\"],[0.4,\"#fde0ef\"],[0.5,\"#f7f7f7\"],[0.6,\"#e6f5d0\"],[0.7,\"#b8e186\"],[0.8,\"#7fbc41\"],[0.9,\"#4d9221\"],[1,\"#276419\"]]},\"xaxis\":{\"gridcolor\":\"white\",\"linecolor\":\"white\",\"ticks\":\"\",\"title\":{\"standoff\":15},\"zerolinecolor\":\"white\",\"automargin\":true,\"zerolinewidth\":2},\"yaxis\":{\"gridcolor\":\"white\",\"linecolor\":\"white\",\"ticks\":\"\",\"title\":{\"standoff\":15},\"zerolinecolor\":\"white\",\"automargin\":true,\"zerolinewidth\":2},\"scene\":{\"xaxis\":{\"backgroundcolor\":\"#E5ECF6\",\"gridcolor\":\"white\",\"linecolor\":\"white\",\"showbackground\":true,\"ticks\":\"\",\"zerolinecolor\":\"white\",\"gridwidth\":2},\"yaxis\":{\"backgroundcolor\":\"#E5ECF6\",\"gridcolor\":\"white\",\"linecolor\":\"white\",\"showbackground\":true,\"ticks\":\"\",\"zerolinecolor\":\"white\",\"gridwidth\":2},\"zaxis\":{\"backgroundcolor\":\"#E5ECF6\",\"gridcolor\":\"white\",\"linecolor\":\"white\",\"showbackground\":true,\"ticks\":\"\",\"zerolinecolor\":\"white\",\"gridwidth\":2}},\"shapedefaults\":{\"line\":{\"color\":\"#2a3f5f\"}},\"annotationdefaults\":{\"arrowcolor\":\"#2a3f5f\",\"arrowhead\":0,\"arrowwidth\":1},\"geo\":{\"bgcolor\":\"white\",\"landcolor\":\"#E5ECF6\",\"subunitcolor\":\"white\",\"showland\":true,\"showlakes\":true,\"lakecolor\":\"white\"},\"title\":{\"x\":0.05},\"mapbox\":{\"style\":\"light\"}}},\"xaxis\":{\"anchor\":\"y\",\"domain\":[0.0,0.31999999999999995],\"scaleanchor\":\"y\",\"constrain\":\"domain\",\"title\":{\"text\":\"source_tok\"}},\"yaxis\":{\"anchor\":\"x\",\"domain\":[0.0,1.0],\"autorange\":\"reversed\",\"constrain\":\"domain\",\"title\":{\"text\":\"dest_tok\"}},\"xaxis2\":{\"anchor\":\"y2\",\"domain\":[0.33999999999999997,0.6599999999999999],\"matches\":\"x\",\"title\":{\"text\":\"source_tok\"}},\"yaxis2\":{\"anchor\":\"x2\",\"domain\":[0.0,1.0],\"matches\":\"y\",\"showticklabels\":false},\"xaxis3\":{\"anchor\":\"y3\",\"domain\":[0.6799999999999999,0.9999999999999999],\"matches\":\"x\",\"title\":{\"text\":\"source_tok\"}},\"yaxis3\":{\"anchor\":\"x3\",\"domain\":[0.0,1.0],\"matches\":\"y\",\"showticklabels\":false},\"annotations\":[{\"font\":{},\"showarrow\":false,\"text\":\"facet_col=0\",\"x\":0.15999999999999998,\"xanchor\":\"center\",\"xref\":\"paper\",\"y\":1.0,\"yanchor\":\"bottom\",\"yref\":\"paper\"},{\"font\":{},\"showarrow\":false,\"text\":\"facet_col=1\",\"x\":0.49999999999999994,\"xanchor\":\"center\",\"xref\":\"paper\",\"y\":1.0,\"yanchor\":\"bottom\",\"yref\":\"paper\"},{\"font\":{},\"showarrow\":false,\"text\":\"facet_col=2\",\"x\":0.8399999999999999,\"xanchor\":\"center\",\"xref\":\"paper\",\"y\":1.0,\"yanchor\":\"bottom\",\"yref\":\"paper\"}],\"coloraxis\":{\"colorscale\":[[0.0,\"rgb(103,0,31)\"],[0.1,\"rgb(178,24,43)\"],[0.2,\"rgb(214,96,77)\"],[0.3,\"rgb(244,165,130)\"],[0.4,\"rgb(253,219,199)\"],[0.5,\"rgb(247,247,247)\"],[0.6,\"rgb(209,229,240)\"],[0.7,\"rgb(146,197,222)\"],[0.8,\"rgb(67,147,195)\"],[0.9,\"rgb(33,102,172)\"],[1.0,\"rgb(5,48,97)\"]],\"cmid\":0.0},\"title\":{\"text\":\"religious names\"}},                        {\"responsive\": true}                    ).then(function(){\n",
       "                            \n",
       "var gd = document.getElementById('3398ae7c-d616-4543-85ed-7778e9d174a6');\n",
       "var x = new MutationObserver(function (mutations, observer) {{\n",
       "        var display = window.getComputedStyle(gd).display;\n",
       "        if (!display || display === 'none') {{\n",
       "            console.log([gd, 'removed!']);\n",
       "            Plotly.purge(gd);\n",
       "            observer.disconnect();\n",
       "        }}\n",
       "}});\n",
       "\n",
       "// Listen for the removal of the full notebook cells\n",
       "var notebookContainer = gd.closest('#notebook-container');\n",
       "if (notebookContainer) {{\n",
       "    x.observe(notebookContainer, {childList: true});\n",
       "}}\n",
       "\n",
       "// Listen for the clearing of the current output cell\n",
       "var outputEl = gd.closest('.output');\n",
       "if (outputEl) {{\n",
       "    x.observe(outputEl, {childList: true});\n",
       "}}\n",
       "\n",
       "                        })                };                });            </script>        </div>"
      ]
     },
     "metadata": {},
     "output_type": "display_data"
    }
   ],
   "source": [
    "heads = [(9,6), (9,9), (10,0)]\n",
    "patts = []\n",
    "for layer, head in heads:\n",
    "  patts.append(rel_cache[\"pattern\", layer][:,head, :,:])\n",
    "patts = t.stack(patts)\n",
    "patts.shape\n",
    "patts = patts.mean(dim = 1)\n",
    "\n",
    "imshow(patts, facet_col = 0, yaxis = \"dest_tok\", xaxis = \"source_tok\", title = \"religious names\", x= model.to_str_tokens(prompts_rel[0]), y = model.to_str_tokens(prompts_rel[0]))"
   ]
  },
  {
   "cell_type": "code",
   "execution_count": 134,
   "metadata": {},
   "outputs": [
    {
     "data": {
      "text/html": [
       "<div>                            <div id=\"ab5621b2-035c-4ea4-a3df-2c26f8e0940d\" class=\"plotly-graph-div\" style=\"height:525px; width:100%;\"></div>            <script type=\"text/javascript\">                require([\"plotly\"], function(Plotly) {                    window.PLOTLYENV=window.PLOTLYENV || {};                                    if (document.getElementById(\"ab5621b2-035c-4ea4-a3df-2c26f8e0940d\")) {                    Plotly.newPlot(                        \"ab5621b2-035c-4ea4-a3df-2c26f8e0940d\",                        [{\"coloraxis\":\"coloraxis\",\"name\":\"0\",\"x\":[\"<|endoftext|>\",\"When\",\" Paris\",\" and\",\" London\",\" went\",\" to\",\" the\",\" shops\",\",\",\" London\",\" gave\",\" the\",\" bag\",\" to\"],\"y\":[\"<|endoftext|>\",\"When\",\" Paris\",\" and\",\" London\",\" went\",\" to\",\" the\",\" shops\",\",\",\" London\",\" gave\",\" the\",\" bag\",\" to\"],\"z\":[[1.0,0.0,0.0,0.0,0.0,0.0,0.0,0.0,0.0,0.0,0.0,0.0,0.0,0.0,0.0],[0.9985043406486511,0.0014959131367504597,0.0,0.0,0.0,0.0,0.0,0.0,0.0,0.0,0.0,0.0,0.0,0.0,0.0],[0.9925069808959961,0.0012268486898392439,0.006266201846301556,0.0,0.0,0.0,0.0,0.0,0.0,0.0,0.0,0.0,0.0,0.0,0.0],[0.9482635259628296,0.0012206211686134338,0.047783635556697845,0.0027320634108036757,0.0,0.0,0.0,0.0,0.0,0.0,0.0,0.0,0.0,0.0,0.0],[0.970349133014679,0.0013736434048041701,0.006143626756966114,0.010636379010975361,0.011497363448143005,0.0,0.0,0.0,0.0,0.0,0.0,0.0,0.0,0.0,0.0],[0.9913180470466614,0.0006493005785159767,0.0018379188841208816,0.001148036913946271,0.002214564476162195,0.002832174301147461,0.0,0.0,0.0,0.0,0.0,0.0,0.0,0.0,0.0],[0.959412693977356,0.0011543284635990858,0.017087871208786964,0.0012974115088582039,0.016598613932728767,0.0011689799139276147,0.003280243370682001,0.0,0.0,0.0,0.0,0.0,0.0,0.0,0.0],[0.9871276021003723,0.0006810359773226082,0.003407847136259079,0.0012080151354894042,0.0046270363964140415,0.0005193824181333184,0.0015421019634231925,0.0008869911544024944,0.0,0.0,0.0,0.0,0.0,0.0,0.0],[0.9811021089553833,0.006217588670551777,0.0020548172760754824,0.0004825310898013413,0.001080912770703435,0.00024937751004472375,0.0015362759586423635,0.00056045176461339,0.006715986877679825,0.0,0.0,0.0,0.0,0.0,0.0],[0.7588092088699341,0.0038336627185344696,0.09320484846830368,0.0014776027528569102,0.12949475646018982,0.000639519770629704,0.0004779007285833359,0.0003084828204009682,0.010295088402926922,0.0014589037746191025,0.0,0.0,0.0,0.0,0.0],[0.944548487663269,0.0015367560554295778,0.0034790232311934233,0.013914364390075207,0.011825810186564922,0.002886964241042733,0.0016375906998291612,0.0005774878663942218,0.013082429766654968,0.0019317265832796693,0.004579417407512665,0.0,0.0,0.0,0.0],[0.41202956438064575,0.0018817263189703226,0.13956791162490845,0.0036553367972373962,0.36474475264549255,0.0006915368721820414,0.0004993568873032928,0.0006865955656394362,0.006847454700618982,0.0007907429826445878,0.06661650538444519,0.0019885050132870674,0.0,0.0,0.0],[0.6916347146034241,0.002096326556056738,0.0376419872045517,0.009017323143780231,0.10064294189214706,0.0038998425006866455,0.0013782045571133494,0.00016356052947230637,0.13886091113090515,0.0021736393682658672,0.0077839987352490425,0.002200835384428501,0.002505720127373934,0.0,0.0],[0.9756827354431152,0.0016180071979761124,0.0045476919040083885,0.0002562079462222755,0.001706407987512648,0.0001754497643560171,0.0008947032620199025,0.00032038992503657937,0.004126506391912699,0.0016822100151330233,0.0033333278261125088,9.200369822792709e-05,0.001004652353003621,0.004559764172881842,0.0],[0.2945348620414734,0.000950183137319982,0.1535433977842331,0.0010475735180079937,0.45718035101890564,0.00023832703300286084,0.00010660693806130439,0.00016105355462059379,0.00399309117347002,0.00025845837080851197,0.0835002213716507,0.00014073136844672263,0.0009177437168546021,0.003066370729357004,0.0003609672130551189]],\"type\":\"heatmap\",\"xaxis\":\"x\",\"yaxis\":\"y\",\"hovertemplate\":\"source_tok: %{x}<br>dest_tok: %{y}<br>color: %{z}<extra></extra>\"},{\"coloraxis\":\"coloraxis\",\"name\":\"1\",\"x\":[\"<|endoftext|>\",\"When\",\" Paris\",\" and\",\" London\",\" went\",\" to\",\" the\",\" shops\",\",\",\" London\",\" gave\",\" the\",\" bag\",\" to\"],\"y\":[\"<|endoftext|>\",\"When\",\" Paris\",\" and\",\" London\",\" went\",\" to\",\" the\",\" shops\",\",\",\" London\",\" gave\",\" the\",\" bag\",\" to\"],\"z\":[[1.0,0.0,0.0,0.0,0.0,0.0,0.0,0.0,0.0,0.0,0.0,0.0,0.0,0.0,0.0],[0.9979304075241089,0.0020696446299552917,0.0,0.0,0.0,0.0,0.0,0.0,0.0,0.0,0.0,0.0,0.0,0.0,0.0],[0.9947412610054016,0.0011438413057476282,0.004114977549761534,0.0,0.0,0.0,0.0,0.0,0.0,0.0,0.0,0.0,0.0,0.0,0.0],[0.9736889004707336,0.0016314219683408737,0.022983450442552567,0.001696412218734622,0.0,0.0,0.0,0.0,0.0,0.0,0.0,0.0,0.0,0.0,0.0],[0.9881922006607056,0.00124395324382931,0.0020821886137127876,0.0040304819121956825,0.004451085347682238,0.0,0.0,0.0,0.0,0.0,0.0,0.0,0.0,0.0,0.0],[0.9950594902038574,0.000740524148568511,0.0010858470341190696,0.00034201075322926044,0.001574863912537694,0.0011972924694418907,0.0,0.0,0.0,0.0,0.0,0.0,0.0,0.0,0.0],[0.9541093707084656,0.0013217829400673509,0.014823379926383495,0.000349525740602985,0.022489409893751144,0.0015453784726560116,0.005361007992178202,0.0,0.0,0.0,0.0,0.0,0.0,0.0,0.0],[0.9906757473945618,0.0010281226132065058,0.0030227613169699907,0.00016157550271600485,0.0031440749298781157,0.0001819361059460789,0.00041625177254900336,0.0013695880770683289,0.0,0.0,0.0,0.0,0.0,0.0,0.0],[0.9936046600341797,0.0009107665391638875,0.0005974278901703656,0.000283373607089743,0.0004060633946210146,0.0001667849428486079,0.00033520316355861723,0.00011310045374557376,0.0035827183164656162,0.0,0.0,0.0,0.0,0.0,0.0],[0.7416387796401978,0.004546697251498699,0.09936487674713135,0.0026552188210189342,0.1382485032081604,0.0006031934171915054,0.0008117347024381161,0.0013085660757496953,0.007256170269101858,0.0035663172602653503,0.0,0.0,0.0,0.0,0.0],[0.9468237161636353,0.0017924157436937094,0.002793673425912857,0.02944941446185112,0.008098611608147621,0.0018188453977927566,0.0006939407321624458,0.00038918846985325217,0.004417183808982372,0.0015295927878469229,0.0021934262476861477,0.0,0.0,0.0,0.0],[0.35589614510536194,0.010192844085395336,0.19486862421035767,0.006823128554970026,0.3563602566719055,0.0008032281184569001,0.0006917977007105947,0.0018891992513090372,0.0077466340735554695,0.00355010898783803,0.05885189771652222,0.00232610572129488,0.0,0.0,0.0],[0.707180917263031,0.0059557100757956505,0.04002807289361954,0.0060960217379033566,0.05531081557273865,0.0025396407581865788,0.0011005678679794073,0.0007841667393222451,0.160731703042984,0.0042674788273870945,0.008296105079352856,0.002269567921757698,0.005439236760139465,0.0,0.0],[0.9777622222900391,0.000864867412019521,0.0014126712922006845,6.204033707035705e-05,0.0005722860223613679,9.109103120863438e-05,0.00034450148814357817,6.011538062011823e-05,0.0035916075576096773,0.0015355728100985289,0.000912291114218533,6.688879511784762e-05,0.0002544982125982642,0.0124693363904953,0.0],[0.21705615520477295,0.005495503544807434,0.20211148262023926,0.002179538132622838,0.4886765480041504,0.0002644209598656744,0.0002879946550820023,0.0015782371629029512,0.0026127921883016825,0.002191977109760046,0.06727932393550873,0.00017406560073141009,0.006440849043428898,0.002099354285746813,0.0015517626889050007]],\"type\":\"heatmap\",\"xaxis\":\"x2\",\"yaxis\":\"y2\",\"hovertemplate\":\"source_tok: %{x}<br>dest_tok: %{y}<br>color: %{z}<extra></extra>\"},{\"coloraxis\":\"coloraxis\",\"name\":\"2\",\"x\":[\"<|endoftext|>\",\"When\",\" Paris\",\" and\",\" London\",\" went\",\" to\",\" the\",\" shops\",\",\",\" London\",\" gave\",\" the\",\" bag\",\" to\"],\"y\":[\"<|endoftext|>\",\"When\",\" Paris\",\" and\",\" London\",\" went\",\" to\",\" the\",\" shops\",\",\",\" London\",\" gave\",\" the\",\" bag\",\" to\"],\"z\":[[1.0,0.0,0.0,0.0,0.0,0.0,0.0,0.0,0.0,0.0,0.0,0.0,0.0,0.0,0.0],[0.9776753187179565,0.022324660792946815,0.0,0.0,0.0,0.0,0.0,0.0,0.0,0.0,0.0,0.0,0.0,0.0,0.0],[0.908225417137146,0.00924752652645111,0.08252700418233871,0.0,0.0,0.0,0.0,0.0,0.0,0.0,0.0,0.0,0.0,0.0,0.0],[0.7678535580635071,0.009175007231533527,0.18370956182479858,0.03926180675625801,0.0,0.0,0.0,0.0,0.0,0.0,0.0,0.0,0.0,0.0,0.0],[0.8571586608886719,0.011959968134760857,0.05062717944383621,0.028755569830536842,0.051498569548130035,0.0,0.0,0.0,0.0,0.0,0.0,0.0,0.0,0.0,0.0],[0.9243679046630859,0.0034386683255434036,0.01898137293756008,0.011000613681972027,0.03730091452598572,0.004910572897642851,0.0,0.0,0.0,0.0,0.0,0.0,0.0,0.0,0.0],[0.6525872945785522,0.011791992001235485,0.12183940410614014,0.01286837924271822,0.16914409399032593,0.00944279134273529,0.022326011210680008,0.0,0.0,0.0,0.0,0.0,0.0,0.0,0.0],[0.7886000871658325,0.00921181496232748,0.0659141093492508,0.016551872715353966,0.08197537064552307,0.004021543078124523,0.016234559938311577,0.01749061979353428,0.0,0.0,0.0,0.0,0.0,0.0,0.0],[0.9164931178092957,0.005347420461475849,0.031872790306806564,0.0015610166592523456,0.019009530544281006,0.0014170764479786158,0.0010759796714410186,0.0011559977428987622,0.022067008540034294,0.0,0.0,0.0,0.0,0.0,0.0],[0.42542439699172974,0.005258945748209953,0.19312159717082977,0.007908126339316368,0.2645297944545746,0.00360683212056756,0.0032513183541595936,0.004003339447081089,0.08290351927280426,0.009992129169404507,0.0,0.0,0.0,0.0,0.0],[0.8436252474784851,0.005181506741791964,0.01318134181201458,0.007740744389593601,0.015530839562416077,0.005091038532555103,0.004547120071947575,0.001971723511815071,0.07410012185573578,0.013931268826127052,0.015099013224244118,0.0,0.0,0.0,0.0],[0.33557137846946716,0.007918622344732285,0.1888635903596878,0.010228903032839298,0.3247322142124176,0.002759256400167942,0.004058183170855045,0.003527926281094551,0.03598764166235924,0.007665783166885376,0.07550127804279327,0.003185172798112035,0.0,0.0,0.0],[0.40958070755004883,0.006270820740610361,0.10948951542377472,0.021037304773926735,0.15964987874031067,0.00657456461340189,0.012312422506511211,0.002962900325655937,0.23238115012645721,0.012339779175817966,0.018386999145150185,0.0051649101078510284,0.0038490649312734604,0.0,0.0],[0.8691250085830688,0.005907867103815079,0.01994458958506584,0.0018659975612536073,0.01222416665405035,0.0012350451434031129,0.00135906133800745,0.0009218174964189529,0.03639321029186249,0.00772979948669672,0.01252077054232359,0.0011522762943059206,0.0013381957542151213,0.028282154351472855,0.0],[0.3126397728919983,0.007508793380111456,0.21070650219917297,0.004676808603107929,0.35818952322006226,0.0020531252957880497,0.0021290124859660864,0.0015847228933125734,0.023047765716910362,0.0044385287910699844,0.05073346942663193,0.0008398752543143928,0.0013778486754745245,0.01640309952199459,0.0036711625289171934]],\"type\":\"heatmap\",\"xaxis\":\"x3\",\"yaxis\":\"y3\",\"hovertemplate\":\"source_tok: %{x}<br>dest_tok: %{y}<br>color: %{z}<extra></extra>\"}],                        {\"template\":{\"data\":{\"histogram2dcontour\":[{\"type\":\"histogram2dcontour\",\"colorbar\":{\"outlinewidth\":0,\"ticks\":\"\"},\"colorscale\":[[0.0,\"#0d0887\"],[0.1111111111111111,\"#46039f\"],[0.2222222222222222,\"#7201a8\"],[0.3333333333333333,\"#9c179e\"],[0.4444444444444444,\"#bd3786\"],[0.5555555555555556,\"#d8576b\"],[0.6666666666666666,\"#ed7953\"],[0.7777777777777778,\"#fb9f3a\"],[0.8888888888888888,\"#fdca26\"],[1.0,\"#f0f921\"]]}],\"choropleth\":[{\"type\":\"choropleth\",\"colorbar\":{\"outlinewidth\":0,\"ticks\":\"\"}}],\"histogram2d\":[{\"type\":\"histogram2d\",\"colorbar\":{\"outlinewidth\":0,\"ticks\":\"\"},\"colorscale\":[[0.0,\"#0d0887\"],[0.1111111111111111,\"#46039f\"],[0.2222222222222222,\"#7201a8\"],[0.3333333333333333,\"#9c179e\"],[0.4444444444444444,\"#bd3786\"],[0.5555555555555556,\"#d8576b\"],[0.6666666666666666,\"#ed7953\"],[0.7777777777777778,\"#fb9f3a\"],[0.8888888888888888,\"#fdca26\"],[1.0,\"#f0f921\"]]}],\"heatmap\":[{\"type\":\"heatmap\",\"colorbar\":{\"outlinewidth\":0,\"ticks\":\"\"},\"colorscale\":[[0.0,\"#0d0887\"],[0.1111111111111111,\"#46039f\"],[0.2222222222222222,\"#7201a8\"],[0.3333333333333333,\"#9c179e\"],[0.4444444444444444,\"#bd3786\"],[0.5555555555555556,\"#d8576b\"],[0.6666666666666666,\"#ed7953\"],[0.7777777777777778,\"#fb9f3a\"],[0.8888888888888888,\"#fdca26\"],[1.0,\"#f0f921\"]]}],\"heatmapgl\":[{\"type\":\"heatmapgl\",\"colorbar\":{\"outlinewidth\":0,\"ticks\":\"\"},\"colorscale\":[[0.0,\"#0d0887\"],[0.1111111111111111,\"#46039f\"],[0.2222222222222222,\"#7201a8\"],[0.3333333333333333,\"#9c179e\"],[0.4444444444444444,\"#bd3786\"],[0.5555555555555556,\"#d8576b\"],[0.6666666666666666,\"#ed7953\"],[0.7777777777777778,\"#fb9f3a\"],[0.8888888888888888,\"#fdca26\"],[1.0,\"#f0f921\"]]}],\"contourcarpet\":[{\"type\":\"contourcarpet\",\"colorbar\":{\"outlinewidth\":0,\"ticks\":\"\"}}],\"contour\":[{\"type\":\"contour\",\"colorbar\":{\"outlinewidth\":0,\"ticks\":\"\"},\"colorscale\":[[0.0,\"#0d0887\"],[0.1111111111111111,\"#46039f\"],[0.2222222222222222,\"#7201a8\"],[0.3333333333333333,\"#9c179e\"],[0.4444444444444444,\"#bd3786\"],[0.5555555555555556,\"#d8576b\"],[0.6666666666666666,\"#ed7953\"],[0.7777777777777778,\"#fb9f3a\"],[0.8888888888888888,\"#fdca26\"],[1.0,\"#f0f921\"]]}],\"surface\":[{\"type\":\"surface\",\"colorbar\":{\"outlinewidth\":0,\"ticks\":\"\"},\"colorscale\":[[0.0,\"#0d0887\"],[0.1111111111111111,\"#46039f\"],[0.2222222222222222,\"#7201a8\"],[0.3333333333333333,\"#9c179e\"],[0.4444444444444444,\"#bd3786\"],[0.5555555555555556,\"#d8576b\"],[0.6666666666666666,\"#ed7953\"],[0.7777777777777778,\"#fb9f3a\"],[0.8888888888888888,\"#fdca26\"],[1.0,\"#f0f921\"]]}],\"mesh3d\":[{\"type\":\"mesh3d\",\"colorbar\":{\"outlinewidth\":0,\"ticks\":\"\"}}],\"scatter\":[{\"fillpattern\":{\"fillmode\":\"overlay\",\"size\":10,\"solidity\":0.2},\"type\":\"scatter\"}],\"parcoords\":[{\"type\":\"parcoords\",\"line\":{\"colorbar\":{\"outlinewidth\":0,\"ticks\":\"\"}}}],\"scatterpolargl\":[{\"type\":\"scatterpolargl\",\"marker\":{\"colorbar\":{\"outlinewidth\":0,\"ticks\":\"\"}}}],\"bar\":[{\"error_x\":{\"color\":\"#2a3f5f\"},\"error_y\":{\"color\":\"#2a3f5f\"},\"marker\":{\"line\":{\"color\":\"#E5ECF6\",\"width\":0.5},\"pattern\":{\"fillmode\":\"overlay\",\"size\":10,\"solidity\":0.2}},\"type\":\"bar\"}],\"scattergeo\":[{\"type\":\"scattergeo\",\"marker\":{\"colorbar\":{\"outlinewidth\":0,\"ticks\":\"\"}}}],\"scatterpolar\":[{\"type\":\"scatterpolar\",\"marker\":{\"colorbar\":{\"outlinewidth\":0,\"ticks\":\"\"}}}],\"histogram\":[{\"marker\":{\"pattern\":{\"fillmode\":\"overlay\",\"size\":10,\"solidity\":0.2}},\"type\":\"histogram\"}],\"scattergl\":[{\"type\":\"scattergl\",\"marker\":{\"colorbar\":{\"outlinewidth\":0,\"ticks\":\"\"}}}],\"scatter3d\":[{\"type\":\"scatter3d\",\"line\":{\"colorbar\":{\"outlinewidth\":0,\"ticks\":\"\"}},\"marker\":{\"colorbar\":{\"outlinewidth\":0,\"ticks\":\"\"}}}],\"scattermapbox\":[{\"type\":\"scattermapbox\",\"marker\":{\"colorbar\":{\"outlinewidth\":0,\"ticks\":\"\"}}}],\"scatterternary\":[{\"type\":\"scatterternary\",\"marker\":{\"colorbar\":{\"outlinewidth\":0,\"ticks\":\"\"}}}],\"scattercarpet\":[{\"type\":\"scattercarpet\",\"marker\":{\"colorbar\":{\"outlinewidth\":0,\"ticks\":\"\"}}}],\"carpet\":[{\"aaxis\":{\"endlinecolor\":\"#2a3f5f\",\"gridcolor\":\"white\",\"linecolor\":\"white\",\"minorgridcolor\":\"white\",\"startlinecolor\":\"#2a3f5f\"},\"baxis\":{\"endlinecolor\":\"#2a3f5f\",\"gridcolor\":\"white\",\"linecolor\":\"white\",\"minorgridcolor\":\"white\",\"startlinecolor\":\"#2a3f5f\"},\"type\":\"carpet\"}],\"table\":[{\"cells\":{\"fill\":{\"color\":\"#EBF0F8\"},\"line\":{\"color\":\"white\"}},\"header\":{\"fill\":{\"color\":\"#C8D4E3\"},\"line\":{\"color\":\"white\"}},\"type\":\"table\"}],\"barpolar\":[{\"marker\":{\"line\":{\"color\":\"#E5ECF6\",\"width\":0.5},\"pattern\":{\"fillmode\":\"overlay\",\"size\":10,\"solidity\":0.2}},\"type\":\"barpolar\"}],\"pie\":[{\"automargin\":true,\"type\":\"pie\"}]},\"layout\":{\"autotypenumbers\":\"strict\",\"colorway\":[\"#636efa\",\"#EF553B\",\"#00cc96\",\"#ab63fa\",\"#FFA15A\",\"#19d3f3\",\"#FF6692\",\"#B6E880\",\"#FF97FF\",\"#FECB52\"],\"font\":{\"color\":\"#2a3f5f\"},\"hovermode\":\"closest\",\"hoverlabel\":{\"align\":\"left\"},\"paper_bgcolor\":\"white\",\"plot_bgcolor\":\"#E5ECF6\",\"polar\":{\"bgcolor\":\"#E5ECF6\",\"angularaxis\":{\"gridcolor\":\"white\",\"linecolor\":\"white\",\"ticks\":\"\"},\"radialaxis\":{\"gridcolor\":\"white\",\"linecolor\":\"white\",\"ticks\":\"\"}},\"ternary\":{\"bgcolor\":\"#E5ECF6\",\"aaxis\":{\"gridcolor\":\"white\",\"linecolor\":\"white\",\"ticks\":\"\"},\"baxis\":{\"gridcolor\":\"white\",\"linecolor\":\"white\",\"ticks\":\"\"},\"caxis\":{\"gridcolor\":\"white\",\"linecolor\":\"white\",\"ticks\":\"\"}},\"coloraxis\":{\"colorbar\":{\"outlinewidth\":0,\"ticks\":\"\"}},\"colorscale\":{\"sequential\":[[0.0,\"#0d0887\"],[0.1111111111111111,\"#46039f\"],[0.2222222222222222,\"#7201a8\"],[0.3333333333333333,\"#9c179e\"],[0.4444444444444444,\"#bd3786\"],[0.5555555555555556,\"#d8576b\"],[0.6666666666666666,\"#ed7953\"],[0.7777777777777778,\"#fb9f3a\"],[0.8888888888888888,\"#fdca26\"],[1.0,\"#f0f921\"]],\"sequentialminus\":[[0.0,\"#0d0887\"],[0.1111111111111111,\"#46039f\"],[0.2222222222222222,\"#7201a8\"],[0.3333333333333333,\"#9c179e\"],[0.4444444444444444,\"#bd3786\"],[0.5555555555555556,\"#d8576b\"],[0.6666666666666666,\"#ed7953\"],[0.7777777777777778,\"#fb9f3a\"],[0.8888888888888888,\"#fdca26\"],[1.0,\"#f0f921\"]],\"diverging\":[[0,\"#8e0152\"],[0.1,\"#c51b7d\"],[0.2,\"#de77ae\"],[0.3,\"#f1b6da\"],[0.4,\"#fde0ef\"],[0.5,\"#f7f7f7\"],[0.6,\"#e6f5d0\"],[0.7,\"#b8e186\"],[0.8,\"#7fbc41\"],[0.9,\"#4d9221\"],[1,\"#276419\"]]},\"xaxis\":{\"gridcolor\":\"white\",\"linecolor\":\"white\",\"ticks\":\"\",\"title\":{\"standoff\":15},\"zerolinecolor\":\"white\",\"automargin\":true,\"zerolinewidth\":2},\"yaxis\":{\"gridcolor\":\"white\",\"linecolor\":\"white\",\"ticks\":\"\",\"title\":{\"standoff\":15},\"zerolinecolor\":\"white\",\"automargin\":true,\"zerolinewidth\":2},\"scene\":{\"xaxis\":{\"backgroundcolor\":\"#E5ECF6\",\"gridcolor\":\"white\",\"linecolor\":\"white\",\"showbackground\":true,\"ticks\":\"\",\"zerolinecolor\":\"white\",\"gridwidth\":2},\"yaxis\":{\"backgroundcolor\":\"#E5ECF6\",\"gridcolor\":\"white\",\"linecolor\":\"white\",\"showbackground\":true,\"ticks\":\"\",\"zerolinecolor\":\"white\",\"gridwidth\":2},\"zaxis\":{\"backgroundcolor\":\"#E5ECF6\",\"gridcolor\":\"white\",\"linecolor\":\"white\",\"showbackground\":true,\"ticks\":\"\",\"zerolinecolor\":\"white\",\"gridwidth\":2}},\"shapedefaults\":{\"line\":{\"color\":\"#2a3f5f\"}},\"annotationdefaults\":{\"arrowcolor\":\"#2a3f5f\",\"arrowhead\":0,\"arrowwidth\":1},\"geo\":{\"bgcolor\":\"white\",\"landcolor\":\"#E5ECF6\",\"subunitcolor\":\"white\",\"showland\":true,\"showlakes\":true,\"lakecolor\":\"white\"},\"title\":{\"x\":0.05},\"mapbox\":{\"style\":\"light\"}}},\"xaxis\":{\"anchor\":\"y\",\"domain\":[0.0,0.31999999999999995],\"scaleanchor\":\"y\",\"constrain\":\"domain\",\"title\":{\"text\":\"source_tok\"}},\"yaxis\":{\"anchor\":\"x\",\"domain\":[0.0,1.0],\"autorange\":\"reversed\",\"constrain\":\"domain\",\"title\":{\"text\":\"dest_tok\"}},\"xaxis2\":{\"anchor\":\"y2\",\"domain\":[0.33999999999999997,0.6599999999999999],\"matches\":\"x\",\"title\":{\"text\":\"source_tok\"}},\"yaxis2\":{\"anchor\":\"x2\",\"domain\":[0.0,1.0],\"matches\":\"y\",\"showticklabels\":false},\"xaxis3\":{\"anchor\":\"y3\",\"domain\":[0.6799999999999999,0.9999999999999999],\"matches\":\"x\",\"title\":{\"text\":\"source_tok\"}},\"yaxis3\":{\"anchor\":\"x3\",\"domain\":[0.0,1.0],\"matches\":\"y\",\"showticklabels\":false},\"annotations\":[{\"font\":{},\"showarrow\":false,\"text\":\"facet_col=0\",\"x\":0.15999999999999998,\"xanchor\":\"center\",\"xref\":\"paper\",\"y\":1.0,\"yanchor\":\"bottom\",\"yref\":\"paper\"},{\"font\":{},\"showarrow\":false,\"text\":\"facet_col=1\",\"x\":0.49999999999999994,\"xanchor\":\"center\",\"xref\":\"paper\",\"y\":1.0,\"yanchor\":\"bottom\",\"yref\":\"paper\"},{\"font\":{},\"showarrow\":false,\"text\":\"facet_col=2\",\"x\":0.8399999999999999,\"xanchor\":\"center\",\"xref\":\"paper\",\"y\":1.0,\"yanchor\":\"bottom\",\"yref\":\"paper\"}],\"coloraxis\":{\"colorscale\":[[0.0,\"rgb(103,0,31)\"],[0.1,\"rgb(178,24,43)\"],[0.2,\"rgb(214,96,77)\"],[0.3,\"rgb(244,165,130)\"],[0.4,\"rgb(253,219,199)\"],[0.5,\"rgb(247,247,247)\"],[0.6,\"rgb(209,229,240)\"],[0.7,\"rgb(146,197,222)\"],[0.8,\"rgb(67,147,195)\"],[0.9,\"rgb(33,102,172)\"],[1.0,\"rgb(5,48,97)\"]],\"cmid\":0.0},\"title\":{\"text\":\"place names\"}},                        {\"responsive\": true}                    ).then(function(){\n",
       "                            \n",
       "var gd = document.getElementById('ab5621b2-035c-4ea4-a3df-2c26f8e0940d');\n",
       "var x = new MutationObserver(function (mutations, observer) {{\n",
       "        var display = window.getComputedStyle(gd).display;\n",
       "        if (!display || display === 'none') {{\n",
       "            console.log([gd, 'removed!']);\n",
       "            Plotly.purge(gd);\n",
       "            observer.disconnect();\n",
       "        }}\n",
       "}});\n",
       "\n",
       "// Listen for the removal of the full notebook cells\n",
       "var notebookContainer = gd.closest('#notebook-container');\n",
       "if (notebookContainer) {{\n",
       "    x.observe(notebookContainer, {childList: true});\n",
       "}}\n",
       "\n",
       "// Listen for the clearing of the current output cell\n",
       "var outputEl = gd.closest('.output');\n",
       "if (outputEl) {{\n",
       "    x.observe(outputEl, {childList: true});\n",
       "}}\n",
       "\n",
       "                        })                };                });            </script>        </div>"
      ]
     },
     "metadata": {},
     "output_type": "display_data"
    }
   ],
   "source": [
    "heads = [(9,6), (9,9), (10,0)]\n",
    "patts = []\n",
    "for layer, head in heads:\n",
    "  patts.append(pl_cache[\"pattern\", layer][:,head, :,:])\n",
    "patts = t.stack(patts)\n",
    "patts.shape\n",
    "patts = patts.mean(dim = 1)\n",
    "\n",
    "imshow(patts, facet_col = 0, yaxis = \"dest_tok\", xaxis = \"source_tok\", title = \"place names\", x= model.to_str_tokens(prompts_pl[0]), y = model.to_str_tokens(prompts_pl[0]))"
   ]
  },
  {
   "cell_type": "code",
   "execution_count": null,
   "metadata": {},
   "outputs": [],
   "source": []
  }
 ],
 "metadata": {
  "kernelspec": {
   "display_name": "torch-gpu-clone",
   "language": "python",
   "name": "python3"
  },
  "language_info": {
   "codemirror_mode": {
    "name": "ipython",
    "version": 3
   },
   "file_extension": ".py",
   "mimetype": "text/x-python",
   "name": "python",
   "nbconvert_exporter": "python",
   "pygments_lexer": "ipython3",
   "version": "3.10.9"
  },
  "orig_nbformat": 4,
  "vscode": {
   "interpreter": {
    "hash": "d971c8a72bb284fa0a9b5de01499a335d758798a213b1433d653d782d7cc233d"
   }
  }
 },
 "nbformat": 4,
 "nbformat_minor": 2
}
