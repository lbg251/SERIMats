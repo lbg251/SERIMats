{
 "cells": [
  {
   "cell_type": "code",
   "execution_count": 5,
   "metadata": {},
   "outputs": [],
   "source": [
    "# Import stuff\n",
    "import torch as t\n",
    "import numpy as np\n",
    "# Plotly needs a different renderer for VSCode/Notebooks vs Colab argh\n",
    "import plotly.io as pio\n",
    "pio.renderers.default = \"notebook_connected\"\n",
    "import plotly.express as px\n",
    "import einops\n",
    "import plotly.graph_objects as go \n",
    "from functools import partial\n",
    "import tqdm.auto as tqdm\n",
    "import circuitsvis as cv\n",
    "from transformer_lens.hook_points import HookPoint\n",
    "from transformer_lens import utils, HookedTransformer, ActivationCache\n",
    "from transformer_lens.components import Embed, Unembed, LayerNorm, MLP\n",
    "from fancy_einsum import einsum\n",
    "from jaxtyping import Float, Int, Bool\n",
    "import re\n",
    "import random\n"
   ]
  },
  {
   "cell_type": "code",
   "execution_count": 2,
   "metadata": {},
   "outputs": [],
   "source": [
    "\n",
    "def imshow(tensor, renderer=None, **kwargs):\n",
    "    px.imshow(utils.to_numpy(tensor), color_continuous_midpoint=0.0, color_continuous_scale=\"RdBu\", **kwargs).show(renderer)\n",
    "\n",
    "def line(tensor, renderer=None, **kwargs):\n",
    "    px.line(y=utils.to_numpy(tensor), **kwargs).show(renderer)\n",
    "\n",
    "def scatter(x, y, xaxis=\"\", yaxis=\"\", caxis=\"\", renderer=None, **kwargs):\n",
    "    x = utils.to_numpy(x)\n",
    "    y = utils.to_numpy(y)\n",
    "    px.scatter(y=y, x=x, labels={\"x\":xaxis, \"y\":yaxis, \"color\":caxis}, **kwargs).show(renderer)"
   ]
  },
  {
   "cell_type": "code",
   "execution_count": 3,
   "metadata": {},
   "outputs": [
    {
     "name": "stderr",
     "output_type": "stream",
     "text": [
      "Using pad_token, but it is not set yet.\n"
     ]
    },
    {
     "name": "stdout",
     "output_type": "stream",
     "text": [
      "Loaded pretrained model gpt2-small into HookedTransformer\n"
     ]
    }
   ],
   "source": [
    "## turn off AD to save memory, since we're focusing on model inference here \n",
    "t.set_grad_enabled(False)\n",
    "\n",
    "device = 'cuda' if t.cuda.is_available() else 'cpu'\n",
    "model = HookedTransformer.from_pretrained('gpt2-small', device=device)"
   ]
  },
  {
   "attachments": {},
   "cell_type": "markdown",
   "metadata": {},
   "source": [
    "Studying the head outputs on different distributions\n",
    "\n",
    "Create the datasets "
   ]
  },
  {
   "cell_type": "code",
   "execution_count": 87,
   "metadata": {},
   "outputs": [
    {
     "data": {
      "text/plain": [
       "[46317, 4564, 3012, 9369, 20127, 43330, 28607, 20025]"
      ]
     },
     "execution_count": 87,
     "metadata": {},
     "output_type": "execute_result"
    }
   ],
   "source": [
    "proper_nouns = [\n",
    "    \" Goose\", \" Church\",\n",
    "    \" Google\", \" Chair\",\n",
    "    \" Bag\", \" Statue\",\n",
    "    \" Lamp\", \" Flower\"\n",
    "]\n",
    "\n",
    "nouns = [\n",
    "    \" goose\", \" church\",\n",
    "    \" google\", \" chair\",\n",
    "    \" bag\", \" statue\",\n",
    "    \" lamp\", \" flower\"\n",
    "]\n",
    "\n",
    "multi_names_religious = [\n",
    "    \" Mary\", \" Joseph\",\n",
    "    \" Abraham\", \" Paul\",\n",
    "    \" Isaac\", \" Noah\",\n",
    "    \" Jacob\", \" Jesus\"\n",
    "]\n",
    "\n",
    "multi_names_places = [\n",
    "    \" Paris\", \" London\",\n",
    "    \" Madison\", \" Phoenix\",\n",
    "    \" Devon\", \" Florence\",\n",
    "    \" Austin\", \" Brooklyn\"\n",
    "]\n",
    "\n",
    "test = proper_nouns\n",
    "[model.to_single_token(test[i]) for i in range(len(test))]\n"
   ]
  },
  {
   "cell_type": "code",
   "execution_count": 88,
   "metadata": {},
   "outputs": [],
   "source": [
    "\n",
    "\n",
    "\n",
    "def get_dataset(N, names):\n",
    "    prompts = []\n",
    "    # List of answers, in the format (correct, incorrect)\n",
    "    answers = []\n",
    "    # List of the token (ie an integer) corresponding to each answer, in the format (correct_token, incorrect_token)\n",
    "    answer_tokens = []\n",
    "    for _ in range(N):\n",
    "        S1, S2 = random.sample(names,2)\n",
    "        answers.append((S1,S2))\n",
    "        answers.append((S2,S1))\n",
    "        prompt1 = f'When {S1} and {S2} went to the shops,{S2} gave the bag to'\n",
    "        prompt2 = f'When {S1} and {S2} went to the shops,{S1} gave the bag to'\n",
    "        prompts.append(prompt1)\n",
    "        prompts.append(prompt2)\n",
    "\n",
    "        answer_tokens.append((model.to_single_token(answers[-1][0]),model.to_single_token(answers[-1][1])))\n",
    "    assert len(set([len(model.to_str_tokens(prompt)) for prompt in prompts])) == 1\n",
    "    answer_tokens = t.tensor(answer_tokens).to(device)\n",
    "    return prompts, answers, answer_tokens\n",
    "\n"
   ]
  },
  {
   "cell_type": "code",
   "execution_count": 89,
   "metadata": {},
   "outputs": [],
   "source": [
    "prompts_rel, ans_rel, ans_toks_rel = get_dataset(10,multi_names_religious)\n",
    "prompts_pl, ans_pl, ans_toks_pl = get_dataset(10,multi_names_places)\n",
    "prompts_n, ans_n, ans_toks_n = get_dataset(10,nouns)\n",
    "prompts_pn, ans_pn, ans_toks_pn = get_dataset(10,proper_nouns)\n",
    "\n"
   ]
  },
  {
   "cell_type": "code",
   "execution_count": 90,
   "metadata": {},
   "outputs": [],
   "source": [
    "from rich.table import Table, Column\n",
    "from rich import print as rprint\n"
   ]
  },
  {
   "cell_type": "code",
   "execution_count": 91,
   "metadata": {},
   "outputs": [
    {
     "name": "stdout",
     "output_type": "stream",
     "text": [
      "torch.Size([20, 17, 50257])\n"
     ]
    }
   ],
   "source": [
    "print(model(prompts_n).shape)\n",
    "\n",
    "def ave_logit_diff(prompts, answer_tokens, per_prompt = False):\n",
    "    final_logits = model(prompts)[:,-1,:]\n",
    "    answer_logits = final_logits.gather(dim = -1, index = answer_tokens)\n",
    "    answer_logit_diff = answer_logits[:,0] - answer_logits[:,1]\n",
    "    if per_prompt:\n",
    "        return answer_logit_diff \n",
    "    else:\n",
    "        return answer_logit_diff.mean()\n",
    "\n"
   ]
  },
  {
   "cell_type": "code",
   "execution_count": 92,
   "metadata": {},
   "outputs": [],
   "source": [
    "def make_table(prompts, answers, answer_tokens, title):\n",
    "    cols = [\n",
    "        \"Prompt\", \n",
    "        Column(\"Correct\", style=\"rgb(0,200,0) bold\"), \n",
    "        Column(\"Incorrect\", style=\"rgb(255,0,0) bold\"), \n",
    "        Column(\"Logit Difference\", style=\"bold\")\n",
    "    ]\n",
    "    logit_diffs = ave_logit_diff(prompts,answer_tokens, per_prompt = True)\n",
    "    \n",
    "    ave_logits = ave_logit_diff(prompts,answer_tokens, per_prompt = False)\n",
    "    logit_diff_table = Table(*cols, title=title + f\": Ave logit diff = {ave_logits.item():.3f}\")\n",
    "    logit_diffs = ave_logit_diff(prompts,answer_tokens, per_prompt = True)\n",
    "    \n",
    "    ave_logits = ave_logit_diff(prompts,answer_tokens, per_prompt = False)\n",
    "                                 \n",
    "    ave_logit_diff(prompts, answer_tokens)\n",
    "    for prompt, ans, logit_diff in zip(prompts, answers,logit_diffs):\n",
    "        logit_diff_table.add_row(prompt, ans[0], ans[1], f\"{logit_diff.item():.3f}\")\n",
    "    rprint(logit_diff_table)"
   ]
  },
  {
   "cell_type": "code",
   "execution_count": 94,
   "metadata": {},
   "outputs": [
    {
     "data": {
      "text/html": [
       "<pre style=\"white-space:pre;overflow-x:auto;line-height:normal;font-family:Menlo,'DejaVu Sans Mono',consolas,'Courier New',monospace\"><span style=\"font-style: italic\">                                         nouns: Ave logit diff = 1.285                                         </span>\n",
       "┏━━━━━━━━━━━━━━━━━━━━━━━━━━━━━━━━━━━━━━━━━━━━━━━━━━━━━━━━━━━━━━━━━━━━┳━━━━━━━━━┳━━━━━━━━━━━┳━━━━━━━━━━━━━━━━━━┓\n",
       "┃<span style=\"font-weight: bold\"> Prompt                                                             </span>┃<span style=\"font-weight: bold\"> Correct </span>┃<span style=\"font-weight: bold\"> Incorrect </span>┃<span style=\"font-weight: bold\"> Logit Difference </span>┃\n",
       "┡━━━━━━━━━━━━━━━━━━━━━━━━━━━━━━━━━━━━━━━━━━━━━━━━━━━━━━━━━━━━━━━━━━━━╇━━━━━━━━━╇━━━━━━━━━━━╇━━━━━━━━━━━━━━━━━━┩\n",
       "│ When  statue and  bag went to the shops, bag gave the bag to       │<span style=\"color: #00c800; text-decoration-color: #00c800; font-weight: bold\">  statue </span>│<span style=\"color: #ff0000; text-decoration-color: #ff0000; font-weight: bold\">  bag      </span>│<span style=\"font-weight: bold\"> 2.226            </span>│\n",
       "│ When  statue and  bag went to the shops, statue gave the bag to    │<span style=\"color: #00c800; text-decoration-color: #00c800; font-weight: bold\">  bag    </span>│<span style=\"color: #ff0000; text-decoration-color: #ff0000; font-weight: bold\">  statue   </span>│<span style=\"font-weight: bold\"> 0.503            </span>│\n",
       "│ When  chair and  church went to the shops, church gave the bag to  │<span style=\"color: #00c800; text-decoration-color: #00c800; font-weight: bold\">  chair  </span>│<span style=\"color: #ff0000; text-decoration-color: #ff0000; font-weight: bold\">  church   </span>│<span style=\"font-weight: bold\"> 1.836            </span>│\n",
       "│ When  chair and  church went to the shops, chair gave the bag to   │<span style=\"color: #00c800; text-decoration-color: #00c800; font-weight: bold\">  church </span>│<span style=\"color: #ff0000; text-decoration-color: #ff0000; font-weight: bold\">  chair    </span>│<span style=\"font-weight: bold\"> -1.261           </span>│\n",
       "│ When  goose and  statue went to the shops, statue gave the bag to  │<span style=\"color: #00c800; text-decoration-color: #00c800; font-weight: bold\">  goose  </span>│<span style=\"color: #ff0000; text-decoration-color: #ff0000; font-weight: bold\">  statue   </span>│<span style=\"font-weight: bold\"> -2.424           </span>│\n",
       "│ When  goose and  statue went to the shops, goose gave the bag to   │<span style=\"color: #00c800; text-decoration-color: #00c800; font-weight: bold\">  statue </span>│<span style=\"color: #ff0000; text-decoration-color: #ff0000; font-weight: bold\">  goose    </span>│<span style=\"font-weight: bold\"> 3.397            </span>│\n",
       "│ When  bag and  flower went to the shops, flower gave the bag to    │<span style=\"color: #00c800; text-decoration-color: #00c800; font-weight: bold\">  bag    </span>│<span style=\"color: #ff0000; text-decoration-color: #ff0000; font-weight: bold\">  flower   </span>│<span style=\"font-weight: bold\"> -1.204           </span>│\n",
       "│ When  bag and  flower went to the shops, bag gave the bag to       │<span style=\"color: #00c800; text-decoration-color: #00c800; font-weight: bold\">  flower </span>│<span style=\"color: #ff0000; text-decoration-color: #ff0000; font-weight: bold\">  bag      </span>│<span style=\"font-weight: bold\"> 8.303            </span>│\n",
       "│ When  flower and  google went to the shops, google gave the bag to │<span style=\"color: #00c800; text-decoration-color: #00c800; font-weight: bold\">  flower </span>│<span style=\"color: #ff0000; text-decoration-color: #ff0000; font-weight: bold\">  google   </span>│<span style=\"font-weight: bold\"> 3.531            </span>│\n",
       "│ When  flower and  google went to the shops, flower gave the bag to │<span style=\"color: #00c800; text-decoration-color: #00c800; font-weight: bold\">  google </span>│<span style=\"color: #ff0000; text-decoration-color: #ff0000; font-weight: bold\">  flower   </span>│<span style=\"font-weight: bold\"> -2.057           </span>│\n",
       "└────────────────────────────────────────────────────────────────────┴─────────┴───────────┴──────────────────┘\n",
       "</pre>\n"
      ],
      "text/plain": [
       "\u001b[3m                                         nouns: Ave logit diff = 1.285                                         \u001b[0m\n",
       "┏━━━━━━━━━━━━━━━━━━━━━━━━━━━━━━━━━━━━━━━━━━━━━━━━━━━━━━━━━━━━━━━━━━━━┳━━━━━━━━━┳━━━━━━━━━━━┳━━━━━━━━━━━━━━━━━━┓\n",
       "┃\u001b[1m \u001b[0m\u001b[1mPrompt                                                            \u001b[0m\u001b[1m \u001b[0m┃\u001b[1m \u001b[0m\u001b[1mCorrect\u001b[0m\u001b[1m \u001b[0m┃\u001b[1m \u001b[0m\u001b[1mIncorrect\u001b[0m\u001b[1m \u001b[0m┃\u001b[1m \u001b[0m\u001b[1mLogit Difference\u001b[0m\u001b[1m \u001b[0m┃\n",
       "┡━━━━━━━━━━━━━━━━━━━━━━━━━━━━━━━━━━━━━━━━━━━━━━━━━━━━━━━━━━━━━━━━━━━━╇━━━━━━━━━╇━━━━━━━━━━━╇━━━━━━━━━━━━━━━━━━┩\n",
       "│ When  statue and  bag went to the shops, bag gave the bag to       │\u001b[1;38;2;0;200;0m \u001b[0m\u001b[1;38;2;0;200;0m statue\u001b[0m\u001b[1;38;2;0;200;0m \u001b[0m│\u001b[1;38;2;255;0;0m \u001b[0m\u001b[1;38;2;255;0;0m bag     \u001b[0m\u001b[1;38;2;255;0;0m \u001b[0m│\u001b[1m \u001b[0m\u001b[1m2.226           \u001b[0m\u001b[1m \u001b[0m│\n",
       "│ When  statue and  bag went to the shops, statue gave the bag to    │\u001b[1;38;2;0;200;0m \u001b[0m\u001b[1;38;2;0;200;0m bag   \u001b[0m\u001b[1;38;2;0;200;0m \u001b[0m│\u001b[1;38;2;255;0;0m \u001b[0m\u001b[1;38;2;255;0;0m statue  \u001b[0m\u001b[1;38;2;255;0;0m \u001b[0m│\u001b[1m \u001b[0m\u001b[1m0.503           \u001b[0m\u001b[1m \u001b[0m│\n",
       "│ When  chair and  church went to the shops, church gave the bag to  │\u001b[1;38;2;0;200;0m \u001b[0m\u001b[1;38;2;0;200;0m chair \u001b[0m\u001b[1;38;2;0;200;0m \u001b[0m│\u001b[1;38;2;255;0;0m \u001b[0m\u001b[1;38;2;255;0;0m church  \u001b[0m\u001b[1;38;2;255;0;0m \u001b[0m│\u001b[1m \u001b[0m\u001b[1m1.836           \u001b[0m\u001b[1m \u001b[0m│\n",
       "│ When  chair and  church went to the shops, chair gave the bag to   │\u001b[1;38;2;0;200;0m \u001b[0m\u001b[1;38;2;0;200;0m church\u001b[0m\u001b[1;38;2;0;200;0m \u001b[0m│\u001b[1;38;2;255;0;0m \u001b[0m\u001b[1;38;2;255;0;0m chair   \u001b[0m\u001b[1;38;2;255;0;0m \u001b[0m│\u001b[1m \u001b[0m\u001b[1m-1.261          \u001b[0m\u001b[1m \u001b[0m│\n",
       "│ When  goose and  statue went to the shops, statue gave the bag to  │\u001b[1;38;2;0;200;0m \u001b[0m\u001b[1;38;2;0;200;0m goose \u001b[0m\u001b[1;38;2;0;200;0m \u001b[0m│\u001b[1;38;2;255;0;0m \u001b[0m\u001b[1;38;2;255;0;0m statue  \u001b[0m\u001b[1;38;2;255;0;0m \u001b[0m│\u001b[1m \u001b[0m\u001b[1m-2.424          \u001b[0m\u001b[1m \u001b[0m│\n",
       "│ When  goose and  statue went to the shops, goose gave the bag to   │\u001b[1;38;2;0;200;0m \u001b[0m\u001b[1;38;2;0;200;0m statue\u001b[0m\u001b[1;38;2;0;200;0m \u001b[0m│\u001b[1;38;2;255;0;0m \u001b[0m\u001b[1;38;2;255;0;0m goose   \u001b[0m\u001b[1;38;2;255;0;0m \u001b[0m│\u001b[1m \u001b[0m\u001b[1m3.397           \u001b[0m\u001b[1m \u001b[0m│\n",
       "│ When  bag and  flower went to the shops, flower gave the bag to    │\u001b[1;38;2;0;200;0m \u001b[0m\u001b[1;38;2;0;200;0m bag   \u001b[0m\u001b[1;38;2;0;200;0m \u001b[0m│\u001b[1;38;2;255;0;0m \u001b[0m\u001b[1;38;2;255;0;0m flower  \u001b[0m\u001b[1;38;2;255;0;0m \u001b[0m│\u001b[1m \u001b[0m\u001b[1m-1.204          \u001b[0m\u001b[1m \u001b[0m│\n",
       "│ When  bag and  flower went to the shops, bag gave the bag to       │\u001b[1;38;2;0;200;0m \u001b[0m\u001b[1;38;2;0;200;0m flower\u001b[0m\u001b[1;38;2;0;200;0m \u001b[0m│\u001b[1;38;2;255;0;0m \u001b[0m\u001b[1;38;2;255;0;0m bag     \u001b[0m\u001b[1;38;2;255;0;0m \u001b[0m│\u001b[1m \u001b[0m\u001b[1m8.303           \u001b[0m\u001b[1m \u001b[0m│\n",
       "│ When  flower and  google went to the shops, google gave the bag to │\u001b[1;38;2;0;200;0m \u001b[0m\u001b[1;38;2;0;200;0m flower\u001b[0m\u001b[1;38;2;0;200;0m \u001b[0m│\u001b[1;38;2;255;0;0m \u001b[0m\u001b[1;38;2;255;0;0m google  \u001b[0m\u001b[1;38;2;255;0;0m \u001b[0m│\u001b[1m \u001b[0m\u001b[1m3.531           \u001b[0m\u001b[1m \u001b[0m│\n",
       "│ When  flower and  google went to the shops, flower gave the bag to │\u001b[1;38;2;0;200;0m \u001b[0m\u001b[1;38;2;0;200;0m google\u001b[0m\u001b[1;38;2;0;200;0m \u001b[0m│\u001b[1;38;2;255;0;0m \u001b[0m\u001b[1;38;2;255;0;0m flower  \u001b[0m\u001b[1;38;2;255;0;0m \u001b[0m│\u001b[1m \u001b[0m\u001b[1m-2.057          \u001b[0m\u001b[1m \u001b[0m│\n",
       "└────────────────────────────────────────────────────────────────────┴─────────┴───────────┴──────────────────┘\n"
      ]
     },
     "metadata": {},
     "output_type": "display_data"
    },
    {
     "data": {
      "text/html": [
       "<pre style=\"white-space:pre;overflow-x:auto;line-height:normal;font-family:Menlo,'DejaVu Sans Mono',consolas,'Courier New',monospace\"><span style=\"font-style: italic\">                                     proper nouns: Ave logit diff = -0.996                                     </span>\n",
       "┏━━━━━━━━━━━━━━━━━━━━━━━━━━━━━━━━━━━━━━━━━━━━━━━━━━━━━━━━━━━━━━━━━━━━┳━━━━━━━━━┳━━━━━━━━━━━┳━━━━━━━━━━━━━━━━━━┓\n",
       "┃<span style=\"font-weight: bold\"> Prompt                                                             </span>┃<span style=\"font-weight: bold\"> Correct </span>┃<span style=\"font-weight: bold\"> Incorrect </span>┃<span style=\"font-weight: bold\"> Logit Difference </span>┃\n",
       "┡━━━━━━━━━━━━━━━━━━━━━━━━━━━━━━━━━━━━━━━━━━━━━━━━━━━━━━━━━━━━━━━━━━━━╇━━━━━━━━━╇━━━━━━━━━━━╇━━━━━━━━━━━━━━━━━━┩\n",
       "│ When  Statue and  Bag went to the shops, Bag gave the bag to       │<span style=\"color: #00c800; text-decoration-color: #00c800; font-weight: bold\">  Statue </span>│<span style=\"color: #ff0000; text-decoration-color: #ff0000; font-weight: bold\">  Bag      </span>│<span style=\"font-weight: bold\"> 1.933            </span>│\n",
       "│ When  Statue and  Bag went to the shops, Statue gave the bag to    │<span style=\"color: #00c800; text-decoration-color: #00c800; font-weight: bold\">  Bag    </span>│<span style=\"color: #ff0000; text-decoration-color: #ff0000; font-weight: bold\">  Statue   </span>│<span style=\"font-weight: bold\"> -2.851           </span>│\n",
       "│ When  Statue and  Goose went to the shops, Goose gave the bag to   │<span style=\"color: #00c800; text-decoration-color: #00c800; font-weight: bold\">  Statue </span>│<span style=\"color: #ff0000; text-decoration-color: #ff0000; font-weight: bold\">  Goose    </span>│<span style=\"font-weight: bold\"> -4.426           </span>│\n",
       "│ When  Statue and  Goose went to the shops, Statue gave the bag to  │<span style=\"color: #00c800; text-decoration-color: #00c800; font-weight: bold\">  Goose  </span>│<span style=\"color: #ff0000; text-decoration-color: #ff0000; font-weight: bold\">  Statue   </span>│<span style=\"font-weight: bold\"> -2.580           </span>│\n",
       "│ When  Statue and  Church went to the shops, Church gave the bag to │<span style=\"color: #00c800; text-decoration-color: #00c800; font-weight: bold\">  Statue </span>│<span style=\"color: #ff0000; text-decoration-color: #ff0000; font-weight: bold\">  Church   </span>│<span style=\"font-weight: bold\"> -5.001           </span>│\n",
       "│ When  Statue and  Church went to the shops, Statue gave the bag to │<span style=\"color: #00c800; text-decoration-color: #00c800; font-weight: bold\">  Church </span>│<span style=\"color: #ff0000; text-decoration-color: #ff0000; font-weight: bold\">  Statue   </span>│<span style=\"font-weight: bold\"> -8.576           </span>│\n",
       "│ When  Bag and  Google went to the shops, Google gave the bag to    │<span style=\"color: #00c800; text-decoration-color: #00c800; font-weight: bold\">  Bag    </span>│<span style=\"color: #ff0000; text-decoration-color: #ff0000; font-weight: bold\">  Google   </span>│<span style=\"font-weight: bold\"> 7.416            </span>│\n",
       "│ When  Bag and  Google went to the shops, Bag gave the bag to       │<span style=\"color: #00c800; text-decoration-color: #00c800; font-weight: bold\">  Google </span>│<span style=\"color: #ff0000; text-decoration-color: #ff0000; font-weight: bold\">  Bag      </span>│<span style=\"font-weight: bold\"> -3.097           </span>│\n",
       "│ When  Statue and  Chair went to the shops, Chair gave the bag to   │<span style=\"color: #00c800; text-decoration-color: #00c800; font-weight: bold\">  Statue </span>│<span style=\"color: #ff0000; text-decoration-color: #ff0000; font-weight: bold\">  Chair    </span>│<span style=\"font-weight: bold\"> 2.607            </span>│\n",
       "│ When  Statue and  Chair went to the shops, Statue gave the bag to  │<span style=\"color: #00c800; text-decoration-color: #00c800; font-weight: bold\">  Chair  </span>│<span style=\"color: #ff0000; text-decoration-color: #ff0000; font-weight: bold\">  Statue   </span>│<span style=\"font-weight: bold\"> 4.616            </span>│\n",
       "└────────────────────────────────────────────────────────────────────┴─────────┴───────────┴──────────────────┘\n",
       "</pre>\n"
      ],
      "text/plain": [
       "\u001b[3m                                     proper nouns: Ave logit diff = -0.996                                     \u001b[0m\n",
       "┏━━━━━━━━━━━━━━━━━━━━━━━━━━━━━━━━━━━━━━━━━━━━━━━━━━━━━━━━━━━━━━━━━━━━┳━━━━━━━━━┳━━━━━━━━━━━┳━━━━━━━━━━━━━━━━━━┓\n",
       "┃\u001b[1m \u001b[0m\u001b[1mPrompt                                                            \u001b[0m\u001b[1m \u001b[0m┃\u001b[1m \u001b[0m\u001b[1mCorrect\u001b[0m\u001b[1m \u001b[0m┃\u001b[1m \u001b[0m\u001b[1mIncorrect\u001b[0m\u001b[1m \u001b[0m┃\u001b[1m \u001b[0m\u001b[1mLogit Difference\u001b[0m\u001b[1m \u001b[0m┃\n",
       "┡━━━━━━━━━━━━━━━━━━━━━━━━━━━━━━━━━━━━━━━━━━━━━━━━━━━━━━━━━━━━━━━━━━━━╇━━━━━━━━━╇━━━━━━━━━━━╇━━━━━━━━━━━━━━━━━━┩\n",
       "│ When  Statue and  Bag went to the shops, Bag gave the bag to       │\u001b[1;38;2;0;200;0m \u001b[0m\u001b[1;38;2;0;200;0m Statue\u001b[0m\u001b[1;38;2;0;200;0m \u001b[0m│\u001b[1;38;2;255;0;0m \u001b[0m\u001b[1;38;2;255;0;0m Bag     \u001b[0m\u001b[1;38;2;255;0;0m \u001b[0m│\u001b[1m \u001b[0m\u001b[1m1.933           \u001b[0m\u001b[1m \u001b[0m│\n",
       "│ When  Statue and  Bag went to the shops, Statue gave the bag to    │\u001b[1;38;2;0;200;0m \u001b[0m\u001b[1;38;2;0;200;0m Bag   \u001b[0m\u001b[1;38;2;0;200;0m \u001b[0m│\u001b[1;38;2;255;0;0m \u001b[0m\u001b[1;38;2;255;0;0m Statue  \u001b[0m\u001b[1;38;2;255;0;0m \u001b[0m│\u001b[1m \u001b[0m\u001b[1m-2.851          \u001b[0m\u001b[1m \u001b[0m│\n",
       "│ When  Statue and  Goose went to the shops, Goose gave the bag to   │\u001b[1;38;2;0;200;0m \u001b[0m\u001b[1;38;2;0;200;0m Statue\u001b[0m\u001b[1;38;2;0;200;0m \u001b[0m│\u001b[1;38;2;255;0;0m \u001b[0m\u001b[1;38;2;255;0;0m Goose   \u001b[0m\u001b[1;38;2;255;0;0m \u001b[0m│\u001b[1m \u001b[0m\u001b[1m-4.426          \u001b[0m\u001b[1m \u001b[0m│\n",
       "│ When  Statue and  Goose went to the shops, Statue gave the bag to  │\u001b[1;38;2;0;200;0m \u001b[0m\u001b[1;38;2;0;200;0m Goose \u001b[0m\u001b[1;38;2;0;200;0m \u001b[0m│\u001b[1;38;2;255;0;0m \u001b[0m\u001b[1;38;2;255;0;0m Statue  \u001b[0m\u001b[1;38;2;255;0;0m \u001b[0m│\u001b[1m \u001b[0m\u001b[1m-2.580          \u001b[0m\u001b[1m \u001b[0m│\n",
       "│ When  Statue and  Church went to the shops, Church gave the bag to │\u001b[1;38;2;0;200;0m \u001b[0m\u001b[1;38;2;0;200;0m Statue\u001b[0m\u001b[1;38;2;0;200;0m \u001b[0m│\u001b[1;38;2;255;0;0m \u001b[0m\u001b[1;38;2;255;0;0m Church  \u001b[0m\u001b[1;38;2;255;0;0m \u001b[0m│\u001b[1m \u001b[0m\u001b[1m-5.001          \u001b[0m\u001b[1m \u001b[0m│\n",
       "│ When  Statue and  Church went to the shops, Statue gave the bag to │\u001b[1;38;2;0;200;0m \u001b[0m\u001b[1;38;2;0;200;0m Church\u001b[0m\u001b[1;38;2;0;200;0m \u001b[0m│\u001b[1;38;2;255;0;0m \u001b[0m\u001b[1;38;2;255;0;0m Statue  \u001b[0m\u001b[1;38;2;255;0;0m \u001b[0m│\u001b[1m \u001b[0m\u001b[1m-8.576          \u001b[0m\u001b[1m \u001b[0m│\n",
       "│ When  Bag and  Google went to the shops, Google gave the bag to    │\u001b[1;38;2;0;200;0m \u001b[0m\u001b[1;38;2;0;200;0m Bag   \u001b[0m\u001b[1;38;2;0;200;0m \u001b[0m│\u001b[1;38;2;255;0;0m \u001b[0m\u001b[1;38;2;255;0;0m Google  \u001b[0m\u001b[1;38;2;255;0;0m \u001b[0m│\u001b[1m \u001b[0m\u001b[1m7.416           \u001b[0m\u001b[1m \u001b[0m│\n",
       "│ When  Bag and  Google went to the shops, Bag gave the bag to       │\u001b[1;38;2;0;200;0m \u001b[0m\u001b[1;38;2;0;200;0m Google\u001b[0m\u001b[1;38;2;0;200;0m \u001b[0m│\u001b[1;38;2;255;0;0m \u001b[0m\u001b[1;38;2;255;0;0m Bag     \u001b[0m\u001b[1;38;2;255;0;0m \u001b[0m│\u001b[1m \u001b[0m\u001b[1m-3.097          \u001b[0m\u001b[1m \u001b[0m│\n",
       "│ When  Statue and  Chair went to the shops, Chair gave the bag to   │\u001b[1;38;2;0;200;0m \u001b[0m\u001b[1;38;2;0;200;0m Statue\u001b[0m\u001b[1;38;2;0;200;0m \u001b[0m│\u001b[1;38;2;255;0;0m \u001b[0m\u001b[1;38;2;255;0;0m Chair   \u001b[0m\u001b[1;38;2;255;0;0m \u001b[0m│\u001b[1m \u001b[0m\u001b[1m2.607           \u001b[0m\u001b[1m \u001b[0m│\n",
       "│ When  Statue and  Chair went to the shops, Statue gave the bag to  │\u001b[1;38;2;0;200;0m \u001b[0m\u001b[1;38;2;0;200;0m Chair \u001b[0m\u001b[1;38;2;0;200;0m \u001b[0m│\u001b[1;38;2;255;0;0m \u001b[0m\u001b[1;38;2;255;0;0m Statue  \u001b[0m\u001b[1;38;2;255;0;0m \u001b[0m│\u001b[1m \u001b[0m\u001b[1m4.616           \u001b[0m\u001b[1m \u001b[0m│\n",
       "└────────────────────────────────────────────────────────────────────┴─────────┴───────────┴──────────────────┘\n"
      ]
     },
     "metadata": {},
     "output_type": "display_data"
    },
    {
     "data": {
      "text/html": [
       "<pre style=\"white-space:pre;overflow-x:auto;line-height:normal;font-family:Menlo,'DejaVu Sans Mono',consolas,'Courier New',monospace\"><span style=\"font-style: italic\">                                    Religious Names: Ave logit diff = 1.189                                     </span>\n",
       "┏━━━━━━━━━━━━━━━━━━━━━━━━━━━━━━━━━━━━━━━━━━━━━━━━━━━━━━━━━━━━━━━━━━━━┳━━━━━━━━━━┳━━━━━━━━━━━┳━━━━━━━━━━━━━━━━━━┓\n",
       "┃<span style=\"font-weight: bold\"> Prompt                                                             </span>┃<span style=\"font-weight: bold\"> Correct  </span>┃<span style=\"font-weight: bold\"> Incorrect </span>┃<span style=\"font-weight: bold\"> Logit Difference </span>┃\n",
       "┡━━━━━━━━━━━━━━━━━━━━━━━━━━━━━━━━━━━━━━━━━━━━━━━━━━━━━━━━━━━━━━━━━━━━╇━━━━━━━━━━╇━━━━━━━━━━━╇━━━━━━━━━━━━━━━━━━┩\n",
       "│ When  Isaac and  Joseph went to the shops, Joseph gave the bag to  │<span style=\"color: #00c800; text-decoration-color: #00c800; font-weight: bold\">  Isaac   </span>│<span style=\"color: #ff0000; text-decoration-color: #ff0000; font-weight: bold\">  Joseph   </span>│<span style=\"font-weight: bold\"> -2.599           </span>│\n",
       "│ When  Isaac and  Joseph went to the shops, Isaac gave the bag to   │<span style=\"color: #00c800; text-decoration-color: #00c800; font-weight: bold\">  Joseph  </span>│<span style=\"color: #ff0000; text-decoration-color: #ff0000; font-weight: bold\">  Isaac    </span>│<span style=\"font-weight: bold\"> 1.390            </span>│\n",
       "│ When  Noah and  Abraham went to the shops, Abraham gave the bag to │<span style=\"color: #00c800; text-decoration-color: #00c800; font-weight: bold\">  Noah    </span>│<span style=\"color: #ff0000; text-decoration-color: #ff0000; font-weight: bold\">  Abraham  </span>│<span style=\"font-weight: bold\"> 3.934            </span>│\n",
       "│ When  Noah and  Abraham went to the shops, Noah gave the bag to    │<span style=\"color: #00c800; text-decoration-color: #00c800; font-weight: bold\">  Abraham </span>│<span style=\"color: #ff0000; text-decoration-color: #ff0000; font-weight: bold\">  Noah     </span>│<span style=\"font-weight: bold\"> -2.603           </span>│\n",
       "│ When  Paul and  Abraham went to the shops, Abraham gave the bag to │<span style=\"color: #00c800; text-decoration-color: #00c800; font-weight: bold\">  Paul    </span>│<span style=\"color: #ff0000; text-decoration-color: #ff0000; font-weight: bold\">  Abraham  </span>│<span style=\"font-weight: bold\"> 6.715            </span>│\n",
       "│ When  Paul and  Abraham went to the shops, Paul gave the bag to    │<span style=\"color: #00c800; text-decoration-color: #00c800; font-weight: bold\">  Abraham </span>│<span style=\"color: #ff0000; text-decoration-color: #ff0000; font-weight: bold\">  Paul     </span>│<span style=\"font-weight: bold\"> -1.701           </span>│\n",
       "│ When  Joseph and  Paul went to the shops, Paul gave the bag to     │<span style=\"color: #00c800; text-decoration-color: #00c800; font-weight: bold\">  Joseph  </span>│<span style=\"color: #ff0000; text-decoration-color: #ff0000; font-weight: bold\">  Paul     </span>│<span style=\"font-weight: bold\"> 4.351            </span>│\n",
       "│ When  Joseph and  Paul went to the shops, Joseph gave the bag to   │<span style=\"color: #00c800; text-decoration-color: #00c800; font-weight: bold\">  Paul    </span>│<span style=\"color: #ff0000; text-decoration-color: #ff0000; font-weight: bold\">  Joseph   </span>│<span style=\"font-weight: bold\"> -0.092           </span>│\n",
       "│ When  Isaac and  Paul went to the shops, Paul gave the bag to      │<span style=\"color: #00c800; text-decoration-color: #00c800; font-weight: bold\">  Isaac   </span>│<span style=\"color: #ff0000; text-decoration-color: #ff0000; font-weight: bold\">  Paul     </span>│<span style=\"font-weight: bold\"> 3.130            </span>│\n",
       "│ When  Isaac and  Paul went to the shops, Isaac gave the bag to     │<span style=\"color: #00c800; text-decoration-color: #00c800; font-weight: bold\">  Paul    </span>│<span style=\"color: #ff0000; text-decoration-color: #ff0000; font-weight: bold\">  Isaac    </span>│<span style=\"font-weight: bold\"> -0.637           </span>│\n",
       "└────────────────────────────────────────────────────────────────────┴──────────┴───────────┴──────────────────┘\n",
       "</pre>\n"
      ],
      "text/plain": [
       "\u001b[3m                                    Religious Names: Ave logit diff = 1.189                                     \u001b[0m\n",
       "┏━━━━━━━━━━━━━━━━━━━━━━━━━━━━━━━━━━━━━━━━━━━━━━━━━━━━━━━━━━━━━━━━━━━━┳━━━━━━━━━━┳━━━━━━━━━━━┳━━━━━━━━━━━━━━━━━━┓\n",
       "┃\u001b[1m \u001b[0m\u001b[1mPrompt                                                            \u001b[0m\u001b[1m \u001b[0m┃\u001b[1m \u001b[0m\u001b[1mCorrect \u001b[0m\u001b[1m \u001b[0m┃\u001b[1m \u001b[0m\u001b[1mIncorrect\u001b[0m\u001b[1m \u001b[0m┃\u001b[1m \u001b[0m\u001b[1mLogit Difference\u001b[0m\u001b[1m \u001b[0m┃\n",
       "┡━━━━━━━━━━━━━━━━━━━━━━━━━━━━━━━━━━━━━━━━━━━━━━━━━━━━━━━━━━━━━━━━━━━━╇━━━━━━━━━━╇━━━━━━━━━━━╇━━━━━━━━━━━━━━━━━━┩\n",
       "│ When  Isaac and  Joseph went to the shops, Joseph gave the bag to  │\u001b[1;38;2;0;200;0m \u001b[0m\u001b[1;38;2;0;200;0m Isaac  \u001b[0m\u001b[1;38;2;0;200;0m \u001b[0m│\u001b[1;38;2;255;0;0m \u001b[0m\u001b[1;38;2;255;0;0m Joseph  \u001b[0m\u001b[1;38;2;255;0;0m \u001b[0m│\u001b[1m \u001b[0m\u001b[1m-2.599          \u001b[0m\u001b[1m \u001b[0m│\n",
       "│ When  Isaac and  Joseph went to the shops, Isaac gave the bag to   │\u001b[1;38;2;0;200;0m \u001b[0m\u001b[1;38;2;0;200;0m Joseph \u001b[0m\u001b[1;38;2;0;200;0m \u001b[0m│\u001b[1;38;2;255;0;0m \u001b[0m\u001b[1;38;2;255;0;0m Isaac   \u001b[0m\u001b[1;38;2;255;0;0m \u001b[0m│\u001b[1m \u001b[0m\u001b[1m1.390           \u001b[0m\u001b[1m \u001b[0m│\n",
       "│ When  Noah and  Abraham went to the shops, Abraham gave the bag to │\u001b[1;38;2;0;200;0m \u001b[0m\u001b[1;38;2;0;200;0m Noah   \u001b[0m\u001b[1;38;2;0;200;0m \u001b[0m│\u001b[1;38;2;255;0;0m \u001b[0m\u001b[1;38;2;255;0;0m Abraham \u001b[0m\u001b[1;38;2;255;0;0m \u001b[0m│\u001b[1m \u001b[0m\u001b[1m3.934           \u001b[0m\u001b[1m \u001b[0m│\n",
       "│ When  Noah and  Abraham went to the shops, Noah gave the bag to    │\u001b[1;38;2;0;200;0m \u001b[0m\u001b[1;38;2;0;200;0m Abraham\u001b[0m\u001b[1;38;2;0;200;0m \u001b[0m│\u001b[1;38;2;255;0;0m \u001b[0m\u001b[1;38;2;255;0;0m Noah    \u001b[0m\u001b[1;38;2;255;0;0m \u001b[0m│\u001b[1m \u001b[0m\u001b[1m-2.603          \u001b[0m\u001b[1m \u001b[0m│\n",
       "│ When  Paul and  Abraham went to the shops, Abraham gave the bag to │\u001b[1;38;2;0;200;0m \u001b[0m\u001b[1;38;2;0;200;0m Paul   \u001b[0m\u001b[1;38;2;0;200;0m \u001b[0m│\u001b[1;38;2;255;0;0m \u001b[0m\u001b[1;38;2;255;0;0m Abraham \u001b[0m\u001b[1;38;2;255;0;0m \u001b[0m│\u001b[1m \u001b[0m\u001b[1m6.715           \u001b[0m\u001b[1m \u001b[0m│\n",
       "│ When  Paul and  Abraham went to the shops, Paul gave the bag to    │\u001b[1;38;2;0;200;0m \u001b[0m\u001b[1;38;2;0;200;0m Abraham\u001b[0m\u001b[1;38;2;0;200;0m \u001b[0m│\u001b[1;38;2;255;0;0m \u001b[0m\u001b[1;38;2;255;0;0m Paul    \u001b[0m\u001b[1;38;2;255;0;0m \u001b[0m│\u001b[1m \u001b[0m\u001b[1m-1.701          \u001b[0m\u001b[1m \u001b[0m│\n",
       "│ When  Joseph and  Paul went to the shops, Paul gave the bag to     │\u001b[1;38;2;0;200;0m \u001b[0m\u001b[1;38;2;0;200;0m Joseph \u001b[0m\u001b[1;38;2;0;200;0m \u001b[0m│\u001b[1;38;2;255;0;0m \u001b[0m\u001b[1;38;2;255;0;0m Paul    \u001b[0m\u001b[1;38;2;255;0;0m \u001b[0m│\u001b[1m \u001b[0m\u001b[1m4.351           \u001b[0m\u001b[1m \u001b[0m│\n",
       "│ When  Joseph and  Paul went to the shops, Joseph gave the bag to   │\u001b[1;38;2;0;200;0m \u001b[0m\u001b[1;38;2;0;200;0m Paul   \u001b[0m\u001b[1;38;2;0;200;0m \u001b[0m│\u001b[1;38;2;255;0;0m \u001b[0m\u001b[1;38;2;255;0;0m Joseph  \u001b[0m\u001b[1;38;2;255;0;0m \u001b[0m│\u001b[1m \u001b[0m\u001b[1m-0.092          \u001b[0m\u001b[1m \u001b[0m│\n",
       "│ When  Isaac and  Paul went to the shops, Paul gave the bag to      │\u001b[1;38;2;0;200;0m \u001b[0m\u001b[1;38;2;0;200;0m Isaac  \u001b[0m\u001b[1;38;2;0;200;0m \u001b[0m│\u001b[1;38;2;255;0;0m \u001b[0m\u001b[1;38;2;255;0;0m Paul    \u001b[0m\u001b[1;38;2;255;0;0m \u001b[0m│\u001b[1m \u001b[0m\u001b[1m3.130           \u001b[0m\u001b[1m \u001b[0m│\n",
       "│ When  Isaac and  Paul went to the shops, Isaac gave the bag to     │\u001b[1;38;2;0;200;0m \u001b[0m\u001b[1;38;2;0;200;0m Paul   \u001b[0m\u001b[1;38;2;0;200;0m \u001b[0m│\u001b[1;38;2;255;0;0m \u001b[0m\u001b[1;38;2;255;0;0m Isaac   \u001b[0m\u001b[1;38;2;255;0;0m \u001b[0m│\u001b[1m \u001b[0m\u001b[1m-0.637          \u001b[0m\u001b[1m \u001b[0m│\n",
       "└────────────────────────────────────────────────────────────────────┴──────────┴───────────┴──────────────────┘\n"
      ]
     },
     "metadata": {},
     "output_type": "display_data"
    },
    {
     "data": {
      "text/html": [
       "<pre style=\"white-space:pre;overflow-x:auto;line-height:normal;font-family:Menlo,'DejaVu Sans Mono',consolas,'Courier New',monospace\"><span style=\"font-style: italic\">                                        Place Names: Ave logit diff = 1.189                                        </span>\n",
       "┏━━━━━━━━━━━━━━━━━━━━━━━━━━━━━━━━━━━━━━━━━━━━━━━━━━━━━━━━━━━━━━━━━━━━━━┳━━━━━━━━━━━┳━━━━━━━━━━━┳━━━━━━━━━━━━━━━━━━┓\n",
       "┃<span style=\"font-weight: bold\"> Prompt                                                               </span>┃<span style=\"font-weight: bold\"> Correct   </span>┃<span style=\"font-weight: bold\"> Incorrect </span>┃<span style=\"font-weight: bold\"> Logit Difference </span>┃\n",
       "┡━━━━━━━━━━━━━━━━━━━━━━━━━━━━━━━━━━━━━━━━━━━━━━━━━━━━━━━━━━━━━━━━━━━━━━╇━━━━━━━━━━━╇━━━━━━━━━━━╇━━━━━━━━━━━━━━━━━━┩\n",
       "│ When  Austin and  Madison went to the shops, Madison gave the bag to │<span style=\"color: #00c800; text-decoration-color: #00c800; font-weight: bold\">  Austin   </span>│<span style=\"color: #ff0000; text-decoration-color: #ff0000; font-weight: bold\">  Madison  </span>│<span style=\"font-weight: bold\"> -2.843           </span>│\n",
       "│ When  Austin and  Madison went to the shops, Austin gave the bag to  │<span style=\"color: #00c800; text-decoration-color: #00c800; font-weight: bold\">  Madison  </span>│<span style=\"color: #ff0000; text-decoration-color: #ff0000; font-weight: bold\">  Austin   </span>│<span style=\"font-weight: bold\"> -1.395           </span>│\n",
       "│ When  London and  Florence went to the shops, Florence gave the bag  │<span style=\"color: #00c800; text-decoration-color: #00c800; font-weight: bold\">  London   </span>│<span style=\"color: #ff0000; text-decoration-color: #ff0000; font-weight: bold\">  Florence </span>│<span style=\"font-weight: bold\"> 0.846            </span>│\n",
       "│ to                                                                   │<span style=\"color: #00c800; text-decoration-color: #00c800; font-weight: bold\">           </span>│<span style=\"color: #ff0000; text-decoration-color: #ff0000; font-weight: bold\">           </span>│<span style=\"font-weight: bold\">                  </span>│\n",
       "│ When  London and  Florence went to the shops, London gave the bag to │<span style=\"color: #00c800; text-decoration-color: #00c800; font-weight: bold\">  Florence </span>│<span style=\"color: #ff0000; text-decoration-color: #ff0000; font-weight: bold\">  London   </span>│<span style=\"font-weight: bold\"> -1.192           </span>│\n",
       "│ When  Devon and  Austin went to the shops, Austin gave the bag to    │<span style=\"color: #00c800; text-decoration-color: #00c800; font-weight: bold\">  Devon    </span>│<span style=\"color: #ff0000; text-decoration-color: #ff0000; font-weight: bold\">  Austin   </span>│<span style=\"font-weight: bold\"> 3.121            </span>│\n",
       "│ When  Devon and  Austin went to the shops, Devon gave the bag to     │<span style=\"color: #00c800; text-decoration-color: #00c800; font-weight: bold\">  Austin   </span>│<span style=\"color: #ff0000; text-decoration-color: #ff0000; font-weight: bold\">  Devon    </span>│<span style=\"font-weight: bold\"> 1.886            </span>│\n",
       "│ When  Madison and  Brooklyn went to the shops, Brooklyn gave the bag │<span style=\"color: #00c800; text-decoration-color: #00c800; font-weight: bold\">  Madison  </span>│<span style=\"color: #ff0000; text-decoration-color: #ff0000; font-weight: bold\">  Brooklyn </span>│<span style=\"font-weight: bold\"> 7.015            </span>│\n",
       "│ to                                                                   │<span style=\"color: #00c800; text-decoration-color: #00c800; font-weight: bold\">           </span>│<span style=\"color: #ff0000; text-decoration-color: #ff0000; font-weight: bold\">           </span>│<span style=\"font-weight: bold\">                  </span>│\n",
       "│ When  Madison and  Brooklyn went to the shops, Madison gave the bag  │<span style=\"color: #00c800; text-decoration-color: #00c800; font-weight: bold\">  Brooklyn </span>│<span style=\"color: #ff0000; text-decoration-color: #ff0000; font-weight: bold\">  Madison  </span>│<span style=\"font-weight: bold\"> 1.622            </span>│\n",
       "│ to                                                                   │<span style=\"color: #00c800; text-decoration-color: #00c800; font-weight: bold\">           </span>│<span style=\"color: #ff0000; text-decoration-color: #ff0000; font-weight: bold\">           </span>│<span style=\"font-weight: bold\">                  </span>│\n",
       "│ When  Brooklyn and  Madison went to the shops, Madison gave the bag  │<span style=\"color: #00c800; text-decoration-color: #00c800; font-weight: bold\">  Brooklyn </span>│<span style=\"color: #ff0000; text-decoration-color: #ff0000; font-weight: bold\">  Madison  </span>│<span style=\"font-weight: bold\"> -1.882           </span>│\n",
       "│ to                                                                   │<span style=\"color: #00c800; text-decoration-color: #00c800; font-weight: bold\">           </span>│<span style=\"color: #ff0000; text-decoration-color: #ff0000; font-weight: bold\">           </span>│<span style=\"font-weight: bold\">                  </span>│\n",
       "│ When  Brooklyn and  Madison went to the shops, Brooklyn gave the bag │<span style=\"color: #00c800; text-decoration-color: #00c800; font-weight: bold\">  Madison  </span>│<span style=\"color: #ff0000; text-decoration-color: #ff0000; font-weight: bold\">  Brooklyn </span>│<span style=\"font-weight: bold\"> 4.713            </span>│\n",
       "│ to                                                                   │<span style=\"color: #00c800; text-decoration-color: #00c800; font-weight: bold\">           </span>│<span style=\"color: #ff0000; text-decoration-color: #ff0000; font-weight: bold\">           </span>│<span style=\"font-weight: bold\">                  </span>│\n",
       "└──────────────────────────────────────────────────────────────────────┴───────────┴───────────┴──────────────────┘\n",
       "</pre>\n"
      ],
      "text/plain": [
       "\u001b[3m                                        Place Names: Ave logit diff = 1.189                                        \u001b[0m\n",
       "┏━━━━━━━━━━━━━━━━━━━━━━━━━━━━━━━━━━━━━━━━━━━━━━━━━━━━━━━━━━━━━━━━━━━━━━┳━━━━━━━━━━━┳━━━━━━━━━━━┳━━━━━━━━━━━━━━━━━━┓\n",
       "┃\u001b[1m \u001b[0m\u001b[1mPrompt                                                              \u001b[0m\u001b[1m \u001b[0m┃\u001b[1m \u001b[0m\u001b[1mCorrect  \u001b[0m\u001b[1m \u001b[0m┃\u001b[1m \u001b[0m\u001b[1mIncorrect\u001b[0m\u001b[1m \u001b[0m┃\u001b[1m \u001b[0m\u001b[1mLogit Difference\u001b[0m\u001b[1m \u001b[0m┃\n",
       "┡━━━━━━━━━━━━━━━━━━━━━━━━━━━━━━━━━━━━━━━━━━━━━━━━━━━━━━━━━━━━━━━━━━━━━━╇━━━━━━━━━━━╇━━━━━━━━━━━╇━━━━━━━━━━━━━━━━━━┩\n",
       "│ When  Austin and  Madison went to the shops, Madison gave the bag to │\u001b[1;38;2;0;200;0m \u001b[0m\u001b[1;38;2;0;200;0m Austin  \u001b[0m\u001b[1;38;2;0;200;0m \u001b[0m│\u001b[1;38;2;255;0;0m \u001b[0m\u001b[1;38;2;255;0;0m Madison \u001b[0m\u001b[1;38;2;255;0;0m \u001b[0m│\u001b[1m \u001b[0m\u001b[1m-2.843          \u001b[0m\u001b[1m \u001b[0m│\n",
       "│ When  Austin and  Madison went to the shops, Austin gave the bag to  │\u001b[1;38;2;0;200;0m \u001b[0m\u001b[1;38;2;0;200;0m Madison \u001b[0m\u001b[1;38;2;0;200;0m \u001b[0m│\u001b[1;38;2;255;0;0m \u001b[0m\u001b[1;38;2;255;0;0m Austin  \u001b[0m\u001b[1;38;2;255;0;0m \u001b[0m│\u001b[1m \u001b[0m\u001b[1m-1.395          \u001b[0m\u001b[1m \u001b[0m│\n",
       "│ When  London and  Florence went to the shops, Florence gave the bag  │\u001b[1;38;2;0;200;0m \u001b[0m\u001b[1;38;2;0;200;0m London  \u001b[0m\u001b[1;38;2;0;200;0m \u001b[0m│\u001b[1;38;2;255;0;0m \u001b[0m\u001b[1;38;2;255;0;0m Florence\u001b[0m\u001b[1;38;2;255;0;0m \u001b[0m│\u001b[1m \u001b[0m\u001b[1m0.846           \u001b[0m\u001b[1m \u001b[0m│\n",
       "│ to                                                                   │\u001b[1;38;2;0;200;0m           \u001b[0m│\u001b[1;38;2;255;0;0m           \u001b[0m│\u001b[1m                  \u001b[0m│\n",
       "│ When  London and  Florence went to the shops, London gave the bag to │\u001b[1;38;2;0;200;0m \u001b[0m\u001b[1;38;2;0;200;0m Florence\u001b[0m\u001b[1;38;2;0;200;0m \u001b[0m│\u001b[1;38;2;255;0;0m \u001b[0m\u001b[1;38;2;255;0;0m London  \u001b[0m\u001b[1;38;2;255;0;0m \u001b[0m│\u001b[1m \u001b[0m\u001b[1m-1.192          \u001b[0m\u001b[1m \u001b[0m│\n",
       "│ When  Devon and  Austin went to the shops, Austin gave the bag to    │\u001b[1;38;2;0;200;0m \u001b[0m\u001b[1;38;2;0;200;0m Devon   \u001b[0m\u001b[1;38;2;0;200;0m \u001b[0m│\u001b[1;38;2;255;0;0m \u001b[0m\u001b[1;38;2;255;0;0m Austin  \u001b[0m\u001b[1;38;2;255;0;0m \u001b[0m│\u001b[1m \u001b[0m\u001b[1m3.121           \u001b[0m\u001b[1m \u001b[0m│\n",
       "│ When  Devon and  Austin went to the shops, Devon gave the bag to     │\u001b[1;38;2;0;200;0m \u001b[0m\u001b[1;38;2;0;200;0m Austin  \u001b[0m\u001b[1;38;2;0;200;0m \u001b[0m│\u001b[1;38;2;255;0;0m \u001b[0m\u001b[1;38;2;255;0;0m Devon   \u001b[0m\u001b[1;38;2;255;0;0m \u001b[0m│\u001b[1m \u001b[0m\u001b[1m1.886           \u001b[0m\u001b[1m \u001b[0m│\n",
       "│ When  Madison and  Brooklyn went to the shops, Brooklyn gave the bag │\u001b[1;38;2;0;200;0m \u001b[0m\u001b[1;38;2;0;200;0m Madison \u001b[0m\u001b[1;38;2;0;200;0m \u001b[0m│\u001b[1;38;2;255;0;0m \u001b[0m\u001b[1;38;2;255;0;0m Brooklyn\u001b[0m\u001b[1;38;2;255;0;0m \u001b[0m│\u001b[1m \u001b[0m\u001b[1m7.015           \u001b[0m\u001b[1m \u001b[0m│\n",
       "│ to                                                                   │\u001b[1;38;2;0;200;0m           \u001b[0m│\u001b[1;38;2;255;0;0m           \u001b[0m│\u001b[1m                  \u001b[0m│\n",
       "│ When  Madison and  Brooklyn went to the shops, Madison gave the bag  │\u001b[1;38;2;0;200;0m \u001b[0m\u001b[1;38;2;0;200;0m Brooklyn\u001b[0m\u001b[1;38;2;0;200;0m \u001b[0m│\u001b[1;38;2;255;0;0m \u001b[0m\u001b[1;38;2;255;0;0m Madison \u001b[0m\u001b[1;38;2;255;0;0m \u001b[0m│\u001b[1m \u001b[0m\u001b[1m1.622           \u001b[0m\u001b[1m \u001b[0m│\n",
       "│ to                                                                   │\u001b[1;38;2;0;200;0m           \u001b[0m│\u001b[1;38;2;255;0;0m           \u001b[0m│\u001b[1m                  \u001b[0m│\n",
       "│ When  Brooklyn and  Madison went to the shops, Madison gave the bag  │\u001b[1;38;2;0;200;0m \u001b[0m\u001b[1;38;2;0;200;0m Brooklyn\u001b[0m\u001b[1;38;2;0;200;0m \u001b[0m│\u001b[1;38;2;255;0;0m \u001b[0m\u001b[1;38;2;255;0;0m Madison \u001b[0m\u001b[1;38;2;255;0;0m \u001b[0m│\u001b[1m \u001b[0m\u001b[1m-1.882          \u001b[0m\u001b[1m \u001b[0m│\n",
       "│ to                                                                   │\u001b[1;38;2;0;200;0m           \u001b[0m│\u001b[1;38;2;255;0;0m           \u001b[0m│\u001b[1m                  \u001b[0m│\n",
       "│ When  Brooklyn and  Madison went to the shops, Brooklyn gave the bag │\u001b[1;38;2;0;200;0m \u001b[0m\u001b[1;38;2;0;200;0m Madison \u001b[0m\u001b[1;38;2;0;200;0m \u001b[0m│\u001b[1;38;2;255;0;0m \u001b[0m\u001b[1;38;2;255;0;0m Brooklyn\u001b[0m\u001b[1;38;2;255;0;0m \u001b[0m│\u001b[1m \u001b[0m\u001b[1m4.713           \u001b[0m\u001b[1m \u001b[0m│\n",
       "│ to                                                                   │\u001b[1;38;2;0;200;0m           \u001b[0m│\u001b[1;38;2;255;0;0m           \u001b[0m│\u001b[1m                  \u001b[0m│\n",
       "└──────────────────────────────────────────────────────────────────────┴───────────┴───────────┴──────────────────┘\n"
      ]
     },
     "metadata": {},
     "output_type": "display_data"
    }
   ],
   "source": [
    "make_table(prompts_n, ans_n, ans_toks_n, \"nouns\")\n",
    "make_table(prompts_pn, ans_pn, ans_toks_pn, \"proper nouns\")\n",
    "make_table(prompts_rel, ans_rel, ans_toks_rel, \"Religious Names\")\n",
    "make_table(prompts_pl, ans_pl, ans_toks_pl, \"Place Names\")"
   ]
  },
  {
   "attachments": {},
   "cell_type": "markdown",
   "metadata": {},
   "source": [
    "Results look pretty bad across the board ... let's look at the top_k tokens to see "
   ]
  },
  {
   "cell_type": "code",
   "execution_count": null,
   "metadata": {},
   "outputs": [],
   "source": [
    "\n"
   ]
  },
  {
   "cell_type": "code",
   "execution_count": 141,
   "metadata": {},
   "outputs": [],
   "source": [
    "def get_top_preds(prompt, answer, top_n):\n",
    "    prompt_str_toks = model.to_str_tokens(prompt)\n",
    "    answer_str_toks = model.to_str_tokens(answer)\n",
    "    both_str_toks = model.to_str_tokens(prompt + answer)\n",
    "    print('tokenized prompt: ', prompt_str_toks)\n",
    "    print('tokenized answer: ', answer_str_toks)\n",
    "    #print('tokenized total: ', both_str_toks)\n",
    "    prompt_len = len(prompt_str_toks)\n",
    "    answer_len = len(answer_str_toks)\n",
    "    logits = model(prompt + answer) #logits for full sentence \n",
    "    ## loop over the answer tokens\n",
    "    for idx in range(prompt_len, prompt_len + answer_len):\n",
    "        print(\"Logits for token:\", answer_str_toks[idx - prompt_len])\n",
    "        # get prediction of next token from the token index before idx\n",
    "        token_logits = logits[0, idx - 1]\n",
    "        probs = t.nn.functional.softmax(token_logits, dim = -1)\n",
    "        # sort the probabilities in descending order \n",
    "        vals, ids = token_logits.sort(descending = True)\n",
    "        for i in range(top_n):\n",
    "            print(f\"Top {i}th logit. Logit = {vals[i]}, prob = {probs[ids[i]].item():.2%}, token = {model.tokenizer.decode(ids[i])}\")"
   ]
  },
  {
   "cell_type": "code",
   "execution_count": null,
   "metadata": {},
   "outputs": [],
   "source": []
  },
  {
   "cell_type": "code",
   "execution_count": 148,
   "metadata": {},
   "outputs": [
    {
     "name": "stdout",
     "output_type": "stream",
     "text": [
      "tensor([0.2637, 0.1414, 0.0587, 0.0267, 0.0259]) tensor([1.5437e-05, 1.6269e-05, 3.5443e-07,  ..., 1.0786e-07, 6.0058e-07,\n",
      "        1.7738e-05])\n",
      "[' the', ' ', ' statue', ' them', ' a']\n",
      "tokenized prompt:  ['<|endoftext|>', 'When', ' ', ' goose', ' and', ' ', ' statue', ' went', ' to', ' the', ' shops', ',', ' goose', ' gave', ' the', ' bag', ' to']\n",
      "tokenized answer:  ['<|endoftext|>', ' statue']\n",
      "Logits for token: <|endoftext|>\n",
      "Top 0th logit. Logit = 14.341024398803711, prob = 26.37%, token =  the\n",
      "Top 1th logit. Logit = 13.71792221069336, prob = 14.14%, token =  \n",
      "Top 2th logit. Logit = 12.838592529296875, prob = 5.87%, token =  statue\n",
      "Top 3th logit. Logit = 12.051135063171387, prob = 2.67%, token =  them\n",
      "Top 4th logit. Logit = 12.022403717041016, prob = 2.59%, token =  a\n",
      "Logits for token:  statue\n",
      "Top 0th logit. Logit = 16.110246658325195, prob = 31.59%, token = .\n",
      "Top 1th logit. Logit = 15.645147323608398, prob = 19.84%, token = ,\n",
      "Top 2th logit. Logit = 15.59281063079834, prob = 18.83%, token =  and\n",
      "Top 3th logit. Logit = 13.1846284866333, prob = 1.69%, token =  so\n",
      "Top 4th logit. Logit = 13.005470275878906, prob = 1.42%, token =  to\n"
     ]
    }
   ],
   "source": [
    "sample_prompt = prompts_n[5]\n",
    "sample_logits = model(sample_prompt)\n",
    "sample_probs = t.softmax(sample_logits[0, -1], dim = -1)\n",
    "vals, ids = t.topk(sample_probs,5)\n",
    "print(vals, sample_probs)\n",
    "print([model.tokenizer.decode(ids[j]) for j in range(len(ids))])\n",
    "\n",
    "get_top_preds(prompts_n[5], ans_n[5][0], 5)"
   ]
  },
  {
   "cell_type": "code",
   "execution_count": null,
   "metadata": {},
   "outputs": [],
   "source": []
  }
 ],
 "metadata": {
  "kernelspec": {
   "display_name": "torch-gpu",
   "language": "python",
   "name": "python3"
  },
  "language_info": {
   "codemirror_mode": {
    "name": "ipython",
    "version": 3
   },
   "file_extension": ".py",
   "mimetype": "text/x-python",
   "name": "python",
   "nbconvert_exporter": "python",
   "pygments_lexer": "ipython3",
   "version": "3.10.9"
  },
  "orig_nbformat": 4,
  "vscode": {
   "interpreter": {
    "hash": "6e851e82dedee55c73100bfbe6682b3cabddc188516229e1e8f6342cda6eae37"
   }
  }
 },
 "nbformat": 4,
 "nbformat_minor": 2
}
