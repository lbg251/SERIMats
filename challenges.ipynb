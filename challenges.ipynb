{
 "cells": [
  {
   "cell_type": "code",
   "execution_count": null,
   "metadata": {},
   "outputs": [],
   "source": []
  },
  {
   "attachments": {},
   "cell_type": "markdown",
   "metadata": {},
   "source": [
    "- Mech Interp Challenge 6:\n",
    "The residual stream has a deeply linear structure. 3 Every layer performs an arbitrary linear transformation to \"read in\" information from the residual stream at the start, 4 and performs another arbitrary linear transformation before adding to \"write\" its output back into the residual stream. This linear, additive structure of the residual stream has a lot of important implications. One basic consequence is that the residual stream doesn't have a \"privileged basis\"; we could rotate it by rotating all the matrices interacting with it, without changing model behavior.\n",
    "This paragraph from A Mathematical Framework argues (fairly convincingly IMO) that the residual stream does not have a privileged basis - there's no inherent meaning to the entries of the stream as floating points (in the standard basis), vs any rotated basis. (also known as not being axis-aligned)\n",
    "Unfortunately, this is false - certain dimensions of the residual stream get much bigger than other ones, known as emergent features (which were first found because they make it harder to run models in int8 lol) - see picture attached and my thread. A follow-up Anthropic paper explored why\n",
    "\n",
    "Q1. Satisfy yourself that you understand the argument for why it should be a privileged basis\n",
    "\n",
    "Q2. Go and find these features in models yourself. (this is pretty easy, and occur in basically every model I've looked at - just do a line plot of the residual stream on some text. They get more pronounced in larger models)\n",
    "\n",
    "Q3. Brainstorm reasons why there are these emergent features\n",
    "    a. On a meta level, what mistake was the original paper making?\n",
    "    \n",
    "Q4. What function in the model do you think the emergent features play?"
   ]
  },
  {
   "attachments": {},
   "cell_type": "markdown",
   "metadata": {},
   "source": [
    "A1. interacting with the residual stream is done via a linear transformation which is invariant under a change of basis. So, "
   ]
  },
  {
   "cell_type": "code",
   "execution_count": null,
   "metadata": {},
   "outputs": [],
   "source": []
  },
  {
   "cell_type": "markdown",
   "metadata": {},
   "source": []
  }
 ],
 "metadata": {
  "kernelspec": {
   "display_name": "Python 3",
   "language": "python",
   "name": "python3"
  },
  "language_info": {
   "codemirror_mode": {
    "name": "ipython",
    "version": 3
   },
   "file_extension": ".py",
   "mimetype": "text/x-python",
   "name": "python",
   "nbconvert_exporter": "python",
   "pygments_lexer": "ipython3",
   "version": "3.9.6"
  },
  "orig_nbformat": 4,
  "vscode": {
   "interpreter": {
    "hash": "31f2aee4e71d21fbe5cf8b01ff0e069b9275f58929596ceb00d14d90e3e16cd6"
   }
  }
 },
 "nbformat": 4,
 "nbformat_minor": 2
}
